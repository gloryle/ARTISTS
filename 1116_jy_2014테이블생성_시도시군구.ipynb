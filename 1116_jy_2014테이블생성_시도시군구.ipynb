{
 "cells": [
  {
   "cell_type": "code",
   "execution_count": 1,
   "metadata": {},
   "outputs": [],
   "source": [
    "import pandas as pd\n",
    "import matplotlib.pyplot as plt\n",
    "import missingno as msno\n",
    "import numpy  as np\n",
    "import seaborn as sns\n",
    "%matplotlib inline\n",
    "\n",
    "path = './data/'\n",
    "pd.options.display.max_rows = 150\n",
    "pd.options.display.max_columns = 350\n",
    "plt.rc('font',family='Malgun Gothic')\n",
    "plt.rcParams['axes.unicode_minus'] = False"
   ]
  },
  {
   "cell_type": "code",
   "execution_count": 2,
   "metadata": {},
   "outputs": [],
   "source": [
    "sigungu15_01 = pd.read_csv(path+'sigungu_imp_10.csv', encoding='cp949')\n",
    "sigungu_wide = pd.read_csv(path+'sigungu_wide.csv',encoding='cp949')\n",
    "sido15_01 = pd.read_csv(path+'sido_imp_10.csv', encoding='cp949')\n",
    "sido_wide = pd.read_csv(path+'sido_wide.csv',encoding='cp949')"
   ]
  },
  {
   "cell_type": "code",
   "execution_count": 3,
   "metadata": {},
   "outputs": [],
   "source": [
    "sigungu_class = sigungu15_01.iloc[:,-7:]\n",
    "sido_class = sido15_01.iloc[:,-7:]"
   ]
  },
  {
   "cell_type": "code",
   "execution_count": 4,
   "metadata": {},
   "outputs": [],
   "source": [
    "sido_2014 = sido_wide.loc[sido_wide.년도==2014].reset_index().drop('index',axis=1, inplace=True)\n",
    "sigungu_2014 = sigungu_wide.loc[sigungu_wide.년도==2014].reset_index().drop('index',axis=1)\n",
    "sigungu_2014.drop([212,227,201,200], inplace=True) #연기군, 청원군, 제주시, 서귀포시 없앰\n",
    "sigungu_2014.reset_index(inplace=True)\n",
    "sigungu_2014.drop('index',axis=1, inplace=True)"
   ]
  },
  {
   "cell_type": "code",
   "execution_count": 5,
   "metadata": {
    "scrolled": true
   },
   "outputs": [
    {
     "data": {
      "text/plain": [
       "(17, 7)"
      ]
     },
     "execution_count": 5,
     "metadata": {},
     "output_type": "execute_result"
    }
   ],
   "source": [
    "sido_2014_y = pd.concat([sido_2014, sido_class], axis=1)\n",
    "sido_2014_y.shape"
   ]
  },
  {
   "cell_type": "code",
   "execution_count": 6,
   "metadata": {},
   "outputs": [
    {
     "data": {
      "text/plain": [
       "(226, 311)"
      ]
     },
     "execution_count": 6,
     "metadata": {},
     "output_type": "execute_result"
    }
   ],
   "source": [
    "sigungu_2014_y = pd.concat([sigungu_2014, sigungu_class], axis=1)\n",
    "sigungu_2014_y.shape"
   ]
  },
  {
   "cell_type": "code",
   "execution_count": 11,
   "metadata": {},
   "outputs": [],
   "source": [
    "sido_2014_y.to_csv(path + '시도별지역안전지표_2014.csv', encoding='cp949', index=False)\n",
    "sigungu_2014_y.to_csv(path + '시군구별지역안전지표_2014.csv', encoding='cp949', index=False)"
   ]
  }
 ],
 "metadata": {
  "kernelspec": {
   "display_name": "Python 3",
   "language": "python",
   "name": "python3"
  },
  "language_info": {
   "codemirror_mode": {
    "name": "ipython",
    "version": 3
   },
   "file_extension": ".py",
   "mimetype": "text/x-python",
   "name": "python",
   "nbconvert_exporter": "python",
   "pygments_lexer": "ipython3",
   "version": "3.6.4"
  }
 },
 "nbformat": 4,
 "nbformat_minor": 2
}
