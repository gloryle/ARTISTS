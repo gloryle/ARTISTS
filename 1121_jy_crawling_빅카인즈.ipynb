{
 "cells": [
  {
   "cell_type": "markdown",
   "metadata": {},
   "source": [
    "# 빅카인드 웹크롤링"
   ]
  },
  {
   "cell_type": "code",
   "execution_count": 3,
   "metadata": {},
   "outputs": [],
   "source": [
    "from selenium import webdriver\n",
    "from selenium.webdriver.common.keys import Keys\n",
    "\n",
    "\n",
    "driver=webdriver.Chrome('C:/chromedriver')\n",
    "driver.get('https://www.bigkinds.or.kr/')\n",
    "driver.find_element_by_xpath('//*[@id=\"contents\"]/div[3]/div/div[2]/div/div[2]/button').click()\n",
    "driver.implicitly_wait(3)\n"
   ]
  },
  {
   "cell_type": "markdown",
   "metadata": {},
   "source": [
    "### 로그인 과정"
   ]
  },
  {
   "cell_type": "code",
   "execution_count": 4,
   "metadata": {},
   "outputs": [],
   "source": [
    "driver.find_element_by_xpath('//*[@id=\"app-top-navbar\"]/ul/li[1]/a').click()\n",
    "log_id = driver.find_element_by_id('login-user-id')\n",
    "log_id.send_keys('webcrawl04@gmail.com')\n",
    "\n",
    "log_pass = driver.find_element_by_id('login-user-password')\n",
    "log_pass.send_keys('950628!!')\n",
    "driver.find_element_by_id('login-btn').click()"
   ]
  },
  {
   "cell_type": "markdown",
   "metadata": {},
   "source": [
    "### 기간조정과정"
   ]
  },
  {
   "cell_type": "code",
   "execution_count": 3,
   "metadata": {},
   "outputs": [],
   "source": [
    "# driver.ActionChains(driver).send_keys(Keys.ESCAPE).perform()\n",
    "# driver.find_element_by_id('date-filter-btn').click()\n",
    "# begin_d = driver.find_element_by_id('search-begin-date')\n",
    "# begin_d.clear()\n",
    "# begin_d.send_keys('2015-01-01')\n",
    "# end_d = driver.find_element_by_id('search-end-date')\n",
    "# end_d.clear()\n",
    "# end_d.send_keys('2015-12-31')\n",
    "# driver.find_element_by_id('date-confirm-btn').click()"
   ]
  },
  {
   "cell_type": "markdown",
   "metadata": {},
   "source": [
    "### 검색어 입력과정"
   ]
  },
  {
   "cell_type": "code",
   "execution_count": null,
   "metadata": {},
   "outputs": [],
   "source": [
    "search = driver.find_element_by_id('total-search-key')\n",
    "search.send_keys('보행자사고')\n",
    "search.send_keys(Keys.RETURN)"
   ]
  },
  {
   "cell_type": "code",
   "execution_count": null,
   "metadata": {},
   "outputs": [],
   "source": [
    "pagenum = driver.find_elements_by_css_selector('a.page-link')[1:]\n",
    "pagenum"
   ]
  },
  {
   "cell_type": "code",
   "execution_count": null,
   "metadata": {
    "scrolled": false
   },
   "outputs": [],
   "source": [
    "n_data = []\n",
    "for i in pagenum:\n",
    "    print('success0')\n",
    "    i.click()\n",
    "    print('success1')\n",
    "    data= driver.find_elements_by_css_selector(\"div.news-item__body h4\")    \n",
    "    for r in data:\n",
    "        n_data.append(r.text)\n",
    "    elem1 = driver.find_element_by_tag_name('body')\n",
    "    print('success2')\n",
    "    elem1.send_keys(Keys.PAGE_DOWN)\n",
    "    driver.implicitly_wait(4)"
   ]
  },
  {
   "cell_type": "code",
   "execution_count": 10,
   "metadata": {},
   "outputs": [
    {
     "data": {
      "text/plain": [
       "['대전서 1t 트럭 보행자 들이받아',\n",
       " '[국민의 기업] 교통약자 배려하는 ‘도로 위의 존중문화’ 조성에 앞장',\n",
       " '[목요광장] 교통사고 유발하는 상시우회전, 이젠 바꾸자',\n",
       " '“왜 쓰레기 태워” 흉기로 위협한 40대 징역 1년 6월',\n",
       " \"충주경찰서, '어린이 등굣길 교통안전 캠페인' 실시\",\n",
       " '이제 보행자에게 양보하세요…‘사람이 보이면 일단 멈춤!’',\n",
       " '충주경찰서, 어린이 등굣길 교통안전 캠페인 실시',\n",
       " \"충주경찰서 '어린이 등굣길 교통안전 캠페인' 실시\",\n",
       " '사고 다발 ‘교차로’ 차량 인도 돌진 ‘속수무책’',\n",
       " \"'윤창호 비극' 해운대서 또 대낮 음주운전 사고\",\n",
       " '대전서 1t 트럭 보행자 들이받아',\n",
       " '[국민의 기업] 교통약자 배려하는 ‘도로 위의 존중문화’ 조성에 앞장',\n",
       " '[목요광장] 교통사고 유발하는 상시우회전, 이젠 바꾸자',\n",
       " '“왜 쓰레기 태워” 흉기로 위협한 40대 징역 1년 6월',\n",
       " \"충주경찰서, '어린이 등굣길 교통안전 캠페인' 실시\",\n",
       " '이제 보행자에게 양보하세요…‘사람이 보이면 일단 멈춤!’',\n",
       " '충주경찰서, 어린이 등굣길 교통안전 캠페인 실시',\n",
       " \"충주경찰서 '어린이 등굣길 교통안전 캠페인' 실시\",\n",
       " '사고 다발 ‘교차로’ 차량 인도 돌진 ‘속수무책’',\n",
       " \"'윤창호 비극' 해운대서 또 대낮 음주운전 사고\",\n",
       " '대전서 1t 트럭 보행자 들이받아',\n",
       " '[국민의 기업] 교통약자 배려하는 ‘도로 위의 존중문화’ 조성에 앞장',\n",
       " '[목요광장] 교통사고 유발하는 상시우회전, 이젠 바꾸자',\n",
       " '“왜 쓰레기 태워” 흉기로 위협한 40대 징역 1년 6월',\n",
       " \"충주경찰서, '어린이 등굣길 교통안전 캠페인' 실시\",\n",
       " '이제 보행자에게 양보하세요…‘사람이 보이면 일단 멈춤!’',\n",
       " '충주경찰서, 어린이 등굣길 교통안전 캠페인 실시',\n",
       " \"충주경찰서 '어린이 등굣길 교통안전 캠페인' 실시\",\n",
       " '사고 다발 ‘교차로’ 차량 인도 돌진 ‘속수무책’',\n",
       " \"'윤창호 비극' 해운대서 또 대낮 음주운전 사고\"]"
      ]
     },
     "execution_count": 10,
     "metadata": {},
     "output_type": "execute_result"
    }
   ],
   "source": [
    "n_data"
   ]
  },
  {
   "cell_type": "code",
   "execution_count": null,
   "metadata": {},
   "outputs": [],
   "source": [
    "# 날짜 지정\n",
    "cal_list=[[6,1,6,6,1],[5,1,2,5,3],[4,1,4,5,6],[3,1,7,6,1],\n",
    "          [2,1,2,5,4],[1,1,5,5,7]]\n",
    "news_list=[[],[],[],[],[],[]]\n",
    "for mon,calen in enumerate(cal_list):\n",
    "    driver.find_element_by_id(\"btnCalendar\").click()\n",
    "    for i in range(calen[0]):\n",
    "        driver.find_element_by_css_selector(\"button.b_calfnc_prev\").click()\n",
    "    driver.find_element_by_css_selector(\n",
    "        f\"#schedule tr:nth-of-type({calen[1]}) > td:nth-of-type({calen[2]}\").click()\n",
    "    try:\n",
    "        driver.find_element_by_css_selector(\"#schedule\").send_keys(Keys.ENTER)\n",
    "    except:\n",
    "        pass\n",
    "    driver.find_element_by_id(\"btnCalendar2\").click()\n",
    "    for i in range(calen[0]):\n",
    "        driver.find_element_by_css_selector(\"#schedule2 button.b_calfnc_prev i.icn\")\\\n",
    "        .click()\n",
    "    driver.find_element_by_css_selector(\n",
    "        f\"#schedule2 tr:nth-of-type({calen[3]}) > td:nth-of-type({calen[4]})\").click()\n",
    "    driver.find_element_by_css_selector(\"#container ul.psr_sort li:nth-of-type(2) > a\").click()\n",
    "    news=driver.find_elements_by_css_selector(\"ul.psearch_result_list p.psil_txt\")\n",
    "    for news_data in news:\n",
    "        news_list[mon].append(news_data.text)"
   ]
  },
  {
   "cell_type": "code",
   "execution_count": null,
   "metadata": {},
   "outputs": [],
   "source": [
    "sbs_news={}\n",
    "for i,j in enumerate(range(3,9)):\n",
    "    sbs_news[f'{j}월']=news_list[i]\n",
    "    \n",
    "sbs_news\n",
    "    "
   ]
  },
  {
   "cell_type": "markdown",
   "metadata": {},
   "source": [
    "## MBC 기사 가져오기\n"
   ]
  },
  {
   "cell_type": "code",
   "execution_count": null,
   "metadata": {},
   "outputs": [],
   "source": [
    "from selenium import webdriver\n",
    "from selenium.webdriver.common.keys import Keys\n",
    "\n",
    "\n",
    "driver=webdriver.Chrome('C:/Users/COM/Downloads/chromedriver')\n",
    "driver.get('http://imnews.imbc.com/index_pc.html')\n",
    "\n",
    "inp=driver.find_element_by_id(\"kwd\")\n",
    "inp.send_keys('일본')\n",
    "inp.send_keys(Keys.RETURN)"
   ]
  },
  {
   "cell_type": "code",
   "execution_count": null,
   "metadata": {
    "scrolled": true
   },
   "outputs": [],
   "source": [
    "# from selenium.webdriver.support.ui import Select\n",
    "# select=Select(driver.find_element_by_css_selector('select.ui-datepicker-month'))\n",
    "# 날짜 지정\n",
    "cal_list=[[3,1,6,6,1],[4,1,2,5,3],[5,1,4,5,6],[6,1,7,6,1],\n",
    "          [7,1,2,5,4],[8,1,5,5,7]]\n",
    "new_links={}\n",
    "\n",
    "for mon,calen in enumerate(cal_list):\n",
    "    #시작일 달력 클릭\n",
    "    driver.find_element_by_css_selector(\"div.sr_min_date p\").click()\n",
    "    try:\n",
    "        driver.find_element_by_css_selector(\"select.ui-datepicker-month\").click()\n",
    "    except:\n",
    "        pass\n",
    "    driver.implicitly_wait(3)\n",
    "    #월 선택\n",
    "    driver.find_element_by_css_selector(f\"select.ui-datepicker-month >\\\n",
    "    option:nth-of-type({calen[0]})\").click()\n",
    "    #시작일 선택\n",
    "    driver.find_element_by_css_selector(f\"#ui-datepicker-div \\\n",
    "    tr:nth-of-type({calen[1]}) > td:nth-of-type({calen[2]}\").click()\n",
    "    #종료일 달력 클릭\n",
    "    driver.find_element_by_css_selector(\"div.sr_max_date p\").click()\n",
    "    try:\n",
    "        driver.find_element_by_css_selector(\"select.ui-datepicker-month\").click()\n",
    "    except:\n",
    "        pass\n",
    "    driver.find_element_by_css_selector(f\"select.ui-datepicker-month >\\\n",
    "    option:nth-of-type({calen[0]})\").click()\n",
    "    driver.find_element_by_css_selector(f\"#ui-datepicker-div \\\n",
    "    tr:nth-of-type({calen[3]}) > td:nth-of-type({calen[4]}\").click()\n",
    "    driver.find_element_by_id('rSort').click()\n",
    "    news=driver.find_elements_by_css_selector(\"#middle ul.searchresult_list li a\")\n",
    "    news_lin=[]\n",
    "    for n in news:\n",
    "        news_lin.append(n.get_attribute('href'))\n",
    "        new_links[f'{mon+3}월']=news_lin\n"
   ]
  },
  {
   "cell_type": "code",
   "execution_count": null,
   "metadata": {
    "scrolled": true
   },
   "outputs": [],
   "source": [
    "## webcrawl04\n",
    "## 950628!!\n",
    "new_links"
   ]
  },
  {
   "cell_type": "markdown",
   "metadata": {},
   "source": [
    "## 자연어 처리"
   ]
  },
  {
   "cell_type": "code",
   "execution_count": null,
   "metadata": {},
   "outputs": [],
   "source": [
    "import pandas as pd\n",
    "import konlpy\n",
    "from apyori import apriori\n",
    "from itertools import chain\n",
    "sbs=pd.DataFrame(sbs_news)\n",
    "komoran=konlpy.tag.Komoran()\n",
    "\n",
    "sbs_8=[]\n",
    "for i,j in enumerate(sbs['8월']):\n",
    "    words=(list(filter(lambda word: len(word)>1,\n",
    "                       komoran.nouns('%r'%j))))\n",
    "    sbs_8.append(words)\n",
    "\n",
    "pd.DataFrame(sbs_8).to_csv('sbs_8.csv', encoding='utf-8', index=False)"
   ]
  },
  {
   "cell_type": "code",
   "execution_count": null,
   "metadata": {
    "scrolled": true
   },
   "outputs": [],
   "source": [
    "import pandas as pd\n",
    "import konlpy\n",
    "from apyori import apriori\n",
    "import csv\n",
    "with open('sbs_4.csv', 'r', encoding='utf-8') as cf:\n",
    "    sbs_4_1=[]\n",
    "    r=csv.reader(cf)\n",
    "    for row in r:\n",
    "        sbs_4_1.append(row)\n",
    "rules=apriori(sbs_4_1, min_support=0.3, min_confidence=0.3)\n",
    "result=list(rules)\n",
    "result_df=pd.DataFrame(None, columns=['lhs','rhs','support','confidence','lift'])\n",
    "index=0\n",
    "for row in result:\n",
    "    support=row[1]\n",
    "    ordered_stat=row[2]\n",
    "    for ordered_item in ordered_stat:\n",
    "        lhs=' '.join(x.strip() for x in ordered_item[0])\n",
    "        rhs=' '.join(x.strip() for x in ordered_item[1])\n",
    "        confidence=ordered_item[2]\n",
    "        lift=ordered_item[3]\n",
    "        result_df.loc[index]=[lhs,rhs,support,confidence,lift]\n",
    "        index=index+1\n",
    "result_df.sort_values('lift',ascending=False)"
   ]
  },
  {
   "cell_type": "code",
   "execution_count": null,
   "metadata": {
    "scrolled": true
   },
   "outputs": [],
   "source": [
    "import pandas as pd\n",
    "import konlpy\n",
    "from apyori import apriori\n",
    "import csv\n",
    "with open('sbs_8.csv', 'r', encoding='utf-8') as cf:\n",
    "    sbs_8_1=[]\n",
    "    r=csv.reader(cf)\n",
    "    for row in r:\n",
    "        sbs_8_1.append(row)\n",
    "rules=apriori(sbs_8_1, min_support=0.3, min_confidence=0.3)\n",
    "result=list(rules)\n",
    "result_df=pd.DataFrame(None, columns=['lhs','rhs','support','confidence','lift'])\n",
    "index=0\n",
    "for row in result:\n",
    "    support=row[1]\n",
    "    ordered_stat=row[2]\n",
    "    for ordered_item in ordered_stat:\n",
    "        lhs=' '.join(x.strip() for x in ordered_item[0])\n",
    "        rhs=' '.join(x.strip() for x in ordered_item[1])\n",
    "        confidence=ordered_item[2]\n",
    "        lift=ordered_item[3]\n",
    "        result_df.loc[index]=[lhs,rhs,support,confidence,lift]\n",
    "        index=index+1\n",
    "result_df.sort_values('lift',ascending=False)"
   ]
  },
  {
   "cell_type": "code",
   "execution_count": null,
   "metadata": {},
   "outputs": [],
   "source": [
    "result_df.loc[(result_df.lhs.str.contains('일본'))&\n",
    "             (result_df.rhs=='규제')].sort_values(by=['lift'],\n",
    "                                               ascending=False)"
   ]
  },
  {
   "cell_type": "code",
   "execution_count": null,
   "metadata": {},
   "outputs": [],
   "source": []
  }
 ],
 "metadata": {
  "kernelspec": {
   "display_name": "Python 3",
   "language": "python",
   "name": "python3"
  },
  "language_info": {
   "codemirror_mode": {
    "name": "ipython",
    "version": 3
   },
   "file_extension": ".py",
   "mimetype": "text/x-python",
   "name": "python",
   "nbconvert_exporter": "python",
   "pygments_lexer": "ipython3",
   "version": "3.6.4"
  }
 },
 "nbformat": 4,
 "nbformat_minor": 2
}
