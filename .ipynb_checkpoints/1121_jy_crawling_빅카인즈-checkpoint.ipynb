{
 "cells": [
  {
   "cell_type": "markdown",
   "metadata": {},
   "source": [
    "## MBC 기사 가져오기\n"
   ]
  },
  {
   "cell_type": "code",
   "execution_count": null,
   "metadata": {},
   "outputs": [],
   "source": [
    "from selenium import webdriver\n",
    "from selenium.webdriver.common.keys import Keys\n",
    "\n",
    "\n",
    "driver=webdriver.Chrome('C:/Users/COM/Downloads/chromedriver')\n",
    "driver.get('http://imnews.imbc.com/index_pc.html')\n",
    "driver.implicitly_wait(3)\n",
    "    # inp=driver.find_element_by_xpath(\"//input[@name='query'][@type='text']\")\n",
    "inp=driver.find_element_by_id(\"kwd\")\n",
    "inp.send_keys('보행자사고')\n",
    "inp.send_keys(Keys.RETURN)"
   ]
  },
  {
   "cell_type": "code",
   "execution_count": null,
   "metadata": {},
   "outputs": [],
   "source": [
    "##날짜넣는 과정\n",
    "\n",
    "s_year = driver.find_element_by_id(\"sr_min_date\")\n",
    "s_year.send_keys('20150101')\n",
    "e_year = driver.find_element_by_id(\"sr_max_date\")\n",
    "e_year.send_keys('20151231')\n",
    "driver.find_element_by_id('detail_btn_confirm').click()\n",
    "\n",
    "for i in range(10):\n",
    "    driver.find_element_by_class_name(\"sub\").click()"
   ]
  },
  {
   "cell_type": "code",
   "execution_count": null,
   "metadata": {},
   "outputs": [],
   "source": [
    "# driver.find_element_by_id(\"btnCalendar\").click()\n",
    "# driver.find_element_by_id(\"selectYear\").click()\n",
    "# driver.find_element_by_xpath(\"//*[@id='selectYear']/option[5]\").click()\n",
    "# driver.find_element_by_id(\"selectMonth\").click()\n",
    "# driver.find_element_by_xpath(\"//*[@id='selectMonth']/option[1]\").click()"
   ]
  },
  {
   "cell_type": "code",
   "execution_count": null,
   "metadata": {
    "scrolled": true
   },
   "outputs": [],
   "source": [
    "n_data = []\n",
    "data= driver.find_element_by_xpath('//*[@id=\"middle\"]/div/div[2]/div[2]/ul/li[1]/a/span[2]/strong')\n",
    "for r in data:\n",
    "    n_data.append(r.text)\n",
    "time.sleep(0.1)\n",
    "driver.back()"
   ]
  },
  {
   "cell_type": "markdown",
   "metadata": {},
   "source": [
    "# 빅카인드 웹크롤링"
   ]
  },
  {
   "cell_type": "code",
   "execution_count": 1,
   "metadata": {},
   "outputs": [],
   "source": [
    "from selenium import webdriver\n",
    "from selenium.webdriver.common.keys import Keys\n",
    "\n",
    "\n",
    "driver=webdriver.Chrome('C:/Users/COM/Downloads/chromedriver')\n",
    "driver.get('https://www.bigkinds.or.kr/')\n",
    "driver.find_element_by_xpath('//*[@id=\"contents\"]/div[3]/div/div[2]/div/div[2]/button').click()\n",
    "driver.implicitly_wait(3)\n"
   ]
  },
  {
   "cell_type": "markdown",
   "metadata": {},
   "source": [
    "### 로그인 과정"
   ]
  },
  {
   "cell_type": "code",
   "execution_count": 2,
   "metadata": {},
   "outputs": [],
   "source": [
    "driver.find_element_by_xpath('//*[@id=\"app-top-navbar\"]/ul/li[1]/a').click()\n",
    "log_id = driver.find_element_by_id('login-user-id')\n",
    "log_id.send_keys('webcrawl04@gmail.com')\n",
    "\n",
    "log_pass = driver.find_element_by_id('login-user-password')\n",
    "log_pass.send_keys('950628!!')\n",
    "driver.find_element_by_id('login-btn').click()"
   ]
  },
  {
   "cell_type": "markdown",
   "metadata": {},
   "source": [
    "### 기간조정과정"
   ]
  },
  {
   "cell_type": "code",
   "execution_count": 3,
   "metadata": {},
   "outputs": [],
   "source": [
    "# driver.ActionChains(driver).send_keys(Keys.ESCAPE).perform()\n",
    "# driver.find_element_by_id('date-filter-btn').click()\n",
    "# begin_d = driver.find_element_by_id('search-begin-date')\n",
    "# begin_d.clear()\n",
    "# begin_d.send_keys('2015-01-01')\n",
    "# end_d = driver.find_element_by_id('search-end-date')\n",
    "# end_d.clear()\n",
    "# end_d.send_keys('2015-12-31')\n",
    "# driver.find_element_by_id('date-confirm-btn').click()"
   ]
  },
  {
   "cell_type": "markdown",
   "metadata": {},
   "source": [
    "### 검색어 입력과정"
   ]
  },
  {
   "cell_type": "code",
   "execution_count": 4,
   "metadata": {},
   "outputs": [],
   "source": [
    "search = driver.find_element_by_id('total-search-key')\n",
    "search.send_keys('보행자사고')\n",
    "search.send_keys(Keys.RETURN)"
   ]
  },
  {
   "cell_type": "code",
   "execution_count": 5,
   "metadata": {},
   "outputs": [
    {
     "data": {
      "text/plain": [
       "[<selenium.webdriver.remote.webelement.WebElement (session=\"44500778ea73f74bd29ca19f5e0d1d30\", element=\"1c8bfc26-e1ed-4a37-8bd6-016e73a5d18c\")>,\n",
       " <selenium.webdriver.remote.webelement.WebElement (session=\"44500778ea73f74bd29ca19f5e0d1d30\", element=\"ab39c693-7248-4572-813a-3a276b17acdd\")>,\n",
       " <selenium.webdriver.remote.webelement.WebElement (session=\"44500778ea73f74bd29ca19f5e0d1d30\", element=\"9654593c-a828-4ec0-ab89-d852ad60c0fb\")>,\n",
       " <selenium.webdriver.remote.webelement.WebElement (session=\"44500778ea73f74bd29ca19f5e0d1d30\", element=\"4cf4e82c-6c6b-4778-a7ee-c0227d0d188d\")>,\n",
       " <selenium.webdriver.remote.webelement.WebElement (session=\"44500778ea73f74bd29ca19f5e0d1d30\", element=\"923bcf1d-58a8-484a-8c70-1f14d3faabe4\")>,\n",
       " <selenium.webdriver.remote.webelement.WebElement (session=\"44500778ea73f74bd29ca19f5e0d1d30\", element=\"558823ea-c583-44ef-a9de-b9f5e5affce9\")>,\n",
       " <selenium.webdriver.remote.webelement.WebElement (session=\"44500778ea73f74bd29ca19f5e0d1d30\", element=\"8c973bee-7d92-4e17-a5f7-2513a96f59fd\")>,\n",
       " <selenium.webdriver.remote.webelement.WebElement (session=\"44500778ea73f74bd29ca19f5e0d1d30\", element=\"a9a978e0-c08f-4513-ae91-2d8927197bb8\")>,\n",
       " <selenium.webdriver.remote.webelement.WebElement (session=\"44500778ea73f74bd29ca19f5e0d1d30\", element=\"025f4336-929c-41e5-94a4-855af93a145d\")>]"
      ]
     },
     "execution_count": 5,
     "metadata": {},
     "output_type": "execute_result"
    }
   ],
   "source": [
    "a = driver.find_elements_by_css_selector('a.page-link')[1:]\n",
    "a"
   ]
  },
  {
   "cell_type": "code",
   "execution_count": 8,
   "metadata": {
    "scrolled": false
   },
   "outputs": [
    {
     "name": "stdout",
     "output_type": "stream",
     "text": [
      "success0\n"
     ]
    },
    {
     "ename": "StaleElementReferenceException",
     "evalue": "Message: stale element reference: element is not attached to the page document\n  (Session info: chrome=78.0.3904.108)\n",
     "output_type": "error",
     "traceback": [
      "\u001b[1;31m---------------------------------------------------------------------------\u001b[0m",
      "\u001b[1;31mStaleElementReferenceException\u001b[0m            Traceback (most recent call last)",
      "\u001b[1;32m<ipython-input-8-c5f4adfc0f27>\u001b[0m in \u001b[0;36m<module>\u001b[1;34m()\u001b[0m\n\u001b[0;32m      2\u001b[0m \u001b[1;32mfor\u001b[0m \u001b[0mi\u001b[0m \u001b[1;32min\u001b[0m \u001b[0ma\u001b[0m\u001b[1;33m:\u001b[0m\u001b[1;33m\u001b[0m\u001b[0m\n\u001b[0;32m      3\u001b[0m     \u001b[0mprint\u001b[0m\u001b[1;33m(\u001b[0m\u001b[1;34m'success0'\u001b[0m\u001b[1;33m)\u001b[0m\u001b[1;33m\u001b[0m\u001b[0m\n\u001b[1;32m----> 4\u001b[1;33m     \u001b[0mi\u001b[0m\u001b[1;33m.\u001b[0m\u001b[0mclick\u001b[0m\u001b[1;33m(\u001b[0m\u001b[1;33m)\u001b[0m\u001b[1;33m\u001b[0m\u001b[0m\n\u001b[0m\u001b[0;32m      5\u001b[0m     \u001b[0mprint\u001b[0m\u001b[1;33m(\u001b[0m\u001b[1;34m'success1'\u001b[0m\u001b[1;33m)\u001b[0m\u001b[1;33m\u001b[0m\u001b[0m\n\u001b[0;32m      6\u001b[0m     \u001b[0mdriver\u001b[0m\u001b[1;33m.\u001b[0m\u001b[0mimplicitly_wait\u001b[0m\u001b[1;33m(\u001b[0m\u001b[1;36m4\u001b[0m\u001b[1;33m)\u001b[0m\u001b[1;33m\u001b[0m\u001b[0m\n",
      "\u001b[1;32m~\\Anaconda3\\lib\\site-packages\\selenium\\webdriver\\remote\\webelement.py\u001b[0m in \u001b[0;36mclick\u001b[1;34m(self)\u001b[0m\n\u001b[0;32m     78\u001b[0m     \u001b[1;32mdef\u001b[0m \u001b[0mclick\u001b[0m\u001b[1;33m(\u001b[0m\u001b[0mself\u001b[0m\u001b[1;33m)\u001b[0m\u001b[1;33m:\u001b[0m\u001b[1;33m\u001b[0m\u001b[0m\n\u001b[0;32m     79\u001b[0m         \u001b[1;34m\"\"\"Clicks the element.\"\"\"\u001b[0m\u001b[1;33m\u001b[0m\u001b[0m\n\u001b[1;32m---> 80\u001b[1;33m         \u001b[0mself\u001b[0m\u001b[1;33m.\u001b[0m\u001b[0m_execute\u001b[0m\u001b[1;33m(\u001b[0m\u001b[0mCommand\u001b[0m\u001b[1;33m.\u001b[0m\u001b[0mCLICK_ELEMENT\u001b[0m\u001b[1;33m)\u001b[0m\u001b[1;33m\u001b[0m\u001b[0m\n\u001b[0m\u001b[0;32m     81\u001b[0m \u001b[1;33m\u001b[0m\u001b[0m\n\u001b[0;32m     82\u001b[0m     \u001b[1;32mdef\u001b[0m \u001b[0msubmit\u001b[0m\u001b[1;33m(\u001b[0m\u001b[0mself\u001b[0m\u001b[1;33m)\u001b[0m\u001b[1;33m:\u001b[0m\u001b[1;33m\u001b[0m\u001b[0m\n",
      "\u001b[1;32m~\\Anaconda3\\lib\\site-packages\\selenium\\webdriver\\remote\\webelement.py\u001b[0m in \u001b[0;36m_execute\u001b[1;34m(self, command, params)\u001b[0m\n\u001b[0;32m    631\u001b[0m             \u001b[0mparams\u001b[0m \u001b[1;33m=\u001b[0m \u001b[1;33m{\u001b[0m\u001b[1;33m}\u001b[0m\u001b[1;33m\u001b[0m\u001b[0m\n\u001b[0;32m    632\u001b[0m         \u001b[0mparams\u001b[0m\u001b[1;33m[\u001b[0m\u001b[1;34m'id'\u001b[0m\u001b[1;33m]\u001b[0m \u001b[1;33m=\u001b[0m \u001b[0mself\u001b[0m\u001b[1;33m.\u001b[0m\u001b[0m_id\u001b[0m\u001b[1;33m\u001b[0m\u001b[0m\n\u001b[1;32m--> 633\u001b[1;33m         \u001b[1;32mreturn\u001b[0m \u001b[0mself\u001b[0m\u001b[1;33m.\u001b[0m\u001b[0m_parent\u001b[0m\u001b[1;33m.\u001b[0m\u001b[0mexecute\u001b[0m\u001b[1;33m(\u001b[0m\u001b[0mcommand\u001b[0m\u001b[1;33m,\u001b[0m \u001b[0mparams\u001b[0m\u001b[1;33m)\u001b[0m\u001b[1;33m\u001b[0m\u001b[0m\n\u001b[0m\u001b[0;32m    634\u001b[0m \u001b[1;33m\u001b[0m\u001b[0m\n\u001b[0;32m    635\u001b[0m     \u001b[1;32mdef\u001b[0m \u001b[0mfind_element\u001b[0m\u001b[1;33m(\u001b[0m\u001b[0mself\u001b[0m\u001b[1;33m,\u001b[0m \u001b[0mby\u001b[0m\u001b[1;33m=\u001b[0m\u001b[0mBy\u001b[0m\u001b[1;33m.\u001b[0m\u001b[0mID\u001b[0m\u001b[1;33m,\u001b[0m \u001b[0mvalue\u001b[0m\u001b[1;33m=\u001b[0m\u001b[1;32mNone\u001b[0m\u001b[1;33m)\u001b[0m\u001b[1;33m:\u001b[0m\u001b[1;33m\u001b[0m\u001b[0m\n",
      "\u001b[1;32m~\\Anaconda3\\lib\\site-packages\\selenium\\webdriver\\remote\\webdriver.py\u001b[0m in \u001b[0;36mexecute\u001b[1;34m(self, driver_command, params)\u001b[0m\n\u001b[0;32m    319\u001b[0m         \u001b[0mresponse\u001b[0m \u001b[1;33m=\u001b[0m \u001b[0mself\u001b[0m\u001b[1;33m.\u001b[0m\u001b[0mcommand_executor\u001b[0m\u001b[1;33m.\u001b[0m\u001b[0mexecute\u001b[0m\u001b[1;33m(\u001b[0m\u001b[0mdriver_command\u001b[0m\u001b[1;33m,\u001b[0m \u001b[0mparams\u001b[0m\u001b[1;33m)\u001b[0m\u001b[1;33m\u001b[0m\u001b[0m\n\u001b[0;32m    320\u001b[0m         \u001b[1;32mif\u001b[0m \u001b[0mresponse\u001b[0m\u001b[1;33m:\u001b[0m\u001b[1;33m\u001b[0m\u001b[0m\n\u001b[1;32m--> 321\u001b[1;33m             \u001b[0mself\u001b[0m\u001b[1;33m.\u001b[0m\u001b[0merror_handler\u001b[0m\u001b[1;33m.\u001b[0m\u001b[0mcheck_response\u001b[0m\u001b[1;33m(\u001b[0m\u001b[0mresponse\u001b[0m\u001b[1;33m)\u001b[0m\u001b[1;33m\u001b[0m\u001b[0m\n\u001b[0m\u001b[0;32m    322\u001b[0m             response['value'] = self._unwrap_value(\n\u001b[0;32m    323\u001b[0m                 response.get('value', None))\n",
      "\u001b[1;32m~\\Anaconda3\\lib\\site-packages\\selenium\\webdriver\\remote\\errorhandler.py\u001b[0m in \u001b[0;36mcheck_response\u001b[1;34m(self, response)\u001b[0m\n\u001b[0;32m    240\u001b[0m                 \u001b[0malert_text\u001b[0m \u001b[1;33m=\u001b[0m \u001b[0mvalue\u001b[0m\u001b[1;33m[\u001b[0m\u001b[1;34m'alert'\u001b[0m\u001b[1;33m]\u001b[0m\u001b[1;33m.\u001b[0m\u001b[0mget\u001b[0m\u001b[1;33m(\u001b[0m\u001b[1;34m'text'\u001b[0m\u001b[1;33m)\u001b[0m\u001b[1;33m\u001b[0m\u001b[0m\n\u001b[0;32m    241\u001b[0m             \u001b[1;32mraise\u001b[0m \u001b[0mexception_class\u001b[0m\u001b[1;33m(\u001b[0m\u001b[0mmessage\u001b[0m\u001b[1;33m,\u001b[0m \u001b[0mscreen\u001b[0m\u001b[1;33m,\u001b[0m \u001b[0mstacktrace\u001b[0m\u001b[1;33m,\u001b[0m \u001b[0malert_text\u001b[0m\u001b[1;33m)\u001b[0m\u001b[1;33m\u001b[0m\u001b[0m\n\u001b[1;32m--> 242\u001b[1;33m         \u001b[1;32mraise\u001b[0m \u001b[0mexception_class\u001b[0m\u001b[1;33m(\u001b[0m\u001b[0mmessage\u001b[0m\u001b[1;33m,\u001b[0m \u001b[0mscreen\u001b[0m\u001b[1;33m,\u001b[0m \u001b[0mstacktrace\u001b[0m\u001b[1;33m)\u001b[0m\u001b[1;33m\u001b[0m\u001b[0m\n\u001b[0m\u001b[0;32m    243\u001b[0m \u001b[1;33m\u001b[0m\u001b[0m\n\u001b[0;32m    244\u001b[0m     \u001b[1;32mdef\u001b[0m \u001b[0m_value_or_default\u001b[0m\u001b[1;33m(\u001b[0m\u001b[0mself\u001b[0m\u001b[1;33m,\u001b[0m \u001b[0mobj\u001b[0m\u001b[1;33m,\u001b[0m \u001b[0mkey\u001b[0m\u001b[1;33m,\u001b[0m \u001b[0mdefault\u001b[0m\u001b[1;33m)\u001b[0m\u001b[1;33m:\u001b[0m\u001b[1;33m\u001b[0m\u001b[0m\n",
      "\u001b[1;31mStaleElementReferenceException\u001b[0m: Message: stale element reference: element is not attached to the page document\n  (Session info: chrome=78.0.3904.108)\n"
     ]
    }
   ],
   "source": [
    "n_data = []\n",
    "for i in a:\n",
    "    print('success0')\n",
    "    i.click()\n",
    "    print('success1')\n",
    "    data= driver.find_elements_by_css_selector(\"div.news-item__body h4\")    \n",
    "    for r in data:\n",
    "        n_data.append(r.text)\n",
    "    elem1 = driver.find_element_by_tag_name('body')\n",
    "    print('success2')\n",
    "    elem1.send_keys(Keys.PAGE_DOWN)\n",
    "    driver.implicitly_wait(4)"
   ]
  },
  {
   "cell_type": "code",
   "execution_count": null,
   "metadata": {},
   "outputs": [],
   "source": [
    "# 날짜 지정\n",
    "cal_list=[[6,1,6,6,1],[5,1,2,5,3],[4,1,4,5,6],[3,1,7,6,1],\n",
    "          [2,1,2,5,4],[1,1,5,5,7]]\n",
    "news_list=[[],[],[],[],[],[]]\n",
    "for mon,calen in enumerate(cal_list):\n",
    "    driver.find_element_by_id(\"btnCalendar\").click()\n",
    "    for i in range(calen[0]):\n",
    "        driver.find_element_by_css_selector(\"button.b_calfnc_prev\").click()\n",
    "    driver.find_element_by_css_selector(\n",
    "        f\"#schedule tr:nth-of-type({calen[1]}) > td:nth-of-type({calen[2]}\").click()\n",
    "    try:\n",
    "        driver.find_element_by_css_selector(\"#schedule\").send_keys(Keys.ENTER)\n",
    "    except:\n",
    "        pass\n",
    "    driver.find_element_by_id(\"btnCalendar2\").click()\n",
    "    for i in range(calen[0]):\n",
    "        driver.find_element_by_css_selector(\"#schedule2 button.b_calfnc_prev i.icn\")\\\n",
    "        .click()\n",
    "    driver.find_element_by_css_selector(\n",
    "        f\"#schedule2 tr:nth-of-type({calen[3]}) > td:nth-of-type({calen[4]})\").click()\n",
    "    driver.find_element_by_css_selector(\"#container ul.psr_sort li:nth-of-type(2) > a\").click()\n",
    "    news=driver.find_elements_by_css_selector(\"ul.psearch_result_list p.psil_txt\")\n",
    "    for news_data in news:\n",
    "        news_list[mon].append(news_data.text)"
   ]
  },
  {
   "cell_type": "code",
   "execution_count": null,
   "metadata": {},
   "outputs": [],
   "source": [
    "sbs_news={}\n",
    "for i,j in enumerate(range(3,9)):\n",
    "    sbs_news[f'{j}월']=news_list[i]\n",
    "    \n",
    "sbs_news\n",
    "    "
   ]
  },
  {
   "cell_type": "markdown",
   "metadata": {},
   "source": [
    "## MBC 기사 가져오기\n"
   ]
  },
  {
   "cell_type": "code",
   "execution_count": null,
   "metadata": {},
   "outputs": [],
   "source": [
    "from selenium import webdriver\n",
    "from selenium.webdriver.common.keys import Keys\n",
    "\n",
    "\n",
    "driver=webdriver.Chrome('C:/Users/COM/Downloads/chromedriver')\n",
    "driver.get('http://imnews.imbc.com/index_pc.html')\n",
    "\n",
    "inp=driver.find_element_by_id(\"kwd\")\n",
    "inp.send_keys('일본')\n",
    "inp.send_keys(Keys.RETURN)"
   ]
  },
  {
   "cell_type": "code",
   "execution_count": null,
   "metadata": {
    "scrolled": true
   },
   "outputs": [],
   "source": [
    "# from selenium.webdriver.support.ui import Select\n",
    "# select=Select(driver.find_element_by_css_selector('select.ui-datepicker-month'))\n",
    "# 날짜 지정\n",
    "cal_list=[[3,1,6,6,1],[4,1,2,5,3],[5,1,4,5,6],[6,1,7,6,1],\n",
    "          [7,1,2,5,4],[8,1,5,5,7]]\n",
    "new_links={}\n",
    "\n",
    "for mon,calen in enumerate(cal_list):\n",
    "    #시작일 달력 클릭\n",
    "    driver.find_element_by_css_selector(\"div.sr_min_date p\").click()\n",
    "    try:\n",
    "        driver.find_element_by_css_selector(\"select.ui-datepicker-month\").click()\n",
    "    except:\n",
    "        pass\n",
    "    driver.implicitly_wait(3)\n",
    "    #월 선택\n",
    "    driver.find_element_by_css_selector(f\"select.ui-datepicker-month >\\\n",
    "    option:nth-of-type({calen[0]})\").click()\n",
    "    #시작일 선택\n",
    "    driver.find_element_by_css_selector(f\"#ui-datepicker-div \\\n",
    "    tr:nth-of-type({calen[1]}) > td:nth-of-type({calen[2]}\").click()\n",
    "    #종료일 달력 클릭\n",
    "    driver.find_element_by_css_selector(\"div.sr_max_date p\").click()\n",
    "    try:\n",
    "        driver.find_element_by_css_selector(\"select.ui-datepicker-month\").click()\n",
    "    except:\n",
    "        pass\n",
    "    driver.find_element_by_css_selector(f\"select.ui-datepicker-month >\\\n",
    "    option:nth-of-type({calen[0]})\").click()\n",
    "    driver.find_element_by_css_selector(f\"#ui-datepicker-div \\\n",
    "    tr:nth-of-type({calen[3]}) > td:nth-of-type({calen[4]}\").click()\n",
    "    driver.find_element_by_id('rSort').click()\n",
    "    news=driver.find_elements_by_css_selector(\"#middle ul.searchresult_list li a\")\n",
    "    news_lin=[]\n",
    "    for n in news:\n",
    "        news_lin.append(n.get_attribute('href'))\n",
    "        new_links[f'{mon+3}월']=news_lin\n"
   ]
  },
  {
   "cell_type": "code",
   "execution_count": null,
   "metadata": {
    "scrolled": true
   },
   "outputs": [],
   "source": [
    "## webcrawl04\n",
    "## 950628!!\n",
    "new_links"
   ]
  },
  {
   "cell_type": "markdown",
   "metadata": {},
   "source": [
    "## 자연어 처리"
   ]
  },
  {
   "cell_type": "code",
   "execution_count": null,
   "metadata": {},
   "outputs": [],
   "source": [
    "import pandas as pd\n",
    "import konlpy\n",
    "from apyori import apriori\n",
    "from itertools import chain\n",
    "sbs=pd.DataFrame(sbs_news)\n",
    "komoran=konlpy.tag.Komoran()\n",
    "\n",
    "sbs_8=[]\n",
    "for i,j in enumerate(sbs['8월']):\n",
    "    words=(list(filter(lambda word: len(word)>1,\n",
    "                       komoran.nouns('%r'%j))))\n",
    "    sbs_8.append(words)\n",
    "\n",
    "pd.DataFrame(sbs_8).to_csv('sbs_8.csv', encoding='utf-8', index=False)"
   ]
  },
  {
   "cell_type": "code",
   "execution_count": null,
   "metadata": {
    "scrolled": true
   },
   "outputs": [],
   "source": [
    "import pandas as pd\n",
    "import konlpy\n",
    "from apyori import apriori\n",
    "import csv\n",
    "with open('sbs_4.csv', 'r', encoding='utf-8') as cf:\n",
    "    sbs_4_1=[]\n",
    "    r=csv.reader(cf)\n",
    "    for row in r:\n",
    "        sbs_4_1.append(row)\n",
    "rules=apriori(sbs_4_1, min_support=0.3, min_confidence=0.3)\n",
    "result=list(rules)\n",
    "result_df=pd.DataFrame(None, columns=['lhs','rhs','support','confidence','lift'])\n",
    "index=0\n",
    "for row in result:\n",
    "    support=row[1]\n",
    "    ordered_stat=row[2]\n",
    "    for ordered_item in ordered_stat:\n",
    "        lhs=' '.join(x.strip() for x in ordered_item[0])\n",
    "        rhs=' '.join(x.strip() for x in ordered_item[1])\n",
    "        confidence=ordered_item[2]\n",
    "        lift=ordered_item[3]\n",
    "        result_df.loc[index]=[lhs,rhs,support,confidence,lift]\n",
    "        index=index+1\n",
    "result_df.sort_values('lift',ascending=False)"
   ]
  },
  {
   "cell_type": "code",
   "execution_count": null,
   "metadata": {
    "scrolled": true
   },
   "outputs": [],
   "source": [
    "import pandas as pd\n",
    "import konlpy\n",
    "from apyori import apriori\n",
    "import csv\n",
    "with open('sbs_8.csv', 'r', encoding='utf-8') as cf:\n",
    "    sbs_8_1=[]\n",
    "    r=csv.reader(cf)\n",
    "    for row in r:\n",
    "        sbs_8_1.append(row)\n",
    "rules=apriori(sbs_8_1, min_support=0.3, min_confidence=0.3)\n",
    "result=list(rules)\n",
    "result_df=pd.DataFrame(None, columns=['lhs','rhs','support','confidence','lift'])\n",
    "index=0\n",
    "for row in result:\n",
    "    support=row[1]\n",
    "    ordered_stat=row[2]\n",
    "    for ordered_item in ordered_stat:\n",
    "        lhs=' '.join(x.strip() for x in ordered_item[0])\n",
    "        rhs=' '.join(x.strip() for x in ordered_item[1])\n",
    "        confidence=ordered_item[2]\n",
    "        lift=ordered_item[3]\n",
    "        result_df.loc[index]=[lhs,rhs,support,confidence,lift]\n",
    "        index=index+1\n",
    "result_df.sort_values('lift',ascending=False)"
   ]
  },
  {
   "cell_type": "code",
   "execution_count": null,
   "metadata": {},
   "outputs": [],
   "source": [
    "result_df.loc[(result_df.lhs.str.contains('일본'))&\n",
    "             (result_df.rhs=='규제')].sort_values(by=['lift'],\n",
    "                                               ascending=False)"
   ]
  },
  {
   "cell_type": "code",
   "execution_count": null,
   "metadata": {},
   "outputs": [],
   "source": []
  }
 ],
 "metadata": {
  "kernelspec": {
   "display_name": "Python 3",
   "language": "python",
   "name": "python3"
  },
  "language_info": {
   "codemirror_mode": {
    "name": "ipython",
    "version": 3
   },
   "file_extension": ".py",
   "mimetype": "text/x-python",
   "name": "python",
   "nbconvert_exporter": "python",
   "pygments_lexer": "ipython3",
   "version": "3.6.4"
  }
 },
 "nbformat": 4,
 "nbformat_minor": 2
}
