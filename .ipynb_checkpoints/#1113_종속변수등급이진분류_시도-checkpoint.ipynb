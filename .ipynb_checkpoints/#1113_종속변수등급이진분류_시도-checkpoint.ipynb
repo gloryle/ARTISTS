{
 "cells": [
  {
   "cell_type": "markdown",
   "metadata": {},
   "source": [
    "<pre>\n",
    "이 파일을 RunAll하면 결측치가 없는 163개의 독립변수와\n",
    "binary(0과1)로 구분된 7개의 종속변수가 있는 테이블이 만들어진다.\n",
    "[sido_imp_10.csv]\n",
    "</pre>"
   ]
  },
  {
   "cell_type": "code",
   "execution_count": 1,
   "metadata": {},
   "outputs": [],
   "source": [
    "import pandas as pd\n",
    "import missingno as msno\n",
    "import numpy  as np\n",
    "import matplotlib.pyplot as plt\n",
    "%matplotlib inline\n",
    "\n",
    "path = './data/'\n",
    "plt.rc('font',family='Malgun Gothic')\n",
    "plt.rcParams['axes.unicode_minus'] = False\n",
    "pd.options.display.max_columns = 350\n",
    "pd.options.display.max_rows = 999"
   ]
  },
  {
   "cell_type": "code",
   "execution_count": 2,
   "metadata": {},
   "outputs": [],
   "source": [
    "sido = pd.read_csv(path+'imp_시도별지역안전지표_2015.csv',encoding='cp949')"
   ]
  },
  {
   "cell_type": "code",
   "execution_count": 3,
   "metadata": {},
   "outputs": [],
   "source": [
    "sido.화재.replace([1,2,3,4,5],[0,0,0,1,1], inplace=True)\n",
    "sido.교통.replace([1,2,3,4,5],[0,0,0,1,1], inplace=True)\n",
    "sido.자연재해.replace([1,2,3,4,5],[0,0,0,1,1], inplace=True)\n",
    "sido.범죄.replace([1,2,3,4,5],[0,0,0,1,1], inplace=True)\n",
    "sido.안전사고.replace([1,2,3,4,5],[0,0,0,1,1], inplace=True)\n",
    "sido.자살.replace([1,2,3,4,5],[0,0,0,1,1], inplace=True)\n",
    "sido.감염병.replace([1,2,3,4,5],[0,0,0,1,1], inplace=True)"
   ]
  },
  {
   "cell_type": "code",
   "execution_count": 4,
   "metadata": {
    "scrolled": true
   },
   "outputs": [],
   "source": [
    "sido.to_csv(path+'sido_imp_10.csv',encoding='cp949',index=False)"
   ]
  }
 ],
 "metadata": {
  "kernelspec": {
   "display_name": "Python 3",
   "language": "python",
   "name": "python3"
  },
  "language_info": {
   "codemirror_mode": {
    "name": "ipython",
    "version": 3
   },
   "file_extension": ".py",
   "mimetype": "text/x-python",
   "name": "python",
   "nbconvert_exporter": "python",
   "pygments_lexer": "ipython3",
   "version": "3.6.4"
  }
 },
 "nbformat": 4,
 "nbformat_minor": 2
}
