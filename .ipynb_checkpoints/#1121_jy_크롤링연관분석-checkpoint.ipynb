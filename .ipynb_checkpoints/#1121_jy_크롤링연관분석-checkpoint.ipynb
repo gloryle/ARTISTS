{
 "cells": [
  {
   "cell_type": "code",
   "execution_count": 149,
   "metadata": {},
   "outputs": [],
   "source": [
    "import pandas as pd\n",
    "path = './data/'"
   ]
  },
  {
   "cell_type": "code",
   "execution_count": 150,
   "metadata": {},
   "outputs": [],
   "source": [
    "import csv\n",
    "with open(path+'basket.csv','r',encoding='cp949') as cf:\n",
    "    transactions=[]\n",
    "    r = csv.reader(cf)\n",
    "    for row in r:\n",
    "        transactions.append(row)"
   ]
  },
  {
   "cell_type": "code",
   "execution_count": 151,
   "metadata": {},
   "outputs": [
    {
     "data": {
      "text/plain": [
       "[['soju', 'coke', 'wine'],\n",
       " ['soju', 'orange', 'coke'],\n",
       " ['coke', 'beer', 'wine'],\n",
       " ['soju', 'coke', 'beer'],\n",
       " ['orange', 'wine', ''],\n",
       " ['beer', 'snack', ''],\n",
       " ['snack', 'orange', ''],\n",
       " ['snack', 'coke', 'soju']]"
      ]
     },
     "execution_count": 151,
     "metadata": {},
     "output_type": "execute_result"
    }
   ],
   "source": [
    "transactions #transaction : 리스트의 리스트형식"
   ]
  },
  {
   "cell_type": "code",
   "execution_count": 152,
   "metadata": {},
   "outputs": [],
   "source": [
    "from apyori import apriori\n",
    "rules = apriori(transactions, min_support=0.1, min_confidence=0.1)\n",
    "#지지도가 너무 작으면 연관분석에 많은 시간이 소요된다.\n",
    "results= list(rules)"
   ]
  },
  {
   "cell_type": "code",
   "execution_count": 158,
   "metadata": {},
   "outputs": [],
   "source": [
    "result_df = pd.DataFrame(None, columns=['lhs','rhs','support','confidence','lift'])\n",
    "index=0\n",
    "for result in results:\n",
    "    support = result[1]\n",
    "    ordered_statistic = result[2]\n",
    "    for item in ordered_statistic:\n",
    "        lhs = ' '.join(x.strip() for x in item[0])\n",
    "        rhs = ' '.join(x.strip() for x in item[1])\n",
    "        confidence = item[2]\n",
    "        lift = item[3]\n",
    "        result_df.loc[index] = [lhs, rhs, support, confidence, lift]\n",
    "        index +=1\n",
    "df.to_csv(path+'association_rule.csv', encoding='cp949', index=False)"
   ]
  },
  {
   "cell_type": "code",
   "execution_count": null,
   "metadata": {},
   "outputs": [],
   "source": []
  },
  {
   "cell_type": "code",
   "execution_count": null,
   "metadata": {},
   "outputs": [],
   "source": []
  }
 ],
 "metadata": {
  "kernelspec": {
   "display_name": "Python 3",
   "language": "python",
   "name": "python3"
  },
  "language_info": {
   "codemirror_mode": {
    "name": "ipython",
    "version": 3
   },
   "file_extension": ".py",
   "mimetype": "text/x-python",
   "name": "python",
   "nbconvert_exporter": "python",
   "pygments_lexer": "ipython3",
   "version": "3.6.4"
  }
 },
 "nbformat": 4,
 "nbformat_minor": 2
}
