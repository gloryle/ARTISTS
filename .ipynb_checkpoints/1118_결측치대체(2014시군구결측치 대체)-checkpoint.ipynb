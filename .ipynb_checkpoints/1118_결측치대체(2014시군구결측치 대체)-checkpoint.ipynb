{
 "cells": [
  {
   "cell_type": "code",
   "execution_count": 1,
   "metadata": {},
   "outputs": [],
   "source": [
    "import pandas as pd\n",
    "import missingno as msno\n",
    "import numpy  as np\n",
    "import matplotlib.pyplot as plt\n",
    "%matplotlib inline\n",
    "\n",
    "path = './data/'\n",
    "plt.rc('font',family='Malgun Gothic')\n",
    "plt.rcParams['axes.unicode_minus'] = False\n",
    "pd.options.display.max_columns = 350\n",
    "pd.options.display.max_rows = 999"
   ]
  },
  {
   "cell_type": "code",
   "execution_count": 2,
   "metadata": {},
   "outputs": [],
   "source": [
    "sigungu = pd.read_csv(path+'sigungu_wide.csv', encoding='cp949')\n",
    "sigungu_15 = pd.read_csv(path+'imp_시군구별지역안전지표_2015.csv', encoding='cp949')"
   ]
  },
  {
   "cell_type": "code",
   "execution_count": 3,
   "metadata": {
    "scrolled": true
   },
   "outputs": [],
   "source": [
    "sigungu_14 = sigungu.loc[sigungu['년도']==2014]"
   ]
  },
  {
   "cell_type": "code",
   "execution_count": 5,
   "metadata": {},
   "outputs": [
    {
     "ename": "KeyError",
     "evalue": "\"['2014_충청남도_연기군' '2014_충청북도_청원군' '2014_제주특별자치도_서귀포시' '2014_제주특별자치도_제주시'] not found in axis\"",
     "output_type": "error",
     "traceback": [
      "\u001b[1;31m---------------------------------------------------------------------------\u001b[0m",
      "\u001b[1;31mKeyError\u001b[0m                                  Traceback (most recent call last)",
      "\u001b[1;32m<ipython-input-5-2366076a1220>\u001b[0m in \u001b[0;36m<module>\u001b[1;34m()\u001b[0m\n\u001b[0;32m      7\u001b[0m \u001b[1;31m#제주시, 서귀포시, 연기군, 청원군행 삭제\u001b[0m\u001b[1;33m\u001b[0m\u001b[1;33m\u001b[0m\u001b[0m\n\u001b[0;32m      8\u001b[0m \u001b[0msigungu_14\u001b[0m\u001b[1;33m.\u001b[0m\u001b[0mset_index\u001b[0m\u001b[1;33m(\u001b[0m\u001b[0msigungu_14\u001b[0m\u001b[1;33m[\u001b[0m\u001b[1;34m'지역'\u001b[0m\u001b[1;33m]\u001b[0m\u001b[1;33m,\u001b[0m \u001b[0minplace\u001b[0m\u001b[1;33m=\u001b[0m\u001b[1;32mTrue\u001b[0m\u001b[1;33m)\u001b[0m\u001b[1;33m\u001b[0m\u001b[0m\n\u001b[1;32m----> 9\u001b[1;33m \u001b[0msigungu_14\u001b[0m\u001b[1;33m.\u001b[0m\u001b[0mdrop\u001b[0m\u001b[1;33m(\u001b[0m\u001b[1;33m[\u001b[0m\u001b[1;34m'2014_충청남도_연기군'\u001b[0m\u001b[1;33m,\u001b[0m\u001b[1;34m'2014_충청북도_청원군'\u001b[0m\u001b[1;33m,\u001b[0m\u001b[1;34m'2014_제주특별자치도_서귀포시'\u001b[0m\u001b[1;33m,\u001b[0m\u001b[1;34m'2014_제주특별자치도_제주시'\u001b[0m\u001b[1;33m]\u001b[0m\u001b[1;33m,\u001b[0m\u001b[0maxis\u001b[0m\u001b[1;33m=\u001b[0m\u001b[1;36m0\u001b[0m\u001b[1;33m,\u001b[0m \u001b[0minplace\u001b[0m\u001b[1;33m=\u001b[0m\u001b[1;32mTrue\u001b[0m\u001b[1;33m)\u001b[0m\u001b[1;33m\u001b[0m\u001b[0m\n\u001b[0m\u001b[0;32m     10\u001b[0m \u001b[1;33m\u001b[0m\u001b[0m\n\u001b[0;32m     11\u001b[0m \u001b[0msigungu\u001b[0m\u001b[1;33m.\u001b[0m\u001b[0mset_index\u001b[0m\u001b[1;33m(\u001b[0m\u001b[0msigungu\u001b[0m\u001b[1;33m[\u001b[0m\u001b[1;34m'지역'\u001b[0m\u001b[1;33m]\u001b[0m\u001b[1;33m,\u001b[0m \u001b[0minplace\u001b[0m\u001b[1;33m=\u001b[0m\u001b[1;32mTrue\u001b[0m\u001b[1;33m)\u001b[0m\u001b[1;33m\u001b[0m\u001b[0m\n",
      "\u001b[1;32mC:\\Anaconda3\\lib\\site-packages\\pandas\\core\\frame.py\u001b[0m in \u001b[0;36mdrop\u001b[1;34m(self, labels, axis, index, columns, level, inplace, errors)\u001b[0m\n\u001b[0;32m   4100\u001b[0m             \u001b[0mlevel\u001b[0m\u001b[1;33m=\u001b[0m\u001b[0mlevel\u001b[0m\u001b[1;33m,\u001b[0m\u001b[1;33m\u001b[0m\u001b[0m\n\u001b[0;32m   4101\u001b[0m             \u001b[0minplace\u001b[0m\u001b[1;33m=\u001b[0m\u001b[0minplace\u001b[0m\u001b[1;33m,\u001b[0m\u001b[1;33m\u001b[0m\u001b[0m\n\u001b[1;32m-> 4102\u001b[1;33m             \u001b[0merrors\u001b[0m\u001b[1;33m=\u001b[0m\u001b[0merrors\u001b[0m\u001b[1;33m,\u001b[0m\u001b[1;33m\u001b[0m\u001b[0m\n\u001b[0m\u001b[0;32m   4103\u001b[0m         )\n\u001b[0;32m   4104\u001b[0m \u001b[1;33m\u001b[0m\u001b[0m\n",
      "\u001b[1;32mC:\\Anaconda3\\lib\\site-packages\\pandas\\core\\generic.py\u001b[0m in \u001b[0;36mdrop\u001b[1;34m(self, labels, axis, index, columns, level, inplace, errors)\u001b[0m\n\u001b[0;32m   3912\u001b[0m         \u001b[1;32mfor\u001b[0m \u001b[0maxis\u001b[0m\u001b[1;33m,\u001b[0m \u001b[0mlabels\u001b[0m \u001b[1;32min\u001b[0m \u001b[0maxes\u001b[0m\u001b[1;33m.\u001b[0m\u001b[0mitems\u001b[0m\u001b[1;33m(\u001b[0m\u001b[1;33m)\u001b[0m\u001b[1;33m:\u001b[0m\u001b[1;33m\u001b[0m\u001b[0m\n\u001b[0;32m   3913\u001b[0m             \u001b[1;32mif\u001b[0m \u001b[0mlabels\u001b[0m \u001b[1;32mis\u001b[0m \u001b[1;32mnot\u001b[0m \u001b[1;32mNone\u001b[0m\u001b[1;33m:\u001b[0m\u001b[1;33m\u001b[0m\u001b[0m\n\u001b[1;32m-> 3914\u001b[1;33m                 \u001b[0mobj\u001b[0m \u001b[1;33m=\u001b[0m \u001b[0mobj\u001b[0m\u001b[1;33m.\u001b[0m\u001b[0m_drop_axis\u001b[0m\u001b[1;33m(\u001b[0m\u001b[0mlabels\u001b[0m\u001b[1;33m,\u001b[0m \u001b[0maxis\u001b[0m\u001b[1;33m,\u001b[0m \u001b[0mlevel\u001b[0m\u001b[1;33m=\u001b[0m\u001b[0mlevel\u001b[0m\u001b[1;33m,\u001b[0m \u001b[0merrors\u001b[0m\u001b[1;33m=\u001b[0m\u001b[0merrors\u001b[0m\u001b[1;33m)\u001b[0m\u001b[1;33m\u001b[0m\u001b[0m\n\u001b[0m\u001b[0;32m   3915\u001b[0m \u001b[1;33m\u001b[0m\u001b[0m\n\u001b[0;32m   3916\u001b[0m         \u001b[1;32mif\u001b[0m \u001b[0minplace\u001b[0m\u001b[1;33m:\u001b[0m\u001b[1;33m\u001b[0m\u001b[0m\n",
      "\u001b[1;32mC:\\Anaconda3\\lib\\site-packages\\pandas\\core\\generic.py\u001b[0m in \u001b[0;36m_drop_axis\u001b[1;34m(self, labels, axis, level, errors)\u001b[0m\n\u001b[0;32m   3944\u001b[0m                 \u001b[0mnew_axis\u001b[0m \u001b[1;33m=\u001b[0m \u001b[0maxis\u001b[0m\u001b[1;33m.\u001b[0m\u001b[0mdrop\u001b[0m\u001b[1;33m(\u001b[0m\u001b[0mlabels\u001b[0m\u001b[1;33m,\u001b[0m \u001b[0mlevel\u001b[0m\u001b[1;33m=\u001b[0m\u001b[0mlevel\u001b[0m\u001b[1;33m,\u001b[0m \u001b[0merrors\u001b[0m\u001b[1;33m=\u001b[0m\u001b[0merrors\u001b[0m\u001b[1;33m)\u001b[0m\u001b[1;33m\u001b[0m\u001b[0m\n\u001b[0;32m   3945\u001b[0m             \u001b[1;32melse\u001b[0m\u001b[1;33m:\u001b[0m\u001b[1;33m\u001b[0m\u001b[0m\n\u001b[1;32m-> 3946\u001b[1;33m                 \u001b[0mnew_axis\u001b[0m \u001b[1;33m=\u001b[0m \u001b[0maxis\u001b[0m\u001b[1;33m.\u001b[0m\u001b[0mdrop\u001b[0m\u001b[1;33m(\u001b[0m\u001b[0mlabels\u001b[0m\u001b[1;33m,\u001b[0m \u001b[0merrors\u001b[0m\u001b[1;33m=\u001b[0m\u001b[0merrors\u001b[0m\u001b[1;33m)\u001b[0m\u001b[1;33m\u001b[0m\u001b[0m\n\u001b[0m\u001b[0;32m   3947\u001b[0m             \u001b[0mresult\u001b[0m \u001b[1;33m=\u001b[0m \u001b[0mself\u001b[0m\u001b[1;33m.\u001b[0m\u001b[0mreindex\u001b[0m\u001b[1;33m(\u001b[0m\u001b[1;33m**\u001b[0m\u001b[1;33m{\u001b[0m\u001b[0maxis_name\u001b[0m\u001b[1;33m:\u001b[0m \u001b[0mnew_axis\u001b[0m\u001b[1;33m}\u001b[0m\u001b[1;33m)\u001b[0m\u001b[1;33m\u001b[0m\u001b[0m\n\u001b[0;32m   3948\u001b[0m \u001b[1;33m\u001b[0m\u001b[0m\n",
      "\u001b[1;32mC:\\Anaconda3\\lib\\site-packages\\pandas\\core\\indexes\\base.py\u001b[0m in \u001b[0;36mdrop\u001b[1;34m(self, labels, errors)\u001b[0m\n\u001b[0;32m   5338\u001b[0m         \u001b[1;32mif\u001b[0m \u001b[0mmask\u001b[0m\u001b[1;33m.\u001b[0m\u001b[0many\u001b[0m\u001b[1;33m(\u001b[0m\u001b[1;33m)\u001b[0m\u001b[1;33m:\u001b[0m\u001b[1;33m\u001b[0m\u001b[0m\n\u001b[0;32m   5339\u001b[0m             \u001b[1;32mif\u001b[0m \u001b[0merrors\u001b[0m \u001b[1;33m!=\u001b[0m \u001b[1;34m\"ignore\"\u001b[0m\u001b[1;33m:\u001b[0m\u001b[1;33m\u001b[0m\u001b[0m\n\u001b[1;32m-> 5340\u001b[1;33m                 \u001b[1;32mraise\u001b[0m \u001b[0mKeyError\u001b[0m\u001b[1;33m(\u001b[0m\u001b[1;34m\"{} not found in axis\"\u001b[0m\u001b[1;33m.\u001b[0m\u001b[0mformat\u001b[0m\u001b[1;33m(\u001b[0m\u001b[0mlabels\u001b[0m\u001b[1;33m[\u001b[0m\u001b[0mmask\u001b[0m\u001b[1;33m]\u001b[0m\u001b[1;33m)\u001b[0m\u001b[1;33m)\u001b[0m\u001b[1;33m\u001b[0m\u001b[0m\n\u001b[0m\u001b[0;32m   5341\u001b[0m             \u001b[0mindexer\u001b[0m \u001b[1;33m=\u001b[0m \u001b[0mindexer\u001b[0m\u001b[1;33m[\u001b[0m\u001b[1;33m~\u001b[0m\u001b[0mmask\u001b[0m\u001b[1;33m]\u001b[0m\u001b[1;33m\u001b[0m\u001b[0m\n\u001b[0;32m   5342\u001b[0m         \u001b[1;32mreturn\u001b[0m \u001b[0mself\u001b[0m\u001b[1;33m.\u001b[0m\u001b[0mdelete\u001b[0m\u001b[1;33m(\u001b[0m\u001b[0mindexer\u001b[0m\u001b[1;33m)\u001b[0m\u001b[1;33m\u001b[0m\u001b[0m\n",
      "\u001b[1;31mKeyError\u001b[0m: \"['2014_충청남도_연기군' '2014_충청북도_청원군' '2014_제주특별자치도_서귀포시' '2014_제주특별자치도_제주시'] not found in axis\""
     ]
    }
   ],
   "source": [
    "#2015년과 같은 열만 뽑아내기\n",
    "col = sigungu_15.columns\n",
    "\n",
    "#2015년과 같도록 2014 데이터 프레임 잘라내기\n",
    "sigungu_14 = sigungu_14.loc[:,col]\n",
    "\n",
    "#제주시, 서귀포시, 연기군, 청원군행 삭제\n",
    "sigungu_14.set_index(sigungu_14['지역'], inplace=True)\n",
    "sigungu_14.drop(['2014_충청남도_연기군','2014_충청북도_청원군','2014_제주특별자치도_서귀포시','2014_제주특별자치도_제주시'],axis=0, inplace=True)\n",
    "\n",
    "sigungu.set_index(sigungu['지역'], inplace=True)\n",
    "sigungu.drop(['2013_충청남도_연기군','2015_충청남도_연기군',\n",
    "               '2013_충청북도_청원군','2015_충청북도_청원군',\n",
    "               '2013_제주특별자치도_서귀포시','2015_제주특별자치도_서귀포시',\n",
    "               '2013_제주특별자치도_제주시','2015_제주특별자치도_제주시'],axis=0, inplace=True)\n"
   ]
  },
  {
   "cell_type": "code",
   "execution_count": null,
   "metadata": {
    "scrolled": true
   },
   "outputs": [],
   "source": [
    "sigungu_14.reset_index(drop=True,inplace=True)"
   ]
  },
  {
   "cell_type": "code",
   "execution_count": null,
   "metadata": {},
   "outputs": [],
   "source": [
    "def info_df(data):\n",
    "    info_df = pd.DataFrame({\"type\":data.dtypes,\n",
    "                            'null_count':data.isnull().sum(),\n",
    "                           'rate':data.isnull().sum()/data.isnull().count() * 100}).T\n",
    "    return info_df"
   ]
  },
  {
   "cell_type": "markdown",
   "metadata": {},
   "source": [
    "### 평균치 채워주는 함수"
   ]
  },
  {
   "cell_type": "markdown",
   "metadata": {},
   "source": [
    "### 평균치 채워주는 함수(시군구용)"
   ]
  },
  {
   "cell_type": "code",
   "execution_count": null,
   "metadata": {},
   "outputs": [],
   "source": [
    "def mean_score(columns,*r):\n",
    "    \n",
    "    a = 0\n",
    "    b = len(r)\n",
    "    for reg in r:\n",
    "        a += (sigungu_14.loc[sigungu_14[\"지역\"]==reg,columns].values)\n",
    "    \n",
    "    c= a/b\n",
    "    \n",
    "    return c"
   ]
  },
  {
   "cell_type": "markdown",
   "metadata": {},
   "source": [
    "### 결측치 채워주는 함수"
   ]
  },
  {
   "cell_type": "code",
   "execution_count": null,
   "metadata": {},
   "outputs": [],
   "source": [
    "def fill_score(columns,score,*r):\n",
    "    \n",
    "    \n",
    "    for reg in r:\n",
    "        sigungu_14.loc[sigungu_14[\"지역\"]==reg,columns] = sigungu_14.loc[sigungu_14[\"지역\"]==reg,columns].fillna(score)"
   ]
  },
  {
   "cell_type": "markdown",
   "metadata": {},
   "source": [
    "## 전체데이터 채워주는 함수"
   ]
  },
  {
   "cell_type": "code",
   "execution_count": null,
   "metadata": {},
   "outputs": [],
   "source": [
    "def fill_all(*r):\n",
    "    \n",
    "    for reg in r:\n",
    "        sigungu_14.loc[:,r] = sigungu_15.loc[:,r]"
   ]
  },
  {
   "cell_type": "markdown",
   "metadata": {},
   "source": [
    "## 2014년 데이터 결측치 확인"
   ]
  },
  {
   "cell_type": "code",
   "execution_count": null,
   "metadata": {},
   "outputs": [],
   "source": [
    "msno.matrix(sigungu_14)"
   ]
  },
  {
   "cell_type": "markdown",
   "metadata": {},
   "source": [
    "# 전체데이터 빈것 채우기"
   ]
  },
  {
   "cell_type": "markdown",
   "metadata": {},
   "source": [
    "## 범죄류"
   ]
  },
  {
   "cell_type": "code",
   "execution_count": null,
   "metadata": {},
   "outputs": [],
   "source": [
    "fill_all('범죄발생건수(강간.강제추행)','범죄발생건수(강도)','범죄발생건수(도박)',\n",
    "        '범죄발생건수(마약)','범죄발생건수(방화)','범죄발생건수(살인)',\n",
    "        '범죄발생건수(약취.유인)','범죄발생건수(절도)','범죄발생건수(폭력)')"
   ]
  },
  {
   "cell_type": "code",
   "execution_count": null,
   "metadata": {},
   "outputs": [],
   "source": [
    "sigungu_14.loc[:,['범죄발생건수(강간.강제추행)','범죄발생건수(강도)','범죄발생건수(도박)',\n",
    "        '범죄발생건수(마약)','범죄발생건수(방화)','범죄발생건수(살인)',\n",
    "        '범죄발생건수(약취.유인)','범죄발생건수(절도)','범죄발생건수(폭력)']]"
   ]
  },
  {
   "cell_type": "markdown",
   "metadata": {},
   "source": [
    "## 의료보장 공.교 가입자수"
   ]
  },
  {
   "cell_type": "code",
   "execution_count": null,
   "metadata": {},
   "outputs": [],
   "source": [
    "sido_2013_m = sigungu[sigungu['년도'].isin(['2013'])]\n",
    "sido_2013_m = sido_2013_m['의료보장 공.교 가입자수'].values"
   ]
  },
  {
   "cell_type": "code",
   "execution_count": null,
   "metadata": {},
   "outputs": [],
   "source": [
    "sido_2015_m = sigungu[sigungu['년도'].isin(['2015'])]\n",
    "sido_2015_m = sido_2015_m['의료보장 공.교 가입자수'].values"
   ]
  },
  {
   "cell_type": "code",
   "execution_count": null,
   "metadata": {},
   "outputs": [],
   "source": [
    "mean = (sido_2013_m+sido_2015_m)/2\n",
    "mean"
   ]
  },
  {
   "cell_type": "code",
   "execution_count": null,
   "metadata": {},
   "outputs": [],
   "source": [
    "sigungu_14['의료보장 공.교 가입자수'] = mean"
   ]
  },
  {
   "cell_type": "code",
   "execution_count": null,
   "metadata": {},
   "outputs": [],
   "source": [
    "sigungu_14.loc[:,['지역','의료보장 공.교 가입자수']]"
   ]
  },
  {
   "cell_type": "markdown",
   "metadata": {},
   "source": [
    "## 의료인력"
   ]
  },
  {
   "cell_type": "code",
   "execution_count": null,
   "metadata": {},
   "outputs": [],
   "source": [
    "fill_all('의료인력')"
   ]
  },
  {
   "cell_type": "code",
   "execution_count": null,
   "metadata": {},
   "outputs": [],
   "source": [
    "sigungu_14.loc[:,['지역','의료인력']]"
   ]
  },
  {
   "cell_type": "markdown",
   "metadata": {},
   "source": [
    "## 지역안전도류"
   ]
  },
  {
   "cell_type": "code",
   "execution_count": null,
   "metadata": {},
   "outputs": [],
   "source": [
    "fill_all('지역안전도(관리능력)','지역안전도(등급)','지역안전도(방재성능)',\n",
    "        '지역안전도(위험환경)','지역안전도(점수)')"
   ]
  },
  {
   "cell_type": "code",
   "execution_count": null,
   "metadata": {
    "scrolled": true
   },
   "outputs": [],
   "source": [
    "sigungu_14.loc[:,['지역안전도(관리능력)','지역안전도(등급)','지역안전도(방재성능)',\n",
    "        '지역안전도(위험환경)','지역안전도(점수)']]"
   ]
  },
  {
   "cell_type": "markdown",
   "metadata": {},
   "source": [
    "### '감염병 발생건수'"
   ]
  },
  {
   "cell_type": "code",
   "execution_count": null,
   "metadata": {},
   "outputs": [],
   "source": [
    "fill_all('감염병 발생건수')"
   ]
  },
  {
   "cell_type": "markdown",
   "metadata": {},
   "source": [
    "### 급경사지 붕괴위험지구 수"
   ]
  },
  {
   "cell_type": "code",
   "execution_count": null,
   "metadata": {},
   "outputs": [],
   "source": [
    "fill_all('급경사지 붕괴위험지구 수')"
   ]
  },
  {
   "cell_type": "markdown",
   "metadata": {},
   "source": [
    "### 비닐하우스 면적"
   ]
  },
  {
   "cell_type": "code",
   "execution_count": null,
   "metadata": {},
   "outputs": [],
   "source": [
    "fill_all('비닐하우스 면적')"
   ]
  },
  {
   "cell_type": "markdown",
   "metadata": {},
   "source": [
    "### 산사태위험지역 면적"
   ]
  },
  {
   "cell_type": "code",
   "execution_count": null,
   "metadata": {},
   "outputs": [],
   "source": [
    "fill_all('산사태위험지역 면적')"
   ]
  },
  {
   "cell_type": "markdown",
   "metadata": {},
   "source": [
    "### 수계밀도"
   ]
  },
  {
   "cell_type": "code",
   "execution_count": null,
   "metadata": {},
   "outputs": [],
   "source": [
    "fill_all('수계밀도')"
   ]
  },
  {
   "cell_type": "markdown",
   "metadata": {},
   "source": [
    "### 야간인구수"
   ]
  },
  {
   "cell_type": "code",
   "execution_count": null,
   "metadata": {},
   "outputs": [],
   "source": [
    "fill_all('야간인구수')"
   ]
  },
  {
   "cell_type": "markdown",
   "metadata": {},
   "source": [
    "### 반지하가구 수"
   ]
  },
  {
   "cell_type": "code",
   "execution_count": null,
   "metadata": {},
   "outputs": [],
   "source": [
    "fill_all('반지하가구 수')"
   ]
  },
  {
   "cell_type": "markdown",
   "metadata": {},
   "source": [
    "### 자연재해 사망자수"
   ]
  },
  {
   "cell_type": "code",
   "execution_count": null,
   "metadata": {},
   "outputs": [],
   "source": [
    "fill_all('자연재해 사망자수')"
   ]
  },
  {
   "cell_type": "markdown",
   "metadata": {},
   "source": [
    "### 주간인구지수"
   ]
  },
  {
   "cell_type": "code",
   "execution_count": null,
   "metadata": {},
   "outputs": [],
   "source": [
    "fill_all('주간인구지수')"
   ]
  },
  {
   "cell_type": "markdown",
   "metadata": {},
   "source": [
    "### 해안선 길이"
   ]
  },
  {
   "cell_type": "code",
   "execution_count": null,
   "metadata": {},
   "outputs": [],
   "source": [
    "fill_all('해안선 길이')"
   ]
  },
  {
   "cell_type": "markdown",
   "metadata": {},
   "source": [
    "### 자연재해위험개선지구 수"
   ]
  },
  {
   "cell_type": "code",
   "execution_count": null,
   "metadata": {},
   "outputs": [],
   "source": [
    "fill_all('자연재해위험개선지구 수')"
   ]
  },
  {
   "cell_type": "markdown",
   "metadata": {},
   "source": [
    "# 개별 결측치 채우기"
   ]
  },
  {
   "cell_type": "markdown",
   "metadata": {},
   "source": [
    "### 건축용지 면적\n",
    "#### 충남 당진시 12년(0.05232) 15(0.06366)년 1:2의 가중치로 평균"
   ]
  },
  {
   "cell_type": "code",
   "execution_count": null,
   "metadata": {},
   "outputs": [],
   "source": [
    "(0.05232 + 0.06366*2)/3"
   ]
  },
  {
   "cell_type": "code",
   "execution_count": null,
   "metadata": {},
   "outputs": [],
   "source": [
    "### 값 대체하기 ###\n",
    "fill_score('건축용지 면적',0.059879999999999996,'2014_충청남도_당진시')"
   ]
  },
  {
   "cell_type": "code",
   "execution_count": null,
   "metadata": {
    "scrolled": true
   },
   "outputs": [],
   "source": [
    "sigungu_14.loc[sigungu_14['건축용지 면적'].isnull(),['년도','시도','지역','건축용지 면적']].shape"
   ]
  },
  {
   "cell_type": "markdown",
   "metadata": {},
   "source": [
    "### 교통문화지수"
   ]
  },
  {
   "cell_type": "markdown",
   "metadata": {},
   "source": [
    "#### 시군구 데이터 2014년 평균값 집어넣음"
   ]
  },
  {
   "cell_type": "code",
   "execution_count": null,
   "metadata": {},
   "outputs": [],
   "source": [
    "a = sigungu.groupby(['년도','시도']).mean()\n",
    "a['교통문화지수']"
   ]
  },
  {
   "cell_type": "code",
   "execution_count": null,
   "metadata": {},
   "outputs": [],
   "source": [
    "#### 강원도_화천군"
   ]
  },
  {
   "cell_type": "code",
   "execution_count": null,
   "metadata": {},
   "outputs": [],
   "source": [
    "fill_score('교통문화지수',73.575294,'2014_강원도_화천군')"
   ]
  },
  {
   "cell_type": "code",
   "execution_count": null,
   "metadata": {},
   "outputs": [],
   "source": [
    "sigungu_14.loc[sigungu_14['교통문화지수'].isnull(),['년도','시도','지역','교통문화지수']].shape"
   ]
  },
  {
   "cell_type": "code",
   "execution_count": null,
   "metadata": {},
   "outputs": [],
   "source": [
    "#### 경상북도"
   ]
  },
  {
   "cell_type": "code",
   "execution_count": null,
   "metadata": {},
   "outputs": [],
   "source": [
    "fill_score('교통문화지수',71.903810,'2014_경상북도_영양군',\n",
    "         '2014_경상북도_울릉군')"
   ]
  },
  {
   "cell_type": "code",
   "execution_count": null,
   "metadata": {},
   "outputs": [],
   "source": [
    "sigungu_14.loc[sigungu_14['교통문화지수'].isnull(),['년도','시도','지역','교통문화지수']].shape"
   ]
  },
  {
   "cell_type": "code",
   "execution_count": null,
   "metadata": {},
   "outputs": [],
   "source": [
    "#### 인천광역시_옹진군"
   ]
  },
  {
   "cell_type": "code",
   "execution_count": null,
   "metadata": {},
   "outputs": [],
   "source": [
    "fill_score('교통문화지수',82.908889,'2014_인천광역시_옹진군')"
   ]
  },
  {
   "cell_type": "code",
   "execution_count": null,
   "metadata": {},
   "outputs": [],
   "source": [
    "sigungu_14.loc[sigungu_14['교통문화지수'].isnull(),['년도','시도','지역','교통문화지수']].shape"
   ]
  },
  {
   "cell_type": "code",
   "execution_count": null,
   "metadata": {},
   "outputs": [],
   "source": [
    "#### 전라남도_신안군"
   ]
  },
  {
   "cell_type": "code",
   "execution_count": null,
   "metadata": {},
   "outputs": [],
   "source": [
    "fill_score('교통문화지수',70.611429,'2014_전라남도_신안군')"
   ]
  },
  {
   "cell_type": "code",
   "execution_count": null,
   "metadata": {},
   "outputs": [],
   "source": [
    "sigungu_14.loc[sigungu_14['교통문화지수'].isnull(),['년도','시도','지역','교통문화지수']].shape"
   ]
  },
  {
   "cell_type": "markdown",
   "metadata": {},
   "source": [
    "### 교통사고사망자수(고속도로) 채우기"
   ]
  },
  {
   "cell_type": "code",
   "execution_count": null,
   "metadata": {},
   "outputs": [],
   "source": [
    "msno.matrix(sigungu_14.loc[:,['지역','교통사고사망자수(고속도로)']])"
   ]
  },
  {
   "cell_type": "markdown",
   "metadata": {},
   "source": [
    "## 시군구 평균으로 처리하는 아이들\n",
    "### {강원-삼척,속초} {경북-영덕,청송}  {전남-고흥}  {충남-계룡}"
   ]
  },
  {
   "cell_type": "code",
   "execution_count": null,
   "metadata": {},
   "outputs": [],
   "source": [
    "a = sigungu.groupby(['년도','시도']).mean()\n",
    "a['교통사고사망자수(고속도로)']"
   ]
  },
  {
   "cell_type": "markdown",
   "metadata": {},
   "source": [
    "### {강원-삼척,속초} "
   ]
  },
  {
   "cell_type": "code",
   "execution_count": null,
   "metadata": {},
   "outputs": [],
   "source": [
    "fill_score('교통사고사망자수(고속도로)', 0.281397,'2014_강원도_삼척시','2014_강원도_속초시')"
   ]
  },
  {
   "cell_type": "code",
   "execution_count": null,
   "metadata": {},
   "outputs": [],
   "source": [
    "sigungu_14.loc[sigungu_14['교통사고사망자수(고속도로)'].isnull(),['년도','시도','지역','교통사고사망자수(고속도로)']].shape"
   ]
  },
  {
   "cell_type": "markdown",
   "metadata": {},
   "source": [
    "### {경북-영덕,청송}"
   ]
  },
  {
   "cell_type": "code",
   "execution_count": null,
   "metadata": {},
   "outputs": [],
   "source": [
    "fill_score('교통사고사망자수(고속도로)', 0.249462,'2014_경상북도_영덕군','2014_경상북도_청송군')"
   ]
  },
  {
   "cell_type": "code",
   "execution_count": null,
   "metadata": {},
   "outputs": [],
   "source": [
    "sigungu_14.loc[sigungu_14['교통사고사망자수(고속도로)'].isnull(),['년도','시도','지역','교통사고사망자수(고속도로)']].shape"
   ]
  },
  {
   "cell_type": "markdown",
   "metadata": {},
   "source": [
    "### {전남-고흥}"
   ]
  },
  {
   "cell_type": "code",
   "execution_count": null,
   "metadata": {},
   "outputs": [],
   "source": [
    "fill_score('교통사고사망자수(고속도로)', 0.083117,'2014_전라남도_고흥군')"
   ]
  },
  {
   "cell_type": "code",
   "execution_count": null,
   "metadata": {},
   "outputs": [],
   "source": [
    "sigungu_14.loc[sigungu_14['교통사고사망자수(고속도로)'].isnull(),['년도','시도','지역','교통사고사망자수(고속도로)']].shape"
   ]
  },
  {
   "cell_type": "markdown",
   "metadata": {},
   "source": [
    "### {{충남-계룡}}"
   ]
  },
  {
   "cell_type": "code",
   "execution_count": null,
   "metadata": {},
   "outputs": [],
   "source": [
    "fill_score('교통사고사망자수(고속도로)', 0.128230,'2014_충청남도_계룡시')"
   ]
  },
  {
   "cell_type": "code",
   "execution_count": null,
   "metadata": {},
   "outputs": [],
   "source": [
    "sigungu_14.loc[sigungu_14['교통사고사망자수(고속도로)'].isnull(),['년도','시도','지역','교통사고사망자수(고속도로)']].shape"
   ]
  },
  {
   "cell_type": "markdown",
   "metadata": {},
   "source": [
    "### 0으로 처리하는 아이들\n",
    "### 나머지 결측치 전부"
   ]
  },
  {
   "cell_type": "code",
   "execution_count": null,
   "metadata": {},
   "outputs": [],
   "source": [
    " sigungu_14[\"교통사고사망자수(고속도로)\"] = sigungu_14[\"교통사고사망자수(고속도로)\"].fillna(0)"
   ]
  },
  {
   "cell_type": "code",
   "execution_count": null,
   "metadata": {
    "scrolled": true
   },
   "outputs": [],
   "source": [
    " sigungu_14.loc[sigungu_14['교통사고사망자수(고속도로)'].isnull(),['년도','시도','지역','교통사고사망자수(고속도로)']].shape"
   ]
  },
  {
   "cell_type": "markdown",
   "metadata": {},
   "source": [
    "### 잘 채워졌는지 확인하기"
   ]
  },
  {
   "cell_type": "code",
   "execution_count": null,
   "metadata": {},
   "outputs": [],
   "source": [
    "sigungu_14.loc[:,[\"지역\",\"교통사고사망자수(고속도로)\"]]"
   ]
  },
  {
   "cell_type": "code",
   "execution_count": null,
   "metadata": {
    "scrolled": false
   },
   "outputs": [],
   "source": [
    "msno.matrix(sigungu_14.loc[:,['지역','교통사고사망자수(고속도로)']])"
   ]
  },
  {
   "cell_type": "markdown",
   "metadata": {},
   "source": [
    "## 도로면적"
   ]
  },
  {
   "cell_type": "code",
   "execution_count": null,
   "metadata": {},
   "outputs": [],
   "source": [
    "#### 당진시 2015값(0.04656)"
   ]
  },
  {
   "cell_type": "code",
   "execution_count": null,
   "metadata": {},
   "outputs": [],
   "source": [
    "###값 대체###\n",
    "fill_score('도로면적',0.04656,'2014_충청남도_당진시')"
   ]
  },
  {
   "cell_type": "code",
   "execution_count": null,
   "metadata": {},
   "outputs": [],
   "source": [
    "sigungu_14.loc[sigungu_14['도로면적'].isnull(),['년도','시도','지역','도로면적']].shape"
   ]
  },
  {
   "cell_type": "markdown",
   "metadata": {},
   "source": [
    "## 도로면적 비율"
   ]
  },
  {
   "cell_type": "code",
   "execution_count": null,
   "metadata": {},
   "outputs": [],
   "source": [
    "#### 당진시 2015값(4.65599)"
   ]
  },
  {
   "cell_type": "code",
   "execution_count": null,
   "metadata": {},
   "outputs": [],
   "source": [
    "###값 대체###\n",
    "fill_score('도로면적 비율',4.65599,'2014_충청남도_당진시')"
   ]
  },
  {
   "cell_type": "code",
   "execution_count": null,
   "metadata": {},
   "outputs": [],
   "source": [
    "sigungu_14.loc[sigungu_14['도로면적 비율'].isnull(),['년도','시도','지역','도로면적 비율']].shape"
   ]
  },
  {
   "cell_type": "markdown",
   "metadata": {},
   "source": [
    "## 무면허교통사고 발생건수"
   ]
  },
  {
   "cell_type": "code",
   "execution_count": null,
   "metadata": {},
   "outputs": [],
   "source": [
    "a = sigungu.groupby(['년도','시도']).mean()\n",
    "a['무면허교통사고 발생건수']"
   ]
  },
  {
   "cell_type": "code",
   "execution_count": null,
   "metadata": {},
   "outputs": [],
   "source": [
    "#### 2014_전라북도(1.877065)_무주군"
   ]
  },
  {
   "cell_type": "code",
   "execution_count": null,
   "metadata": {},
   "outputs": [],
   "source": [
    "fill_score('무면허교통사고 발생건수',1.877065,'2014_전라북도_무주군')"
   ]
  },
  {
   "cell_type": "code",
   "execution_count": null,
   "metadata": {},
   "outputs": [],
   "source": [
    "sigungu_14.loc[sigungu_14['무면허교통사고 발생건수'].isnull(),['년도','시도','지역','무면허교통사고 발생건수']].shape"
   ]
  },
  {
   "cell_type": "code",
   "execution_count": null,
   "metadata": {},
   "outputs": [],
   "source": [
    "#### 2014_충청남도(2.340964)_계룡시"
   ]
  },
  {
   "cell_type": "code",
   "execution_count": null,
   "metadata": {},
   "outputs": [],
   "source": [
    "fill_score('무면허교통사고 발생건수',2.340964,'2014_충청남도_계룡시')"
   ]
  },
  {
   "cell_type": "code",
   "execution_count": null,
   "metadata": {},
   "outputs": [],
   "source": [
    "sigungu_14.loc[sigungu_14['무면허교통사고 발생건수'].isnull(),['년도','시도','지역','무면허교통사고 발생건수']].shape"
   ]
  },
  {
   "cell_type": "markdown",
   "metadata": {},
   "source": [
    "## 보행자전용·우선도로 면적"
   ]
  },
  {
   "cell_type": "markdown",
   "metadata": {},
   "source": [
    "#### 15년도 값으로 넓값인 애들 교체하기"
   ]
  },
  {
   "cell_type": "code",
   "execution_count": null,
   "metadata": {},
   "outputs": [],
   "source": [
    "### 널값인 14년도 애들 뽑아내기\n",
    "dex = sigungu_14.loc[sigungu_14['보행자전용·우선도로 면적'].isnull(),['지역','보행자전용·우선도로 면적']].index.tolist()"
   ]
  },
  {
   "cell_type": "code",
   "execution_count": null,
   "metadata": {},
   "outputs": [],
   "source": [
    "# 14년도 널값인 인덱스를 기준으로 15년 값 뽑아내는과정\n",
    "a = sigungu_15.iloc[dex,:]\n",
    "df_15 =a['보행자전용·우선도로 면적']\n",
    "sigungu_14.loc[dex,'보행자전용·우선도로 면적'] = a"
   ]
  },
  {
   "cell_type": "code",
   "execution_count": null,
   "metadata": {},
   "outputs": [],
   "source": [
    "sigungu_14.loc[sigungu_14['보행자전용·우선도로 면적'].isnull(),['년도','시도','지역','보행자전용·우선도로 면적']].shape"
   ]
  },
  {
   "cell_type": "code",
   "execution_count": null,
   "metadata": {},
   "outputs": [],
   "source": [
    "sigungu_14.loc[sigungu_14['보행자전용·우선도로 면적'].isnull(),['년도','시도','지역','보행자전용·우선도로 면적']]"
   ]
  },
  {
   "cell_type": "markdown",
   "metadata": {},
   "source": [
    "## 보행자전용·우선도로 연장"
   ]
  },
  {
   "cell_type": "markdown",
   "metadata": {},
   "source": [
    "#### 15년도 값으로 넓값인 애들 교체하기"
   ]
  },
  {
   "cell_type": "code",
   "execution_count": null,
   "metadata": {},
   "outputs": [],
   "source": [
    "dex = sigungu_14.loc[sigungu_14['보행자전용·우선도로 연장'].isnull(),['지역','보행자전용·우선도로 연장']].index.tolist()"
   ]
  },
  {
   "cell_type": "code",
   "execution_count": null,
   "metadata": {},
   "outputs": [],
   "source": [
    "# 14년도 널값인 인덱스를 기준으로 15년 값 뽑아내는과정\n",
    "a = sigungu_15.iloc[dex,:]\n",
    "df_15 =a['보행자전용·우선도로 연장']\n",
    "sigungu_14.loc[dex,'보행자전용·우선도로 연장'] = a"
   ]
  },
  {
   "cell_type": "code",
   "execution_count": null,
   "metadata": {},
   "outputs": [],
   "source": [
    "sigungu_14.loc[sigungu_14['보행자전용·우선도로 연장'].isnull(),['년도','시도','지역','보행자전용·우선도로 연장']].shape"
   ]
  },
  {
   "cell_type": "markdown",
   "metadata": {},
   "source": [
    "## 상업지역면적"
   ]
  },
  {
   "cell_type": "markdown",
   "metadata": {},
   "source": [
    "### 2014_인천광역시_옹진군, 통계치 보니 0이라 0으로 대체"
   ]
  },
  {
   "cell_type": "code",
   "execution_count": null,
   "metadata": {},
   "outputs": [],
   "source": [
    "###값 대체###\n",
    "fill_score('상업지역 면적',0,'2014_인천광역시_옹진군')"
   ]
  },
  {
   "cell_type": "code",
   "execution_count": null,
   "metadata": {
    "scrolled": true
   },
   "outputs": [],
   "source": [
    "sigungu_14.loc[sigungu_14['상업지역 면적'].isnull(),['년도','시도','지역','상업지역 면적']].shape"
   ]
  },
  {
   "cell_type": "markdown",
   "metadata": {},
   "source": [
    "## 임야 면적"
   ]
  },
  {
   "cell_type": "markdown",
   "metadata": {},
   "source": [
    "### 대구중구 0으로 대체"
   ]
  },
  {
   "cell_type": "code",
   "execution_count": null,
   "metadata": {},
   "outputs": [],
   "source": [
    "###값 대체###\n",
    "fill_score('임야 면적',0,'2014_대구광역시_중구')"
   ]
  },
  {
   "cell_type": "code",
   "execution_count": null,
   "metadata": {},
   "outputs": [],
   "source": [
    "sigungu_14.loc[sigungu_14['임야 면적'].isnull(),['년도','시도','지역','임야 면적']].shape"
   ]
  },
  {
   "cell_type": "markdown",
   "metadata": {},
   "source": [
    "### 당진시 12(0.34405),15년도 평균(0.33212)"
   ]
  },
  {
   "cell_type": "code",
   "execution_count": null,
   "metadata": {},
   "outputs": [],
   "source": [
    "(0.34405+0.33212)/2"
   ]
  },
  {
   "cell_type": "code",
   "execution_count": null,
   "metadata": {},
   "outputs": [],
   "source": [
    "###값 대체###\n",
    "fill_score('임야 면적',0.338085,'2014_충청남도_당진시')"
   ]
  },
  {
   "cell_type": "code",
   "execution_count": null,
   "metadata": {},
   "outputs": [],
   "source": [
    "sigungu_14.loc[sigungu_14['임야 면적'].isnull(),['년도','시도','지역','임야 면적']].shape"
   ]
  },
  {
   "cell_type": "markdown",
   "metadata": {},
   "source": [
    "## 주거지역 면적"
   ]
  },
  {
   "cell_type": "markdown",
   "metadata": {},
   "source": [
    "### 옹진군 0으로 대체"
   ]
  },
  {
   "cell_type": "code",
   "execution_count": null,
   "metadata": {},
   "outputs": [],
   "source": [
    "###값 대체###\n",
    "fill_score('주거지역 면적',0,'2014_인천광역시_옹진군')"
   ]
  },
  {
   "cell_type": "code",
   "execution_count": null,
   "metadata": {},
   "outputs": [],
   "source": [
    "sigungu_14.loc[sigungu_14['주거지역 면적'].isnull(),['년도','시도','지역','주거지역 면적']].shape"
   ]
  },
  {
   "cell_type": "markdown",
   "metadata": {},
   "source": [
    "## 하천연장"
   ]
  },
  {
   "cell_type": "code",
   "execution_count": null,
   "metadata": {
    "scrolled": true
   },
   "outputs": [],
   "source": [
    "msno.matrix(sigungu.loc[:,['지역','하천연장']])"
   ]
  },
  {
   "cell_type": "markdown",
   "metadata": {},
   "source": [
    "### 과거 측정치가 있으면 최신 걸로 대체\n",
    "#### 하천연장은 하천길이, 매해 크게 변하지 않는 것이므로"
   ]
  },
  {
   "cell_type": "markdown",
   "metadata": {},
   "source": [
    "#### 부산광역시 금정구"
   ]
  },
  {
   "cell_type": "code",
   "execution_count": null,
   "metadata": {},
   "outputs": [],
   "source": [
    "### 2009_부산광역시_금정구 0.13505"
   ]
  },
  {
   "cell_type": "code",
   "execution_count": null,
   "metadata": {},
   "outputs": [],
   "source": [
    "sigungu_14.loc[sigungu_14[\"지역\"]=='2014_부산광역시_금정구','하천연장']=sigungu_14.loc[sigungu_14[\"지역\"]=='2014_부산광역시_금정구','하천연장'].fillna(0.13505)"
   ]
  },
  {
   "cell_type": "code",
   "execution_count": null,
   "metadata": {
    "scrolled": true
   },
   "outputs": [],
   "source": [
    "sigungu_14.loc[sigungu_14['하천연장'].isnull(),['년도','시도','지역','하천연장']].shape"
   ]
  },
  {
   "cell_type": "markdown",
   "metadata": {},
   "source": [
    "#### 부산광역시 남구 "
   ]
  },
  {
   "cell_type": "code",
   "execution_count": null,
   "metadata": {},
   "outputs": [],
   "source": [
    "### 2009_부산광역시_남구 0.00850"
   ]
  },
  {
   "cell_type": "code",
   "execution_count": null,
   "metadata": {},
   "outputs": [],
   "source": [
    "sigungu_14.loc[sigungu_14[\"지역\"]=='2014_부산광역시_남구','하천연장']=sigungu_14.loc[sigungu_14[\"지역\"]=='2014_부산광역시_남구','하천연장'].fillna(0.00850)"
   ]
  },
  {
   "cell_type": "code",
   "execution_count": null,
   "metadata": {
    "scrolled": true
   },
   "outputs": [],
   "source": [
    "sigungu_14.loc[sigungu_14['하천연장'].isnull(),['년도','시도','지역','하천연장']].shape"
   ]
  },
  {
   "cell_type": "markdown",
   "metadata": {},
   "source": [
    "#### 부산광역시 동구"
   ]
  },
  {
   "cell_type": "code",
   "execution_count": null,
   "metadata": {},
   "outputs": [],
   "source": [
    "### 2009_부산광역시_동구 0.10327"
   ]
  },
  {
   "cell_type": "code",
   "execution_count": null,
   "metadata": {},
   "outputs": [],
   "source": [
    "sigungu_14.loc[sigungu_14[\"지역\"]=='2014_부산광역시_동구','하천연장']=sigungu_14.loc[sigungu_14[\"지역\"]=='2014_부산광역시_동구','하천연장'].fillna(0.10327)"
   ]
  },
  {
   "cell_type": "code",
   "execution_count": null,
   "metadata": {},
   "outputs": [],
   "source": [
    "sigungu_14.loc[sigungu_14['하천연장'].isnull(),['년도','시도','지역','하천연장']].shape"
   ]
  },
  {
   "cell_type": "markdown",
   "metadata": {},
   "source": [
    "#### 부산광역시 부산진구"
   ]
  },
  {
   "cell_type": "code",
   "execution_count": null,
   "metadata": {},
   "outputs": [],
   "source": [
    "### 2009_부산광역시_부산진구 0.02331"
   ]
  },
  {
   "cell_type": "code",
   "execution_count": null,
   "metadata": {},
   "outputs": [],
   "source": [
    "sigungu_14.loc[sigungu_14[\"지역\"]=='2014_부산광역시_부산진구','하천연장']=sigungu_14.loc[sigungu_14[\"지역\"]=='2014_부산광역시_부산진구','하천연장'].fillna(0.02331)"
   ]
  },
  {
   "cell_type": "code",
   "execution_count": null,
   "metadata": {},
   "outputs": [],
   "source": [
    "sigungu_14.loc[sigungu_14['하천연장'].isnull(),['년도','시도','지역','하천연장']].shape"
   ]
  },
  {
   "cell_type": "markdown",
   "metadata": {},
   "source": [
    "#### 부산광역시 사하구"
   ]
  },
  {
   "cell_type": "code",
   "execution_count": null,
   "metadata": {},
   "outputs": [],
   "source": [
    "### 2009_부산광역시_사하구 0.01612"
   ]
  },
  {
   "cell_type": "code",
   "execution_count": null,
   "metadata": {},
   "outputs": [],
   "source": [
    "sigungu_14.loc[sigungu_14[\"지역\"]=='2014_부산광역시_사하구','하천연장']=sigungu_14.loc[sigungu_14[\"지역\"]=='2014_부산광역시_사하구','하천연장'].fillna(0.01612)"
   ]
  },
  {
   "cell_type": "code",
   "execution_count": null,
   "metadata": {},
   "outputs": [],
   "source": [
    "sigungu_14.loc[sigungu_14['하천연장'].isnull(),['년도','시도','지역','하천연장']].shape"
   ]
  },
  {
   "cell_type": "markdown",
   "metadata": {},
   "source": [
    "#### 부산광역시 서구"
   ]
  },
  {
   "cell_type": "code",
   "execution_count": null,
   "metadata": {},
   "outputs": [],
   "source": [
    "### 2009_부산광역시_서구 0.04408"
   ]
  },
  {
   "cell_type": "code",
   "execution_count": null,
   "metadata": {},
   "outputs": [],
   "source": [
    "sigungu_14.loc[sigungu_14[\"지역\"]=='2014_부산광역시_서구','하천연장']=sigungu_14.loc[sigungu_14[\"지역\"]=='2014_부산광역시_서구','하천연장'].fillna(0.04408)"
   ]
  },
  {
   "cell_type": "code",
   "execution_count": null,
   "metadata": {},
   "outputs": [],
   "source": [
    "sigungu_14.loc[sigungu_14['하천연장'].isnull(),['년도','시도','지역','하천연장']].shape"
   ]
  },
  {
   "cell_type": "markdown",
   "metadata": {},
   "source": [
    "#### 부산광역시 연제구"
   ]
  },
  {
   "cell_type": "code",
   "execution_count": null,
   "metadata": {},
   "outputs": [],
   "source": [
    "### 2009_부산광역시_연제구 0.28146"
   ]
  },
  {
   "cell_type": "code",
   "execution_count": null,
   "metadata": {},
   "outputs": [],
   "source": [
    "sigungu_14.loc[sigungu_14[\"지역\"]=='2014_부산광역시_연제구','하천연장']=sigungu_14.loc[sigungu_14[\"지역\"]=='2014_부산광역시_연제구','하천연장'].fillna(0.28146)"
   ]
  },
  {
   "cell_type": "code",
   "execution_count": null,
   "metadata": {},
   "outputs": [],
   "source": [
    "sigungu_14.loc[sigungu_14['하천연장'].isnull(),['년도','시도','지역','하천연장']].shape"
   ]
  },
  {
   "cell_type": "markdown",
   "metadata": {},
   "source": [
    "#### 경상남도 산청군"
   ]
  },
  {
   "cell_type": "code",
   "execution_count": null,
   "metadata": {},
   "outputs": [],
   "source": [
    "### 2009_경상남도_산청군 0.00561"
   ]
  },
  {
   "cell_type": "code",
   "execution_count": null,
   "metadata": {},
   "outputs": [],
   "source": [
    "sigungu_14.loc[sigungu_14[\"지역\"]=='2014_경상남도_산청군','하천연장']=sigungu_14.loc[sigungu_14[\"지역\"]=='2014_경상남도_산청군','하천연장'].fillna(0.00561)"
   ]
  },
  {
   "cell_type": "code",
   "execution_count": null,
   "metadata": {},
   "outputs": [],
   "source": [
    "sigungu_14.loc[sigungu_14['하천연장'].isnull(),['년도','시도','지역','하천연장']].shape"
   ]
  },
  {
   "cell_type": "markdown",
   "metadata": {},
   "source": [
    "#### 광주광역시 광산구"
   ]
  },
  {
   "cell_type": "code",
   "execution_count": null,
   "metadata": {},
   "outputs": [],
   "source": [
    "### 2012_광주광역시_광산구 0.20248"
   ]
  },
  {
   "cell_type": "code",
   "execution_count": null,
   "metadata": {},
   "outputs": [],
   "source": [
    "sigungu_14.loc[sigungu_14[\"지역\"]=='2014_광주광역시_광산구','하천연장']=sigungu_14.loc[sigungu_14[\"지역\"]=='2014_광주광역시_광산구','하천연장'].fillna(0.20248)"
   ]
  },
  {
   "cell_type": "code",
   "execution_count": null,
   "metadata": {
    "scrolled": true
   },
   "outputs": [],
   "source": [
    "sigungu_14.loc[sigungu_14['하천연장'].isnull(),['년도','시도','지역','하천연장']].shape"
   ]
  },
  {
   "cell_type": "markdown",
   "metadata": {},
   "source": [
    "#### 광주광역시 동구"
   ]
  },
  {
   "cell_type": "code",
   "execution_count": null,
   "metadata": {},
   "outputs": [],
   "source": [
    "### 2012_광주광역시_동구 0.03659"
   ]
  },
  {
   "cell_type": "code",
   "execution_count": null,
   "metadata": {},
   "outputs": [],
   "source": [
    "sigungu_14.loc[sigungu_14[\"지역\"]=='2014_광주광역시_동구','하천연장']=sigungu_14.loc[sigungu_14[\"지역\"]=='2014_광주광역시_동구','하천연장'].fillna(0.03659)"
   ]
  },
  {
   "cell_type": "code",
   "execution_count": null,
   "metadata": {
    "scrolled": true
   },
   "outputs": [],
   "source": [
    "sigungu_14.loc[sigungu_14['하천연장'].isnull(),['년도','시도','지역','하천연장']].shape"
   ]
  },
  {
   "cell_type": "markdown",
   "metadata": {},
   "source": [
    "### 과거데이터 없어서, 주변 하천 연결된 시군구들의 평균값"
   ]
  },
  {
   "cell_type": "markdown",
   "metadata": {},
   "source": [
    "#### 경상남도_의령군(창녕,함안,진주시)"
   ]
  },
  {
   "cell_type": "code",
   "execution_count": null,
   "metadata": {
    "scrolled": true
   },
   "outputs": [],
   "source": [
    "##평균내기###\n",
    "mean_score('하천연장',\n",
    "           '2014_경상남도_창녕군','2014_경상남도_함안군',\n",
    "          '2014_경상남도_진주시')"
   ]
  },
  {
   "cell_type": "code",
   "execution_count": null,
   "metadata": {},
   "outputs": [],
   "source": [
    "###값 대체###\n",
    "fill_score('하천연장',0.02572,'2014_경상남도_의령군')"
   ]
  },
  {
   "cell_type": "code",
   "execution_count": null,
   "metadata": {},
   "outputs": [],
   "source": [
    "sigungu_14.loc[sigungu_14['하천연장'].isnull(),['년도','시도','지역','하천연장']].shape"
   ]
  },
  {
   "cell_type": "markdown",
   "metadata": {},
   "source": [
    "#### 대구광역시_중구(서구, 북구, 동구)"
   ]
  },
  {
   "cell_type": "code",
   "execution_count": null,
   "metadata": {},
   "outputs": [],
   "source": [
    "###평균내기###\n",
    "mean_score('하천연장','2014_대구광역시_서구',\n",
    "           '2014_대구광역시_북구','2014_대구광역시_동구')\n"
   ]
  },
  {
   "cell_type": "code",
   "execution_count": null,
   "metadata": {},
   "outputs": [],
   "source": [
    "###값 대체###\n",
    "fill_score('하천연장', 0.17901333,'2014_대구광역시_중구')"
   ]
  },
  {
   "cell_type": "code",
   "execution_count": null,
   "metadata": {},
   "outputs": [],
   "source": [
    "sigungu_14.loc[sigungu_14['하천연장'].isnull(),['년도','시도','지역','하천연장']].shape"
   ]
  },
  {
   "cell_type": "markdown",
   "metadata": {},
   "source": [
    "#### 대구광역시_남구(서구,달서구, 수성구)"
   ]
  },
  {
   "cell_type": "code",
   "execution_count": null,
   "metadata": {},
   "outputs": [],
   "source": [
    "###평균내기###\n",
    "mean_score('하천연장','2014_대구광역시_서구',\n",
    "           '2014_대구광역시_수성구','2014_대구광역시_달서구')"
   ]
  },
  {
   "cell_type": "code",
   "execution_count": null,
   "metadata": {},
   "outputs": [],
   "source": [
    "###값 대체###\n",
    "fill_score('하천연장', 0.12642667,'2014_대구광역시_남구')"
   ]
  },
  {
   "cell_type": "code",
   "execution_count": null,
   "metadata": {},
   "outputs": [],
   "source": [
    "sigungu_14.loc[sigungu_14['하천연장'].isnull(),['년도','시도','지역','하천연장']].shape"
   ]
  },
  {
   "cell_type": "markdown",
   "metadata": {},
   "source": [
    "#### 부산광역시_기장군(해운대구, 금정구)"
   ]
  },
  {
   "cell_type": "code",
   "execution_count": null,
   "metadata": {},
   "outputs": [],
   "source": [
    "###평균내기###\n",
    "mean_score('하천연장','2014_부산광역시_해운대구',\n",
    "           '2014_부산광역시_금정구')"
   ]
  },
  {
   "cell_type": "code",
   "execution_count": null,
   "metadata": {},
   "outputs": [],
   "source": [
    "###값 대체###\n",
    "fill_score('하천연장', 0.068925,'2014_부산광역시_기장군')"
   ]
  },
  {
   "cell_type": "code",
   "execution_count": null,
   "metadata": {},
   "outputs": [],
   "source": [
    "sigungu_14.loc[sigungu_14['하천연장'].isnull(),['년도','시도','지역','하천연장']].shape"
   ]
  },
  {
   "cell_type": "markdown",
   "metadata": {},
   "source": [
    "#### 부산광역시_수영구(연제구, 해운대구, 남구)"
   ]
  },
  {
   "cell_type": "code",
   "execution_count": null,
   "metadata": {
    "scrolled": false
   },
   "outputs": [],
   "source": [
    "###평균내기###\n",
    "mean_score('하천연장','2014_부산광역시_연제구','2014_부산광역시_해운대구',\n",
    "          '2014_부산광역시_남구')"
   ]
  },
  {
   "cell_type": "code",
   "execution_count": null,
   "metadata": {},
   "outputs": [],
   "source": [
    "###값 대체###\n",
    "fill_score('하천연장', 0.09758667,'2014_부산광역시_수영구')"
   ]
  },
  {
   "cell_type": "code",
   "execution_count": null,
   "metadata": {
    "scrolled": true
   },
   "outputs": [],
   "source": [
    "sigungu_14.loc[sigungu_14['하천연장'].isnull(),['년도','시도','지역','하천연장']].shape"
   ]
  },
  {
   "cell_type": "markdown",
   "metadata": {},
   "source": [
    "#### 부산광역시_강서구(김해, 북구)"
   ]
  },
  {
   "cell_type": "code",
   "execution_count": null,
   "metadata": {},
   "outputs": [],
   "source": [
    "###평균내기###\n",
    "mean_score('하천연장','2014_경상남도_김해시','2014_부산광역시_북구')"
   ]
  },
  {
   "cell_type": "code",
   "execution_count": null,
   "metadata": {},
   "outputs": [],
   "source": [
    "###값 대체###\n",
    "fill_score('하천연장',0.10976,'2014_부산광역시_강서구')"
   ]
  },
  {
   "cell_type": "code",
   "execution_count": null,
   "metadata": {},
   "outputs": [],
   "source": [
    "sigungu_14.loc[sigungu_14['하천연장'].isnull(),['년도','시도','지역','하천연장']].shape"
   ]
  },
  {
   "cell_type": "markdown",
   "metadata": {},
   "source": [
    "#### 부산광역시_동래구(북구, 연제구, 수영구, 해운대구)"
   ]
  },
  {
   "cell_type": "code",
   "execution_count": null,
   "metadata": {},
   "outputs": [],
   "source": [
    "###평균내기###\n",
    "mean_score('하천연장','2014_부산광역시_북구','2014_부산광역시_해운대구',\n",
    "          '2014_부산광역시_연제구','2014_부산광역시_수영구')"
   ]
  },
  {
   "cell_type": "code",
   "execution_count": null,
   "metadata": {},
   "outputs": [],
   "source": [
    "###값 대체###\n",
    "fill_score('하천연장', 0.11895667,'2014_부산광역시_동래구')"
   ]
  },
  {
   "cell_type": "code",
   "execution_count": null,
   "metadata": {},
   "outputs": [],
   "source": [
    "sigungu_14.loc[sigungu_14['하천연장'].isnull(),['년도','시도','지역','하천연장']].shape"
   ]
  },
  {
   "cell_type": "markdown",
   "metadata": {},
   "source": [
    "#### 부산광역시_사상구(북구, 서구, 강서구)"
   ]
  },
  {
   "cell_type": "code",
   "execution_count": null,
   "metadata": {},
   "outputs": [],
   "source": [
    "###평균내기###\n",
    "mean_score('하천연장','2014_부산광역시_북구','2014_부산광역시_서구',\n",
    "          '2014_부산광역시_강서구')"
   ]
  },
  {
   "cell_type": "code",
   "execution_count": null,
   "metadata": {},
   "outputs": [],
   "source": [
    "###값 대체###\n",
    "fill_score('하천연장', 0.08260667,'2014_부산광역시_사상구')"
   ]
  },
  {
   "cell_type": "code",
   "execution_count": null,
   "metadata": {},
   "outputs": [],
   "source": [
    "sigungu_14.loc[sigungu_14['하천연장'].isnull(),['년도','시도','지역','하천연장']].shape"
   ]
  },
  {
   "cell_type": "markdown",
   "metadata": {},
   "source": [
    "#### 부산광역시_수영구(연제구, 해운대구, 남구)"
   ]
  },
  {
   "cell_type": "code",
   "execution_count": null,
   "metadata": {},
   "outputs": [],
   "source": [
    "###평균내기###\n",
    "mean_score('하천연장','2014_부산광역시_연제구','2014_부산광역시_해운대구',\n",
    "          '2014_부산광역시_남구')"
   ]
  },
  {
   "cell_type": "code",
   "execution_count": null,
   "metadata": {},
   "outputs": [],
   "source": [
    "###값 대체###\n",
    "fill_score('하천연장', 0.09758667,'2014_부산광역시_수영구')"
   ]
  },
  {
   "cell_type": "code",
   "execution_count": null,
   "metadata": {
    "scrolled": true
   },
   "outputs": [],
   "source": [
    "sigungu_14.loc[sigungu_14['하천연장'].isnull(),['년도','시도','지역','하천연장']].shape"
   ]
  },
  {
   "cell_type": "markdown",
   "metadata": {},
   "source": [
    "#### 부산광역시_중구(서구,남구,사하구)"
   ]
  },
  {
   "cell_type": "code",
   "execution_count": null,
   "metadata": {},
   "outputs": [],
   "source": [
    "###평균내기###\n",
    "mean_score('하천연장','2014_부산광역시_동구','2014_부산광역시_서구',\n",
    "          '2014_부산광역시_사하구')"
   ]
  },
  {
   "cell_type": "code",
   "execution_count": null,
   "metadata": {},
   "outputs": [],
   "source": [
    "###값 대체###\n",
    "fill_score('하천연장', 0.02486333,'2014_부산광역시_중구')"
   ]
  },
  {
   "cell_type": "code",
   "execution_count": null,
   "metadata": {},
   "outputs": [],
   "source": [
    "sigungu_14.loc[sigungu_14['하천연장'].isnull(),['년도','시도','지역','하천연장']].shape"
   ]
  },
  {
   "cell_type": "markdown",
   "metadata": {},
   "source": [
    "#### 부산광역시_영도구(서구,남구,동구,중구)"
   ]
  },
  {
   "cell_type": "code",
   "execution_count": null,
   "metadata": {},
   "outputs": [],
   "source": [
    "###평균내기###\n",
    "mean_score('하천연장','2014_부산광역시_서구','2014_부산광역시_남구',\n",
    "          '2014_부산광역시_동구','2014_부산광역시_중구')"
   ]
  },
  {
   "cell_type": "code",
   "execution_count": null,
   "metadata": {},
   "outputs": [],
   "source": [
    "###값 대체###\n",
    "fill_score('하천연장', 0.02295833,'2014_부산광역시_영도구')"
   ]
  },
  {
   "cell_type": "code",
   "execution_count": null,
   "metadata": {},
   "outputs": [],
   "source": [
    "sigungu_14.loc[sigungu_14['하천연장'].isnull(),['년도','시도','지역','하천연장']].shape"
   ]
  },
  {
   "cell_type": "markdown",
   "metadata": {},
   "source": [
    "#### 서울특별시_광진구(송파구,강동구,성동구,감남구,구리시)"
   ]
  },
  {
   "cell_type": "code",
   "execution_count": null,
   "metadata": {},
   "outputs": [],
   "source": [
    "###평균내기###\n",
    "mean_score('하천연장','2014_서울특별시_송파구','2014_서울특별시_강동구',\n",
    "          '2014_서울특별시_성동구','2014_서울특별시_강남구','2014_경기도_구리시')   "
   ]
  },
  {
   "cell_type": "code",
   "execution_count": null,
   "metadata": {},
   "outputs": [],
   "source": [
    "###값 대체###\n",
    "fill_score('하천연장', 0.674708,'2014_서울특별시_광진구')"
   ]
  },
  {
   "cell_type": "code",
   "execution_count": null,
   "metadata": {},
   "outputs": [],
   "source": [
    "sigungu_14.loc[sigungu_14['하천연장'].isnull(),['년도','시도','지역','하천연장']].shape"
   ]
  },
  {
   "cell_type": "markdown",
   "metadata": {},
   "source": [
    "#### 서울특별시_마포구(강서구,영등포구,용산구,동작구)"
   ]
  },
  {
   "cell_type": "code",
   "execution_count": null,
   "metadata": {},
   "outputs": [],
   "source": [
    "###평균내기###\n",
    "mean_score('하천연장','2014_서울특별시_강서구','2014_서울특별시_영등포구',\n",
    "          '2014_서울특별시_용산구','2014_서울특별시_동작구')   "
   ]
  },
  {
   "cell_type": "code",
   "execution_count": null,
   "metadata": {},
   "outputs": [],
   "source": [
    "###값 대체###\n",
    "fill_score('하천연장', 0.1027975,'2014_서울특별시_마포구')"
   ]
  },
  {
   "cell_type": "code",
   "execution_count": null,
   "metadata": {},
   "outputs": [],
   "source": [
    "sigungu_14.loc[sigungu_14['하천연장'].isnull(),['년도','시도','지역','하천연장']].shape"
   ]
  },
  {
   "cell_type": "markdown",
   "metadata": {},
   "source": [
    "#### 서울특별시_양천구(구로구, 경기도_부천시,금천구)"
   ]
  },
  {
   "cell_type": "code",
   "execution_count": null,
   "metadata": {},
   "outputs": [],
   "source": [
    "###평균내기###\n",
    "mean_score('하천연장','2014_서울특별시_구로구','2014_경기도_부천시',\n",
    "          '2014_서울특별시_금천구')   "
   ]
  },
  {
   "cell_type": "code",
   "execution_count": null,
   "metadata": {},
   "outputs": [],
   "source": [
    "###값 대체###\n",
    "fill_score('하천연장', 0.36606667,'2014_서울특별시_양천구')"
   ]
  },
  {
   "cell_type": "code",
   "execution_count": null,
   "metadata": {},
   "outputs": [],
   "source": [
    "sigungu_14.loc[sigungu_14['하천연장'].isnull(),['년도','시도','지역','하천연장']].shape"
   ]
  },
  {
   "cell_type": "markdown",
   "metadata": {},
   "source": [
    "#### 서울특별시_중구(용산구,서대문구)"
   ]
  },
  {
   "cell_type": "code",
   "execution_count": null,
   "metadata": {},
   "outputs": [],
   "source": [
    "###평균내기###\n",
    "mean_score('하천연장','2014_서울특별시_용산구','2014_서울특별시_서대문구')   "
   ]
  },
  {
   "cell_type": "code",
   "execution_count": null,
   "metadata": {},
   "outputs": [],
   "source": [
    "###값 대체###\n",
    "fill_score('하천연장', 0.081935,'2014_서울특별시_중구')"
   ]
  },
  {
   "cell_type": "code",
   "execution_count": null,
   "metadata": {},
   "outputs": [],
   "source": [
    "sigungu_14.loc[sigungu_14['하천연장'].isnull(),['년도','시도','지역','하천연장']].shape"
   ]
  },
  {
   "cell_type": "markdown",
   "metadata": {},
   "source": [
    "#### 울산광역시_남구(울산 중구, 북구)"
   ]
  },
  {
   "cell_type": "code",
   "execution_count": null,
   "metadata": {},
   "outputs": [],
   "source": [
    "###평균내기###\n",
    "mean_score('하천연장','2014_울산광역시_중구','2014_울산광역시_북구')   "
   ]
  },
  {
   "cell_type": "code",
   "execution_count": null,
   "metadata": {},
   "outputs": [],
   "source": [
    "###값 대체###\n",
    "fill_score('하천연장', 0.112975,'2014_울산광역시_남구')"
   ]
  },
  {
   "cell_type": "code",
   "execution_count": null,
   "metadata": {},
   "outputs": [],
   "source": [
    "sigungu_14.loc[sigungu_14['하천연장'].isnull(),['년도','시도','지역','하천연장']].shape"
   ]
  },
  {
   "cell_type": "markdown",
   "metadata": {},
   "source": [
    "#### 울산광역시_동구 (울산 중구, 북구)"
   ]
  },
  {
   "cell_type": "code",
   "execution_count": null,
   "metadata": {},
   "outputs": [],
   "source": [
    "###평균내기###\n",
    "mean_score('하천연장','2014_울산광역시_중구','2014_울산광역시_북구')  "
   ]
  },
  {
   "cell_type": "code",
   "execution_count": null,
   "metadata": {},
   "outputs": [],
   "source": [
    "###값 대체###\n",
    "fill_score('하천연장', 0.112975,'2014_울산광역시_동구')"
   ]
  },
  {
   "cell_type": "code",
   "execution_count": null,
   "metadata": {},
   "outputs": [],
   "source": [
    "sigungu_14.loc[sigungu_14['하천연장'].isnull(),['년도','시도','지역','하천연장']].shape"
   ]
  },
  {
   "cell_type": "markdown",
   "metadata": {},
   "source": [
    "### 인천광역시_중구"
   ]
  },
  {
   "cell_type": "code",
   "execution_count": null,
   "metadata": {},
   "outputs": [],
   "source": [
    "#### 2015년 값으로 채우기(0.01246)"
   ]
  },
  {
   "cell_type": "code",
   "execution_count": null,
   "metadata": {},
   "outputs": [],
   "source": [
    "fill_score('하천연장', 0.01246,'2014_인천광역시_중구')"
   ]
  },
  {
   "cell_type": "code",
   "execution_count": null,
   "metadata": {},
   "outputs": [],
   "source": [
    "sigungu_14.loc[sigungu_14['하천연장'].isnull(),['년도','시도','지역','하천연장']].shape"
   ]
  },
  {
   "cell_type": "markdown",
   "metadata": {},
   "source": [
    "#### 인천광역시_남구( 남동구, 연수구) "
   ]
  },
  {
   "cell_type": "code",
   "execution_count": null,
   "metadata": {},
   "outputs": [],
   "source": [
    "###평균내기###\n",
    "mean_score('하천연장','2014_인천광역시_남동구'\n",
    "          ,'2014_인천광역시_연수구')  "
   ]
  },
  {
   "cell_type": "code",
   "execution_count": null,
   "metadata": {},
   "outputs": [],
   "source": [
    "###값 대체###\n",
    "fill_score('하천연장', 0.033515,'2014_인천광역시_남구')"
   ]
  },
  {
   "cell_type": "code",
   "execution_count": null,
   "metadata": {},
   "outputs": [],
   "source": [
    "sigungu_14.loc[sigungu_14['하천연장'].isnull(),['년도','시도','지역','하천연장']].shape"
   ]
  },
  {
   "cell_type": "markdown",
   "metadata": {},
   "source": [
    "#### 인천광역시_동구(인천 남구,중구)"
   ]
  },
  {
   "cell_type": "code",
   "execution_count": null,
   "metadata": {},
   "outputs": [],
   "source": [
    "###평균내기###\n",
    "mean_score('하천연장','2014_인천광역시_남구'\n",
    "          ,'2014_인천광역시_중구') "
   ]
  },
  {
   "cell_type": "code",
   "execution_count": null,
   "metadata": {},
   "outputs": [],
   "source": [
    "###값 대체###\n",
    "fill_score('하천연장', 0.0229875,'2014_인천광역시_동구')"
   ]
  },
  {
   "cell_type": "code",
   "execution_count": null,
   "metadata": {
    "scrolled": true
   },
   "outputs": [],
   "source": [
    "sigungu_14.loc[sigungu_14['하천연장'].isnull(),['년도','시도','지역','하천연장']].shape"
   ]
  },
  {
   "cell_type": "markdown",
   "metadata": {},
   "source": [
    "#### 인천광역시_부평구( 남동구, 부천시)"
   ]
  },
  {
   "cell_type": "code",
   "execution_count": null,
   "metadata": {},
   "outputs": [],
   "source": [
    "###평균내기###\n",
    "mean_score('하천연장','2014_경기도_부천시'\n",
    "          ,'2014_인천광역시_남동구') "
   ]
  },
  {
   "cell_type": "code",
   "execution_count": null,
   "metadata": {},
   "outputs": [],
   "source": [
    "###값 대체###\n",
    "fill_score('하천연장', 0.12832,'2014_인천광역시_부평구')"
   ]
  },
  {
   "cell_type": "code",
   "execution_count": null,
   "metadata": {},
   "outputs": [],
   "source": [
    "sigungu_14.loc[sigungu_14['하천연장'].isnull(),['년도','시도','지역','하천연장']].shape"
   ]
  },
  {
   "cell_type": "markdown",
   "metadata": {},
   "source": [
    "#### 인천광역시_옹진군(인천 중구)"
   ]
  },
  {
   "cell_type": "code",
   "execution_count": null,
   "metadata": {},
   "outputs": [],
   "source": [
    "###평균내기###\n",
    "mean_score('하천연장','2014_인천광역시_중구')"
   ]
  },
  {
   "cell_type": "code",
   "execution_count": null,
   "metadata": {},
   "outputs": [],
   "source": [
    "###값 대체###\n",
    "fill_score('하천연장',0.01246,'2014_인천광역시_옹진군')"
   ]
  },
  {
   "cell_type": "code",
   "execution_count": null,
   "metadata": {
    "scrolled": true
   },
   "outputs": [],
   "source": [
    "sigungu_14.loc[sigungu_14['하천연장'].isnull(),['년도','시도','지역','하천연장']].shape"
   ]
  },
  {
   "cell_type": "markdown",
   "metadata": {},
   "source": [
    "#### 전라북도_김제시(부안군,정읍시, 익산시)"
   ]
  },
  {
   "cell_type": "code",
   "execution_count": null,
   "metadata": {},
   "outputs": [],
   "source": [
    "###평균내기###\n",
    "mean_score('하천연장','2014_전라북도_부안군','2014_전라북도_정읍시','2014_전라북도_익산시')"
   ]
  },
  {
   "cell_type": "code",
   "execution_count": null,
   "metadata": {},
   "outputs": [],
   "source": [
    "###값 대체###\n",
    "fill_score('하천연장',0.30568333,'2014_전라북도_김제시')"
   ]
  },
  {
   "cell_type": "code",
   "execution_count": null,
   "metadata": {},
   "outputs": [],
   "source": [
    "sigungu_14.loc[sigungu_14['하천연장'].isnull(),['년도','시도','지역','하천연장']].shape"
   ]
  },
  {
   "cell_type": "markdown",
   "metadata": {},
   "source": [
    "#### 전라북도_임실군(남원시, 장수군,진안군,정읍시,순창군)\n",
    "##### 순창군에 연결되어 있는 하천 많아서 추가함"
   ]
  },
  {
   "cell_type": "code",
   "execution_count": null,
   "metadata": {},
   "outputs": [],
   "source": [
    "###평균내기###\n",
    "mean_score('하천연장','2014_전라북도_남원시','2014_전라북도_장수군','2014_전라북도_진안군',\n",
    "          '2014_전라북도_정읍시','2014_전라북도_순창군')"
   ]
  },
  {
   "cell_type": "code",
   "execution_count": null,
   "metadata": {},
   "outputs": [],
   "source": [
    "###값 대체###\n",
    "fill_score('하천연장',0.26955,'2014_전라북도_임실군')"
   ]
  },
  {
   "cell_type": "code",
   "execution_count": null,
   "metadata": {},
   "outputs": [],
   "source": [
    "sigungu_14.loc[sigungu_14['하천연장'].isnull(),['년도','시도','지역','하천연장']].shape"
   ]
  },
  {
   "cell_type": "markdown",
   "metadata": {},
   "source": [
    "#### 충청남도_태안군(충청남도 서산시)"
   ]
  },
  {
   "cell_type": "code",
   "execution_count": null,
   "metadata": {},
   "outputs": [],
   "source": [
    "###평균내기###\n",
    "mean_score('하천연장','2014_충청남도_서산시' )"
   ]
  },
  {
   "cell_type": "code",
   "execution_count": null,
   "metadata": {},
   "outputs": [],
   "source": [
    "###값 대체###\n",
    "fill_score('하천연장',0.01804,'2014_충청남도_태안군')"
   ]
  },
  {
   "cell_type": "code",
   "execution_count": null,
   "metadata": {
    "scrolled": false
   },
   "outputs": [],
   "source": [
    "sigungu_14.loc[sigungu_14['하천연장'].isnull(),['년도','시도','지역','하천연장']].shape"
   ]
  },
  {
   "cell_type": "markdown",
   "metadata": {},
   "source": [
    "### 최종확인"
   ]
  },
  {
   "cell_type": "code",
   "execution_count": null,
   "metadata": {},
   "outputs": [],
   "source": [
    "sigungu_14.loc[sigungu_14['하천연장'].isnull(),['년도','시도','지역','하천연장']]"
   ]
  },
  {
   "cell_type": "code",
   "execution_count": null,
   "metadata": {},
   "outputs": [],
   "source": [
    "sigungu_14.loc[sigungu_14['하천연장'].notnull(),['년도','시도','지역','하천연장']]"
   ]
  },
  {
   "cell_type": "code",
   "execution_count": null,
   "metadata": {
    "scrolled": false
   },
   "outputs": [],
   "source": [
    "msno.matrix(sigungu_14.loc[:,['지역','하천연장']])"
   ]
  },
  {
   "cell_type": "code",
   "execution_count": null,
   "metadata": {},
   "outputs": [],
   "source": [
    "msno.matrix(sigungu_14)"
   ]
  },
  {
   "cell_type": "code",
   "execution_count": null,
   "metadata": {},
   "outputs": [],
   "source": [
    "si = sigungu_14.iloc[:,:-7]"
   ]
  },
  {
   "cell_type": "code",
   "execution_count": null,
   "metadata": {},
   "outputs": [],
   "source": [
    "info_df(si)"
   ]
  },
  {
   "cell_type": "markdown",
   "metadata": {},
   "source": [
    "## 전처리 완료된 데이터 저장"
   ]
  },
  {
   "cell_type": "code",
   "execution_count": null,
   "metadata": {},
   "outputs": [],
   "source": [
    "si.to_csv(path+'imp_시군구별지역안전지표_2014.csv',encoding='cp949',index=False)"
   ]
  }
 ],
 "metadata": {
  "kernelspec": {
   "display_name": "Python 3",
   "language": "python",
   "name": "python3"
  },
  "language_info": {
   "codemirror_mode": {
    "name": "ipython",
    "version": 3
   },
   "file_extension": ".py",
   "mimetype": "text/x-python",
   "name": "python",
   "nbconvert_exporter": "python",
   "pygments_lexer": "ipython3",
   "version": "3.6.4"
  }
 },
 "nbformat": 4,
 "nbformat_minor": 2
}
