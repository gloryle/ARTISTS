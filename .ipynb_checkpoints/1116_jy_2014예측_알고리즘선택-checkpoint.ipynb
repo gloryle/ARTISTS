{
 "cells": [
  {
   "cell_type": "code",
   "execution_count": null,
   "metadata": {},
   "outputs": [],
   "source": [
    "import pandas as pd\n",
    "import matplotlib.pyplot as plt\n",
    "import missingno as msno\n",
    "import numpy  as np\n",
    "import seaborn as sns\n",
    "%matplotlib inline\n",
    "\n",
    "path = './data/'\n",
    "pd.options.display.max_rows = 150\n",
    "pd.options.display.max_columns = 350\n",
    "plt.rc('font',family='Malgun Gothic')\n",
    "plt.rcParams['axes.unicode_minus'] = False"
   ]
  },
  {
   "cell_type": "code",
   "execution_count": null,
   "metadata": {},
   "outputs": [],
   "source": [
    "sido = pd.read_csv(path+'sido_imp_10.csv', encoding='cp949')"
   ]
  },
  {
   "cell_type": "code",
   "execution_count": null,
   "metadata": {},
   "outputs": [],
   "source": [
    "sido_y = sido.iloc[:,-7:]\n",
    "sido_x = sido.iloc[:,3:-7]\n",
    "sido_name = sido.iloc[:,:3]"
   ]
  }
 ],
 "metadata": {
  "kernelspec": {
   "display_name": "Python 3",
   "language": "python",
   "name": "python3"
  },
  "language_info": {
   "codemirror_mode": {
    "name": "ipython",
    "version": 3
   },
   "file_extension": ".py",
   "mimetype": "text/x-python",
   "name": "python",
   "nbconvert_exporter": "python",
   "pygments_lexer": "ipython3",
   "version": "3.6.4"
  }
 },
 "nbformat": 4,
 "nbformat_minor": 2
}
