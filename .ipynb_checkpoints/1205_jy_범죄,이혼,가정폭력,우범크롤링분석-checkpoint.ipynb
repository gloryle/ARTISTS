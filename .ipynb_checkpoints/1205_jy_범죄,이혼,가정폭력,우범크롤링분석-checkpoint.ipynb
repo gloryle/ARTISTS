{
 "cells": [
  {
   "cell_type": "code",
   "execution_count": 1,
   "metadata": {},
   "outputs": [],
   "source": [
    "import pandas as pd"
   ]
  },
  {
   "cell_type": "markdown",
   "metadata": {},
   "source": [
    "# 크롤링데이터 로드"
   ]
  },
  {
   "cell_type": "code",
   "execution_count": 2,
   "metadata": {},
   "outputs": [
    {
     "data": {
      "text/plain": [
       "(77630, 20)"
      ]
     },
     "execution_count": 2,
     "metadata": {},
     "output_type": "execute_result"
    }
   ],
   "source": [
    "범죄웹크롤링 = 'C:/Users/COM/Desktop/범죄웹크롤링/'\n",
    "keywords = ['범죄','이혼','가정폭력','우범']\n",
    "범죄1=pd.read_csv(범죄웹크롤링+'범죄_1.csv', encoding='cp949')\n",
    "범죄2=pd.read_csv(범죄웹크롤링+'범죄_2.csv', encoding='cp949')\n",
    "범죄3=pd.read_csv(범죄웹크롤링+'범죄_3.csv', encoding='cp949')\n",
    "범죄4=pd.read_csv(범죄웹크롤링+'범죄_4.csv', encoding='cp949')\n",
    "범죄5=pd.read_csv(범죄웹크롤링+'범죄_5.csv', encoding='cp949')\n",
    "# 범죄뉴스 = pd.concat([df1,df2,df3,df4,df5])\n",
    "범죄뉴스 = pd.concat([범죄1,범죄2,범죄3,범죄4,범죄5])\n",
    "범죄뉴스.reset_index(inplace=True)\n",
    "범죄뉴스.shape"
   ]
  },
  {
   "cell_type": "code",
   "execution_count": 140,
   "metadata": {},
   "outputs": [
    {
     "data": {
      "text/plain": [
       "(126514, 20)"
      ]
     },
     "execution_count": 140,
     "metadata": {},
     "output_type": "execute_result"
    }
   ],
   "source": [
    "이혼1=pd.read_csv(범죄웹크롤링+'이혼_1.csv', encoding='cp949')\n",
    "이혼2=pd.read_csv(범죄웹크롤링+'이혼_2.csv', encoding='cp949')\n",
    "df0=pd.read_csv(범죄웹크롤링+'이혼_2012.csv', encoding='cp949')\n",
    "df1=pd.read_csv(범죄웹크롤링+'이혼_2013.csv', encoding='cp949')\n",
    "df2=pd.read_csv(범죄웹크롤링+'이혼_2014-1.csv', encoding='cp949')\n",
    "df3=pd.read_csv(범죄웹크롤링+'이혼_2014-2.csv', encoding='cp949')\n",
    "df4=pd.read_csv(범죄웹크롤링+'이혼_2016.csv', encoding='cp949')\n",
    "df5=pd.read_csv(범죄웹크롤링+'이혼_2017.csv', encoding='cp949')\n",
    "df6=pd.read_csv(범죄웹크롤링+'이혼_2018.csv', encoding='cp949')\n",
    "\n",
    "이혼뉴스 = pd.concat([이혼1,이혼2,df0,df1,df2,df3,df4,df5,df6])\n",
    "이혼뉴스.reset_index(inplace=True)\n",
    "이혼뉴스.shape"
   ]
  },
  {
   "cell_type": "code",
   "execution_count": 95,
   "metadata": {},
   "outputs": [
    {
     "data": {
      "text/plain": [
       "(20000, 19)"
      ]
     },
     "execution_count": 95,
     "metadata": {},
     "output_type": "execute_result"
    }
   ],
   "source": [
    "가정폭력뉴스=pd.read_csv(범죄웹크롤링+'가정폭력.csv', encoding='cp949')\n",
    "가정폭력뉴스_1218=pd.read_csv(범죄웹크롤링+'가정폭력_1218.csv', encoding='cp949')\n",
    "가정폭력뉴스_1218.shape"
   ]
  },
  {
   "cell_type": "code",
   "execution_count": 6,
   "metadata": {},
   "outputs": [
    {
     "data": {
      "text/plain": [
       "(1283, 19)"
      ]
     },
     "execution_count": 6,
     "metadata": {},
     "output_type": "execute_result"
    }
   ],
   "source": [
    "우범뉴스=pd.read_csv(범죄웹크롤링+'우범.csv', encoding='cp949')\n",
    "우범뉴스.shape"
   ]
  },
  {
   "cell_type": "code",
   "execution_count": 7,
   "metadata": {},
   "outputs": [
    {
     "data": {
      "text/plain": [
       "(6978, 19)"
      ]
     },
     "execution_count": 7,
     "metadata": {},
     "output_type": "execute_result"
    }
   ],
   "source": [
    "학교폭력뉴스=pd.read_csv(범죄웹크롤링+'학교폭력.csv', encoding='cp949')\n",
    "학교폭력뉴스.shape"
   ]
  },
  {
   "cell_type": "markdown",
   "metadata": {},
   "source": [
    "# 함수"
   ]
  },
  {
   "cell_type": "markdown",
   "metadata": {},
   "source": [
    "### 함수1: 주어진df에대해 분류의 집합을 구하는 함수"
   ]
  },
  {
   "cell_type": "code",
   "execution_count": 5,
   "metadata": {},
   "outputs": [],
   "source": [
    "def 사건사고분류(df):\n",
    "    사건사고분류리스트=[]\n",
    "    for i in range(3):\n",
    "        row = '사건/사고 분류'+f'{i+1}'\n",
    "        사건사고분류리스트 = 사건사고분류리스트+list(set(df[row].dropna().values))\n",
    "    for i in range(len(사건사고분류리스트)):\n",
    "        사건사고분류리스트[i] = 사건사고분류리스트[i].strip()\n",
    "    사건사고분류 = set(사건사고분류리스트)\n",
    "    return 사건사고분류\n",
    "\n",
    "def 통합분류(df):\n",
    "    통합분류리스트=[]\n",
    "    for i in range(3):\n",
    "        row = '통합 분류'+f'{i+1}'\n",
    "        통합분류리스트 = 통합분류리스트+list(set(df[row].dropna().values))\n",
    "    for i in range(len(통합분류리스트)):\n",
    "        통합분류리스트[i] = 통합분류리스트[i].strip()\n",
    "    통합분류 = set(통합분류리스트)\n",
    "    return 통합분류"
   ]
  },
  {
   "cell_type": "markdown",
   "metadata": {},
   "source": [
    "### 함수2:\n",
    "<pre>\n",
    "#wordfrequencygraph\n",
    "시리즈를 넣으면 빈도분석그래프를 그리는 함수\n",
    "#keywordseries2list\n",
    "시리즈(한elem이 한기사내의 단어string)-->리스트(한단어가 한elem) 즉, token\n",
    "</pre>\n",
    "*키워드열 혹은 특성분석열로 그릴 수 있다."
   ]
  },
  {
   "cell_type": "code",
   "execution_count": 6,
   "metadata": {},
   "outputs": [
    {
     "name": "stderr",
     "output_type": "stream",
     "text": [
      "C:\\Anaconda3\\lib\\site-packages\\jpype\\_core.py:210: UserWarning: \n",
      "-------------------------------------------------------------------------------\n",
      "Deprecated: convertStrings was not specified when starting the JVM. The default\n",
      "behavior in JPype will be False starting in JPype 0.8. The recommended setting\n",
      "for new code is convertStrings=False.  The legacy value of True was assumed for\n",
      "this session. If you are a user of an application that reported this warning,\n",
      "please file a ticket with the developer.\n",
      "-------------------------------------------------------------------------------\n",
      "\n",
      "  \"\"\")\n"
     ]
    }
   ],
   "source": [
    "import pandas as pd\n",
    "import nltk\n",
    "from konlpy.tag import Komoran\n",
    "from wordcloud import WordCloud\n",
    "from wordcloud import STOPWORDS\n",
    "import matplotlib.pyplot as plt\n",
    "%matplotlib inline\n",
    "komoran = Komoran()\n",
    "plt.rc('font',family='Malgun Gothic')\n",
    "plt.rcParams['axes.unicode_minus'] = False"
   ]
  },
  {
   "cell_type": "code",
   "execution_count": 7,
   "metadata": {},
   "outputs": [],
   "source": [
    "def keywordseries2list(series):\n",
    "    kwlst = list(series)\n",
    "    wordlist=[]\n",
    "    for i in range(len(kwlst)):\n",
    "        wordlist += str(kwlst[i]).split(\",\")\n",
    "    print(f'token: wordlist with {len(wordlist)}words')\n",
    "    return wordlist\n",
    "    #'float' object has no attribute 'split' : 숫자만 들어있는게 있나봐\n",
    "def wordfrequencygraph(seriesorlist):\n",
    "    if type(seriesorlist)==list:\n",
    "        print('make list to token')\n",
    "        print(f'token: wordlist with {len(seriesorlist)}words')\n",
    "        tokens = seriesorlist\n",
    "    if type(seriesorlist)==pd.core.series.Series:\n",
    "        print('make series to token')\n",
    "        tokens = keywordseries2list(seriesorlist)\n",
    "    vocab = nltk.Text(tokens)\n",
    "    plt.figure(figsize=(16,4))\n",
    "    plt.title('빈도분석')\n",
    "    vocab.plot(50)\n",
    "    plt.show()"
   ]
  },
  {
   "cell_type": "markdown",
   "metadata": {},
   "source": [
    "### 함수3 :\n",
    "<pre>\n",
    "#필터링키워드를 넣으면 해당뉴스를 반환하는 함수\n",
    "범죄뉴스(전체데이터프레임)과 필터링할분류(미성년범죄), 필터링시작점(8)을 넣으면 해당뉴스를 반환하는 함수\n",
    "#df=범죄뉴스, filt='사건/사고 분류'or'통합 분류', k=8, keyword ='미성년범죄'\n",
    "</pre>"
   ]
  },
  {
   "cell_type": "code",
   "execution_count": 110,
   "metadata": {},
   "outputs": [],
   "source": [
    "def classifyfilter(df,filt,m,n,keyword):\n",
    "    # 특정 사건사고분류가 담긴 인덱스를 가져온다.\n",
    "    indexlist=[]\n",
    "    for j in range(3):\n",
    "        row = filt+f'{j+1}'\n",
    "        print(row)\n",
    "        for i in range(len(df)):\n",
    "            for word in keyword:\n",
    "                if str(df[row][i])[m:n] == word:\n",
    "                    #print(str(범죄뉴스['사건/사고 분류1'][i])[8:])\n",
    "                    indexlist.append(i)\n",
    "    print(f'{len(indexlist)} news filtered')\n",
    "    #전체데이터프레임에서 조건에 해당하는 뉴스행만 뽑는다.\n",
    "    return df.loc[df.index.isin(indexlist)==True]"
   ]
  },
  {
   "cell_type": "markdown",
   "metadata": {},
   "source": [
    "### 함수4: 제목들의 명사리스트를 만드는 함수\n",
    "<pre>\n",
    "#분할된 시리즈.tolist()를 반복적으로 읽어 통합된리스트(한word가 한elem)로 만드는 함수\n",
    "#리스트를 반복해서 건네고 마지막 titlelist를 만든다.\n",
    "</pre>"
   ]
  },
  {
   "cell_type": "code",
   "execution_count": 9,
   "metadata": {},
   "outputs": [],
   "source": [
    "import re\n",
    "#여러개의 읽은 파일들에서  나중에 제목의 명사만 통합할 리스트.\n",
    "titlenouns=[]\n",
    "def titlelist2titlenouns(lst):\n",
    "    for i,elem in enumerate(lst):\n",
    "        elem = re.sub('[^0-9a-zA-Zㄱ-힗]', ' ', str(elem))\n",
    "    #리스트의 한elem단위로 토크나이징\n",
    "    transaction = []\n",
    "    for n in lst:\n",
    "        transelem = komoran.nouns(str(n))\n",
    "        transaction.append(transelem)\n",
    "    #한글자제거\n",
    "    fin_lst=[]\n",
    "    for n in transaction:\n",
    "        two_lst = []\n",
    "        for i in n:\n",
    "            if len(i)<=1:\n",
    "                pass\n",
    "            else:\n",
    "                two_lst.append(i)\n",
    "        fin_lst.append(two_lst)\n",
    "    #명사리스트로\n",
    "    for i in fin_lst:\n",
    "        for n in i:\n",
    "            titlenouns.append(n)\n",
    "    print(f'titlenouns with {len(titlenouns)} words')\n",
    "    return titlenouns"
   ]
  },
  {
   "cell_type": "code",
   "execution_count": 10,
   "metadata": {},
   "outputs": [],
   "source": [
    "#확장: 트랜잭션만드는함수들\n",
    "def list2transaction(lst): #제목리스트를 바꿈\n",
    "    for i,elem in enumerate(lst):\n",
    "        elem = re.sub('[^0-9a-zA-Zㄱ-힗]', ' ', str(elem))\n",
    "    #리스트의 한elem단위로 토크나이징\n",
    "    transaction = []\n",
    "    for n in lst:\n",
    "        transelem = komoran.nouns(str(n))\n",
    "        transaction.append(transelem)\n",
    "    #한글자제거\n",
    "    fin_lst=[]\n",
    "    for n in transaction:\n",
    "        two_lst = []\n",
    "        for i in n:\n",
    "            if len(i)<=1:\n",
    "                pass\n",
    "            else:\n",
    "                two_lst.append(i)\n",
    "        fin_lst.append(two_lst)\n",
    "    return fin_lst\n",
    "def series2transaction(series): #키워드, 특성추출을 바꿈\n",
    "    lst = list(series)\n",
    "    transaction=[]\n",
    "    for i in range(len(lst)):\n",
    "        transaction.append(list(str(lst[i]).split(\",\")))\n",
    "    print(f'token: wordlist with {len(transaction)}words')\n",
    "    return transaction"
   ]
  },
  {
   "cell_type": "markdown",
   "metadata": {},
   "source": [
    "# 함수사용정리\n",
    "### 1"
   ]
  },
  {
   "cell_type": "code",
   "execution_count": 11,
   "metadata": {},
   "outputs": [],
   "source": [
    "# 사건사고분류(범죄뉴스)"
   ]
  },
  {
   "cell_type": "code",
   "execution_count": 12,
   "metadata": {},
   "outputs": [],
   "source": [
    "# 통합분류(범죄뉴스)"
   ]
  },
  {
   "cell_type": "markdown",
   "metadata": {},
   "source": [
    "### 2"
   ]
  },
  {
   "cell_type": "code",
   "execution_count": 13,
   "metadata": {},
   "outputs": [],
   "source": [
    "# #키워드열로 빈도분석\n",
    "# wordfrequencygraph(범죄뉴스.키워드)\n",
    "# #특성추출열로 빈도분석\n",
    "# wordfrequencygraph(범죄뉴스.특성추출)"
   ]
  },
  {
   "cell_type": "markdown",
   "metadata": {},
   "source": [
    "### 3"
   ]
  },
  {
   "cell_type": "code",
   "execution_count": 14,
   "metadata": {},
   "outputs": [],
   "source": [
    "# #필터링\n",
    "# 범죄뉴스_미성년범죄 = classifyfilter(범죄뉴스,'사건/사고 분류',8,'미성년범죄')\n",
    "# wordfrequencygraph(범죄뉴스_미성년범죄.키워드)\n",
    "# wordfrequencygraph(범죄뉴스_미성년범죄.특성추출)"
   ]
  },
  {
   "cell_type": "markdown",
   "metadata": {},
   "source": [
    "### 4"
   ]
  },
  {
   "cell_type": "code",
   "execution_count": 15,
   "metadata": {},
   "outputs": [],
   "source": [
    "# #제목의 명사로 분석\n",
    "# titlenouns=[]"
   ]
  },
  {
   "cell_type": "code",
   "execution_count": 16,
   "metadata": {},
   "outputs": [],
   "source": [
    "# titlenouns = titlelist2titlenouns(범죄3.제목.tolist())"
   ]
  },
  {
   "cell_type": "code",
   "execution_count": 17,
   "metadata": {},
   "outputs": [],
   "source": [
    "# wordfrequencygraph(titlenouns)"
   ]
  },
  {
   "cell_type": "markdown",
   "metadata": {},
   "source": [
    "# 빈도분석그래프: '범죄'"
   ]
  },
  {
   "cell_type": "code",
   "execution_count": 18,
   "metadata": {},
   "outputs": [],
   "source": [
    "# [전체 제목]"
   ]
  },
  {
   "cell_type": "code",
   "execution_count": 160,
   "metadata": {},
   "outputs": [],
   "source": [
    "titlenouns=[]"
   ]
  },
  {
   "cell_type": "code",
   "execution_count": 161,
   "metadata": {},
   "outputs": [
    {
     "name": "stdout",
     "output_type": "stream",
     "text": [
      "titlenouns with 41957 words\n"
     ]
    }
   ],
   "source": [
    "titlenouns = titlelist2titlenouns(학교폭력뉴스.제목.tolist())"
   ]
  },
  {
   "cell_type": "code",
   "execution_count": 162,
   "metadata": {},
   "outputs": [
    {
     "name": "stdout",
     "output_type": "stream",
     "text": [
      "make list to token\n",
      "token: wordlist with 41957words\n"
     ]
    },
    {
     "data": {
      "image/png": "[encoded data removed]",
      "text/plain": [
       "<Figure size 1152x288 with 1 Axes>"
      ]
     },
     "metadata": {},
     "output_type": "display_data"
    }
   ],
   "source": [
    "wordfrequencygraph(titlenouns)"
   ]
  },
  {
   "cell_type": "code",
   "execution_count": 78,
   "metadata": {},
   "outputs": [],
   "source": [
    "# [전체 키워드]"
   ]
  },
  {
   "cell_type": "code",
   "execution_count": 163,
   "metadata": {
    "scrolled": false
   },
   "outputs": [
    {
     "name": "stdout",
     "output_type": "stream",
     "text": [
      "make series to token\n",
      "token: wordlist with 969501words\n"
     ]
    },
    {
     "data": {
      "image/png": "[encoded data removed]",
      "text/plain": [
       "<Figure size 1152x288 with 1 Axes>"
      ]
     },
     "metadata": {},
     "output_type": "display_data"
    }
   ],
   "source": [
    "wordfrequencygraph(학교폭력뉴스.키워드)"
   ]
  },
  {
   "cell_type": "code",
   "execution_count": 80,
   "metadata": {},
   "outputs": [],
   "source": [
    "# [전체 특성추출]"
   ]
  },
  {
   "cell_type": "code",
   "execution_count": 164,
   "metadata": {
    "scrolled": false
   },
   "outputs": [
    {
     "name": "stdout",
     "output_type": "stream",
     "text": [
      "make series to token\n",
      "token: wordlist with 194044words\n"
     ]
    },
    {
     "data": {
      "image/png": "[encoded data removed]",
      "text/plain": [
       "<Figure size 1152x288 with 1 Axes>"
      ]
     },
     "metadata": {},
     "output_type": "display_data"
    }
   ],
   "source": [
    "wordfrequencygraph(학교폭력뉴스.특성추출)"
   ]
  },
  {
   "cell_type": "markdown",
   "metadata": {},
   "source": [
    "# filtered"
   ]
  },
  {
   "cell_type": "code",
   "execution_count": 11,
   "metadata": {},
   "outputs": [],
   "source": [
    "# [필터링 제목]:미성년범죄"
   ]
  },
  {
   "cell_type": "code",
   "execution_count": 147,
   "metadata": {},
   "outputs": [],
   "source": [
    "def classifyfilter(df,filt,m,n,keyword):\n",
    "    # 특정 사건사고분류가 담긴 인덱스를 가져온다.\n",
    "    indexlist=[]\n",
    "    for j in range(3):\n",
    "        row = filt+f'{j+1}'\n",
    "        print(row)\n",
    "        for i in range(len(df)):\n",
    "            for word in keyword:\n",
    "                if str(df[row][i])[m:n] == word:\n",
    "                    #print(str(범죄뉴스['사건/사고 분류1'][i])[8:])\n",
    "                    indexlist.append(i)\n",
    "    print(f'{len(indexlist)} news filtered')\n",
    "    #전체데이터프레임에서 조건에 해당하는 뉴스행만 뽑는다.\n",
    "    return df.loc[df.index.isin(indexlist)==True]"
   ]
  },
  {
   "cell_type": "code",
   "execution_count": 148,
   "metadata": {},
   "outputs": [
    {
     "data": {
      "text/plain": [
       "True"
      ]
     },
     "execution_count": 148,
     "metadata": {},
     "output_type": "execute_result"
    }
   ],
   "source": [
    "str(이혼뉴스['사건/사고 분류1'][7])[3:7]=='범죄일반'"
   ]
  },
  {
   "cell_type": "code",
   "execution_count": 150,
   "metadata": {},
   "outputs": [
    {
     "name": "stdout",
     "output_type": "stream",
     "text": [
      "사건/사고 분류1\n",
      "사건/사고 분류2\n",
      "사건/사고 분류3\n",
      "22074 news filtered\n",
      "titlenouns with 128036 words\n",
      "make list to token\n",
      "token: wordlist with 128036words\n"
     ]
    },
    {
     "data": {
      "image/png": "[encoded data removed]",
      "text/plain": [
       "<Figure size 1152x288 with 1 Axes>"
      ]
     },
     "metadata": {},
     "output_type": "display_data"
    }
   ],
   "source": [
    "전체뉴스_필터단어 = classifyfilter(이혼뉴스,'사건/사고 분류',3,7,['범죄일반','성범죄>','사회갈등','사회문제'])\n",
    "titlenouns=[]\n",
    "titlenouns = titlelist2titlenouns(전체뉴스_필터단어.제목.tolist())\n",
    "wordfrequencygraph(titlenouns)"
   ]
  },
  {
   "cell_type": "code",
   "execution_count": 37,
   "metadata": {},
   "outputs": [],
   "source": [
    "# [필터링 키워드]"
   ]
  },
  {
   "cell_type": "code",
   "execution_count": 38,
   "metadata": {},
   "outputs": [
    {
     "name": "stdout",
     "output_type": "stream",
     "text": [
      "make series to token\n",
      "token: wordlist with 312137words\n"
     ]
    },
    {
     "data": {
      "image/png": "[encoded data removed]",
      "text/plain": [
       "<Figure size 1152x288 with 1 Axes>"
      ]
     },
     "metadata": {},
     "output_type": "display_data"
    }
   ],
   "source": [
    "wordfrequencygraph(전체뉴스_필터단어.키워드)"
   ]
  },
  {
   "cell_type": "code",
   "execution_count": 39,
   "metadata": {},
   "outputs": [],
   "source": [
    "# [필터링 특성추출]"
   ]
  },
  {
   "cell_type": "code",
   "execution_count": 40,
   "metadata": {
    "scrolled": false
   },
   "outputs": [
    {
     "name": "stdout",
     "output_type": "stream",
     "text": [
      "make series to token\n",
      "token: wordlist with 53535words\n"
     ]
    },
    {
     "data": {
      "image/png": "[encoded data removed]",
      "text/plain": [
       "<Figure size 1152x288 with 1 Axes>"
      ]
     },
     "metadata": {},
     "output_type": "display_data"
    }
   ],
   "source": [
    "wordfrequencygraph(전체뉴스_필터단어.특성추출)"
   ]
  },
  {
   "cell_type": "code",
   "execution_count": 41,
   "metadata": {},
   "outputs": [],
   "source": [
    "#연관분석"
   ]
  },
  {
   "cell_type": "code",
   "execution_count": 80,
   "metadata": {},
   "outputs": [],
   "source": [
    "transaction_title = list2transaction(이혼뉴스.제목.tolist())"
   ]
  },
  {
   "cell_type": "code",
   "execution_count": 151,
   "metadata": {},
   "outputs": [
    {
     "name": "stdout",
     "output_type": "stream",
     "text": [
      "token: wordlist with 22074words\n"
     ]
    }
   ],
   "source": [
    "transaction_keyword = series2transaction(전체뉴스_필터단어.키워드)"
   ]
  },
  {
   "cell_type": "code",
   "execution_count": 82,
   "metadata": {},
   "outputs": [
    {
     "name": "stdout",
     "output_type": "stream",
     "text": [
      "token: wordlist with 126514words\n"
     ]
    }
   ],
   "source": [
    "transaction_feature = series2transaction(이혼뉴스.특성추출)"
   ]
  },
  {
   "cell_type": "code",
   "execution_count": 83,
   "metadata": {},
   "outputs": [],
   "source": [
    "from apyori import apriori\n",
    "rules = apriori(transaction_title, min_support=0.1, min_confidence=0.1)\n",
    "results= list(rules)"
   ]
  },
  {
   "cell_type": "code",
   "execution_count": 84,
   "metadata": {},
   "outputs": [],
   "source": [
    "result_df = pd.DataFrame(None, columns=['lhs','rhs','support','confidence','lift'])\n",
    "index=0\n",
    "for result in results:\n",
    "    support = result[1]\n",
    "    ordered_statistic = result[2]\n",
    "    for item in ordered_statistic:\n",
    "        lhs = ' '.join(x.strip() for x in item[0])\n",
    "        rhs = ' '.join(x.strip() for x in item[1])\n",
    "        confidence = item[2]\n",
    "        lift = item[3]\n",
    "        result_df.loc[index] = [lhs, rhs, support, confidence, lift]\n",
    "        index +=1\n",
    "result_df\n",
    "pd.DataFrame(result_df).to_csv(범죄웹크롤링+'이혼뉴스_연관분석_타이틀_1218.csv',encoding='cp949',index=False)"
   ]
  },
  {
   "cell_type": "code",
   "execution_count": 152,
   "metadata": {},
   "outputs": [],
   "source": [
    "rules = apriori(transaction_keyword, min_support=0.1, min_confidence=0.1)\n",
    "results= list(rules)"
   ]
  },
  {
   "cell_type": "code",
   "execution_count": 153,
   "metadata": {},
   "outputs": [],
   "source": [
    "result_df = pd.DataFrame(None, columns=['lhs','rhs','support','confidence','lift'])\n",
    "index=0\n",
    "for result in results:\n",
    "    support = result[1]\n",
    "    ordered_statistic = result[2]\n",
    "    for item in ordered_statistic:\n",
    "        lhs = ' '.join(x.strip() for x in item[0])\n",
    "        rhs = ' '.join(x.strip() for x in item[1])\n",
    "        confidence = item[2]\n",
    "        lift = item[3]\n",
    "        result_df.loc[index] = [lhs, rhs, support, confidence, lift]\n",
    "        index +=1\n",
    "result_df\n",
    "pd.DataFrame(result_df).to_csv(범죄웹크롤링+'이혼_분류제외_연관분석_키워드_1218.csv',encoding='cp949',index=False)"
   ]
  },
  {
   "cell_type": "code",
   "execution_count": 87,
   "metadata": {},
   "outputs": [],
   "source": [
    "rules = apriori(transaction_feature, min_support=0.2, min_confidence=0.3)\n",
    "results= list(rules)"
   ]
  },
  {
   "cell_type": "code",
   "execution_count": 88,
   "metadata": {},
   "outputs": [],
   "source": [
    "result_df = pd.DataFrame(None, columns=['lhs','rhs','support','confidence','lift'])\n",
    "index=0\n",
    "for result in results:\n",
    "    support = result[1]\n",
    "    ordered_statistic = result[2]\n",
    "    for item in ordered_statistic:\n",
    "        lhs = ' '.join(x.strip() for x in item[0])\n",
    "        rhs = ' '.join(x.strip() for x in item[1])\n",
    "        confidence = item[2]\n",
    "        lift = item[3]\n",
    "        result_df.loc[index] = [lhs, rhs, support, confidence, lift]\n",
    "        index +=1\n",
    "result_df\n",
    "pd.DataFrame(result_df).to_csv(범죄웹크롤링+'이혼뉴스_연관분석_특성추출_1218.csv',encoding='cp949',index=False)"
   ]
  },
  {
   "cell_type": "code",
   "execution_count": null,
   "metadata": {},
   "outputs": [],
   "source": []
  },
  {
   "cell_type": "code",
   "execution_count": null,
   "metadata": {},
   "outputs": [],
   "source": []
  },
  {
   "cell_type": "code",
   "execution_count": null,
   "metadata": {},
   "outputs": [],
   "source": []
  },
  {
   "cell_type": "code",
   "execution_count": null,
   "metadata": {},
   "outputs": [],
   "source": []
  },
  {
   "cell_type": "code",
   "execution_count": null,
   "metadata": {},
   "outputs": [],
   "source": []
  },
  {
   "cell_type": "code",
   "execution_count": null,
   "metadata": {},
   "outputs": [],
   "source": []
  },
  {
   "cell_type": "code",
   "execution_count": 157,
   "metadata": {},
   "outputs": [
    {
     "data": {
      "text/html": [
       "<div>\n",
       "<style scoped>\n",
       "    .dataframe tbody tr th:only-of-type {\n",
       "        vertical-align: middle;\n",
       "    }\n",
       "\n",
       "    .dataframe tbody tr th {\n",
       "        vertical-align: top;\n",
       "    }\n",
       "\n",
       "    .dataframe thead th {\n",
       "        text-align: right;\n",
       "    }\n",
       "</style>\n",
       "<table border=\"1\" class=\"dataframe\">\n",
       "  <thead>\n",
       "    <tr style=\"text-align: right;\">\n",
       "      <th></th>\n",
       "      <th>제목</th>\n",
       "      <th>본문</th>\n",
       "    </tr>\n",
       "  </thead>\n",
       "  <tbody>\n",
       "    <tr>\n",
       "      <td>6918</td>\n",
       "      <td>독자투고- 가정폭력 제대로 알고 대처하자</td>\n",
       "      <td>해마다 가정폭력 발생과 재범률은 증가하고 있지만 정작 그 피해자들은 사안이 경미하거...</td>\n",
       "    </tr>\n",
       "    <tr>\n",
       "      <td>10942</td>\n",
       "      <td>석달의 정성 '달방' 가출청소년, 학교로 돌려보낸 경찰관</td>\n",
       "      <td>#전북 전주에 사는 민혁이(17 가명)는 15~17살 또래 친구 네 명과 시내의 한...</td>\n",
       "    </tr>\n",
       "    <tr>\n",
       "      <td>12238</td>\n",
       "      <td>“처벌 안받아서 비행한다고?” 촉법소년, 어디까지 아시나요?</td>\n",
       "      <td>［헤럴드경제=강승연ㆍ김진원 기자］“어린이날로 받고 싶은 선물요? 옥주현 언니 뮤지컬...</td>\n",
       "    </tr>\n",
       "    <tr>\n",
       "      <td>12309</td>\n",
       "      <td>우리사회의 그림자 ‘결손가정 출신’ 촉법소년의 어린이날</td>\n",
       "      <td>［헤럴드경제=김진원 기자］“어린이날로 받고 싶은 선물요? 옥주현 언니 뮤지컬 앨범이...</td>\n",
       "    </tr>\n",
       "    <tr>\n",
       "      <td>13163</td>\n",
       "      <td>[포럼] 가정교육이 위대한 사람 만든다</td>\n",
       "      <td>5월은 푸른 하늘만 우러러 보아도 가슴이 울렁거리는 희망의 계절이며 어린이날, 어버...</td>\n",
       "    </tr>\n",
       "    <tr>\n",
       "      <td>14273</td>\n",
       "      <td>아이들과 함께 하는 시간이 가정의 골든타임</td>\n",
       "      <td>소년부 법정에서 만난 아버지들 안타까운 모습 담아 책 출간\\n\"가정이 안전기지가 되...</td>\n",
       "    </tr>\n",
       "    <tr>\n",
       "      <td>14533</td>\n",
       "      <td>최대 '몸캠' 피싱 조직 검거 알몸영상 확보 후 돈 갈취</td>\n",
       "      <td>◀ 앵커 ▶채팅으로 음란 행위를 하는 동영상을 확보한 뒤 남성들에게 돈을 뜯어내는 ...</td>\n",
       "    </tr>\n",
       "    <tr>\n",
       "      <td>14766</td>\n",
       "      <td>처벌 안 받는 ‘촉법소년’ 재범방지 돕는 ‘소년법’ 개정안 눈길</td>\n",
       "      <td>아주경제 조문식 기자 =?범죄를 저질러도 대부분 처벌을 받지 않고 있는 ‘촉법소년(...</td>\n",
       "    </tr>\n",
       "    <tr>\n",
       "      <td>20695</td>\n",
       "      <td>가정폭력 현명한 대처 필요하다</td>\n",
       "      <td>해마다 가정폭력 발생과 재범률은 증가하고 있지만 정작 그 피해자들은 사안이 경미하거...</td>\n",
       "    </tr>\n",
       "    <tr>\n",
       "      <td>23293</td>\n",
       "      <td>[경찰의 눈] '가정폭력' 전 국민적 관심이 필요한 때</td>\n",
       "      <td>[대전=중도일보] 가정폭력 문제는 오늘날 새삼스러운 것은 아니다. 가족은 사적인 영...</td>\n",
       "    </tr>\n",
       "    <tr>\n",
       "      <td>23294</td>\n",
       "      <td>[경찰의 눈] '가정폭력' 전 국민적 관심이 필요한 때</td>\n",
       "      <td>[대전=중도일보] 가정폭력 문제는 오늘날 새삼스러운 것은 아니다. 가족은 사적인 영...</td>\n",
       "    </tr>\n",
       "    <tr>\n",
       "      <td>23712</td>\n",
       "      <td>흑인 여고생 ‘메다꽂기’ 과잉진압 美 백인 경찰 해고</td>\n",
       "      <td>미국 고등학교 교실에서 흑인 여학생을 메다꽂는 등 과격하게 제압해 구설에 오른 백인...</td>\n",
       "    </tr>\n",
       "  </tbody>\n",
       "</table>\n",
       "</div>"
      ],
      "text/plain": [
       "                                        제목  \\\n",
       "6918                독자투고- 가정폭력 제대로 알고 대처하자   \n",
       "10942      석달의 정성 '달방' 가출청소년, 학교로 돌려보낸 경찰관   \n",
       "12238    “처벌 안받아서 비행한다고?” 촉법소년, 어디까지 아시나요?   \n",
       "12309       우리사회의 그림자 ‘결손가정 출신’ 촉법소년의 어린이날   \n",
       "13163                [포럼] 가정교육이 위대한 사람 만든다   \n",
       "14273              아이들과 함께 하는 시간이 가정의 골든타임   \n",
       "14533      최대 '몸캠' 피싱 조직 검거 알몸영상 확보 후 돈 갈취   \n",
       "14766  처벌 안 받는 ‘촉법소년’ 재범방지 돕는 ‘소년법’ 개정안 눈길   \n",
       "20695                     가정폭력 현명한 대처 필요하다   \n",
       "23293       [경찰의 눈] '가정폭력' 전 국민적 관심이 필요한 때   \n",
       "23294       [경찰의 눈] '가정폭력' 전 국민적 관심이 필요한 때   \n",
       "23712        흑인 여고생 ‘메다꽂기’ 과잉진압 美 백인 경찰 해고   \n",
       "\n",
       "                                                      본문  \n",
       "6918   해마다 가정폭력 발생과 재범률은 증가하고 있지만 정작 그 피해자들은 사안이 경미하거...  \n",
       "10942  #전북 전주에 사는 민혁이(17 가명)는 15~17살 또래 친구 네 명과 시내의 한...  \n",
       "12238  ［헤럴드경제=강승연ㆍ김진원 기자］“어린이날로 받고 싶은 선물요? 옥주현 언니 뮤지컬...  \n",
       "12309  ［헤럴드경제=김진원 기자］“어린이날로 받고 싶은 선물요? 옥주현 언니 뮤지컬 앨범이...  \n",
       "13163  5월은 푸른 하늘만 우러러 보아도 가슴이 울렁거리는 희망의 계절이며 어린이날, 어버...  \n",
       "14273  소년부 법정에서 만난 아버지들 안타까운 모습 담아 책 출간\\n\"가정이 안전기지가 되...  \n",
       "14533  ◀ 앵커 ▶채팅으로 음란 행위를 하는 동영상을 확보한 뒤 남성들에게 돈을 뜯어내는 ...  \n",
       "14766  아주경제 조문식 기자 =?범죄를 저질러도 대부분 처벌을 받지 않고 있는 ‘촉법소년(...  \n",
       "20695  해마다 가정폭력 발생과 재범률은 증가하고 있지만 정작 그 피해자들은 사안이 경미하거...  \n",
       "23293  [대전=중도일보] 가정폭력 문제는 오늘날 새삼스러운 것은 아니다. 가족은 사적인 영...  \n",
       "23294  [대전=중도일보] 가정폭력 문제는 오늘날 새삼스러운 것은 아니다. 가족은 사적인 영...  \n",
       "23712  미국 고등학교 교실에서 흑인 여학생을 메다꽂는 등 과격하게 제압해 구설에 오른 백인...  "
      ]
     },
     "execution_count": 157,
     "metadata": {},
     "output_type": "execute_result"
    }
   ],
   "source": [
    "전체뉴스_필터단어.loc[:,['제목','본문']]"
   ]
  },
  {
   "cell_type": "code",
   "execution_count": 152,
   "metadata": {
    "scrolled": false
   },
   "outputs": [
    {
     "data": {
      "text/plain": [
       "{'범죄>기업범죄>거래제한',\n",
       " '범죄>기업범죄>계약위반',\n",
       " '범죄>기업범죄>내부자거래',\n",
       " '범죄>기업범죄>반독점범죄',\n",
       " '범죄>기업범죄>횡령',\n",
       " '범죄>범죄일반>마약',\n",
       " '범죄>범죄일반>방화',\n",
       " '범죄>범죄일반>사기',\n",
       " '범죄>범죄일반>살인',\n",
       " '범죄>범죄일반>유괴/납치',\n",
       " '범죄>범죄일반>절도',\n",
       " '범죄>범죄일반>폭행',\n",
       " '범죄>성범죄>성매매',\n",
       " '범죄>성범죄>성추행',\n",
       " '범죄>성범죄>성폭행',\n",
       " '범죄>성범죄>성희롱',\n",
       " '범죄>성범죄>음란물',\n",
       " '범죄>정치>뇌물수수',\n",
       " '사고>교통사고>노상사고',\n",
       " '사고>교통사고>철도사고',\n",
       " '사고>교통사고>항공사고',\n",
       " '사고>교통사고>해상사고',\n",
       " '사고>산업사고>붕괴',\n",
       " '사고>산업사고>원자력사고',\n",
       " '사고>산업사고>폭발',\n",
       " '사고>산업사고>화재',\n",
       " '사회>사회갈등>대량학살',\n",
       " '사회>사회갈등>시위',\n",
       " '사회>사회갈등>전쟁',\n",
       " '사회>사회갈등>테러행위',\n",
       " '사회>사회문제>노예',\n",
       " '사회>사회문제>미성년범죄',\n",
       " '사회>사회문제>자살',\n",
       " '사회>사회문제>중독',\n",
       " '사회>사회문제>학대',\n",
       " '재해>자연재해>가뭄',\n",
       " '재해>자연재해>눈사태_산사태',\n",
       " '재해>자연재해>지진',\n",
       " '재해>자연재해>태풍',\n",
       " '재해>자연재해>폭염',\n",
       " '재해>자연재해>홍수',\n",
       " '재해>자연재해>화산폭발'}"
      ]
     },
     "execution_count": 152,
     "metadata": {},
     "output_type": "execute_result"
    }
   ],
   "source": [
    "사건사고분류(이혼뉴스)\n",
    "3:7 범죄일반 성범죄>사회갈등 사회문제"
   ]
  },
  {
   "cell_type": "code",
   "execution_count": 100,
   "metadata": {
    "scrolled": false
   },
   "outputs": [
    {
     "data": {
      "text/plain": [
       "{'IT_과학>IT_과학일반',\n",
       " 'IT_과학>과학',\n",
       " 'IT_과학>모바일',\n",
       " 'IT_과학>보안',\n",
       " 'IT_과학>인터넷_SNS',\n",
       " 'IT_과학>콘텐츠',\n",
       " '경제>경제일반',\n",
       " '경제>국제경제',\n",
       " '경제>금융_재테크',\n",
       " '경제>무역',\n",
       " '경제>반도체',\n",
       " '경제>부동산',\n",
       " '경제>산업_기업',\n",
       " '경제>서비스_쇼핑',\n",
       " '경제>외환',\n",
       " '경제>유통',\n",
       " '경제>자동차',\n",
       " '경제>자원',\n",
       " '경제>증권_증시',\n",
       " '경제>취업_창업',\n",
       " '국제>국제일반',\n",
       " '국제>러시아',\n",
       " '국제>미국_북미',\n",
       " '국제>아시아',\n",
       " '국제>유럽_EU',\n",
       " '국제>일본',\n",
       " '국제>중국',\n",
       " '국제>중남미',\n",
       " '국제>중동_아프리카',\n",
       " '문화>문화일반',\n",
       " '문화>미술_건축',\n",
       " '문화>방송_연예',\n",
       " '문화>생활',\n",
       " '문화>영화',\n",
       " '문화>요리_여행',\n",
       " '문화>음악',\n",
       " '문화>전시_공연',\n",
       " '문화>종교',\n",
       " '문화>출판',\n",
       " '문화>학술_문화재',\n",
       " '미분류',\n",
       " '사회>교육_시험',\n",
       " '사회>날씨',\n",
       " '사회>노동_복지',\n",
       " '사회>미디어',\n",
       " '사회>사건_사고',\n",
       " '사회>사회일반',\n",
       " '사회>여성',\n",
       " '사회>의료_건강',\n",
       " '사회>장애인',\n",
       " '사회>환경',\n",
       " '스포츠>골프',\n",
       " '스포츠>농구_배구',\n",
       " '스포츠>스포츠일반',\n",
       " '스포츠>야구',\n",
       " '스포츠>야구>메이저리그',\n",
       " '스포츠>야구>일본프로야구',\n",
       " '스포츠>야구>한국프로야구',\n",
       " '스포츠>올림픽_아시안게임',\n",
       " '스포츠>월드컵',\n",
       " '스포츠>축구',\n",
       " '스포츠>축구>국가대표팀',\n",
       " '스포츠>축구>한국프로축구',\n",
       " '스포츠>축구>해외축구',\n",
       " '정치>국회_정당',\n",
       " '정치>북한',\n",
       " '정치>선거',\n",
       " '정치>외교',\n",
       " '정치>정치일반',\n",
       " '정치>청와대',\n",
       " '정치>행정_자치',\n",
       " '지역>강원',\n",
       " '지역>경기',\n",
       " '지역>경남',\n",
       " '지역>경북',\n",
       " '지역>광주',\n",
       " '지역>대구',\n",
       " '지역>대전',\n",
       " '지역>부산',\n",
       " '지역>울산',\n",
       " '지역>전남',\n",
       " '지역>전북',\n",
       " '지역>제주',\n",
       " '지역>지역일반',\n",
       " '지역>충남',\n",
       " '지역>충북'}"
      ]
     },
     "execution_count": 100,
     "metadata": {},
     "output_type": "execute_result"
    }
   ],
   "source": [
    "통합분류(이혼뉴스)"
   ]
  },
  {
   "cell_type": "code",
   "execution_count": null,
   "metadata": {},
   "outputs": [],
   "source": [
    "indexlist=[]\n",
    "for j in range(3):\n",
    "    row = filt+f'{j+1}'\n",
    "    print(row)\n",
    "    for i in range(len(df)):\n",
    "        for word in keyword:\n",
    "            if str(df[row][i])[m:] == word:\n",
    "                #print(str(범죄뉴스['사건/사고 분류1'][i])[8:])\n",
    "                indexlist.append(i)\n",
    "print(f'{len(indexlist)} news filtered')\n",
    "    #전체데이터프레임에서 조건에 해당하는 뉴스행만 뽑는다.\n",
    "return df.loc[df.index.isin(indexlist)==True]"
   ]
  },
  {
   "cell_type": "code",
   "execution_count": null,
   "metadata": {},
   "outputs": [],
   "source": []
  }
 ],
 "metadata": {
  "kernelspec": {
   "display_name": "Python 3",
   "language": "python",
   "name": "python3"
  },
  "language_info": {
   "codemirror_mode": {
    "name": "ipython",
    "version": 3
   },
   "file_extension": ".py",
   "mimetype": "text/x-python",
   "name": "python",
   "nbconvert_exporter": "python",
   "pygments_lexer": "ipython3",
   "version": "3.6.4"
  }
 },
 "nbformat": 4,
 "nbformat_minor": 2
}
