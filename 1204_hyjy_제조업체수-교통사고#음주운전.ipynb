{
 "cells": [
  {
   "cell_type": "code",
   "execution_count": 215,
   "metadata": {},
   "outputs": [],
   "source": [
    "import pandas as pd\n",
    "import matplotlib.pyplot as plt\n",
    "import missingno as msno\n",
    "import numpy  as np\n",
    "import seaborn as sns\n",
    "%matplotlib inline\n",
    "\n",
    "path = './data/'\n",
    "pd.options.display.max_rows = 150\n",
    "pd.options.display.max_columns = 350\n",
    "plt.rc('font',family='Malgun Gothic')\n",
    "plt.rcParams['axes.unicode_minus'] = False"
   ]
  },
  {
   "cell_type": "markdown",
   "metadata": {},
   "source": [
    "# 데이터로드"
   ]
  },
  {
   "cell_type": "code",
   "execution_count": 216,
   "metadata": {},
   "outputs": [],
   "source": [
    "sigungu = pd.read_csv(path+'sigungu_imp_10.csv', encoding='cp949')\n",
    "sigungu_3 = pd.read_csv(path+'시군구별지역안전지표_2015.csv', encoding='cp949')"
   ]
  },
  {
   "cell_type": "code",
   "execution_count": 217,
   "metadata": {},
   "outputs": [],
   "source": [
    "y_bin = sigungu.iloc[:,-7:]    #등급(binary)\n",
    "y_deci = sigungu_3.iloc[:,-7:] #등급(1-5)\n",
    "X = sigungu.iloc[:,4:-7]       #독립변수X\n",
    "name = sigungu.iloc[:,:4]      #이름"
   ]
  },
  {
   "cell_type": "code",
   "execution_count": 218,
   "metadata": {},
   "outputs": [],
   "source": [
    "y_bin.columns = ['fire','transport','disaster','crime','accident','suicide','infection']"
   ]
  },
  {
   "cell_type": "code",
   "execution_count": 219,
   "metadata": {},
   "outputs": [
    {
     "data": {
      "text/plain": [
       "(226, 162)"
      ]
     },
     "execution_count": 219,
     "metadata": {},
     "output_type": "execute_result"
    }
   ],
   "source": [
    "sigungu_xy = pd.concat([X,y_bin], axis=1)\n",
    "sigungu_nxy = pd.concat([name, sigungu_xy,y_deci], axis=1)\n",
    "sigungu_nxy.shape"
   ]
  },
  {
   "cell_type": "markdown",
   "metadata": {},
   "source": [
    "# 지표추가"
   ]
  },
  {
   "cell_type": "code",
   "execution_count": 220,
   "metadata": {},
   "outputs": [
    {
     "data": {
      "text/plain": [
       "(281, 3)"
      ]
     },
     "execution_count": 220,
     "metadata": {},
     "output_type": "execute_result"
    }
   ],
   "source": [
    "#성비 추가\n",
    "성비_2015 = pd.read_csv(path+'성비_2015.csv', encoding='cp949')\n",
    "성비_2015.drop(['연령별'],axis=1, inplace=True)\n",
    "성비_2015.columns=['시도','시군구','성비']\n",
    "sigungu_nxy= sigungu_nxy.merge(성비_2015)\n",
    "성비_2015.shape"
   ]
  },
  {
   "cell_type": "code",
   "execution_count": 221,
   "metadata": {},
   "outputs": [
    {
     "data": {
      "text/plain": [
       "(245, 8)"
      ]
     },
     "execution_count": 221,
     "metadata": {},
     "output_type": "execute_result"
    }
   ],
   "source": [
    "#외국인비율추가\n",
    "transpath = 'C:/Users/COM/Desktop/교통사고/'\n",
    "주민등록인구=pd.read_csv(transpath+'주민등록인구.csv', encoding='cp949')\n",
    "주민등록인구.rename(columns={'전국':'시도','소계':'시군구','주민등록인구':'전체인구'}, inplace=True)\n",
    "주민등록인구['외국인비율'] = 주민등록인구.등록외국인수 / 주민등록인구.전체인구*100\n",
    "sigungu_nxy\n",
    "sigungu_nxy=sigungu_nxy.merge(주민등록인구, on=['시도','시군구'])\n",
    "주민등록인구.shape"
   ]
  },
  {
   "cell_type": "code",
   "execution_count": 222,
   "metadata": {},
   "outputs": [
    {
     "data": {
      "text/plain": [
       "(225, 172)"
      ]
     },
     "execution_count": 222,
     "metadata": {},
     "output_type": "execute_result"
    }
   ],
   "source": [
    "#제조업비율추가\n",
    "manufact = pd.read_csv(transpath +'2017_제조업체_사업체.csv', encoding='cp949')\n",
    "manufact.head(1)\n",
    "manufact['제조업비율'] = (manufact['제조사업체수']/manufact['사업체수'])\n",
    "manufact.head(1)\n",
    "sigungu_nxy.head(1)\n",
    "sigungu_nxy = sigungu_nxy.merge(manufact, on=['시도','시군구'])\n",
    "sigungu_nxy.shape"
   ]
  },
  {
   "cell_type": "code",
   "execution_count": 223,
   "metadata": {},
   "outputs": [],
   "source": [
    "#음주사고비율 추가(음주교통사고/일반교통사고)\n",
    "sigungu_nxy['음주교통사고 발생비율'] = sigungu_nxy['음주교통사고 발생건수']/sigungu_nxy['교통사고 발생건수']"
   ]
  },
  {
   "cell_type": "markdown",
   "metadata": {},
   "source": [
    "# 함수선언\n",
    "### 중앙선그리는 함수"
   ]
  },
  {
   "cell_type": "code",
   "execution_count": 224,
   "metadata": {},
   "outputs": [],
   "source": [
    "import plotly.express as px\n",
    "import plotly.graph_objects as go\n",
    "import statsmodels.api as sm\n",
    "def scatter(x, y, color, df, hovername=None,text=False, medianline=False, palette=['dimgrey','mediumorchid'], trendline=None):\n",
    "    #산점도------\n",
    "    if text == True:\n",
    "        fig = px.scatter(df, x=x, y=y, text='시군구',trendline=trendline,\n",
    "                             hover_name=hovername, color=color, color_discrete_sequence=palette)\n",
    "        fig.update_traces(textposition='top center')\n",
    "    else:\n",
    "        fig = px.scatter(df, x=x, y=y,trendline=trendline,\n",
    "                         hover_name=hovername, color=color, color_discrete_sequence=palette)\n",
    "        fig.update_traces(textposition='top center')    \n",
    "    #중앙값-----\n",
    "    if medianline==True:\n",
    "        #x median\n",
    "        fig.add_trace(go.Scatter(x=[df[x].median()]*2,\n",
    "                       y=[-10000,10000],\n",
    "                       name=\"median x: \"+str(round(df[x].median(),2)),\n",
    "                       mode=\"lines\",\n",
    "                       line = dict(color = ('rgb(0,0,0)'),width=0.5),\n",
    "                       visible=True,))\n",
    "        #y median\n",
    "        fig.add_trace(go.Scatter(x=[-10000,10000],\n",
    "                       y=[df[y].median()]*2,\n",
    "                       name=\"median y: \"+str(round(df[y].median(),2)),\n",
    "                       mode=\"lines\",\n",
    "                       line = dict(color = ('rgb(0,0,0)'),width=0.5),\n",
    "                       visible=True))\n",
    "        # 레전이동      fig.update_layout(legend=dict(x=-.05, y=1.15))\n",
    "    \n",
    "    #트렌드라인----\n",
    "    regline = sm.OLS(df[y],sm.add_constant(df[x])).fit().fittedvalues\n",
    "    fig.add_traces(go.Scatter(x=df[x], y=regline,\n",
    "                          mode = 'lines',\n",
    "                          marker_color='black',\n",
    "                        line = dict(color = ('rgb(0,0,0)'),width=0.5,dash='7px'),\n",
    "                          name='trend all'))   \n",
    "    #플롯 레이아웃(xy범위)----\n",
    "    fig.update_xaxes(range=[df[x].min()*0.8, df[x].max()*1.05]) #min값 음수인지 아닌지 확인 후 범위 조절\n",
    "    fig.update_yaxes(range=[df[y].min()*0.5, df[y].max()*1.05]) #min값 음수인지 아닌지 확인 후 범위 조절\n",
    "    fig.show()"
   ]
  },
  {
   "cell_type": "code",
   "execution_count": 225,
   "metadata": {},
   "outputs": [],
   "source": [
    "#팔레트정의\n",
    "darkcyan= ['dimgrey','darkcyan']\n",
    "darkorange= ['dimgrey','darkorange']"
   ]
  },
  {
   "cell_type": "markdown",
   "metadata": {},
   "source": [
    "### 회귀식기준 위아래 갯수세기 함수"
   ]
  },
  {
   "cell_type": "code",
   "execution_count": 226,
   "metadata": {},
   "outputs": [],
   "source": [
    "from scipy import stats\n",
    "def total_regression(x_,y_, totaldf,groupdf):\n",
    "    #전체에 대한 xy\n",
    "    x = totaldf[x_].tolist()\n",
    "    y = totaldf[y_].tolist()\n",
    "    #전체에 대한 회귀식생성\n",
    "    slope, intercept, r_value, p_value, std_err = stats.linregress(x,y)\n",
    "    #지표출력\n",
    "    print(stats.linregress(x,y))\n",
    "    print('Rsquared=',stats.linregress(x,y)[2]**2)\n",
    "        #group에 포함되는 xy\n",
    "    x = groupdf[x_].tolist()\n",
    "    y = groupdf[y_].tolist()\n",
    "    y_pred = []\n",
    "    for i in range(len(x)):\n",
    "        y_pred.append(slope*np.array(x[i])+intercept)\n",
    "    upper = 0\n",
    "    lower = 0\n",
    "    for i in range(len(y)):\n",
    "        if y[i]>=y_pred[i]:\n",
    "            upper +=1\n",
    "        else:\n",
    "            lower +=1\n",
    "    return pd.DataFrame({'':['total','upper','lower'],\n",
    "                          'count':[len(y),upper,lower],\n",
    "                          'ratio':[len(y)/len(y), upper/len(y), lower/len(y)]})"
   ]
  },
  {
   "cell_type": "markdown",
   "metadata": {},
   "source": [
    "# 그룹분류"
   ]
  },
  {
   "cell_type": "code",
   "execution_count": 227,
   "metadata": {},
   "outputs": [],
   "source": [
    "#2)데이터프레임의 새로운 열을 만들어 타겟팅 그룹을 구분한다.\n",
    "#1사분면의 모든 주황초록점 : group1, 1사분면 주황점: group2\n",
    "sigungu_nxy['group1'] = np.zeros(len(sigungu_nxy))\n",
    "sigungu_nxy['group2'] = np.zeros(len(sigungu_nxy))\n",
    "#조건을 만족하는 행 인덱스 가져오기\n",
    "cond = (sigungu_nxy['제조업 업체수']>sigungu_nxy['제조업 업체수'].median())&((sigungu_nxy['제조업 종사자수']>sigungu_nxy['제조업 종사자수'].median()))\n",
    "group1_index = sigungu_nxy.loc[cond].index\n",
    "group2_index = sigungu_nxy.loc[cond&sigungu_nxy.transport==1].index\n",
    "#group1에 속하는 애들을 1로 표시\n",
    "sigungu_nxy.loc[sigungu_nxy.index.isin(group1_index),'group1'] = 1\n",
    "sigungu_nxy.loc[sigungu_nxy.index.isin(group2_index),'group2'] = 1"
   ]
  },
  {
   "cell_type": "code",
   "execution_count": 228,
   "metadata": {},
   "outputs": [],
   "source": [
    "#group1/2 데이터프레임 분리\n",
    "group1 = sigungu_nxy.loc[sigungu_nxy.group1==1]\n",
    "group2 = sigungu_nxy.loc[sigungu_nxy.group2==1]"
   ]
  },
  {
   "cell_type": "markdown",
   "metadata": {},
   "source": [
    "# 회귀식"
   ]
  },
  {
   "cell_type": "code",
   "execution_count": 229,
   "metadata": {},
   "outputs": [],
   "source": [
    "import statsmodels.api as sm"
   ]
  },
  {
   "cell_type": "code",
   "execution_count": 230,
   "metadata": {},
   "outputs": [
    {
     "name": "stdout",
     "output_type": "stream",
     "text": [
      "LinregressResult(slope=0.1338744307398634, intercept=19.903327511470827, rvalue=0.6445062175128073, pvalue=8.339258322897315e-28, stderr=0.010635351767405677)\n",
      "Rsquared= 0.41538826441266613\n"
     ]
    },
    {
     "data": {
      "text/html": [
       "<div>\n",
       "<style scoped>\n",
       "    .dataframe tbody tr th:only-of-type {\n",
       "        vertical-align: middle;\n",
       "    }\n",
       "\n",
       "    .dataframe tbody tr th {\n",
       "        vertical-align: top;\n",
       "    }\n",
       "\n",
       "    .dataframe thead th {\n",
       "        text-align: right;\n",
       "    }\n",
       "</style>\n",
       "<table border=\"1\" class=\"dataframe\">\n",
       "  <thead>\n",
       "    <tr style=\"text-align: right;\">\n",
       "      <th></th>\n",
       "      <th></th>\n",
       "      <th>count</th>\n",
       "      <th>ratio</th>\n",
       "    </tr>\n",
       "  </thead>\n",
       "  <tbody>\n",
       "    <tr>\n",
       "      <td>0</td>\n",
       "      <td>total</td>\n",
       "      <td>40</td>\n",
       "      <td>1.0</td>\n",
       "    </tr>\n",
       "    <tr>\n",
       "      <td>1</td>\n",
       "      <td>upper</td>\n",
       "      <td>28</td>\n",
       "      <td>0.7</td>\n",
       "    </tr>\n",
       "    <tr>\n",
       "      <td>2</td>\n",
       "      <td>lower</td>\n",
       "      <td>12</td>\n",
       "      <td>0.3</td>\n",
       "    </tr>\n",
       "  </tbody>\n",
       "</table>\n",
       "</div>"
      ],
      "text/plain": [
       "          count  ratio\n",
       "0  total     40    1.0\n",
       "1  upper     28    0.7\n",
       "2  lower     12    0.3"
      ]
     },
     "execution_count": 230,
     "metadata": {},
     "output_type": "execute_result"
    }
   ],
   "source": [
    "# sigungu_nxy.group1 = sigungu_nxy.group1.astype(int)\n",
    "# sigungu_nxy.group2 = sigungu_nxy.group2.astype(int)\n",
    "total_regression(x_='교통사고 발생건수',y_='음주교통사고 발생건수', totaldf=sigungu_nxy,groupdf=group2)"
   ]
  },
  {
   "cell_type": "code",
   "execution_count": 231,
   "metadata": {},
   "outputs": [
    {
     "name": "stderr",
     "output_type": "stream",
     "text": [
      "C:\\Anaconda3\\lib\\site-packages\\pandas\\core\\frame.py:4223: SettingWithCopyWarning:\n",
      "\n",
      "\n",
      "A value is trying to be set on a copy of a slice from a DataFrame\n",
      "\n",
      "See the caveats in the documentation: http://pandas.pydata.org/pandas-docs/stable/user_guide/indexing.html#returning-a-view-versus-a-copy\n",
      "\n"
     ]
    },
    {
     "data": {
      "text/html": [
       "<table class=\"simpletable\">\n",
       "<caption>OLS Regression Results</caption>\n",
       "<tr>\n",
       "  <th>Dep. Variable:</th>       <td>음주교통사고발생건수</td>    <th>  R-squared:         </th> <td>   0.329</td>\n",
       "</tr>\n",
       "<tr>\n",
       "  <th>Model:</th>                   <td>OLS</td>       <th>  Adj. R-squared:    </th> <td>   0.273</td>\n",
       "</tr>\n",
       "<tr>\n",
       "  <th>Method:</th>             <td>Least Squares</td>  <th>  F-statistic:       </th> <td>   5.874</td>\n",
       "</tr>\n",
       "<tr>\n",
       "  <th>Date:</th>             <td>Wed, 04 Dec 2019</td> <th>  Prob (F-statistic):</th>  <td>0.00226</td>\n",
       "</tr>\n",
       "<tr>\n",
       "  <th>Time:</th>                 <td>16:21:49</td>     <th>  Log-Likelihood:    </th> <td> -174.86</td>\n",
       "</tr>\n",
       "<tr>\n",
       "  <th>No. Observations:</th>      <td>    40</td>      <th>  AIC:               </th> <td>   357.7</td>\n",
       "</tr>\n",
       "<tr>\n",
       "  <th>Df Residuals:</th>          <td>    36</td>      <th>  BIC:               </th> <td>   364.5</td>\n",
       "</tr>\n",
       "<tr>\n",
       "  <th>Df Model:</th>              <td>     3</td>      <th>                     </th>     <td> </td>   \n",
       "</tr>\n",
       "<tr>\n",
       "  <th>Covariance Type:</th>      <td>nonrobust</td>    <th>                     </th>     <td> </td>   \n",
       "</tr>\n",
       "</table>\n",
       "<table class=\"simpletable\">\n",
       "<tr>\n",
       "      <td></td>         <th>coef</th>     <th>std err</th>      <th>t</th>      <th>P>|t|</th>  <th>[0.025</th>    <th>0.975]</th>  \n",
       "</tr>\n",
       "<tr>\n",
       "  <th>Intercept</th> <td> -445.5705</td> <td>  192.752</td> <td>   -2.312</td> <td> 0.027</td> <td> -836.490</td> <td>  -54.651</td>\n",
       "</tr>\n",
       "<tr>\n",
       "  <th>제조업업체수</th>    <td>    0.0613</td> <td>    0.028</td> <td>    2.221</td> <td> 0.033</td> <td>    0.005</td> <td>    0.117</td>\n",
       "</tr>\n",
       "<tr>\n",
       "  <th>주민등록인구여자</th>  <td>    0.0971</td> <td>    0.038</td> <td>    2.540</td> <td> 0.016</td> <td>    0.020</td> <td>    0.175</td>\n",
       "</tr>\n",
       "<tr>\n",
       "  <th>외국인수</th>      <td>    0.0344</td> <td>    0.024</td> <td>    1.452</td> <td> 0.155</td> <td>   -0.014</td> <td>    0.083</td>\n",
       "</tr>\n",
       "</table>\n",
       "<table class=\"simpletable\">\n",
       "<tr>\n",
       "  <th>Omnibus:</th>       <td>35.937</td> <th>  Durbin-Watson:     </th> <td>   2.025</td>\n",
       "</tr>\n",
       "<tr>\n",
       "  <th>Prob(Omnibus):</th> <td> 0.000</td> <th>  Jarque-Bera (JB):  </th> <td> 120.741</td>\n",
       "</tr>\n",
       "<tr>\n",
       "  <th>Skew:</th>          <td> 2.092</td> <th>  Prob(JB):          </th> <td>6.04e-27</td>\n",
       "</tr>\n",
       "<tr>\n",
       "  <th>Kurtosis:</th>      <td>10.412</td> <th>  Cond. No.          </th> <td>3.01e+05</td>\n",
       "</tr>\n",
       "</table><br/><br/>Warnings:<br/>[1] Standard Errors assume that the covariance matrix of the errors is correctly specified.<br/>[2] The condition number is large, 3.01e+05. This might indicate that there are<br/>strong multicollinearity or other numerical problems."
      ],
      "text/plain": [
       "<class 'statsmodels.iolib.summary.Summary'>\n",
       "\"\"\"\n",
       "                            OLS Regression Results                            \n",
       "==============================================================================\n",
       "Dep. Variable:             음주교통사고발생건수   R-squared:                       0.329\n",
       "Model:                            OLS   Adj. R-squared:                  0.273\n",
       "Method:                 Least Squares   F-statistic:                     5.874\n",
       "Date:                Wed, 04 Dec 2019   Prob (F-statistic):            0.00226\n",
       "Time:                        16:21:49   Log-Likelihood:                -174.86\n",
       "No. Observations:                  40   AIC:                             357.7\n",
       "Df Residuals:                      36   BIC:                             364.5\n",
       "Df Model:                           3                                         \n",
       "Covariance Type:            nonrobust                                         \n",
       "==============================================================================\n",
       "                 coef    std err          t      P>|t|      [0.025      0.975]\n",
       "------------------------------------------------------------------------------\n",
       "Intercept   -445.5705    192.752     -2.312      0.027    -836.490     -54.651\n",
       "제조업업체수         0.0613      0.028      2.221      0.033       0.005       0.117\n",
       "주민등록인구여자       0.0971      0.038      2.540      0.016       0.020       0.175\n",
       "외국인수           0.0344      0.024      1.452      0.155      -0.014       0.083\n",
       "==============================================================================\n",
       "Omnibus:                       35.937   Durbin-Watson:                   2.025\n",
       "Prob(Omnibus):                  0.000   Jarque-Bera (JB):              120.741\n",
       "Skew:                           2.092   Prob(JB):                     6.04e-27\n",
       "Kurtosis:                      10.412   Cond. No.                     3.01e+05\n",
       "==============================================================================\n",
       "\n",
       "Warnings:\n",
       "[1] Standard Errors assume that the covariance matrix of the errors is correctly specified.\n",
       "[2] The condition number is large, 3.01e+05. This might indicate that there are\n",
       "strong multicollinearity or other numerical problems.\n",
       "\"\"\""
      ]
     },
     "execution_count": 231,
     "metadata": {},
     "output_type": "execute_result"
    }
   ],
   "source": [
    "group2.rename(columns={'음주교통사고 발생비율':'음주교통사고발생비율',\n",
    "                       '음주교통사고 발생건수':'음주교통사고발생건수',\n",
    "                       '주민등록인구(여자)':'주민등록인구여자',\n",
    "              '제조업 업체수':'제조업업체수',\n",
    "              '제조업 종사자수':'제조업종사자수',\n",
    "              '교통사고 발생건수':'교통사고발생건수'}, inplace=True)\n",
    "reg = sm.OLS.from_formula(\"음주교통사고발생비율 ~ 제조업비율+성비+외국인비율\", group2).fit()\n",
    "reg = sm.OLS.from_formula(\"음주교통사고발생건수 ~ 제조업업체수+주민등록인구여자+외국인수\", group2).fit()\n",
    "reg.summary()"
   ]
  },
  {
   "cell_type": "code",
   "execution_count": 232,
   "metadata": {},
   "outputs": [
    {
     "data": {
      "text/html": [
       "<table class=\"simpletable\">\n",
       "<caption>OLS Regression Results</caption>\n",
       "<tr>\n",
       "  <th>Dep. Variable:</th>       <td>음주교통사고발생건수</td>    <th>  R-squared:         </th> <td>   0.207</td>\n",
       "</tr>\n",
       "<tr>\n",
       "  <th>Model:</th>                   <td>OLS</td>       <th>  Adj. R-squared:    </th> <td>   0.196</td>\n",
       "</tr>\n",
       "<tr>\n",
       "  <th>Method:</th>             <td>Least Squares</td>  <th>  F-statistic:       </th> <td>   19.23</td>\n",
       "</tr>\n",
       "<tr>\n",
       "  <th>Date:</th>             <td>Wed, 04 Dec 2019</td> <th>  Prob (F-statistic):</th> <td>4.06e-11</td>\n",
       "</tr>\n",
       "<tr>\n",
       "  <th>Time:</th>                 <td>16:21:49</td>     <th>  Log-Likelihood:    </th> <td> -905.26</td>\n",
       "</tr>\n",
       "<tr>\n",
       "  <th>No. Observations:</th>      <td>   225</td>      <th>  AIC:               </th> <td>   1819.</td>\n",
       "</tr>\n",
       "<tr>\n",
       "  <th>Df Residuals:</th>          <td>   221</td>      <th>  BIC:               </th> <td>   1832.</td>\n",
       "</tr>\n",
       "<tr>\n",
       "  <th>Df Model:</th>              <td>     3</td>      <th>                     </th>     <td> </td>   \n",
       "</tr>\n",
       "<tr>\n",
       "  <th>Covariance Type:</th>      <td>nonrobust</td>    <th>                     </th>     <td> </td>   \n",
       "</tr>\n",
       "</table>\n",
       "<table class=\"simpletable\">\n",
       "<tr>\n",
       "      <td></td>         <th>coef</th>     <th>std err</th>      <th>t</th>      <th>P>|t|</th>  <th>[0.025</th>    <th>0.975]</th>  \n",
       "</tr>\n",
       "<tr>\n",
       "  <th>Intercept</th> <td>  -87.2742</td> <td>   38.859</td> <td>   -2.246</td> <td> 0.026</td> <td> -163.856</td> <td>  -10.692</td>\n",
       "</tr>\n",
       "<tr>\n",
       "  <th>제조업업체수</th>    <td>    0.0724</td> <td>    0.013</td> <td>    5.666</td> <td> 0.000</td> <td>    0.047</td> <td>    0.098</td>\n",
       "</tr>\n",
       "<tr>\n",
       "  <th>주민등록인구여자</th>  <td>    0.0253</td> <td>    0.008</td> <td>    3.276</td> <td> 0.001</td> <td>    0.010</td> <td>    0.040</td>\n",
       "</tr>\n",
       "<tr>\n",
       "  <th>외국인수</th>      <td>    0.0069</td> <td>    0.007</td> <td>    1.039</td> <td> 0.300</td> <td>   -0.006</td> <td>    0.020</td>\n",
       "</tr>\n",
       "</table>\n",
       "<table class=\"simpletable\">\n",
       "<tr>\n",
       "  <th>Omnibus:</th>       <td>113.389</td> <th>  Durbin-Watson:     </th> <td>   1.699</td> \n",
       "</tr>\n",
       "<tr>\n",
       "  <th>Prob(Omnibus):</th> <td> 0.000</td>  <th>  Jarque-Bera (JB):  </th> <td> 985.456</td> \n",
       "</tr>\n",
       "<tr>\n",
       "  <th>Skew:</th>          <td> 1.753</td>  <th>  Prob(JB):          </th> <td>1.03e-214</td>\n",
       "</tr>\n",
       "<tr>\n",
       "  <th>Kurtosis:</th>      <td>12.634</td>  <th>  Cond. No.          </th> <td>2.13e+05</td> \n",
       "</tr>\n",
       "</table><br/><br/>Warnings:<br/>[1] Standard Errors assume that the covariance matrix of the errors is correctly specified.<br/>[2] The condition number is large, 2.13e+05. This might indicate that there are<br/>strong multicollinearity or other numerical problems."
      ],
      "text/plain": [
       "<class 'statsmodels.iolib.summary.Summary'>\n",
       "\"\"\"\n",
       "                            OLS Regression Results                            \n",
       "==============================================================================\n",
       "Dep. Variable:             음주교통사고발생건수   R-squared:                       0.207\n",
       "Model:                            OLS   Adj. R-squared:                  0.196\n",
       "Method:                 Least Squares   F-statistic:                     19.23\n",
       "Date:                Wed, 04 Dec 2019   Prob (F-statistic):           4.06e-11\n",
       "Time:                        16:21:49   Log-Likelihood:                -905.26\n",
       "No. Observations:                 225   AIC:                             1819.\n",
       "Df Residuals:                     221   BIC:                             1832.\n",
       "Df Model:                           3                                         \n",
       "Covariance Type:            nonrobust                                         \n",
       "==============================================================================\n",
       "                 coef    std err          t      P>|t|      [0.025      0.975]\n",
       "------------------------------------------------------------------------------\n",
       "Intercept    -87.2742     38.859     -2.246      0.026    -163.856     -10.692\n",
       "제조업업체수         0.0724      0.013      5.666      0.000       0.047       0.098\n",
       "주민등록인구여자       0.0253      0.008      3.276      0.001       0.010       0.040\n",
       "외국인수           0.0069      0.007      1.039      0.300      -0.006       0.020\n",
       "==============================================================================\n",
       "Omnibus:                      113.389   Durbin-Watson:                   1.699\n",
       "Prob(Omnibus):                  0.000   Jarque-Bera (JB):              985.456\n",
       "Skew:                           1.753   Prob(JB):                    1.03e-214\n",
       "Kurtosis:                      12.634   Cond. No.                     2.13e+05\n",
       "==============================================================================\n",
       "\n",
       "Warnings:\n",
       "[1] Standard Errors assume that the covariance matrix of the errors is correctly specified.\n",
       "[2] The condition number is large, 2.13e+05. This might indicate that there are\n",
       "strong multicollinearity or other numerical problems.\n",
       "\"\"\""
      ]
     },
     "execution_count": 232,
     "metadata": {},
     "output_type": "execute_result"
    }
   ],
   "source": [
    "sigungu_nxy.rename(columns={'음주교통사고 발생비율':'음주교통사고발생비율',\n",
    "                      '제조업 업체수':'제조업업체수',\n",
    "                      '제조업 종사자수':'제조업종사자수',\n",
    "                      '교통사고 발생건수':'교통사고발생건수',\n",
    "                      '교통사고 사망자수':'교통사고사망자수',\n",
    "                      '교통사고 부상자수':'교통사고부상자수',\n",
    "                      '의료보장 사업장수':'의료보장사업장수',\n",
    "                            '음주교통사고 발생건수':'음주교통사고발생건수',\n",
    "                            '주민등록인구(여자)':'주민등록인구여자',\n",
    "                      '1인가구수':'일인가구수',\n",
    "                      '학교수(중학교)':'중학교수',\n",
    "                      '음식점 및 주점업 종사자수':'음식점및주점업종사자수',\n",
    "                      '음식점 및 주점업 업체수':'음식점및주점업업체수',\n",
    "                      '지역안전도(점수)':'지역안전도'}, inplace=True)\n",
    "reg = sm.OLS.from_formula(\"음주교통사고발생비율 ~ 제조업업체수+성비+외국인수\", sigungu_nxy).fit()\n",
    "reg = sm.OLS.from_formula(\"음주교통사고발생비율 ~ 제조업비율+성비+외국인비율\", sigungu_nxy).fit()\n",
    "reg = sm.OLS.from_formula(\"음주교통사고발생건수 ~ 제조업업체수+주민등록인구여자+외국인수\", sigungu_nxy).fit()\n",
    "reg.summary()"
   ]
  },
  {
   "cell_type": "code",
   "execution_count": 233,
   "metadata": {},
   "outputs": [
    {
     "name": "stderr",
     "output_type": "stream",
     "text": [
      "C:\\Anaconda3\\lib\\site-packages\\pandas\\core\\frame.py:4223: SettingWithCopyWarning:\n",
      "\n",
      "\n",
      "A value is trying to be set on a copy of a slice from a DataFrame\n",
      "\n",
      "See the caveats in the documentation: http://pandas.pydata.org/pandas-docs/stable/user_guide/indexing.html#returning-a-view-versus-a-copy\n",
      "\n"
     ]
    },
    {
     "data": {
      "text/html": [
       "<table class=\"simpletable\">\n",
       "<caption>OLS Regression Results</caption>\n",
       "<tr>\n",
       "  <th>Dep. Variable:</th>       <td>음주교통사고발생건수</td>    <th>  R-squared:         </th> <td>   0.257</td>\n",
       "</tr>\n",
       "<tr>\n",
       "  <th>Model:</th>                   <td>OLS</td>       <th>  Adj. R-squared:    </th> <td>   0.230</td>\n",
       "</tr>\n",
       "<tr>\n",
       "  <th>Method:</th>             <td>Least Squares</td>  <th>  F-statistic:       </th> <td>   9.248</td>\n",
       "</tr>\n",
       "<tr>\n",
       "  <th>Date:</th>             <td>Wed, 04 Dec 2019</td> <th>  Prob (F-statistic):</th> <td>2.54e-05</td>\n",
       "</tr>\n",
       "<tr>\n",
       "  <th>Time:</th>                 <td>16:21:49</td>     <th>  Log-Likelihood:    </th> <td> -350.23</td>\n",
       "</tr>\n",
       "<tr>\n",
       "  <th>No. Observations:</th>      <td>    84</td>      <th>  AIC:               </th> <td>   708.5</td>\n",
       "</tr>\n",
       "<tr>\n",
       "  <th>Df Residuals:</th>          <td>    80</td>      <th>  BIC:               </th> <td>   718.2</td>\n",
       "</tr>\n",
       "<tr>\n",
       "  <th>Df Model:</th>              <td>     3</td>      <th>                     </th>     <td> </td>   \n",
       "</tr>\n",
       "<tr>\n",
       "  <th>Covariance Type:</th>      <td>nonrobust</td>    <th>                     </th>     <td> </td>   \n",
       "</tr>\n",
       "</table>\n",
       "<table class=\"simpletable\">\n",
       "<tr>\n",
       "      <td></td>         <th>coef</th>     <th>std err</th>      <th>t</th>      <th>P>|t|</th>  <th>[0.025</th>    <th>0.975]</th>  \n",
       "</tr>\n",
       "<tr>\n",
       "  <th>Intercept</th> <td> -349.3191</td> <td>  120.848</td> <td>   -2.891</td> <td> 0.005</td> <td> -589.815</td> <td> -108.824</td>\n",
       "</tr>\n",
       "<tr>\n",
       "  <th>제조업업체수</th>    <td>    0.0612</td> <td>    0.018</td> <td>    3.325</td> <td> 0.001</td> <td>    0.025</td> <td>    0.098</td>\n",
       "</tr>\n",
       "<tr>\n",
       "  <th>주민등록인구여자</th>  <td>    0.0777</td> <td>    0.024</td> <td>    3.233</td> <td> 0.002</td> <td>    0.030</td> <td>    0.126</td>\n",
       "</tr>\n",
       "<tr>\n",
       "  <th>외국인수</th>      <td>    0.0205</td> <td>    0.012</td> <td>    1.662</td> <td> 0.100</td> <td>   -0.004</td> <td>    0.045</td>\n",
       "</tr>\n",
       "</table>\n",
       "<table class=\"simpletable\">\n",
       "<tr>\n",
       "  <th>Omnibus:</th>       <td>66.437</td> <th>  Durbin-Watson:     </th> <td>   1.644</td> \n",
       "</tr>\n",
       "<tr>\n",
       "  <th>Prob(Omnibus):</th> <td> 0.000</td> <th>  Jarque-Bera (JB):  </th> <td> 505.195</td> \n",
       "</tr>\n",
       "<tr>\n",
       "  <th>Skew:</th>          <td> 2.315</td> <th>  Prob(JB):          </th> <td>1.99e-110</td>\n",
       "</tr>\n",
       "<tr>\n",
       "  <th>Kurtosis:</th>      <td>14.086</td> <th>  Cond. No.          </th> <td>3.43e+05</td> \n",
       "</tr>\n",
       "</table><br/><br/>Warnings:<br/>[1] Standard Errors assume that the covariance matrix of the errors is correctly specified.<br/>[2] The condition number is large, 3.43e+05. This might indicate that there are<br/>strong multicollinearity or other numerical problems."
      ],
      "text/plain": [
       "<class 'statsmodels.iolib.summary.Summary'>\n",
       "\"\"\"\n",
       "                            OLS Regression Results                            \n",
       "==============================================================================\n",
       "Dep. Variable:             음주교통사고발생건수   R-squared:                       0.257\n",
       "Model:                            OLS   Adj. R-squared:                  0.230\n",
       "Method:                 Least Squares   F-statistic:                     9.248\n",
       "Date:                Wed, 04 Dec 2019   Prob (F-statistic):           2.54e-05\n",
       "Time:                        16:21:49   Log-Likelihood:                -350.23\n",
       "No. Observations:                  84   AIC:                             708.5\n",
       "Df Residuals:                      80   BIC:                             718.2\n",
       "Df Model:                           3                                         \n",
       "Covariance Type:            nonrobust                                         \n",
       "==============================================================================\n",
       "                 coef    std err          t      P>|t|      [0.025      0.975]\n",
       "------------------------------------------------------------------------------\n",
       "Intercept   -349.3191    120.848     -2.891      0.005    -589.815    -108.824\n",
       "제조업업체수         0.0612      0.018      3.325      0.001       0.025       0.098\n",
       "주민등록인구여자       0.0777      0.024      3.233      0.002       0.030       0.126\n",
       "외국인수           0.0205      0.012      1.662      0.100      -0.004       0.045\n",
       "==============================================================================\n",
       "Omnibus:                       66.437   Durbin-Watson:                   1.644\n",
       "Prob(Omnibus):                  0.000   Jarque-Bera (JB):              505.195\n",
       "Skew:                           2.315   Prob(JB):                    1.99e-110\n",
       "Kurtosis:                      14.086   Cond. No.                     3.43e+05\n",
       "==============================================================================\n",
       "\n",
       "Warnings:\n",
       "[1] Standard Errors assume that the covariance matrix of the errors is correctly specified.\n",
       "[2] The condition number is large, 3.43e+05. This might indicate that there are\n",
       "strong multicollinearity or other numerical problems.\n",
       "\"\"\""
      ]
     },
     "execution_count": 233,
     "metadata": {},
     "output_type": "execute_result"
    }
   ],
   "source": [
    "group1.rename(columns={'음주교통사고 발생비율':'음주교통사고발생비율',\n",
    "                      '제조업 업체수':'제조업업체수',\n",
    "                      '제조업 종사자수':'제조업종사자수',\n",
    "                      '교통사고 발생건수':'교통사고발생건수',\n",
    "                      '교통사고 사망자수':'교통사고사망자수',\n",
    "                      '교통사고 부상자수':'교통사고부상자수',\n",
    "                      '의료보장 사업장수':'의료보장사업장수',\n",
    "                      '1인가구수':'일인가구수',\n",
    "                      '학교수(중학교)':'중학교수',\n",
    "                      '음식점 및 주점업 종사자수':'음식점및주점업종사자수',\n",
    "                      '음식점 및 주점업 업체수':'음식점및주점업업체수',\n",
    "                       '음주교통사고 발생건수':'음주교통사고발생건수',\n",
    "                            '주민등록인구(여자)':'주민등록인구여자',\n",
    "                      '지역안전도(점수)':'지역안전도'}, inplace=True)\n",
    "reg = sm.OLS.from_formula(\"음주교통사고발생비율 ~ 제조업업체수+성비+외국인수\", group1).fit()\n",
    "reg = sm.OLS.from_formula(\"음주교통사고발생비율 ~ 제조업비율+성비+외국인비율\", group1).fit()\n",
    "reg = sm.OLS.from_formula(\"음주교통사고발생건수 ~ 제조업업체수+주민등록인구여자+외국인수\", group1).fit()\n",
    "reg.summary()"
   ]
  },
  {
   "cell_type": "code",
   "execution_count": 234,
   "metadata": {},
   "outputs": [
    {
     "name": "stderr",
     "output_type": "stream",
     "text": [
      "C:\\Anaconda3\\lib\\site-packages\\ipykernel_launcher.py:4: SettingWithCopyWarning:\n",
      "\n",
      "\n",
      "A value is trying to be set on a copy of a slice from a DataFrame.\n",
      "Try using .loc[row_indexer,col_indexer] = value instead\n",
      "\n",
      "See the caveats in the documentation: http://pandas.pydata.org/pandas-docs/stable/user_guide/indexing.html#returning-a-view-versus-a-copy\n",
      "\n",
      "C:\\Anaconda3\\lib\\site-packages\\ipykernel_launcher.py:5: SettingWithCopyWarning:\n",
      "\n",
      "\n",
      "A value is trying to be set on a copy of a slice from a DataFrame.\n",
      "Try using .loc[row_indexer,col_indexer] = value instead\n",
      "\n",
      "See the caveats in the documentation: http://pandas.pydata.org/pandas-docs/stable/user_guide/indexing.html#returning-a-view-versus-a-copy\n",
      "\n",
      "C:\\Anaconda3\\lib\\site-packages\\ipykernel_launcher.py:6: SettingWithCopyWarning:\n",
      "\n",
      "\n",
      "A value is trying to be set on a copy of a slice from a DataFrame.\n",
      "Try using .loc[row_indexer,col_indexer] = value instead\n",
      "\n",
      "See the caveats in the documentation: http://pandas.pydata.org/pandas-docs/stable/user_guide/indexing.html#returning-a-view-versus-a-copy\n",
      "\n",
      "C:\\Anaconda3\\lib\\site-packages\\ipykernel_launcher.py:7: SettingWithCopyWarning:\n",
      "\n",
      "\n",
      "A value is trying to be set on a copy of a slice from a DataFrame.\n",
      "Try using .loc[row_indexer,col_indexer] = value instead\n",
      "\n",
      "See the caveats in the documentation: http://pandas.pydata.org/pandas-docs/stable/user_guide/indexing.html#returning-a-view-versus-a-copy\n",
      "\n"
     ]
    }
   ],
   "source": [
    "sigungu_nxy['transport_'] = sigungu_nxy.transport.astype(str)\n",
    "sigungu_nxy['group1_'] = sigungu_nxy.group1.astype(str)\n",
    "sigungu_nxy['group2_'] = sigungu_nxy.group2.astype(str)\n",
    "group1['transport_'] = group1.transport.astype(str)\n",
    "group2['transport_'] = group2.transport.astype(str)\n",
    "group1['group1_'] = group1.group1.astype(str)\n",
    "group2['group2_'] = group2.group2.astype(str)"
   ]
  },
  {
   "cell_type": "code",
   "execution_count": 235,
   "metadata": {},
   "outputs": [
    {
     "name": "stderr",
     "output_type": "stream",
     "text": [
      "C:\\Anaconda3\\lib\\site-packages\\numpy\\core\\fromnumeric.py:2495: FutureWarning:\n",
      "\n",
      "Method .ptp is deprecated and will be removed in a future version. Use numpy.ptp instead.\n",
      "\n"
     ]
    },
    {
     "data": {
      "application/vnd.plotly.v1+json": {
       "config": {
        "plotlyServerURL": "https://plot.ly"
       },
       "data": [
        {
         "hoverlabel": {
          "namelength": 0
         },
         "hovertemplate": "<b>%{hovertext}</b><br><br>transport_=0<br>제조업업체수=%{x}<br>제조업종사자수=%{y}",
         "hovertext": [
          "2015_강원도_강릉시",
          "2015_강원도_고성군",
          "2015_강원도_동해시",
          "2015_강원도_속초시",
          "2015_강원도_양구군",
          "2015_강원도_양양군",
          "2015_강원도_영월군",
          "2015_강원도_원주시",
          "2015_강원도_인제군",
          "2015_강원도_정선군",
          "2015_강원도_철원군",
          "2015_강원도_춘천시",
          "2015_강원도_태백시",
          "2015_강원도_평창군",
          "2015_강원도_홍천군",
          "2015_강원도_횡성군",
          "2015_경기도_가평군",
          "2015_경기도_고양시",
          "2015_경기도_과천시",
          "2015_경기도_광명시",
          "2015_경기도_광주시",
          "2015_경기도_구리시",
          "2015_경기도_군포시",
          "2015_경기도_김포시",
          "2015_경기도_남양주시",
          "2015_경기도_동두천시",
          "2015_경기도_부천시",
          "2015_경기도_성남시",
          "2015_경기도_수원시",
          "2015_경기도_시흥시",
          "2015_경기도_안산시",
          "2015_경기도_안성시",
          "2015_경기도_안양시",
          "2015_경기도_양주시",
          "2015_경기도_양평군",
          "2015_경기도_연천군",
          "2015_경기도_오산시",
          "2015_경기도_용인시",
          "2015_경기도_의왕시",
          "2015_경기도_의정부시",
          "2015_경기도_이천시",
          "2015_경기도_파주시",
          "2015_경기도_평택시",
          "2015_경기도_하남시",
          "2015_경기도_화성시",
          "2015_경상남도_거제시",
          "2015_경상남도_거창군",
          "2015_경상남도_고성군",
          "2015_경상남도_김해시",
          "2015_경상남도_남해군",
          "2015_경상남도_산청군",
          "2015_경상남도_양산시",
          "2015_경상남도_창녕군",
          "2015_경상남도_창원시",
          "2015_경상남도_통영시",
          "2015_경상남도_함안군",
          "2015_경상남도_합천군",
          "2015_경상북도_경산시",
          "2015_경상북도_구미시",
          "2015_경상북도_성주군",
          "2015_경상북도_예천군",
          "2015_경상북도_울진군",
          "2015_경상북도_포항시",
          "2015_대구광역시_남구",
          "2015_대구광역시_달서구",
          "2015_대전광역시_서구",
          "2015_대전광역시_유성구",
          "2015_부산광역시_금정구",
          "2015_부산광역시_남구",
          "2015_부산광역시_동래구",
          "2015_부산광역시_북구",
          "2015_부산광역시_사상구",
          "2015_부산광역시_사하구",
          "2015_부산광역시_수영구",
          "2015_부산광역시_연제구",
          "2015_부산광역시_해운대구",
          "2015_서울특별시_강남구",
          "2015_서울특별시_강북구",
          "2015_서울특별시_강서구",
          "2015_서울특별시_관악구",
          "2015_서울특별시_구로구",
          "2015_서울특별시_금천구",
          "2015_서울특별시_노원구",
          "2015_서울특별시_도봉구",
          "2015_서울특별시_동대문구",
          "2015_서울특별시_마포구",
          "2015_서울특별시_서대문구",
          "2015_서울특별시_서초구",
          "2015_서울특별시_성동구",
          "2015_서울특별시_성북구",
          "2015_서울특별시_영등포구",
          "2015_서울특별시_용산구",
          "2015_서울특별시_은평구",
          "2015_울산광역시_동구",
          "2015_울산광역시_중구",
          "2015_인천광역시_강화군",
          "2015_인천광역시_계양구",
          "2015_인천광역시_남구",
          "2015_인천광역시_남동구",
          "2015_인천광역시_서구",
          "2015_인천광역시_연수구",
          "2015_전라남도_곡성군",
          "2015_전라남도_광양시",
          "2015_전라남도_담양군",
          "2015_전라남도_목포시",
          "2015_전라남도_무안군",
          "2015_전라남도_순천시",
          "2015_전라남도_신안군",
          "2015_전라남도_영광군",
          "2015_전라남도_완도군",
          "2015_전라남도_장성군",
          "2015_전라남도_화순군",
          "2015_전라북도_고창군",
          "2015_전라북도_완주군",
          "2015_전라북도_장수군",
          "2015_전라북도_전주시",
          "2015_충청남도_계룡시",
          "2015_충청남도_금산군",
          "2015_충청남도_부여군",
          "2015_충청남도_예산군",
          "2015_충청남도_천안시",
          "2015_충청남도_홍성군",
          "2015_충청북도_단양군",
          "2015_충청북도_보은군",
          "2015_충청북도_영동군",
          "2015_충청북도_옥천군",
          "2015_충청북도_음성군",
          "2015_충청북도_진천군",
          "2015_충청북도_청주시",
          "2015_충청북도_충주시"
         ],
         "legendgroup": "transport_=0",
         "marker": {
          "color": "dimgrey",
          "symbol": "circle"
         },
         "mode": "markers",
         "name": "transport_=0",
         "showlegend": true,
         "textposition": "top center",
         "type": "scatter",
         "x": [
          53.56638,
          57.81493,
          49.49134,
          41.12481,
          40.18754000000001,
          73.76185,
          51.00644000000001,
          50.78034,
          52.96382,
          47.43183,
          43.70666,
          37.52842,
          44.5522,
          50.61842,
          48.40244000000001,
          71.18771,
          46.23201,
          47.96482,
          11.26062,
          49.97705,
          196.58165,
          40.25265,
          97.53544,
          227.73354,
          74.27828000000002,
          41.70296,
          123.52937,
          42.87878,
          29.9005,
          286.03356,
          120.72736,
          123.97194,
          64.96240999999999,
          187.85383,
          31.31554,
          70.76252,
          33.9942,
          38.60457,
          58.24005,
          29.73705,
          77.9459,
          107.47591,
          76.45338000000002,
          90.66731,
          283.49191,
          32.059670000000004,
          61.61205,
          103.36934,
          176.65579,
          52.53227,
          74.20012,
          123.30013,
          108.18557,
          86.92595,
          32.8459,
          305.93096,
          74.5189,
          115.29012,
          95.85554,
          238.54516,
          60.74849,
          42.03132,
          48.79007,
          50.03303,
          94.47045,
          18.80548,
          40.37122,
          67.27875,
          33.03262,
          39.64185,
          18.82896,
          292.6492,
          96.33895,
          31.99238,
          35.71909,
          19.36104,
          30.75518,
          47.33975,
          20.66102,
          25.72167,
          86.91241,
          211.43741,
          14.00733,
          29.34616,
          94.14689,
          36.06278,
          23.87427000000001,
          25.79624,
          154.75234,
          53.7169,
          112.67105,
          45.30602,
          19.13189,
          27.39602,
          37.51701,
          53.04091,
          47.91805,
          48.56664,
          132.28253,
          128.63806,
          21.95022,
          64.42796,
          50.88858,
          123.15323,
          39.68901,
          58.87681,
          38.81842,
          42.06003,
          158.53465,
          65.63358000000001,
          102.21944,
          73.23429,
          70.89366,
          88.73939,
          70.70924000000002,
          37.9704,
          21.94713,
          181.63361,
          56.02475,
          71.36211999999998,
          75.77555,
          62.70002,
          67.85576,
          78.85514,
          60.23266,
          112.06617,
          183.89912,
          168.62553,
          56.83561,
          61.14316
         ],
         "xaxis": "x",
         "y": [
          300.31463,
          313.19171,
          348.87164,
          223.94216,
          182.93704,
          394.60775,
          444.12928,
          532.94917,
          235.87375,
          196.06848,
          245.84997,
          215.6343,
          220.48158,
          233.62345,
          353.72103,
          772.70623,
          277.39206,
          279.72855,
          54.02246,
          437.22745,
          1475.38296,
          217.96382000000003,
          923.96882,
          1864.56466,
          438.40844,
          545.00743,
          859.1655300000001,
          428.8596,
          331.60511,
          2301.41978,
          1845.35145,
          2030.72085,
          584.24558,
          1659.85391,
          121.9408,
          544.71706,
          485.60401,
          550.77594,
          638.43212,
          156.71102,
          1589.9402,
          1694.0887,
          1761.7644100000002,
          545.3470900000002,
          3555.01034,
          2605.69422,
          399.76559,
          1523.71414,
          1796.8098,
          215.70393,
          479.23234,
          1686.39013,
          1234.92173,
          1268.88077,
          497.3501,
          3298.75911,
          288.9589200000001,
          1412.14641,
          2416.08774,
          1894.5777100000007,
          238.33806,
          213.61124,
          739.9185200000003,
          113.8282,
          1040.75801,
          68.93327,
          581.90136,
          438.73271,
          181.99304,
          130.84708,
          83.85075,
          1771.94766,
          974.0776,
          100.68355,
          151.04898,
          147.00223,
          253.35833,
          197.23901,
          113.95174,
          122.27535,
          481.71693,
          1993.2652,
          64.92124,
          118.14797,
          357.14777000000015,
          150.68532,
          84.09155,
          153.44313,
          987.41582,
          203.48999,
          394.08712,
          157.82938,
          70.29063000000001,
          3258.14522,
          105.13975,
          330.31378,
          336.54554,
          395.19477,
          1661.78962,
          1198.02842,
          288.21737,
          951.45126,
          1132.9612,
          875.85052,
          141.10719,
          294.50646,
          249.28929,
          187.21284,
          497.77418,
          358.06973,
          1081.40816,
          497.81345,
          351.63921,
          2177.32388,
          434.54039000000006,
          220.30183,
          199.49694,
          1701.22902,
          450.28849,
          864.7063699999999,
          1387.52494,
          574.53247,
          684.05067,
          941.58879,
          522.21326,
          1135.14647,
          3443.83366,
          3830.82211,
          934.98541,
          749.97482
         ],
         "yaxis": "y"
        },
        {
         "hoverlabel": {
          "namelength": 0
         },
         "hovertemplate": "<b>OLS trendline</b><br>제조업종사자수 = 9.947298 * 제조업업체수 + 12.085586<br>R<sup>2</sup>=0.539350<br><br>transport_=0<br>제조업업체수=%{x}<br>제조업종사자수=%{y} <b>(trend)</b>",
         "legendgroup": "transport_=0",
         "marker": {
          "color": "dimgrey",
          "symbol": "circle"
         },
         "mode": "lines",
         "name": "transport_=0",
         "showlegend": false,
         "textposition": "top center",
         "type": "scatter",
         "x": [
          11.26062,
          14.00733,
          18.80548,
          18.82896,
          19.13189,
          19.36104,
          20.66102,
          21.94713,
          21.95022,
          23.87427000000001,
          25.72167,
          25.79624,
          27.39602,
          29.34616,
          29.73705,
          29.9005,
          30.75518,
          31.31554,
          31.99238,
          32.059670000000004,
          32.8459,
          33.03262,
          33.9942,
          35.71909,
          36.06278,
          37.51701,
          37.52842,
          37.9704,
          38.60457,
          38.81842,
          39.64185,
          39.68901,
          40.18754000000001,
          40.25265,
          40.37122,
          41.12481,
          41.70296,
          42.03132,
          42.06003,
          42.87878,
          43.70666,
          44.5522,
          45.30602,
          46.23201,
          47.33975,
          47.43183,
          47.91805,
          47.96482,
          48.40244000000001,
          48.56664,
          48.79007,
          49.49134,
          49.97705,
          50.03303,
          50.61842,
          50.78034,
          50.88858,
          51.00644000000001,
          52.53227,
          52.96382,
          53.04091,
          53.56638,
          53.7169,
          56.02475,
          56.83561,
          57.81493,
          58.24005,
          58.87681,
          60.23266,
          60.74849,
          61.14316,
          61.61205,
          62.70002,
          64.42796,
          64.96240999999999,
          65.63358000000001,
          67.27875,
          67.85576,
          70.70924000000002,
          70.76252,
          70.89366,
          71.18771,
          71.36211999999998,
          73.23429,
          73.76185,
          74.20012,
          74.27828000000002,
          74.5189,
          75.77555,
          76.45338000000002,
          77.9459,
          78.85514,
          86.91241,
          86.92595,
          88.73939,
          90.66731,
          94.14689,
          94.47045,
          95.85554,
          96.33895,
          97.53544,
          102.21944,
          103.36934,
          107.47591,
          108.18557,
          112.06617,
          112.67105,
          115.29012,
          120.72736,
          123.15323,
          123.30013,
          123.52937,
          123.97194,
          128.63806,
          132.28253,
          154.75234,
          158.53465,
          168.62553,
          176.65579,
          181.63361,
          183.89912,
          187.85383,
          196.58165,
          211.43741,
          227.73354,
          238.54516,
          283.49191,
          286.03356,
          292.6492,
          305.93096
         ],
         "xaxis": "x",
         "y": [
          124.09832706292636,
          151.4206695769368,
          199.14929681956497,
          199.38285937339444,
          202.39619431511352,
          204.67561762048086,
          217.60690589676898,
          230.40022515169358,
          230.43096230209107,
          249.57006075590746,
          267.9466988285044,
          268.68846883016806,
          284.60195700586326,
          304.00058046093216,
          307.88887972270413,
          309.5147655584549,
          318.0165220962308,
          323.5905899268903,
          330.3233190126631,
          330.9926726858822,
          338.8135366849176,
          340.6708961419465,
          350.2360188213055,
          367.3940134326739,
          370.8128002352996,
          385.27845920699644,
          385.3919578756163,
          389.7884645852224,
          396.0967424711697,
          398.2239721192291,
          406.4148755987778,
          406.88399016600954,
          411.84301656978346,
          412.4906851336606,
          413.670136241308,
          421.16632043808636,
          426.91735069773335,
          430.1836454241153,
          430.4692323457697,
          438.6135824713184,
          446.84875142635883,
          455.25958966166445,
          462.7580617369514,
          471.96916008535675,
          482.98817982041066,
          483.9041270076601,
          488.7407021747372,
          489.2059372958022,
          493.55907378672464,
          495.19242009587265,
          497.41494485746216,
          504.3906864300345,
          509.22218847520116,
          509.7790382095868,
          515.6020869057639,
          517.2127533757839,
          518.2894488965038,
          519.4618374226684,
          534.639722921375,
          538.9324793142672,
          539.6993165065463,
          544.9263231147567,
          546.4235903891354,
          569.380461762873,
          577.4463277082807,
          587.1879154517339,
          591.4167107193655,
          597.7507521067785,
          611.2377959146874,
          616.3689105714956,
          620.2948106191907,
          624.9589991142974,
          635.7813607705945,
          652.9696946404457,
          658.286027983468,
          664.9623558903562,
          681.3273519160649,
          687.0670422561478,
          715.4514577630193,
          715.9814497931739,
          717.2859384349625,
          720.2109413716558,
          721.9458495919878,
          740.5688822326581,
          745.8166786934025,
          750.176280927936,
          750.9537617289291,
          753.3472805407879,
          765.8475524006606,
          772.5901293113183,
          787.4366703181993,
          796.481151427395,
          876.6292160821495,
          876.7639024952182,
          894.8027303323787,
          913.9803248289257,
          948.5927435279877,
          951.811291224626,
          965.5891940220566,
          970.3978172821379,
          982.2996597025566,
          1028.892802894093,
          1040.3312007070622,
          1081.1804756934132,
          1088.2396750950581,
          1126.841159183247,
          1132.8580807147791,
          1158.9107501295223,
          1212.996595963585,
          1237.1274474311451,
          1238.588705487259,
          1240.869024049434,
          1245.2713996647794,
          1291.6866851705206,
          1327.9393138142566,
          1551.453206815242,
          1589.0769709964504,
          1689.4539600589208,
          1769.3333481983884,
          1818.8492064481097,
          1841.3849092303167,
          1880.723587563152,
          1967.5418128001195,
          2115.316482505307,
          2277.4189416338063,
          2384.965346158247,
          2832.0640563939833,
          2857.3466060081523,
          2923.154347644287,
          3055.2719705126947
         ],
         "yaxis": "y"
        },
        {
         "hoverlabel": {
          "namelength": 0
         },
         "hovertemplate": "<b>%{hovertext}</b><br><br>transport_=1<br>제조업업체수=%{x}<br>제조업종사자수=%{y}",
         "hovertext": [
          "2015_강원도_삼척시",
          "2015_강원도_화천군",
          "2015_경기도_여주시",
          "2015_경기도_포천시",
          "2015_경상남도_밀양시",
          "2015_경상남도_사천시",
          "2015_경상남도_의령군",
          "2015_경상남도_진주시",
          "2015_경상남도_하동군",
          "2015_경상남도_함양군",
          "2015_경상북도_경주시",
          "2015_경상북도_고령군",
          "2015_경상북도_군위군",
          "2015_경상북도_김천시",
          "2015_경상북도_문경시",
          "2015_경상북도_봉화군",
          "2015_경상북도_상주시",
          "2015_경상북도_안동시",
          "2015_경상북도_영덕군",
          "2015_경상북도_영양군",
          "2015_경상북도_영주시",
          "2015_경상북도_영천시",
          "2015_경상북도_울릉군",
          "2015_경상북도_의성군",
          "2015_경상북도_청도군",
          "2015_경상북도_청송군",
          "2015_경상북도_칠곡군",
          "2015_광주광역시_광산구",
          "2015_광주광역시_남구",
          "2015_광주광역시_동구",
          "2015_광주광역시_북구",
          "2015_광주광역시_서구",
          "2015_대구광역시_달성군",
          "2015_대구광역시_동구",
          "2015_대구광역시_북구",
          "2015_대구광역시_서구",
          "2015_대구광역시_수성구",
          "2015_대구광역시_중구",
          "2015_대전광역시_대덕구",
          "2015_대전광역시_동구",
          "2015_대전광역시_중구",
          "2015_부산광역시_강서구",
          "2015_부산광역시_기장군",
          "2015_부산광역시_동구",
          "2015_부산광역시_서구",
          "2015_부산광역시_영도구",
          "2015_부산광역시_중구",
          "2015_서울특별시_강동구",
          "2015_서울특별시_광진구",
          "2015_서울특별시_동작구",
          "2015_서울특별시_송파구",
          "2015_서울특별시_양천구",
          "2015_서울특별시_종로구",
          "2015_서울특별시_중구",
          "2015_서울특별시_중랑구",
          "2015_울산광역시_남구",
          "2015_울산광역시_북구",
          "2015_울산광역시_울주군",
          "2015_인천광역시_동구",
          "2015_인천광역시_부평구",
          "2015_인천광역시_옹진군",
          "2015_인천광역시_중구",
          "2015_전라남도_강진군",
          "2015_전라남도_고흥군",
          "2015_전라남도_구례군",
          "2015_전라남도_나주시",
          "2015_전라남도_보성군",
          "2015_전라남도_여수시",
          "2015_전라남도_영암군",
          "2015_전라남도_장흥군",
          "2015_전라남도_진도군",
          "2015_전라남도_함평군",
          "2015_전라남도_해남군",
          "2015_전라북도_군산시",
          "2015_전라북도_김제시",
          "2015_전라북도_남원시",
          "2015_전라북도_무주군",
          "2015_전라북도_부안군",
          "2015_전라북도_순창군",
          "2015_전라북도_익산시",
          "2015_전라북도_임실군",
          "2015_전라북도_정읍시",
          "2015_전라북도_진안군",
          "2015_충청남도_공주시",
          "2015_충청남도_논산시",
          "2015_충청남도_당진시",
          "2015_충청남도_보령시",
          "2015_충청남도_서산시",
          "2015_충청남도_서천군",
          "2015_충청남도_아산시",
          "2015_충청남도_청양군",
          "2015_충청남도_태안군",
          "2015_충청북도_괴산군",
          "2015_충청북도_제천시",
          "2015_충청북도_증평군"
         ],
         "legendgroup": "transport_=1",
         "marker": {
          "color": "mediumorchid",
          "symbol": "circle"
         },
         "mode": "markers",
         "name": "transport_=1",
         "showlegend": true,
         "textposition": "top center",
         "type": "scatter",
         "x": [
          43.8366,
          38.68401,
          86.24282,
          327.86043,
          83.51505999999998,
          79.58106,
          90.72546,
          73.59489,
          68.46393,
          76.87759,
          124.03694,
          349.09942,
          109.64005,
          67.84491,
          63.75888000000001,
          57.60809,
          70.94818000000002,
          50.56403,
          70.47946,
          48.90916,
          69.41686,
          140.53174,
          92.55651,
          71.72354,
          99.10668,
          60.48463,
          208.09779,
          85.83345,
          24.24766,
          114.99613,
          49.65545,
          30.45273,
          214.43792,
          39.62928,
          182.05345,
          147.98121,
          17.80922,
          257.32122000000004,
          122.69421,
          78.0063,
          30.63198,
          665.16786,
          69.91461,
          124.46465,
          43.0936,
          67.29648,
          150.63012,
          33.90705,
          52.95112,
          15.73122,
          22.12902,
          24.4539,
          265.29845,
          790.69223,
          82.82478,
          41.60928,
          76.66915999999998,
          103.96843,
          212.36043,
          62.08348,
          21.73598,
          32.877990000000004,
          68.73886999999999,
          72.08397,
          61.8329,
          83.82137,
          73.01338,
          42.07631,
          139.6724,
          76.63811,
          58.32773,
          85.77942,
          70.92659,
          62.81958,
          94.88614,
          73.32765,
          61.83537,
          63.44075,
          88.58008000000002,
          77.37154,
          76.08623,
          70.48804,
          95.56546,
          66.62501,
          86.30914,
          63.06649,
          59.43195,
          45.70106,
          81.78399999999998,
          85.79574000000002,
          87.75738,
          34.83875,
          82.39681,
          59.50075,
          62.98352
         ],
         "xaxis": "x",
         "y": [
          220.42758,
          184.20956,
          676.3538900000002,
          2425.44834,
          802.57969,
          1433.74683,
          727.51549,
          449.82821,
          239.52217,
          468.4112,
          1654.61602,
          2828.19056,
          901.53082,
          907.89629,
          434.71961,
          501.71943,
          440.36465,
          234.444,
          293.2855,
          148.37611,
          468.67666,
          1701.47682,
          344.89478,
          374.19402,
          590.77581,
          165.19865,
          2223.45115,
          1213.77564,
          84.0707,
          224.43593,
          453.68954,
          324.18462,
          2272.17661,
          193.83576,
          793.6089999999997,
          1015.41965,
          56.56016999999999,
          587.09334,
          1413.43931,
          215.52549,
          108.70522,
          8668.1571,
          1046.0939,
          297.89034,
          250.85722,
          523.76194,
          295.26927,
          131.47376,
          225.26242,
          59.75899999999999,
          143.0338,
          112.99389,
          880.0392400000003,
          2252.0595,
          376.37643,
          845.3267900000003,
          2603.14836,
          2193.22549,
          1582.09197,
          662.48707,
          57.47959,
          390.51542,
          270.94152,
          360.27627,
          246.96356,
          641.34379,
          259.14302000000004,
          715.0911,
          3678.20975,
          384.34823,
          261.71135,
          587.91679,
          499.9935,
          1073.97392,
          970.72402,
          391.15865,
          220.95313,
          493.96878,
          465.29241,
          850.10045,
          550.95775,
          635.67241,
          535.61985,
          696.96623,
          817.6529,
          1664.84488,
          471.52539,
          1072.42365,
          777.6410900000003,
          2819.69288,
          858.3478,
          123.69355,
          851.3467699999999,
          510.14217,
          1162.17538
         ],
         "yaxis": "y"
        },
        {
         "hoverlabel": {
          "namelength": 0
         },
         "hovertemplate": "<b>OLS trendline</b><br>제조업종사자수 = 6.823885 * 제조업업체수 + 163.529393<br>R<sup>2</sup>=0.485072<br><br>transport_=1<br>제조업업체수=%{x}<br>제조업종사자수=%{y} <b>(trend)</b>",
         "legendgroup": "transport_=1",
         "marker": {
          "color": "mediumorchid",
          "symbol": "circle"
         },
         "mode": "lines",
         "name": "transport_=1",
         "showlegend": false,
         "textposition": "top center",
         "type": "scatter",
         "x": [
          15.73122,
          17.80922,
          21.73598,
          22.12902,
          24.24766,
          24.4539,
          30.45273,
          30.63198,
          32.877990000000004,
          33.90705,
          34.83875,
          38.68401,
          39.62928,
          41.60928,
          42.07631,
          43.0936,
          43.8366,
          45.70106,
          48.90916,
          49.65545,
          50.56403,
          52.95112,
          57.60809,
          58.32773,
          59.43195,
          59.50075,
          60.48463,
          61.8329,
          61.83537,
          62.08348,
          62.81958,
          62.98352,
          63.06649,
          63.44075,
          63.75888000000001,
          66.62501,
          67.29648,
          67.84491,
          68.46393,
          68.73886999999999,
          69.41686,
          69.91461,
          70.47946,
          70.48804,
          70.92659,
          70.94818000000002,
          71.72354,
          72.08397,
          73.01338,
          73.32765,
          73.59489,
          76.08623,
          76.63811,
          76.66915999999998,
          76.87759,
          77.37154,
          78.0063,
          79.58106,
          81.78399999999998,
          82.39681,
          82.82478,
          83.51505999999998,
          83.82137,
          85.77942,
          85.79574000000002,
          85.83345,
          86.24282,
          86.30914,
          87.75738,
          88.58008000000002,
          90.72546,
          92.55651,
          94.88614,
          95.56546,
          99.10668,
          103.96843,
          109.64005,
          114.99613,
          122.69421,
          124.03694,
          124.46465,
          139.6724,
          140.53174,
          147.98121,
          150.63012,
          182.05345,
          208.09779,
          212.36043,
          214.43792,
          257.32122000000004,
          265.29845,
          327.86043,
          349.09942,
          665.16786,
          790.69223
         ],
         "xaxis": "x",
         "y": [
          270.8774323019701,
          285.05746573743113,
          311.85322516622375,
          314.535285003314,
          328.99264113310477,
          330.39999921574645,
          371.33532644079304,
          372.5585078620185,
          387.8850222491118,
          394.9072095480027,
          401.2650233842968,
          427.50463616968705,
          433.9550501280789,
          447.46634281441806,
          450.65330191709535,
          457.5951720872398,
          462.6653187872146,
          475.3881797781095,
          497.2798858725766,
          502.3724831548433,
          508.57252876542617,
          524.861756875847,
          556.6403855129688,
          561.5511262547856,
          569.0861967649419,
          569.5556800663662,
          576.2695642321416,
          585.4700039241673,
          585.4868589205992,
          587.1799330763606,
          592.202994968489,
          593.3217027073771,
          593.8878804620163,
          596.4417877351422,
          598.612670332266,
          618.1708124065576,
          622.7528465985254,
          626.4952699560854,
          630.7193913695692,
          632.5955503651155,
          637.2220762885556,
          640.6186651444269,
          644.473136696891,
          644.531685631865,
          647.5243004841853,
          647.6716281655481,
          652.9625957904368,
          655.4221287313142,
          661.7643158705114,
          663.908858270782,
          665.7324733503262,
          682.7330914923384,
          686.4990572538217,
          686.71093888913,
          688.1332412803492,
          691.5038993724792,
          695.8354287389341,
          706.5814101888025,
          721.6140198405418,
          725.7957649269639,
          728.7161830739198,
          733.4265745464076,
          735.5167988205252,
          748.8783072268316,
          748.989673033216,
          749.2470017439239,
          752.0404956262505,
          752.4930556923908,
          762.3756791873726,
          767.9896895373987,
          782.6295163573068,
          795.1243913438328,
          811.021519010942,
          815.6571207016915,
          839.8219994323572,
          872.9980232797358,
          911.7005070300869,
          948.2497820459695,
          1000.7805961888251,
          1009.9432315568697,
          1012.8618754936749,
          1116.6378155697735,
          1122.5018530733487,
          1173.3361811178452,
          1191.4120388500526,
          1405.841235218448,
          1583.5648213611407,
          1612.6525873492706,
          1626.829140603282,
          1919.4598565912065,
          1973.8955582862798,
          2400.8113273857234,
          2545.743756806043,
          4702.558505166972,
          5559.122395236838
         ],
         "yaxis": "y"
        },
        {
         "line": {
          "color": "rgb(0,0,0)",
          "width": 0.5
         },
         "mode": "lines",
         "name": "median x: 67.28",
         "type": "scatter",
         "visible": true,
         "x": [
          67.27875,
          67.27875
         ],
         "y": [
          -10000,
          10000
         ]
        },
        {
         "line": {
          "color": "rgb(0,0,0)",
          "width": 0.5
         },
         "mode": "lines",
         "name": "median y: 481.72",
         "type": "scatter",
         "visible": true,
         "x": [
          -10000,
          10000
         ],
         "y": [
          481.71693,
          481.71693
         ]
        },
        {
         "line": {
          "color": "rgb(0,0,0)",
          "dash": "7px",
          "width": 0.5
         },
         "marker": {
          "color": "black"
         },
         "mode": "lines",
         "name": "trend all",
         "type": "scatter",
         "x": [
          53.56638,
          57.81493,
          49.49134,
          43.8366,
          41.12481,
          40.18754000000001,
          73.76185,
          51.00644000000001,
          50.78034,
          52.96382,
          47.43183,
          43.70666,
          37.52842,
          44.5522,
          50.61842,
          48.40244000000001,
          38.68401,
          71.18771,
          46.23201,
          47.96482,
          11.26062,
          49.97705,
          196.58165,
          40.25265,
          97.53544,
          227.73354,
          74.27828000000002,
          41.70296,
          123.52937,
          42.87878,
          29.9005,
          286.03356,
          120.72736,
          123.97194,
          64.96240999999999,
          187.85383,
          31.31554,
          86.24282,
          70.76252,
          33.9942,
          38.60457,
          58.24005,
          29.73705,
          77.9459,
          107.47591,
          76.45338000000002,
          327.86043,
          90.66731,
          283.49191,
          32.059670000000004,
          61.61205,
          103.36934,
          176.65579,
          52.53227,
          83.51505999999998,
          79.58106,
          74.20012,
          123.30013,
          90.72546,
          73.59489,
          108.18557,
          86.92595,
          32.8459,
          68.46393,
          305.93096,
          76.87759,
          74.5189,
          115.29012,
          124.03694,
          349.09942,
          95.85554,
          109.64005,
          67.84491,
          63.75888000000001,
          57.60809,
          70.94818000000002,
          238.54516,
          50.56403,
          70.47946,
          48.90916,
          69.41686,
          140.53174,
          60.74849,
          92.55651,
          42.03132,
          71.72354,
          99.10668,
          60.48463,
          208.09779,
          48.79007,
          85.83345,
          24.24766,
          114.99613,
          49.65545,
          30.45273,
          50.03303,
          94.47045,
          214.43792,
          39.62928,
          182.05345,
          147.98121,
          17.80922,
          257.32122000000004,
          122.69421,
          78.0063,
          18.80548,
          40.37122,
          30.63198,
          665.16786,
          67.27875,
          69.91461,
          33.03262,
          124.46465,
          39.64185,
          18.82896,
          292.6492,
          96.33895,
          43.0936,
          31.99238,
          35.71909,
          67.29648,
          150.63012,
          19.36104,
          30.75518,
          33.90705,
          47.33975,
          20.66102,
          25.72167,
          52.95112,
          86.91241,
          211.43741,
          14.00733,
          29.34616,
          94.14689,
          15.73122,
          36.06278,
          23.87427000000001,
          25.79624,
          154.75234,
          53.7169,
          22.12902,
          24.4539,
          112.67105,
          45.30602,
          19.13189,
          265.29845,
          790.69223,
          82.82478,
          41.60928,
          27.39602,
          76.66915999999998,
          103.96843,
          37.51701,
          53.04091,
          47.91805,
          48.56664,
          132.28253,
          212.36043,
          62.08348,
          128.63806,
          21.95022,
          21.73598,
          32.877990000000004,
          68.73886999999999,
          72.08397,
          64.42796,
          50.88858,
          61.8329,
          83.82137,
          123.15323,
          39.68901,
          58.87681,
          73.01338,
          38.81842,
          42.06003,
          42.07631,
          158.53465,
          139.6724,
          65.63358000000001,
          102.21944,
          76.63811,
          58.32773,
          85.77942,
          70.92659,
          73.23429,
          70.89366,
          62.81958,
          94.88614,
          73.32765,
          61.83537,
          63.44075,
          88.58008000000002,
          88.73939,
          77.37154,
          76.08623,
          70.70924000000002,
          37.9704,
          70.48804,
          95.56546,
          21.94713,
          66.62501,
          181.63361,
          86.30914,
          63.06649,
          59.43195,
          56.02475,
          45.70106,
          81.78399999999998,
          85.79574000000002,
          71.36211999999998,
          75.77555,
          87.75738,
          34.83875,
          62.70002,
          82.39681,
          67.85576,
          78.85514,
          60.23266,
          112.06617,
          183.89912,
          59.50075,
          62.98352,
          168.62553,
          56.83561,
          61.14316
         ],
         "y": [
          554.0952471596661,
          586.5579934780593,
          522.9582734257322,
          479.75096973000745,
          459.03045312110424,
          451.868866640578,
          708.406816845964,
          534.5350012380441,
          532.8073937148681,
          549.491146367252,
          507.2217631645385,
          478.7581111649413,
          431.550796242403,
          485.218797875008,
          531.5701791631095,
          514.6380972559571,
          440.3805440429637,
          688.7380701422584,
          498.054058350488,
          511.29428653374464,
          230.8411593681071,
          526.6695350360008,
          1646.8606446874144,
          452.3663656491316,
          890.0584441652825,
          1884.889125559357,
          712.3528069087404,
          463.4480395409367,
          1088.675467716393,
          472.43236275146575,
          373.2666211951521,
          2330.353756931767,
          1067.265589096252,
          1092.057100894332,
          641.1711744588149,
          1580.172243568774,
          384.07880053878205,
          803.772662350307,
          685.4892358088698,
          404.546174125824,
          439.7735509353074,
          589.8062929484375,
          372.0177160661689,
          740.3767251048931,
          966.0125828468558,
          728.9725288178946,
          2649.9486940520583,
          837.5797486405161,
          2310.933263073828,
          389.7646235649689,
          615.5714082432139,
          934.6346915312954,
          1494.6091380896764,
          546.1937159089302,
          782.9301205660604,
          752.8708193888215,
          711.7555941532718,
          1086.9238677667568,
          838.0240669840485,
          707.1310921574659,
          971.4350240449849,
          808.9923904675433,
          395.772128487333,
          667.9259391405959,
          2482.3878035113285,
          732.2138750691391,
          714.1913603020466,
          1025.7201811824411,
          1092.5537594038694,
          2812.2336958594724,
          877.2224960087894,
          982.5485604904019,
          663.1960691317665,
          631.9751219052201,
          584.9775496917096,
          686.9078453301121,
          1967.499634403755,
          531.1545906041288,
          683.3264026133363,
          518.5098941783084,
          675.2071821174201,
          1218.588879144165,
          608.973032512503,
          852.01493719772,
          465.9570055131173,
          692.8322936678811,
          902.0641321118318,
          606.9569045997866,
          1734.8543205031872,
          517.5999393798343,
          800.6447070572399,
          330.0738352097062,
          1023.4738329483039,
          524.2122215488121,
          377.48615548318116,
          527.0972726262147,
          866.6391616245539,
          1783.2986207504796,
          447.60325772466393,
          1535.8521191756797,
          1275.5095355602318,
          280.8783580689886,
          2110.9656340127817,
          1082.2940935498495,
          740.8382354737556,
          288.4906812491706,
          453.2723471795294,
          378.8557868344827,
          5227.281085432454,
          658.8700971046935,
          679.0104401654553,
          397.1988373627306,
          1095.8218488056277,
          447.69930383950833,
          288.6700895846159,
          2380.903201578485,
          880.9161835487205,
          474.0737809209865,
          389.2504673940953,
          417.72588637991856,
          659.005570264295,
          1295.7495923679087,
          292.7356597346884,
          379.7971457325599,
          403.8802696780364,
          506.5181890790276,
          302.66867710743554,
          341.3365984349889,
          549.3941069353884,
          808.8889326795565,
          1760.3720234512123,
          251.82849621013412,
          369.0309646078133,
          864.1668719730777,
          265.00056756408196,
          420.35198735134844,
          327.22079950391844,
          341.9063803589306,
          1327.2470637707654,
          555.245355449752,
          313.8855185228364,
          331.64969445596796,
          1005.7081288351429,
          490.97866122361665,
          290.984747466065,
          2171.918851890287,
          6186.400262583748,
          777.6557600127752,
          462.73224001519094,
          354.13013959566763,
          730.6212822515558,
          939.2122784002004,
          431.46361357172884,
          550.0801833595634,
          510.936921633882,
          515.8927330600502,
          1155.5574892447517,
          1767.424727104648,
          619.1735577993873,
          1127.7104578869955,
          312.5193255766009,
          310.8823391291653,
          396.01732497304164,
          670.026728226938,
          695.5863033077673,
          637.0874953753946,
          533.6344447467502,
          617.2589010406193,
          785.2706046900057,
          1085.8014195352018,
          448.0596486904282,
          594.6717125258699,
          702.6878323131405,
          441.4075574316858,
          466.1763757563299,
          466.30076961071865,
          1356.1473168047469,
          1212.0227480120734,
          646.2995174102964,
          925.8484204525697,
          730.384032302,
          590.4762470733029,
          800.231869222312,
          686.742878295944,
          704.3757835645547,
          686.4912634541122,
          624.7980243973957,
          869.8154074065485,
          705.0891380022535,
          617.2777740639817,
          629.5443223415406,
          821.6314326272553,
          822.8487044296309,
          735.9880976966168,
          726.1671723290223,
          685.0821286490523,
          434.9279212892551,
          683.3919615365952,
          875.0060236942257,
          312.49571519514757,
          653.8749350427697,
          1532.6441636580762,
          804.2794068480382,
          626.684639052625,
          598.913481833326,
          572.8794068533848,
          493.9971224175812,
          769.7032639580606,
          800.3565687127068,
          690.0707195368495,
          723.7932974714358,
          815.3452640765397,
          410.9992963447455,
          623.8844783758526,
          774.3856839769788,
          663.2789728983586,
          747.3241371543068,
          605.0316269898149,
          1001.0863011543885,
          1549.9546993494964,
          599.4391757634211,
          626.0506735674508,
          1433.2507232773899,
          579.0751071463629,
          611.9886665734133
         ]
        }
       ],
       "layout": {
        "height": 600,
        "legend": {
         "tracegroupgap": 0
        },
        "margin": {
         "t": 60
        },
        "template": {
         "data": {
          "bar": [
           {
            "error_x": {
             "color": "#2a3f5f"
            },
            "error_y": {
             "color": "#2a3f5f"
            },
            "marker": {
             "line": {
              "color": "#E5ECF6",
              "width": 0.5
             }
            },
            "type": "bar"
           }
          ],
          "barpolar": [
           {
            "marker": {
             "line": {
              "color": "#E5ECF6",
              "width": 0.5
             }
            },
            "type": "barpolar"
           }
          ],
          "carpet": [
           {
            "aaxis": {
             "endlinecolor": "#2a3f5f",
             "gridcolor": "white",
             "linecolor": "white",
             "minorgridcolor": "white",
             "startlinecolor": "#2a3f5f"
            },
            "baxis": {
             "endlinecolor": "#2a3f5f",
             "gridcolor": "white",
             "linecolor": "white",
             "minorgridcolor": "white",
             "startlinecolor": "#2a3f5f"
            },
            "type": "carpet"
           }
          ],
          "choropleth": [
           {
            "colorbar": {
             "outlinewidth": 0,
             "ticks": ""
            },
            "type": "choropleth"
           }
          ],
          "contour": [
           {
            "colorbar": {
             "outlinewidth": 0,
             "ticks": ""
            },
            "colorscale": [
             [
              0,
              "#0d0887"
             ],
             [
              0.1111111111111111,
              "#46039f"
             ],
             [
              0.2222222222222222,
              "#7201a8"
             ],
             [
              0.3333333333333333,
              "#9c179e"
             ],
             [
              0.4444444444444444,
              "#bd3786"
             ],
             [
              0.5555555555555556,
              "#d8576b"
             ],
             [
              0.6666666666666666,
              "#ed7953"
             ],
             [
              0.7777777777777778,
              "#fb9f3a"
             ],
             [
              0.8888888888888888,
              "#fdca26"
             ],
             [
              1,
              "#f0f921"
             ]
            ],
            "type": "contour"
           }
          ],
          "contourcarpet": [
           {
            "colorbar": {
             "outlinewidth": 0,
             "ticks": ""
            },
            "type": "contourcarpet"
           }
          ],
          "heatmap": [
           {
            "colorbar": {
             "outlinewidth": 0,
             "ticks": ""
            },
            "colorscale": [
             [
              0,
              "#0d0887"
             ],
             [
              0.1111111111111111,
              "#46039f"
             ],
             [
              0.2222222222222222,
              "#7201a8"
             ],
             [
              0.3333333333333333,
              "#9c179e"
             ],
             [
              0.4444444444444444,
              "#bd3786"
             ],
             [
              0.5555555555555556,
              "#d8576b"
             ],
             [
              0.6666666666666666,
              "#ed7953"
             ],
             [
              0.7777777777777778,
              "#fb9f3a"
             ],
             [
              0.8888888888888888,
              "#fdca26"
             ],
             [
              1,
              "#f0f921"
             ]
            ],
            "type": "heatmap"
           }
          ],
          "heatmapgl": [
           {
            "colorbar": {
             "outlinewidth": 0,
             "ticks": ""
            },
            "colorscale": [
             [
              0,
              "#0d0887"
             ],
             [
              0.1111111111111111,
              "#46039f"
             ],
             [
              0.2222222222222222,
              "#7201a8"
             ],
             [
              0.3333333333333333,
              "#9c179e"
             ],
             [
              0.4444444444444444,
              "#bd3786"
             ],
             [
              0.5555555555555556,
              "#d8576b"
             ],
             [
              0.6666666666666666,
              "#ed7953"
             ],
             [
              0.7777777777777778,
              "#fb9f3a"
             ],
             [
              0.8888888888888888,
              "#fdca26"
             ],
             [
              1,
              "#f0f921"
             ]
            ],
            "type": "heatmapgl"
           }
          ],
          "histogram": [
           {
            "marker": {
             "colorbar": {
              "outlinewidth": 0,
              "ticks": ""
             }
            },
            "type": "histogram"
           }
          ],
          "histogram2d": [
           {
            "colorbar": {
             "outlinewidth": 0,
             "ticks": ""
            },
            "colorscale": [
             [
              0,
              "#0d0887"
             ],
             [
              0.1111111111111111,
              "#46039f"
             ],
             [
              0.2222222222222222,
              "#7201a8"
             ],
             [
              0.3333333333333333,
              "#9c179e"
             ],
             [
              0.4444444444444444,
              "#bd3786"
             ],
             [
              0.5555555555555556,
              "#d8576b"
             ],
             [
              0.6666666666666666,
              "#ed7953"
             ],
             [
              0.7777777777777778,
              "#fb9f3a"
             ],
             [
              0.8888888888888888,
              "#fdca26"
             ],
             [
              1,
              "#f0f921"
             ]
            ],
            "type": "histogram2d"
           }
          ],
          "histogram2dcontour": [
           {
            "colorbar": {
             "outlinewidth": 0,
             "ticks": ""
            },
            "colorscale": [
             [
              0,
              "#0d0887"
             ],
             [
              0.1111111111111111,
              "#46039f"
             ],
             [
              0.2222222222222222,
              "#7201a8"
             ],
             [
              0.3333333333333333,
              "#9c179e"
             ],
             [
              0.4444444444444444,
              "#bd3786"
             ],
             [
              0.5555555555555556,
              "#d8576b"
             ],
             [
              0.6666666666666666,
              "#ed7953"
             ],
             [
              0.7777777777777778,
              "#fb9f3a"
             ],
             [
              0.8888888888888888,
              "#fdca26"
             ],
             [
              1,
              "#f0f921"
             ]
            ],
            "type": "histogram2dcontour"
           }
          ],
          "mesh3d": [
           {
            "colorbar": {
             "outlinewidth": 0,
             "ticks": ""
            },
            "type": "mesh3d"
           }
          ],
          "parcoords": [
           {
            "line": {
             "colorbar": {
              "outlinewidth": 0,
              "ticks": ""
             }
            },
            "type": "parcoords"
           }
          ],
          "pie": [
           {
            "automargin": true,
            "type": "pie"
           }
          ],
          "scatter": [
           {
            "marker": {
             "colorbar": {
              "outlinewidth": 0,
              "ticks": ""
             }
            },
            "type": "scatter"
           }
          ],
          "scatter3d": [
           {
            "line": {
             "colorbar": {
              "outlinewidth": 0,
              "ticks": ""
             }
            },
            "marker": {
             "colorbar": {
              "outlinewidth": 0,
              "ticks": ""
             }
            },
            "type": "scatter3d"
           }
          ],
          "scattercarpet": [
           {
            "marker": {
             "colorbar": {
              "outlinewidth": 0,
              "ticks": ""
             }
            },
            "type": "scattercarpet"
           }
          ],
          "scattergeo": [
           {
            "marker": {
             "colorbar": {
              "outlinewidth": 0,
              "ticks": ""
             }
            },
            "type": "scattergeo"
           }
          ],
          "scattergl": [
           {
            "marker": {
             "colorbar": {
              "outlinewidth": 0,
              "ticks": ""
             }
            },
            "type": "scattergl"
           }
          ],
          "scattermapbox": [
           {
            "marker": {
             "colorbar": {
              "outlinewidth": 0,
              "ticks": ""
             }
            },
            "type": "scattermapbox"
           }
          ],
          "scatterpolar": [
           {
            "marker": {
             "colorbar": {
              "outlinewidth": 0,
              "ticks": ""
             }
            },
            "type": "scatterpolar"
           }
          ],
          "scatterpolargl": [
           {
            "marker": {
             "colorbar": {
              "outlinewidth": 0,
              "ticks": ""
             }
            },
            "type": "scatterpolargl"
           }
          ],
          "scatterternary": [
           {
            "marker": {
             "colorbar": {
              "outlinewidth": 0,
              "ticks": ""
             }
            },
            "type": "scatterternary"
           }
          ],
          "surface": [
           {
            "colorbar": {
             "outlinewidth": 0,
             "ticks": ""
            },
            "colorscale": [
             [
              0,
              "#0d0887"
             ],
             [
              0.1111111111111111,
              "#46039f"
             ],
             [
              0.2222222222222222,
              "#7201a8"
             ],
             [
              0.3333333333333333,
              "#9c179e"
             ],
             [
              0.4444444444444444,
              "#bd3786"
             ],
             [
              0.5555555555555556,
              "#d8576b"
             ],
             [
              0.6666666666666666,
              "#ed7953"
             ],
             [
              0.7777777777777778,
              "#fb9f3a"
             ],
             [
              0.8888888888888888,
              "#fdca26"
             ],
             [
              1,
              "#f0f921"
             ]
            ],
            "type": "surface"
           }
          ],
          "table": [
           {
            "cells": {
             "fill": {
              "color": "#EBF0F8"
             },
             "line": {
              "color": "white"
             }
            },
            "header": {
             "fill": {
              "color": "#C8D4E3"
             },
             "line": {
              "color": "white"
             }
            },
            "type": "table"
           }
          ]
         },
         "layout": {
          "annotationdefaults": {
           "arrowcolor": "#2a3f5f",
           "arrowhead": 0,
           "arrowwidth": 1
          },
          "coloraxis": {
           "colorbar": {
            "outlinewidth": 0,
            "ticks": ""
           }
          },
          "colorscale": {
           "diverging": [
            [
             0,
             "#8e0152"
            ],
            [
             0.1,
             "#c51b7d"
            ],
            [
             0.2,
             "#de77ae"
            ],
            [
             0.3,
             "#f1b6da"
            ],
            [
             0.4,
             "#fde0ef"
            ],
            [
             0.5,
             "#f7f7f7"
            ],
            [
             0.6,
             "#e6f5d0"
            ],
            [
             0.7,
             "#b8e186"
            ],
            [
             0.8,
             "#7fbc41"
            ],
            [
             0.9,
             "#4d9221"
            ],
            [
             1,
             "#276419"
            ]
           ],
           "sequential": [
            [
             0,
             "#0d0887"
            ],
            [
             0.1111111111111111,
             "#46039f"
            ],
            [
             0.2222222222222222,
             "#7201a8"
            ],
            [
             0.3333333333333333,
             "#9c179e"
            ],
            [
             0.4444444444444444,
             "#bd3786"
            ],
            [
             0.5555555555555556,
             "#d8576b"
            ],
            [
             0.6666666666666666,
             "#ed7953"
            ],
            [
             0.7777777777777778,
             "#fb9f3a"
            ],
            [
             0.8888888888888888,
             "#fdca26"
            ],
            [
             1,
             "#f0f921"
            ]
           ],
           "sequentialminus": [
            [
             0,
             "#0d0887"
            ],
            [
             0.1111111111111111,
             "#46039f"
            ],
            [
             0.2222222222222222,
             "#7201a8"
            ],
            [
             0.3333333333333333,
             "#9c179e"
            ],
            [
             0.4444444444444444,
             "#bd3786"
            ],
            [
             0.5555555555555556,
             "#d8576b"
            ],
            [
             0.6666666666666666,
             "#ed7953"
            ],
            [
             0.7777777777777778,
             "#fb9f3a"
            ],
            [
             0.8888888888888888,
             "#fdca26"
            ],
            [
             1,
             "#f0f921"
            ]
           ]
          },
          "colorway": [
           "#636efa",
           "#EF553B",
           "#00cc96",
           "#ab63fa",
           "#FFA15A",
           "#19d3f3",
           "#FF6692",
           "#B6E880",
           "#FF97FF",
           "#FECB52"
          ],
          "font": {
           "color": "#2a3f5f"
          },
          "geo": {
           "bgcolor": "white",
           "lakecolor": "white",
           "landcolor": "#E5ECF6",
           "showlakes": true,
           "showland": true,
           "subunitcolor": "white"
          },
          "hoverlabel": {
           "align": "left"
          },
          "hovermode": "closest",
          "mapbox": {
           "style": "light"
          },
          "paper_bgcolor": "white",
          "plot_bgcolor": "#E5ECF6",
          "polar": {
           "angularaxis": {
            "gridcolor": "white",
            "linecolor": "white",
            "ticks": ""
           },
           "bgcolor": "#E5ECF6",
           "radialaxis": {
            "gridcolor": "white",
            "linecolor": "white",
            "ticks": ""
           }
          },
          "scene": {
           "xaxis": {
            "backgroundcolor": "#E5ECF6",
            "gridcolor": "white",
            "gridwidth": 2,
            "linecolor": "white",
            "showbackground": true,
            "ticks": "",
            "zerolinecolor": "white"
           },
           "yaxis": {
            "backgroundcolor": "#E5ECF6",
            "gridcolor": "white",
            "gridwidth": 2,
            "linecolor": "white",
            "showbackground": true,
            "ticks": "",
            "zerolinecolor": "white"
           },
           "zaxis": {
            "backgroundcolor": "#E5ECF6",
            "gridcolor": "white",
            "gridwidth": 2,
            "linecolor": "white",
            "showbackground": true,
            "ticks": "",
            "zerolinecolor": "white"
           }
          },
          "shapedefaults": {
           "line": {
            "color": "#2a3f5f"
           }
          },
          "ternary": {
           "aaxis": {
            "gridcolor": "white",
            "linecolor": "white",
            "ticks": ""
           },
           "baxis": {
            "gridcolor": "white",
            "linecolor": "white",
            "ticks": ""
           },
           "bgcolor": "#E5ECF6",
           "caxis": {
            "gridcolor": "white",
            "linecolor": "white",
            "ticks": ""
           }
          },
          "title": {
           "x": 0.05
          },
          "xaxis": {
           "automargin": true,
           "gridcolor": "white",
           "linecolor": "white",
           "ticks": "",
           "title": {
            "standoff": 15
           },
           "zerolinecolor": "white",
           "zerolinewidth": 2
          },
          "yaxis": {
           "automargin": true,
           "gridcolor": "white",
           "linecolor": "white",
           "ticks": "",
           "title": {
            "standoff": 15
           },
           "zerolinecolor": "white",
           "zerolinewidth": 2
          }
         }
        },
        "xaxis": {
         "anchor": "y",
         "domain": [
          0,
          1
         ],
         "range": [
          9.008496,
          830.2268415
         ],
         "title": {
          "text": "제조업업체수"
         }
        },
        "yaxis": {
         "anchor": "x",
         "domain": [
          0,
          1
         ],
         "range": [
          27.01123,
          9101.564955000002
         ],
         "title": {
          "text": "제조업종사자수"
         }
        }
       }
      },
      "text/html": [
       "<div>\n",
       "        \n",
       "        \n",
       "            <div id=\"4801114f-0589-4ac9-bece-4efe48de78f4\" class=\"plotly-graph-div\" style=\"height:600px; width:100%;\"></div>\n",
       "            <script type=\"text/javascript\">\n",
       "                require([\"plotly\"], function(Plotly) {\n",
       "                    window.PLOTLYENV=window.PLOTLYENV || {};\n",
       "                    \n",
       "                if (document.getElementById(\"4801114f-0589-4ac9-bece-4efe48de78f4\")) {\n",
       "                    Plotly.newPlot(\n",
       "                        '4801114f-0589-4ac9-bece-4efe48de78f4',\n",
       "                        [{\"hoverlabel\": {\"namelength\": 0}, \"hovertemplate\": \"<b>%{hovertext}</b><br><br>transport_=0<br>\\uc81c\\uc870\\uc5c5\\uc5c5\\uccb4\\uc218=%{x}<br>\\uc81c\\uc870\\uc5c5\\uc885\\uc0ac\\uc790\\uc218=%{y}\", \"hovertext\": [\"2015_\\uac15\\uc6d0\\ub3c4_\\uac15\\ub989\\uc2dc\", \"2015_\\uac15\\uc6d0\\ub3c4_\\uace0\\uc131\\uad70\", \"2015_\\uac15\\uc6d0\\ub3c4_\\ub3d9\\ud574\\uc2dc\", \"2015_\\uac15\\uc6d0\\ub3c4_\\uc18d\\ucd08\\uc2dc\", \"2015_\\uac15\\uc6d0\\ub3c4_\\uc591\\uad6c\\uad70\", \"2015_\\uac15\\uc6d0\\ub3c4_\\uc591\\uc591\\uad70\", \"2015_\\uac15\\uc6d0\\ub3c4_\\uc601\\uc6d4\\uad70\", \"2015_\\uac15\\uc6d0\\ub3c4_\\uc6d0\\uc8fc\\uc2dc\", \"2015_\\uac15\\uc6d0\\ub3c4_\\uc778\\uc81c\\uad70\", \"2015_\\uac15\\uc6d0\\ub3c4_\\uc815\\uc120\\uad70\", \"2015_\\uac15\\uc6d0\\ub3c4_\\ucca0\\uc6d0\\uad70\", \"2015_\\uac15\\uc6d0\\ub3c4_\\ucd98\\ucc9c\\uc2dc\", \"2015_\\uac15\\uc6d0\\ub3c4_\\ud0dc\\ubc31\\uc2dc\", \"2015_\\uac15\\uc6d0\\ub3c4_\\ud3c9\\ucc3d\\uad70\", \"2015_\\uac15\\uc6d0\\ub3c4_\\ud64d\\ucc9c\\uad70\", \"2015_\\uac15\\uc6d0\\ub3c4_\\ud6a1\\uc131\\uad70\", \"2015_\\uacbd\\uae30\\ub3c4_\\uac00\\ud3c9\\uad70\", \"2015_\\uacbd\\uae30\\ub3c4_\\uace0\\uc591\\uc2dc\", \"2015_\\uacbd\\uae30\\ub3c4_\\uacfc\\ucc9c\\uc2dc\", \"2015_\\uacbd\\uae30\\ub3c4_\\uad11\\uba85\\uc2dc\", \"2015_\\uacbd\\uae30\\ub3c4_\\uad11\\uc8fc\\uc2dc\", \"2015_\\uacbd\\uae30\\ub3c4_\\uad6c\\ub9ac\\uc2dc\", \"2015_\\uacbd\\uae30\\ub3c4_\\uad70\\ud3ec\\uc2dc\", \"2015_\\uacbd\\uae30\\ub3c4_\\uae40\\ud3ec\\uc2dc\", \"2015_\\uacbd\\uae30\\ub3c4_\\ub0a8\\uc591\\uc8fc\\uc2dc\", \"2015_\\uacbd\\uae30\\ub3c4_\\ub3d9\\ub450\\ucc9c\\uc2dc\", \"2015_\\uacbd\\uae30\\ub3c4_\\ubd80\\ucc9c\\uc2dc\", \"2015_\\uacbd\\uae30\\ub3c4_\\uc131\\ub0a8\\uc2dc\", \"2015_\\uacbd\\uae30\\ub3c4_\\uc218\\uc6d0\\uc2dc\", \"2015_\\uacbd\\uae30\\ub3c4_\\uc2dc\\ud765\\uc2dc\", \"2015_\\uacbd\\uae30\\ub3c4_\\uc548\\uc0b0\\uc2dc\", \"2015_\\uacbd\\uae30\\ub3c4_\\uc548\\uc131\\uc2dc\", \"2015_\\uacbd\\uae30\\ub3c4_\\uc548\\uc591\\uc2dc\", \"2015_\\uacbd\\uae30\\ub3c4_\\uc591\\uc8fc\\uc2dc\", \"2015_\\uacbd\\uae30\\ub3c4_\\uc591\\ud3c9\\uad70\", \"2015_\\uacbd\\uae30\\ub3c4_\\uc5f0\\ucc9c\\uad70\", \"2015_\\uacbd\\uae30\\ub3c4_\\uc624\\uc0b0\\uc2dc\", \"2015_\\uacbd\\uae30\\ub3c4_\\uc6a9\\uc778\\uc2dc\", \"2015_\\uacbd\\uae30\\ub3c4_\\uc758\\uc655\\uc2dc\", \"2015_\\uacbd\\uae30\\ub3c4_\\uc758\\uc815\\ubd80\\uc2dc\", \"2015_\\uacbd\\uae30\\ub3c4_\\uc774\\ucc9c\\uc2dc\", \"2015_\\uacbd\\uae30\\ub3c4_\\ud30c\\uc8fc\\uc2dc\", \"2015_\\uacbd\\uae30\\ub3c4_\\ud3c9\\ud0dd\\uc2dc\", \"2015_\\uacbd\\uae30\\ub3c4_\\ud558\\ub0a8\\uc2dc\", \"2015_\\uacbd\\uae30\\ub3c4_\\ud654\\uc131\\uc2dc\", \"2015_\\uacbd\\uc0c1\\ub0a8\\ub3c4_\\uac70\\uc81c\\uc2dc\", \"2015_\\uacbd\\uc0c1\\ub0a8\\ub3c4_\\uac70\\ucc3d\\uad70\", \"2015_\\uacbd\\uc0c1\\ub0a8\\ub3c4_\\uace0\\uc131\\uad70\", \"2015_\\uacbd\\uc0c1\\ub0a8\\ub3c4_\\uae40\\ud574\\uc2dc\", \"2015_\\uacbd\\uc0c1\\ub0a8\\ub3c4_\\ub0a8\\ud574\\uad70\", \"2015_\\uacbd\\uc0c1\\ub0a8\\ub3c4_\\uc0b0\\uccad\\uad70\", \"2015_\\uacbd\\uc0c1\\ub0a8\\ub3c4_\\uc591\\uc0b0\\uc2dc\", \"2015_\\uacbd\\uc0c1\\ub0a8\\ub3c4_\\ucc3d\\ub155\\uad70\", \"2015_\\uacbd\\uc0c1\\ub0a8\\ub3c4_\\ucc3d\\uc6d0\\uc2dc\", \"2015_\\uacbd\\uc0c1\\ub0a8\\ub3c4_\\ud1b5\\uc601\\uc2dc\", \"2015_\\uacbd\\uc0c1\\ub0a8\\ub3c4_\\ud568\\uc548\\uad70\", \"2015_\\uacbd\\uc0c1\\ub0a8\\ub3c4_\\ud569\\ucc9c\\uad70\", \"2015_\\uacbd\\uc0c1\\ubd81\\ub3c4_\\uacbd\\uc0b0\\uc2dc\", \"2015_\\uacbd\\uc0c1\\ubd81\\ub3c4_\\uad6c\\ubbf8\\uc2dc\", \"2015_\\uacbd\\uc0c1\\ubd81\\ub3c4_\\uc131\\uc8fc\\uad70\", \"2015_\\uacbd\\uc0c1\\ubd81\\ub3c4_\\uc608\\ucc9c\\uad70\", \"2015_\\uacbd\\uc0c1\\ubd81\\ub3c4_\\uc6b8\\uc9c4\\uad70\", \"2015_\\uacbd\\uc0c1\\ubd81\\ub3c4_\\ud3ec\\ud56d\\uc2dc\", \"2015_\\ub300\\uad6c\\uad11\\uc5ed\\uc2dc_\\ub0a8\\uad6c\", \"2015_\\ub300\\uad6c\\uad11\\uc5ed\\uc2dc_\\ub2ec\\uc11c\\uad6c\", \"2015_\\ub300\\uc804\\uad11\\uc5ed\\uc2dc_\\uc11c\\uad6c\", \"2015_\\ub300\\uc804\\uad11\\uc5ed\\uc2dc_\\uc720\\uc131\\uad6c\", \"2015_\\ubd80\\uc0b0\\uad11\\uc5ed\\uc2dc_\\uae08\\uc815\\uad6c\", \"2015_\\ubd80\\uc0b0\\uad11\\uc5ed\\uc2dc_\\ub0a8\\uad6c\", \"2015_\\ubd80\\uc0b0\\uad11\\uc5ed\\uc2dc_\\ub3d9\\ub798\\uad6c\", \"2015_\\ubd80\\uc0b0\\uad11\\uc5ed\\uc2dc_\\ubd81\\uad6c\", \"2015_\\ubd80\\uc0b0\\uad11\\uc5ed\\uc2dc_\\uc0ac\\uc0c1\\uad6c\", \"2015_\\ubd80\\uc0b0\\uad11\\uc5ed\\uc2dc_\\uc0ac\\ud558\\uad6c\", \"2015_\\ubd80\\uc0b0\\uad11\\uc5ed\\uc2dc_\\uc218\\uc601\\uad6c\", \"2015_\\ubd80\\uc0b0\\uad11\\uc5ed\\uc2dc_\\uc5f0\\uc81c\\uad6c\", \"2015_\\ubd80\\uc0b0\\uad11\\uc5ed\\uc2dc_\\ud574\\uc6b4\\ub300\\uad6c\", \"2015_\\uc11c\\uc6b8\\ud2b9\\ubcc4\\uc2dc_\\uac15\\ub0a8\\uad6c\", \"2015_\\uc11c\\uc6b8\\ud2b9\\ubcc4\\uc2dc_\\uac15\\ubd81\\uad6c\", \"2015_\\uc11c\\uc6b8\\ud2b9\\ubcc4\\uc2dc_\\uac15\\uc11c\\uad6c\", \"2015_\\uc11c\\uc6b8\\ud2b9\\ubcc4\\uc2dc_\\uad00\\uc545\\uad6c\", \"2015_\\uc11c\\uc6b8\\ud2b9\\ubcc4\\uc2dc_\\uad6c\\ub85c\\uad6c\", \"2015_\\uc11c\\uc6b8\\ud2b9\\ubcc4\\uc2dc_\\uae08\\ucc9c\\uad6c\", \"2015_\\uc11c\\uc6b8\\ud2b9\\ubcc4\\uc2dc_\\ub178\\uc6d0\\uad6c\", \"2015_\\uc11c\\uc6b8\\ud2b9\\ubcc4\\uc2dc_\\ub3c4\\ubd09\\uad6c\", \"2015_\\uc11c\\uc6b8\\ud2b9\\ubcc4\\uc2dc_\\ub3d9\\ub300\\ubb38\\uad6c\", \"2015_\\uc11c\\uc6b8\\ud2b9\\ubcc4\\uc2dc_\\ub9c8\\ud3ec\\uad6c\", \"2015_\\uc11c\\uc6b8\\ud2b9\\ubcc4\\uc2dc_\\uc11c\\ub300\\ubb38\\uad6c\", \"2015_\\uc11c\\uc6b8\\ud2b9\\ubcc4\\uc2dc_\\uc11c\\ucd08\\uad6c\", \"2015_\\uc11c\\uc6b8\\ud2b9\\ubcc4\\uc2dc_\\uc131\\ub3d9\\uad6c\", \"2015_\\uc11c\\uc6b8\\ud2b9\\ubcc4\\uc2dc_\\uc131\\ubd81\\uad6c\", \"2015_\\uc11c\\uc6b8\\ud2b9\\ubcc4\\uc2dc_\\uc601\\ub4f1\\ud3ec\\uad6c\", \"2015_\\uc11c\\uc6b8\\ud2b9\\ubcc4\\uc2dc_\\uc6a9\\uc0b0\\uad6c\", \"2015_\\uc11c\\uc6b8\\ud2b9\\ubcc4\\uc2dc_\\uc740\\ud3c9\\uad6c\", \"2015_\\uc6b8\\uc0b0\\uad11\\uc5ed\\uc2dc_\\ub3d9\\uad6c\", \"2015_\\uc6b8\\uc0b0\\uad11\\uc5ed\\uc2dc_\\uc911\\uad6c\", \"2015_\\uc778\\ucc9c\\uad11\\uc5ed\\uc2dc_\\uac15\\ud654\\uad70\", \"2015_\\uc778\\ucc9c\\uad11\\uc5ed\\uc2dc_\\uacc4\\uc591\\uad6c\", \"2015_\\uc778\\ucc9c\\uad11\\uc5ed\\uc2dc_\\ub0a8\\uad6c\", \"2015_\\uc778\\ucc9c\\uad11\\uc5ed\\uc2dc_\\ub0a8\\ub3d9\\uad6c\", \"2015_\\uc778\\ucc9c\\uad11\\uc5ed\\uc2dc_\\uc11c\\uad6c\", \"2015_\\uc778\\ucc9c\\uad11\\uc5ed\\uc2dc_\\uc5f0\\uc218\\uad6c\", \"2015_\\uc804\\ub77c\\ub0a8\\ub3c4_\\uace1\\uc131\\uad70\", \"2015_\\uc804\\ub77c\\ub0a8\\ub3c4_\\uad11\\uc591\\uc2dc\", \"2015_\\uc804\\ub77c\\ub0a8\\ub3c4_\\ub2f4\\uc591\\uad70\", \"2015_\\uc804\\ub77c\\ub0a8\\ub3c4_\\ubaa9\\ud3ec\\uc2dc\", \"2015_\\uc804\\ub77c\\ub0a8\\ub3c4_\\ubb34\\uc548\\uad70\", \"2015_\\uc804\\ub77c\\ub0a8\\ub3c4_\\uc21c\\ucc9c\\uc2dc\", \"2015_\\uc804\\ub77c\\ub0a8\\ub3c4_\\uc2e0\\uc548\\uad70\", \"2015_\\uc804\\ub77c\\ub0a8\\ub3c4_\\uc601\\uad11\\uad70\", \"2015_\\uc804\\ub77c\\ub0a8\\ub3c4_\\uc644\\ub3c4\\uad70\", \"2015_\\uc804\\ub77c\\ub0a8\\ub3c4_\\uc7a5\\uc131\\uad70\", \"2015_\\uc804\\ub77c\\ub0a8\\ub3c4_\\ud654\\uc21c\\uad70\", \"2015_\\uc804\\ub77c\\ubd81\\ub3c4_\\uace0\\ucc3d\\uad70\", \"2015_\\uc804\\ub77c\\ubd81\\ub3c4_\\uc644\\uc8fc\\uad70\", \"2015_\\uc804\\ub77c\\ubd81\\ub3c4_\\uc7a5\\uc218\\uad70\", \"2015_\\uc804\\ub77c\\ubd81\\ub3c4_\\uc804\\uc8fc\\uc2dc\", \"2015_\\ucda9\\uccad\\ub0a8\\ub3c4_\\uacc4\\ub8e1\\uc2dc\", \"2015_\\ucda9\\uccad\\ub0a8\\ub3c4_\\uae08\\uc0b0\\uad70\", \"2015_\\ucda9\\uccad\\ub0a8\\ub3c4_\\ubd80\\uc5ec\\uad70\", \"2015_\\ucda9\\uccad\\ub0a8\\ub3c4_\\uc608\\uc0b0\\uad70\", \"2015_\\ucda9\\uccad\\ub0a8\\ub3c4_\\ucc9c\\uc548\\uc2dc\", \"2015_\\ucda9\\uccad\\ub0a8\\ub3c4_\\ud64d\\uc131\\uad70\", \"2015_\\ucda9\\uccad\\ubd81\\ub3c4_\\ub2e8\\uc591\\uad70\", \"2015_\\ucda9\\uccad\\ubd81\\ub3c4_\\ubcf4\\uc740\\uad70\", \"2015_\\ucda9\\uccad\\ubd81\\ub3c4_\\uc601\\ub3d9\\uad70\", \"2015_\\ucda9\\uccad\\ubd81\\ub3c4_\\uc625\\ucc9c\\uad70\", \"2015_\\ucda9\\uccad\\ubd81\\ub3c4_\\uc74c\\uc131\\uad70\", \"2015_\\ucda9\\uccad\\ubd81\\ub3c4_\\uc9c4\\ucc9c\\uad70\", \"2015_\\ucda9\\uccad\\ubd81\\ub3c4_\\uccad\\uc8fc\\uc2dc\", \"2015_\\ucda9\\uccad\\ubd81\\ub3c4_\\ucda9\\uc8fc\\uc2dc\"], \"legendgroup\": \"transport_=0\", \"marker\": {\"color\": \"dimgrey\", \"symbol\": \"circle\"}, \"mode\": \"markers\", \"name\": \"transport_=0\", \"showlegend\": true, \"textposition\": \"top center\", \"type\": \"scatter\", \"x\": [53.56638, 57.81493, 49.49134, 41.12481, 40.18754000000001, 73.76185, 51.00644000000001, 50.78034, 52.96382, 47.43183, 43.70666, 37.52842, 44.5522, 50.61842, 48.40244000000001, 71.18771, 46.23201, 47.96482, 11.26062, 49.97705, 196.58165, 40.25265, 97.53544, 227.73354, 74.27828000000002, 41.70296, 123.52937, 42.87878, 29.9005, 286.03356, 120.72736, 123.97194, 64.96240999999999, 187.85383, 31.31554, 70.76252, 33.9942, 38.60457, 58.24005, 29.73705, 77.9459, 107.47591, 76.45338000000002, 90.66731, 283.49191, 32.059670000000004, 61.61205, 103.36934, 176.65579, 52.53227, 74.20012, 123.30013, 108.18557, 86.92595, 32.8459, 305.93096, 74.5189, 115.29012, 95.85554, 238.54516, 60.74849, 42.03132, 48.79007, 50.03303, 94.47045, 18.80548, 40.37122, 67.27875, 33.03262, 39.64185, 18.82896, 292.6492, 96.33895, 31.99238, 35.71909, 19.36104, 30.75518, 47.33975, 20.66102, 25.72167, 86.91241, 211.43741, 14.00733, 29.34616, 94.14689, 36.06278, 23.87427000000001, 25.79624, 154.75234, 53.7169, 112.67105, 45.30602, 19.13189, 27.39602, 37.51701, 53.04091, 47.91805, 48.56664, 132.28253, 128.63806, 21.95022, 64.42796, 50.88858, 123.15323, 39.68901, 58.87681, 38.81842, 42.06003, 158.53465, 65.63358000000001, 102.21944, 73.23429, 70.89366, 88.73939, 70.70924000000002, 37.9704, 21.94713, 181.63361, 56.02475, 71.36211999999998, 75.77555, 62.70002, 67.85576, 78.85514, 60.23266, 112.06617, 183.89912, 168.62553, 56.83561, 61.14316], \"xaxis\": \"x\", \"y\": [300.31463, 313.19171, 348.87164, 223.94216, 182.93704, 394.60775, 444.12928, 532.94917, 235.87375, 196.06848, 245.84997, 215.6343, 220.48158, 233.62345, 353.72103, 772.70623, 277.39206, 279.72855, 54.02246, 437.22745, 1475.38296, 217.96382000000003, 923.96882, 1864.56466, 438.40844, 545.00743, 859.1655300000001, 428.8596, 331.60511, 2301.41978, 1845.35145, 2030.72085, 584.24558, 1659.85391, 121.9408, 544.71706, 485.60401, 550.77594, 638.43212, 156.71102, 1589.9402, 1694.0887, 1761.7644100000002, 545.3470900000002, 3555.01034, 2605.69422, 399.76559, 1523.71414, 1796.8098, 215.70393, 479.23234, 1686.39013, 1234.92173, 1268.88077, 497.3501, 3298.75911, 288.9589200000001, 1412.14641, 2416.08774, 1894.5777100000007, 238.33806, 213.61124, 739.9185200000003, 113.8282, 1040.75801, 68.93327, 581.90136, 438.73271, 181.99304, 130.84708, 83.85075, 1771.94766, 974.0776, 100.68355, 151.04898, 147.00223, 253.35833, 197.23901, 113.95174, 122.27535, 481.71693, 1993.2652, 64.92124, 118.14797, 357.14777000000015, 150.68532, 84.09155, 153.44313, 987.41582, 203.48999, 394.08712, 157.82938, 70.29063000000001, 3258.14522, 105.13975, 330.31378, 336.54554, 395.19477, 1661.78962, 1198.02842, 288.21737, 951.45126, 1132.9612, 875.85052, 141.10719, 294.50646, 249.28929, 187.21284, 497.77418, 358.06973, 1081.40816, 497.81345, 351.63921, 2177.32388, 434.54039000000006, 220.30183, 199.49694, 1701.22902, 450.28849, 864.7063699999999, 1387.52494, 574.53247, 684.05067, 941.58879, 522.21326, 1135.14647, 3443.83366, 3830.82211, 934.98541, 749.97482], \"yaxis\": \"y\"}, {\"hoverlabel\": {\"namelength\": 0}, \"hovertemplate\": \"<b>OLS trendline</b><br>\\uc81c\\uc870\\uc5c5\\uc885\\uc0ac\\uc790\\uc218 = 9.947298 * \\uc81c\\uc870\\uc5c5\\uc5c5\\uccb4\\uc218 + 12.085586<br>R<sup>2</sup>=0.539350<br><br>transport_=0<br>\\uc81c\\uc870\\uc5c5\\uc5c5\\uccb4\\uc218=%{x}<br>\\uc81c\\uc870\\uc5c5\\uc885\\uc0ac\\uc790\\uc218=%{y} <b>(trend)</b>\", \"legendgroup\": \"transport_=0\", \"marker\": {\"color\": \"dimgrey\", \"symbol\": \"circle\"}, \"mode\": \"lines\", \"name\": \"transport_=0\", \"showlegend\": false, \"textposition\": \"top center\", \"type\": \"scatter\", \"x\": [11.26062, 14.00733, 18.80548, 18.82896, 19.13189, 19.36104, 20.66102, 21.94713, 21.95022, 23.87427000000001, 25.72167, 25.79624, 27.39602, 29.34616, 29.73705, 29.9005, 30.75518, 31.31554, 31.99238, 32.059670000000004, 32.8459, 33.03262, 33.9942, 35.71909, 36.06278, 37.51701, 37.52842, 37.9704, 38.60457, 38.81842, 39.64185, 39.68901, 40.18754000000001, 40.25265, 40.37122, 41.12481, 41.70296, 42.03132, 42.06003, 42.87878, 43.70666, 44.5522, 45.30602, 46.23201, 47.33975, 47.43183, 47.91805, 47.96482, 48.40244000000001, 48.56664, 48.79007, 49.49134, 49.97705, 50.03303, 50.61842, 50.78034, 50.88858, 51.00644000000001, 52.53227, 52.96382, 53.04091, 53.56638, 53.7169, 56.02475, 56.83561, 57.81493, 58.24005, 58.87681, 60.23266, 60.74849, 61.14316, 61.61205, 62.70002, 64.42796, 64.96240999999999, 65.63358000000001, 67.27875, 67.85576, 70.70924000000002, 70.76252, 70.89366, 71.18771, 71.36211999999998, 73.23429, 73.76185, 74.20012, 74.27828000000002, 74.5189, 75.77555, 76.45338000000002, 77.9459, 78.85514, 86.91241, 86.92595, 88.73939, 90.66731, 94.14689, 94.47045, 95.85554, 96.33895, 97.53544, 102.21944, 103.36934, 107.47591, 108.18557, 112.06617, 112.67105, 115.29012, 120.72736, 123.15323, 123.30013, 123.52937, 123.97194, 128.63806, 132.28253, 154.75234, 158.53465, 168.62553, 176.65579, 181.63361, 183.89912, 187.85383, 196.58165, 211.43741, 227.73354, 238.54516, 283.49191, 286.03356, 292.6492, 305.93096], \"xaxis\": \"x\", \"y\": [124.09832706292636, 151.4206695769368, 199.14929681956497, 199.38285937339444, 202.39619431511352, 204.67561762048086, 217.60690589676898, 230.40022515169358, 230.43096230209107, 249.57006075590746, 267.9466988285044, 268.68846883016806, 284.60195700586326, 304.00058046093216, 307.88887972270413, 309.5147655584549, 318.0165220962308, 323.5905899268903, 330.3233190126631, 330.9926726858822, 338.8135366849176, 340.6708961419465, 350.2360188213055, 367.3940134326739, 370.8128002352996, 385.27845920699644, 385.3919578756163, 389.7884645852224, 396.0967424711697, 398.2239721192291, 406.4148755987778, 406.88399016600954, 411.84301656978346, 412.4906851336606, 413.670136241308, 421.16632043808636, 426.91735069773335, 430.1836454241153, 430.4692323457697, 438.6135824713184, 446.84875142635883, 455.25958966166445, 462.7580617369514, 471.96916008535675, 482.98817982041066, 483.9041270076601, 488.7407021747372, 489.2059372958022, 493.55907378672464, 495.19242009587265, 497.41494485746216, 504.3906864300345, 509.22218847520116, 509.7790382095868, 515.6020869057639, 517.2127533757839, 518.2894488965038, 519.4618374226684, 534.639722921375, 538.9324793142672, 539.6993165065463, 544.9263231147567, 546.4235903891354, 569.380461762873, 577.4463277082807, 587.1879154517339, 591.4167107193655, 597.7507521067785, 611.2377959146874, 616.3689105714956, 620.2948106191907, 624.9589991142974, 635.7813607705945, 652.9696946404457, 658.286027983468, 664.9623558903562, 681.3273519160649, 687.0670422561478, 715.4514577630193, 715.9814497931739, 717.2859384349625, 720.2109413716558, 721.9458495919878, 740.5688822326581, 745.8166786934025, 750.176280927936, 750.9537617289291, 753.3472805407879, 765.8475524006606, 772.5901293113183, 787.4366703181993, 796.481151427395, 876.6292160821495, 876.7639024952182, 894.8027303323787, 913.9803248289257, 948.5927435279877, 951.811291224626, 965.5891940220566, 970.3978172821379, 982.2996597025566, 1028.892802894093, 1040.3312007070622, 1081.1804756934132, 1088.2396750950581, 1126.841159183247, 1132.8580807147791, 1158.9107501295223, 1212.996595963585, 1237.1274474311451, 1238.588705487259, 1240.869024049434, 1245.2713996647794, 1291.6866851705206, 1327.9393138142566, 1551.453206815242, 1589.0769709964504, 1689.4539600589208, 1769.3333481983884, 1818.8492064481097, 1841.3849092303167, 1880.723587563152, 1967.5418128001195, 2115.316482505307, 2277.4189416338063, 2384.965346158247, 2832.0640563939833, 2857.3466060081523, 2923.154347644287, 3055.2719705126947], \"yaxis\": \"y\"}, {\"hoverlabel\": {\"namelength\": 0}, \"hovertemplate\": \"<b>%{hovertext}</b><br><br>transport_=1<br>\\uc81c\\uc870\\uc5c5\\uc5c5\\uccb4\\uc218=%{x}<br>\\uc81c\\uc870\\uc5c5\\uc885\\uc0ac\\uc790\\uc218=%{y}\", \"hovertext\": [\"2015_\\uac15\\uc6d0\\ub3c4_\\uc0bc\\ucc99\\uc2dc\", \"2015_\\uac15\\uc6d0\\ub3c4_\\ud654\\ucc9c\\uad70\", \"2015_\\uacbd\\uae30\\ub3c4_\\uc5ec\\uc8fc\\uc2dc\", \"2015_\\uacbd\\uae30\\ub3c4_\\ud3ec\\ucc9c\\uc2dc\", \"2015_\\uacbd\\uc0c1\\ub0a8\\ub3c4_\\ubc00\\uc591\\uc2dc\", \"2015_\\uacbd\\uc0c1\\ub0a8\\ub3c4_\\uc0ac\\ucc9c\\uc2dc\", \"2015_\\uacbd\\uc0c1\\ub0a8\\ub3c4_\\uc758\\ub839\\uad70\", \"2015_\\uacbd\\uc0c1\\ub0a8\\ub3c4_\\uc9c4\\uc8fc\\uc2dc\", \"2015_\\uacbd\\uc0c1\\ub0a8\\ub3c4_\\ud558\\ub3d9\\uad70\", \"2015_\\uacbd\\uc0c1\\ub0a8\\ub3c4_\\ud568\\uc591\\uad70\", \"2015_\\uacbd\\uc0c1\\ubd81\\ub3c4_\\uacbd\\uc8fc\\uc2dc\", \"2015_\\uacbd\\uc0c1\\ubd81\\ub3c4_\\uace0\\ub839\\uad70\", \"2015_\\uacbd\\uc0c1\\ubd81\\ub3c4_\\uad70\\uc704\\uad70\", \"2015_\\uacbd\\uc0c1\\ubd81\\ub3c4_\\uae40\\ucc9c\\uc2dc\", \"2015_\\uacbd\\uc0c1\\ubd81\\ub3c4_\\ubb38\\uacbd\\uc2dc\", \"2015_\\uacbd\\uc0c1\\ubd81\\ub3c4_\\ubd09\\ud654\\uad70\", \"2015_\\uacbd\\uc0c1\\ubd81\\ub3c4_\\uc0c1\\uc8fc\\uc2dc\", \"2015_\\uacbd\\uc0c1\\ubd81\\ub3c4_\\uc548\\ub3d9\\uc2dc\", \"2015_\\uacbd\\uc0c1\\ubd81\\ub3c4_\\uc601\\ub355\\uad70\", \"2015_\\uacbd\\uc0c1\\ubd81\\ub3c4_\\uc601\\uc591\\uad70\", \"2015_\\uacbd\\uc0c1\\ubd81\\ub3c4_\\uc601\\uc8fc\\uc2dc\", \"2015_\\uacbd\\uc0c1\\ubd81\\ub3c4_\\uc601\\ucc9c\\uc2dc\", \"2015_\\uacbd\\uc0c1\\ubd81\\ub3c4_\\uc6b8\\ub989\\uad70\", \"2015_\\uacbd\\uc0c1\\ubd81\\ub3c4_\\uc758\\uc131\\uad70\", \"2015_\\uacbd\\uc0c1\\ubd81\\ub3c4_\\uccad\\ub3c4\\uad70\", \"2015_\\uacbd\\uc0c1\\ubd81\\ub3c4_\\uccad\\uc1a1\\uad70\", \"2015_\\uacbd\\uc0c1\\ubd81\\ub3c4_\\uce60\\uace1\\uad70\", \"2015_\\uad11\\uc8fc\\uad11\\uc5ed\\uc2dc_\\uad11\\uc0b0\\uad6c\", \"2015_\\uad11\\uc8fc\\uad11\\uc5ed\\uc2dc_\\ub0a8\\uad6c\", \"2015_\\uad11\\uc8fc\\uad11\\uc5ed\\uc2dc_\\ub3d9\\uad6c\", \"2015_\\uad11\\uc8fc\\uad11\\uc5ed\\uc2dc_\\ubd81\\uad6c\", \"2015_\\uad11\\uc8fc\\uad11\\uc5ed\\uc2dc_\\uc11c\\uad6c\", \"2015_\\ub300\\uad6c\\uad11\\uc5ed\\uc2dc_\\ub2ec\\uc131\\uad70\", \"2015_\\ub300\\uad6c\\uad11\\uc5ed\\uc2dc_\\ub3d9\\uad6c\", \"2015_\\ub300\\uad6c\\uad11\\uc5ed\\uc2dc_\\ubd81\\uad6c\", \"2015_\\ub300\\uad6c\\uad11\\uc5ed\\uc2dc_\\uc11c\\uad6c\", \"2015_\\ub300\\uad6c\\uad11\\uc5ed\\uc2dc_\\uc218\\uc131\\uad6c\", \"2015_\\ub300\\uad6c\\uad11\\uc5ed\\uc2dc_\\uc911\\uad6c\", \"2015_\\ub300\\uc804\\uad11\\uc5ed\\uc2dc_\\ub300\\ub355\\uad6c\", \"2015_\\ub300\\uc804\\uad11\\uc5ed\\uc2dc_\\ub3d9\\uad6c\", \"2015_\\ub300\\uc804\\uad11\\uc5ed\\uc2dc_\\uc911\\uad6c\", \"2015_\\ubd80\\uc0b0\\uad11\\uc5ed\\uc2dc_\\uac15\\uc11c\\uad6c\", \"2015_\\ubd80\\uc0b0\\uad11\\uc5ed\\uc2dc_\\uae30\\uc7a5\\uad70\", \"2015_\\ubd80\\uc0b0\\uad11\\uc5ed\\uc2dc_\\ub3d9\\uad6c\", \"2015_\\ubd80\\uc0b0\\uad11\\uc5ed\\uc2dc_\\uc11c\\uad6c\", \"2015_\\ubd80\\uc0b0\\uad11\\uc5ed\\uc2dc_\\uc601\\ub3c4\\uad6c\", \"2015_\\ubd80\\uc0b0\\uad11\\uc5ed\\uc2dc_\\uc911\\uad6c\", \"2015_\\uc11c\\uc6b8\\ud2b9\\ubcc4\\uc2dc_\\uac15\\ub3d9\\uad6c\", \"2015_\\uc11c\\uc6b8\\ud2b9\\ubcc4\\uc2dc_\\uad11\\uc9c4\\uad6c\", \"2015_\\uc11c\\uc6b8\\ud2b9\\ubcc4\\uc2dc_\\ub3d9\\uc791\\uad6c\", \"2015_\\uc11c\\uc6b8\\ud2b9\\ubcc4\\uc2dc_\\uc1a1\\ud30c\\uad6c\", \"2015_\\uc11c\\uc6b8\\ud2b9\\ubcc4\\uc2dc_\\uc591\\ucc9c\\uad6c\", \"2015_\\uc11c\\uc6b8\\ud2b9\\ubcc4\\uc2dc_\\uc885\\ub85c\\uad6c\", \"2015_\\uc11c\\uc6b8\\ud2b9\\ubcc4\\uc2dc_\\uc911\\uad6c\", \"2015_\\uc11c\\uc6b8\\ud2b9\\ubcc4\\uc2dc_\\uc911\\ub791\\uad6c\", \"2015_\\uc6b8\\uc0b0\\uad11\\uc5ed\\uc2dc_\\ub0a8\\uad6c\", \"2015_\\uc6b8\\uc0b0\\uad11\\uc5ed\\uc2dc_\\ubd81\\uad6c\", \"2015_\\uc6b8\\uc0b0\\uad11\\uc5ed\\uc2dc_\\uc6b8\\uc8fc\\uad70\", \"2015_\\uc778\\ucc9c\\uad11\\uc5ed\\uc2dc_\\ub3d9\\uad6c\", \"2015_\\uc778\\ucc9c\\uad11\\uc5ed\\uc2dc_\\ubd80\\ud3c9\\uad6c\", \"2015_\\uc778\\ucc9c\\uad11\\uc5ed\\uc2dc_\\uc639\\uc9c4\\uad70\", \"2015_\\uc778\\ucc9c\\uad11\\uc5ed\\uc2dc_\\uc911\\uad6c\", \"2015_\\uc804\\ub77c\\ub0a8\\ub3c4_\\uac15\\uc9c4\\uad70\", \"2015_\\uc804\\ub77c\\ub0a8\\ub3c4_\\uace0\\ud765\\uad70\", \"2015_\\uc804\\ub77c\\ub0a8\\ub3c4_\\uad6c\\ub840\\uad70\", \"2015_\\uc804\\ub77c\\ub0a8\\ub3c4_\\ub098\\uc8fc\\uc2dc\", \"2015_\\uc804\\ub77c\\ub0a8\\ub3c4_\\ubcf4\\uc131\\uad70\", \"2015_\\uc804\\ub77c\\ub0a8\\ub3c4_\\uc5ec\\uc218\\uc2dc\", \"2015_\\uc804\\ub77c\\ub0a8\\ub3c4_\\uc601\\uc554\\uad70\", \"2015_\\uc804\\ub77c\\ub0a8\\ub3c4_\\uc7a5\\ud765\\uad70\", \"2015_\\uc804\\ub77c\\ub0a8\\ub3c4_\\uc9c4\\ub3c4\\uad70\", \"2015_\\uc804\\ub77c\\ub0a8\\ub3c4_\\ud568\\ud3c9\\uad70\", \"2015_\\uc804\\ub77c\\ub0a8\\ub3c4_\\ud574\\ub0a8\\uad70\", \"2015_\\uc804\\ub77c\\ubd81\\ub3c4_\\uad70\\uc0b0\\uc2dc\", \"2015_\\uc804\\ub77c\\ubd81\\ub3c4_\\uae40\\uc81c\\uc2dc\", \"2015_\\uc804\\ub77c\\ubd81\\ub3c4_\\ub0a8\\uc6d0\\uc2dc\", \"2015_\\uc804\\ub77c\\ubd81\\ub3c4_\\ubb34\\uc8fc\\uad70\", \"2015_\\uc804\\ub77c\\ubd81\\ub3c4_\\ubd80\\uc548\\uad70\", \"2015_\\uc804\\ub77c\\ubd81\\ub3c4_\\uc21c\\ucc3d\\uad70\", \"2015_\\uc804\\ub77c\\ubd81\\ub3c4_\\uc775\\uc0b0\\uc2dc\", \"2015_\\uc804\\ub77c\\ubd81\\ub3c4_\\uc784\\uc2e4\\uad70\", \"2015_\\uc804\\ub77c\\ubd81\\ub3c4_\\uc815\\uc74d\\uc2dc\", \"2015_\\uc804\\ub77c\\ubd81\\ub3c4_\\uc9c4\\uc548\\uad70\", \"2015_\\ucda9\\uccad\\ub0a8\\ub3c4_\\uacf5\\uc8fc\\uc2dc\", \"2015_\\ucda9\\uccad\\ub0a8\\ub3c4_\\ub17c\\uc0b0\\uc2dc\", \"2015_\\ucda9\\uccad\\ub0a8\\ub3c4_\\ub2f9\\uc9c4\\uc2dc\", \"2015_\\ucda9\\uccad\\ub0a8\\ub3c4_\\ubcf4\\ub839\\uc2dc\", \"2015_\\ucda9\\uccad\\ub0a8\\ub3c4_\\uc11c\\uc0b0\\uc2dc\", \"2015_\\ucda9\\uccad\\ub0a8\\ub3c4_\\uc11c\\ucc9c\\uad70\", \"2015_\\ucda9\\uccad\\ub0a8\\ub3c4_\\uc544\\uc0b0\\uc2dc\", \"2015_\\ucda9\\uccad\\ub0a8\\ub3c4_\\uccad\\uc591\\uad70\", \"2015_\\ucda9\\uccad\\ub0a8\\ub3c4_\\ud0dc\\uc548\\uad70\", \"2015_\\ucda9\\uccad\\ubd81\\ub3c4_\\uad34\\uc0b0\\uad70\", \"2015_\\ucda9\\uccad\\ubd81\\ub3c4_\\uc81c\\ucc9c\\uc2dc\", \"2015_\\ucda9\\uccad\\ubd81\\ub3c4_\\uc99d\\ud3c9\\uad70\"], \"legendgroup\": \"transport_=1\", \"marker\": {\"color\": \"mediumorchid\", \"symbol\": \"circle\"}, \"mode\": \"markers\", \"name\": \"transport_=1\", \"showlegend\": true, \"textposition\": \"top center\", \"type\": \"scatter\", \"x\": [43.8366, 38.68401, 86.24282, 327.86043, 83.51505999999998, 79.58106, 90.72546, 73.59489, 68.46393, 76.87759, 124.03694, 349.09942, 109.64005, 67.84491, 63.75888000000001, 57.60809, 70.94818000000002, 50.56403, 70.47946, 48.90916, 69.41686, 140.53174, 92.55651, 71.72354, 99.10668, 60.48463, 208.09779, 85.83345, 24.24766, 114.99613, 49.65545, 30.45273, 214.43792, 39.62928, 182.05345, 147.98121, 17.80922, 257.32122000000004, 122.69421, 78.0063, 30.63198, 665.16786, 69.91461, 124.46465, 43.0936, 67.29648, 150.63012, 33.90705, 52.95112, 15.73122, 22.12902, 24.4539, 265.29845, 790.69223, 82.82478, 41.60928, 76.66915999999998, 103.96843, 212.36043, 62.08348, 21.73598, 32.877990000000004, 68.73886999999999, 72.08397, 61.8329, 83.82137, 73.01338, 42.07631, 139.6724, 76.63811, 58.32773, 85.77942, 70.92659, 62.81958, 94.88614, 73.32765, 61.83537, 63.44075, 88.58008000000002, 77.37154, 76.08623, 70.48804, 95.56546, 66.62501, 86.30914, 63.06649, 59.43195, 45.70106, 81.78399999999998, 85.79574000000002, 87.75738, 34.83875, 82.39681, 59.50075, 62.98352], \"xaxis\": \"x\", \"y\": [220.42758, 184.20956, 676.3538900000002, 2425.44834, 802.57969, 1433.74683, 727.51549, 449.82821, 239.52217, 468.4112, 1654.61602, 2828.19056, 901.53082, 907.89629, 434.71961, 501.71943, 440.36465, 234.444, 293.2855, 148.37611, 468.67666, 1701.47682, 344.89478, 374.19402, 590.77581, 165.19865, 2223.45115, 1213.77564, 84.0707, 224.43593, 453.68954, 324.18462, 2272.17661, 193.83576, 793.6089999999997, 1015.41965, 56.56016999999999, 587.09334, 1413.43931, 215.52549, 108.70522, 8668.1571, 1046.0939, 297.89034, 250.85722, 523.76194, 295.26927, 131.47376, 225.26242, 59.75899999999999, 143.0338, 112.99389, 880.0392400000003, 2252.0595, 376.37643, 845.3267900000003, 2603.14836, 2193.22549, 1582.09197, 662.48707, 57.47959, 390.51542, 270.94152, 360.27627, 246.96356, 641.34379, 259.14302000000004, 715.0911, 3678.20975, 384.34823, 261.71135, 587.91679, 499.9935, 1073.97392, 970.72402, 391.15865, 220.95313, 493.96878, 465.29241, 850.10045, 550.95775, 635.67241, 535.61985, 696.96623, 817.6529, 1664.84488, 471.52539, 1072.42365, 777.6410900000003, 2819.69288, 858.3478, 123.69355, 851.3467699999999, 510.14217, 1162.17538], \"yaxis\": \"y\"}, {\"hoverlabel\": {\"namelength\": 0}, \"hovertemplate\": \"<b>OLS trendline</b><br>\\uc81c\\uc870\\uc5c5\\uc885\\uc0ac\\uc790\\uc218 = 6.823885 * \\uc81c\\uc870\\uc5c5\\uc5c5\\uccb4\\uc218 + 163.529393<br>R<sup>2</sup>=0.485072<br><br>transport_=1<br>\\uc81c\\uc870\\uc5c5\\uc5c5\\uccb4\\uc218=%{x}<br>\\uc81c\\uc870\\uc5c5\\uc885\\uc0ac\\uc790\\uc218=%{y} <b>(trend)</b>\", \"legendgroup\": \"transport_=1\", \"marker\": {\"color\": \"mediumorchid\", \"symbol\": \"circle\"}, \"mode\": \"lines\", \"name\": \"transport_=1\", \"showlegend\": false, \"textposition\": \"top center\", \"type\": \"scatter\", \"x\": [15.73122, 17.80922, 21.73598, 22.12902, 24.24766, 24.4539, 30.45273, 30.63198, 32.877990000000004, 33.90705, 34.83875, 38.68401, 39.62928, 41.60928, 42.07631, 43.0936, 43.8366, 45.70106, 48.90916, 49.65545, 50.56403, 52.95112, 57.60809, 58.32773, 59.43195, 59.50075, 60.48463, 61.8329, 61.83537, 62.08348, 62.81958, 62.98352, 63.06649, 63.44075, 63.75888000000001, 66.62501, 67.29648, 67.84491, 68.46393, 68.73886999999999, 69.41686, 69.91461, 70.47946, 70.48804, 70.92659, 70.94818000000002, 71.72354, 72.08397, 73.01338, 73.32765, 73.59489, 76.08623, 76.63811, 76.66915999999998, 76.87759, 77.37154, 78.0063, 79.58106, 81.78399999999998, 82.39681, 82.82478, 83.51505999999998, 83.82137, 85.77942, 85.79574000000002, 85.83345, 86.24282, 86.30914, 87.75738, 88.58008000000002, 90.72546, 92.55651, 94.88614, 95.56546, 99.10668, 103.96843, 109.64005, 114.99613, 122.69421, 124.03694, 124.46465, 139.6724, 140.53174, 147.98121, 150.63012, 182.05345, 208.09779, 212.36043, 214.43792, 257.32122000000004, 265.29845, 327.86043, 349.09942, 665.16786, 790.69223], \"xaxis\": \"x\", \"y\": [270.8774323019701, 285.05746573743113, 311.85322516622375, 314.535285003314, 328.99264113310477, 330.39999921574645, 371.33532644079304, 372.5585078620185, 387.8850222491118, 394.9072095480027, 401.2650233842968, 427.50463616968705, 433.9550501280789, 447.46634281441806, 450.65330191709535, 457.5951720872398, 462.6653187872146, 475.3881797781095, 497.2798858725766, 502.3724831548433, 508.57252876542617, 524.861756875847, 556.6403855129688, 561.5511262547856, 569.0861967649419, 569.5556800663662, 576.2695642321416, 585.4700039241673, 585.4868589205992, 587.1799330763606, 592.202994968489, 593.3217027073771, 593.8878804620163, 596.4417877351422, 598.612670332266, 618.1708124065576, 622.7528465985254, 626.4952699560854, 630.7193913695692, 632.5955503651155, 637.2220762885556, 640.6186651444269, 644.473136696891, 644.531685631865, 647.5243004841853, 647.6716281655481, 652.9625957904368, 655.4221287313142, 661.7643158705114, 663.908858270782, 665.7324733503262, 682.7330914923384, 686.4990572538217, 686.71093888913, 688.1332412803492, 691.5038993724792, 695.8354287389341, 706.5814101888025, 721.6140198405418, 725.7957649269639, 728.7161830739198, 733.4265745464076, 735.5167988205252, 748.8783072268316, 748.989673033216, 749.2470017439239, 752.0404956262505, 752.4930556923908, 762.3756791873726, 767.9896895373987, 782.6295163573068, 795.1243913438328, 811.021519010942, 815.6571207016915, 839.8219994323572, 872.9980232797358, 911.7005070300869, 948.2497820459695, 1000.7805961888251, 1009.9432315568697, 1012.8618754936749, 1116.6378155697735, 1122.5018530733487, 1173.3361811178452, 1191.4120388500526, 1405.841235218448, 1583.5648213611407, 1612.6525873492706, 1626.829140603282, 1919.4598565912065, 1973.8955582862798, 2400.8113273857234, 2545.743756806043, 4702.558505166972, 5559.122395236838], \"yaxis\": \"y\"}, {\"line\": {\"color\": \"rgb(0,0,0)\", \"width\": 0.5}, \"mode\": \"lines\", \"name\": \"median x: 67.28\", \"type\": \"scatter\", \"visible\": true, \"x\": [67.27875, 67.27875], \"y\": [-10000, 10000]}, {\"line\": {\"color\": \"rgb(0,0,0)\", \"width\": 0.5}, \"mode\": \"lines\", \"name\": \"median y: 481.72\", \"type\": \"scatter\", \"visible\": true, \"x\": [-10000, 10000], \"y\": [481.71693, 481.71693]}, {\"line\": {\"color\": \"rgb(0,0,0)\", \"dash\": \"7px\", \"width\": 0.5}, \"marker\": {\"color\": \"black\"}, \"mode\": \"lines\", \"name\": \"trend all\", \"type\": \"scatter\", \"x\": [53.56638, 57.81493, 49.49134, 43.8366, 41.12481, 40.18754000000001, 73.76185, 51.00644000000001, 50.78034, 52.96382, 47.43183, 43.70666, 37.52842, 44.5522, 50.61842, 48.40244000000001, 38.68401, 71.18771, 46.23201, 47.96482, 11.26062, 49.97705, 196.58165, 40.25265, 97.53544, 227.73354, 74.27828000000002, 41.70296, 123.52937, 42.87878, 29.9005, 286.03356, 120.72736, 123.97194, 64.96240999999999, 187.85383, 31.31554, 86.24282, 70.76252, 33.9942, 38.60457, 58.24005, 29.73705, 77.9459, 107.47591, 76.45338000000002, 327.86043, 90.66731, 283.49191, 32.059670000000004, 61.61205, 103.36934, 176.65579, 52.53227, 83.51505999999998, 79.58106, 74.20012, 123.30013, 90.72546, 73.59489, 108.18557, 86.92595, 32.8459, 68.46393, 305.93096, 76.87759, 74.5189, 115.29012, 124.03694, 349.09942, 95.85554, 109.64005, 67.84491, 63.75888000000001, 57.60809, 70.94818000000002, 238.54516, 50.56403, 70.47946, 48.90916, 69.41686, 140.53174, 60.74849, 92.55651, 42.03132, 71.72354, 99.10668, 60.48463, 208.09779, 48.79007, 85.83345, 24.24766, 114.99613, 49.65545, 30.45273, 50.03303, 94.47045, 214.43792, 39.62928, 182.05345, 147.98121, 17.80922, 257.32122000000004, 122.69421, 78.0063, 18.80548, 40.37122, 30.63198, 665.16786, 67.27875, 69.91461, 33.03262, 124.46465, 39.64185, 18.82896, 292.6492, 96.33895, 43.0936, 31.99238, 35.71909, 67.29648, 150.63012, 19.36104, 30.75518, 33.90705, 47.33975, 20.66102, 25.72167, 52.95112, 86.91241, 211.43741, 14.00733, 29.34616, 94.14689, 15.73122, 36.06278, 23.87427000000001, 25.79624, 154.75234, 53.7169, 22.12902, 24.4539, 112.67105, 45.30602, 19.13189, 265.29845, 790.69223, 82.82478, 41.60928, 27.39602, 76.66915999999998, 103.96843, 37.51701, 53.04091, 47.91805, 48.56664, 132.28253, 212.36043, 62.08348, 128.63806, 21.95022, 21.73598, 32.877990000000004, 68.73886999999999, 72.08397, 64.42796, 50.88858, 61.8329, 83.82137, 123.15323, 39.68901, 58.87681, 73.01338, 38.81842, 42.06003, 42.07631, 158.53465, 139.6724, 65.63358000000001, 102.21944, 76.63811, 58.32773, 85.77942, 70.92659, 73.23429, 70.89366, 62.81958, 94.88614, 73.32765, 61.83537, 63.44075, 88.58008000000002, 88.73939, 77.37154, 76.08623, 70.70924000000002, 37.9704, 70.48804, 95.56546, 21.94713, 66.62501, 181.63361, 86.30914, 63.06649, 59.43195, 56.02475, 45.70106, 81.78399999999998, 85.79574000000002, 71.36211999999998, 75.77555, 87.75738, 34.83875, 62.70002, 82.39681, 67.85576, 78.85514, 60.23266, 112.06617, 183.89912, 59.50075, 62.98352, 168.62553, 56.83561, 61.14316], \"y\": [554.0952471596661, 586.5579934780593, 522.9582734257322, 479.75096973000745, 459.03045312110424, 451.868866640578, 708.406816845964, 534.5350012380441, 532.8073937148681, 549.491146367252, 507.2217631645385, 478.7581111649413, 431.550796242403, 485.218797875008, 531.5701791631095, 514.6380972559571, 440.3805440429637, 688.7380701422584, 498.054058350488, 511.29428653374464, 230.8411593681071, 526.6695350360008, 1646.8606446874144, 452.3663656491316, 890.0584441652825, 1884.889125559357, 712.3528069087404, 463.4480395409367, 1088.675467716393, 472.43236275146575, 373.2666211951521, 2330.353756931767, 1067.265589096252, 1092.057100894332, 641.1711744588149, 1580.172243568774, 384.07880053878205, 803.772662350307, 685.4892358088698, 404.546174125824, 439.7735509353074, 589.8062929484375, 372.0177160661689, 740.3767251048931, 966.0125828468558, 728.9725288178946, 2649.9486940520583, 837.5797486405161, 2310.933263073828, 389.7646235649689, 615.5714082432139, 934.6346915312954, 1494.6091380896764, 546.1937159089302, 782.9301205660604, 752.8708193888215, 711.7555941532718, 1086.9238677667568, 838.0240669840485, 707.1310921574659, 971.4350240449849, 808.9923904675433, 395.772128487333, 667.9259391405959, 2482.3878035113285, 732.2138750691391, 714.1913603020466, 1025.7201811824411, 1092.5537594038694, 2812.2336958594724, 877.2224960087894, 982.5485604904019, 663.1960691317665, 631.9751219052201, 584.9775496917096, 686.9078453301121, 1967.499634403755, 531.1545906041288, 683.3264026133363, 518.5098941783084, 675.2071821174201, 1218.588879144165, 608.973032512503, 852.01493719772, 465.9570055131173, 692.8322936678811, 902.0641321118318, 606.9569045997866, 1734.8543205031872, 517.5999393798343, 800.6447070572399, 330.0738352097062, 1023.4738329483039, 524.2122215488121, 377.48615548318116, 527.0972726262147, 866.6391616245539, 1783.2986207504796, 447.60325772466393, 1535.8521191756797, 1275.5095355602318, 280.8783580689886, 2110.9656340127817, 1082.2940935498495, 740.8382354737556, 288.4906812491706, 453.2723471795294, 378.8557868344827, 5227.281085432454, 658.8700971046935, 679.0104401654553, 397.1988373627306, 1095.8218488056277, 447.69930383950833, 288.6700895846159, 2380.903201578485, 880.9161835487205, 474.0737809209865, 389.2504673940953, 417.72588637991856, 659.005570264295, 1295.7495923679087, 292.7356597346884, 379.7971457325599, 403.8802696780364, 506.5181890790276, 302.66867710743554, 341.3365984349889, 549.3941069353884, 808.8889326795565, 1760.3720234512123, 251.82849621013412, 369.0309646078133, 864.1668719730777, 265.00056756408196, 420.35198735134844, 327.22079950391844, 341.9063803589306, 1327.2470637707654, 555.245355449752, 313.8855185228364, 331.64969445596796, 1005.7081288351429, 490.97866122361665, 290.984747466065, 2171.918851890287, 6186.400262583748, 777.6557600127752, 462.73224001519094, 354.13013959566763, 730.6212822515558, 939.2122784002004, 431.46361357172884, 550.0801833595634, 510.936921633882, 515.8927330600502, 1155.5574892447517, 1767.424727104648, 619.1735577993873, 1127.7104578869955, 312.5193255766009, 310.8823391291653, 396.01732497304164, 670.026728226938, 695.5863033077673, 637.0874953753946, 533.6344447467502, 617.2589010406193, 785.2706046900057, 1085.8014195352018, 448.0596486904282, 594.6717125258699, 702.6878323131405, 441.4075574316858, 466.1763757563299, 466.30076961071865, 1356.1473168047469, 1212.0227480120734, 646.2995174102964, 925.8484204525697, 730.384032302, 590.4762470733029, 800.231869222312, 686.742878295944, 704.3757835645547, 686.4912634541122, 624.7980243973957, 869.8154074065485, 705.0891380022535, 617.2777740639817, 629.5443223415406, 821.6314326272553, 822.8487044296309, 735.9880976966168, 726.1671723290223, 685.0821286490523, 434.9279212892551, 683.3919615365952, 875.0060236942257, 312.49571519514757, 653.8749350427697, 1532.6441636580762, 804.2794068480382, 626.684639052625, 598.913481833326, 572.8794068533848, 493.9971224175812, 769.7032639580606, 800.3565687127068, 690.0707195368495, 723.7932974714358, 815.3452640765397, 410.9992963447455, 623.8844783758526, 774.3856839769788, 663.2789728983586, 747.3241371543068, 605.0316269898149, 1001.0863011543885, 1549.9546993494964, 599.4391757634211, 626.0506735674508, 1433.2507232773899, 579.0751071463629, 611.9886665734133]}],\n",
       "                        {\"height\": 600, \"legend\": {\"tracegroupgap\": 0}, \"margin\": {\"t\": 60}, \"template\": {\"data\": {\"bar\": [{\"error_x\": {\"color\": \"#2a3f5f\"}, \"error_y\": {\"color\": \"#2a3f5f\"}, \"marker\": {\"line\": {\"color\": \"#E5ECF6\", \"width\": 0.5}}, \"type\": \"bar\"}], \"barpolar\": [{\"marker\": {\"line\": {\"color\": \"#E5ECF6\", \"width\": 0.5}}, \"type\": \"barpolar\"}], \"carpet\": [{\"aaxis\": {\"endlinecolor\": \"#2a3f5f\", \"gridcolor\": \"white\", \"linecolor\": \"white\", \"minorgridcolor\": \"white\", \"startlinecolor\": \"#2a3f5f\"}, \"baxis\": {\"endlinecolor\": \"#2a3f5f\", \"gridcolor\": \"white\", \"linecolor\": \"white\", \"minorgridcolor\": \"white\", \"startlinecolor\": \"#2a3f5f\"}, \"type\": \"carpet\"}], \"choropleth\": [{\"colorbar\": {\"outlinewidth\": 0, \"ticks\": \"\"}, \"type\": \"choropleth\"}], \"contour\": [{\"colorbar\": {\"outlinewidth\": 0, \"ticks\": \"\"}, \"colorscale\": [[0.0, \"#0d0887\"], [0.1111111111111111, \"#46039f\"], [0.2222222222222222, \"#7201a8\"], [0.3333333333333333, \"#9c179e\"], [0.4444444444444444, \"#bd3786\"], [0.5555555555555556, \"#d8576b\"], [0.6666666666666666, \"#ed7953\"], [0.7777777777777778, \"#fb9f3a\"], [0.8888888888888888, \"#fdca26\"], [1.0, \"#f0f921\"]], \"type\": \"contour\"}], \"contourcarpet\": [{\"colorbar\": {\"outlinewidth\": 0, \"ticks\": \"\"}, \"type\": \"contourcarpet\"}], \"heatmap\": [{\"colorbar\": {\"outlinewidth\": 0, \"ticks\": \"\"}, \"colorscale\": [[0.0, \"#0d0887\"], [0.1111111111111111, \"#46039f\"], [0.2222222222222222, \"#7201a8\"], [0.3333333333333333, \"#9c179e\"], [0.4444444444444444, \"#bd3786\"], [0.5555555555555556, \"#d8576b\"], [0.6666666666666666, \"#ed7953\"], [0.7777777777777778, \"#fb9f3a\"], [0.8888888888888888, \"#fdca26\"], [1.0, \"#f0f921\"]], \"type\": \"heatmap\"}], \"heatmapgl\": [{\"colorbar\": {\"outlinewidth\": 0, \"ticks\": \"\"}, \"colorscale\": [[0.0, \"#0d0887\"], [0.1111111111111111, \"#46039f\"], [0.2222222222222222, \"#7201a8\"], [0.3333333333333333, \"#9c179e\"], [0.4444444444444444, \"#bd3786\"], [0.5555555555555556, \"#d8576b\"], [0.6666666666666666, \"#ed7953\"], [0.7777777777777778, \"#fb9f3a\"], [0.8888888888888888, \"#fdca26\"], [1.0, \"#f0f921\"]], \"type\": \"heatmapgl\"}], \"histogram\": [{\"marker\": {\"colorbar\": {\"outlinewidth\": 0, \"ticks\": \"\"}}, \"type\": \"histogram\"}], \"histogram2d\": [{\"colorbar\": {\"outlinewidth\": 0, \"ticks\": \"\"}, \"colorscale\": [[0.0, \"#0d0887\"], [0.1111111111111111, \"#46039f\"], [0.2222222222222222, \"#7201a8\"], [0.3333333333333333, \"#9c179e\"], [0.4444444444444444, \"#bd3786\"], [0.5555555555555556, \"#d8576b\"], [0.6666666666666666, \"#ed7953\"], [0.7777777777777778, \"#fb9f3a\"], [0.8888888888888888, \"#fdca26\"], [1.0, \"#f0f921\"]], \"type\": \"histogram2d\"}], \"histogram2dcontour\": [{\"colorbar\": {\"outlinewidth\": 0, \"ticks\": \"\"}, \"colorscale\": [[0.0, \"#0d0887\"], [0.1111111111111111, \"#46039f\"], [0.2222222222222222, \"#7201a8\"], [0.3333333333333333, \"#9c179e\"], [0.4444444444444444, \"#bd3786\"], [0.5555555555555556, \"#d8576b\"], [0.6666666666666666, \"#ed7953\"], [0.7777777777777778, \"#fb9f3a\"], [0.8888888888888888, \"#fdca26\"], [1.0, \"#f0f921\"]], \"type\": \"histogram2dcontour\"}], \"mesh3d\": [{\"colorbar\": {\"outlinewidth\": 0, \"ticks\": \"\"}, \"type\": \"mesh3d\"}], \"parcoords\": [{\"line\": {\"colorbar\": {\"outlinewidth\": 0, \"ticks\": \"\"}}, \"type\": \"parcoords\"}], \"pie\": [{\"automargin\": true, \"type\": \"pie\"}], \"scatter\": [{\"marker\": {\"colorbar\": {\"outlinewidth\": 0, \"ticks\": \"\"}}, \"type\": \"scatter\"}], \"scatter3d\": [{\"line\": {\"colorbar\": {\"outlinewidth\": 0, \"ticks\": \"\"}}, \"marker\": {\"colorbar\": {\"outlinewidth\": 0, \"ticks\": \"\"}}, \"type\": \"scatter3d\"}], \"scattercarpet\": [{\"marker\": {\"colorbar\": {\"outlinewidth\": 0, \"ticks\": \"\"}}, \"type\": \"scattercarpet\"}], \"scattergeo\": [{\"marker\": {\"colorbar\": {\"outlinewidth\": 0, \"ticks\": \"\"}}, \"type\": \"scattergeo\"}], \"scattergl\": [{\"marker\": {\"colorbar\": {\"outlinewidth\": 0, \"ticks\": \"\"}}, \"type\": \"scattergl\"}], \"scattermapbox\": [{\"marker\": {\"colorbar\": {\"outlinewidth\": 0, \"ticks\": \"\"}}, \"type\": \"scattermapbox\"}], \"scatterpolar\": [{\"marker\": {\"colorbar\": {\"outlinewidth\": 0, \"ticks\": \"\"}}, \"type\": \"scatterpolar\"}], \"scatterpolargl\": [{\"marker\": {\"colorbar\": {\"outlinewidth\": 0, \"ticks\": \"\"}}, \"type\": \"scatterpolargl\"}], \"scatterternary\": [{\"marker\": {\"colorbar\": {\"outlinewidth\": 0, \"ticks\": \"\"}}, \"type\": \"scatterternary\"}], \"surface\": [{\"colorbar\": {\"outlinewidth\": 0, \"ticks\": \"\"}, \"colorscale\": [[0.0, \"#0d0887\"], [0.1111111111111111, \"#46039f\"], [0.2222222222222222, \"#7201a8\"], [0.3333333333333333, \"#9c179e\"], [0.4444444444444444, \"#bd3786\"], [0.5555555555555556, \"#d8576b\"], [0.6666666666666666, \"#ed7953\"], [0.7777777777777778, \"#fb9f3a\"], [0.8888888888888888, \"#fdca26\"], [1.0, \"#f0f921\"]], \"type\": \"surface\"}], \"table\": [{\"cells\": {\"fill\": {\"color\": \"#EBF0F8\"}, \"line\": {\"color\": \"white\"}}, \"header\": {\"fill\": {\"color\": \"#C8D4E3\"}, \"line\": {\"color\": \"white\"}}, \"type\": \"table\"}]}, \"layout\": {\"annotationdefaults\": {\"arrowcolor\": \"#2a3f5f\", \"arrowhead\": 0, \"arrowwidth\": 1}, \"coloraxis\": {\"colorbar\": {\"outlinewidth\": 0, \"ticks\": \"\"}}, \"colorscale\": {\"diverging\": [[0, \"#8e0152\"], [0.1, \"#c51b7d\"], [0.2, \"#de77ae\"], [0.3, \"#f1b6da\"], [0.4, \"#fde0ef\"], [0.5, \"#f7f7f7\"], [0.6, \"#e6f5d0\"], [0.7, \"#b8e186\"], [0.8, \"#7fbc41\"], [0.9, \"#4d9221\"], [1, \"#276419\"]], \"sequential\": [[0.0, \"#0d0887\"], [0.1111111111111111, \"#46039f\"], [0.2222222222222222, \"#7201a8\"], [0.3333333333333333, \"#9c179e\"], [0.4444444444444444, \"#bd3786\"], [0.5555555555555556, \"#d8576b\"], [0.6666666666666666, \"#ed7953\"], [0.7777777777777778, \"#fb9f3a\"], [0.8888888888888888, \"#fdca26\"], [1.0, \"#f0f921\"]], \"sequentialminus\": [[0.0, \"#0d0887\"], [0.1111111111111111, \"#46039f\"], [0.2222222222222222, \"#7201a8\"], [0.3333333333333333, \"#9c179e\"], [0.4444444444444444, \"#bd3786\"], [0.5555555555555556, \"#d8576b\"], [0.6666666666666666, \"#ed7953\"], [0.7777777777777778, \"#fb9f3a\"], [0.8888888888888888, \"#fdca26\"], [1.0, \"#f0f921\"]]}, \"colorway\": [\"#636efa\", \"#EF553B\", \"#00cc96\", \"#ab63fa\", \"#FFA15A\", \"#19d3f3\", \"#FF6692\", \"#B6E880\", \"#FF97FF\", \"#FECB52\"], \"font\": {\"color\": \"#2a3f5f\"}, \"geo\": {\"bgcolor\": \"white\", \"lakecolor\": \"white\", \"landcolor\": \"#E5ECF6\", \"showlakes\": true, \"showland\": true, \"subunitcolor\": \"white\"}, \"hoverlabel\": {\"align\": \"left\"}, \"hovermode\": \"closest\", \"mapbox\": {\"style\": \"light\"}, \"paper_bgcolor\": \"white\", \"plot_bgcolor\": \"#E5ECF6\", \"polar\": {\"angularaxis\": {\"gridcolor\": \"white\", \"linecolor\": \"white\", \"ticks\": \"\"}, \"bgcolor\": \"#E5ECF6\", \"radialaxis\": {\"gridcolor\": \"white\", \"linecolor\": \"white\", \"ticks\": \"\"}}, \"scene\": {\"xaxis\": {\"backgroundcolor\": \"#E5ECF6\", \"gridcolor\": \"white\", \"gridwidth\": 2, \"linecolor\": \"white\", \"showbackground\": true, \"ticks\": \"\", \"zerolinecolor\": \"white\"}, \"yaxis\": {\"backgroundcolor\": \"#E5ECF6\", \"gridcolor\": \"white\", \"gridwidth\": 2, \"linecolor\": \"white\", \"showbackground\": true, \"ticks\": \"\", \"zerolinecolor\": \"white\"}, \"zaxis\": {\"backgroundcolor\": \"#E5ECF6\", \"gridcolor\": \"white\", \"gridwidth\": 2, \"linecolor\": \"white\", \"showbackground\": true, \"ticks\": \"\", \"zerolinecolor\": \"white\"}}, \"shapedefaults\": {\"line\": {\"color\": \"#2a3f5f\"}}, \"ternary\": {\"aaxis\": {\"gridcolor\": \"white\", \"linecolor\": \"white\", \"ticks\": \"\"}, \"baxis\": {\"gridcolor\": \"white\", \"linecolor\": \"white\", \"ticks\": \"\"}, \"bgcolor\": \"#E5ECF6\", \"caxis\": {\"gridcolor\": \"white\", \"linecolor\": \"white\", \"ticks\": \"\"}}, \"title\": {\"x\": 0.05}, \"xaxis\": {\"automargin\": true, \"gridcolor\": \"white\", \"linecolor\": \"white\", \"ticks\": \"\", \"title\": {\"standoff\": 15}, \"zerolinecolor\": \"white\", \"zerolinewidth\": 2}, \"yaxis\": {\"automargin\": true, \"gridcolor\": \"white\", \"linecolor\": \"white\", \"ticks\": \"\", \"title\": {\"standoff\": 15}, \"zerolinecolor\": \"white\", \"zerolinewidth\": 2}}}, \"xaxis\": {\"anchor\": \"y\", \"domain\": [0.0, 1.0], \"range\": [9.008496, 830.2268415], \"title\": {\"text\": \"\\uc81c\\uc870\\uc5c5\\uc5c5\\uccb4\\uc218\"}}, \"yaxis\": {\"anchor\": \"x\", \"domain\": [0.0, 1.0], \"range\": [27.01123, 9101.564955000002], \"title\": {\"text\": \"\\uc81c\\uc870\\uc5c5\\uc885\\uc0ac\\uc790\\uc218\"}}},\n",
       "                        {\"responsive\": true}\n",
       "                    ).then(function(){\n",
       "                            \n",
       "var gd = document.getElementById('4801114f-0589-4ac9-bece-4efe48de78f4');\n",
       "var x = new MutationObserver(function (mutations, observer) {{\n",
       "        var display = window.getComputedStyle(gd).display;\n",
       "        if (!display || display === 'none') {{\n",
       "            console.log([gd, 'removed!']);\n",
       "            Plotly.purge(gd);\n",
       "            observer.disconnect();\n",
       "        }}\n",
       "}});\n",
       "\n",
       "// Listen for the removal of the full notebook cells\n",
       "var notebookContainer = gd.closest('#notebook-container');\n",
       "if (notebookContainer) {{\n",
       "    x.observe(notebookContainer, {childList: true});\n",
       "}}\n",
       "\n",
       "// Listen for the clearing of the current output cell\n",
       "var outputEl = gd.closest('.output');\n",
       "if (outputEl) {{\n",
       "    x.observe(outputEl, {childList: true});\n",
       "}}\n",
       "\n",
       "                        })\n",
       "                };\n",
       "                });\n",
       "            </script>\n",
       "        </div>"
      ]
     },
     "metadata": {},
     "output_type": "display_data"
    }
   ],
   "source": [
    "### 1. 가설검증의 대상이 되는 집단을 그룹화\n",
    "#1)두개의 변수와 중앙값을 기준으로 각 사분면이 분리된다.\n",
    "scatter(x=\"제조업업체수\", y=\"제조업종사자수\", color=\"transport_\", df=sigungu_nxy,\n",
    "        medianline=True, hovername='지역', trendline='ols')"
   ]
  },
  {
   "cell_type": "code",
   "execution_count": 236,
   "metadata": {},
   "outputs": [
    {
     "name": "stderr",
     "output_type": "stream",
     "text": [
      "C:\\Anaconda3\\lib\\site-packages\\numpy\\core\\fromnumeric.py:2495: FutureWarning:\n",
      "\n",
      "Method .ptp is deprecated and will be removed in a future version. Use numpy.ptp instead.\n",
      "\n"
     ]
    },
    {
     "data": {
      "application/vnd.plotly.v1+json": {
       "config": {
        "plotlyServerURL": "https://plot.ly"
       },
       "data": [
        {
         "hoverlabel": {
          "namelength": 0
         },
         "hovertemplate": "<b>%{hovertext}</b><br><br>group2_=0.0<br>교통사고발생건수=%{x}<br>음주교통사고발생건수=%{y}",
         "hovertext": [
          "2015_강원도_강릉시",
          "2015_강원도_고성군",
          "2015_강원도_동해시",
          "2015_강원도_삼척시",
          "2015_강원도_속초시",
          "2015_강원도_양구군",
          "2015_강원도_양양군",
          "2015_강원도_영월군",
          "2015_강원도_원주시",
          "2015_강원도_인제군",
          "2015_강원도_정선군",
          "2015_강원도_철원군",
          "2015_강원도_춘천시",
          "2015_강원도_태백시",
          "2015_강원도_평창군",
          "2015_강원도_홍천군",
          "2015_강원도_화천군",
          "2015_강원도_횡성군",
          "2015_경기도_가평군",
          "2015_경기도_고양시",
          "2015_경기도_과천시",
          "2015_경기도_광명시",
          "2015_경기도_광주시",
          "2015_경기도_구리시",
          "2015_경기도_군포시",
          "2015_경기도_김포시",
          "2015_경기도_남양주시",
          "2015_경기도_동두천시",
          "2015_경기도_부천시",
          "2015_경기도_성남시",
          "2015_경기도_수원시",
          "2015_경기도_시흥시",
          "2015_경기도_안산시",
          "2015_경기도_안성시",
          "2015_경기도_안양시",
          "2015_경기도_양주시",
          "2015_경기도_양평군",
          "2015_경기도_연천군",
          "2015_경기도_오산시",
          "2015_경기도_용인시",
          "2015_경기도_의왕시",
          "2015_경기도_의정부시",
          "2015_경기도_이천시",
          "2015_경기도_파주시",
          "2015_경기도_평택시",
          "2015_경기도_하남시",
          "2015_경기도_화성시",
          "2015_경상남도_거제시",
          "2015_경상남도_거창군",
          "2015_경상남도_고성군",
          "2015_경상남도_김해시",
          "2015_경상남도_남해군",
          "2015_경상남도_산청군",
          "2015_경상남도_양산시",
          "2015_경상남도_진주시",
          "2015_경상남도_창녕군",
          "2015_경상남도_창원시",
          "2015_경상남도_통영시",
          "2015_경상남도_하동군",
          "2015_경상남도_함안군",
          "2015_경상남도_함양군",
          "2015_경상남도_합천군",
          "2015_경상북도_경산시",
          "2015_경상북도_구미시",
          "2015_경상북도_문경시",
          "2015_경상북도_봉화군",
          "2015_경상북도_상주시",
          "2015_경상북도_성주군",
          "2015_경상북도_안동시",
          "2015_경상북도_영덕군",
          "2015_경상북도_영양군",
          "2015_경상북도_영주시",
          "2015_경상북도_예천군",
          "2015_경상북도_울릉군",
          "2015_경상북도_울진군",
          "2015_경상북도_의성군",
          "2015_경상북도_청송군",
          "2015_경상북도_포항시",
          "2015_광주광역시_남구",
          "2015_광주광역시_동구",
          "2015_광주광역시_북구",
          "2015_광주광역시_서구",
          "2015_대구광역시_남구",
          "2015_대구광역시_달서구",
          "2015_대구광역시_동구",
          "2015_대구광역시_수성구",
          "2015_대전광역시_동구",
          "2015_대전광역시_서구",
          "2015_대전광역시_유성구",
          "2015_대전광역시_중구",
          "2015_부산광역시_금정구",
          "2015_부산광역시_남구",
          "2015_부산광역시_동구",
          "2015_부산광역시_동래구",
          "2015_부산광역시_북구",
          "2015_부산광역시_사상구",
          "2015_부산광역시_사하구",
          "2015_부산광역시_서구",
          "2015_부산광역시_수영구",
          "2015_부산광역시_연제구",
          "2015_부산광역시_중구",
          "2015_부산광역시_해운대구",
          "2015_서울특별시_강남구",
          "2015_서울특별시_강동구",
          "2015_서울특별시_강북구",
          "2015_서울특별시_강서구",
          "2015_서울특별시_관악구",
          "2015_서울특별시_광진구",
          "2015_서울특별시_구로구",
          "2015_서울특별시_금천구",
          "2015_서울특별시_노원구",
          "2015_서울특별시_도봉구",
          "2015_서울특별시_동대문구",
          "2015_서울특별시_동작구",
          "2015_서울특별시_마포구",
          "2015_서울특별시_서대문구",
          "2015_서울특별시_서초구",
          "2015_서울특별시_성동구",
          "2015_서울특별시_성북구",
          "2015_서울특별시_송파구",
          "2015_서울특별시_양천구",
          "2015_서울특별시_영등포구",
          "2015_서울특별시_용산구",
          "2015_서울특별시_은평구",
          "2015_서울특별시_중랑구",
          "2015_울산광역시_남구",
          "2015_울산광역시_동구",
          "2015_울산광역시_중구",
          "2015_인천광역시_강화군",
          "2015_인천광역시_계양구",
          "2015_인천광역시_남구",
          "2015_인천광역시_남동구",
          "2015_인천광역시_부평구",
          "2015_인천광역시_서구",
          "2015_인천광역시_연수구",
          "2015_인천광역시_옹진군",
          "2015_인천광역시_중구",
          "2015_전라남도_강진군",
          "2015_전라남도_고흥군",
          "2015_전라남도_곡성군",
          "2015_전라남도_광양시",
          "2015_전라남도_구례군",
          "2015_전라남도_담양군",
          "2015_전라남도_목포시",
          "2015_전라남도_무안군",
          "2015_전라남도_보성군",
          "2015_전라남도_순천시",
          "2015_전라남도_신안군",
          "2015_전라남도_여수시",
          "2015_전라남도_영광군",
          "2015_전라남도_완도군",
          "2015_전라남도_장성군",
          "2015_전라남도_장흥군",
          "2015_전라남도_진도군",
          "2015_전라남도_화순군",
          "2015_전라북도_고창군",
          "2015_전라북도_군산시",
          "2015_전라북도_남원시",
          "2015_전라북도_무주군",
          "2015_전라북도_부안군",
          "2015_전라북도_순창군",
          "2015_전라북도_완주군",
          "2015_전라북도_장수군",
          "2015_전라북도_전주시",
          "2015_충청남도_계룡시",
          "2015_충청남도_공주시",
          "2015_충청남도_금산군",
          "2015_충청남도_당진시",
          "2015_충청남도_보령시",
          "2015_충청남도_부여군",
          "2015_충청남도_서산시",
          "2015_충청남도_예산군",
          "2015_충청남도_천안시",
          "2015_충청남도_태안군",
          "2015_충청남도_홍성군",
          "2015_충청북도_단양군",
          "2015_충청북도_보은군",
          "2015_충청북도_영동군",
          "2015_충청북도_옥천군",
          "2015_충청북도_음성군",
          "2015_충청북도_제천시",
          "2015_충청북도_증평군",
          "2015_충청북도_진천군",
          "2015_충청북도_청주시",
          "2015_충청북도_충주시"
         ],
         "legendgroup": "group2_=0.0",
         "marker": {
          "color": "dimgrey",
          "symbol": "circle"
         },
         "mode": "markers",
         "name": "group2_=0.0",
         "showlegend": true,
         "textposition": "top center",
         "type": "scatter",
         "x": [
          228.30585,
          173.44478,
          191.51456,
          169.12354,
          217.14868,
          112.19022,
          210.74816,
          144.31091999999995,
          276.32817,
          184.14165,
          168.42105,
          121.03383,
          246.41848,
          145.05366999999995,
          322.0339,
          191.90643,
          118.26254,
          222.15855,
          344.04457,
          188.77826,
          225.06984,
          145.34083,
          226.93052000000003,
          241.30179,
          134.08088999999998,
          216.00893,
          162.87469,
          174.08678999999995,
          174.93274,
          201.17832,
          191.88778,
          290.7720700000001,
          246.13068,
          281.14967,
          182.22097,
          218.93187000000003,
          206.68255,
          160.9241,
          214.6573,
          179.66215,
          192.00919,
          181.8321,
          241.4957,
          177.70841,
          240.52674,
          247.68966,
          251.8942,
          198.39943,
          118.63091,
          154.87517,
          229.47804,
          117.28633,
          106.00017,
          182.1969,
          178.28538999999995,
          154.6408,
          207.09322,
          170.75567,
          129.6142,
          262.57983,
          117.534,
          97.70696,
          245.73962000000003,
          255.23411,
          156.63079,
          109.63172,
          177.56483,
          156.51053000000005,
          225.67088,
          191.48184,
          91.77337,
          168.35169,
          125.70947,
          42.86828,
          121.48779,
          119.17699,
          134.20028,
          219.07395,
          214.2256,
          310.16213,
          254.4423,
          332.85318,
          231.63213,
          237.23973,
          234.93067,
          214.58692,
          213.36657,
          237.88024,
          224.45421,
          238.89112000000003,
          159.57191,
          169.90198,
          258.34082,
          187.26605,
          134.21331999999998,
          241.81632,
          157.90501,
          159.08225,
          225.68355,
          175.3745,
          394.76218,
          164.85216,
          369.30432,
          147.02149,
          132.19908999999998,
          164.50202,
          138.29294,
          194.90634,
          172.27492,
          210.97613,
          133.96229,
          116.84747,
          184.91175,
          172.209,
          263.25826,
          163.80132,
          354.1423,
          240.87596,
          144.82351,
          177.12242,
          173.27512,
          284.18839,
          304.63952,
          115.79403,
          136.66447,
          282.52324,
          196.52682,
          187.25008,
          170.59507,
          181.5997,
          218.68456,
          260.5624,
          181.83385,
          209.63091,
          168.13484,
          78.73255,
          315.91455,
          140.23731999999998,
          94.48457,
          139.26851000000002,
          169.4971,
          141.33235,
          196.70602,
          257.91585,
          167.20525,
          132.73179,
          191.89142,
          63.09004,
          180.92128,
          128.09458999999998,
          89.32937,
          171.80645,
          121.55592,
          111.464,
          167.43545,
          148.77683000000005,
          231.71688,
          156.58022,
          170.53958,
          178.32934,
          119.20443,
          226.60633,
          112.70624,
          248.85239,
          121.32571000000002,
          261.1313,
          184.53395,
          211.8592,
          208.68282,
          134.90537,
          241.27295,
          195.95144,
          272.7686,
          222.93604,
          201.48913,
          157.36073000000005,
          141.6472,
          134.0472,
          189.4452,
          238.34501,
          224.99178,
          192.11412,
          238.89895,
          232.74217,
          223.4243
         ],
         "xaxis": "x",
         "y": [
          53.98342,
          52.52899,
          53.08686,
          57.25032,
          62.35443000000001,
          38.51306,
          58.86414,
          35.82892000000001,
          70.51807,
          36.9515,
          31.70577,
          33.83064,
          61.24203000000001,
          43.30888,
          53.82501,
          48.11855,
          29.10511,
          41.43433,
          61.58821999999999,
          38.51299,
          30.93107,
          26.85334000000001,
          39.78478,
          37.41569000000001,
          25.93548,
          43.16652,
          31.9997,
          47.64588,
          35.99872,
          36.70194,
          40.57134,
          49.05749,
          47.7626,
          54.92149000000001,
          33.12201,
          52.95142,
          34.73178,
          45.19101,
          37.20663,
          28.44876,
          33.00059,
          35.83755,
          42.97268,
          39.8203,
          49.91603,
          48.28874,
          41.08257,
          52.39904,
          38.32935,
          44.70992,
          40.85426,
          48.88717000000001,
          44.3527,
          39.33291,
          30.41961,
          55.74628000000001,
          32.59026,
          52.63951,
          37.99037,
          53.24333000000001,
          45.58447,
          35.079370000000004,
          58.43256,
          49.46231,
          53.08849,
          47.61485,
          50.53843,
          59.3584,
          66.4505,
          57.34351,
          43.96329,
          56.32786,
          40.12948,
          21.43414,
          41.26363,
          46.18561,
          54.05814,
          56.49174,
          43.80957,
          70.14863000000001,
          53.43043,
          66.12593000000001,
          60.00294,
          59.77577,
          52.58998,
          48.25796,
          40.32702000000001,
          38.37688,
          34.23308,
          46.36915,
          39.18257,
          29.93146,
          60.69899,
          34.78626,
          22.11914,
          37.25,
          32.35567,
          38.77577,
          40.50874,
          33.55576,
          81.51999,
          32.86654,
          62.6866,
          30.25617,
          39.19111,
          30.86335,
          33.43817,
          40.73163,
          36.77515,
          43.15135,
          26.02343,
          25.98181,
          50.81292,
          34.33382,
          45.63627,
          36.1497,
          49.30194,
          40.15725,
          35.65414000000001,
          39.2335,
          30.1509,
          57.35553,
          57.21527,
          26.57206,
          38.72638,
          47.79172,
          41.09403,
          40.1968,
          33.97002,
          29.06891,
          32.30428,
          38.74433,
          27.82805,
          28.59515,
          21.82148,
          10.14346,
          43.15236,
          59.70748,
          38.48308,
          46.8567,
          57.39758000000001,
          53.73574,
          68.67753,
          60.09811,
          57.40795,
          53.39785,
          53.86236,
          19.65849,
          45.75455,
          45.57211,
          26.32866,
          46.8956,
          55.79995,
          34.81341,
          44.92901,
          41.77068,
          63.25108,
          45.42111,
          42.14258,
          61.18121,
          48.07692,
          46.58265,
          35.14035,
          44.90892,
          18.00158,
          38.63722,
          46.76794,
          43.90705,
          44.95739,
          40.97333,
          44.09019,
          51.81408,
          38.53957,
          54.33566999999999,
          49.63752,
          44.59093,
          37.67523,
          41.53298,
          49.93425,
          55.91457,
          70.61145,
          54.06805,
          53.24209000000001,
          57.04005,
          60.80747
         ],
         "yaxis": "y"
        },
        {
         "hoverlabel": {
          "namelength": 0
         },
         "hovertemplate": "<b>OLS trendline</b><br>음주교통사고발생건수 = 0.103722 * 교통사고발생건수 + 24.419954<br>R<sup>2</sup>=0.275740<br><br>group2_=0.0<br>교통사고발생건수=%{x}<br>음주교통사고발생건수=%{y} <b>(trend)</b>",
         "legendgroup": "group2_=0.0",
         "marker": {
          "color": "dimgrey",
          "symbol": "circle"
         },
         "mode": "lines",
         "name": "group2_=0.0",
         "showlegend": false,
         "textposition": "top center",
         "type": "scatter",
         "x": [
          42.86828,
          63.09004,
          78.73255,
          89.32937,
          91.77337,
          94.48457,
          97.70696,
          106.00017,
          109.63172,
          111.464,
          112.19022,
          112.70624,
          115.79403,
          116.84747,
          117.28633,
          117.534,
          118.26254,
          118.63091,
          119.17699,
          119.20443,
          121.03383,
          121.32571000000002,
          121.48779,
          121.55592,
          125.70947,
          128.09458999999998,
          129.6142,
          132.19908999999998,
          132.73179,
          133.96229,
          134.0472,
          134.08088999999998,
          134.20028,
          134.21331999999998,
          134.90537,
          136.66447,
          138.29294,
          139.26851000000002,
          140.23731999999998,
          141.33235,
          141.6472,
          144.31091999999995,
          144.82351,
          145.05366999999995,
          145.34083,
          147.02149,
          148.77683000000005,
          154.6408,
          154.87517,
          156.51053000000005,
          156.58022,
          156.63079,
          157.36073000000005,
          157.90501,
          159.08225,
          159.57191,
          160.9241,
          162.87469,
          163.80132,
          164.50202,
          164.85216,
          167.20525,
          167.43545,
          168.13484,
          168.35169,
          168.42105,
          169.12354,
          169.4971,
          169.90198,
          170.53958,
          170.59507,
          170.75567,
          171.80645,
          172.209,
          172.27492,
          173.27512,
          173.44478,
          174.08678999999995,
          174.93274,
          175.3745,
          177.12242,
          177.56483,
          177.70841,
          178.28538999999995,
          178.32934,
          179.66215,
          180.92128,
          181.5997,
          181.8321,
          181.83385,
          182.1969,
          182.22097,
          184.14165,
          184.53395,
          184.91175,
          187.25008,
          187.26605,
          188.77826,
          189.4452,
          191.48184,
          191.51456,
          191.88778,
          191.89142,
          191.90643,
          192.00919,
          192.11412,
          194.90634,
          195.95144,
          196.52682,
          196.70602,
          198.39943,
          201.17832,
          201.48913,
          206.68255,
          207.09322,
          208.68282,
          209.63091,
          210.74816,
          210.97613,
          211.8592,
          213.36657,
          214.2256,
          214.58692,
          214.6573,
          216.00893,
          217.14868,
          218.68456,
          218.93187000000003,
          219.07395,
          222.15855,
          222.93604,
          223.4243,
          224.45421,
          224.99178,
          225.06984,
          225.67088,
          225.68355,
          226.60633,
          226.93052000000003,
          228.30585,
          229.47804,
          231.63213,
          231.71688,
          232.74217,
          234.93067,
          237.23973,
          237.88024,
          238.34501,
          238.89112000000003,
          238.89895,
          240.52674,
          240.87596,
          241.27295,
          241.30179,
          241.4957,
          241.81632,
          245.73962000000003,
          246.13068,
          246.41848,
          247.68966,
          248.85239,
          251.8942,
          254.4423,
          255.23411,
          257.91585,
          258.34082,
          260.5624,
          261.1313,
          262.57983,
          263.25826,
          272.7686,
          276.32817,
          281.14967,
          282.52324,
          284.18839,
          290.7720700000001,
          304.63952,
          310.16213,
          315.91455,
          322.0339,
          332.85318,
          344.04457,
          354.1423,
          369.30432,
          394.76218
         ],
         "xaxis": "x",
         "y": [
          28.86633533868409,
          30.9637757705276,
          32.58624745101023,
          33.68537031256965,
          33.93886676467993,
          34.22007772252011,
          34.554310305300646,
          35.414498239672774,
          35.79116969657174,
          35.98121735584859,
          36.05654231225265,
          36.11006491422399,
          36.430336522187,
          36.53960137591493,
          36.58512079202504,
          36.610809608021015,
          36.68637519935506,
          36.724583255027675,
          36.78122373889362,
          36.78406986927247,
          36.973818809325884,
          37.0040931728455,
          37.020904426919984,
          37.027971003549396,
          37.45878531969614,
          37.70617462323839,
          37.86379153960144,
          38.13190137761099,
          38.18715406175139,
          38.31478392440348,
          38.323590955397215,
          38.3270853479797,
          38.339468711898455,
          38.340821246160125,
          38.412602023444464,
          38.59505931023136,
          38.76396739835249,
          38.86515542363286,
          38.96564228851377,
          39.079220938249584,
          39.11187779502001,
          39.388164034551586,
          39.44133087022557,
          39.46520351483183,
          39.494988310735266,
          39.66930964756164,
          39.85137693980684,
          40.459599358088795,
          40.483908672115426,
          40.65353140448984,
          40.66075978736527,
          40.66600500650734,
          40.74171580857501,
          40.798169592926314,
          40.92027522438388,
          40.97106371568516,
          41.11131550274694,
          41.313634506233754,
          41.40974637915477,
          41.48242435132894,
          41.51874155580598,
          41.76280864520704,
          41.7866854386914,
          41.85922753510769,
          41.88171964052508,
          41.88891379515617,
          41.96177742962546,
          42.00052380223197,
          42.04251874639335,
          42.1086518633596,
          42.11440739450837,
          42.13106514009303,
          42.24005409342709,
          42.28180736543895,
          42.28864471655315,
          42.39238741352561,
          42.40998488000067,
          42.4765754107778,
          42.5643189965645,
          42.61013920633711,
          42.79143688169414,
          42.837324510735925,
          42.85221690868764,
          42.91206240088836,
          42.916620980704344,
          43.05486263632508,
          43.185462058479594,
          43.25582910555024,
          43.27993408733028,
          43.28011560074731,
          43.317771855632174,
          43.32026844303083,
          43.519485122915924,
          43.56017524491382,
          43.59936139859928,
          43.841897551980225,
          43.843553991562956,
          44.0004033654769,
          44.0695796845319,
          44.2808239620384,
          44.28421774432688,
          44.32292885146951,
          44.32330639937692,
          44.32486326588517,
          44.33552173373249,
          44.34640527821691,
          44.636019788655275,
          44.74441960129867,
          44.804099138375264,
          44.82268611227795,
          44.998329903999746,
          45.2865618008102,
          45.31879962089219,
          45.857471283870325,
          45.90006677813715,
          46.06494319396141,
          46.16328093998483,
          46.279164291507016,
          46.30280978503712,
          46.39440352970366,
          46.55075088936711,
          46.63985115829358,
          46.67732797420049,
          46.684627925223204,
          46.82482162799154,
          46.94303872344682,
          47.10234319597838,
          47.127994672071424,
          47.14273148709426,
          47.46267222202853,
          47.54331500294147,
          47.59395828350913,
          47.700782559692804,
          47.75654036974228,
          47.76463690536083,
          47.82697794774069,
          47.82829210487989,
          47.92400464828347,
          47.95763026809101,
          48.10028218113553,
          48.22186401673257,
          48.44529043756981,
          48.45408087305113,
          48.560425953813876,
          48.78742144703946,
          49.02692165886834,
          49.0933566067166,
          49.14156345861811,
          49.19820705414264,
          49.19901919703136,
          49.36785675422472,
          49.40407853450539,
          49.4452551124609,
          49.44824645357336,
          49.468359177398526,
          49.50161450983535,
          49.90854684640011,
          49.9491083531768,
          49.97895953112988,
          50.110808802813,
          50.23140942873861,
          50.546911901321906,
          50.81120580869596,
          50.893333887969874,
          51.17148919708698,
          51.21556791527573,
          51.44599453069273,
          51.5050019495166,
          51.65524630949013,
          51.725614393780305,
          52.712045428298495,
          53.08125097905061,
          53.581346373424466,
          53.72381573583245,
          53.89652834517429,
          54.579400489949,
          56.017759481281516,
          56.5905753738301,
          57.18722760830154,
          57.82193853883388,
          58.944135385964685,
          60.10492820887076,
          61.152284481116055,
          62.72491880060259,
          65.36545774836043
         ],
         "yaxis": "y"
        },
        {
         "hoverlabel": {
          "namelength": 0
         },
         "hovertemplate": "<b>%{hovertext}</b><br><br>group2_=1.0<br>교통사고발생건수=%{x}<br>음주교통사고발생건수=%{y}",
         "hovertext": [
          "2015_경기도_여주시",
          "2015_경기도_포천시",
          "2015_경상남도_밀양시",
          "2015_경상남도_사천시",
          "2015_경상남도_의령군",
          "2015_경상북도_경주시",
          "2015_경상북도_고령군",
          "2015_경상북도_군위군",
          "2015_경상북도_김천시",
          "2015_경상북도_영천시",
          "2015_경상북도_청도군",
          "2015_경상북도_칠곡군",
          "2015_광주광역시_광산구",
          "2015_대구광역시_달성군",
          "2015_대구광역시_북구",
          "2015_대구광역시_서구",
          "2015_대구광역시_중구",
          "2015_대전광역시_대덕구",
          "2015_부산광역시_강서구",
          "2015_부산광역시_기장군",
          "2015_부산광역시_영도구",
          "2015_서울특별시_종로구",
          "2015_서울특별시_중구",
          "2015_울산광역시_북구",
          "2015_울산광역시_울주군",
          "2015_인천광역시_동구",
          "2015_전라남도_나주시",
          "2015_전라남도_영암군",
          "2015_전라남도_함평군",
          "2015_전라남도_해남군",
          "2015_전라북도_김제시",
          "2015_전라북도_익산시",
          "2015_전라북도_임실군",
          "2015_전라북도_정읍시",
          "2015_전라북도_진안군",
          "2015_충청남도_논산시",
          "2015_충청남도_서천군",
          "2015_충청남도_아산시",
          "2015_충청남도_청양군",
          "2015_충청북도_괴산군"
         ],
         "legendgroup": "group2_=1.0",
         "marker": {
          "color": "darkorange",
          "symbol": "circle"
         },
         "mode": "markers",
         "name": "group2_=1.0",
         "showlegend": true,
         "textposition": "top center",
         "type": "scatter",
         "x": [
          225.84386,
          277.08956,
          168.14365,
          173.58458000000005,
          120.5108,
          281.91255,
          203.23695,
          160.11585,
          170.46126,
          219.58705,
          178.21017,
          263.07165,
          239.25131,
          190.58745,
          257.32771,
          264.45889,
          644.82566,
          269.10368,
          585.03624,
          182.1096,
          108.24969,
          359.82496000000015,
          518.40862,
          230.00747,
          210.36233,
          186.00124,
          211.53867,
          227.18004,
          129.38159,
          130.9414,
          206.86288,
          209.45886,
          147.5005,
          213.85355,
          118.22921,
          225.10899,
          185.74671,
          234.59453,
          164.35128,
          176.78808999999995
         ],
         "xaxis": "x",
         "y": [
          50.4593,
          57.38199,
          46.58284,
          64.72936,
          52.03876,
          81.1746,
          57.37448000000001,
          46.75217,
          45.6975,
          63.76069,
          52.50835,
          57.34978,
          52.35589,
          50.24283,
          53.60338,
          63.62386,
          155.81384,
          33.38989,
          74.35410999999998,
          33.78285,
          25.35919,
          83.698,
          101.90138,
          43.39464,
          47.2499,
          21.62805,
          71.57904,
          99.74173,
          53.00655,
          45.85547,
          54.37919,
          56.39277,
          38.37683,
          59.30894,
          43.43885,
          47.20156,
          58.39239,
          24.22148,
          59.84867,
          39.63391
         ],
         "yaxis": "y"
        },
        {
         "hoverlabel": {
          "namelength": 0
         },
         "hovertemplate": "<b>OLS trendline</b><br>음주교통사고발생건수 = 0.153326 * 교통사고발생건수 + 21.160704<br>R<sup>2</sup>=0.547768<br><br>group2_=1.0<br>교통사고발생건수=%{x}<br>음주교통사고발생건수=%{y} <b>(trend)</b>",
         "legendgroup": "group2_=1.0",
         "marker": {
          "color": "darkorange",
          "symbol": "circle"
         },
         "mode": "lines",
         "name": "group2_=1.0",
         "showlegend": false,
         "textposition": "top center",
         "type": "scatter",
         "x": [
          108.24969,
          118.22921,
          120.5108,
          129.38159,
          130.9414,
          147.5005,
          160.11585,
          164.35128,
          168.14365,
          170.46126,
          173.58458000000005,
          176.78808999999995,
          178.21017,
          182.1096,
          185.74671,
          186.00124,
          190.58745,
          203.23695,
          206.86288,
          209.45886,
          210.36233,
          211.53867,
          213.85355,
          219.58705,
          225.10899,
          225.84386,
          227.18004,
          230.00747,
          234.59453,
          239.25131,
          257.32771,
          263.07165,
          264.45889,
          269.10368,
          277.08956,
          281.91255,
          359.82496000000015,
          518.40862,
          585.03624,
          644.82566
         ],
         "xaxis": "x",
         "y": [
          37.75819317837156,
          39.28831280794701,
          39.63813981822837,
          40.99826234003718,
          41.237421728405366,
          43.77636187363306,
          45.71062270671567,
          46.360024139118494,
          46.94149296523569,
          47.29684277712046,
          47.77572885996268,
          48.26691015270433,
          48.48495195459728,
          49.08283585955016,
          49.64049929485818,
          49.67952535516126,
          50.38271047291795,
          52.32220738803156,
          52.87815663894407,
          53.276187802365286,
          53.414713220595075,
          53.595076697501256,
          53.950007929475504,
          54.82910240457758,
          55.675759236503154,
          55.788433895423225,
          55.993304996102026,
          56.426823456333636,
          57.13013890116868,
          57.8441442329496,
          60.61572587936722,
          61.496421077643646,
          61.709121002583146,
          62.42128795592916,
          63.645730789595916,
          64.38522043160735,
          76.33121662466374,
          100.64621084241344,
          110.861955611089,
          120.0292267005733
         ],
         "yaxis": "y"
        },
        {
         "line": {
          "color": "rgb(0,0,0)",
          "width": 0.5
         },
         "mode": "lines",
         "name": "median x: 187.27",
         "type": "scatter",
         "visible": true,
         "x": [
          187.26605,
          187.26605
         ],
         "y": [
          -10000,
          10000
         ]
        },
        {
         "line": {
          "color": "rgb(0,0,0)",
          "width": 0.5
         },
         "mode": "lines",
         "name": "median y: 45.42",
         "type": "scatter",
         "visible": true,
         "x": [
          -10000,
          10000
         ],
         "y": [
          45.42111,
          45.42111
         ]
        },
        {
         "line": {
          "color": "rgb(0,0,0)",
          "dash": "7px",
          "width": 0.5
         },
         "marker": {
          "color": "black"
         },
         "mode": "lines",
         "name": "trend all",
         "type": "scatter",
         "x": [
          228.30585,
          173.44478,
          191.51456,
          169.12354,
          217.14868,
          112.19022,
          210.74816,
          144.31091999999995,
          276.32817,
          184.14165,
          168.42105,
          121.03383,
          246.41848,
          145.05366999999995,
          322.0339,
          191.90643,
          118.26254,
          222.15855,
          344.04457,
          188.77826,
          225.06984,
          145.34083,
          226.93052000000003,
          241.30179,
          134.08088999999998,
          216.00893,
          162.87469,
          174.08678999999995,
          174.93274,
          201.17832,
          191.88778,
          290.7720700000001,
          246.13068,
          281.14967,
          182.22097,
          218.93187000000003,
          206.68255,
          225.84386,
          160.9241,
          214.6573,
          179.66215,
          192.00919,
          181.8321,
          241.4957,
          177.70841,
          240.52674,
          277.08956,
          247.68966,
          251.8942,
          198.39943,
          118.63091,
          154.87517,
          229.47804,
          117.28633,
          168.14365,
          173.58458000000005,
          106.00017,
          182.1969,
          120.5108,
          178.28538999999995,
          154.6408,
          207.09322,
          170.75567,
          129.6142,
          262.57983,
          117.534,
          97.70696,
          245.73962000000003,
          281.91255,
          203.23695,
          255.23411,
          160.11585,
          170.46126,
          156.63079,
          109.63172,
          177.56483,
          156.51053000000005,
          225.67088,
          191.48184,
          91.77337,
          168.35169,
          219.58705,
          125.70947,
          42.86828,
          121.48779,
          119.17699,
          178.21017,
          134.20028,
          263.07165,
          219.07395,
          239.25131,
          214.2256,
          310.16213,
          254.4423,
          332.85318,
          231.63213,
          237.23973,
          190.58745,
          234.93067,
          257.32771,
          264.45889,
          214.58692,
          644.82566,
          269.10368,
          213.36657,
          237.88024,
          224.45421,
          238.89112000000003,
          585.03624,
          159.57191,
          182.1096,
          169.90198,
          258.34082,
          187.26605,
          134.21331999999998,
          241.81632,
          157.90501,
          159.08225,
          225.68355,
          175.3745,
          108.24969,
          394.76218,
          164.85216,
          369.30432,
          147.02149,
          132.19908999999998,
          164.50202,
          138.29294,
          194.90634,
          172.27492,
          210.97613,
          133.96229,
          116.84747,
          184.91175,
          172.209,
          263.25826,
          163.80132,
          354.1423,
          240.87596,
          144.82351,
          177.12242,
          173.27512,
          284.18839,
          304.63952,
          115.79403,
          359.82496000000015,
          518.40862,
          136.66447,
          282.52324,
          196.52682,
          230.00747,
          210.36233,
          187.25008,
          170.59507,
          181.5997,
          218.68456,
          260.5624,
          186.00124,
          181.83385,
          209.63091,
          168.13484,
          78.73255,
          315.91455,
          140.23731999999998,
          94.48457,
          139.26851000000002,
          169.4971,
          141.33235,
          211.53867,
          196.70602,
          257.91585,
          167.20525,
          132.73179,
          191.89142,
          63.09004,
          180.92128,
          128.09458999999998,
          227.18004,
          89.32937,
          171.80645,
          121.55592,
          111.464,
          129.38159,
          130.9414,
          167.43545,
          148.77683000000005,
          231.71688,
          206.86288,
          156.58022,
          170.53958,
          178.32934,
          119.20443,
          226.60633,
          209.45886,
          147.5005,
          112.70624,
          248.85239,
          213.85355,
          118.22921,
          121.32571000000002,
          261.1313,
          184.53395,
          225.10899,
          211.8592,
          208.68282,
          134.90537,
          241.27295,
          185.74671,
          234.59453,
          195.95144,
          272.7686,
          164.35128,
          222.93604,
          201.48913,
          176.78808999999995,
          157.36073000000005,
          141.6472,
          134.0472,
          189.4452,
          238.34501,
          224.99178,
          192.11412,
          238.89895,
          232.74217,
          223.4243
         ],
         "y": [
          50.46764321480151,
          43.1231486987717,
          45.542230209866275,
          42.54464515368137,
          48.97398343238363,
          34.92272934855089,
          48.11711746094452,
          39.222869776016815,
          56.89660396760908,
          44.55518608072003,
          42.45059970483093,
          36.10666260298625,
          52.89246124525329,
          39.32230500944885,
          63.01543255290899,
          45.59469158304031,
          35.73565773182117,
          49.64467692671435,
          65.96209846936198,
          45.175909605032786,
          50.034424218183005,
          39.36074839098012,
          50.28352169397206,
          52.207467284230944,
          37.85333033331509,
          48.82140004994787,
          41.70808391715258,
          43.209097422051,
          43.32234849673539,
          46.83596057867294,
          45.59219482490701,
          58.83027285777261,
          52.85393218408636,
          57.54207953542134,
          44.29805613908658,
          49.212706978534655,
          47.57283623658422,
          50.13804570506427,
          41.44694979129571,
          48.64045135312695,
          43.95549556822081,
          45.60844851954313,
          44.24599638920478,
          52.2334268750957,
          43.69393973790711,
          52.103707906686,
          56.99853462043011,
          53.062639744121185,
          53.62552014314417,
          46.463938261834244,
          35.78497305587282,
          40.63715273096042,
          50.62456948377047,
          35.60496817378861,
          42.41346293774369,
          43.141864344189145,
          34.09403992854959,
          44.29483378153868,
          36.03664225947638,
          43.77118260695539,
          40.605776580627925,
          47.62781444905616,
          42.763145628324835,
          37.255354752273654,
          55.056052776490986,
          35.638124854049956,
          32.983791160793444,
          52.801579249201225,
          57.64420966114416,
          47.11155849802695,
          54.07264869311655,
          41.338745782650214,
          42.7237316571707,
          40.87218535905595,
          34.58021161750294,
          43.67471804714148,
          40.85608562001518,
          50.1148881060349,
          45.53784983849247,
          32.1894351772997,
          42.44131417431481,
          49.30041882806679,
          36.732611246330784,
          25.642294093267903,
          36.16743623956492,
          35.858079205011244,
          43.76111257227514,
          37.86931360160112,
          55.12189489901746,
          49.231727857654164,
          51.93296044148745,
          48.582657761376545,
          61.42610610228439,
          53.96664558011241,
          64.46385750392417,
          50.9129470562829,
          51.66366131409977,
          45.41811388638304,
          51.35453722105558,
          54.35292820131353,
          55.30761086431703,
          48.63102927069147,
          106.22899567042765,
          55.929429481473235,
          48.46765560913808,
          51.749409225732954,
          49.952007102386624,
          51.884740210279276,
          98.22472110366104,
          41.26592612479357,
          44.283146543735086,
          42.648858365546516,
          54.488557725840394,
          44.97346335212366,
          37.87105932417797,
          52.27634969507952,
          41.0427708361933,
          41.20037317103749,
          50.11658429507237,
          43.38148886525903,
          34.39519313798753,
          72.75188963659839,
          41.97281658770774,
          69.34373312124325,
          39.58574579174737,
          37.60140542954882,
          41.925941794528484,
          38.41721612931293,
          45.996302826561134,
          42.966534357226365,
          48.14763681492029,
          37.837452825829345,
          35.546216041114114,
          44.6582827798328,
          42.957709354752,
          55.14687720653782,
          41.83213598090906,
          67.31392632487682,
          52.150459535388975,
          39.29149247046976,
          43.61549066023785,
          43.100435562852375,
          57.94888644559917,
          60.68676983233611,
          35.40518736079551,
          68.07468919746503,
          89.3049864046091,
          38.19920563508599,
          57.72596543725268,
          46.21324366408646,
          50.69544662363708,
          48.06546468933215,
          44.971325377464744,
          42.741645394748005,
          44.21488397150084,
          49.17959849306837,
          54.78597048368346,
          44.80413763337957,
          44.24623066945857,
          47.9675462532004,
          42.41228350400887,
          30.443602823418672,
          62.19620805516101,
          38.677518894954915,
          32.55239553392162,
          38.54782000770983,
          42.594655286028555,
          38.82411541284799,
          48.22294653718869,
          46.23723396207505,
          54.431665109008875,
          42.2878351719374,
          37.67272033880394,
          45.592682127834905,
          28.34947070182605,
          44.12406088019829,
          37.05191782857705,
          50.316926041930266,
          31.862246068571473,
          42.90381820265766,
          36.17655710453123,
          34.82550705945898,
          37.22421422093925,
          37.4330328967516,
          42.31865306589372,
          39.82074093500229,
          50.92429291428811,
          47.59697781267954,
          40.86541532909343,
          42.73421670258625,
          43.77706638818641,
          35.86175271939074,
          50.2401209422705,
          47.94451315739161,
          39.64987298281608,
          34.991811232301266,
          53.21829956097535,
          48.532849779419784,
          35.73119569704461,
          36.145737871830605,
          54.86213164733137,
          44.60770501989928,
          50.03966540214647,
          48.265857308473734,
          47.840621244160246,
          37.9637071239715,
          52.203606345648396,
          44.77006257452335,
          51.30953666990668,
          46.13621499412736,
          56.42006856018038,
          41.905761562838755,
          49.748762957870284,
          46.8775700904912,
          43.570732421808586,
          40.96990566103021,
          38.866265777366436,
          37.84882010374347,
          45.265195817870435,
          51.81163004490792,
          50.02397398011945,
          45.62249596356067,
          51.88578844707196,
          51.061553029381386,
          49.81412848742333
         ]
        }
       ],
       "layout": {
        "height": 600,
        "legend": {
         "tracegroupgap": 0
        },
        "margin": {
         "t": 60
        },
        "template": {
         "data": {
          "bar": [
           {
            "error_x": {
             "color": "#2a3f5f"
            },
            "error_y": {
             "color": "#2a3f5f"
            },
            "marker": {
             "line": {
              "color": "#E5ECF6",
              "width": 0.5
             }
            },
            "type": "bar"
           }
          ],
          "barpolar": [
           {
            "marker": {
             "line": {
              "color": "#E5ECF6",
              "width": 0.5
             }
            },
            "type": "barpolar"
           }
          ],
          "carpet": [
           {
            "aaxis": {
             "endlinecolor": "#2a3f5f",
             "gridcolor": "white",
             "linecolor": "white",
             "minorgridcolor": "white",
             "startlinecolor": "#2a3f5f"
            },
            "baxis": {
             "endlinecolor": "#2a3f5f",
             "gridcolor": "white",
             "linecolor": "white",
             "minorgridcolor": "white",
             "startlinecolor": "#2a3f5f"
            },
            "type": "carpet"
           }
          ],
          "choropleth": [
           {
            "colorbar": {
             "outlinewidth": 0,
             "ticks": ""
            },
            "type": "choropleth"
           }
          ],
          "contour": [
           {
            "colorbar": {
             "outlinewidth": 0,
             "ticks": ""
            },
            "colorscale": [
             [
              0,
              "#0d0887"
             ],
             [
              0.1111111111111111,
              "#46039f"
             ],
             [
              0.2222222222222222,
              "#7201a8"
             ],
             [
              0.3333333333333333,
              "#9c179e"
             ],
             [
              0.4444444444444444,
              "#bd3786"
             ],
             [
              0.5555555555555556,
              "#d8576b"
             ],
             [
              0.6666666666666666,
              "#ed7953"
             ],
             [
              0.7777777777777778,
              "#fb9f3a"
             ],
             [
              0.8888888888888888,
              "#fdca26"
             ],
             [
              1,
              "#f0f921"
             ]
            ],
            "type": "contour"
           }
          ],
          "contourcarpet": [
           {
            "colorbar": {
             "outlinewidth": 0,
             "ticks": ""
            },
            "type": "contourcarpet"
           }
          ],
          "heatmap": [
           {
            "colorbar": {
             "outlinewidth": 0,
             "ticks": ""
            },
            "colorscale": [
             [
              0,
              "#0d0887"
             ],
             [
              0.1111111111111111,
              "#46039f"
             ],
             [
              0.2222222222222222,
              "#7201a8"
             ],
             [
              0.3333333333333333,
              "#9c179e"
             ],
             [
              0.4444444444444444,
              "#bd3786"
             ],
             [
              0.5555555555555556,
              "#d8576b"
             ],
             [
              0.6666666666666666,
              "#ed7953"
             ],
             [
              0.7777777777777778,
              "#fb9f3a"
             ],
             [
              0.8888888888888888,
              "#fdca26"
             ],
             [
              1,
              "#f0f921"
             ]
            ],
            "type": "heatmap"
           }
          ],
          "heatmapgl": [
           {
            "colorbar": {
             "outlinewidth": 0,
             "ticks": ""
            },
            "colorscale": [
             [
              0,
              "#0d0887"
             ],
             [
              0.1111111111111111,
              "#46039f"
             ],
             [
              0.2222222222222222,
              "#7201a8"
             ],
             [
              0.3333333333333333,
              "#9c179e"
             ],
             [
              0.4444444444444444,
              "#bd3786"
             ],
             [
              0.5555555555555556,
              "#d8576b"
             ],
             [
              0.6666666666666666,
              "#ed7953"
             ],
             [
              0.7777777777777778,
              "#fb9f3a"
             ],
             [
              0.8888888888888888,
              "#fdca26"
             ],
             [
              1,
              "#f0f921"
             ]
            ],
            "type": "heatmapgl"
           }
          ],
          "histogram": [
           {
            "marker": {
             "colorbar": {
              "outlinewidth": 0,
              "ticks": ""
             }
            },
            "type": "histogram"
           }
          ],
          "histogram2d": [
           {
            "colorbar": {
             "outlinewidth": 0,
             "ticks": ""
            },
            "colorscale": [
             [
              0,
              "#0d0887"
             ],
             [
              0.1111111111111111,
              "#46039f"
             ],
             [
              0.2222222222222222,
              "#7201a8"
             ],
             [
              0.3333333333333333,
              "#9c179e"
             ],
             [
              0.4444444444444444,
              "#bd3786"
             ],
             [
              0.5555555555555556,
              "#d8576b"
             ],
             [
              0.6666666666666666,
              "#ed7953"
             ],
             [
              0.7777777777777778,
              "#fb9f3a"
             ],
             [
              0.8888888888888888,
              "#fdca26"
             ],
             [
              1,
              "#f0f921"
             ]
            ],
            "type": "histogram2d"
           }
          ],
          "histogram2dcontour": [
           {
            "colorbar": {
             "outlinewidth": 0,
             "ticks": ""
            },
            "colorscale": [
             [
              0,
              "#0d0887"
             ],
             [
              0.1111111111111111,
              "#46039f"
             ],
             [
              0.2222222222222222,
              "#7201a8"
             ],
             [
              0.3333333333333333,
              "#9c179e"
             ],
             [
              0.4444444444444444,
              "#bd3786"
             ],
             [
              0.5555555555555556,
              "#d8576b"
             ],
             [
              0.6666666666666666,
              "#ed7953"
             ],
             [
              0.7777777777777778,
              "#fb9f3a"
             ],
             [
              0.8888888888888888,
              "#fdca26"
             ],
             [
              1,
              "#f0f921"
             ]
            ],
            "type": "histogram2dcontour"
           }
          ],
          "mesh3d": [
           {
            "colorbar": {
             "outlinewidth": 0,
             "ticks": ""
            },
            "type": "mesh3d"
           }
          ],
          "parcoords": [
           {
            "line": {
             "colorbar": {
              "outlinewidth": 0,
              "ticks": ""
             }
            },
            "type": "parcoords"
           }
          ],
          "pie": [
           {
            "automargin": true,
            "type": "pie"
           }
          ],
          "scatter": [
           {
            "marker": {
             "colorbar": {
              "outlinewidth": 0,
              "ticks": ""
             }
            },
            "type": "scatter"
           }
          ],
          "scatter3d": [
           {
            "line": {
             "colorbar": {
              "outlinewidth": 0,
              "ticks": ""
             }
            },
            "marker": {
             "colorbar": {
              "outlinewidth": 0,
              "ticks": ""
             }
            },
            "type": "scatter3d"
           }
          ],
          "scattercarpet": [
           {
            "marker": {
             "colorbar": {
              "outlinewidth": 0,
              "ticks": ""
             }
            },
            "type": "scattercarpet"
           }
          ],
          "scattergeo": [
           {
            "marker": {
             "colorbar": {
              "outlinewidth": 0,
              "ticks": ""
             }
            },
            "type": "scattergeo"
           }
          ],
          "scattergl": [
           {
            "marker": {
             "colorbar": {
              "outlinewidth": 0,
              "ticks": ""
             }
            },
            "type": "scattergl"
           }
          ],
          "scattermapbox": [
           {
            "marker": {
             "colorbar": {
              "outlinewidth": 0,
              "ticks": ""
             }
            },
            "type": "scattermapbox"
           }
          ],
          "scatterpolar": [
           {
            "marker": {
             "colorbar": {
              "outlinewidth": 0,
              "ticks": ""
             }
            },
            "type": "scatterpolar"
           }
          ],
          "scatterpolargl": [
           {
            "marker": {
             "colorbar": {
              "outlinewidth": 0,
              "ticks": ""
             }
            },
            "type": "scatterpolargl"
           }
          ],
          "scatterternary": [
           {
            "marker": {
             "colorbar": {
              "outlinewidth": 0,
              "ticks": ""
             }
            },
            "type": "scatterternary"
           }
          ],
          "surface": [
           {
            "colorbar": {
             "outlinewidth": 0,
             "ticks": ""
            },
            "colorscale": [
             [
              0,
              "#0d0887"
             ],
             [
              0.1111111111111111,
              "#46039f"
             ],
             [
              0.2222222222222222,
              "#7201a8"
             ],
             [
              0.3333333333333333,
              "#9c179e"
             ],
             [
              0.4444444444444444,
              "#bd3786"
             ],
             [
              0.5555555555555556,
              "#d8576b"
             ],
             [
              0.6666666666666666,
              "#ed7953"
             ],
             [
              0.7777777777777778,
              "#fb9f3a"
             ],
             [
              0.8888888888888888,
              "#fdca26"
             ],
             [
              1,
              "#f0f921"
             ]
            ],
            "type": "surface"
           }
          ],
          "table": [
           {
            "cells": {
             "fill": {
              "color": "#EBF0F8"
             },
             "line": {
              "color": "white"
             }
            },
            "header": {
             "fill": {
              "color": "#C8D4E3"
             },
             "line": {
              "color": "white"
             }
            },
            "type": "table"
           }
          ]
         },
         "layout": {
          "annotationdefaults": {
           "arrowcolor": "#2a3f5f",
           "arrowhead": 0,
           "arrowwidth": 1
          },
          "coloraxis": {
           "colorbar": {
            "outlinewidth": 0,
            "ticks": ""
           }
          },
          "colorscale": {
           "diverging": [
            [
             0,
             "#8e0152"
            ],
            [
             0.1,
             "#c51b7d"
            ],
            [
             0.2,
             "#de77ae"
            ],
            [
             0.3,
             "#f1b6da"
            ],
            [
             0.4,
             "#fde0ef"
            ],
            [
             0.5,
             "#f7f7f7"
            ],
            [
             0.6,
             "#e6f5d0"
            ],
            [
             0.7,
             "#b8e186"
            ],
            [
             0.8,
             "#7fbc41"
            ],
            [
             0.9,
             "#4d9221"
            ],
            [
             1,
             "#276419"
            ]
           ],
           "sequential": [
            [
             0,
             "#0d0887"
            ],
            [
             0.1111111111111111,
             "#46039f"
            ],
            [
             0.2222222222222222,
             "#7201a8"
            ],
            [
             0.3333333333333333,
             "#9c179e"
            ],
            [
             0.4444444444444444,
             "#bd3786"
            ],
            [
             0.5555555555555556,
             "#d8576b"
            ],
            [
             0.6666666666666666,
             "#ed7953"
            ],
            [
             0.7777777777777778,
             "#fb9f3a"
            ],
            [
             0.8888888888888888,
             "#fdca26"
            ],
            [
             1,
             "#f0f921"
            ]
           ],
           "sequentialminus": [
            [
             0,
             "#0d0887"
            ],
            [
             0.1111111111111111,
             "#46039f"
            ],
            [
             0.2222222222222222,
             "#7201a8"
            ],
            [
             0.3333333333333333,
             "#9c179e"
            ],
            [
             0.4444444444444444,
             "#bd3786"
            ],
            [
             0.5555555555555556,
             "#d8576b"
            ],
            [
             0.6666666666666666,
             "#ed7953"
            ],
            [
             0.7777777777777778,
             "#fb9f3a"
            ],
            [
             0.8888888888888888,
             "#fdca26"
            ],
            [
             1,
             "#f0f921"
            ]
           ]
          },
          "colorway": [
           "#636efa",
           "#EF553B",
           "#00cc96",
           "#ab63fa",
           "#FFA15A",
           "#19d3f3",
           "#FF6692",
           "#B6E880",
           "#FF97FF",
           "#FECB52"
          ],
          "font": {
           "color": "#2a3f5f"
          },
          "geo": {
           "bgcolor": "white",
           "lakecolor": "white",
           "landcolor": "#E5ECF6",
           "showlakes": true,
           "showland": true,
           "subunitcolor": "white"
          },
          "hoverlabel": {
           "align": "left"
          },
          "hovermode": "closest",
          "mapbox": {
           "style": "light"
          },
          "paper_bgcolor": "white",
          "plot_bgcolor": "#E5ECF6",
          "polar": {
           "angularaxis": {
            "gridcolor": "white",
            "linecolor": "white",
            "ticks": ""
           },
           "bgcolor": "#E5ECF6",
           "radialaxis": {
            "gridcolor": "white",
            "linecolor": "white",
            "ticks": ""
           }
          },
          "scene": {
           "xaxis": {
            "backgroundcolor": "#E5ECF6",
            "gridcolor": "white",
            "gridwidth": 2,
            "linecolor": "white",
            "showbackground": true,
            "ticks": "",
            "zerolinecolor": "white"
           },
           "yaxis": {
            "backgroundcolor": "#E5ECF6",
            "gridcolor": "white",
            "gridwidth": 2,
            "linecolor": "white",
            "showbackground": true,
            "ticks": "",
            "zerolinecolor": "white"
           },
           "zaxis": {
            "backgroundcolor": "#E5ECF6",
            "gridcolor": "white",
            "gridwidth": 2,
            "linecolor": "white",
            "showbackground": true,
            "ticks": "",
            "zerolinecolor": "white"
           }
          },
          "shapedefaults": {
           "line": {
            "color": "#2a3f5f"
           }
          },
          "ternary": {
           "aaxis": {
            "gridcolor": "white",
            "linecolor": "white",
            "ticks": ""
           },
           "baxis": {
            "gridcolor": "white",
            "linecolor": "white",
            "ticks": ""
           },
           "bgcolor": "#E5ECF6",
           "caxis": {
            "gridcolor": "white",
            "linecolor": "white",
            "ticks": ""
           }
          },
          "title": {
           "x": 0.05
          },
          "xaxis": {
           "automargin": true,
           "gridcolor": "white",
           "linecolor": "white",
           "ticks": "",
           "title": {
            "standoff": 15
           },
           "zerolinecolor": "white",
           "zerolinewidth": 2
          },
          "yaxis": {
           "automargin": true,
           "gridcolor": "white",
           "linecolor": "white",
           "ticks": "",
           "title": {
            "standoff": 15
           },
           "zerolinecolor": "white",
           "zerolinewidth": 2
          }
         }
        },
        "xaxis": {
         "anchor": "y",
         "domain": [
          0,
          1
         ],
         "range": [
          34.294624,
          677.066943
         ],
         "title": {
          "text": "교통사고발생건수"
         }
        },
        "yaxis": {
         "anchor": "x",
         "domain": [
          0,
          1
         ],
         "range": [
          5.07173,
          163.604532
         ],
         "title": {
          "text": "음주교통사고발생건수"
         }
        }
       }
      },
      "text/html": [
       "<div>\n",
       "        \n",
       "        \n",
       "            <div id=\"15a53891-b441-4e16-996c-299ed6bdfa54\" class=\"plotly-graph-div\" style=\"height:600px; width:100%;\"></div>\n",
       "            <script type=\"text/javascript\">\n",
       "                require([\"plotly\"], function(Plotly) {\n",
       "                    window.PLOTLYENV=window.PLOTLYENV || {};\n",
       "                    \n",
       "                if (document.getElementById(\"15a53891-b441-4e16-996c-299ed6bdfa54\")) {\n",
       "                    Plotly.newPlot(\n",
       "                        '15a53891-b441-4e16-996c-299ed6bdfa54',\n",
       "                        [{\"hoverlabel\": {\"namelength\": 0}, \"hovertemplate\": \"<b>%{hovertext}</b><br><br>group2_=0.0<br>\\uad50\\ud1b5\\uc0ac\\uace0\\ubc1c\\uc0dd\\uac74\\uc218=%{x}<br>\\uc74c\\uc8fc\\uad50\\ud1b5\\uc0ac\\uace0\\ubc1c\\uc0dd\\uac74\\uc218=%{y}\", \"hovertext\": [\"2015_\\uac15\\uc6d0\\ub3c4_\\uac15\\ub989\\uc2dc\", \"2015_\\uac15\\uc6d0\\ub3c4_\\uace0\\uc131\\uad70\", \"2015_\\uac15\\uc6d0\\ub3c4_\\ub3d9\\ud574\\uc2dc\", \"2015_\\uac15\\uc6d0\\ub3c4_\\uc0bc\\ucc99\\uc2dc\", \"2015_\\uac15\\uc6d0\\ub3c4_\\uc18d\\ucd08\\uc2dc\", \"2015_\\uac15\\uc6d0\\ub3c4_\\uc591\\uad6c\\uad70\", \"2015_\\uac15\\uc6d0\\ub3c4_\\uc591\\uc591\\uad70\", \"2015_\\uac15\\uc6d0\\ub3c4_\\uc601\\uc6d4\\uad70\", \"2015_\\uac15\\uc6d0\\ub3c4_\\uc6d0\\uc8fc\\uc2dc\", \"2015_\\uac15\\uc6d0\\ub3c4_\\uc778\\uc81c\\uad70\", \"2015_\\uac15\\uc6d0\\ub3c4_\\uc815\\uc120\\uad70\", \"2015_\\uac15\\uc6d0\\ub3c4_\\ucca0\\uc6d0\\uad70\", \"2015_\\uac15\\uc6d0\\ub3c4_\\ucd98\\ucc9c\\uc2dc\", \"2015_\\uac15\\uc6d0\\ub3c4_\\ud0dc\\ubc31\\uc2dc\", \"2015_\\uac15\\uc6d0\\ub3c4_\\ud3c9\\ucc3d\\uad70\", \"2015_\\uac15\\uc6d0\\ub3c4_\\ud64d\\ucc9c\\uad70\", \"2015_\\uac15\\uc6d0\\ub3c4_\\ud654\\ucc9c\\uad70\", \"2015_\\uac15\\uc6d0\\ub3c4_\\ud6a1\\uc131\\uad70\", \"2015_\\uacbd\\uae30\\ub3c4_\\uac00\\ud3c9\\uad70\", \"2015_\\uacbd\\uae30\\ub3c4_\\uace0\\uc591\\uc2dc\", \"2015_\\uacbd\\uae30\\ub3c4_\\uacfc\\ucc9c\\uc2dc\", \"2015_\\uacbd\\uae30\\ub3c4_\\uad11\\uba85\\uc2dc\", \"2015_\\uacbd\\uae30\\ub3c4_\\uad11\\uc8fc\\uc2dc\", \"2015_\\uacbd\\uae30\\ub3c4_\\uad6c\\ub9ac\\uc2dc\", \"2015_\\uacbd\\uae30\\ub3c4_\\uad70\\ud3ec\\uc2dc\", \"2015_\\uacbd\\uae30\\ub3c4_\\uae40\\ud3ec\\uc2dc\", \"2015_\\uacbd\\uae30\\ub3c4_\\ub0a8\\uc591\\uc8fc\\uc2dc\", \"2015_\\uacbd\\uae30\\ub3c4_\\ub3d9\\ub450\\ucc9c\\uc2dc\", \"2015_\\uacbd\\uae30\\ub3c4_\\ubd80\\ucc9c\\uc2dc\", \"2015_\\uacbd\\uae30\\ub3c4_\\uc131\\ub0a8\\uc2dc\", \"2015_\\uacbd\\uae30\\ub3c4_\\uc218\\uc6d0\\uc2dc\", \"2015_\\uacbd\\uae30\\ub3c4_\\uc2dc\\ud765\\uc2dc\", \"2015_\\uacbd\\uae30\\ub3c4_\\uc548\\uc0b0\\uc2dc\", \"2015_\\uacbd\\uae30\\ub3c4_\\uc548\\uc131\\uc2dc\", \"2015_\\uacbd\\uae30\\ub3c4_\\uc548\\uc591\\uc2dc\", \"2015_\\uacbd\\uae30\\ub3c4_\\uc591\\uc8fc\\uc2dc\", \"2015_\\uacbd\\uae30\\ub3c4_\\uc591\\ud3c9\\uad70\", \"2015_\\uacbd\\uae30\\ub3c4_\\uc5f0\\ucc9c\\uad70\", \"2015_\\uacbd\\uae30\\ub3c4_\\uc624\\uc0b0\\uc2dc\", \"2015_\\uacbd\\uae30\\ub3c4_\\uc6a9\\uc778\\uc2dc\", \"2015_\\uacbd\\uae30\\ub3c4_\\uc758\\uc655\\uc2dc\", \"2015_\\uacbd\\uae30\\ub3c4_\\uc758\\uc815\\ubd80\\uc2dc\", \"2015_\\uacbd\\uae30\\ub3c4_\\uc774\\ucc9c\\uc2dc\", \"2015_\\uacbd\\uae30\\ub3c4_\\ud30c\\uc8fc\\uc2dc\", \"2015_\\uacbd\\uae30\\ub3c4_\\ud3c9\\ud0dd\\uc2dc\", \"2015_\\uacbd\\uae30\\ub3c4_\\ud558\\ub0a8\\uc2dc\", \"2015_\\uacbd\\uae30\\ub3c4_\\ud654\\uc131\\uc2dc\", \"2015_\\uacbd\\uc0c1\\ub0a8\\ub3c4_\\uac70\\uc81c\\uc2dc\", \"2015_\\uacbd\\uc0c1\\ub0a8\\ub3c4_\\uac70\\ucc3d\\uad70\", \"2015_\\uacbd\\uc0c1\\ub0a8\\ub3c4_\\uace0\\uc131\\uad70\", \"2015_\\uacbd\\uc0c1\\ub0a8\\ub3c4_\\uae40\\ud574\\uc2dc\", \"2015_\\uacbd\\uc0c1\\ub0a8\\ub3c4_\\ub0a8\\ud574\\uad70\", \"2015_\\uacbd\\uc0c1\\ub0a8\\ub3c4_\\uc0b0\\uccad\\uad70\", \"2015_\\uacbd\\uc0c1\\ub0a8\\ub3c4_\\uc591\\uc0b0\\uc2dc\", \"2015_\\uacbd\\uc0c1\\ub0a8\\ub3c4_\\uc9c4\\uc8fc\\uc2dc\", \"2015_\\uacbd\\uc0c1\\ub0a8\\ub3c4_\\ucc3d\\ub155\\uad70\", \"2015_\\uacbd\\uc0c1\\ub0a8\\ub3c4_\\ucc3d\\uc6d0\\uc2dc\", \"2015_\\uacbd\\uc0c1\\ub0a8\\ub3c4_\\ud1b5\\uc601\\uc2dc\", \"2015_\\uacbd\\uc0c1\\ub0a8\\ub3c4_\\ud558\\ub3d9\\uad70\", \"2015_\\uacbd\\uc0c1\\ub0a8\\ub3c4_\\ud568\\uc548\\uad70\", \"2015_\\uacbd\\uc0c1\\ub0a8\\ub3c4_\\ud568\\uc591\\uad70\", \"2015_\\uacbd\\uc0c1\\ub0a8\\ub3c4_\\ud569\\ucc9c\\uad70\", \"2015_\\uacbd\\uc0c1\\ubd81\\ub3c4_\\uacbd\\uc0b0\\uc2dc\", \"2015_\\uacbd\\uc0c1\\ubd81\\ub3c4_\\uad6c\\ubbf8\\uc2dc\", \"2015_\\uacbd\\uc0c1\\ubd81\\ub3c4_\\ubb38\\uacbd\\uc2dc\", \"2015_\\uacbd\\uc0c1\\ubd81\\ub3c4_\\ubd09\\ud654\\uad70\", \"2015_\\uacbd\\uc0c1\\ubd81\\ub3c4_\\uc0c1\\uc8fc\\uc2dc\", \"2015_\\uacbd\\uc0c1\\ubd81\\ub3c4_\\uc131\\uc8fc\\uad70\", \"2015_\\uacbd\\uc0c1\\ubd81\\ub3c4_\\uc548\\ub3d9\\uc2dc\", \"2015_\\uacbd\\uc0c1\\ubd81\\ub3c4_\\uc601\\ub355\\uad70\", \"2015_\\uacbd\\uc0c1\\ubd81\\ub3c4_\\uc601\\uc591\\uad70\", \"2015_\\uacbd\\uc0c1\\ubd81\\ub3c4_\\uc601\\uc8fc\\uc2dc\", \"2015_\\uacbd\\uc0c1\\ubd81\\ub3c4_\\uc608\\ucc9c\\uad70\", \"2015_\\uacbd\\uc0c1\\ubd81\\ub3c4_\\uc6b8\\ub989\\uad70\", \"2015_\\uacbd\\uc0c1\\ubd81\\ub3c4_\\uc6b8\\uc9c4\\uad70\", \"2015_\\uacbd\\uc0c1\\ubd81\\ub3c4_\\uc758\\uc131\\uad70\", \"2015_\\uacbd\\uc0c1\\ubd81\\ub3c4_\\uccad\\uc1a1\\uad70\", \"2015_\\uacbd\\uc0c1\\ubd81\\ub3c4_\\ud3ec\\ud56d\\uc2dc\", \"2015_\\uad11\\uc8fc\\uad11\\uc5ed\\uc2dc_\\ub0a8\\uad6c\", \"2015_\\uad11\\uc8fc\\uad11\\uc5ed\\uc2dc_\\ub3d9\\uad6c\", \"2015_\\uad11\\uc8fc\\uad11\\uc5ed\\uc2dc_\\ubd81\\uad6c\", \"2015_\\uad11\\uc8fc\\uad11\\uc5ed\\uc2dc_\\uc11c\\uad6c\", \"2015_\\ub300\\uad6c\\uad11\\uc5ed\\uc2dc_\\ub0a8\\uad6c\", \"2015_\\ub300\\uad6c\\uad11\\uc5ed\\uc2dc_\\ub2ec\\uc11c\\uad6c\", \"2015_\\ub300\\uad6c\\uad11\\uc5ed\\uc2dc_\\ub3d9\\uad6c\", \"2015_\\ub300\\uad6c\\uad11\\uc5ed\\uc2dc_\\uc218\\uc131\\uad6c\", \"2015_\\ub300\\uc804\\uad11\\uc5ed\\uc2dc_\\ub3d9\\uad6c\", \"2015_\\ub300\\uc804\\uad11\\uc5ed\\uc2dc_\\uc11c\\uad6c\", \"2015_\\ub300\\uc804\\uad11\\uc5ed\\uc2dc_\\uc720\\uc131\\uad6c\", \"2015_\\ub300\\uc804\\uad11\\uc5ed\\uc2dc_\\uc911\\uad6c\", \"2015_\\ubd80\\uc0b0\\uad11\\uc5ed\\uc2dc_\\uae08\\uc815\\uad6c\", \"2015_\\ubd80\\uc0b0\\uad11\\uc5ed\\uc2dc_\\ub0a8\\uad6c\", \"2015_\\ubd80\\uc0b0\\uad11\\uc5ed\\uc2dc_\\ub3d9\\uad6c\", \"2015_\\ubd80\\uc0b0\\uad11\\uc5ed\\uc2dc_\\ub3d9\\ub798\\uad6c\", \"2015_\\ubd80\\uc0b0\\uad11\\uc5ed\\uc2dc_\\ubd81\\uad6c\", \"2015_\\ubd80\\uc0b0\\uad11\\uc5ed\\uc2dc_\\uc0ac\\uc0c1\\uad6c\", \"2015_\\ubd80\\uc0b0\\uad11\\uc5ed\\uc2dc_\\uc0ac\\ud558\\uad6c\", \"2015_\\ubd80\\uc0b0\\uad11\\uc5ed\\uc2dc_\\uc11c\\uad6c\", \"2015_\\ubd80\\uc0b0\\uad11\\uc5ed\\uc2dc_\\uc218\\uc601\\uad6c\", \"2015_\\ubd80\\uc0b0\\uad11\\uc5ed\\uc2dc_\\uc5f0\\uc81c\\uad6c\", \"2015_\\ubd80\\uc0b0\\uad11\\uc5ed\\uc2dc_\\uc911\\uad6c\", \"2015_\\ubd80\\uc0b0\\uad11\\uc5ed\\uc2dc_\\ud574\\uc6b4\\ub300\\uad6c\", \"2015_\\uc11c\\uc6b8\\ud2b9\\ubcc4\\uc2dc_\\uac15\\ub0a8\\uad6c\", \"2015_\\uc11c\\uc6b8\\ud2b9\\ubcc4\\uc2dc_\\uac15\\ub3d9\\uad6c\", \"2015_\\uc11c\\uc6b8\\ud2b9\\ubcc4\\uc2dc_\\uac15\\ubd81\\uad6c\", \"2015_\\uc11c\\uc6b8\\ud2b9\\ubcc4\\uc2dc_\\uac15\\uc11c\\uad6c\", \"2015_\\uc11c\\uc6b8\\ud2b9\\ubcc4\\uc2dc_\\uad00\\uc545\\uad6c\", \"2015_\\uc11c\\uc6b8\\ud2b9\\ubcc4\\uc2dc_\\uad11\\uc9c4\\uad6c\", \"2015_\\uc11c\\uc6b8\\ud2b9\\ubcc4\\uc2dc_\\uad6c\\ub85c\\uad6c\", \"2015_\\uc11c\\uc6b8\\ud2b9\\ubcc4\\uc2dc_\\uae08\\ucc9c\\uad6c\", \"2015_\\uc11c\\uc6b8\\ud2b9\\ubcc4\\uc2dc_\\ub178\\uc6d0\\uad6c\", \"2015_\\uc11c\\uc6b8\\ud2b9\\ubcc4\\uc2dc_\\ub3c4\\ubd09\\uad6c\", \"2015_\\uc11c\\uc6b8\\ud2b9\\ubcc4\\uc2dc_\\ub3d9\\ub300\\ubb38\\uad6c\", \"2015_\\uc11c\\uc6b8\\ud2b9\\ubcc4\\uc2dc_\\ub3d9\\uc791\\uad6c\", \"2015_\\uc11c\\uc6b8\\ud2b9\\ubcc4\\uc2dc_\\ub9c8\\ud3ec\\uad6c\", \"2015_\\uc11c\\uc6b8\\ud2b9\\ubcc4\\uc2dc_\\uc11c\\ub300\\ubb38\\uad6c\", \"2015_\\uc11c\\uc6b8\\ud2b9\\ubcc4\\uc2dc_\\uc11c\\ucd08\\uad6c\", \"2015_\\uc11c\\uc6b8\\ud2b9\\ubcc4\\uc2dc_\\uc131\\ub3d9\\uad6c\", \"2015_\\uc11c\\uc6b8\\ud2b9\\ubcc4\\uc2dc_\\uc131\\ubd81\\uad6c\", \"2015_\\uc11c\\uc6b8\\ud2b9\\ubcc4\\uc2dc_\\uc1a1\\ud30c\\uad6c\", \"2015_\\uc11c\\uc6b8\\ud2b9\\ubcc4\\uc2dc_\\uc591\\ucc9c\\uad6c\", \"2015_\\uc11c\\uc6b8\\ud2b9\\ubcc4\\uc2dc_\\uc601\\ub4f1\\ud3ec\\uad6c\", \"2015_\\uc11c\\uc6b8\\ud2b9\\ubcc4\\uc2dc_\\uc6a9\\uc0b0\\uad6c\", \"2015_\\uc11c\\uc6b8\\ud2b9\\ubcc4\\uc2dc_\\uc740\\ud3c9\\uad6c\", \"2015_\\uc11c\\uc6b8\\ud2b9\\ubcc4\\uc2dc_\\uc911\\ub791\\uad6c\", \"2015_\\uc6b8\\uc0b0\\uad11\\uc5ed\\uc2dc_\\ub0a8\\uad6c\", \"2015_\\uc6b8\\uc0b0\\uad11\\uc5ed\\uc2dc_\\ub3d9\\uad6c\", \"2015_\\uc6b8\\uc0b0\\uad11\\uc5ed\\uc2dc_\\uc911\\uad6c\", \"2015_\\uc778\\ucc9c\\uad11\\uc5ed\\uc2dc_\\uac15\\ud654\\uad70\", \"2015_\\uc778\\ucc9c\\uad11\\uc5ed\\uc2dc_\\uacc4\\uc591\\uad6c\", \"2015_\\uc778\\ucc9c\\uad11\\uc5ed\\uc2dc_\\ub0a8\\uad6c\", \"2015_\\uc778\\ucc9c\\uad11\\uc5ed\\uc2dc_\\ub0a8\\ub3d9\\uad6c\", \"2015_\\uc778\\ucc9c\\uad11\\uc5ed\\uc2dc_\\ubd80\\ud3c9\\uad6c\", \"2015_\\uc778\\ucc9c\\uad11\\uc5ed\\uc2dc_\\uc11c\\uad6c\", \"2015_\\uc778\\ucc9c\\uad11\\uc5ed\\uc2dc_\\uc5f0\\uc218\\uad6c\", \"2015_\\uc778\\ucc9c\\uad11\\uc5ed\\uc2dc_\\uc639\\uc9c4\\uad70\", \"2015_\\uc778\\ucc9c\\uad11\\uc5ed\\uc2dc_\\uc911\\uad6c\", \"2015_\\uc804\\ub77c\\ub0a8\\ub3c4_\\uac15\\uc9c4\\uad70\", \"2015_\\uc804\\ub77c\\ub0a8\\ub3c4_\\uace0\\ud765\\uad70\", \"2015_\\uc804\\ub77c\\ub0a8\\ub3c4_\\uace1\\uc131\\uad70\", \"2015_\\uc804\\ub77c\\ub0a8\\ub3c4_\\uad11\\uc591\\uc2dc\", \"2015_\\uc804\\ub77c\\ub0a8\\ub3c4_\\uad6c\\ub840\\uad70\", \"2015_\\uc804\\ub77c\\ub0a8\\ub3c4_\\ub2f4\\uc591\\uad70\", \"2015_\\uc804\\ub77c\\ub0a8\\ub3c4_\\ubaa9\\ud3ec\\uc2dc\", \"2015_\\uc804\\ub77c\\ub0a8\\ub3c4_\\ubb34\\uc548\\uad70\", \"2015_\\uc804\\ub77c\\ub0a8\\ub3c4_\\ubcf4\\uc131\\uad70\", \"2015_\\uc804\\ub77c\\ub0a8\\ub3c4_\\uc21c\\ucc9c\\uc2dc\", \"2015_\\uc804\\ub77c\\ub0a8\\ub3c4_\\uc2e0\\uc548\\uad70\", \"2015_\\uc804\\ub77c\\ub0a8\\ub3c4_\\uc5ec\\uc218\\uc2dc\", \"2015_\\uc804\\ub77c\\ub0a8\\ub3c4_\\uc601\\uad11\\uad70\", \"2015_\\uc804\\ub77c\\ub0a8\\ub3c4_\\uc644\\ub3c4\\uad70\", \"2015_\\uc804\\ub77c\\ub0a8\\ub3c4_\\uc7a5\\uc131\\uad70\", \"2015_\\uc804\\ub77c\\ub0a8\\ub3c4_\\uc7a5\\ud765\\uad70\", \"2015_\\uc804\\ub77c\\ub0a8\\ub3c4_\\uc9c4\\ub3c4\\uad70\", \"2015_\\uc804\\ub77c\\ub0a8\\ub3c4_\\ud654\\uc21c\\uad70\", \"2015_\\uc804\\ub77c\\ubd81\\ub3c4_\\uace0\\ucc3d\\uad70\", \"2015_\\uc804\\ub77c\\ubd81\\ub3c4_\\uad70\\uc0b0\\uc2dc\", \"2015_\\uc804\\ub77c\\ubd81\\ub3c4_\\ub0a8\\uc6d0\\uc2dc\", \"2015_\\uc804\\ub77c\\ubd81\\ub3c4_\\ubb34\\uc8fc\\uad70\", \"2015_\\uc804\\ub77c\\ubd81\\ub3c4_\\ubd80\\uc548\\uad70\", \"2015_\\uc804\\ub77c\\ubd81\\ub3c4_\\uc21c\\ucc3d\\uad70\", \"2015_\\uc804\\ub77c\\ubd81\\ub3c4_\\uc644\\uc8fc\\uad70\", \"2015_\\uc804\\ub77c\\ubd81\\ub3c4_\\uc7a5\\uc218\\uad70\", \"2015_\\uc804\\ub77c\\ubd81\\ub3c4_\\uc804\\uc8fc\\uc2dc\", \"2015_\\ucda9\\uccad\\ub0a8\\ub3c4_\\uacc4\\ub8e1\\uc2dc\", \"2015_\\ucda9\\uccad\\ub0a8\\ub3c4_\\uacf5\\uc8fc\\uc2dc\", \"2015_\\ucda9\\uccad\\ub0a8\\ub3c4_\\uae08\\uc0b0\\uad70\", \"2015_\\ucda9\\uccad\\ub0a8\\ub3c4_\\ub2f9\\uc9c4\\uc2dc\", \"2015_\\ucda9\\uccad\\ub0a8\\ub3c4_\\ubcf4\\ub839\\uc2dc\", \"2015_\\ucda9\\uccad\\ub0a8\\ub3c4_\\ubd80\\uc5ec\\uad70\", \"2015_\\ucda9\\uccad\\ub0a8\\ub3c4_\\uc11c\\uc0b0\\uc2dc\", \"2015_\\ucda9\\uccad\\ub0a8\\ub3c4_\\uc608\\uc0b0\\uad70\", \"2015_\\ucda9\\uccad\\ub0a8\\ub3c4_\\ucc9c\\uc548\\uc2dc\", \"2015_\\ucda9\\uccad\\ub0a8\\ub3c4_\\ud0dc\\uc548\\uad70\", \"2015_\\ucda9\\uccad\\ub0a8\\ub3c4_\\ud64d\\uc131\\uad70\", \"2015_\\ucda9\\uccad\\ubd81\\ub3c4_\\ub2e8\\uc591\\uad70\", \"2015_\\ucda9\\uccad\\ubd81\\ub3c4_\\ubcf4\\uc740\\uad70\", \"2015_\\ucda9\\uccad\\ubd81\\ub3c4_\\uc601\\ub3d9\\uad70\", \"2015_\\ucda9\\uccad\\ubd81\\ub3c4_\\uc625\\ucc9c\\uad70\", \"2015_\\ucda9\\uccad\\ubd81\\ub3c4_\\uc74c\\uc131\\uad70\", \"2015_\\ucda9\\uccad\\ubd81\\ub3c4_\\uc81c\\ucc9c\\uc2dc\", \"2015_\\ucda9\\uccad\\ubd81\\ub3c4_\\uc99d\\ud3c9\\uad70\", \"2015_\\ucda9\\uccad\\ubd81\\ub3c4_\\uc9c4\\ucc9c\\uad70\", \"2015_\\ucda9\\uccad\\ubd81\\ub3c4_\\uccad\\uc8fc\\uc2dc\", \"2015_\\ucda9\\uccad\\ubd81\\ub3c4_\\ucda9\\uc8fc\\uc2dc\"], \"legendgroup\": \"group2_=0.0\", \"marker\": {\"color\": \"dimgrey\", \"symbol\": \"circle\"}, \"mode\": \"markers\", \"name\": \"group2_=0.0\", \"showlegend\": true, \"textposition\": \"top center\", \"type\": \"scatter\", \"x\": [228.30585, 173.44478, 191.51456, 169.12354, 217.14868, 112.19022, 210.74816, 144.31091999999995, 276.32817, 184.14165, 168.42105, 121.03383, 246.41848, 145.05366999999995, 322.0339, 191.90643, 118.26254, 222.15855, 344.04457, 188.77826, 225.06984, 145.34083, 226.93052000000003, 241.30179, 134.08088999999998, 216.00893, 162.87469, 174.08678999999995, 174.93274, 201.17832, 191.88778, 290.7720700000001, 246.13068, 281.14967, 182.22097, 218.93187000000003, 206.68255, 160.9241, 214.6573, 179.66215, 192.00919, 181.8321, 241.4957, 177.70841, 240.52674, 247.68966, 251.8942, 198.39943, 118.63091, 154.87517, 229.47804, 117.28633, 106.00017, 182.1969, 178.28538999999995, 154.6408, 207.09322, 170.75567, 129.6142, 262.57983, 117.534, 97.70696, 245.73962000000003, 255.23411, 156.63079, 109.63172, 177.56483, 156.51053000000005, 225.67088, 191.48184, 91.77337, 168.35169, 125.70947, 42.86828, 121.48779, 119.17699, 134.20028, 219.07395, 214.2256, 310.16213, 254.4423, 332.85318, 231.63213, 237.23973, 234.93067, 214.58692, 213.36657, 237.88024, 224.45421, 238.89112000000003, 159.57191, 169.90198, 258.34082, 187.26605, 134.21331999999998, 241.81632, 157.90501, 159.08225, 225.68355, 175.3745, 394.76218, 164.85216, 369.30432, 147.02149, 132.19908999999998, 164.50202, 138.29294, 194.90634, 172.27492, 210.97613, 133.96229, 116.84747, 184.91175, 172.209, 263.25826, 163.80132, 354.1423, 240.87596, 144.82351, 177.12242, 173.27512, 284.18839, 304.63952, 115.79403, 136.66447, 282.52324, 196.52682, 187.25008, 170.59507, 181.5997, 218.68456, 260.5624, 181.83385, 209.63091, 168.13484, 78.73255, 315.91455, 140.23731999999998, 94.48457, 139.26851000000002, 169.4971, 141.33235, 196.70602, 257.91585, 167.20525, 132.73179, 191.89142, 63.09004, 180.92128, 128.09458999999998, 89.32937, 171.80645, 121.55592, 111.464, 167.43545, 148.77683000000005, 231.71688, 156.58022, 170.53958, 178.32934, 119.20443, 226.60633, 112.70624, 248.85239, 121.32571000000002, 261.1313, 184.53395, 211.8592, 208.68282, 134.90537, 241.27295, 195.95144, 272.7686, 222.93604, 201.48913, 157.36073000000005, 141.6472, 134.0472, 189.4452, 238.34501, 224.99178, 192.11412, 238.89895, 232.74217, 223.4243], \"xaxis\": \"x\", \"y\": [53.98342, 52.52899, 53.08686, 57.25032, 62.35443000000001, 38.51306, 58.86414, 35.82892000000001, 70.51807, 36.9515, 31.70577, 33.83064, 61.24203000000001, 43.30888, 53.82501, 48.11855, 29.10511, 41.43433, 61.58821999999999, 38.51299, 30.93107, 26.85334000000001, 39.78478, 37.41569000000001, 25.93548, 43.16652, 31.9997, 47.64588, 35.99872, 36.70194, 40.57134, 49.05749, 47.7626, 54.92149000000001, 33.12201, 52.95142, 34.73178, 45.19101, 37.20663, 28.44876, 33.00059, 35.83755, 42.97268, 39.8203, 49.91603, 48.28874, 41.08257, 52.39904, 38.32935, 44.70992, 40.85426, 48.88717000000001, 44.3527, 39.33291, 30.41961, 55.74628000000001, 32.59026, 52.63951, 37.99037, 53.24333000000001, 45.58447, 35.079370000000004, 58.43256, 49.46231, 53.08849, 47.61485, 50.53843, 59.3584, 66.4505, 57.34351, 43.96329, 56.32786, 40.12948, 21.43414, 41.26363, 46.18561, 54.05814, 56.49174, 43.80957, 70.14863000000001, 53.43043, 66.12593000000001, 60.00294, 59.77577, 52.58998, 48.25796, 40.32702000000001, 38.37688, 34.23308, 46.36915, 39.18257, 29.93146, 60.69899, 34.78626, 22.11914, 37.25, 32.35567, 38.77577, 40.50874, 33.55576, 81.51999, 32.86654, 62.6866, 30.25617, 39.19111, 30.86335, 33.43817, 40.73163, 36.77515, 43.15135, 26.02343, 25.98181, 50.81292, 34.33382, 45.63627, 36.1497, 49.30194, 40.15725, 35.65414000000001, 39.2335, 30.1509, 57.35553, 57.21527, 26.57206, 38.72638, 47.79172, 41.09403, 40.1968, 33.97002, 29.06891, 32.30428, 38.74433, 27.82805, 28.59515, 21.82148, 10.14346, 43.15236, 59.70748, 38.48308, 46.8567, 57.39758000000001, 53.73574, 68.67753, 60.09811, 57.40795, 53.39785, 53.86236, 19.65849, 45.75455, 45.57211, 26.32866, 46.8956, 55.79995, 34.81341, 44.92901, 41.77068, 63.25108, 45.42111, 42.14258, 61.18121, 48.07692, 46.58265, 35.14035, 44.90892, 18.00158, 38.63722, 46.76794, 43.90705, 44.95739, 40.97333, 44.09019, 51.81408, 38.53957, 54.33566999999999, 49.63752, 44.59093, 37.67523, 41.53298, 49.93425, 55.91457, 70.61145, 54.06805, 53.24209000000001, 57.04005, 60.80747], \"yaxis\": \"y\"}, {\"hoverlabel\": {\"namelength\": 0}, \"hovertemplate\": \"<b>OLS trendline</b><br>\\uc74c\\uc8fc\\uad50\\ud1b5\\uc0ac\\uace0\\ubc1c\\uc0dd\\uac74\\uc218 = 0.103722 * \\uad50\\ud1b5\\uc0ac\\uace0\\ubc1c\\uc0dd\\uac74\\uc218 + 24.419954<br>R<sup>2</sup>=0.275740<br><br>group2_=0.0<br>\\uad50\\ud1b5\\uc0ac\\uace0\\ubc1c\\uc0dd\\uac74\\uc218=%{x}<br>\\uc74c\\uc8fc\\uad50\\ud1b5\\uc0ac\\uace0\\ubc1c\\uc0dd\\uac74\\uc218=%{y} <b>(trend)</b>\", \"legendgroup\": \"group2_=0.0\", \"marker\": {\"color\": \"dimgrey\", \"symbol\": \"circle\"}, \"mode\": \"lines\", \"name\": \"group2_=0.0\", \"showlegend\": false, \"textposition\": \"top center\", \"type\": \"scatter\", \"x\": [42.86828, 63.09004, 78.73255, 89.32937, 91.77337, 94.48457, 97.70696, 106.00017, 109.63172, 111.464, 112.19022, 112.70624, 115.79403, 116.84747, 117.28633, 117.534, 118.26254, 118.63091, 119.17699, 119.20443, 121.03383, 121.32571000000002, 121.48779, 121.55592, 125.70947, 128.09458999999998, 129.6142, 132.19908999999998, 132.73179, 133.96229, 134.0472, 134.08088999999998, 134.20028, 134.21331999999998, 134.90537, 136.66447, 138.29294, 139.26851000000002, 140.23731999999998, 141.33235, 141.6472, 144.31091999999995, 144.82351, 145.05366999999995, 145.34083, 147.02149, 148.77683000000005, 154.6408, 154.87517, 156.51053000000005, 156.58022, 156.63079, 157.36073000000005, 157.90501, 159.08225, 159.57191, 160.9241, 162.87469, 163.80132, 164.50202, 164.85216, 167.20525, 167.43545, 168.13484, 168.35169, 168.42105, 169.12354, 169.4971, 169.90198, 170.53958, 170.59507, 170.75567, 171.80645, 172.209, 172.27492, 173.27512, 173.44478, 174.08678999999995, 174.93274, 175.3745, 177.12242, 177.56483, 177.70841, 178.28538999999995, 178.32934, 179.66215, 180.92128, 181.5997, 181.8321, 181.83385, 182.1969, 182.22097, 184.14165, 184.53395, 184.91175, 187.25008, 187.26605, 188.77826, 189.4452, 191.48184, 191.51456, 191.88778, 191.89142, 191.90643, 192.00919, 192.11412, 194.90634, 195.95144, 196.52682, 196.70602, 198.39943, 201.17832, 201.48913, 206.68255, 207.09322, 208.68282, 209.63091, 210.74816, 210.97613, 211.8592, 213.36657, 214.2256, 214.58692, 214.6573, 216.00893, 217.14868, 218.68456, 218.93187000000003, 219.07395, 222.15855, 222.93604, 223.4243, 224.45421, 224.99178, 225.06984, 225.67088, 225.68355, 226.60633, 226.93052000000003, 228.30585, 229.47804, 231.63213, 231.71688, 232.74217, 234.93067, 237.23973, 237.88024, 238.34501, 238.89112000000003, 238.89895, 240.52674, 240.87596, 241.27295, 241.30179, 241.4957, 241.81632, 245.73962000000003, 246.13068, 246.41848, 247.68966, 248.85239, 251.8942, 254.4423, 255.23411, 257.91585, 258.34082, 260.5624, 261.1313, 262.57983, 263.25826, 272.7686, 276.32817, 281.14967, 282.52324, 284.18839, 290.7720700000001, 304.63952, 310.16213, 315.91455, 322.0339, 332.85318, 344.04457, 354.1423, 369.30432, 394.76218], \"xaxis\": \"x\", \"y\": [28.86633533868409, 30.9637757705276, 32.58624745101023, 33.68537031256965, 33.93886676467993, 34.22007772252011, 34.554310305300646, 35.414498239672774, 35.79116969657174, 35.98121735584859, 36.05654231225265, 36.11006491422399, 36.430336522187, 36.53960137591493, 36.58512079202504, 36.610809608021015, 36.68637519935506, 36.724583255027675, 36.78122373889362, 36.78406986927247, 36.973818809325884, 37.0040931728455, 37.020904426919984, 37.027971003549396, 37.45878531969614, 37.70617462323839, 37.86379153960144, 38.13190137761099, 38.18715406175139, 38.31478392440348, 38.323590955397215, 38.3270853479797, 38.339468711898455, 38.340821246160125, 38.412602023444464, 38.59505931023136, 38.76396739835249, 38.86515542363286, 38.96564228851377, 39.079220938249584, 39.11187779502001, 39.388164034551586, 39.44133087022557, 39.46520351483183, 39.494988310735266, 39.66930964756164, 39.85137693980684, 40.459599358088795, 40.483908672115426, 40.65353140448984, 40.66075978736527, 40.66600500650734, 40.74171580857501, 40.798169592926314, 40.92027522438388, 40.97106371568516, 41.11131550274694, 41.313634506233754, 41.40974637915477, 41.48242435132894, 41.51874155580598, 41.76280864520704, 41.7866854386914, 41.85922753510769, 41.88171964052508, 41.88891379515617, 41.96177742962546, 42.00052380223197, 42.04251874639335, 42.1086518633596, 42.11440739450837, 42.13106514009303, 42.24005409342709, 42.28180736543895, 42.28864471655315, 42.39238741352561, 42.40998488000067, 42.4765754107778, 42.5643189965645, 42.61013920633711, 42.79143688169414, 42.837324510735925, 42.85221690868764, 42.91206240088836, 42.916620980704344, 43.05486263632508, 43.185462058479594, 43.25582910555024, 43.27993408733028, 43.28011560074731, 43.317771855632174, 43.32026844303083, 43.519485122915924, 43.56017524491382, 43.59936139859928, 43.841897551980225, 43.843553991562956, 44.0004033654769, 44.0695796845319, 44.2808239620384, 44.28421774432688, 44.32292885146951, 44.32330639937692, 44.32486326588517, 44.33552173373249, 44.34640527821691, 44.636019788655275, 44.74441960129867, 44.804099138375264, 44.82268611227795, 44.998329903999746, 45.2865618008102, 45.31879962089219, 45.857471283870325, 45.90006677813715, 46.06494319396141, 46.16328093998483, 46.279164291507016, 46.30280978503712, 46.39440352970366, 46.55075088936711, 46.63985115829358, 46.67732797420049, 46.684627925223204, 46.82482162799154, 46.94303872344682, 47.10234319597838, 47.127994672071424, 47.14273148709426, 47.46267222202853, 47.54331500294147, 47.59395828350913, 47.700782559692804, 47.75654036974228, 47.76463690536083, 47.82697794774069, 47.82829210487989, 47.92400464828347, 47.95763026809101, 48.10028218113553, 48.22186401673257, 48.44529043756981, 48.45408087305113, 48.560425953813876, 48.78742144703946, 49.02692165886834, 49.0933566067166, 49.14156345861811, 49.19820705414264, 49.19901919703136, 49.36785675422472, 49.40407853450539, 49.4452551124609, 49.44824645357336, 49.468359177398526, 49.50161450983535, 49.90854684640011, 49.9491083531768, 49.97895953112988, 50.110808802813, 50.23140942873861, 50.546911901321906, 50.81120580869596, 50.893333887969874, 51.17148919708698, 51.21556791527573, 51.44599453069273, 51.5050019495166, 51.65524630949013, 51.725614393780305, 52.712045428298495, 53.08125097905061, 53.581346373424466, 53.72381573583245, 53.89652834517429, 54.579400489949, 56.017759481281516, 56.5905753738301, 57.18722760830154, 57.82193853883388, 58.944135385964685, 60.10492820887076, 61.152284481116055, 62.72491880060259, 65.36545774836043], \"yaxis\": \"y\"}, {\"hoverlabel\": {\"namelength\": 0}, \"hovertemplate\": \"<b>%{hovertext}</b><br><br>group2_=1.0<br>\\uad50\\ud1b5\\uc0ac\\uace0\\ubc1c\\uc0dd\\uac74\\uc218=%{x}<br>\\uc74c\\uc8fc\\uad50\\ud1b5\\uc0ac\\uace0\\ubc1c\\uc0dd\\uac74\\uc218=%{y}\", \"hovertext\": [\"2015_\\uacbd\\uae30\\ub3c4_\\uc5ec\\uc8fc\\uc2dc\", \"2015_\\uacbd\\uae30\\ub3c4_\\ud3ec\\ucc9c\\uc2dc\", \"2015_\\uacbd\\uc0c1\\ub0a8\\ub3c4_\\ubc00\\uc591\\uc2dc\", \"2015_\\uacbd\\uc0c1\\ub0a8\\ub3c4_\\uc0ac\\ucc9c\\uc2dc\", \"2015_\\uacbd\\uc0c1\\ub0a8\\ub3c4_\\uc758\\ub839\\uad70\", \"2015_\\uacbd\\uc0c1\\ubd81\\ub3c4_\\uacbd\\uc8fc\\uc2dc\", \"2015_\\uacbd\\uc0c1\\ubd81\\ub3c4_\\uace0\\ub839\\uad70\", \"2015_\\uacbd\\uc0c1\\ubd81\\ub3c4_\\uad70\\uc704\\uad70\", \"2015_\\uacbd\\uc0c1\\ubd81\\ub3c4_\\uae40\\ucc9c\\uc2dc\", \"2015_\\uacbd\\uc0c1\\ubd81\\ub3c4_\\uc601\\ucc9c\\uc2dc\", \"2015_\\uacbd\\uc0c1\\ubd81\\ub3c4_\\uccad\\ub3c4\\uad70\", \"2015_\\uacbd\\uc0c1\\ubd81\\ub3c4_\\uce60\\uace1\\uad70\", \"2015_\\uad11\\uc8fc\\uad11\\uc5ed\\uc2dc_\\uad11\\uc0b0\\uad6c\", \"2015_\\ub300\\uad6c\\uad11\\uc5ed\\uc2dc_\\ub2ec\\uc131\\uad70\", \"2015_\\ub300\\uad6c\\uad11\\uc5ed\\uc2dc_\\ubd81\\uad6c\", \"2015_\\ub300\\uad6c\\uad11\\uc5ed\\uc2dc_\\uc11c\\uad6c\", \"2015_\\ub300\\uad6c\\uad11\\uc5ed\\uc2dc_\\uc911\\uad6c\", \"2015_\\ub300\\uc804\\uad11\\uc5ed\\uc2dc_\\ub300\\ub355\\uad6c\", \"2015_\\ubd80\\uc0b0\\uad11\\uc5ed\\uc2dc_\\uac15\\uc11c\\uad6c\", \"2015_\\ubd80\\uc0b0\\uad11\\uc5ed\\uc2dc_\\uae30\\uc7a5\\uad70\", \"2015_\\ubd80\\uc0b0\\uad11\\uc5ed\\uc2dc_\\uc601\\ub3c4\\uad6c\", \"2015_\\uc11c\\uc6b8\\ud2b9\\ubcc4\\uc2dc_\\uc885\\ub85c\\uad6c\", \"2015_\\uc11c\\uc6b8\\ud2b9\\ubcc4\\uc2dc_\\uc911\\uad6c\", \"2015_\\uc6b8\\uc0b0\\uad11\\uc5ed\\uc2dc_\\ubd81\\uad6c\", \"2015_\\uc6b8\\uc0b0\\uad11\\uc5ed\\uc2dc_\\uc6b8\\uc8fc\\uad70\", \"2015_\\uc778\\ucc9c\\uad11\\uc5ed\\uc2dc_\\ub3d9\\uad6c\", \"2015_\\uc804\\ub77c\\ub0a8\\ub3c4_\\ub098\\uc8fc\\uc2dc\", \"2015_\\uc804\\ub77c\\ub0a8\\ub3c4_\\uc601\\uc554\\uad70\", \"2015_\\uc804\\ub77c\\ub0a8\\ub3c4_\\ud568\\ud3c9\\uad70\", \"2015_\\uc804\\ub77c\\ub0a8\\ub3c4_\\ud574\\ub0a8\\uad70\", \"2015_\\uc804\\ub77c\\ubd81\\ub3c4_\\uae40\\uc81c\\uc2dc\", \"2015_\\uc804\\ub77c\\ubd81\\ub3c4_\\uc775\\uc0b0\\uc2dc\", \"2015_\\uc804\\ub77c\\ubd81\\ub3c4_\\uc784\\uc2e4\\uad70\", \"2015_\\uc804\\ub77c\\ubd81\\ub3c4_\\uc815\\uc74d\\uc2dc\", \"2015_\\uc804\\ub77c\\ubd81\\ub3c4_\\uc9c4\\uc548\\uad70\", \"2015_\\ucda9\\uccad\\ub0a8\\ub3c4_\\ub17c\\uc0b0\\uc2dc\", \"2015_\\ucda9\\uccad\\ub0a8\\ub3c4_\\uc11c\\ucc9c\\uad70\", \"2015_\\ucda9\\uccad\\ub0a8\\ub3c4_\\uc544\\uc0b0\\uc2dc\", \"2015_\\ucda9\\uccad\\ub0a8\\ub3c4_\\uccad\\uc591\\uad70\", \"2015_\\ucda9\\uccad\\ubd81\\ub3c4_\\uad34\\uc0b0\\uad70\"], \"legendgroup\": \"group2_=1.0\", \"marker\": {\"color\": \"darkorange\", \"symbol\": \"circle\"}, \"mode\": \"markers\", \"name\": \"group2_=1.0\", \"showlegend\": true, \"textposition\": \"top center\", \"type\": \"scatter\", \"x\": [225.84386, 277.08956, 168.14365, 173.58458000000005, 120.5108, 281.91255, 203.23695, 160.11585, 170.46126, 219.58705, 178.21017, 263.07165, 239.25131, 190.58745, 257.32771, 264.45889, 644.82566, 269.10368, 585.03624, 182.1096, 108.24969, 359.82496000000015, 518.40862, 230.00747, 210.36233, 186.00124, 211.53867, 227.18004, 129.38159, 130.9414, 206.86288, 209.45886, 147.5005, 213.85355, 118.22921, 225.10899, 185.74671, 234.59453, 164.35128, 176.78808999999995], \"xaxis\": \"x\", \"y\": [50.4593, 57.38199, 46.58284, 64.72936, 52.03876, 81.1746, 57.37448000000001, 46.75217, 45.6975, 63.76069, 52.50835, 57.34978, 52.35589, 50.24283, 53.60338, 63.62386, 155.81384, 33.38989, 74.35410999999998, 33.78285, 25.35919, 83.698, 101.90138, 43.39464, 47.2499, 21.62805, 71.57904, 99.74173, 53.00655, 45.85547, 54.37919, 56.39277, 38.37683, 59.30894, 43.43885, 47.20156, 58.39239, 24.22148, 59.84867, 39.63391], \"yaxis\": \"y\"}, {\"hoverlabel\": {\"namelength\": 0}, \"hovertemplate\": \"<b>OLS trendline</b><br>\\uc74c\\uc8fc\\uad50\\ud1b5\\uc0ac\\uace0\\ubc1c\\uc0dd\\uac74\\uc218 = 0.153326 * \\uad50\\ud1b5\\uc0ac\\uace0\\ubc1c\\uc0dd\\uac74\\uc218 + 21.160704<br>R<sup>2</sup>=0.547768<br><br>group2_=1.0<br>\\uad50\\ud1b5\\uc0ac\\uace0\\ubc1c\\uc0dd\\uac74\\uc218=%{x}<br>\\uc74c\\uc8fc\\uad50\\ud1b5\\uc0ac\\uace0\\ubc1c\\uc0dd\\uac74\\uc218=%{y} <b>(trend)</b>\", \"legendgroup\": \"group2_=1.0\", \"marker\": {\"color\": \"darkorange\", \"symbol\": \"circle\"}, \"mode\": \"lines\", \"name\": \"group2_=1.0\", \"showlegend\": false, \"textposition\": \"top center\", \"type\": \"scatter\", \"x\": [108.24969, 118.22921, 120.5108, 129.38159, 130.9414, 147.5005, 160.11585, 164.35128, 168.14365, 170.46126, 173.58458000000005, 176.78808999999995, 178.21017, 182.1096, 185.74671, 186.00124, 190.58745, 203.23695, 206.86288, 209.45886, 210.36233, 211.53867, 213.85355, 219.58705, 225.10899, 225.84386, 227.18004, 230.00747, 234.59453, 239.25131, 257.32771, 263.07165, 264.45889, 269.10368, 277.08956, 281.91255, 359.82496000000015, 518.40862, 585.03624, 644.82566], \"xaxis\": \"x\", \"y\": [37.75819317837156, 39.28831280794701, 39.63813981822837, 40.99826234003718, 41.237421728405366, 43.77636187363306, 45.71062270671567, 46.360024139118494, 46.94149296523569, 47.29684277712046, 47.77572885996268, 48.26691015270433, 48.48495195459728, 49.08283585955016, 49.64049929485818, 49.67952535516126, 50.38271047291795, 52.32220738803156, 52.87815663894407, 53.276187802365286, 53.414713220595075, 53.595076697501256, 53.950007929475504, 54.82910240457758, 55.675759236503154, 55.788433895423225, 55.993304996102026, 56.426823456333636, 57.13013890116868, 57.8441442329496, 60.61572587936722, 61.496421077643646, 61.709121002583146, 62.42128795592916, 63.645730789595916, 64.38522043160735, 76.33121662466374, 100.64621084241344, 110.861955611089, 120.0292267005733], \"yaxis\": \"y\"}, {\"line\": {\"color\": \"rgb(0,0,0)\", \"width\": 0.5}, \"mode\": \"lines\", \"name\": \"median x: 187.27\", \"type\": \"scatter\", \"visible\": true, \"x\": [187.26605, 187.26605], \"y\": [-10000, 10000]}, {\"line\": {\"color\": \"rgb(0,0,0)\", \"width\": 0.5}, \"mode\": \"lines\", \"name\": \"median y: 45.42\", \"type\": \"scatter\", \"visible\": true, \"x\": [-10000, 10000], \"y\": [45.42111, 45.42111]}, {\"line\": {\"color\": \"rgb(0,0,0)\", \"dash\": \"7px\", \"width\": 0.5}, \"marker\": {\"color\": \"black\"}, \"mode\": \"lines\", \"name\": \"trend all\", \"type\": \"scatter\", \"x\": [228.30585, 173.44478, 191.51456, 169.12354, 217.14868, 112.19022, 210.74816, 144.31091999999995, 276.32817, 184.14165, 168.42105, 121.03383, 246.41848, 145.05366999999995, 322.0339, 191.90643, 118.26254, 222.15855, 344.04457, 188.77826, 225.06984, 145.34083, 226.93052000000003, 241.30179, 134.08088999999998, 216.00893, 162.87469, 174.08678999999995, 174.93274, 201.17832, 191.88778, 290.7720700000001, 246.13068, 281.14967, 182.22097, 218.93187000000003, 206.68255, 225.84386, 160.9241, 214.6573, 179.66215, 192.00919, 181.8321, 241.4957, 177.70841, 240.52674, 277.08956, 247.68966, 251.8942, 198.39943, 118.63091, 154.87517, 229.47804, 117.28633, 168.14365, 173.58458000000005, 106.00017, 182.1969, 120.5108, 178.28538999999995, 154.6408, 207.09322, 170.75567, 129.6142, 262.57983, 117.534, 97.70696, 245.73962000000003, 281.91255, 203.23695, 255.23411, 160.11585, 170.46126, 156.63079, 109.63172, 177.56483, 156.51053000000005, 225.67088, 191.48184, 91.77337, 168.35169, 219.58705, 125.70947, 42.86828, 121.48779, 119.17699, 178.21017, 134.20028, 263.07165, 219.07395, 239.25131, 214.2256, 310.16213, 254.4423, 332.85318, 231.63213, 237.23973, 190.58745, 234.93067, 257.32771, 264.45889, 214.58692, 644.82566, 269.10368, 213.36657, 237.88024, 224.45421, 238.89112000000003, 585.03624, 159.57191, 182.1096, 169.90198, 258.34082, 187.26605, 134.21331999999998, 241.81632, 157.90501, 159.08225, 225.68355, 175.3745, 108.24969, 394.76218, 164.85216, 369.30432, 147.02149, 132.19908999999998, 164.50202, 138.29294, 194.90634, 172.27492, 210.97613, 133.96229, 116.84747, 184.91175, 172.209, 263.25826, 163.80132, 354.1423, 240.87596, 144.82351, 177.12242, 173.27512, 284.18839, 304.63952, 115.79403, 359.82496000000015, 518.40862, 136.66447, 282.52324, 196.52682, 230.00747, 210.36233, 187.25008, 170.59507, 181.5997, 218.68456, 260.5624, 186.00124, 181.83385, 209.63091, 168.13484, 78.73255, 315.91455, 140.23731999999998, 94.48457, 139.26851000000002, 169.4971, 141.33235, 211.53867, 196.70602, 257.91585, 167.20525, 132.73179, 191.89142, 63.09004, 180.92128, 128.09458999999998, 227.18004, 89.32937, 171.80645, 121.55592, 111.464, 129.38159, 130.9414, 167.43545, 148.77683000000005, 231.71688, 206.86288, 156.58022, 170.53958, 178.32934, 119.20443, 226.60633, 209.45886, 147.5005, 112.70624, 248.85239, 213.85355, 118.22921, 121.32571000000002, 261.1313, 184.53395, 225.10899, 211.8592, 208.68282, 134.90537, 241.27295, 185.74671, 234.59453, 195.95144, 272.7686, 164.35128, 222.93604, 201.48913, 176.78808999999995, 157.36073000000005, 141.6472, 134.0472, 189.4452, 238.34501, 224.99178, 192.11412, 238.89895, 232.74217, 223.4243], \"y\": [50.46764321480151, 43.1231486987717, 45.542230209866275, 42.54464515368137, 48.97398343238363, 34.92272934855089, 48.11711746094452, 39.222869776016815, 56.89660396760908, 44.55518608072003, 42.45059970483093, 36.10666260298625, 52.89246124525329, 39.32230500944885, 63.01543255290899, 45.59469158304031, 35.73565773182117, 49.64467692671435, 65.96209846936198, 45.175909605032786, 50.034424218183005, 39.36074839098012, 50.28352169397206, 52.207467284230944, 37.85333033331509, 48.82140004994787, 41.70808391715258, 43.209097422051, 43.32234849673539, 46.83596057867294, 45.59219482490701, 58.83027285777261, 52.85393218408636, 57.54207953542134, 44.29805613908658, 49.212706978534655, 47.57283623658422, 50.13804570506427, 41.44694979129571, 48.64045135312695, 43.95549556822081, 45.60844851954313, 44.24599638920478, 52.2334268750957, 43.69393973790711, 52.103707906686, 56.99853462043011, 53.062639744121185, 53.62552014314417, 46.463938261834244, 35.78497305587282, 40.63715273096042, 50.62456948377047, 35.60496817378861, 42.41346293774369, 43.141864344189145, 34.09403992854959, 44.29483378153868, 36.03664225947638, 43.77118260695539, 40.605776580627925, 47.62781444905616, 42.763145628324835, 37.255354752273654, 55.056052776490986, 35.638124854049956, 32.983791160793444, 52.801579249201225, 57.64420966114416, 47.11155849802695, 54.07264869311655, 41.338745782650214, 42.7237316571707, 40.87218535905595, 34.58021161750294, 43.67471804714148, 40.85608562001518, 50.1148881060349, 45.53784983849247, 32.1894351772997, 42.44131417431481, 49.30041882806679, 36.732611246330784, 25.642294093267903, 36.16743623956492, 35.858079205011244, 43.76111257227514, 37.86931360160112, 55.12189489901746, 49.231727857654164, 51.93296044148745, 48.582657761376545, 61.42610610228439, 53.96664558011241, 64.46385750392417, 50.9129470562829, 51.66366131409977, 45.41811388638304, 51.35453722105558, 54.35292820131353, 55.30761086431703, 48.63102927069147, 106.22899567042765, 55.929429481473235, 48.46765560913808, 51.749409225732954, 49.952007102386624, 51.884740210279276, 98.22472110366104, 41.26592612479357, 44.283146543735086, 42.648858365546516, 54.488557725840394, 44.97346335212366, 37.87105932417797, 52.27634969507952, 41.0427708361933, 41.20037317103749, 50.11658429507237, 43.38148886525903, 34.39519313798753, 72.75188963659839, 41.97281658770774, 69.34373312124325, 39.58574579174737, 37.60140542954882, 41.925941794528484, 38.41721612931293, 45.996302826561134, 42.966534357226365, 48.14763681492029, 37.837452825829345, 35.546216041114114, 44.6582827798328, 42.957709354752, 55.14687720653782, 41.83213598090906, 67.31392632487682, 52.150459535388975, 39.29149247046976, 43.61549066023785, 43.100435562852375, 57.94888644559917, 60.68676983233611, 35.40518736079551, 68.07468919746503, 89.3049864046091, 38.19920563508599, 57.72596543725268, 46.21324366408646, 50.69544662363708, 48.06546468933215, 44.971325377464744, 42.741645394748005, 44.21488397150084, 49.17959849306837, 54.78597048368346, 44.80413763337957, 44.24623066945857, 47.9675462532004, 42.41228350400887, 30.443602823418672, 62.19620805516101, 38.677518894954915, 32.55239553392162, 38.54782000770983, 42.594655286028555, 38.82411541284799, 48.22294653718869, 46.23723396207505, 54.431665109008875, 42.2878351719374, 37.67272033880394, 45.592682127834905, 28.34947070182605, 44.12406088019829, 37.05191782857705, 50.316926041930266, 31.862246068571473, 42.90381820265766, 36.17655710453123, 34.82550705945898, 37.22421422093925, 37.4330328967516, 42.31865306589372, 39.82074093500229, 50.92429291428811, 47.59697781267954, 40.86541532909343, 42.73421670258625, 43.77706638818641, 35.86175271939074, 50.2401209422705, 47.94451315739161, 39.64987298281608, 34.991811232301266, 53.21829956097535, 48.532849779419784, 35.73119569704461, 36.145737871830605, 54.86213164733137, 44.60770501989928, 50.03966540214647, 48.265857308473734, 47.840621244160246, 37.9637071239715, 52.203606345648396, 44.77006257452335, 51.30953666990668, 46.13621499412736, 56.42006856018038, 41.905761562838755, 49.748762957870284, 46.8775700904912, 43.570732421808586, 40.96990566103021, 38.866265777366436, 37.84882010374347, 45.265195817870435, 51.81163004490792, 50.02397398011945, 45.62249596356067, 51.88578844707196, 51.061553029381386, 49.81412848742333]}],\n",
       "                        {\"height\": 600, \"legend\": {\"tracegroupgap\": 0}, \"margin\": {\"t\": 60}, \"template\": {\"data\": {\"bar\": [{\"error_x\": {\"color\": \"#2a3f5f\"}, \"error_y\": {\"color\": \"#2a3f5f\"}, \"marker\": {\"line\": {\"color\": \"#E5ECF6\", \"width\": 0.5}}, \"type\": \"bar\"}], \"barpolar\": [{\"marker\": {\"line\": {\"color\": \"#E5ECF6\", \"width\": 0.5}}, \"type\": \"barpolar\"}], \"carpet\": [{\"aaxis\": {\"endlinecolor\": \"#2a3f5f\", \"gridcolor\": \"white\", \"linecolor\": \"white\", \"minorgridcolor\": \"white\", \"startlinecolor\": \"#2a3f5f\"}, \"baxis\": {\"endlinecolor\": \"#2a3f5f\", \"gridcolor\": \"white\", \"linecolor\": \"white\", \"minorgridcolor\": \"white\", \"startlinecolor\": \"#2a3f5f\"}, \"type\": \"carpet\"}], \"choropleth\": [{\"colorbar\": {\"outlinewidth\": 0, \"ticks\": \"\"}, \"type\": \"choropleth\"}], \"contour\": [{\"colorbar\": {\"outlinewidth\": 0, \"ticks\": \"\"}, \"colorscale\": [[0.0, \"#0d0887\"], [0.1111111111111111, \"#46039f\"], [0.2222222222222222, \"#7201a8\"], [0.3333333333333333, \"#9c179e\"], [0.4444444444444444, \"#bd3786\"], [0.5555555555555556, \"#d8576b\"], [0.6666666666666666, \"#ed7953\"], [0.7777777777777778, \"#fb9f3a\"], [0.8888888888888888, \"#fdca26\"], [1.0, \"#f0f921\"]], \"type\": \"contour\"}], \"contourcarpet\": [{\"colorbar\": {\"outlinewidth\": 0, \"ticks\": \"\"}, \"type\": \"contourcarpet\"}], \"heatmap\": [{\"colorbar\": {\"outlinewidth\": 0, \"ticks\": \"\"}, \"colorscale\": [[0.0, \"#0d0887\"], [0.1111111111111111, \"#46039f\"], [0.2222222222222222, \"#7201a8\"], [0.3333333333333333, \"#9c179e\"], [0.4444444444444444, \"#bd3786\"], [0.5555555555555556, \"#d8576b\"], [0.6666666666666666, \"#ed7953\"], [0.7777777777777778, \"#fb9f3a\"], [0.8888888888888888, \"#fdca26\"], [1.0, \"#f0f921\"]], \"type\": \"heatmap\"}], \"heatmapgl\": [{\"colorbar\": {\"outlinewidth\": 0, \"ticks\": \"\"}, \"colorscale\": [[0.0, \"#0d0887\"], [0.1111111111111111, \"#46039f\"], [0.2222222222222222, \"#7201a8\"], [0.3333333333333333, \"#9c179e\"], [0.4444444444444444, \"#bd3786\"], [0.5555555555555556, \"#d8576b\"], [0.6666666666666666, \"#ed7953\"], [0.7777777777777778, \"#fb9f3a\"], [0.8888888888888888, \"#fdca26\"], [1.0, \"#f0f921\"]], \"type\": \"heatmapgl\"}], \"histogram\": [{\"marker\": {\"colorbar\": {\"outlinewidth\": 0, \"ticks\": \"\"}}, \"type\": \"histogram\"}], \"histogram2d\": [{\"colorbar\": {\"outlinewidth\": 0, \"ticks\": \"\"}, \"colorscale\": [[0.0, \"#0d0887\"], [0.1111111111111111, \"#46039f\"], [0.2222222222222222, \"#7201a8\"], [0.3333333333333333, \"#9c179e\"], [0.4444444444444444, \"#bd3786\"], [0.5555555555555556, \"#d8576b\"], [0.6666666666666666, \"#ed7953\"], [0.7777777777777778, \"#fb9f3a\"], [0.8888888888888888, \"#fdca26\"], [1.0, \"#f0f921\"]], \"type\": \"histogram2d\"}], \"histogram2dcontour\": [{\"colorbar\": {\"outlinewidth\": 0, \"ticks\": \"\"}, \"colorscale\": [[0.0, \"#0d0887\"], [0.1111111111111111, \"#46039f\"], [0.2222222222222222, \"#7201a8\"], [0.3333333333333333, \"#9c179e\"], [0.4444444444444444, \"#bd3786\"], [0.5555555555555556, \"#d8576b\"], [0.6666666666666666, \"#ed7953\"], [0.7777777777777778, \"#fb9f3a\"], [0.8888888888888888, \"#fdca26\"], [1.0, \"#f0f921\"]], \"type\": \"histogram2dcontour\"}], \"mesh3d\": [{\"colorbar\": {\"outlinewidth\": 0, \"ticks\": \"\"}, \"type\": \"mesh3d\"}], \"parcoords\": [{\"line\": {\"colorbar\": {\"outlinewidth\": 0, \"ticks\": \"\"}}, \"type\": \"parcoords\"}], \"pie\": [{\"automargin\": true, \"type\": \"pie\"}], \"scatter\": [{\"marker\": {\"colorbar\": {\"outlinewidth\": 0, \"ticks\": \"\"}}, \"type\": \"scatter\"}], \"scatter3d\": [{\"line\": {\"colorbar\": {\"outlinewidth\": 0, \"ticks\": \"\"}}, \"marker\": {\"colorbar\": {\"outlinewidth\": 0, \"ticks\": \"\"}}, \"type\": \"scatter3d\"}], \"scattercarpet\": [{\"marker\": {\"colorbar\": {\"outlinewidth\": 0, \"ticks\": \"\"}}, \"type\": \"scattercarpet\"}], \"scattergeo\": [{\"marker\": {\"colorbar\": {\"outlinewidth\": 0, \"ticks\": \"\"}}, \"type\": \"scattergeo\"}], \"scattergl\": [{\"marker\": {\"colorbar\": {\"outlinewidth\": 0, \"ticks\": \"\"}}, \"type\": \"scattergl\"}], \"scattermapbox\": [{\"marker\": {\"colorbar\": {\"outlinewidth\": 0, \"ticks\": \"\"}}, \"type\": \"scattermapbox\"}], \"scatterpolar\": [{\"marker\": {\"colorbar\": {\"outlinewidth\": 0, \"ticks\": \"\"}}, \"type\": \"scatterpolar\"}], \"scatterpolargl\": [{\"marker\": {\"colorbar\": {\"outlinewidth\": 0, \"ticks\": \"\"}}, \"type\": \"scatterpolargl\"}], \"scatterternary\": [{\"marker\": {\"colorbar\": {\"outlinewidth\": 0, \"ticks\": \"\"}}, \"type\": \"scatterternary\"}], \"surface\": [{\"colorbar\": {\"outlinewidth\": 0, \"ticks\": \"\"}, \"colorscale\": [[0.0, \"#0d0887\"], [0.1111111111111111, \"#46039f\"], [0.2222222222222222, \"#7201a8\"], [0.3333333333333333, \"#9c179e\"], [0.4444444444444444, \"#bd3786\"], [0.5555555555555556, \"#d8576b\"], [0.6666666666666666, \"#ed7953\"], [0.7777777777777778, \"#fb9f3a\"], [0.8888888888888888, \"#fdca26\"], [1.0, \"#f0f921\"]], \"type\": \"surface\"}], \"table\": [{\"cells\": {\"fill\": {\"color\": \"#EBF0F8\"}, \"line\": {\"color\": \"white\"}}, \"header\": {\"fill\": {\"color\": \"#C8D4E3\"}, \"line\": {\"color\": \"white\"}}, \"type\": \"table\"}]}, \"layout\": {\"annotationdefaults\": {\"arrowcolor\": \"#2a3f5f\", \"arrowhead\": 0, \"arrowwidth\": 1}, \"coloraxis\": {\"colorbar\": {\"outlinewidth\": 0, \"ticks\": \"\"}}, \"colorscale\": {\"diverging\": [[0, \"#8e0152\"], [0.1, \"#c51b7d\"], [0.2, \"#de77ae\"], [0.3, \"#f1b6da\"], [0.4, \"#fde0ef\"], [0.5, \"#f7f7f7\"], [0.6, \"#e6f5d0\"], [0.7, \"#b8e186\"], [0.8, \"#7fbc41\"], [0.9, \"#4d9221\"], [1, \"#276419\"]], \"sequential\": [[0.0, \"#0d0887\"], [0.1111111111111111, \"#46039f\"], [0.2222222222222222, \"#7201a8\"], [0.3333333333333333, \"#9c179e\"], [0.4444444444444444, \"#bd3786\"], [0.5555555555555556, \"#d8576b\"], [0.6666666666666666, \"#ed7953\"], [0.7777777777777778, \"#fb9f3a\"], [0.8888888888888888, \"#fdca26\"], [1.0, \"#f0f921\"]], \"sequentialminus\": [[0.0, \"#0d0887\"], [0.1111111111111111, \"#46039f\"], [0.2222222222222222, \"#7201a8\"], [0.3333333333333333, \"#9c179e\"], [0.4444444444444444, \"#bd3786\"], [0.5555555555555556, \"#d8576b\"], [0.6666666666666666, \"#ed7953\"], [0.7777777777777778, \"#fb9f3a\"], [0.8888888888888888, \"#fdca26\"], [1.0, \"#f0f921\"]]}, \"colorway\": [\"#636efa\", \"#EF553B\", \"#00cc96\", \"#ab63fa\", \"#FFA15A\", \"#19d3f3\", \"#FF6692\", \"#B6E880\", \"#FF97FF\", \"#FECB52\"], \"font\": {\"color\": \"#2a3f5f\"}, \"geo\": {\"bgcolor\": \"white\", \"lakecolor\": \"white\", \"landcolor\": \"#E5ECF6\", \"showlakes\": true, \"showland\": true, \"subunitcolor\": \"white\"}, \"hoverlabel\": {\"align\": \"left\"}, \"hovermode\": \"closest\", \"mapbox\": {\"style\": \"light\"}, \"paper_bgcolor\": \"white\", \"plot_bgcolor\": \"#E5ECF6\", \"polar\": {\"angularaxis\": {\"gridcolor\": \"white\", \"linecolor\": \"white\", \"ticks\": \"\"}, \"bgcolor\": \"#E5ECF6\", \"radialaxis\": {\"gridcolor\": \"white\", \"linecolor\": \"white\", \"ticks\": \"\"}}, \"scene\": {\"xaxis\": {\"backgroundcolor\": \"#E5ECF6\", \"gridcolor\": \"white\", \"gridwidth\": 2, \"linecolor\": \"white\", \"showbackground\": true, \"ticks\": \"\", \"zerolinecolor\": \"white\"}, \"yaxis\": {\"backgroundcolor\": \"#E5ECF6\", \"gridcolor\": \"white\", \"gridwidth\": 2, \"linecolor\": \"white\", \"showbackground\": true, \"ticks\": \"\", \"zerolinecolor\": \"white\"}, \"zaxis\": {\"backgroundcolor\": \"#E5ECF6\", \"gridcolor\": \"white\", \"gridwidth\": 2, \"linecolor\": \"white\", \"showbackground\": true, \"ticks\": \"\", \"zerolinecolor\": \"white\"}}, \"shapedefaults\": {\"line\": {\"color\": \"#2a3f5f\"}}, \"ternary\": {\"aaxis\": {\"gridcolor\": \"white\", \"linecolor\": \"white\", \"ticks\": \"\"}, \"baxis\": {\"gridcolor\": \"white\", \"linecolor\": \"white\", \"ticks\": \"\"}, \"bgcolor\": \"#E5ECF6\", \"caxis\": {\"gridcolor\": \"white\", \"linecolor\": \"white\", \"ticks\": \"\"}}, \"title\": {\"x\": 0.05}, \"xaxis\": {\"automargin\": true, \"gridcolor\": \"white\", \"linecolor\": \"white\", \"ticks\": \"\", \"title\": {\"standoff\": 15}, \"zerolinecolor\": \"white\", \"zerolinewidth\": 2}, \"yaxis\": {\"automargin\": true, \"gridcolor\": \"white\", \"linecolor\": \"white\", \"ticks\": \"\", \"title\": {\"standoff\": 15}, \"zerolinecolor\": \"white\", \"zerolinewidth\": 2}}}, \"xaxis\": {\"anchor\": \"y\", \"domain\": [0.0, 1.0], \"range\": [34.294624, 677.066943], \"title\": {\"text\": \"\\uad50\\ud1b5\\uc0ac\\uace0\\ubc1c\\uc0dd\\uac74\\uc218\"}}, \"yaxis\": {\"anchor\": \"x\", \"domain\": [0.0, 1.0], \"range\": [5.07173, 163.604532], \"title\": {\"text\": \"\\uc74c\\uc8fc\\uad50\\ud1b5\\uc0ac\\uace0\\ubc1c\\uc0dd\\uac74\\uc218\"}}},\n",
       "                        {\"responsive\": true}\n",
       "                    ).then(function(){\n",
       "                            \n",
       "var gd = document.getElementById('15a53891-b441-4e16-996c-299ed6bdfa54');\n",
       "var x = new MutationObserver(function (mutations, observer) {{\n",
       "        var display = window.getComputedStyle(gd).display;\n",
       "        if (!display || display === 'none') {{\n",
       "            console.log([gd, 'removed!']);\n",
       "            Plotly.purge(gd);\n",
       "            observer.disconnect();\n",
       "        }}\n",
       "}});\n",
       "\n",
       "// Listen for the removal of the full notebook cells\n",
       "var notebookContainer = gd.closest('#notebook-container');\n",
       "if (notebookContainer) {{\n",
       "    x.observe(notebookContainer, {childList: true});\n",
       "}}\n",
       "\n",
       "// Listen for the clearing of the current output cell\n",
       "var outputEl = gd.closest('.output');\n",
       "if (outputEl) {{\n",
       "    x.observe(outputEl, {childList: true});\n",
       "}}\n",
       "\n",
       "                        })\n",
       "                };\n",
       "                });\n",
       "            </script>\n",
       "        </div>"
      ]
     },
     "metadata": {},
     "output_type": "display_data"
    }
   ],
   "source": [
    "#1)산점도로 회귀선 기준 타겟팅지역의 분포를 확인\n",
    "# scatter(x=\"교통사고 발생건수\", y=\"음주교통사고 발생비율\", color=\"group2\", df=sigungu_nxy,\n",
    "#         medianline=1, palette='picnic', hovername='지역', trendline='ols')\n",
    "scatter(x=\"교통사고발생건수\", y=\"음주교통사고발생건수\", color=\"group2_\", df=sigungu_nxy,\n",
    "        medianline=1, palette=darkorange,hovername='지역', trendline='ols')"
   ]
  },
  {
   "cell_type": "code",
   "execution_count": 237,
   "metadata": {},
   "outputs": [
    {
     "data": {
      "text/plain": [
       "음주교통사고발생비율               1.000000\n",
       "독거노인수                    0.773474\n",
       "고령인구수                    0.729859\n",
       "재난약자수                    0.725344\n",
       "주민등록인구(60세이상)            0.719405\n",
       "장애인수                     0.710104\n",
       "중학교수                     0.683018\n",
       "경찰관서수                    0.673253\n",
       "공무원수(정원)                 0.663760\n",
       "기초수급자수(65세이상)            0.663001\n",
       "노인 교통사고 사망자수             0.659646\n",
       "감염병 사망자수                 0.657864\n",
       "질병이환 및 사망외인으로 인한 사망자수    0.655797\n",
       "건강보험급여실적                 0.652297\n",
       "일인가구수                    0.631732\n",
       "교통사고사망자수                 0.628827\n",
       "학교수(초등학교)                0.606483\n",
       "기초수급자수                   0.573017\n",
       "학교수(고등학교)                0.542116\n",
       "건설업 업체수                  0.536210\n",
       "빈집수                      0.534480\n",
       "추락 사망자수                  0.483413\n",
       "자연재해위험개선지구 수             0.471563\n",
       "구조구급대원수                  0.468498\n",
       "화재 발생건수                  0.450371\n",
       "임야 면적                    0.444690\n",
       "노인 교통사고 부상자수             0.420745\n",
       "감염병                      0.399138\n",
       "행정구역 면적                  0.389994\n",
       "익사자수                     0.365515\n",
       "Name: 음주교통사고발생비율, dtype: float64"
      ]
     },
     "execution_count": 237,
     "metadata": {},
     "output_type": "execute_result"
    }
   ],
   "source": [
    "#음주교통사고에 영향있는 변수\n",
    "sigungu_nxy.corr(method='pearson').loc[:,'음주교통사고발생비율'].sort_values(ascending=False).head(30)"
   ]
  },
  {
   "cell_type": "code",
   "execution_count": null,
   "metadata": {},
   "outputs": [],
   "source": []
  },
  {
   "cell_type": "code",
   "execution_count": null,
   "metadata": {},
   "outputs": [],
   "source": []
  },
  {
   "cell_type": "code",
   "execution_count": null,
   "metadata": {},
   "outputs": [],
   "source": []
  },
  {
   "cell_type": "code",
   "execution_count": null,
   "metadata": {},
   "outputs": [],
   "source": []
  },
  {
   "cell_type": "code",
   "execution_count": null,
   "metadata": {},
   "outputs": [],
   "source": []
  },
  {
   "cell_type": "code",
   "execution_count": null,
   "metadata": {},
   "outputs": [],
   "source": []
  },
  {
   "cell_type": "code",
   "execution_count": null,
   "metadata": {},
   "outputs": [],
   "source": []
  },
  {
   "cell_type": "code",
   "execution_count": null,
   "metadata": {},
   "outputs": [],
   "source": []
  },
  {
   "cell_type": "code",
   "execution_count": null,
   "metadata": {},
   "outputs": [],
   "source": []
  },
  {
   "cell_type": "code",
   "execution_count": null,
   "metadata": {},
   "outputs": [],
   "source": []
  },
  {
   "cell_type": "code",
   "execution_count": null,
   "metadata": {},
   "outputs": [],
   "source": []
  },
  {
   "cell_type": "code",
   "execution_count": null,
   "metadata": {},
   "outputs": [],
   "source": []
  }
 ],
 "metadata": {
  "kernelspec": {
   "display_name": "Python 3",
   "language": "python",
   "name": "python3"
  },
  "language_info": {
   "codemirror_mode": {
    "name": "ipython",
    "version": 3
   },
   "file_extension": ".py",
   "mimetype": "text/x-python",
   "name": "python",
   "nbconvert_exporter": "python",
   "pygments_lexer": "ipython3",
   "version": "3.6.4"
  }
 },
 "nbformat": 4,
 "nbformat_minor": 2
}
