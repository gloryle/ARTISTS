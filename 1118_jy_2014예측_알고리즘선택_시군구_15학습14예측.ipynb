{
 "cells": [
  {
   "cell_type": "code",
   "execution_count": 1,
   "metadata": {},
   "outputs": [],
   "source": [
    "# 일단 2015데이터로 학습, 예측"
   ]
  },
  {
   "cell_type": "code",
   "execution_count": 2,
   "metadata": {},
   "outputs": [],
   "source": [
    "import pandas as pd\n",
    "import matplotlib.pyplot as plt\n",
    "import missingno as msno\n",
    "import numpy  as np\n",
    "import seaborn as sns\n",
    "%matplotlib inline\n",
    "\n",
    "path = './data/'\n",
    "pd.options.display.max_rows = 150\n",
    "pd.options.display.max_columns = 350\n",
    "plt.rc('font',family='Malgun Gothic')\n",
    "plt.rcParams['axes.unicode_minus'] = False"
   ]
  },
  {
   "cell_type": "code",
   "execution_count": 3,
   "metadata": {
    "scrolled": true
   },
   "outputs": [],
   "source": [
    "sigungu = pd.read_csv(path+'sigungu_imp_10.csv', encoding='cp949')\n",
    "sigungu_2 = pd.read_csv(path+'imp_시군구별지역안전지표_2014.csv', encoding='cp949')"
   ]
  },
  {
   "cell_type": "code",
   "execution_count": 4,
   "metadata": {},
   "outputs": [],
   "source": [
    "sigungu_y = sigungu.iloc[:,-7:] #등급(binary) - 15년, 14년도 \n",
    "sigungu_x_15 = sigungu.iloc[:,4:-7] #독립변수X - 15년 \n",
    "sigungu_name_15 = sigungu.iloc[:,:4] #이름 - 15년\n",
    "sigungu_x_14 = sigungu_2.iloc[:,3:]\n",
    "sigungu_name_14 = sigungu_2.iloc[:,:3]"
   ]
  },
  {
   "cell_type": "code",
   "execution_count": 53,
   "metadata": {},
   "outputs": [],
   "source": [
    "sigungu_y.columns = ['fire','transport','disaster','crime','accident','suicide','infection']"
   ]
  },
  {
   "cell_type": "markdown",
   "metadata": {},
   "source": [
    "### 표준화"
   ]
  },
  {
   "cell_type": "code",
   "execution_count": 5,
   "metadata": {},
   "outputs": [],
   "source": [
    "from sklearn.preprocessing import MinMaxScaler\n",
    "scaler = MinMaxScaler(feature_range=(0,1))\n",
    "sigungu_x_14scaled = scaler.fit_transform(sigungu_x_14)\n",
    "sigungu_x_15scaled = scaler.fit_transform(sigungu_x_15)"
   ]
  },
  {
   "cell_type": "code",
   "execution_count": 6,
   "metadata": {},
   "outputs": [
    {
     "data": {
      "text/plain": [
       "((226, 144), (226, 144))"
      ]
     },
     "execution_count": 6,
     "metadata": {},
     "output_type": "execute_result"
    }
   ],
   "source": [
    "sigungu_x_14scaled = pd.DataFrame(data = sigungu_x_14scaled)\n",
    "sigungu_x_15scaled = pd.DataFrame(data = sigungu_x_15scaled)\n",
    "sigungu_x_14scaled.columns = sigungu_x_14.columns\n",
    "sigungu_x_15scaled.columns = sigungu_x_15.columns\n",
    "sigungu_x_14scaled.shape,sigungu_x_15scaled.shape"
   ]
  },
  {
   "cell_type": "markdown",
   "metadata": {},
   "source": [
    "### 스코어함수들\n",
    "    * 상위 3개함수를 한번에 보는 score(model,x,y,pred)함수\n",
    "    - kfold_crossvalscore(): kfold의 평균 스코어들을 한번에 출력되도록 함\n",
    "    - metric_score(): 분류메트릭을 이용한 스코어들을 한번에 출력되도록 함\n",
    "    - confusion_matrix(y, pred)\n",
    "    \n",
    "    - paper(): 얼만큼 맞췄는지 확인해보려고\n",
    "    - classification report\n",
    "    - model.score()\n",
    "    \n",
    "    *한번에 roc커브 그리기"
   ]
  },
  {
   "cell_type": "code",
   "execution_count": 7,
   "metadata": {},
   "outputs": [],
   "source": [
    "#cross validation\n",
    "from sklearn.model_selection import cross_val_score\n",
    "from sklearn.model_selection import KFold\n",
    "cv = KFold(3, shuffle=True, random_state=0)\n",
    "def KFold_meanscore(ary):\n",
    "    tot = 0\n",
    "    for i in ary:\n",
    "        tot += i\n",
    "    return tot/len(ary),ary\n",
    "def kfold_crossvalscore(model, X, y, cv=cv):\n",
    "    ary1 = cross_val_score(model, X, y, cv=cv, scoring='f1', verbose=0)\n",
    "    ary2 = cross_val_score(model, X, y, cv=cv, scoring='accuracy', verbose=0)\n",
    "    ary3 = cross_val_score(model, X, y, cv=cv, scoring='precision', verbose=0)\n",
    "    ary4 = cross_val_score(model, X, y, cv=cv, scoring='recall', verbose=0)\n",
    "    print(f'f1-score:{KFold_meanscore(ary1)}')\n",
    "    print(f'accuracy:{KFold_meanscore(ary2)}')\n",
    "    print(f'precision:{KFold_meanscore(ary3)}')\n",
    "    print(f'recall:{KFold_meanscore(ary4)}')"
   ]
  },
  {
   "cell_type": "code",
   "execution_count": 8,
   "metadata": {},
   "outputs": [],
   "source": [
    "#metiric\n",
    "from sklearn.metrics import f1_score\n",
    "from sklearn.metrics import accuracy_score\n",
    "from sklearn.metrics import precision_score\n",
    "from sklearn.metrics import recall_score\n",
    "\n",
    "def metric_score(y, pred):\n",
    "    print(f'f1 :\\t\\t{f1_score(y,pred)}')\n",
    "    print(f'accuracy :\\t{accuracy_score(y,pred)}')\n",
    "    print(f'precision :\\t{precision_score(y, pred)}')\n",
    "    print(f'recall :\\t{recall_score(y, pred)}')"
   ]
  },
  {
   "cell_type": "code",
   "execution_count": 9,
   "metadata": {},
   "outputs": [],
   "source": [
    "#confusion matrix\n",
    "def confusion_matrix(y,pred):\n",
    "    confusion_matrix = pd.crosstab(y, pred, rownames=['True'], colnames=['Predicted'], margins=True)\n",
    "    return confusion_matrix"
   ]
  },
  {
   "cell_type": "code",
   "execution_count": 10,
   "metadata": {},
   "outputs": [],
   "source": [
    "#위 세개함수를 한번에 출력\n",
    "def score(model, x, y, pred):\n",
    "    print('[metric score]\\n\\n',metric_score(y,pred))\n",
    "    print('[kfold crossvalscore]\\n\\n',kfold_crossvalscore(model,x,y))\n",
    "    return confusion_matrix(y,pred)"
   ]
  },
  {
   "cell_type": "code",
   "execution_count": 11,
   "metadata": {},
   "outputs": [],
   "source": [
    "#정답지\n",
    "def paper(y, pred):\n",
    "    a = pd.DataFrame(data=pred,columns=['예측'])\n",
    "    b = pd.DataFrame(data=y)\n",
    "    return pd.concat([a,b],axis=1)"
   ]
  },
  {
   "cell_type": "code",
   "execution_count": 12,
   "metadata": {
    "scrolled": true
   },
   "outputs": [],
   "source": [
    "#추가사용: classification report\n",
    "from sklearn.metrics import classification_report\n",
    "# print(classification_report(sido_y.infection,pred_mlp, target_names=['123','45']))"
   ]
  },
  {
   "cell_type": "code",
   "execution_count": 13,
   "metadata": {},
   "outputs": [],
   "source": [
    "# 추가사용: model.score(x,y)\n",
    "# mlp.score(sigungu_x_15scaled, sigungu_y.infection)"
   ]
  },
  {
   "cell_type": "code",
   "execution_count": 74,
   "metadata": {},
   "outputs": [],
   "source": [
    "#사용모델 import\n",
    "from sklearn.neural_network import MLPClassifier\n",
    "from sklearn.ensemble import RandomForestClassifier\n",
    "from xgboost import XGBClassifier\n",
    "from lightgbm import LGBMClassifier\n",
    "from sklearn.svm import SVC\n",
    "from sklearn.linear_model import LogisticRegression\n",
    "from sklearn.linear_model import Perceptron\n",
    "from sklearn.tree import DecisionTreeClassifier\n",
    "import copy"
   ]
  },
  {
   "cell_type": "markdown",
   "metadata": {},
   "source": [
    "# model: MLP"
   ]
  },
  {
   "cell_type": "code",
   "execution_count": 14,
   "metadata": {},
   "outputs": [
    {
     "name": "stderr",
     "output_type": "stream",
     "text": [
      "C:\\Anaconda3\\lib\\site-packages\\sklearn\\neural_network\\multilayer_perceptron.py:566: ConvergenceWarning: Stochastic Optimizer: Maximum iterations (200) reached and the optimization hasn't converged yet.\n",
      "  % self.max_iter, ConvergenceWarning)\n"
     ]
    }
   ],
   "source": [
    "mlp = MLPClassifier(hidden_layer_sizes=(50,30))\n",
    "mlp.fit(sigungu_x_15scaled, sigungu_y.infection) #15스케일로학습\n",
    "pred_mlp = mlp.predict(sigungu_x_14scaled) #15스케일로예측"
   ]
  },
  {
   "cell_type": "code",
   "execution_count": 15,
   "metadata": {},
   "outputs": [
    {
     "name": "stdout",
     "output_type": "stream",
     "text": [
      "f1 :\t\t0.8679245283018868\n",
      "accuracy :\t0.9070796460176991\n",
      "precision :\t0.8734177215189873\n",
      "recall :\t0.8625\n",
      "[metric score]\n",
      "\n",
      " None\n"
     ]
    },
    {
     "name": "stderr",
     "output_type": "stream",
     "text": [
      "C:\\Anaconda3\\lib\\site-packages\\sklearn\\neural_network\\multilayer_perceptron.py:566: ConvergenceWarning: Stochastic Optimizer: Maximum iterations (200) reached and the optimization hasn't converged yet.\n",
      "  % self.max_iter, ConvergenceWarning)\n",
      "C:\\Anaconda3\\lib\\site-packages\\sklearn\\neural_network\\multilayer_perceptron.py:566: ConvergenceWarning: Stochastic Optimizer: Maximum iterations (200) reached and the optimization hasn't converged yet.\n",
      "  % self.max_iter, ConvergenceWarning)\n",
      "C:\\Anaconda3\\lib\\site-packages\\sklearn\\neural_network\\multilayer_perceptron.py:566: ConvergenceWarning: Stochastic Optimizer: Maximum iterations (200) reached and the optimization hasn't converged yet.\n",
      "  % self.max_iter, ConvergenceWarning)\n",
      "C:\\Anaconda3\\lib\\site-packages\\sklearn\\neural_network\\multilayer_perceptron.py:566: ConvergenceWarning: Stochastic Optimizer: Maximum iterations (200) reached and the optimization hasn't converged yet.\n",
      "  % self.max_iter, ConvergenceWarning)\n",
      "C:\\Anaconda3\\lib\\site-packages\\sklearn\\neural_network\\multilayer_perceptron.py:566: ConvergenceWarning: Stochastic Optimizer: Maximum iterations (200) reached and the optimization hasn't converged yet.\n",
      "  % self.max_iter, ConvergenceWarning)\n",
      "C:\\Anaconda3\\lib\\site-packages\\sklearn\\neural_network\\multilayer_perceptron.py:566: ConvergenceWarning: Stochastic Optimizer: Maximum iterations (200) reached and the optimization hasn't converged yet.\n",
      "  % self.max_iter, ConvergenceWarning)\n",
      "C:\\Anaconda3\\lib\\site-packages\\sklearn\\neural_network\\multilayer_perceptron.py:566: ConvergenceWarning: Stochastic Optimizer: Maximum iterations (200) reached and the optimization hasn't converged yet.\n",
      "  % self.max_iter, ConvergenceWarning)\n",
      "C:\\Anaconda3\\lib\\site-packages\\sklearn\\neural_network\\multilayer_perceptron.py:566: ConvergenceWarning: Stochastic Optimizer: Maximum iterations (200) reached and the optimization hasn't converged yet.\n",
      "  % self.max_iter, ConvergenceWarning)\n",
      "C:\\Anaconda3\\lib\\site-packages\\sklearn\\neural_network\\multilayer_perceptron.py:566: ConvergenceWarning: Stochastic Optimizer: Maximum iterations (200) reached and the optimization hasn't converged yet.\n",
      "  % self.max_iter, ConvergenceWarning)\n",
      "C:\\Anaconda3\\lib\\site-packages\\sklearn\\neural_network\\multilayer_perceptron.py:566: ConvergenceWarning: Stochastic Optimizer: Maximum iterations (200) reached and the optimization hasn't converged yet.\n",
      "  % self.max_iter, ConvergenceWarning)\n",
      "C:\\Anaconda3\\lib\\site-packages\\sklearn\\neural_network\\multilayer_perceptron.py:566: ConvergenceWarning: Stochastic Optimizer: Maximum iterations (200) reached and the optimization hasn't converged yet.\n",
      "  % self.max_iter, ConvergenceWarning)\n"
     ]
    },
    {
     "name": "stdout",
     "output_type": "stream",
     "text": [
      "f1-score:(0.6684796684796686, array([0.69230769, 0.69090909, 0.62222222]))\n",
      "accuracy:(0.7698830409356724, array([0.77631579, 0.77333333, 0.76      ]))\n",
      "precision:(0.7270002253775072, array([0.63333333, 0.72413793, 0.82352941]))\n",
      "recall:(0.706807310630399, array([0.82608696, 0.75862069, 0.53571429]))\n",
      "[kfold crossvalscore]\n",
      "\n",
      " None\n"
     ]
    },
    {
     "name": "stderr",
     "output_type": "stream",
     "text": [
      "C:\\Anaconda3\\lib\\site-packages\\sklearn\\neural_network\\multilayer_perceptron.py:566: ConvergenceWarning: Stochastic Optimizer: Maximum iterations (200) reached and the optimization hasn't converged yet.\n",
      "  % self.max_iter, ConvergenceWarning)\n"
     ]
    },
    {
     "data": {
      "text/html": [
       "<div>\n",
       "<style scoped>\n",
       "    .dataframe tbody tr th:only-of-type {\n",
       "        vertical-align: middle;\n",
       "    }\n",
       "\n",
       "    .dataframe tbody tr th {\n",
       "        vertical-align: top;\n",
       "    }\n",
       "\n",
       "    .dataframe thead th {\n",
       "        text-align: right;\n",
       "    }\n",
       "</style>\n",
       "<table border=\"1\" class=\"dataframe\">\n",
       "  <thead>\n",
       "    <tr style=\"text-align: right;\">\n",
       "      <th>Predicted</th>\n",
       "      <th>0</th>\n",
       "      <th>1</th>\n",
       "      <th>All</th>\n",
       "    </tr>\n",
       "    <tr>\n",
       "      <th>True</th>\n",
       "      <th></th>\n",
       "      <th></th>\n",
       "      <th></th>\n",
       "    </tr>\n",
       "  </thead>\n",
       "  <tbody>\n",
       "    <tr>\n",
       "      <td>0</td>\n",
       "      <td>136</td>\n",
       "      <td>10</td>\n",
       "      <td>146</td>\n",
       "    </tr>\n",
       "    <tr>\n",
       "      <td>1</td>\n",
       "      <td>11</td>\n",
       "      <td>69</td>\n",
       "      <td>80</td>\n",
       "    </tr>\n",
       "    <tr>\n",
       "      <td>All</td>\n",
       "      <td>147</td>\n",
       "      <td>79</td>\n",
       "      <td>226</td>\n",
       "    </tr>\n",
       "  </tbody>\n",
       "</table>\n",
       "</div>"
      ],
      "text/plain": [
       "Predicted    0   1  All\n",
       "True                   \n",
       "0          136  10  146\n",
       "1           11  69   80\n",
       "All        147  79  226"
      ]
     },
     "execution_count": 15,
     "metadata": {},
     "output_type": "execute_result"
    }
   ],
   "source": [
    "score(mlp, sigungu_x_14scaled, sigungu_y.infection, pred_mlp)"
   ]
  },
  {
   "cell_type": "markdown",
   "metadata": {},
   "source": [
    "# RFC"
   ]
  },
  {
   "cell_type": "code",
   "execution_count": 16,
   "metadata": {},
   "outputs": [],
   "source": [
    "rfc = RandomForestClassifier(n_estimators=10)\n",
    "rfc.fit(sigungu_x_15scaled, sigungu_y.infection)\n",
    "pred_rfc = rfc.predict(sigungu_x_14scaled)"
   ]
  },
  {
   "cell_type": "code",
   "execution_count": 17,
   "metadata": {},
   "outputs": [
    {
     "name": "stdout",
     "output_type": "stream",
     "text": [
      "f1 :\t\t0.8591549295774648\n",
      "accuracy :\t0.911504424778761\n",
      "precision :\t0.9838709677419355\n",
      "recall :\t0.7625\n",
      "[metric score]\n",
      "\n",
      " None\n",
      "f1-score:(0.6277145438121048, array([0.72      , 0.57777778, 0.58536585]))\n",
      "accuracy:(0.7387134502923978, array([0.78947368, 0.66666667, 0.76      ]))\n",
      "precision:(0.668599033816425, array([0.6       , 0.73913043, 0.66666667]))\n",
      "recall:(0.45014992503748125, array([0.65217391, 0.44827586, 0.25      ]))\n",
      "[kfold crossvalscore]\n",
      "\n",
      " None\n"
     ]
    },
    {
     "data": {
      "text/html": [
       "<div>\n",
       "<style scoped>\n",
       "    .dataframe tbody tr th:only-of-type {\n",
       "        vertical-align: middle;\n",
       "    }\n",
       "\n",
       "    .dataframe tbody tr th {\n",
       "        vertical-align: top;\n",
       "    }\n",
       "\n",
       "    .dataframe thead th {\n",
       "        text-align: right;\n",
       "    }\n",
       "</style>\n",
       "<table border=\"1\" class=\"dataframe\">\n",
       "  <thead>\n",
       "    <tr style=\"text-align: right;\">\n",
       "      <th>Predicted</th>\n",
       "      <th>0</th>\n",
       "      <th>1</th>\n",
       "      <th>All</th>\n",
       "    </tr>\n",
       "    <tr>\n",
       "      <th>True</th>\n",
       "      <th></th>\n",
       "      <th></th>\n",
       "      <th></th>\n",
       "    </tr>\n",
       "  </thead>\n",
       "  <tbody>\n",
       "    <tr>\n",
       "      <td>0</td>\n",
       "      <td>145</td>\n",
       "      <td>1</td>\n",
       "      <td>146</td>\n",
       "    </tr>\n",
       "    <tr>\n",
       "      <td>1</td>\n",
       "      <td>19</td>\n",
       "      <td>61</td>\n",
       "      <td>80</td>\n",
       "    </tr>\n",
       "    <tr>\n",
       "      <td>All</td>\n",
       "      <td>164</td>\n",
       "      <td>62</td>\n",
       "      <td>226</td>\n",
       "    </tr>\n",
       "  </tbody>\n",
       "</table>\n",
       "</div>"
      ],
      "text/plain": [
       "Predicted    0   1  All\n",
       "True                   \n",
       "0          145   1  146\n",
       "1           19  61   80\n",
       "All        164  62  226"
      ]
     },
     "execution_count": 17,
     "metadata": {},
     "output_type": "execute_result"
    }
   ],
   "source": [
    "score(rfc, sigungu_x_14scaled, sigungu_y.infection, pred_rfc)"
   ]
  },
  {
   "cell_type": "markdown",
   "metadata": {},
   "source": [
    "# XGB"
   ]
  },
  {
   "cell_type": "code",
   "execution_count": 18,
   "metadata": {},
   "outputs": [],
   "source": [
    "xgb = XGBClassifier(max_depth=10, n_estimators=200, learning_rate=0.01)\n",
    "xgb.fit(sigungu_x_15scaled, sigungu_y.infection)\n",
    "pred_xgb = xgb.predict(sigungu_x_14scaled)"
   ]
  },
  {
   "cell_type": "code",
   "execution_count": 19,
   "metadata": {},
   "outputs": [
    {
     "name": "stdout",
     "output_type": "stream",
     "text": [
      "f1 :\t\t0.703125\n",
      "accuracy :\t0.831858407079646\n",
      "precision :\t0.9375\n",
      "recall :\t0.5625\n",
      "[metric score]\n",
      "\n",
      " None\n",
      "f1-score:(0.713327721661055, array([0.74074074, 0.69090909, 0.70833333]))\n",
      "accuracy:(0.8008187134502923, array([0.81578947, 0.77333333, 0.81333333]))\n",
      "precision:(0.7419768403639372, array([0.64516129, 0.73076923, 0.85      ]))\n",
      "recall:(0.7106268294424217, array([0.86956522, 0.65517241, 0.60714286]))\n",
      "[kfold crossvalscore]\n",
      "\n",
      " None\n"
     ]
    },
    {
     "data": {
      "text/html": [
       "<div>\n",
       "<style scoped>\n",
       "    .dataframe tbody tr th:only-of-type {\n",
       "        vertical-align: middle;\n",
       "    }\n",
       "\n",
       "    .dataframe tbody tr th {\n",
       "        vertical-align: top;\n",
       "    }\n",
       "\n",
       "    .dataframe thead th {\n",
       "        text-align: right;\n",
       "    }\n",
       "</style>\n",
       "<table border=\"1\" class=\"dataframe\">\n",
       "  <thead>\n",
       "    <tr style=\"text-align: right;\">\n",
       "      <th>Predicted</th>\n",
       "      <th>0</th>\n",
       "      <th>1</th>\n",
       "      <th>All</th>\n",
       "    </tr>\n",
       "    <tr>\n",
       "      <th>True</th>\n",
       "      <th></th>\n",
       "      <th></th>\n",
       "      <th></th>\n",
       "    </tr>\n",
       "  </thead>\n",
       "  <tbody>\n",
       "    <tr>\n",
       "      <td>0</td>\n",
       "      <td>143</td>\n",
       "      <td>3</td>\n",
       "      <td>146</td>\n",
       "    </tr>\n",
       "    <tr>\n",
       "      <td>1</td>\n",
       "      <td>35</td>\n",
       "      <td>45</td>\n",
       "      <td>80</td>\n",
       "    </tr>\n",
       "    <tr>\n",
       "      <td>All</td>\n",
       "      <td>178</td>\n",
       "      <td>48</td>\n",
       "      <td>226</td>\n",
       "    </tr>\n",
       "  </tbody>\n",
       "</table>\n",
       "</div>"
      ],
      "text/plain": [
       "Predicted    0   1  All\n",
       "True                   \n",
       "0          143   3  146\n",
       "1           35  45   80\n",
       "All        178  48  226"
      ]
     },
     "execution_count": 19,
     "metadata": {},
     "output_type": "execute_result"
    }
   ],
   "source": [
    "score(xgb, sigungu_x_14scaled, sigungu_y.infection, pred_xgb)"
   ]
  },
  {
   "cell_type": "markdown",
   "metadata": {},
   "source": [
    "# LGBM"
   ]
  },
  {
   "cell_type": "code",
   "execution_count": 37,
   "metadata": {},
   "outputs": [
    {
     "name": "stderr",
     "output_type": "stream",
     "text": [
      "C:\\Anaconda3\\lib\\site-packages\\lightgbm\\engine.py:148: UserWarning: Found `num_boost_round` in params. Will use it instead of argument\n",
      "  warnings.warn(\"Found `{}` in params. Will use it instead of argument\".format(alias))\n"
     ]
    }
   ],
   "source": [
    "import copy#lgbm은 아스키 코드값만 입력받기 때문에 한글을 다 숫자로 바뀌주기\n",
    "lgbm_sigungu = b = copy.deepcopy(sigungu_x_14scaled) \n",
    "lgbm_sigungu.columns = list(range(144))\n",
    "lgbm= LGBMClassifier(n_estimators=200,num_boost_round =500,learning_rate =0.01)\n",
    "lgbm.fit(lgbm_sigungu, infection)\n",
    "pred_lgbm = lgbm.predict(sigungu_x_14scaled)"
   ]
  },
  {
   "cell_type": "code",
   "execution_count": 38,
   "metadata": {},
   "outputs": [
    {
     "name": "stdout",
     "output_type": "stream",
     "text": [
      "f1 :\t\t1.0\n",
      "accuracy :\t1.0\n",
      "precision :\t1.0\n",
      "recall :\t1.0\n",
      "[metric score]\n",
      "\n",
      " None\n"
     ]
    },
    {
     "name": "stderr",
     "output_type": "stream",
     "text": [
      "C:\\Anaconda3\\lib\\site-packages\\lightgbm\\engine.py:148: UserWarning: Found `num_boost_round` in params. Will use it instead of argument\n",
      "  warnings.warn(\"Found `{}` in params. Will use it instead of argument\".format(alias))\n"
     ]
    },
    {
     "name": "stdout",
     "output_type": "stream",
     "text": [
      "f1-score:(0.7402550091074681, array([0.8       , 0.75409836, 0.66666667]))\n",
      "accuracy:(0.8183625730994152, array([0.86842105, 0.8       , 0.78666667]))\n",
      "precision:(0.7531635802469135, array([0.74074074, 0.71875   , 0.8       ]))\n",
      "recall:(0.7446990790319127, array([0.86956522, 0.79310345, 0.57142857]))\n",
      "[kfold crossvalscore]\n",
      "\n",
      " None\n"
     ]
    },
    {
     "data": {
      "text/html": [
       "<div>\n",
       "<style scoped>\n",
       "    .dataframe tbody tr th:only-of-type {\n",
       "        vertical-align: middle;\n",
       "    }\n",
       "\n",
       "    .dataframe tbody tr th {\n",
       "        vertical-align: top;\n",
       "    }\n",
       "\n",
       "    .dataframe thead th {\n",
       "        text-align: right;\n",
       "    }\n",
       "</style>\n",
       "<table border=\"1\" class=\"dataframe\">\n",
       "  <thead>\n",
       "    <tr style=\"text-align: right;\">\n",
       "      <th>Predicted</th>\n",
       "      <th>0</th>\n",
       "      <th>1</th>\n",
       "      <th>All</th>\n",
       "    </tr>\n",
       "    <tr>\n",
       "      <th>True</th>\n",
       "      <th></th>\n",
       "      <th></th>\n",
       "      <th></th>\n",
       "    </tr>\n",
       "  </thead>\n",
       "  <tbody>\n",
       "    <tr>\n",
       "      <td>0</td>\n",
       "      <td>146</td>\n",
       "      <td>0</td>\n",
       "      <td>146</td>\n",
       "    </tr>\n",
       "    <tr>\n",
       "      <td>1</td>\n",
       "      <td>0</td>\n",
       "      <td>80</td>\n",
       "      <td>80</td>\n",
       "    </tr>\n",
       "    <tr>\n",
       "      <td>All</td>\n",
       "      <td>146</td>\n",
       "      <td>80</td>\n",
       "      <td>226</td>\n",
       "    </tr>\n",
       "  </tbody>\n",
       "</table>\n",
       "</div>"
      ],
      "text/plain": [
       "Predicted    0   1  All\n",
       "True                   \n",
       "0          146   0  146\n",
       "1            0  80   80\n",
       "All        146  80  226"
      ]
     },
     "execution_count": 38,
     "metadata": {},
     "output_type": "execute_result"
    }
   ],
   "source": [
    "score(lgbm, lgbm_sigungu, sigungu_y.infection , pred_lgbm)"
   ]
  },
  {
   "cell_type": "markdown",
   "metadata": {},
   "source": [
    "# SVC"
   ]
  },
  {
   "cell_type": "code",
   "execution_count": 75,
   "metadata": {},
   "outputs": [],
   "source": [
    "svc = SVC(gamma=0.0001, C=3000, probability=True)\n",
    "svc.fit(sigungu_x_15scaled, sigungu_y.infection)\n",
    "pred_svc = svc.predict(sigungu_x_14scaled)"
   ]
  },
  {
   "cell_type": "code",
   "execution_count": 76,
   "metadata": {},
   "outputs": [
    {
     "name": "stdout",
     "output_type": "stream",
     "text": [
      "f1 :\t\t0.8627450980392157\n",
      "accuracy :\t0.9070796460176991\n",
      "precision :\t0.9041095890410958\n",
      "recall :\t0.825\n",
      "[metric score]\n",
      "\n",
      " None\n",
      "f1-score:(0.7150528804280203, array([0.72      , 0.70175439, 0.72340426]))\n",
      "accuracy:(0.8052631578947368, array([0.81578947, 0.77333333, 0.82666667]))\n",
      "precision:(0.7585630743525481, array([0.66666667, 0.71428571, 0.89473684]))\n",
      "recall:(0.6931355750696081, array([0.7826087 , 0.68965517, 0.60714286]))\n",
      "[kfold crossvalscore]\n",
      "\n",
      " None\n"
     ]
    },
    {
     "data": {
      "text/html": [
       "<div>\n",
       "<style scoped>\n",
       "    .dataframe tbody tr th:only-of-type {\n",
       "        vertical-align: middle;\n",
       "    }\n",
       "\n",
       "    .dataframe tbody tr th {\n",
       "        vertical-align: top;\n",
       "    }\n",
       "\n",
       "    .dataframe thead th {\n",
       "        text-align: right;\n",
       "    }\n",
       "</style>\n",
       "<table border=\"1\" class=\"dataframe\">\n",
       "  <thead>\n",
       "    <tr style=\"text-align: right;\">\n",
       "      <th>Predicted</th>\n",
       "      <th>0</th>\n",
       "      <th>1</th>\n",
       "      <th>All</th>\n",
       "    </tr>\n",
       "    <tr>\n",
       "      <th>True</th>\n",
       "      <th></th>\n",
       "      <th></th>\n",
       "      <th></th>\n",
       "    </tr>\n",
       "  </thead>\n",
       "  <tbody>\n",
       "    <tr>\n",
       "      <td>0</td>\n",
       "      <td>139</td>\n",
       "      <td>7</td>\n",
       "      <td>146</td>\n",
       "    </tr>\n",
       "    <tr>\n",
       "      <td>1</td>\n",
       "      <td>14</td>\n",
       "      <td>66</td>\n",
       "      <td>80</td>\n",
       "    </tr>\n",
       "    <tr>\n",
       "      <td>All</td>\n",
       "      <td>153</td>\n",
       "      <td>73</td>\n",
       "      <td>226</td>\n",
       "    </tr>\n",
       "  </tbody>\n",
       "</table>\n",
       "</div>"
      ],
      "text/plain": [
       "Predicted    0   1  All\n",
       "True                   \n",
       "0          139   7  146\n",
       "1           14  66   80\n",
       "All        153  73  226"
      ]
     },
     "execution_count": 76,
     "metadata": {},
     "output_type": "execute_result"
    }
   ],
   "source": [
    "score(svc, sigungu_x_14scaled, sigungu_y.infection, pred_svc)"
   ]
  },
  {
   "cell_type": "markdown",
   "metadata": {},
   "source": [
    "# Logistic Regression"
   ]
  },
  {
   "cell_type": "code",
   "execution_count": 79,
   "metadata": {},
   "outputs": [
    {
     "name": "stderr",
     "output_type": "stream",
     "text": [
      "C:\\Anaconda3\\lib\\site-packages\\sklearn\\linear_model\\logistic.py:432: FutureWarning: Default solver will be changed to 'lbfgs' in 0.22. Specify a solver to silence this warning.\n",
      "  FutureWarning)\n"
     ]
    }
   ],
   "source": [
    "lr = LogisticRegression()\n",
    "lr.fit(sigungu_x_15scaled, sigungu_y.infection)\n",
    "pred_lr = lr.predict(sigungu_x_14scaled)"
   ]
  },
  {
   "cell_type": "code",
   "execution_count": 80,
   "metadata": {},
   "outputs": [
    {
     "name": "stdout",
     "output_type": "stream",
     "text": [
      "f1 :\t\t0.8496732026143791\n",
      "accuracy :\t0.8982300884955752\n",
      "precision :\t0.8904109589041096\n",
      "recall :\t0.8125\n",
      "[metric score]\n",
      "\n",
      " None\n",
      "f1-score:(0.7151048218029349, array([0.72      , 0.71698113, 0.70833333]))\n",
      "accuracy:(0.8097076023391813, array([0.81578947, 0.8       , 0.81333333]))\n",
      "precision:(0.7694444444444444, array([0.66666667, 0.79166667, 0.85      ]))\n",
      "recall:(0.6816413221960449, array([0.7826087 , 0.65517241, 0.60714286]))\n",
      "[kfold crossvalscore]\n",
      "\n",
      " None\n"
     ]
    },
    {
     "name": "stderr",
     "output_type": "stream",
     "text": [
      "C:\\Anaconda3\\lib\\site-packages\\sklearn\\linear_model\\logistic.py:432: FutureWarning: Default solver will be changed to 'lbfgs' in 0.22. Specify a solver to silence this warning.\n",
      "  FutureWarning)\n",
      "C:\\Anaconda3\\lib\\site-packages\\sklearn\\linear_model\\logistic.py:432: FutureWarning: Default solver will be changed to 'lbfgs' in 0.22. Specify a solver to silence this warning.\n",
      "  FutureWarning)\n",
      "C:\\Anaconda3\\lib\\site-packages\\sklearn\\linear_model\\logistic.py:432: FutureWarning: Default solver will be changed to 'lbfgs' in 0.22. Specify a solver to silence this warning.\n",
      "  FutureWarning)\n",
      "C:\\Anaconda3\\lib\\site-packages\\sklearn\\linear_model\\logistic.py:432: FutureWarning: Default solver will be changed to 'lbfgs' in 0.22. Specify a solver to silence this warning.\n",
      "  FutureWarning)\n",
      "C:\\Anaconda3\\lib\\site-packages\\sklearn\\linear_model\\logistic.py:432: FutureWarning: Default solver will be changed to 'lbfgs' in 0.22. Specify a solver to silence this warning.\n",
      "  FutureWarning)\n",
      "C:\\Anaconda3\\lib\\site-packages\\sklearn\\linear_model\\logistic.py:432: FutureWarning: Default solver will be changed to 'lbfgs' in 0.22. Specify a solver to silence this warning.\n",
      "  FutureWarning)\n",
      "C:\\Anaconda3\\lib\\site-packages\\sklearn\\linear_model\\logistic.py:432: FutureWarning: Default solver will be changed to 'lbfgs' in 0.22. Specify a solver to silence this warning.\n",
      "  FutureWarning)\n",
      "C:\\Anaconda3\\lib\\site-packages\\sklearn\\linear_model\\logistic.py:432: FutureWarning: Default solver will be changed to 'lbfgs' in 0.22. Specify a solver to silence this warning.\n",
      "  FutureWarning)\n",
      "C:\\Anaconda3\\lib\\site-packages\\sklearn\\linear_model\\logistic.py:432: FutureWarning: Default solver will be changed to 'lbfgs' in 0.22. Specify a solver to silence this warning.\n",
      "  FutureWarning)\n",
      "C:\\Anaconda3\\lib\\site-packages\\sklearn\\linear_model\\logistic.py:432: FutureWarning: Default solver will be changed to 'lbfgs' in 0.22. Specify a solver to silence this warning.\n",
      "  FutureWarning)\n",
      "C:\\Anaconda3\\lib\\site-packages\\sklearn\\linear_model\\logistic.py:432: FutureWarning: Default solver will be changed to 'lbfgs' in 0.22. Specify a solver to silence this warning.\n",
      "  FutureWarning)\n",
      "C:\\Anaconda3\\lib\\site-packages\\sklearn\\linear_model\\logistic.py:432: FutureWarning: Default solver will be changed to 'lbfgs' in 0.22. Specify a solver to silence this warning.\n",
      "  FutureWarning)\n"
     ]
    },
    {
     "data": {
      "text/html": [
       "<div>\n",
       "<style scoped>\n",
       "    .dataframe tbody tr th:only-of-type {\n",
       "        vertical-align: middle;\n",
       "    }\n",
       "\n",
       "    .dataframe tbody tr th {\n",
       "        vertical-align: top;\n",
       "    }\n",
       "\n",
       "    .dataframe thead th {\n",
       "        text-align: right;\n",
       "    }\n",
       "</style>\n",
       "<table border=\"1\" class=\"dataframe\">\n",
       "  <thead>\n",
       "    <tr style=\"text-align: right;\">\n",
       "      <th>Predicted</th>\n",
       "      <th>0</th>\n",
       "      <th>1</th>\n",
       "      <th>All</th>\n",
       "    </tr>\n",
       "    <tr>\n",
       "      <th>True</th>\n",
       "      <th></th>\n",
       "      <th></th>\n",
       "      <th></th>\n",
       "    </tr>\n",
       "  </thead>\n",
       "  <tbody>\n",
       "    <tr>\n",
       "      <td>0</td>\n",
       "      <td>138</td>\n",
       "      <td>8</td>\n",
       "      <td>146</td>\n",
       "    </tr>\n",
       "    <tr>\n",
       "      <td>1</td>\n",
       "      <td>15</td>\n",
       "      <td>65</td>\n",
       "      <td>80</td>\n",
       "    </tr>\n",
       "    <tr>\n",
       "      <td>All</td>\n",
       "      <td>153</td>\n",
       "      <td>73</td>\n",
       "      <td>226</td>\n",
       "    </tr>\n",
       "  </tbody>\n",
       "</table>\n",
       "</div>"
      ],
      "text/plain": [
       "Predicted    0   1  All\n",
       "True                   \n",
       "0          138   8  146\n",
       "1           15  65   80\n",
       "All        153  73  226"
      ]
     },
     "execution_count": 80,
     "metadata": {},
     "output_type": "execute_result"
    }
   ],
   "source": [
    "score(lr, sigungu_x_14scaled, sigungu_y.infection, pred_lr)"
   ]
  },
  {
   "cell_type": "markdown",
   "metadata": {},
   "source": [
    "# Perceptron"
   ]
  },
  {
   "cell_type": "code",
   "execution_count": 83,
   "metadata": {},
   "outputs": [],
   "source": [
    "pcp = Perceptron()\n",
    "pcp.fit(sigungu_x_15scaled, sigungu_y.infection)\n",
    "pred_pcp = pcp.predict(sigungu_x_14scaled)"
   ]
  },
  {
   "cell_type": "code",
   "execution_count": 84,
   "metadata": {},
   "outputs": [
    {
     "name": "stdout",
     "output_type": "stream",
     "text": [
      "f1 :\t\t0.84472049689441\n",
      "accuracy :\t0.8893805309734514\n",
      "precision :\t0.8395061728395061\n",
      "recall :\t0.85\n",
      "[metric score]\n",
      "\n",
      " None\n",
      "f1-score:(0.6982323232323232, array([0.63636364, 0.75      , 0.70833333]))\n",
      "accuracy:(0.8053801169590643, array([0.78947368, 0.81333333, 0.81333333]))\n",
      "precision:(0.7648148148148147, array([0.66666667, 0.77777778, 0.85      ]))\n",
      "recall:(0.6466588134504176, array([0.60869565, 0.72413793, 0.60714286]))\n",
      "[kfold crossvalscore]\n",
      "\n",
      " None\n"
     ]
    },
    {
     "data": {
      "text/html": [
       "<div>\n",
       "<style scoped>\n",
       "    .dataframe tbody tr th:only-of-type {\n",
       "        vertical-align: middle;\n",
       "    }\n",
       "\n",
       "    .dataframe tbody tr th {\n",
       "        vertical-align: top;\n",
       "    }\n",
       "\n",
       "    .dataframe thead th {\n",
       "        text-align: right;\n",
       "    }\n",
       "</style>\n",
       "<table border=\"1\" class=\"dataframe\">\n",
       "  <thead>\n",
       "    <tr style=\"text-align: right;\">\n",
       "      <th>Predicted</th>\n",
       "      <th>0</th>\n",
       "      <th>1</th>\n",
       "      <th>All</th>\n",
       "    </tr>\n",
       "    <tr>\n",
       "      <th>True</th>\n",
       "      <th></th>\n",
       "      <th></th>\n",
       "      <th></th>\n",
       "    </tr>\n",
       "  </thead>\n",
       "  <tbody>\n",
       "    <tr>\n",
       "      <td>0</td>\n",
       "      <td>133</td>\n",
       "      <td>13</td>\n",
       "      <td>146</td>\n",
       "    </tr>\n",
       "    <tr>\n",
       "      <td>1</td>\n",
       "      <td>12</td>\n",
       "      <td>68</td>\n",
       "      <td>80</td>\n",
       "    </tr>\n",
       "    <tr>\n",
       "      <td>All</td>\n",
       "      <td>145</td>\n",
       "      <td>81</td>\n",
       "      <td>226</td>\n",
       "    </tr>\n",
       "  </tbody>\n",
       "</table>\n",
       "</div>"
      ],
      "text/plain": [
       "Predicted    0   1  All\n",
       "True                   \n",
       "0          133  13  146\n",
       "1           12  68   80\n",
       "All        145  81  226"
      ]
     },
     "execution_count": 84,
     "metadata": {},
     "output_type": "execute_result"
    }
   ],
   "source": [
    "score(pcp, sigungu_x_14scaled, sigungu_y.infection, pred_pcp)"
   ]
  },
  {
   "cell_type": "markdown",
   "metadata": {},
   "source": [
    "# Decision Tree"
   ]
  },
  {
   "cell_type": "code",
   "execution_count": 86,
   "metadata": {},
   "outputs": [],
   "source": [
    "dtc = DecisionTreeClassifier()\n",
    "dtc.fit(sigungu_x_15scaled, sigungu_y.infection)\n",
    "pred_dtc = pcp.predict(sigungu_x_14scaled)"
   ]
  },
  {
   "cell_type": "code",
   "execution_count": 87,
   "metadata": {},
   "outputs": [
    {
     "name": "stdout",
     "output_type": "stream",
     "text": [
      "f1 :\t\t0.84472049689441\n",
      "accuracy :\t0.8893805309734514\n",
      "precision :\t0.8395061728395061\n",
      "recall :\t0.85\n",
      "[metric score]\n",
      "\n",
      " None\n",
      "f1-score:(0.605379188712522, array([0.58333333, 0.6031746 , 0.62962963]))\n",
      "accuracy:(0.7169005847953217, array([0.69736842, 0.72      , 0.73333333]))\n",
      "precision:(0.6177777777777776, array([0.52      , 0.66666667, 0.66666667]))\n",
      "recall:(0.6530663239808666, array([0.69565217, 0.62068966, 0.64285714]))\n",
      "[kfold crossvalscore]\n",
      "\n",
      " None\n"
     ]
    },
    {
     "data": {
      "text/html": [
       "<div>\n",
       "<style scoped>\n",
       "    .dataframe tbody tr th:only-of-type {\n",
       "        vertical-align: middle;\n",
       "    }\n",
       "\n",
       "    .dataframe tbody tr th {\n",
       "        vertical-align: top;\n",
       "    }\n",
       "\n",
       "    .dataframe thead th {\n",
       "        text-align: right;\n",
       "    }\n",
       "</style>\n",
       "<table border=\"1\" class=\"dataframe\">\n",
       "  <thead>\n",
       "    <tr style=\"text-align: right;\">\n",
       "      <th>Predicted</th>\n",
       "      <th>0</th>\n",
       "      <th>1</th>\n",
       "      <th>All</th>\n",
       "    </tr>\n",
       "    <tr>\n",
       "      <th>True</th>\n",
       "      <th></th>\n",
       "      <th></th>\n",
       "      <th></th>\n",
       "    </tr>\n",
       "  </thead>\n",
       "  <tbody>\n",
       "    <tr>\n",
       "      <td>0</td>\n",
       "      <td>133</td>\n",
       "      <td>13</td>\n",
       "      <td>146</td>\n",
       "    </tr>\n",
       "    <tr>\n",
       "      <td>1</td>\n",
       "      <td>12</td>\n",
       "      <td>68</td>\n",
       "      <td>80</td>\n",
       "    </tr>\n",
       "    <tr>\n",
       "      <td>All</td>\n",
       "      <td>145</td>\n",
       "      <td>81</td>\n",
       "      <td>226</td>\n",
       "    </tr>\n",
       "  </tbody>\n",
       "</table>\n",
       "</div>"
      ],
      "text/plain": [
       "Predicted    0   1  All\n",
       "True                   \n",
       "0          133  13  146\n",
       "1           12  68   80\n",
       "All        145  81  226"
      ]
     },
     "execution_count": 87,
     "metadata": {},
     "output_type": "execute_result"
    }
   ],
   "source": [
    "score(dtc, sigungu_x_14scaled, sigungu_y.infection, pred_dtc)"
   ]
  },
  {
   "cell_type": "markdown",
   "metadata": {},
   "source": [
    "# AUC / ROC"
   ]
  },
  {
   "cell_type": "code",
   "execution_count": 88,
   "metadata": {},
   "outputs": [],
   "source": [
    "#AUC: AreaUnderCurve는 1에 가까울 수록 좋음\n",
    "from sklearn.metrics import roc_curve\n",
    "fpr1, tpr1, thresholds1 = roc_curve(sigungu_y.infection, lr.decision_function(sigungu_x_15scaled))\n",
    "fpr2, tpr2, thresholds2 = roc_curve(sigungu_y.infection, svc.decision_function(sigungu_x_15scaled))\n",
    "fpr3, tpr3, thresholds3 = roc_curve(sigungu_y.infection, pcp.decision_function(sigungu_x_15scaled))\n",
    "#no mlp, xgb, dtc, lgbm, rfc"
   ]
  },
  {
   "cell_type": "code",
   "execution_count": 89,
   "metadata": {},
   "outputs": [
    {
     "data": {
      "text/plain": [
       "(0.9774828767123288, 0.9863013698630136, 0.9982876712328768)"
      ]
     },
     "execution_count": 89,
     "metadata": {},
     "output_type": "execute_result"
    }
   ],
   "source": [
    "from sklearn.metrics import auc\n",
    "auc(fpr1,tpr1), auc(fpr2, tpr2), auc(fpr3, tpr3)\n",
    "#auc of model1, auc of model2"
   ]
  },
  {
   "cell_type": "code",
   "execution_count": 90,
   "metadata": {
    "scrolled": true
   },
   "outputs": [
    {
     "data": {
      "text/plain": [
       "[<matplotlib.lines.Line2D at 0x1c1a05c0>]"
      ]
     },
     "execution_count": 90,
     "metadata": {},
     "output_type": "execute_result"
    },
    {
     "data": {
      "image/png": "[encoded data removed]",
      "text/plain": [
       "<Figure size 432x288 with 1 Axes>"
      ]
     },
     "metadata": {},
     "output_type": "display_data"
    }
   ],
   "source": [
    "#roc커브 시각화\n",
    "plt.title('Receiver operating characteristic example')\n",
    "plt.xlabel('False Positive Rate (Fall-out)')\n",
    "plt.ylabel('True Positive Rate (Recall)')\n",
    "plt.plot(fpr1, tpr1, label='Logistic Regression')\n",
    "plt.plot(fpr2, tpr2, label='SVC')\n",
    "plt.plot(fpr3, tpr3, label='Perceptron')\n",
    "plt.legend()\n",
    "\n",
    "plt.plot([1,0],[1,0],'k--',label='random gu ess') ## 수정해야됨"
   ]
  },
  {
   "cell_type": "markdown",
   "metadata": {},
   "source": [
    "# GridSearchCV"
   ]
  },
  {
   "cell_type": "code",
   "execution_count": 39,
   "metadata": {},
   "outputs": [],
   "source": [
    "from sklearn.feature_selection import SelectKBest\n",
    "model_kbest = SelectKBest()\n",
    "from sklearn.pipeline import Pipeline\n",
    "from sklearn.model_selection import GridSearchCV"
   ]
  },
  {
   "cell_type": "markdown",
   "metadata": {},
   "source": [
    "### cv: MLP"
   ]
  },
  {
   "cell_type": "code",
   "execution_count": 51,
   "metadata": {},
   "outputs": [
    {
     "name": "stdout",
     "output_type": "stream",
     "text": [
      "Fitting 3 folds for each of 270 candidates, totalling 810 fits\n"
     ]
    },
    {
     "name": "stderr",
     "output_type": "stream",
     "text": [
      "[Parallel(n_jobs=-1)]: Using backend LokyBackend with 8 concurrent workers.\n",
      "[Parallel(n_jobs=-1)]: Done  34 tasks      | elapsed:    1.2s\n",
      "[Parallel(n_jobs=-1)]: Done 184 tasks      | elapsed:    5.0s\n",
      "[Parallel(n_jobs=-1)]: Done 434 tasks      | elapsed:   15.2s\n",
      "[Parallel(n_jobs=-1)]: Done 784 tasks      | elapsed:   33.8s\n",
      "[Parallel(n_jobs=-1)]: Done 810 out of 810 | elapsed:   35.0s finished\n",
      "C:\\Anaconda3\\lib\\site-packages\\sklearn\\model_selection\\_search.py:814: DeprecationWarning: The default of the `iid` parameter will change from True to False in version 0.22 and will be removed in 0.24. This will change numeric results when test-set sizes are unequal.\n",
      "  DeprecationWarning)\n",
      "C:\\Anaconda3\\lib\\site-packages\\sklearn\\neural_network\\multilayer_perceptron.py:566: ConvergenceWarning: Stochastic Optimizer: Maximum iterations (200) reached and the optimization hasn't converged yet.\n",
      "  % self.max_iter, ConvergenceWarning)\n"
     ]
    },
    {
     "data": {
      "text/plain": [
       "Pipeline(memory=None,\n",
       "         steps=[('kbest',\n",
       "                 SelectKBest(k=144,\n",
       "                             score_func=<function f_classif at 0x000000001BC6C840>)),\n",
       "                ('mlp',\n",
       "                 MLPClassifier(activation='relu', alpha=0.0003,\n",
       "                               batch_size='auto', beta_1=0.9, beta_2=0.999,\n",
       "                               early_stopping=False, epsilon=1e-08,\n",
       "                               hidden_layer_sizes=(20, 40, 40, 20),\n",
       "                               learning_rate='adaptive',\n",
       "                               learning_rate_init=0.001, max_iter=200,\n",
       "                               momentum=0.9, n_iter_no_change=10,\n",
       "                               nesterovs_momentum=True, power_t=0.5,\n",
       "                               random_state=None, shuffle=True, solver='adam',\n",
       "                               tol=0.0001, validation_fraction=0.1,\n",
       "                               verbose=False, warm_start=False))],\n",
       "         verbose=False)"
      ]
     },
     "execution_count": 51,
     "metadata": {},
     "output_type": "execute_result"
    }
   ],
   "source": [
    "#파이프라인 생성\n",
    "pipe_mlp = Pipeline([(\"kbest\", model_kbest),('mlp',mlp)])\n",
    "#파라미터 생성\n",
    "params_mlp = {\"kbest__k\":[144], #변수갯수 144개\n",
    "          \"mlp__hidden_layer_sizes\": [(50,30),(20,40,20),(30,50,30),(10,20,20,10),(20,40,40,20),(5,20,20,5)],\n",
    "             \"mlp__alpha\":[0.00005,0.0001,0.0002,0.0003,0.0004],\n",
    "             \"mlp__activation\":['logistic', 'tanh', 'relu'],\n",
    "             \"mlp__learning_rate\":['constant', 'invscaling', 'adaptive']}\n",
    "#최적모델 찾기\n",
    "grid_search = GridSearchCV(pipe_mlp, param_grid = params_mlp,\n",
    "                          cv=3, n_jobs=-1, verbose=1)\n",
    "#\n",
    "grid_search.fit(sigungu_x_15scaled, sigungu.infection)\n",
    "mlp_grid = grid_search.best_estimator_ #최적의 모델! 이미 fit되어있음\n",
    "mlp_grid"
   ]
  },
  {
   "cell_type": "code",
   "execution_count": 54,
   "metadata": {},
   "outputs": [
    {
     "name": "stderr",
     "output_type": "stream",
     "text": [
      "C:\\Anaconda3\\lib\\site-packages\\sklearn\\neural_network\\multilayer_perceptron.py:566: ConvergenceWarning: Stochastic Optimizer: Maximum iterations (200) reached and the optimization hasn't converged yet.\n",
      "  % self.max_iter, ConvergenceWarning)\n"
     ]
    },
    {
     "name": "stdout",
     "output_type": "stream",
     "text": [
      "f1 :\t\t0.8860759493670887\n",
      "accuracy :\t0.9203539823008849\n",
      "precision :\t0.8974358974358975\n",
      "recall :\t0.875\n",
      "[metric score]\n",
      "\n",
      " None\n",
      "f1-score:(0.7005386970507307, array([0.66666667, 0.75409836, 0.68085106]))\n",
      "accuracy:(0.80093567251462, array([0.78947368, 0.8       , 0.81333333]))\n",
      "precision:(0.6778800449399361, array([0.60714286, 0.68965517, 0.73684211]))\n",
      "recall:(0.6949025487256372, array([0.82608696, 0.75862069, 0.5       ]))\n",
      "[kfold crossvalscore]\n",
      "\n",
      " None\n"
     ]
    },
    {
     "data": {
      "text/html": [
       "<div>\n",
       "<style scoped>\n",
       "    .dataframe tbody tr th:only-of-type {\n",
       "        vertical-align: middle;\n",
       "    }\n",
       "\n",
       "    .dataframe tbody tr th {\n",
       "        vertical-align: top;\n",
       "    }\n",
       "\n",
       "    .dataframe thead th {\n",
       "        text-align: right;\n",
       "    }\n",
       "</style>\n",
       "<table border=\"1\" class=\"dataframe\">\n",
       "  <thead>\n",
       "    <tr style=\"text-align: right;\">\n",
       "      <th>Predicted</th>\n",
       "      <th>0</th>\n",
       "      <th>1</th>\n",
       "      <th>All</th>\n",
       "    </tr>\n",
       "    <tr>\n",
       "      <th>True</th>\n",
       "      <th></th>\n",
       "      <th></th>\n",
       "      <th></th>\n",
       "    </tr>\n",
       "  </thead>\n",
       "  <tbody>\n",
       "    <tr>\n",
       "      <td>0</td>\n",
       "      <td>138</td>\n",
       "      <td>8</td>\n",
       "      <td>146</td>\n",
       "    </tr>\n",
       "    <tr>\n",
       "      <td>1</td>\n",
       "      <td>10</td>\n",
       "      <td>70</td>\n",
       "      <td>80</td>\n",
       "    </tr>\n",
       "    <tr>\n",
       "      <td>All</td>\n",
       "      <td>148</td>\n",
       "      <td>78</td>\n",
       "      <td>226</td>\n",
       "    </tr>\n",
       "  </tbody>\n",
       "</table>\n",
       "</div>"
      ],
      "text/plain": [
       "Predicted    0   1  All\n",
       "True                   \n",
       "0          138   8  146\n",
       "1           10  70   80\n",
       "All        148  78  226"
      ]
     },
     "execution_count": 54,
     "metadata": {},
     "output_type": "execute_result"
    }
   ],
   "source": [
    "#학습과 예측\n",
    "mlp_grid.fit(sigungu_x_15scaled, sigungu_y.infection)\n",
    "pred_mlp_grid = mlp_grid.predict(sigungu_x_14scaled)\n",
    "score(mlp_grid, sigungu_x_14scaled, sigungu_y.infection, pred_mlp_grid)"
   ]
  },
  {
   "cell_type": "markdown",
   "metadata": {},
   "source": [
    "### cv: RFC"
   ]
  },
  {
   "cell_type": "code",
   "execution_count": 56,
   "metadata": {},
   "outputs": [
    {
     "name": "stdout",
     "output_type": "stream",
     "text": [
      "Fitting 3 folds for each of 20 candidates, totalling 60 fits\n"
     ]
    },
    {
     "name": "stderr",
     "output_type": "stream",
     "text": [
      "[Parallel(n_jobs=-1)]: Using backend LokyBackend with 8 concurrent workers.\n",
      "[Parallel(n_jobs=-1)]: Done  60 out of  60 | elapsed:    5.4s finished\n",
      "C:\\Anaconda3\\lib\\site-packages\\sklearn\\model_selection\\_search.py:814: DeprecationWarning: The default of the `iid` parameter will change from True to False in version 0.22 and will be removed in 0.24. This will change numeric results when test-set sizes are unequal.\n",
      "  DeprecationWarning)\n"
     ]
    },
    {
     "data": {
      "text/plain": [
       "Pipeline(memory=None,\n",
       "         steps=[('kbest',\n",
       "                 SelectKBest(k=144,\n",
       "                             score_func=<function f_classif at 0x000000001BC6C840>)),\n",
       "                ('rfc',\n",
       "                 RandomForestClassifier(bootstrap=True, class_weight=None,\n",
       "                                        criterion='gini', max_depth=10,\n",
       "                                        max_features='auto',\n",
       "                                        max_leaf_nodes=None,\n",
       "                                        min_impurity_decrease=0.0,\n",
       "                                        min_impurity_split=None,\n",
       "                                        min_samples_leaf=1, min_samples_split=2,\n",
       "                                        min_weight_fraction_leaf=0.0,\n",
       "                                        n_estimators=400, n_jobs=None,\n",
       "                                        oob_score=False, random_state=None,\n",
       "                                        verbose=0, warm_start=False))],\n",
       "         verbose=False)"
      ]
     },
     "execution_count": 56,
     "metadata": {},
     "output_type": "execute_result"
    }
   ],
   "source": [
    "#파이프라인 생성\n",
    "pipe_rfc = Pipeline([(\"kbest\", model_kbest),('rfc',rfc)])\n",
    "#파라미터 생성\n",
    "params_rfc = {\"kbest__k\":[144],\n",
    "          \"rfc__max_depth\": [10,15,20,25],\n",
    "         \"rfc__n_estimators\": [10,200,300,400,500]}\n",
    "#최적모델 찾기\n",
    "grid_search = GridSearchCV(pipe_rfc, param_grid = params_rfc,\n",
    "                          cv=3, n_jobs=-1, verbose=1)\n",
    "grid_search.fit(sigungu_x_15scaled, sigungu_y.infection)\n",
    "#\n",
    "rfc_grid = grid_search.best_estimator_#최적의 모델! 이미 fit되어있음\n",
    "rfc_grid"
   ]
  },
  {
   "cell_type": "code",
   "execution_count": 58,
   "metadata": {},
   "outputs": [
    {
     "name": "stdout",
     "output_type": "stream",
     "text": [
      "f1 :\t\t0.9281045751633986\n",
      "accuracy :\t0.9513274336283186\n",
      "precision :\t0.9726027397260274\n",
      "recall :\t0.8875\n",
      "[metric score]\n",
      "\n",
      " None\n",
      "f1-score:(0.6950606329488317, array([0.73913043, 0.69387755, 0.65217391]))\n",
      "accuracy:(0.8273099415204679, array([0.85526316, 0.8       , 0.82666667]))\n",
      "precision:(0.7979557589626239, array([0.76      , 0.73913043, 0.89473684]))\n",
      "recall:(0.6147640465481545, array([0.65217391, 0.62068966, 0.57142857]))\n",
      "[kfold crossvalscore]\n",
      "\n",
      " None\n"
     ]
    },
    {
     "data": {
      "text/html": [
       "<div>\n",
       "<style scoped>\n",
       "    .dataframe tbody tr th:only-of-type {\n",
       "        vertical-align: middle;\n",
       "    }\n",
       "\n",
       "    .dataframe tbody tr th {\n",
       "        vertical-align: top;\n",
       "    }\n",
       "\n",
       "    .dataframe thead th {\n",
       "        text-align: right;\n",
       "    }\n",
       "</style>\n",
       "<table border=\"1\" class=\"dataframe\">\n",
       "  <thead>\n",
       "    <tr style=\"text-align: right;\">\n",
       "      <th>Predicted</th>\n",
       "      <th>0</th>\n",
       "      <th>1</th>\n",
       "      <th>All</th>\n",
       "    </tr>\n",
       "    <tr>\n",
       "      <th>True</th>\n",
       "      <th></th>\n",
       "      <th></th>\n",
       "      <th></th>\n",
       "    </tr>\n",
       "  </thead>\n",
       "  <tbody>\n",
       "    <tr>\n",
       "      <td>0</td>\n",
       "      <td>144</td>\n",
       "      <td>2</td>\n",
       "      <td>146</td>\n",
       "    </tr>\n",
       "    <tr>\n",
       "      <td>1</td>\n",
       "      <td>9</td>\n",
       "      <td>71</td>\n",
       "      <td>80</td>\n",
       "    </tr>\n",
       "    <tr>\n",
       "      <td>All</td>\n",
       "      <td>153</td>\n",
       "      <td>73</td>\n",
       "      <td>226</td>\n",
       "    </tr>\n",
       "  </tbody>\n",
       "</table>\n",
       "</div>"
      ],
      "text/plain": [
       "Predicted    0   1  All\n",
       "True                   \n",
       "0          144   2  146\n",
       "1            9  71   80\n",
       "All        153  73  226"
      ]
     },
     "execution_count": 58,
     "metadata": {},
     "output_type": "execute_result"
    }
   ],
   "source": [
    "#학습과 예측\n",
    "rfc_grid.fit(sigungu_x_15scaled, sigungu_y.infection)\n",
    "pred_rfc_grid = rfc_grid.predict(sigungu_x_14scaled)\n",
    "score(rfc_grid, sigungu_x_14scaled, sigungu_y.infection, pred_rfc_grid)"
   ]
  },
  {
   "cell_type": "markdown",
   "metadata": {},
   "source": [
    "### cv: xgb"
   ]
  },
  {
   "cell_type": "code",
   "execution_count": 60,
   "metadata": {},
   "outputs": [
    {
     "name": "stderr",
     "output_type": "stream",
     "text": [
      "C:\\Anaconda3\\lib\\site-packages\\sklearn\\model_selection\\_search.py:814: DeprecationWarning: The default of the `iid` parameter will change from True to False in version 0.22 and will be removed in 0.24. This will change numeric results when test-set sizes are unequal.\n",
      "  DeprecationWarning)\n"
     ]
    },
    {
     "data": {
      "text/plain": [
       "Pipeline(memory=None,\n",
       "         steps=[('kbest',\n",
       "                 SelectKBest(k=144,\n",
       "                             score_func=<function f_classif at 0x000000001BC6C840>)),\n",
       "                ('xgb',\n",
       "                 XGBClassifier(base_score=0.5, booster='gbtree',\n",
       "                               colsample_bylevel=1, colsample_bynode=1,\n",
       "                               colsample_bytree=1, gamma=0, learning_rate=0.05,\n",
       "                               max_delta_step=0, max_depth=5,\n",
       "                               min_child_weight=1, missing=None,\n",
       "                               n_estimators=400, n_jobs=1, nthread=None,\n",
       "                               objective='binary:logistic', random_state=0,\n",
       "                               reg_alpha=0, reg_lambda=1, scale_pos_weight=1,\n",
       "                               seed=None, silent=None, subsample=1,\n",
       "                               verbosity=1))],\n",
       "         verbose=False)"
      ]
     },
     "execution_count": 60,
     "metadata": {},
     "output_type": "execute_result"
    }
   ],
   "source": [
    "#파이프라인 생성\n",
    "pipe_xgb = Pipeline([(\"kbest\", model_kbest),('xgb',xgb)])\n",
    "#파라미터 생성\n",
    "params_xgb = {\"kbest__k\":[144],\n",
    "          \"xgb__max_depth\": [5,10,15,20,25],\n",
    "         \"xgb__learning_rate\": [0.01,0.03,0.05,0.07],\n",
    "         \"xgb__n_estimators\": [100,200,300,400,500]}\n",
    "#최적모델 찾기\n",
    "grid_search = GridSearchCV(pipe_xgb, param_grid = params_xgb,\n",
    "                          cv=3, n_jobs=-1, verbose=0, scoring='recall')###############RECALL\n",
    "grid_search.fit(sigungu_x_15scaled, sigungu_y.infection)\n",
    "#\n",
    "xgb_grid = grid_search.best_estimator_#최적의 모델! 이미 fit되어있음\n",
    "xgb_grid"
   ]
  },
  {
   "cell_type": "code",
   "execution_count": 61,
   "metadata": {},
   "outputs": [
    {
     "name": "stdout",
     "output_type": "stream",
     "text": [
      "f1 :\t\t0.7462686567164178\n",
      "accuracy :\t0.8495575221238938\n",
      "precision :\t0.9259259259259259\n",
      "recall :\t0.625\n",
      "[metric score]\n",
      "\n",
      " None\n",
      "f1-score:(0.7482626343726304, array([0.75471698, 0.76666667, 0.72340426]))\n",
      "accuracy:(0.8229824561403509, array([0.82894737, 0.81333333, 0.82666667]))\n",
      "precision:(0.7677796642142992, array([0.66666667, 0.74193548, 0.89473684]))\n",
      "recall:(0.7566038409366745, array([0.86956522, 0.79310345, 0.60714286]))\n",
      "[kfold crossvalscore]\n",
      "\n",
      " None\n"
     ]
    },
    {
     "data": {
      "text/html": [
       "<div>\n",
       "<style scoped>\n",
       "    .dataframe tbody tr th:only-of-type {\n",
       "        vertical-align: middle;\n",
       "    }\n",
       "\n",
       "    .dataframe tbody tr th {\n",
       "        vertical-align: top;\n",
       "    }\n",
       "\n",
       "    .dataframe thead th {\n",
       "        text-align: right;\n",
       "    }\n",
       "</style>\n",
       "<table border=\"1\" class=\"dataframe\">\n",
       "  <thead>\n",
       "    <tr style=\"text-align: right;\">\n",
       "      <th>Predicted</th>\n",
       "      <th>0</th>\n",
       "      <th>1</th>\n",
       "      <th>All</th>\n",
       "    </tr>\n",
       "    <tr>\n",
       "      <th>True</th>\n",
       "      <th></th>\n",
       "      <th></th>\n",
       "      <th></th>\n",
       "    </tr>\n",
       "  </thead>\n",
       "  <tbody>\n",
       "    <tr>\n",
       "      <td>0</td>\n",
       "      <td>142</td>\n",
       "      <td>4</td>\n",
       "      <td>146</td>\n",
       "    </tr>\n",
       "    <tr>\n",
       "      <td>1</td>\n",
       "      <td>30</td>\n",
       "      <td>50</td>\n",
       "      <td>80</td>\n",
       "    </tr>\n",
       "    <tr>\n",
       "      <td>All</td>\n",
       "      <td>172</td>\n",
       "      <td>54</td>\n",
       "      <td>226</td>\n",
       "    </tr>\n",
       "  </tbody>\n",
       "</table>\n",
       "</div>"
      ],
      "text/plain": [
       "Predicted    0   1  All\n",
       "True                   \n",
       "0          142   4  146\n",
       "1           30  50   80\n",
       "All        172  54  226"
      ]
     },
     "execution_count": 61,
     "metadata": {},
     "output_type": "execute_result"
    }
   ],
   "source": [
    "#학습과 예측\n",
    "xgb_grid.fit(sigungu_x_15scaled, sigungu_y.infection)\n",
    "pred_xgb_grid = xgb_grid.predict(sigungu_x_14scaled)\n",
    "#스코어\n",
    "score(xgb_grid, sigungu_x_14scaled, sigungu_y.infection, pred_xgb_grid)"
   ]
  },
  {
   "cell_type": "markdown",
   "metadata": {},
   "source": [
    "### cv: lgbm"
   ]
  },
  {
   "cell_type": "code",
   "execution_count": 92,
   "metadata": {},
   "outputs": [
    {
     "name": "stderr",
     "output_type": "stream",
     "text": [
      "C:\\Anaconda3\\lib\\site-packages\\sklearn\\model_selection\\_search.py:814: DeprecationWarning: The default of the `iid` parameter will change from True to False in version 0.22 and will be removed in 0.24. This will change numeric results when test-set sizes are unequal.\n",
      "  DeprecationWarning)\n",
      "C:\\Anaconda3\\lib\\site-packages\\lightgbm\\engine.py:148: UserWarning: Found `num_boost_round` in params. Will use it instead of argument\n",
      "  warnings.warn(\"Found `{}` in params. Will use it instead of argument\".format(alias))\n"
     ]
    },
    {
     "data": {
      "text/plain": [
       "Pipeline(memory=None,\n",
       "         steps=[('kbest',\n",
       "                 SelectKBest(k=144,\n",
       "                             score_func=<function f_classif at 0x000000001BC6C840>)),\n",
       "                ('lgbm',\n",
       "                 LGBMClassifier(boosting_type='gbdt', class_weight=None,\n",
       "                                colsample_bytree=1.0, importance_type='split',\n",
       "                                learning_rate=0.01, max_depth=5,\n",
       "                                min_child_samples=20, min_child_weight=0.001,\n",
       "                                min_split_gain=0.0, n_estimators=100, n_jobs=-1,\n",
       "                                num_boost_round=500, num_leaves=31,\n",
       "                                objective=None, random_state=None,\n",
       "                                reg_alpha=0.0, reg_lambda=0.0, silent=True,\n",
       "                                subsample=1.0, subsample_for_bin=200000,\n",
       "                                subsample_freq=0))],\n",
       "         verbose=False)"
      ]
     },
     "execution_count": 92,
     "metadata": {},
     "output_type": "execute_result"
    }
   ],
   "source": [
    "#파이프라인 생성\n",
    "pipe_lgbm = Pipeline([(\"kbest\", model_kbest),('lgbm',lgbm)])\n",
    "#파라미터 생성\n",
    "params_lgbm = {\"kbest__k\":[144],\n",
    "          \"lgbm__max_depth\": [5,10,15,20,25],\n",
    "         \"lgbm__learning_rate\": [0.01,0.03,0.05,0.07,0.001],\n",
    "         \"lgbm__n_estimators\": [100,200,300,400,500],\n",
    "              \"lgbm__num_boost_round\":[200,300,400,500]}\n",
    "#최적모델 찾기\n",
    "grid_search = GridSearchCV(pipe_lgbm, param_grid = params_lgbm,\n",
    "                          cv=3, n_jobs=-1, verbose=1)\n",
    "grid_search.fit(sigungu_x_15scaled, sigungu_y.infection)\n",
    "#\n",
    "lgbm_grid = grid_search.best_estimator_#최적의 모델! 이미 fit되어있음\n",
    "lgbm_grid"
   ]
  },
  {
   "cell_type": "code",
   "execution_count": 94,
   "metadata": {},
   "outputs": [
    {
     "name": "stderr",
     "output_type": "stream",
     "text": [
      "C:\\Anaconda3\\lib\\site-packages\\lightgbm\\engine.py:148: UserWarning: Found `num_boost_round` in params. Will use it instead of argument\n",
      "  warnings.warn(\"Found `{}` in params. Will use it instead of argument\".format(alias))\n"
     ]
    },
    {
     "name": "stdout",
     "output_type": "stream",
     "text": [
      "f1 :\t\t0.6874999999999999\n",
      "accuracy :\t0.8230088495575221\n",
      "precision :\t0.9166666666666666\n",
      "recall :\t0.55\n",
      "[metric score]\n",
      "\n",
      " None\n"
     ]
    },
    {
     "name": "stderr",
     "output_type": "stream",
     "text": [
      "C:\\Anaconda3\\lib\\site-packages\\lightgbm\\engine.py:148: UserWarning: Found `num_boost_round` in params. Will use it instead of argument\n",
      "  warnings.warn(\"Found `{}` in params. Will use it instead of argument\".format(alias))\n",
      "C:\\Anaconda3\\lib\\site-packages\\lightgbm\\engine.py:148: UserWarning: Found `num_boost_round` in params. Will use it instead of argument\n",
      "  warnings.warn(\"Found `{}` in params. Will use it instead of argument\".format(alias))\n",
      "C:\\Anaconda3\\lib\\site-packages\\lightgbm\\engine.py:148: UserWarning: Found `num_boost_round` in params. Will use it instead of argument\n",
      "  warnings.warn(\"Found `{}` in params. Will use it instead of argument\".format(alias))\n",
      "C:\\Anaconda3\\lib\\site-packages\\lightgbm\\engine.py:148: UserWarning: Found `num_boost_round` in params. Will use it instead of argument\n",
      "  warnings.warn(\"Found `{}` in params. Will use it instead of argument\".format(alias))\n",
      "C:\\Anaconda3\\lib\\site-packages\\lightgbm\\engine.py:148: UserWarning: Found `num_boost_round` in params. Will use it instead of argument\n",
      "  warnings.warn(\"Found `{}` in params. Will use it instead of argument\".format(alias))\n",
      "C:\\Anaconda3\\lib\\site-packages\\lightgbm\\engine.py:148: UserWarning: Found `num_boost_round` in params. Will use it instead of argument\n",
      "  warnings.warn(\"Found `{}` in params. Will use it instead of argument\".format(alias))\n",
      "C:\\Anaconda3\\lib\\site-packages\\lightgbm\\engine.py:148: UserWarning: Found `num_boost_round` in params. Will use it instead of argument\n",
      "  warnings.warn(\"Found `{}` in params. Will use it instead of argument\".format(alias))\n",
      "C:\\Anaconda3\\lib\\site-packages\\lightgbm\\engine.py:148: UserWarning: Found `num_boost_round` in params. Will use it instead of argument\n",
      "  warnings.warn(\"Found `{}` in params. Will use it instead of argument\".format(alias))\n",
      "C:\\Anaconda3\\lib\\site-packages\\lightgbm\\engine.py:148: UserWarning: Found `num_boost_round` in params. Will use it instead of argument\n",
      "  warnings.warn(\"Found `{}` in params. Will use it instead of argument\".format(alias))\n",
      "C:\\Anaconda3\\lib\\site-packages\\lightgbm\\engine.py:148: UserWarning: Found `num_boost_round` in params. Will use it instead of argument\n",
      "  warnings.warn(\"Found `{}` in params. Will use it instead of argument\".format(alias))\n",
      "C:\\Anaconda3\\lib\\site-packages\\lightgbm\\engine.py:148: UserWarning: Found `num_boost_round` in params. Will use it instead of argument\n",
      "  warnings.warn(\"Found `{}` in params. Will use it instead of argument\".format(alias))\n",
      "C:\\Anaconda3\\lib\\site-packages\\lightgbm\\engine.py:148: UserWarning: Found `num_boost_round` in params. Will use it instead of argument\n",
      "  warnings.warn(\"Found `{}` in params. Will use it instead of argument\".format(alias))\n"
     ]
    },
    {
     "name": "stdout",
     "output_type": "stream",
     "text": [
      "f1-score:(0.7402550091074681, array([0.8       , 0.75409836, 0.66666667]))\n",
      "accuracy:(0.8183625730994152, array([0.86842105, 0.8       , 0.78666667]))\n",
      "precision:(0.7531635802469135, array([0.74074074, 0.71875   , 0.8       ]))\n",
      "recall:(0.7446990790319127, array([0.86956522, 0.79310345, 0.57142857]))\n",
      "[kfold crossvalscore]\n",
      "\n",
      " None\n"
     ]
    },
    {
     "data": {
      "text/html": [
       "<div>\n",
       "<style scoped>\n",
       "    .dataframe tbody tr th:only-of-type {\n",
       "        vertical-align: middle;\n",
       "    }\n",
       "\n",
       "    .dataframe tbody tr th {\n",
       "        vertical-align: top;\n",
       "    }\n",
       "\n",
       "    .dataframe thead th {\n",
       "        text-align: right;\n",
       "    }\n",
       "</style>\n",
       "<table border=\"1\" class=\"dataframe\">\n",
       "  <thead>\n",
       "    <tr style=\"text-align: right;\">\n",
       "      <th>Predicted</th>\n",
       "      <th>0</th>\n",
       "      <th>1</th>\n",
       "      <th>All</th>\n",
       "    </tr>\n",
       "    <tr>\n",
       "      <th>True</th>\n",
       "      <th></th>\n",
       "      <th></th>\n",
       "      <th></th>\n",
       "    </tr>\n",
       "  </thead>\n",
       "  <tbody>\n",
       "    <tr>\n",
       "      <td>0</td>\n",
       "      <td>142</td>\n",
       "      <td>4</td>\n",
       "      <td>146</td>\n",
       "    </tr>\n",
       "    <tr>\n",
       "      <td>1</td>\n",
       "      <td>36</td>\n",
       "      <td>44</td>\n",
       "      <td>80</td>\n",
       "    </tr>\n",
       "    <tr>\n",
       "      <td>All</td>\n",
       "      <td>178</td>\n",
       "      <td>48</td>\n",
       "      <td>226</td>\n",
       "    </tr>\n",
       "  </tbody>\n",
       "</table>\n",
       "</div>"
      ],
      "text/plain": [
       "Predicted    0   1  All\n",
       "True                   \n",
       "0          142   4  146\n",
       "1           36  44   80\n",
       "All        178  48  226"
      ]
     },
     "execution_count": 94,
     "metadata": {},
     "output_type": "execute_result"
    }
   ],
   "source": [
    "#학습과 예측\n",
    "lgbm_grid.fit(sigungu_x_15scaled, sigungu_y.infection)\n",
    "pred_lgbm_grid = lgbm_grid.predict(sigungu_x_14scaled)\n",
    "#스코어\n",
    "score(lgbm_grid, lgbm_sigungu, sigungu_y.infection, pred_lgbm_grid)"
   ]
  },
  {
   "cell_type": "markdown",
   "metadata": {},
   "source": [
    "### cv: lr"
   ]
  },
  {
   "cell_type": "code",
   "execution_count": 96,
   "metadata": {},
   "outputs": [
    {
     "name": "stderr",
     "output_type": "stream",
     "text": [
      "C:\\Anaconda3\\lib\\site-packages\\sklearn\\linear_model\\logistic.py:432: FutureWarning: Default solver will be changed to 'lbfgs' in 0.22. Specify a solver to silence this warning.\n",
      "  FutureWarning)\n"
     ]
    },
    {
     "data": {
      "text/plain": [
       "Pipeline(memory=None,\n",
       "         steps=[('kbest',\n",
       "                 SelectKBest(k=144,\n",
       "                             score_func=<function f_classif at 0x000000001BC6C840>)),\n",
       "                ('lr',\n",
       "                 LogisticRegression(C=0.005, class_weight=None, dual=False,\n",
       "                                    fit_intercept=True, intercept_scaling=1,\n",
       "                                    l1_ratio=None, max_iter=80,\n",
       "                                    multi_class='warn', n_jobs=None,\n",
       "                                    penalty='l2', random_state=None,\n",
       "                                    solver='warn', tol=5, verbose=0,\n",
       "                                    warm_start=False))],\n",
       "         verbose=False)"
      ]
     },
     "execution_count": 96,
     "metadata": {},
     "output_type": "execute_result"
    }
   ],
   "source": [
    "#파이프라인 생성\n",
    "pipe_lr = Pipeline([(\"kbest\", model_kbest),('lr',lr)])\n",
    "#파라미터 생성\n",
    "params_lr = {\"kbest__k\":[144],\n",
    "          \"lr__tol\": [5,10,15,20,25],\n",
    "         \"lr__C\": [0.005, 0.01,0.05],\n",
    "            \"lr__max_iter\":[80,100,120]}\n",
    "#최적모델 찾기\n",
    "grid_search = GridSearchCV(pipe_lr, param_grid = params_lr,\n",
    "                          cv=3, n_jobs=-1, verbose=0)\n",
    "grid_search.fit(sigungu_x_15scaled, sigungu_y.infection)\n",
    "#\n",
    "lr_grid = grid_search.best_estimator_#최적의 모델! 이미 fit되어있음\n",
    "lr_grid"
   ]
  },
  {
   "cell_type": "code",
   "execution_count": 97,
   "metadata": {},
   "outputs": [
    {
     "name": "stdout",
     "output_type": "stream",
     "text": [
      "f1 :\t\t0.0\n",
      "accuracy :\t0.6460176991150443\n",
      "precision :\t0.0\n",
      "recall :\t0.0\n",
      "[metric score]\n",
      "\n",
      " None\n",
      "f1-score:(0.0, array([0., 0., 0.]))\n",
      "accuracy:(0.6457894736842105, array([0.69736842, 0.61333333, 0.62666667]))\n",
      "precision:(0.0, array([0., 0., 0.]))\n",
      "recall:(0.0, array([0., 0., 0.]))\n",
      "[kfold crossvalscore]\n",
      "\n",
      " None\n"
     ]
    },
    {
     "name": "stderr",
     "output_type": "stream",
     "text": [
      "C:\\Anaconda3\\lib\\site-packages\\sklearn\\linear_model\\logistic.py:432: FutureWarning: Default solver will be changed to 'lbfgs' in 0.22. Specify a solver to silence this warning.\n",
      "  FutureWarning)\n",
      "C:\\Anaconda3\\lib\\site-packages\\sklearn\\metrics\\classification.py:1437: UndefinedMetricWarning: F-score is ill-defined and being set to 0.0 due to no predicted samples.\n",
      "  'precision', 'predicted', average, warn_for)\n",
      "C:\\Anaconda3\\lib\\site-packages\\sklearn\\metrics\\classification.py:1437: UndefinedMetricWarning: Precision is ill-defined and being set to 0.0 due to no predicted samples.\n",
      "  'precision', 'predicted', average, warn_for)\n",
      "C:\\Anaconda3\\lib\\site-packages\\sklearn\\linear_model\\logistic.py:432: FutureWarning: Default solver will be changed to 'lbfgs' in 0.22. Specify a solver to silence this warning.\n",
      "  FutureWarning)\n",
      "C:\\Anaconda3\\lib\\site-packages\\sklearn\\metrics\\classification.py:1437: UndefinedMetricWarning: F-score is ill-defined and being set to 0.0 due to no predicted samples.\n",
      "  'precision', 'predicted', average, warn_for)\n",
      "C:\\Anaconda3\\lib\\site-packages\\sklearn\\linear_model\\logistic.py:432: FutureWarning: Default solver will be changed to 'lbfgs' in 0.22. Specify a solver to silence this warning.\n",
      "  FutureWarning)\n",
      "C:\\Anaconda3\\lib\\site-packages\\sklearn\\metrics\\classification.py:1437: UndefinedMetricWarning: F-score is ill-defined and being set to 0.0 due to no predicted samples.\n",
      "  'precision', 'predicted', average, warn_for)\n",
      "C:\\Anaconda3\\lib\\site-packages\\sklearn\\linear_model\\logistic.py:432: FutureWarning: Default solver will be changed to 'lbfgs' in 0.22. Specify a solver to silence this warning.\n",
      "  FutureWarning)\n",
      "C:\\Anaconda3\\lib\\site-packages\\sklearn\\metrics\\classification.py:1437: UndefinedMetricWarning: F-score is ill-defined and being set to 0.0 due to no predicted samples.\n",
      "  'precision', 'predicted', average, warn_for)\n",
      "C:\\Anaconda3\\lib\\site-packages\\sklearn\\linear_model\\logistic.py:432: FutureWarning: Default solver will be changed to 'lbfgs' in 0.22. Specify a solver to silence this warning.\n",
      "  FutureWarning)\n",
      "C:\\Anaconda3\\lib\\site-packages\\sklearn\\linear_model\\logistic.py:432: FutureWarning: Default solver will be changed to 'lbfgs' in 0.22. Specify a solver to silence this warning.\n",
      "  FutureWarning)\n",
      "C:\\Anaconda3\\lib\\site-packages\\sklearn\\linear_model\\logistic.py:432: FutureWarning: Default solver will be changed to 'lbfgs' in 0.22. Specify a solver to silence this warning.\n",
      "  FutureWarning)\n",
      "C:\\Anaconda3\\lib\\site-packages\\sklearn\\linear_model\\logistic.py:432: FutureWarning: Default solver will be changed to 'lbfgs' in 0.22. Specify a solver to silence this warning.\n",
      "  FutureWarning)\n",
      "C:\\Anaconda3\\lib\\site-packages\\sklearn\\metrics\\classification.py:1437: UndefinedMetricWarning: Precision is ill-defined and being set to 0.0 due to no predicted samples.\n",
      "  'precision', 'predicted', average, warn_for)\n",
      "C:\\Anaconda3\\lib\\site-packages\\sklearn\\linear_model\\logistic.py:432: FutureWarning: Default solver will be changed to 'lbfgs' in 0.22. Specify a solver to silence this warning.\n",
      "  FutureWarning)\n",
      "C:\\Anaconda3\\lib\\site-packages\\sklearn\\metrics\\classification.py:1437: UndefinedMetricWarning: Precision is ill-defined and being set to 0.0 due to no predicted samples.\n",
      "  'precision', 'predicted', average, warn_for)\n",
      "C:\\Anaconda3\\lib\\site-packages\\sklearn\\linear_model\\logistic.py:432: FutureWarning: Default solver will be changed to 'lbfgs' in 0.22. Specify a solver to silence this warning.\n",
      "  FutureWarning)\n",
      "C:\\Anaconda3\\lib\\site-packages\\sklearn\\metrics\\classification.py:1437: UndefinedMetricWarning: Precision is ill-defined and being set to 0.0 due to no predicted samples.\n",
      "  'precision', 'predicted', average, warn_for)\n",
      "C:\\Anaconda3\\lib\\site-packages\\sklearn\\linear_model\\logistic.py:432: FutureWarning: Default solver will be changed to 'lbfgs' in 0.22. Specify a solver to silence this warning.\n",
      "  FutureWarning)\n",
      "C:\\Anaconda3\\lib\\site-packages\\sklearn\\linear_model\\logistic.py:432: FutureWarning: Default solver will be changed to 'lbfgs' in 0.22. Specify a solver to silence this warning.\n",
      "  FutureWarning)\n",
      "C:\\Anaconda3\\lib\\site-packages\\sklearn\\linear_model\\logistic.py:432: FutureWarning: Default solver will be changed to 'lbfgs' in 0.22. Specify a solver to silence this warning.\n",
      "  FutureWarning)\n"
     ]
    },
    {
     "data": {
      "text/html": [
       "<div>\n",
       "<style scoped>\n",
       "    .dataframe tbody tr th:only-of-type {\n",
       "        vertical-align: middle;\n",
       "    }\n",
       "\n",
       "    .dataframe tbody tr th {\n",
       "        vertical-align: top;\n",
       "    }\n",
       "\n",
       "    .dataframe thead th {\n",
       "        text-align: right;\n",
       "    }\n",
       "</style>\n",
       "<table border=\"1\" class=\"dataframe\">\n",
       "  <thead>\n",
       "    <tr style=\"text-align: right;\">\n",
       "      <th>Predicted</th>\n",
       "      <th>0</th>\n",
       "      <th>All</th>\n",
       "    </tr>\n",
       "    <tr>\n",
       "      <th>True</th>\n",
       "      <th></th>\n",
       "      <th></th>\n",
       "    </tr>\n",
       "  </thead>\n",
       "  <tbody>\n",
       "    <tr>\n",
       "      <td>0</td>\n",
       "      <td>146</td>\n",
       "      <td>146</td>\n",
       "    </tr>\n",
       "    <tr>\n",
       "      <td>1</td>\n",
       "      <td>80</td>\n",
       "      <td>80</td>\n",
       "    </tr>\n",
       "    <tr>\n",
       "      <td>All</td>\n",
       "      <td>226</td>\n",
       "      <td>226</td>\n",
       "    </tr>\n",
       "  </tbody>\n",
       "</table>\n",
       "</div>"
      ],
      "text/plain": [
       "Predicted    0  All\n",
       "True               \n",
       "0          146  146\n",
       "1           80   80\n",
       "All        226  226"
      ]
     },
     "execution_count": 97,
     "metadata": {},
     "output_type": "execute_result"
    }
   ],
   "source": [
    "#학습과 예측\n",
    "lr_grid.fit(sigungu_x_15scaled, sigungu_y.infection)\n",
    "pred_lr_grid = lr_grid.predict(sigungu_x_14scaled)\n",
    "#스코어\n",
    "score(lr_grid, sigungu_x_14scaled, sigungu_y.infection, pred_lr_grid)"
   ]
  },
  {
   "cell_type": "markdown",
   "metadata": {},
   "source": [
    "### cv: dtc"
   ]
  },
  {
   "cell_type": "code",
   "execution_count": 98,
   "metadata": {},
   "outputs": [
    {
     "name": "stderr",
     "output_type": "stream",
     "text": [
      "C:\\Anaconda3\\lib\\site-packages\\sklearn\\model_selection\\_search.py:814: DeprecationWarning: The default of the `iid` parameter will change from True to False in version 0.22 and will be removed in 0.24. This will change numeric results when test-set sizes are unequal.\n",
      "  DeprecationWarning)\n"
     ]
    },
    {
     "data": {
      "text/plain": [
       "Pipeline(memory=None,\n",
       "         steps=[('kbest',\n",
       "                 SelectKBest(k=144,\n",
       "                             score_func=<function f_classif at 0x000000001BC6C840>)),\n",
       "                ('dtc',\n",
       "                 DecisionTreeClassifier(class_weight=None, criterion='gini',\n",
       "                                        max_depth=25, max_features=100,\n",
       "                                        max_leaf_nodes=None,\n",
       "                                        min_impurity_decrease=0.0,\n",
       "                                        min_impurity_split=None,\n",
       "                                        min_samples_leaf=1, min_samples_split=2,\n",
       "                                        min_weight_fraction_leaf=0.0,\n",
       "                                        presort=False, random_state=None,\n",
       "                                        splitter='best'))],\n",
       "         verbose=False)"
      ]
     },
     "execution_count": 98,
     "metadata": {},
     "output_type": "execute_result"
    }
   ],
   "source": [
    "#파이프라인 생성\n",
    "pipe_dtc = Pipeline([(\"kbest\", model_kbest),('dtc',dtc)])\n",
    "#파라미터 생성\n",
    "params_dtc = {\"kbest__k\":[144],\n",
    "          \"dtc__max_depth\": [5,10,15,20,25],\n",
    "         \"dtc__max_features\": [50,80,100]}\n",
    "#최적모델 찾기\n",
    "grid_search = GridSearchCV(pipe_dtc, param_grid = params_dtc,\n",
    "                          cv=3, n_jobs=-1, verbose=0)\n",
    "grid_search.fit(sigungu_x_15scaled, sigungu_y.infection)\n",
    "#\n",
    "dtc_grid = grid_search.best_estimator_#최적의 모델! 이미 fit되어있음\n",
    "dtc_grid"
   ]
  },
  {
   "cell_type": "code",
   "execution_count": 99,
   "metadata": {},
   "outputs": [
    {
     "name": "stdout",
     "output_type": "stream",
     "text": [
      "f1 :\t\t0.6911764705882354\n",
      "accuracy :\t0.8141592920353983\n",
      "precision :\t0.8392857142857143\n",
      "recall :\t0.5875\n",
      "[metric score]\n",
      "\n",
      " None\n",
      "f1-score:(0.5821087998040747, array([0.60714286, 0.59016393, 0.54901961]))\n",
      "accuracy:(0.7080701754385964, array([0.68421053, 0.6       , 0.84      ]))\n",
      "precision:(0.5551851851851852, array([0.36      , 0.55555556, 0.75      ]))\n",
      "recall:(0.6244913257656887, array([0.60869565, 0.5862069 , 0.67857143]))\n",
      "[kfold crossvalscore]\n",
      "\n",
      " None\n"
     ]
    },
    {
     "data": {
      "text/html": [
       "<div>\n",
       "<style scoped>\n",
       "    .dataframe tbody tr th:only-of-type {\n",
       "        vertical-align: middle;\n",
       "    }\n",
       "\n",
       "    .dataframe tbody tr th {\n",
       "        vertical-align: top;\n",
       "    }\n",
       "\n",
       "    .dataframe thead th {\n",
       "        text-align: right;\n",
       "    }\n",
       "</style>\n",
       "<table border=\"1\" class=\"dataframe\">\n",
       "  <thead>\n",
       "    <tr style=\"text-align: right;\">\n",
       "      <th>Predicted</th>\n",
       "      <th>0</th>\n",
       "      <th>1</th>\n",
       "      <th>All</th>\n",
       "    </tr>\n",
       "    <tr>\n",
       "      <th>True</th>\n",
       "      <th></th>\n",
       "      <th></th>\n",
       "      <th></th>\n",
       "    </tr>\n",
       "  </thead>\n",
       "  <tbody>\n",
       "    <tr>\n",
       "      <td>0</td>\n",
       "      <td>137</td>\n",
       "      <td>9</td>\n",
       "      <td>146</td>\n",
       "    </tr>\n",
       "    <tr>\n",
       "      <td>1</td>\n",
       "      <td>33</td>\n",
       "      <td>47</td>\n",
       "      <td>80</td>\n",
       "    </tr>\n",
       "    <tr>\n",
       "      <td>All</td>\n",
       "      <td>170</td>\n",
       "      <td>56</td>\n",
       "      <td>226</td>\n",
       "    </tr>\n",
       "  </tbody>\n",
       "</table>\n",
       "</div>"
      ],
      "text/plain": [
       "Predicted    0   1  All\n",
       "True                   \n",
       "0          137   9  146\n",
       "1           33  47   80\n",
       "All        170  56  226"
      ]
     },
     "execution_count": 99,
     "metadata": {},
     "output_type": "execute_result"
    }
   ],
   "source": [
    "#학습과 예측\n",
    "dtc_grid.fit(sigungu_x_15scaled, sigungu_y.infection)\n",
    "pred_dtc_grid = dtc_grid.predict(sigungu_x_14scaled)\n",
    "#스코어\n",
    "score(dtc_grid, sigungu_x_14scaled, sigungu_y.infection, pred_dtc_grid)"
   ]
  },
  {
   "cell_type": "markdown",
   "metadata": {},
   "source": [
    "### cv: pcp"
   ]
  },
  {
   "cell_type": "code",
   "execution_count": 100,
   "metadata": {},
   "outputs": [
    {
     "name": "stderr",
     "output_type": "stream",
     "text": [
      "C:\\Anaconda3\\lib\\site-packages\\sklearn\\model_selection\\_search.py:814: DeprecationWarning: The default of the `iid` parameter will change from True to False in version 0.22 and will be removed in 0.24. This will change numeric results when test-set sizes are unequal.\n",
      "  DeprecationWarning)\n"
     ]
    },
    {
     "data": {
      "text/plain": [
       "Pipeline(memory=None,\n",
       "         steps=[('kbest',\n",
       "                 SelectKBest(k=144,\n",
       "                             score_func=<function f_classif at 0x000000001BC6C840>)),\n",
       "                ('pcp',\n",
       "                 Perceptron(alpha=0.0001, class_weight=None,\n",
       "                            early_stopping=False, eta0=1.0, fit_intercept=True,\n",
       "                            max_iter=200, n_iter_no_change=5, n_jobs=None,\n",
       "                            penalty=None, random_state=0, shuffle=True,\n",
       "                            tol=0.001, validation_fraction=0.1, verbose=0,\n",
       "                            warm_start=False))],\n",
       "         verbose=False)"
      ]
     },
     "execution_count": 100,
     "metadata": {},
     "output_type": "execute_result"
    }
   ],
   "source": [
    "#파이프라인 생성\n",
    "pipe_pcp = Pipeline([(\"kbest\", model_kbest),('pcp',pcp)])\n",
    "#파라미터 생성\n",
    "params_pcp = {\"kbest__k\":[144],\n",
    "          \"pcp__alpha\": [0.0001, 0.0003, 0.0005],\n",
    "         \"pcp__tol\": [0.001,0.003, 0.005],\n",
    "         \"pcp__max_iter\": [200,300,400,500]}\n",
    "#최적모델 찾기\n",
    "grid_search = GridSearchCV(pipe_pcp, param_grid = params_pcp,\n",
    "                          cv=3, n_jobs=-1, verbose=0)\n",
    "grid_search.fit(sigungu_x_15scaled, sigungu_y.infection)\n",
    "#\n",
    "pcp_grid = grid_search.best_estimator_#최적의 모델! 이미 fit되어있음\n",
    "pcp_grid"
   ]
  },
  {
   "cell_type": "code",
   "execution_count": 101,
   "metadata": {},
   "outputs": [
    {
     "name": "stdout",
     "output_type": "stream",
     "text": [
      "f1 :\t\t0.84472049689441\n",
      "accuracy :\t0.8893805309734514\n",
      "precision :\t0.8395061728395061\n",
      "recall :\t0.85\n",
      "[metric score]\n",
      "\n",
      " None\n",
      "f1-score:(0.6982323232323232, array([0.63636364, 0.75      , 0.70833333]))\n",
      "accuracy:(0.8053801169590643, array([0.78947368, 0.81333333, 0.81333333]))\n",
      "precision:(0.7648148148148147, array([0.66666667, 0.77777778, 0.85      ]))\n",
      "recall:(0.6466588134504176, array([0.60869565, 0.72413793, 0.60714286]))\n",
      "[kfold crossvalscore]\n",
      "\n",
      " None\n"
     ]
    },
    {
     "data": {
      "text/html": [
       "<div>\n",
       "<style scoped>\n",
       "    .dataframe tbody tr th:only-of-type {\n",
       "        vertical-align: middle;\n",
       "    }\n",
       "\n",
       "    .dataframe tbody tr th {\n",
       "        vertical-align: top;\n",
       "    }\n",
       "\n",
       "    .dataframe thead th {\n",
       "        text-align: right;\n",
       "    }\n",
       "</style>\n",
       "<table border=\"1\" class=\"dataframe\">\n",
       "  <thead>\n",
       "    <tr style=\"text-align: right;\">\n",
       "      <th>Predicted</th>\n",
       "      <th>0</th>\n",
       "      <th>1</th>\n",
       "      <th>All</th>\n",
       "    </tr>\n",
       "    <tr>\n",
       "      <th>True</th>\n",
       "      <th></th>\n",
       "      <th></th>\n",
       "      <th></th>\n",
       "    </tr>\n",
       "  </thead>\n",
       "  <tbody>\n",
       "    <tr>\n",
       "      <td>0</td>\n",
       "      <td>133</td>\n",
       "      <td>13</td>\n",
       "      <td>146</td>\n",
       "    </tr>\n",
       "    <tr>\n",
       "      <td>1</td>\n",
       "      <td>12</td>\n",
       "      <td>68</td>\n",
       "      <td>80</td>\n",
       "    </tr>\n",
       "    <tr>\n",
       "      <td>All</td>\n",
       "      <td>145</td>\n",
       "      <td>81</td>\n",
       "      <td>226</td>\n",
       "    </tr>\n",
       "  </tbody>\n",
       "</table>\n",
       "</div>"
      ],
      "text/plain": [
       "Predicted    0   1  All\n",
       "True                   \n",
       "0          133  13  146\n",
       "1           12  68   80\n",
       "All        145  81  226"
      ]
     },
     "execution_count": 101,
     "metadata": {},
     "output_type": "execute_result"
    }
   ],
   "source": [
    "#학습과 예측\n",
    "pcp_grid.fit(sigungu_x_15scaled, sigungu_y.infection)\n",
    "pred_pcp_grid = pcp_grid.predict(sigungu_x_14scaled)\n",
    "#스코어\n",
    "score(pcp_grid, sigungu_x_14scaled, sigungu_y.infection, pred_pcp_grid)"
   ]
  },
  {
   "cell_type": "markdown",
   "metadata": {},
   "source": [
    "### cv: svc"
   ]
  },
  {
   "cell_type": "code",
   "execution_count": 110,
   "metadata": {},
   "outputs": [
    {
     "name": "stderr",
     "output_type": "stream",
     "text": [
      "C:\\Anaconda3\\lib\\site-packages\\sklearn\\model_selection\\_search.py:814: DeprecationWarning: The default of the `iid` parameter will change from True to False in version 0.22 and will be removed in 0.24. This will change numeric results when test-set sizes are unequal.\n",
      "  DeprecationWarning)\n"
     ]
    },
    {
     "data": {
      "text/plain": [
       "Pipeline(memory=None,\n",
       "         steps=[('kbest',\n",
       "                 SelectKBest(k=144,\n",
       "                             score_func=<function f_classif at 0x000000001BC6C840>)),\n",
       "                ('svc',\n",
       "                 SVC(C=700, cache_size=5, class_weight=None, coef0=0.0,\n",
       "                     decision_function_shape='ovr', degree=3, gamma=0.0005,\n",
       "                     kernel='rbf', max_iter=-1, probability=True,\n",
       "                     random_state=None, shrinking=True, tol=0.001,\n",
       "                     verbose=False))],\n",
       "         verbose=False)"
      ]
     },
     "execution_count": 110,
     "metadata": {},
     "output_type": "execute_result"
    }
   ],
   "source": [
    "#파이프라인 생성\n",
    "pipe_svc = Pipeline([(\"kbest\", model_kbest),('svc',svc)])\n",
    "#파라미터 생성\n",
    "params_svc = {\"kbest__k\":[144],\n",
    "          \"svc__C\": [400,500,700,800,900,1000],\n",
    "         \"svc__cache_size\": [5,10,20,30,50,70,100],\n",
    "         \"svc__tol\": [0.001,0.003,0.005,0.001,0.0005,0.0003],\n",
    "             \"svc__gamma\":[0.0001,0.0003,0.0005,0.001,0.005]}\n",
    "#최적모델 찾기\n",
    "grid_search = GridSearchCV(pipe_svc, param_grid = params_svc,\n",
    "                          cv=3, n_jobs=-1, verbose=0)\n",
    "grid_search.fit(sigungu_x_15scaled, sigungu_y.infection)\n",
    "#\n",
    "svc_grid = grid_search.best_estimator_#최적의 모델! 이미 fit되어있음\n",
    "svc_grid"
   ]
  },
  {
   "cell_type": "code",
   "execution_count": 111,
   "metadata": {},
   "outputs": [
    {
     "name": "stdout",
     "output_type": "stream",
     "text": [
      "f1 :\t\t0.8701298701298702\n",
      "accuracy :\t0.911504424778761\n",
      "precision :\t0.9054054054054054\n",
      "recall :\t0.8375\n",
      "[metric score]\n",
      "\n",
      " None\n",
      "f1-score:(0.7235670025585992, array([0.74509804, 0.69090909, 0.73469388]))\n",
      "accuracy:(0.8096491228070176, array([0.82894737, 0.77333333, 0.82666667]))\n",
      "precision:(0.7554945054945055, array([0.67857143, 0.73076923, 0.85714286]))\n",
      "recall:(0.7080388377239951, array([0.82608696, 0.65517241, 0.64285714]))\n",
      "[kfold crossvalscore]\n",
      "\n",
      " None\n"
     ]
    },
    {
     "data": {
      "text/html": [
       "<div>\n",
       "<style scoped>\n",
       "    .dataframe tbody tr th:only-of-type {\n",
       "        vertical-align: middle;\n",
       "    }\n",
       "\n",
       "    .dataframe tbody tr th {\n",
       "        vertical-align: top;\n",
       "    }\n",
       "\n",
       "    .dataframe thead th {\n",
       "        text-align: right;\n",
       "    }\n",
       "</style>\n",
       "<table border=\"1\" class=\"dataframe\">\n",
       "  <thead>\n",
       "    <tr style=\"text-align: right;\">\n",
       "      <th>Predicted</th>\n",
       "      <th>0</th>\n",
       "      <th>1</th>\n",
       "      <th>All</th>\n",
       "    </tr>\n",
       "    <tr>\n",
       "      <th>True</th>\n",
       "      <th></th>\n",
       "      <th></th>\n",
       "      <th></th>\n",
       "    </tr>\n",
       "  </thead>\n",
       "  <tbody>\n",
       "    <tr>\n",
       "      <td>0</td>\n",
       "      <td>139</td>\n",
       "      <td>7</td>\n",
       "      <td>146</td>\n",
       "    </tr>\n",
       "    <tr>\n",
       "      <td>1</td>\n",
       "      <td>13</td>\n",
       "      <td>67</td>\n",
       "      <td>80</td>\n",
       "    </tr>\n",
       "    <tr>\n",
       "      <td>All</td>\n",
       "      <td>152</td>\n",
       "      <td>74</td>\n",
       "      <td>226</td>\n",
       "    </tr>\n",
       "  </tbody>\n",
       "</table>\n",
       "</div>"
      ],
      "text/plain": [
       "Predicted    0   1  All\n",
       "True                   \n",
       "0          139   7  146\n",
       "1           13  67   80\n",
       "All        152  74  226"
      ]
     },
     "execution_count": 111,
     "metadata": {},
     "output_type": "execute_result"
    }
   ],
   "source": [
    "#학습과 예측\n",
    "svc_grid.fit(sigungu_x_15scaled, sigungu_y.infection)\n",
    "pred_svc_grid = svc_grid.predict(sigungu_x_14scaled)\n",
    "#스코어\n",
    "score(svc_grid, sigungu_x_14scaled, sigungu_y.infection, pred_svc_grid)"
   ]
  }
 ],
 "metadata": {
  "kernelspec": {
   "display_name": "Python 3",
   "language": "python",
   "name": "python3"
  },
  "language_info": {
   "codemirror_mode": {
    "name": "ipython",
    "version": 3
   },
   "file_extension": ".py",
   "mimetype": "text/x-python",
   "name": "python",
   "nbconvert_exporter": "python",
   "pygments_lexer": "ipython3",
   "version": "3.6.4"
  }
 },
 "nbformat": 4,
 "nbformat_minor": 2
}
