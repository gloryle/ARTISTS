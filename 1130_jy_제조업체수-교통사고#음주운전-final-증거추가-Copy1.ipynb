{
 "cells": [
  {
   "cell_type": "code",
   "execution_count": 23,
   "metadata": {},
   "outputs": [],
   "source": [
    "import pandas as pd\n",
    "import matplotlib.pyplot as plt\n",
    "import missingno as msno\n",
    "import numpy  as np\n",
    "import seaborn as sns\n",
    "%matplotlib inline\n",
    "\n",
    "path = './data/'\n",
    "pd.options.display.max_rows = 150\n",
    "pd.options.display.max_columns = 350\n",
    "plt.rc('font',family='Malgun Gothic')\n",
    "plt.rcParams['axes.unicode_minus'] = False"
   ]
  },
  {
   "cell_type": "markdown",
   "metadata": {},
   "source": [
    "## 데이터로드"
   ]
  },
  {
   "cell_type": "code",
   "execution_count": 2,
   "metadata": {},
   "outputs": [],
   "source": [
    "sigungu = pd.read_csv(path+'sigungu_imp_10.csv', encoding='cp949')\n",
    "sigungu_3 = pd.read_csv(path+'시군구별지역안전지표_2015.csv', encoding='cp949')"
   ]
  },
  {
   "cell_type": "code",
   "execution_count": 3,
   "metadata": {},
   "outputs": [],
   "source": [
    "y_bin = sigungu.iloc[:,-7:]    #등급(binary)\n",
    "y_deci = sigungu_3.iloc[:,-7:] #등급(1-5)\n",
    "X = sigungu.iloc[:,4:-7]       #독립변수X\n",
    "name = sigungu.iloc[:,:4]      #이름"
   ]
  },
  {
   "cell_type": "code",
   "execution_count": 4,
   "metadata": {},
   "outputs": [],
   "source": [
    "y_bin.columns = ['fire','transport','disaster','crime','accident','suicide','infection']"
   ]
  },
  {
   "cell_type": "code",
   "execution_count": 5,
   "metadata": {
    "scrolled": true
   },
   "outputs": [
    {
     "data": {
      "text/plain": [
       "(226, 162)"
      ]
     },
     "execution_count": 5,
     "metadata": {},
     "output_type": "execute_result"
    }
   ],
   "source": [
    "sigungu_xy = pd.concat([X,y_bin], axis=1)\n",
    "sigungu_nxy = pd.concat([name, sigungu_xy,y_deci], axis=1)\n",
    "sigungu_nxy.shape"
   ]
  },
  {
   "cell_type": "markdown",
   "metadata": {},
   "source": [
    "## 지표추가"
   ]
  },
  {
   "cell_type": "code",
   "execution_count": 6,
   "metadata": {},
   "outputs": [
    {
     "data": {
      "text/plain": [
       "(281, 3)"
      ]
     },
     "execution_count": 6,
     "metadata": {},
     "output_type": "execute_result"
    }
   ],
   "source": [
    "#성비 추가\n",
    "성비_2015 = pd.read_csv(path+'성비_2015.csv', encoding='cp949')\n",
    "성비_2015.drop(['연령별'],axis=1, inplace=True)\n",
    "성비_2015.columns=['시도','시군구','성비']\n",
    "sigungu_nxy= sigungu_nxy.merge(성비_2015)\n",
    "성비_2015.shape"
   ]
  },
  {
   "cell_type": "code",
   "execution_count": 7,
   "metadata": {},
   "outputs": [
    {
     "data": {
      "text/plain": [
       "(245, 8)"
      ]
     },
     "execution_count": 7,
     "metadata": {},
     "output_type": "execute_result"
    }
   ],
   "source": [
    "#외국인비율추가\n",
    "transpath = 'C:/Users/COM/Desktop/교통사고/'\n",
    "주민등록인구=pd.read_csv(transpath+'주민등록인구.csv', encoding='cp949')\n",
    "주민등록인구.rename(columns={'전국':'시도','소계':'시군구','주민등록인구':'전체인구'}, inplace=True)\n",
    "주민등록인구['외국인비율'] = 주민등록인구.등록외국인수 / 주민등록인구.전체인구*100\n",
    "sigungu_nxy\n",
    "sigungu_nxy=sigungu_nxy.merge(주민등록인구, on=['시도','시군구'])\n",
    "주민등록인구.shape"
   ]
  },
  {
   "cell_type": "code",
   "execution_count": 8,
   "metadata": {},
   "outputs": [
    {
     "data": {
      "text/plain": [
       "(225, 172)"
      ]
     },
     "execution_count": 8,
     "metadata": {},
     "output_type": "execute_result"
    }
   ],
   "source": [
    "#제조업비율추가\n",
    "manufact = pd.read_csv(transpath +'2017_제조업체_사업체.csv', encoding='cp949')\n",
    "manufact.head(1)\n",
    "# ex_manufact = manufact.loc[manufact['산업분류별']=='전체',['지역별(시/군/구)','2015']]\n",
    "# ex_manufact.columns = ['시군구','전체산업체수']\n",
    "# ex_manufact.reset_index(drop=True, inplace=True)\n",
    "# manufact = manufact.loc[~(manufact['산업분류별']=='전체'),['지역별(시/군/구)','2015']]\n",
    "# manufact.columns = ['시군구','제조업체수']\n",
    "# manufact.reset_index(drop=True, inplace=True)\n",
    "manufact['제조업비율'] = (manufact['제조사업체수']/manufact['사업체수'])\n",
    "manufact.head(1)\n",
    "sigungu_nxy.head(1)\n",
    "sigungu_nxy = sigungu_nxy.merge(manufact, on=['시도','시군구'])\n",
    "sigungu_nxy.shape"
   ]
  },
  {
   "cell_type": "code",
   "execution_count": 9,
   "metadata": {},
   "outputs": [],
   "source": [
    "# 종속변수 스트링으로: 범주형스캐터플랏을 그리기 위해서는 스트링이어야한다.\n",
    "# sigungu_nxy.transport = sigungu_nxy.transport.astype(str)\n",
    "# type(sigungu_nxy.transport[1])"
   ]
  },
  {
   "cell_type": "code",
   "execution_count": 10,
   "metadata": {},
   "outputs": [],
   "source": [
    "# for i in range(len(sigungu_nxy)):\n",
    "#     print(sigungu_nxy.corr().reset_index().loc[:,['index','제조업업체수']][i])\n",
    "# # sigungu_nxy.head(3)\n",
    "# # sigungu_nxy.corr().reset_index()\n",
    "# for i,var in var(sigungu_nxy):\n",
    "#     print(sigungu_nxy.corr().reset_index().loc[:,['index','제조업업체수']][i])"
   ]
  },
  {
   "cell_type": "markdown",
   "metadata": {},
   "source": [
    "# -표준화\n",
    "<pre>\n",
    "표준화하지 않고 그래프를 그립니다.\n",
    "그래프를 직관적으로 해석하기 위함입니다.\n",
    "예로,\n",
    "이혼건수 : (scale된 지표) 0.5보다는\n",
    "이혼건수 : (만명당) 20건이 더 직관적입니다.\n",
    "</pre>"
   ]
  },
  {
   "cell_type": "markdown",
   "metadata": {},
   "source": [
    "# -함수선언\n",
    "### 중앙선그리는 함수\n",
    "scatter(x=\"이혼건수\", y=\"5대범죄 발생건수\", color=\"crime\", df=sigungu_nxy, medianline=1, text=1, palette='picnic', hovername='지역')"
   ]
  },
  {
   "cell_type": "code",
   "execution_count": 11,
   "metadata": {},
   "outputs": [],
   "source": [
    "import plotly.express as px\n",
    "import plotly.graph_objects as go\n",
    "import statsmodels.api as sm\n",
    "def scatter(x, y, color, df, hovername=None,text=False, medianline=False, palette=['orange','green'], trendline=None):\n",
    "    if text == True:\n",
    "        fig = px.scatter(df, x=x, y=y, text='시군구',trendline=trendline,\n",
    "                             hover_name=hovername, color=color, color_discrete_sequence=palette)\n",
    "        fig.update_traces(textposition='top center')\n",
    "        regline = sm.OLS(df[y],sm.add_constant(df[x])).fit().fittedvalues\n",
    "        fig.add_traces(go.Scatter(x=df[x], y=regline,\n",
    "                          mode = 'lines',\n",
    "                          marker_color='black',\n",
    "                        line = dict(color = ('rgb(0,0,0)'),width=0.3),\n",
    "                          name='trend all'))\n",
    "    else:\n",
    "        fig = px.scatter(df, x=x, y=y,trendline=trendline,\n",
    "                         hover_name=hovername, color=color, color_discrete_sequence=palette)\n",
    "        fig.update_traces(textposition='top center')\n",
    "        regline = sm.OLS(df[y],sm.add_constant(df[x])).fit().fittedvalues\n",
    "        fig.add_traces(go.Scatter(x=df[x], y=regline,\n",
    "                          mode = 'lines',\n",
    "                          marker_color='black',\n",
    "                        line = dict(color = ('rgb(0,0,0)'),width=0.2),\n",
    "                          name='trend all'))\n",
    "    \n",
    "    #중앙값-----\n",
    "    if medianline==True:\n",
    "        #x축 중앙값 그리기\n",
    "        fig.add_trace(go.Scatter(x=[df[x].median()]*2,\n",
    "                       y=[-10000,10000],\n",
    "                       name=\"median x: \"+str(round(df[x].median(),2)),\n",
    "                       mode=\"lines\",\n",
    "                       line = dict(color = ('rgb(0,0,0)'),width=0.5),\n",
    "                       visible=True,))\n",
    "        #y축 중앙값 그리기\n",
    "        fig.add_trace(go.Scatter(x=[-10000,10000],\n",
    "                       y=[df[y].median()]*2,\n",
    "                       name=\"median y: \"+str(round(df[y].median(),2)),\n",
    "                       mode=\"lines\",\n",
    "                       line = dict(color = ('rgb(0,0,0)'),width=0.5),\n",
    "                       visible=True))\n",
    "#         fig.update_layout(legend=dict(x=-.05, y=1.15))\n",
    "    \n",
    "    \n",
    "        \n",
    "    #플롯 레이아웃(x범위, y범위) 설정----\n",
    "    fig.update_xaxes(range=[df[x].min()*0.8, df[x].max()*1.05]) #min값 음수인지 아닌지 확인 후 범위 조절\n",
    "    fig.update_yaxes(range=[df[y].min()*0.5, df[y].max()*1.05]) #min값 음수인지 아닌지 확인 후 범위 조절\n",
    "    fig.show()"
   ]
  },
  {
   "cell_type": "markdown",
   "metadata": {},
   "source": [
    "### 회귀식기준 위아래 갯수세기 함수\n",
    "total_regression(x_='교통사고 발생건수',y_='음주교통사고 발생비율', totaldf=sigungu_nxy,groupdf=group2)"
   ]
  },
  {
   "cell_type": "code",
   "execution_count": 12,
   "metadata": {},
   "outputs": [],
   "source": [
    "from scipy import stats\n",
    "def total_regression(x_,y_, totaldf,groupdf):\n",
    "    #전체에 대한 xy\n",
    "    x = totaldf[x_].tolist()\n",
    "    y = totaldf[y_].tolist()\n",
    "    #전체에 대한 회귀식생성\n",
    "    slope, intercept, r_value, p_value, std_err = stats.linregress(x,y)\n",
    "    #지표출력\n",
    "    print(stats.linregress(x,y))\n",
    "    print('Rsquared=',stats.linregress(x,y)[2]**2)\n",
    "        #group에 포함되는 xy\n",
    "    x = groupdf[x_].tolist()\n",
    "    y = groupdf[y_].tolist()\n",
    "    y_pred = []\n",
    "    for i in range(len(x)):\n",
    "        y_pred.append(slope*np.array(x[i])+intercept)\n",
    "    upper = 0\n",
    "    lower = 0\n",
    "    for i in range(len(y)):\n",
    "        if y[i]>=y_pred[i]:\n",
    "            upper +=1\n",
    "        else:\n",
    "            lower +=1\n",
    "    return pd.DataFrame({'':['total','upper','lower'],\n",
    "                          'count':[len(y),upper,lower],\n",
    "                          'ratio':[len(y)/len(y), upper/len(y), lower/len(y)]})"
   ]
  },
  {
   "cell_type": "markdown",
   "metadata": {},
   "source": [
    "# -가설설정\n",
    "### 제조업체수와 종사자수가 많고 교통등급이 낮은지역에서는 음주교통사고비율이 높을 것이다.\n",
    "<pre>\n",
    "(기각)제조업체수와 종사자수가 많은 공단지역에서는 음주단속비율이 높아 오히려 음주사망사고가 낮을 것이다.\n",
    "(기각)제조업체수와 종사자수가 많은 공장단지에서는 음주교통사고가 많을 것이다.</pre>\n",
    "\n",
    "# -가설검증\n"
   ]
  },
  {
   "cell_type": "markdown",
   "metadata": {},
   "source": [
    "### 그룹분류"
   ]
  },
  {
   "cell_type": "code",
   "execution_count": 13,
   "metadata": {},
   "outputs": [],
   "source": [
    "#2)데이터프레임의 새로운 열을 만들어 타겟팅 그룹을 구분한다.\n",
    "#1사분면의 모든 주황초록점 : group1, 1사분면 주황점: group2\n",
    "sigungu_nxy['group1'] = np.zeros(len(sigungu_nxy))\n",
    "sigungu_nxy['group2'] = np.zeros(len(sigungu_nxy))\n",
    "#조건을 만족하는 행 인덱스 가져오기\n",
    "cond = (sigungu_nxy['제조업 업체수']>sigungu_nxy['제조업 업체수'].median())&((sigungu_nxy['제조업 종사자수']>sigungu_nxy['제조업 종사자수'].median()))\n",
    "group1_index = sigungu_nxy.loc[cond].index\n",
    "group2_index = sigungu_nxy.loc[cond&sigungu_nxy.transport==1].index\n",
    "#group1에 속하는 애들을 1로 표시\n",
    "sigungu_nxy.loc[sigungu_nxy.index.isin(group1_index),'group1'] = 1\n",
    "sigungu_nxy.loc[sigungu_nxy.index.isin(group2_index),'group2'] = 1"
   ]
  },
  {
   "cell_type": "code",
   "execution_count": 14,
   "metadata": {},
   "outputs": [],
   "source": [
    "#group1/2를 구분\n",
    "group1 = sigungu_nxy.loc[sigungu_nxy.group1==1]\n",
    "group2 = sigungu_nxy.loc[sigungu_nxy.group2==1]"
   ]
  },
  {
   "cell_type": "markdown",
   "metadata": {},
   "source": [
    "### 2. 가설검증에 필요한 지표를 새로운 열로 추가\n",
    "외부데이터수집, 데이터변형, 데이터프레임화"
   ]
  },
  {
   "cell_type": "code",
   "execution_count": 15,
   "metadata": {},
   "outputs": [],
   "source": [
    "#음주사고비율 추가(음주교통사고/일반교통사고)\n",
    "sigungu_nxy['음주교통사고 발생비율'] = sigungu_nxy['음주교통사고 발생건수']/sigungu_nxy['교통사고 발생건수']"
   ]
  },
  {
   "cell_type": "code",
   "execution_count": 16,
   "metadata": {},
   "outputs": [
    {
     "name": "stdout",
     "output_type": "stream",
     "text": [
      "LinregressResult(slope=0.1338744307398634, intercept=19.903327511470827, rvalue=0.6445062175128073, pvalue=8.339258322897315e-28, stderr=0.010635351767405677)\n",
      "Rsquared= 0.41538826441266613\n"
     ]
    },
    {
     "data": {
      "text/html": [
       "<div>\n",
       "<style scoped>\n",
       "    .dataframe tbody tr th:only-of-type {\n",
       "        vertical-align: middle;\n",
       "    }\n",
       "\n",
       "    .dataframe tbody tr th {\n",
       "        vertical-align: top;\n",
       "    }\n",
       "\n",
       "    .dataframe thead th {\n",
       "        text-align: right;\n",
       "    }\n",
       "</style>\n",
       "<table border=\"1\" class=\"dataframe\">\n",
       "  <thead>\n",
       "    <tr style=\"text-align: right;\">\n",
       "      <th></th>\n",
       "      <th></th>\n",
       "      <th>count</th>\n",
       "      <th>ratio</th>\n",
       "    </tr>\n",
       "  </thead>\n",
       "  <tbody>\n",
       "    <tr>\n",
       "      <td>0</td>\n",
       "      <td>total</td>\n",
       "      <td>40</td>\n",
       "      <td>1.0</td>\n",
       "    </tr>\n",
       "    <tr>\n",
       "      <td>1</td>\n",
       "      <td>upper</td>\n",
       "      <td>28</td>\n",
       "      <td>0.7</td>\n",
       "    </tr>\n",
       "    <tr>\n",
       "      <td>2</td>\n",
       "      <td>lower</td>\n",
       "      <td>12</td>\n",
       "      <td>0.3</td>\n",
       "    </tr>\n",
       "  </tbody>\n",
       "</table>\n",
       "</div>"
      ],
      "text/plain": [
       "          count  ratio\n",
       "0  total     40    1.0\n",
       "1  upper     28    0.7\n",
       "2  lower     12    0.3"
      ]
     },
     "execution_count": 16,
     "metadata": {},
     "output_type": "execute_result"
    }
   ],
   "source": [
    "#2)회귀식기준 위아래 비율 비교\n",
    "sigungu_nxy.group1 = sigungu_nxy.group1.astype(int)\n",
    "sigungu_nxy.group2 = sigungu_nxy.group2.astype(int)\n",
    "total_regression(x_='교통사고 발생건수',y_='음주교통사고 발생건수', totaldf=sigungu_nxy,groupdf=group2)"
   ]
  },
  {
   "cell_type": "code",
   "execution_count": 17,
   "metadata": {},
   "outputs": [
    {
     "name": "stderr",
     "output_type": "stream",
     "text": [
      "C:\\Anaconda3\\lib\\site-packages\\pandas\\core\\frame.py:4223: SettingWithCopyWarning:\n",
      "\n",
      "\n",
      "A value is trying to be set on a copy of a slice from a DataFrame\n",
      "\n",
      "See the caveats in the documentation: http://pandas.pydata.org/pandas-docs/stable/user_guide/indexing.html#returning-a-view-versus-a-copy\n",
      "\n"
     ]
    },
    {
     "ename": "PatsyError",
     "evalue": "Error evaluating factor: NameError: name '음주교통사고발생비율' is not defined\n    음주교통사고발생비율 ~ 제조업비율+성비+외국인비율\n    ^^^^^^^^^^",
     "output_type": "error",
     "traceback": [
      "\u001b[1;31m---------------------------------------------------------------------------\u001b[0m",
      "\u001b[1;31mNameError\u001b[0m                                 Traceback (most recent call last)",
      "\u001b[1;32mC:\\Anaconda3\\lib\\site-packages\\patsy\\compat.py\u001b[0m in \u001b[0;36mcall_and_wrap_exc\u001b[1;34m(msg, origin, f, *args, **kwargs)\u001b[0m\n\u001b[0;32m     35\u001b[0m     \u001b[1;32mtry\u001b[0m\u001b[1;33m:\u001b[0m\u001b[1;33m\u001b[0m\u001b[0m\n\u001b[1;32m---> 36\u001b[1;33m         \u001b[1;32mreturn\u001b[0m \u001b[0mf\u001b[0m\u001b[1;33m(\u001b[0m\u001b[1;33m*\u001b[0m\u001b[0margs\u001b[0m\u001b[1;33m,\u001b[0m \u001b[1;33m**\u001b[0m\u001b[0mkwargs\u001b[0m\u001b[1;33m)\u001b[0m\u001b[1;33m\u001b[0m\u001b[0m\n\u001b[0m\u001b[0;32m     37\u001b[0m     \u001b[1;32mexcept\u001b[0m \u001b[0mException\u001b[0m \u001b[1;32mas\u001b[0m \u001b[0me\u001b[0m\u001b[1;33m:\u001b[0m\u001b[1;33m\u001b[0m\u001b[0m\n",
      "\u001b[1;32mC:\\Anaconda3\\lib\\site-packages\\patsy\\eval.py\u001b[0m in \u001b[0;36meval\u001b[1;34m(self, expr, source_name, inner_namespace)\u001b[0m\n\u001b[0;32m    165\u001b[0m         return eval(code, {}, VarLookupDict([inner_namespace]\n\u001b[1;32m--> 166\u001b[1;33m                                             + self._namespaces))\n\u001b[0m\u001b[0;32m    167\u001b[0m \u001b[1;33m\u001b[0m\u001b[0m\n",
      "\u001b[1;32m<string>\u001b[0m in \u001b[0;36m<module>\u001b[1;34m()\u001b[0m\n",
      "\u001b[1;31mNameError\u001b[0m: name '음주교통사고발생비율' is not defined",
      "\nThe above exception was the direct cause of the following exception:\n",
      "\u001b[1;31mPatsyError\u001b[0m                                Traceback (most recent call last)",
      "\u001b[1;32m<ipython-input-17-7027fa72cd9d>\u001b[0m in \u001b[0;36m<module>\u001b[1;34m()\u001b[0m\n\u001b[0;32m      8\u001b[0m               \u001b[1;34m'제조업 종사자수'\u001b[0m\u001b[1;33m:\u001b[0m\u001b[1;34m'제조업종사자수'\u001b[0m\u001b[1;33m,\u001b[0m\u001b[1;33m\u001b[0m\u001b[0m\n\u001b[0;32m      9\u001b[0m               '교통사고 발생건수':'교통사고발생건수'}, inplace=True)\n\u001b[1;32m---> 10\u001b[1;33m \u001b[0mreg\u001b[0m \u001b[1;33m=\u001b[0m \u001b[0msm\u001b[0m\u001b[1;33m.\u001b[0m\u001b[0mOLS\u001b[0m\u001b[1;33m.\u001b[0m\u001b[0mfrom_formula\u001b[0m\u001b[1;33m(\u001b[0m\u001b[1;34m\"음주교통사고발생비율 ~ 제조업비율+성비+외국인비율\"\u001b[0m\u001b[1;33m,\u001b[0m \u001b[0mgroup2\u001b[0m\u001b[1;33m)\u001b[0m\u001b[1;33m.\u001b[0m\u001b[0mfit\u001b[0m\u001b[1;33m(\u001b[0m\u001b[1;33m)\u001b[0m\u001b[1;33m\u001b[0m\u001b[0m\n\u001b[0m\u001b[0;32m     11\u001b[0m \u001b[0mreg\u001b[0m \u001b[1;33m=\u001b[0m \u001b[0msm\u001b[0m\u001b[1;33m.\u001b[0m\u001b[0mOLS\u001b[0m\u001b[1;33m.\u001b[0m\u001b[0mfrom_formula\u001b[0m\u001b[1;33m(\u001b[0m\u001b[1;34m\"음주교통사고발생건수 ~ 제조업업체수+주민등록인구여자+외국인수\"\u001b[0m\u001b[1;33m,\u001b[0m \u001b[0mgroup2\u001b[0m\u001b[1;33m)\u001b[0m\u001b[1;33m.\u001b[0m\u001b[0mfit\u001b[0m\u001b[1;33m(\u001b[0m\u001b[1;33m)\u001b[0m\u001b[1;33m\u001b[0m\u001b[0m\n\u001b[0;32m     12\u001b[0m \u001b[0mreg\u001b[0m\u001b[1;33m.\u001b[0m\u001b[0msummary\u001b[0m\u001b[1;33m(\u001b[0m\u001b[1;33m)\u001b[0m\u001b[1;33m\u001b[0m\u001b[0m\n",
      "\u001b[1;32mC:\\Anaconda3\\lib\\site-packages\\statsmodels\\base\\model.py\u001b[0m in \u001b[0;36mfrom_formula\u001b[1;34m(cls, formula, data, subset, drop_cols, *args, **kwargs)\u001b[0m\n\u001b[0;32m    157\u001b[0m \u001b[1;33m\u001b[0m\u001b[0m\n\u001b[0;32m    158\u001b[0m         tmp = handle_formula_data(data, None, formula, depth=eval_env,\n\u001b[1;32m--> 159\u001b[1;33m                                   missing=missing)\n\u001b[0m\u001b[0;32m    160\u001b[0m         \u001b[1;33m(\u001b[0m\u001b[1;33m(\u001b[0m\u001b[0mendog\u001b[0m\u001b[1;33m,\u001b[0m \u001b[0mexog\u001b[0m\u001b[1;33m)\u001b[0m\u001b[1;33m,\u001b[0m \u001b[0mmissing_idx\u001b[0m\u001b[1;33m,\u001b[0m \u001b[0mdesign_info\u001b[0m\u001b[1;33m)\u001b[0m \u001b[1;33m=\u001b[0m \u001b[0mtmp\u001b[0m\u001b[1;33m\u001b[0m\u001b[0m\n\u001b[0;32m    161\u001b[0m \u001b[1;33m\u001b[0m\u001b[0m\n",
      "\u001b[1;32mC:\\Anaconda3\\lib\\site-packages\\statsmodels\\formula\\formulatools.py\u001b[0m in \u001b[0;36mhandle_formula_data\u001b[1;34m(Y, X, formula, depth, missing)\u001b[0m\n\u001b[0;32m     63\u001b[0m         \u001b[1;32mif\u001b[0m \u001b[0mdata_util\u001b[0m\u001b[1;33m.\u001b[0m\u001b[0m_is_using_pandas\u001b[0m\u001b[1;33m(\u001b[0m\u001b[0mY\u001b[0m\u001b[1;33m,\u001b[0m \u001b[1;32mNone\u001b[0m\u001b[1;33m)\u001b[0m\u001b[1;33m:\u001b[0m\u001b[1;33m\u001b[0m\u001b[0m\n\u001b[0;32m     64\u001b[0m             result = dmatrices(formula, Y, depth, return_type='dataframe',\n\u001b[1;32m---> 65\u001b[1;33m                                NA_action=na_action)\n\u001b[0m\u001b[0;32m     66\u001b[0m         \u001b[1;32melse\u001b[0m\u001b[1;33m:\u001b[0m\u001b[1;33m\u001b[0m\u001b[0m\n\u001b[0;32m     67\u001b[0m             result = dmatrices(formula, Y, depth, return_type='dataframe',\n",
      "\u001b[1;32mC:\\Anaconda3\\lib\\site-packages\\patsy\\highlevel.py\u001b[0m in \u001b[0;36mdmatrices\u001b[1;34m(formula_like, data, eval_env, NA_action, return_type)\u001b[0m\n\u001b[0;32m    308\u001b[0m     \u001b[0meval_env\u001b[0m \u001b[1;33m=\u001b[0m \u001b[0mEvalEnvironment\u001b[0m\u001b[1;33m.\u001b[0m\u001b[0mcapture\u001b[0m\u001b[1;33m(\u001b[0m\u001b[0meval_env\u001b[0m\u001b[1;33m,\u001b[0m \u001b[0mreference\u001b[0m\u001b[1;33m=\u001b[0m\u001b[1;36m1\u001b[0m\u001b[1;33m)\u001b[0m\u001b[1;33m\u001b[0m\u001b[0m\n\u001b[0;32m    309\u001b[0m     (lhs, rhs) = _do_highlevel_design(formula_like, data, eval_env,\n\u001b[1;32m--> 310\u001b[1;33m                                       NA_action, return_type)\n\u001b[0m\u001b[0;32m    311\u001b[0m     \u001b[1;32mif\u001b[0m \u001b[0mlhs\u001b[0m\u001b[1;33m.\u001b[0m\u001b[0mshape\u001b[0m\u001b[1;33m[\u001b[0m\u001b[1;36m1\u001b[0m\u001b[1;33m]\u001b[0m \u001b[1;33m==\u001b[0m \u001b[1;36m0\u001b[0m\u001b[1;33m:\u001b[0m\u001b[1;33m\u001b[0m\u001b[0m\n\u001b[0;32m    312\u001b[0m         \u001b[1;32mraise\u001b[0m \u001b[0mPatsyError\u001b[0m\u001b[1;33m(\u001b[0m\u001b[1;34m\"model is missing required outcome variables\"\u001b[0m\u001b[1;33m)\u001b[0m\u001b[1;33m\u001b[0m\u001b[0m\n",
      "\u001b[1;32mC:\\Anaconda3\\lib\\site-packages\\patsy\\highlevel.py\u001b[0m in \u001b[0;36m_do_highlevel_design\u001b[1;34m(formula_like, data, eval_env, NA_action, return_type)\u001b[0m\n\u001b[0;32m    163\u001b[0m         \u001b[1;32mreturn\u001b[0m \u001b[0miter\u001b[0m\u001b[1;33m(\u001b[0m\u001b[1;33m[\u001b[0m\u001b[0mdata\u001b[0m\u001b[1;33m]\u001b[0m\u001b[1;33m)\u001b[0m\u001b[1;33m\u001b[0m\u001b[0m\n\u001b[0;32m    164\u001b[0m     design_infos = _try_incr_builders(formula_like, data_iter_maker, eval_env,\n\u001b[1;32m--> 165\u001b[1;33m                                       NA_action)\n\u001b[0m\u001b[0;32m    166\u001b[0m     \u001b[1;32mif\u001b[0m \u001b[0mdesign_infos\u001b[0m \u001b[1;32mis\u001b[0m \u001b[1;32mnot\u001b[0m \u001b[1;32mNone\u001b[0m\u001b[1;33m:\u001b[0m\u001b[1;33m\u001b[0m\u001b[0m\n\u001b[0;32m    167\u001b[0m         return build_design_matrices(design_infos, data,\n",
      "\u001b[1;32mC:\\Anaconda3\\lib\\site-packages\\patsy\\highlevel.py\u001b[0m in \u001b[0;36m_try_incr_builders\u001b[1;34m(formula_like, data_iter_maker, eval_env, NA_action)\u001b[0m\n\u001b[0;32m     68\u001b[0m                                       \u001b[0mdata_iter_maker\u001b[0m\u001b[1;33m,\u001b[0m\u001b[1;33m\u001b[0m\u001b[0m\n\u001b[0;32m     69\u001b[0m                                       \u001b[0meval_env\u001b[0m\u001b[1;33m,\u001b[0m\u001b[1;33m\u001b[0m\u001b[0m\n\u001b[1;32m---> 70\u001b[1;33m                                       NA_action)\n\u001b[0m\u001b[0;32m     71\u001b[0m     \u001b[1;32melse\u001b[0m\u001b[1;33m:\u001b[0m\u001b[1;33m\u001b[0m\u001b[0m\n\u001b[0;32m     72\u001b[0m         \u001b[1;32mreturn\u001b[0m \u001b[1;32mNone\u001b[0m\u001b[1;33m\u001b[0m\u001b[0m\n",
      "\u001b[1;32mC:\\Anaconda3\\lib\\site-packages\\patsy\\build.py\u001b[0m in \u001b[0;36mdesign_matrix_builders\u001b[1;34m(termlists, data_iter_maker, eval_env, NA_action)\u001b[0m\n\u001b[0;32m    694\u001b[0m                                                    \u001b[0mfactor_states\u001b[0m\u001b[1;33m,\u001b[0m\u001b[1;33m\u001b[0m\u001b[0m\n\u001b[0;32m    695\u001b[0m                                                    \u001b[0mdata_iter_maker\u001b[0m\u001b[1;33m,\u001b[0m\u001b[1;33m\u001b[0m\u001b[0m\n\u001b[1;32m--> 696\u001b[1;33m                                                    NA_action)\n\u001b[0m\u001b[0;32m    697\u001b[0m     \u001b[1;31m# Now we need the factor infos, which encapsulate the knowledge of\u001b[0m\u001b[1;33m\u001b[0m\u001b[1;33m\u001b[0m\u001b[0m\n\u001b[0;32m    698\u001b[0m     \u001b[1;31m# how to turn any given factor into a chunk of data:\u001b[0m\u001b[1;33m\u001b[0m\u001b[1;33m\u001b[0m\u001b[0m\n",
      "\u001b[1;32mC:\\Anaconda3\\lib\\site-packages\\patsy\\build.py\u001b[0m in \u001b[0;36m_examine_factor_types\u001b[1;34m(factors, factor_states, data_iter_maker, NA_action)\u001b[0m\n\u001b[0;32m    441\u001b[0m     \u001b[1;32mfor\u001b[0m \u001b[0mdata\u001b[0m \u001b[1;32min\u001b[0m \u001b[0mdata_iter_maker\u001b[0m\u001b[1;33m(\u001b[0m\u001b[1;33m)\u001b[0m\u001b[1;33m:\u001b[0m\u001b[1;33m\u001b[0m\u001b[0m\n\u001b[0;32m    442\u001b[0m         \u001b[1;32mfor\u001b[0m \u001b[0mfactor\u001b[0m \u001b[1;32min\u001b[0m \u001b[0mlist\u001b[0m\u001b[1;33m(\u001b[0m\u001b[0mexamine_needed\u001b[0m\u001b[1;33m)\u001b[0m\u001b[1;33m:\u001b[0m\u001b[1;33m\u001b[0m\u001b[0m\n\u001b[1;32m--> 443\u001b[1;33m             \u001b[0mvalue\u001b[0m \u001b[1;33m=\u001b[0m \u001b[0mfactor\u001b[0m\u001b[1;33m.\u001b[0m\u001b[0meval\u001b[0m\u001b[1;33m(\u001b[0m\u001b[0mfactor_states\u001b[0m\u001b[1;33m[\u001b[0m\u001b[0mfactor\u001b[0m\u001b[1;33m]\u001b[0m\u001b[1;33m,\u001b[0m \u001b[0mdata\u001b[0m\u001b[1;33m)\u001b[0m\u001b[1;33m\u001b[0m\u001b[0m\n\u001b[0m\u001b[0;32m    444\u001b[0m             \u001b[1;32mif\u001b[0m \u001b[0mfactor\u001b[0m \u001b[1;32min\u001b[0m \u001b[0mcat_sniffers\u001b[0m \u001b[1;32mor\u001b[0m \u001b[0mguess_categorical\u001b[0m\u001b[1;33m(\u001b[0m\u001b[0mvalue\u001b[0m\u001b[1;33m)\u001b[0m\u001b[1;33m:\u001b[0m\u001b[1;33m\u001b[0m\u001b[0m\n\u001b[0;32m    445\u001b[0m                 \u001b[1;32mif\u001b[0m \u001b[0mfactor\u001b[0m \u001b[1;32mnot\u001b[0m \u001b[1;32min\u001b[0m \u001b[0mcat_sniffers\u001b[0m\u001b[1;33m:\u001b[0m\u001b[1;33m\u001b[0m\u001b[0m\n",
      "\u001b[1;32mC:\\Anaconda3\\lib\\site-packages\\patsy\\eval.py\u001b[0m in \u001b[0;36meval\u001b[1;34m(self, memorize_state, data)\u001b[0m\n\u001b[0;32m    564\u001b[0m         return self._eval(memorize_state[\"eval_code\"],\n\u001b[0;32m    565\u001b[0m                           \u001b[0mmemorize_state\u001b[0m\u001b[1;33m,\u001b[0m\u001b[1;33m\u001b[0m\u001b[0m\n\u001b[1;32m--> 566\u001b[1;33m                           data)\n\u001b[0m\u001b[0;32m    567\u001b[0m \u001b[1;33m\u001b[0m\u001b[0m\n\u001b[0;32m    568\u001b[0m     \u001b[0m__getstate__\u001b[0m \u001b[1;33m=\u001b[0m \u001b[0mno_pickling\u001b[0m\u001b[1;33m\u001b[0m\u001b[0m\n",
      "\u001b[1;32mC:\\Anaconda3\\lib\\site-packages\\patsy\\eval.py\u001b[0m in \u001b[0;36m_eval\u001b[1;34m(self, code, memorize_state, data)\u001b[0m\n\u001b[0;32m    549\u001b[0m                                  \u001b[0mmemorize_state\u001b[0m\u001b[1;33m[\u001b[0m\u001b[1;34m\"eval_env\"\u001b[0m\u001b[1;33m]\u001b[0m\u001b[1;33m.\u001b[0m\u001b[0meval\u001b[0m\u001b[1;33m,\u001b[0m\u001b[1;33m\u001b[0m\u001b[0m\n\u001b[0;32m    550\u001b[0m                                  \u001b[0mcode\u001b[0m\u001b[1;33m,\u001b[0m\u001b[1;33m\u001b[0m\u001b[0m\n\u001b[1;32m--> 551\u001b[1;33m                                  inner_namespace=inner_namespace)\n\u001b[0m\u001b[0;32m    552\u001b[0m \u001b[1;33m\u001b[0m\u001b[0m\n\u001b[0;32m    553\u001b[0m     \u001b[1;32mdef\u001b[0m \u001b[0mmemorize_chunk\u001b[0m\u001b[1;33m(\u001b[0m\u001b[0mself\u001b[0m\u001b[1;33m,\u001b[0m \u001b[0mstate\u001b[0m\u001b[1;33m,\u001b[0m \u001b[0mwhich_pass\u001b[0m\u001b[1;33m,\u001b[0m \u001b[0mdata\u001b[0m\u001b[1;33m)\u001b[0m\u001b[1;33m:\u001b[0m\u001b[1;33m\u001b[0m\u001b[0m\n",
      "\u001b[1;32mC:\\Anaconda3\\lib\\site-packages\\patsy\\compat.py\u001b[0m in \u001b[0;36mcall_and_wrap_exc\u001b[1;34m(msg, origin, f, *args, **kwargs)\u001b[0m\n\u001b[0;32m     41\u001b[0m                                  origin)\n\u001b[0;32m     42\u001b[0m             \u001b[1;31m# Use 'exec' to hide this syntax from the Python 2 parser:\u001b[0m\u001b[1;33m\u001b[0m\u001b[1;33m\u001b[0m\u001b[0m\n\u001b[1;32m---> 43\u001b[1;33m             \u001b[0mexec\u001b[0m\u001b[1;33m(\u001b[0m\u001b[1;34m\"raise new_exc from e\"\u001b[0m\u001b[1;33m)\u001b[0m\u001b[1;33m\u001b[0m\u001b[0m\n\u001b[0m\u001b[0;32m     44\u001b[0m         \u001b[1;32melse\u001b[0m\u001b[1;33m:\u001b[0m\u001b[1;33m\u001b[0m\u001b[0m\n\u001b[0;32m     45\u001b[0m             \u001b[1;31m# In python 2, we just let the original exception escape -- better\u001b[0m\u001b[1;33m\u001b[0m\u001b[1;33m\u001b[0m\u001b[0m\n",
      "\u001b[1;32mC:\\Anaconda3\\lib\\site-packages\\patsy\\compat.py\u001b[0m in \u001b[0;36m<module>\u001b[1;34m()\u001b[0m\n",
      "\u001b[1;31mPatsyError\u001b[0m: Error evaluating factor: NameError: name '음주교통사고발생비율' is not defined\n    음주교통사고발생비율 ~ 제조업비율+성비+외국인비율\n    ^^^^^^^^^^"
     ]
    }
   ],
   "source": [
    "#우리가 생각했던 매개변수들이\n",
    "#음주운전이라는 것을 얼마나 잘 설명할 수 있는가?(유의한식으로)\n",
    "import statsmodels.api as sm\n",
    "group2.rename(columns={'음주교통사고 발생비율':'음주교통사고발생비율',\n",
    "                       '음주교통사고 발생건수':'음주교통사고발생건수',\n",
    "                       '주민등록인구(여자)':'주민등록인구여자',\n",
    "              '제조업 업체수':'제조업업체수',\n",
    "              '제조업 종사자수':'제조업종사자수',\n",
    "              '교통사고 발생건수':'교통사고발생건수'}, inplace=True)\n",
    "reg = sm.OLS.from_formula(\"음주교통사고발생비율 ~ 제조업비율+성비+외국인비율\", group2).fit()\n",
    "reg = sm.OLS.from_formula(\"음주교통사고발생건수 ~ 제조업업체수+주민등록인구여자+외국인수\", group2).fit()\n",
    "reg.summary()\n",
    "# 제조업업체수+제조업종사자수+교통사고발생건수: P0.04, R0.19\n",
    "# 제조업업체수+제조업종사자수: P0.07(X), R0.13\n",
    "# 제조업업체수: P0.03, R0.11"
   ]
  },
  {
   "cell_type": "code",
   "execution_count": 18,
   "metadata": {},
   "outputs": [
    {
     "data": {
      "text/html": [
       "<table class=\"simpletable\">\n",
       "<caption>OLS Regression Results</caption>\n",
       "<tr>\n",
       "  <th>Dep. Variable:</th>       <td>음주교통사고발생건수</td>    <th>  R-squared:         </th> <td>   0.207</td>\n",
       "</tr>\n",
       "<tr>\n",
       "  <th>Model:</th>                   <td>OLS</td>       <th>  Adj. R-squared:    </th> <td>   0.196</td>\n",
       "</tr>\n",
       "<tr>\n",
       "  <th>Method:</th>             <td>Least Squares</td>  <th>  F-statistic:       </th> <td>   19.23</td>\n",
       "</tr>\n",
       "<tr>\n",
       "  <th>Date:</th>             <td>Wed, 04 Dec 2019</td> <th>  Prob (F-statistic):</th> <td>4.06e-11</td>\n",
       "</tr>\n",
       "<tr>\n",
       "  <th>Time:</th>                 <td>15:46:42</td>     <th>  Log-Likelihood:    </th> <td> -905.26</td>\n",
       "</tr>\n",
       "<tr>\n",
       "  <th>No. Observations:</th>      <td>   225</td>      <th>  AIC:               </th> <td>   1819.</td>\n",
       "</tr>\n",
       "<tr>\n",
       "  <th>Df Residuals:</th>          <td>   221</td>      <th>  BIC:               </th> <td>   1832.</td>\n",
       "</tr>\n",
       "<tr>\n",
       "  <th>Df Model:</th>              <td>     3</td>      <th>                     </th>     <td> </td>   \n",
       "</tr>\n",
       "<tr>\n",
       "  <th>Covariance Type:</th>      <td>nonrobust</td>    <th>                     </th>     <td> </td>   \n",
       "</tr>\n",
       "</table>\n",
       "<table class=\"simpletable\">\n",
       "<tr>\n",
       "      <td></td>         <th>coef</th>     <th>std err</th>      <th>t</th>      <th>P>|t|</th>  <th>[0.025</th>    <th>0.975]</th>  \n",
       "</tr>\n",
       "<tr>\n",
       "  <th>Intercept</th> <td>  -87.2742</td> <td>   38.859</td> <td>   -2.246</td> <td> 0.026</td> <td> -163.856</td> <td>  -10.692</td>\n",
       "</tr>\n",
       "<tr>\n",
       "  <th>제조업업체수</th>    <td>    0.0724</td> <td>    0.013</td> <td>    5.666</td> <td> 0.000</td> <td>    0.047</td> <td>    0.098</td>\n",
       "</tr>\n",
       "<tr>\n",
       "  <th>주민등록인구여자</th>  <td>    0.0253</td> <td>    0.008</td> <td>    3.276</td> <td> 0.001</td> <td>    0.010</td> <td>    0.040</td>\n",
       "</tr>\n",
       "<tr>\n",
       "  <th>외국인수</th>      <td>    0.0069</td> <td>    0.007</td> <td>    1.039</td> <td> 0.300</td> <td>   -0.006</td> <td>    0.020</td>\n",
       "</tr>\n",
       "</table>\n",
       "<table class=\"simpletable\">\n",
       "<tr>\n",
       "  <th>Omnibus:</th>       <td>113.389</td> <th>  Durbin-Watson:     </th> <td>   1.699</td> \n",
       "</tr>\n",
       "<tr>\n",
       "  <th>Prob(Omnibus):</th> <td> 0.000</td>  <th>  Jarque-Bera (JB):  </th> <td> 985.456</td> \n",
       "</tr>\n",
       "<tr>\n",
       "  <th>Skew:</th>          <td> 1.753</td>  <th>  Prob(JB):          </th> <td>1.03e-214</td>\n",
       "</tr>\n",
       "<tr>\n",
       "  <th>Kurtosis:</th>      <td>12.634</td>  <th>  Cond. No.          </th> <td>2.13e+05</td> \n",
       "</tr>\n",
       "</table><br/><br/>Warnings:<br/>[1] Standard Errors assume that the covariance matrix of the errors is correctly specified.<br/>[2] The condition number is large, 2.13e+05. This might indicate that there are<br/>strong multicollinearity or other numerical problems."
      ],
      "text/plain": [
       "<class 'statsmodels.iolib.summary.Summary'>\n",
       "\"\"\"\n",
       "                            OLS Regression Results                            \n",
       "==============================================================================\n",
       "Dep. Variable:             음주교통사고발생건수   R-squared:                       0.207\n",
       "Model:                            OLS   Adj. R-squared:                  0.196\n",
       "Method:                 Least Squares   F-statistic:                     19.23\n",
       "Date:                Wed, 04 Dec 2019   Prob (F-statistic):           4.06e-11\n",
       "Time:                        15:46:42   Log-Likelihood:                -905.26\n",
       "No. Observations:                 225   AIC:                             1819.\n",
       "Df Residuals:                     221   BIC:                             1832.\n",
       "Df Model:                           3                                         \n",
       "Covariance Type:            nonrobust                                         \n",
       "==============================================================================\n",
       "                 coef    std err          t      P>|t|      [0.025      0.975]\n",
       "------------------------------------------------------------------------------\n",
       "Intercept    -87.2742     38.859     -2.246      0.026    -163.856     -10.692\n",
       "제조업업체수         0.0724      0.013      5.666      0.000       0.047       0.098\n",
       "주민등록인구여자       0.0253      0.008      3.276      0.001       0.010       0.040\n",
       "외국인수           0.0069      0.007      1.039      0.300      -0.006       0.020\n",
       "==============================================================================\n",
       "Omnibus:                      113.389   Durbin-Watson:                   1.699\n",
       "Prob(Omnibus):                  0.000   Jarque-Bera (JB):              985.456\n",
       "Skew:                           1.753   Prob(JB):                    1.03e-214\n",
       "Kurtosis:                      12.634   Cond. No.                     2.13e+05\n",
       "==============================================================================\n",
       "\n",
       "Warnings:\n",
       "[1] Standard Errors assume that the covariance matrix of the errors is correctly specified.\n",
       "[2] The condition number is large, 2.13e+05. This might indicate that there are\n",
       "strong multicollinearity or other numerical problems.\n",
       "\"\"\""
      ]
     },
     "execution_count": 18,
     "metadata": {},
     "output_type": "execute_result"
    }
   ],
   "source": [
    "#우리가 생각했던 매개변수들이\n",
    "#음주운전이라는 것을 얼마나 잘 설명할 수 있는가?(유의한식으로)\n",
    "import statsmodels.api as sm\n",
    "sigungu_nxy.rename(columns={'음주교통사고 발생비율':'음주교통사고발생비율',\n",
    "                      '제조업 업체수':'제조업업체수',\n",
    "                      '제조업 종사자수':'제조업종사자수',\n",
    "                      '교통사고 발생건수':'교통사고발생건수',\n",
    "                      '교통사고 사망자수':'교통사고사망자수',\n",
    "                      '교통사고 부상자수':'교통사고부상자수',\n",
    "                      '의료보장 사업장수':'의료보장사업장수',\n",
    "                            '음주교통사고 발생건수':'음주교통사고발생건수',\n",
    "                            '주민등록인구(여자)':'주민등록인구여자',\n",
    "                      '1인가구수':'일인가구수',\n",
    "                      '학교수(중학교)':'중학교수',\n",
    "                      '음식점 및 주점업 종사자수':'음식점및주점업종사자수',\n",
    "                      '음식점 및 주점업 업체수':'음식점및주점업업체수',\n",
    "                      '지역안전도(점수)':'지역안전도'}, inplace=True)\n",
    "reg = sm.OLS.from_formula(\"음주교통사고발생비율 ~ 제조업업체수+성비+외국인수\", sigungu_nxy).fit()\n",
    "reg = sm.OLS.from_formula(\"음주교통사고발생비율 ~ 제조업비율+성비+외국인비율\", sigungu_nxy).fit()\n",
    "reg = sm.OLS.from_formula(\"음주교통사고발생건수 ~ 제조업업체수+주민등록인구여자+외국인수\", sigungu_nxy).fit()\n",
    "reg.summary()\n",
    "# 제조업업체수+제조업종사자수+transport: P0.000, R0.08\n",
    "# 전체에 대해서"
   ]
  },
  {
   "cell_type": "code",
   "execution_count": 19,
   "metadata": {},
   "outputs": [
    {
     "name": "stderr",
     "output_type": "stream",
     "text": [
      "C:\\Anaconda3\\lib\\site-packages\\pandas\\core\\frame.py:4223: SettingWithCopyWarning:\n",
      "\n",
      "\n",
      "A value is trying to be set on a copy of a slice from a DataFrame\n",
      "\n",
      "See the caveats in the documentation: http://pandas.pydata.org/pandas-docs/stable/user_guide/indexing.html#returning-a-view-versus-a-copy\n",
      "\n"
     ]
    },
    {
     "ename": "PatsyError",
     "evalue": "Error evaluating factor: NameError: name '음주교통사고발생비율' is not defined\n    음주교통사고발생비율 ~ 제조업업체수+성비+외국인수\n    ^^^^^^^^^^",
     "output_type": "error",
     "traceback": [
      "\u001b[1;31m---------------------------------------------------------------------------\u001b[0m",
      "\u001b[1;31mNameError\u001b[0m                                 Traceback (most recent call last)",
      "\u001b[1;32mC:\\Anaconda3\\lib\\site-packages\\patsy\\compat.py\u001b[0m in \u001b[0;36mcall_and_wrap_exc\u001b[1;34m(msg, origin, f, *args, **kwargs)\u001b[0m\n\u001b[0;32m     35\u001b[0m     \u001b[1;32mtry\u001b[0m\u001b[1;33m:\u001b[0m\u001b[1;33m\u001b[0m\u001b[0m\n\u001b[1;32m---> 36\u001b[1;33m         \u001b[1;32mreturn\u001b[0m \u001b[0mf\u001b[0m\u001b[1;33m(\u001b[0m\u001b[1;33m*\u001b[0m\u001b[0margs\u001b[0m\u001b[1;33m,\u001b[0m \u001b[1;33m**\u001b[0m\u001b[0mkwargs\u001b[0m\u001b[1;33m)\u001b[0m\u001b[1;33m\u001b[0m\u001b[0m\n\u001b[0m\u001b[0;32m     37\u001b[0m     \u001b[1;32mexcept\u001b[0m \u001b[0mException\u001b[0m \u001b[1;32mas\u001b[0m \u001b[0me\u001b[0m\u001b[1;33m:\u001b[0m\u001b[1;33m\u001b[0m\u001b[0m\n",
      "\u001b[1;32mC:\\Anaconda3\\lib\\site-packages\\patsy\\eval.py\u001b[0m in \u001b[0;36meval\u001b[1;34m(self, expr, source_name, inner_namespace)\u001b[0m\n\u001b[0;32m    165\u001b[0m         return eval(code, {}, VarLookupDict([inner_namespace]\n\u001b[1;32m--> 166\u001b[1;33m                                             + self._namespaces))\n\u001b[0m\u001b[0;32m    167\u001b[0m \u001b[1;33m\u001b[0m\u001b[0m\n",
      "\u001b[1;32m<string>\u001b[0m in \u001b[0;36m<module>\u001b[1;34m()\u001b[0m\n",
      "\u001b[1;31mNameError\u001b[0m: name '음주교통사고발생비율' is not defined",
      "\nThe above exception was the direct cause of the following exception:\n",
      "\u001b[1;31mPatsyError\u001b[0m                                Traceback (most recent call last)",
      "\u001b[1;32m<ipython-input-19-dea33044cb32>\u001b[0m in \u001b[0;36m<module>\u001b[1;34m()\u001b[0m\n\u001b[0;32m     13\u001b[0m                             \u001b[1;34m'주민등록인구(여자)'\u001b[0m\u001b[1;33m:\u001b[0m\u001b[1;34m'주민등록인구여자'\u001b[0m\u001b[1;33m,\u001b[0m\u001b[1;33m\u001b[0m\u001b[0m\n\u001b[0;32m     14\u001b[0m                       '지역안전도(점수)':'지역안전도'}, inplace=True)\n\u001b[1;32m---> 15\u001b[1;33m \u001b[0mreg\u001b[0m \u001b[1;33m=\u001b[0m \u001b[0msm\u001b[0m\u001b[1;33m.\u001b[0m\u001b[0mOLS\u001b[0m\u001b[1;33m.\u001b[0m\u001b[0mfrom_formula\u001b[0m\u001b[1;33m(\u001b[0m\u001b[1;34m\"음주교통사고발생비율 ~ 제조업업체수+성비+외국인수\"\u001b[0m\u001b[1;33m,\u001b[0m \u001b[0mgroup1\u001b[0m\u001b[1;33m)\u001b[0m\u001b[1;33m.\u001b[0m\u001b[0mfit\u001b[0m\u001b[1;33m(\u001b[0m\u001b[1;33m)\u001b[0m\u001b[1;33m\u001b[0m\u001b[0m\n\u001b[0m\u001b[0;32m     16\u001b[0m \u001b[0mreg\u001b[0m \u001b[1;33m=\u001b[0m \u001b[0msm\u001b[0m\u001b[1;33m.\u001b[0m\u001b[0mOLS\u001b[0m\u001b[1;33m.\u001b[0m\u001b[0mfrom_formula\u001b[0m\u001b[1;33m(\u001b[0m\u001b[1;34m\"음주교통사고발생비율 ~ 제조업비율+성비+외국인비율\"\u001b[0m\u001b[1;33m,\u001b[0m \u001b[0mgroup1\u001b[0m\u001b[1;33m)\u001b[0m\u001b[1;33m.\u001b[0m\u001b[0mfit\u001b[0m\u001b[1;33m(\u001b[0m\u001b[1;33m)\u001b[0m\u001b[1;33m\u001b[0m\u001b[0m\n\u001b[0;32m     17\u001b[0m \u001b[0mreg\u001b[0m \u001b[1;33m=\u001b[0m \u001b[0msm\u001b[0m\u001b[1;33m.\u001b[0m\u001b[0mOLS\u001b[0m\u001b[1;33m.\u001b[0m\u001b[0mfrom_formula\u001b[0m\u001b[1;33m(\u001b[0m\u001b[1;34m\"음주교통사고발생건수 ~ 제조업업체수+주민등록인구여자+외국인수\"\u001b[0m\u001b[1;33m,\u001b[0m \u001b[0mgroup1\u001b[0m\u001b[1;33m)\u001b[0m\u001b[1;33m.\u001b[0m\u001b[0mfit\u001b[0m\u001b[1;33m(\u001b[0m\u001b[1;33m)\u001b[0m\u001b[1;33m\u001b[0m\u001b[0m\n",
      "\u001b[1;32mC:\\Anaconda3\\lib\\site-packages\\statsmodels\\base\\model.py\u001b[0m in \u001b[0;36mfrom_formula\u001b[1;34m(cls, formula, data, subset, drop_cols, *args, **kwargs)\u001b[0m\n\u001b[0;32m    157\u001b[0m \u001b[1;33m\u001b[0m\u001b[0m\n\u001b[0;32m    158\u001b[0m         tmp = handle_formula_data(data, None, formula, depth=eval_env,\n\u001b[1;32m--> 159\u001b[1;33m                                   missing=missing)\n\u001b[0m\u001b[0;32m    160\u001b[0m         \u001b[1;33m(\u001b[0m\u001b[1;33m(\u001b[0m\u001b[0mendog\u001b[0m\u001b[1;33m,\u001b[0m \u001b[0mexog\u001b[0m\u001b[1;33m)\u001b[0m\u001b[1;33m,\u001b[0m \u001b[0mmissing_idx\u001b[0m\u001b[1;33m,\u001b[0m \u001b[0mdesign_info\u001b[0m\u001b[1;33m)\u001b[0m \u001b[1;33m=\u001b[0m \u001b[0mtmp\u001b[0m\u001b[1;33m\u001b[0m\u001b[0m\n\u001b[0;32m    161\u001b[0m \u001b[1;33m\u001b[0m\u001b[0m\n",
      "\u001b[1;32mC:\\Anaconda3\\lib\\site-packages\\statsmodels\\formula\\formulatools.py\u001b[0m in \u001b[0;36mhandle_formula_data\u001b[1;34m(Y, X, formula, depth, missing)\u001b[0m\n\u001b[0;32m     63\u001b[0m         \u001b[1;32mif\u001b[0m \u001b[0mdata_util\u001b[0m\u001b[1;33m.\u001b[0m\u001b[0m_is_using_pandas\u001b[0m\u001b[1;33m(\u001b[0m\u001b[0mY\u001b[0m\u001b[1;33m,\u001b[0m \u001b[1;32mNone\u001b[0m\u001b[1;33m)\u001b[0m\u001b[1;33m:\u001b[0m\u001b[1;33m\u001b[0m\u001b[0m\n\u001b[0;32m     64\u001b[0m             result = dmatrices(formula, Y, depth, return_type='dataframe',\n\u001b[1;32m---> 65\u001b[1;33m                                NA_action=na_action)\n\u001b[0m\u001b[0;32m     66\u001b[0m         \u001b[1;32melse\u001b[0m\u001b[1;33m:\u001b[0m\u001b[1;33m\u001b[0m\u001b[0m\n\u001b[0;32m     67\u001b[0m             result = dmatrices(formula, Y, depth, return_type='dataframe',\n",
      "\u001b[1;32mC:\\Anaconda3\\lib\\site-packages\\patsy\\highlevel.py\u001b[0m in \u001b[0;36mdmatrices\u001b[1;34m(formula_like, data, eval_env, NA_action, return_type)\u001b[0m\n\u001b[0;32m    308\u001b[0m     \u001b[0meval_env\u001b[0m \u001b[1;33m=\u001b[0m \u001b[0mEvalEnvironment\u001b[0m\u001b[1;33m.\u001b[0m\u001b[0mcapture\u001b[0m\u001b[1;33m(\u001b[0m\u001b[0meval_env\u001b[0m\u001b[1;33m,\u001b[0m \u001b[0mreference\u001b[0m\u001b[1;33m=\u001b[0m\u001b[1;36m1\u001b[0m\u001b[1;33m)\u001b[0m\u001b[1;33m\u001b[0m\u001b[0m\n\u001b[0;32m    309\u001b[0m     (lhs, rhs) = _do_highlevel_design(formula_like, data, eval_env,\n\u001b[1;32m--> 310\u001b[1;33m                                       NA_action, return_type)\n\u001b[0m\u001b[0;32m    311\u001b[0m     \u001b[1;32mif\u001b[0m \u001b[0mlhs\u001b[0m\u001b[1;33m.\u001b[0m\u001b[0mshape\u001b[0m\u001b[1;33m[\u001b[0m\u001b[1;36m1\u001b[0m\u001b[1;33m]\u001b[0m \u001b[1;33m==\u001b[0m \u001b[1;36m0\u001b[0m\u001b[1;33m:\u001b[0m\u001b[1;33m\u001b[0m\u001b[0m\n\u001b[0;32m    312\u001b[0m         \u001b[1;32mraise\u001b[0m \u001b[0mPatsyError\u001b[0m\u001b[1;33m(\u001b[0m\u001b[1;34m\"model is missing required outcome variables\"\u001b[0m\u001b[1;33m)\u001b[0m\u001b[1;33m\u001b[0m\u001b[0m\n",
      "\u001b[1;32mC:\\Anaconda3\\lib\\site-packages\\patsy\\highlevel.py\u001b[0m in \u001b[0;36m_do_highlevel_design\u001b[1;34m(formula_like, data, eval_env, NA_action, return_type)\u001b[0m\n\u001b[0;32m    163\u001b[0m         \u001b[1;32mreturn\u001b[0m \u001b[0miter\u001b[0m\u001b[1;33m(\u001b[0m\u001b[1;33m[\u001b[0m\u001b[0mdata\u001b[0m\u001b[1;33m]\u001b[0m\u001b[1;33m)\u001b[0m\u001b[1;33m\u001b[0m\u001b[0m\n\u001b[0;32m    164\u001b[0m     design_infos = _try_incr_builders(formula_like, data_iter_maker, eval_env,\n\u001b[1;32m--> 165\u001b[1;33m                                       NA_action)\n\u001b[0m\u001b[0;32m    166\u001b[0m     \u001b[1;32mif\u001b[0m \u001b[0mdesign_infos\u001b[0m \u001b[1;32mis\u001b[0m \u001b[1;32mnot\u001b[0m \u001b[1;32mNone\u001b[0m\u001b[1;33m:\u001b[0m\u001b[1;33m\u001b[0m\u001b[0m\n\u001b[0;32m    167\u001b[0m         return build_design_matrices(design_infos, data,\n",
      "\u001b[1;32mC:\\Anaconda3\\lib\\site-packages\\patsy\\highlevel.py\u001b[0m in \u001b[0;36m_try_incr_builders\u001b[1;34m(formula_like, data_iter_maker, eval_env, NA_action)\u001b[0m\n\u001b[0;32m     68\u001b[0m                                       \u001b[0mdata_iter_maker\u001b[0m\u001b[1;33m,\u001b[0m\u001b[1;33m\u001b[0m\u001b[0m\n\u001b[0;32m     69\u001b[0m                                       \u001b[0meval_env\u001b[0m\u001b[1;33m,\u001b[0m\u001b[1;33m\u001b[0m\u001b[0m\n\u001b[1;32m---> 70\u001b[1;33m                                       NA_action)\n\u001b[0m\u001b[0;32m     71\u001b[0m     \u001b[1;32melse\u001b[0m\u001b[1;33m:\u001b[0m\u001b[1;33m\u001b[0m\u001b[0m\n\u001b[0;32m     72\u001b[0m         \u001b[1;32mreturn\u001b[0m \u001b[1;32mNone\u001b[0m\u001b[1;33m\u001b[0m\u001b[0m\n",
      "\u001b[1;32mC:\\Anaconda3\\lib\\site-packages\\patsy\\build.py\u001b[0m in \u001b[0;36mdesign_matrix_builders\u001b[1;34m(termlists, data_iter_maker, eval_env, NA_action)\u001b[0m\n\u001b[0;32m    694\u001b[0m                                                    \u001b[0mfactor_states\u001b[0m\u001b[1;33m,\u001b[0m\u001b[1;33m\u001b[0m\u001b[0m\n\u001b[0;32m    695\u001b[0m                                                    \u001b[0mdata_iter_maker\u001b[0m\u001b[1;33m,\u001b[0m\u001b[1;33m\u001b[0m\u001b[0m\n\u001b[1;32m--> 696\u001b[1;33m                                                    NA_action)\n\u001b[0m\u001b[0;32m    697\u001b[0m     \u001b[1;31m# Now we need the factor infos, which encapsulate the knowledge of\u001b[0m\u001b[1;33m\u001b[0m\u001b[1;33m\u001b[0m\u001b[0m\n\u001b[0;32m    698\u001b[0m     \u001b[1;31m# how to turn any given factor into a chunk of data:\u001b[0m\u001b[1;33m\u001b[0m\u001b[1;33m\u001b[0m\u001b[0m\n",
      "\u001b[1;32mC:\\Anaconda3\\lib\\site-packages\\patsy\\build.py\u001b[0m in \u001b[0;36m_examine_factor_types\u001b[1;34m(factors, factor_states, data_iter_maker, NA_action)\u001b[0m\n\u001b[0;32m    441\u001b[0m     \u001b[1;32mfor\u001b[0m \u001b[0mdata\u001b[0m \u001b[1;32min\u001b[0m \u001b[0mdata_iter_maker\u001b[0m\u001b[1;33m(\u001b[0m\u001b[1;33m)\u001b[0m\u001b[1;33m:\u001b[0m\u001b[1;33m\u001b[0m\u001b[0m\n\u001b[0;32m    442\u001b[0m         \u001b[1;32mfor\u001b[0m \u001b[0mfactor\u001b[0m \u001b[1;32min\u001b[0m \u001b[0mlist\u001b[0m\u001b[1;33m(\u001b[0m\u001b[0mexamine_needed\u001b[0m\u001b[1;33m)\u001b[0m\u001b[1;33m:\u001b[0m\u001b[1;33m\u001b[0m\u001b[0m\n\u001b[1;32m--> 443\u001b[1;33m             \u001b[0mvalue\u001b[0m \u001b[1;33m=\u001b[0m \u001b[0mfactor\u001b[0m\u001b[1;33m.\u001b[0m\u001b[0meval\u001b[0m\u001b[1;33m(\u001b[0m\u001b[0mfactor_states\u001b[0m\u001b[1;33m[\u001b[0m\u001b[0mfactor\u001b[0m\u001b[1;33m]\u001b[0m\u001b[1;33m,\u001b[0m \u001b[0mdata\u001b[0m\u001b[1;33m)\u001b[0m\u001b[1;33m\u001b[0m\u001b[0m\n\u001b[0m\u001b[0;32m    444\u001b[0m             \u001b[1;32mif\u001b[0m \u001b[0mfactor\u001b[0m \u001b[1;32min\u001b[0m \u001b[0mcat_sniffers\u001b[0m \u001b[1;32mor\u001b[0m \u001b[0mguess_categorical\u001b[0m\u001b[1;33m(\u001b[0m\u001b[0mvalue\u001b[0m\u001b[1;33m)\u001b[0m\u001b[1;33m:\u001b[0m\u001b[1;33m\u001b[0m\u001b[0m\n\u001b[0;32m    445\u001b[0m                 \u001b[1;32mif\u001b[0m \u001b[0mfactor\u001b[0m \u001b[1;32mnot\u001b[0m \u001b[1;32min\u001b[0m \u001b[0mcat_sniffers\u001b[0m\u001b[1;33m:\u001b[0m\u001b[1;33m\u001b[0m\u001b[0m\n",
      "\u001b[1;32mC:\\Anaconda3\\lib\\site-packages\\patsy\\eval.py\u001b[0m in \u001b[0;36meval\u001b[1;34m(self, memorize_state, data)\u001b[0m\n\u001b[0;32m    564\u001b[0m         return self._eval(memorize_state[\"eval_code\"],\n\u001b[0;32m    565\u001b[0m                           \u001b[0mmemorize_state\u001b[0m\u001b[1;33m,\u001b[0m\u001b[1;33m\u001b[0m\u001b[0m\n\u001b[1;32m--> 566\u001b[1;33m                           data)\n\u001b[0m\u001b[0;32m    567\u001b[0m \u001b[1;33m\u001b[0m\u001b[0m\n\u001b[0;32m    568\u001b[0m     \u001b[0m__getstate__\u001b[0m \u001b[1;33m=\u001b[0m \u001b[0mno_pickling\u001b[0m\u001b[1;33m\u001b[0m\u001b[0m\n",
      "\u001b[1;32mC:\\Anaconda3\\lib\\site-packages\\patsy\\eval.py\u001b[0m in \u001b[0;36m_eval\u001b[1;34m(self, code, memorize_state, data)\u001b[0m\n\u001b[0;32m    549\u001b[0m                                  \u001b[0mmemorize_state\u001b[0m\u001b[1;33m[\u001b[0m\u001b[1;34m\"eval_env\"\u001b[0m\u001b[1;33m]\u001b[0m\u001b[1;33m.\u001b[0m\u001b[0meval\u001b[0m\u001b[1;33m,\u001b[0m\u001b[1;33m\u001b[0m\u001b[0m\n\u001b[0;32m    550\u001b[0m                                  \u001b[0mcode\u001b[0m\u001b[1;33m,\u001b[0m\u001b[1;33m\u001b[0m\u001b[0m\n\u001b[1;32m--> 551\u001b[1;33m                                  inner_namespace=inner_namespace)\n\u001b[0m\u001b[0;32m    552\u001b[0m \u001b[1;33m\u001b[0m\u001b[0m\n\u001b[0;32m    553\u001b[0m     \u001b[1;32mdef\u001b[0m \u001b[0mmemorize_chunk\u001b[0m\u001b[1;33m(\u001b[0m\u001b[0mself\u001b[0m\u001b[1;33m,\u001b[0m \u001b[0mstate\u001b[0m\u001b[1;33m,\u001b[0m \u001b[0mwhich_pass\u001b[0m\u001b[1;33m,\u001b[0m \u001b[0mdata\u001b[0m\u001b[1;33m)\u001b[0m\u001b[1;33m:\u001b[0m\u001b[1;33m\u001b[0m\u001b[0m\n",
      "\u001b[1;32mC:\\Anaconda3\\lib\\site-packages\\patsy\\compat.py\u001b[0m in \u001b[0;36mcall_and_wrap_exc\u001b[1;34m(msg, origin, f, *args, **kwargs)\u001b[0m\n\u001b[0;32m     41\u001b[0m                                  origin)\n\u001b[0;32m     42\u001b[0m             \u001b[1;31m# Use 'exec' to hide this syntax from the Python 2 parser:\u001b[0m\u001b[1;33m\u001b[0m\u001b[1;33m\u001b[0m\u001b[0m\n\u001b[1;32m---> 43\u001b[1;33m             \u001b[0mexec\u001b[0m\u001b[1;33m(\u001b[0m\u001b[1;34m\"raise new_exc from e\"\u001b[0m\u001b[1;33m)\u001b[0m\u001b[1;33m\u001b[0m\u001b[0m\n\u001b[0m\u001b[0;32m     44\u001b[0m         \u001b[1;32melse\u001b[0m\u001b[1;33m:\u001b[0m\u001b[1;33m\u001b[0m\u001b[0m\n\u001b[0;32m     45\u001b[0m             \u001b[1;31m# In python 2, we just let the original exception escape -- better\u001b[0m\u001b[1;33m\u001b[0m\u001b[1;33m\u001b[0m\u001b[0m\n",
      "\u001b[1;32mC:\\Anaconda3\\lib\\site-packages\\patsy\\compat.py\u001b[0m in \u001b[0;36m<module>\u001b[1;34m()\u001b[0m\n",
      "\u001b[1;31mPatsyError\u001b[0m: Error evaluating factor: NameError: name '음주교통사고발생비율' is not defined\n    음주교통사고발생비율 ~ 제조업업체수+성비+외국인수\n    ^^^^^^^^^^"
     ]
    }
   ],
   "source": [
    "group1.rename(columns={'음주교통사고 발생비율':'음주교통사고발생비율',\n",
    "                      '제조업 업체수':'제조업업체수',\n",
    "                      '제조업 종사자수':'제조업종사자수',\n",
    "                      '교통사고 발생건수':'교통사고발생건수',\n",
    "                      '교통사고 사망자수':'교통사고사망자수',\n",
    "                      '교통사고 부상자수':'교통사고부상자수',\n",
    "                      '의료보장 사업장수':'의료보장사업장수',\n",
    "                      '1인가구수':'일인가구수',\n",
    "                      '학교수(중학교)':'중학교수',\n",
    "                      '음식점 및 주점업 종사자수':'음식점및주점업종사자수',\n",
    "                      '음식점 및 주점업 업체수':'음식점및주점업업체수',\n",
    "                       '음주교통사고 발생건수':'음주교통사고발생건수',\n",
    "                            '주민등록인구(여자)':'주민등록인구여자',\n",
    "                      '지역안전도(점수)':'지역안전도'}, inplace=True)\n",
    "reg = sm.OLS.from_formula(\"음주교통사고발생비율 ~ 제조업업체수+성비+외국인수\", group1).fit()\n",
    "reg = sm.OLS.from_formula(\"음주교통사고발생비율 ~ 제조업비율+성비+외국인비율\", group1).fit()\n",
    "reg = sm.OLS.from_formula(\"음주교통사고발생건수 ~ 제조업업체수+주민등록인구여자+외국인수\", group1).fit()\n",
    "reg.summary()\n",
    "# 제조업업체수+제조업종사자수+transport: P0.002, R0.163\n",
    "# group1에 대해서\n",
    "# 교통사고 사망자수\n",
    "# 교통사고 부상자수\n",
    "#+독거노인수+교통사고사망자수+일인가구수++중학교수"
   ]
  },
  {
   "cell_type": "code",
   "execution_count": 21,
   "metadata": {},
   "outputs": [],
   "source": [
    "sigungu_nxy.transport = sigungu_nxy.transport.astype(str)\n",
    "sigungu_nxy.group1 = sigungu_nxy.group1.astype(str)\n",
    "sigungu_nxy.group2 = sigungu_nxy.group2.astype(str)"
   ]
  },
  {
   "cell_type": "code",
   "execution_count": 22,
   "metadata": {},
   "outputs": [
    {
     "ename": "ValueError",
     "evalue": "Value of 'x' is not the name of a column in 'data_frame'. Expected one of ['년도', '시도', '시군구', '지역', '일인가구수', '5대범죄 발생건수', '가스사고발생건수', '가해(타살) 사망자수', '감염병 발생건수', '감염병 사망자수', '건강보험급여실적', '건설업 업체수', '건설업 종사자수', '건축용지 면적', '경찰관서수', '고령인구수', '공무원수(정원)', '공업지역 면적', '교통문화지수', '교통사고발생건수', '교통사고부상자수', '교통사고사망자수', '교통사고사망자수(고속도로)', '구거면적', '구거면적 비율', '구급발생건수', '구조구급 발생건수', '구조구급대원수', '구조발생건수', '급경사지 붕괴위험지구 수', '기초수급자수', '기초수급자수(65세이상)', '노인 교통사고 부상자수', '노인 교통사고 사망자수', '도로면적', '도로면적 비율', '도로연장', '도시지역 면적', '도시지역 면적 비율', '독거노인수', '무면허교통사고 발생건수', '반지하가구 수', '범죄발생건수(강간.강제추행)', '범죄발생건수(강도)', '범죄발생건수(도박)', '범죄발생건수(마약)', '범죄발생건수(방화)', '범죄발생건수(살인)', '범죄발생건수(약취.유인)', '범죄발생건수(절도)', '범죄발생건수(폭력)', '병상수', '보건업 및 사회복지서비스업 종사자수', '보행사상자수', '보행자전용·우선도로 면적', '보행자전용·우선도로 연장', '비닐하우스 면적', '빈집수', '산사태위험지역 면적', '상업지역 면적', '수계밀도', '순이동자수', '스트레스인지율', '시가화율', '시군구내 전입자수', '시군구외 전입자수', '시도간 전입자수', '시도내-시군구간 전입자수', '실업률', '야간인구수', '양호한 주관적 건강수준 인지율', '어린이 교통사고 부상자수', '어린이 교통사고 사망자수', '어린이 아토피', '어린이 천식', '외국인수', '우울감경험률', '운전시 안전벨트 착용률', '월간음주율', '유지면적', '유지면적 비율', '유치원생수', '음식점및주점업업체수', '음식점및주점업종사자수', '음주교통사고발생건수', '의료기관수(요양기관)', '의료보장 공.교 가입자수', '의료보장 근로자 사업장수', '의료보장사업장수', '의료보험료', '의료인력', '이혼건수', '익사자수', '인구밀도', '인플루엔자 예방접종률', '임야 면적', '자동차등록대수', '자살 사망자수', '자연재해 발생건수(10년평균)', '자연재해 사망자수', '자연재해 사망자수(10년평균)', '자연재해 피해액(10년평균)', '자연재해 피해자수(10년평균)', '자연재해위험개선지구 수', '장애인수', '재난약자수', '재정자립도', '재정자주도', '전기화재발생건수', '제방면적', '제방면적 비율', '제조업업체수', '제조업종사자수', '주간인구지수', '주거지역 면적', '주민등록인구', '주민등록인구(14세이하)', '주민등록인구(60세이상)', '주민등록인구여자', '주민등록인구(청소년)', '지역안전도(관리능력)', '지역안전도(등급)', '지역안전도(방재성능)', '지역안전도(위험환경)', '지역안전도', '질병이환 및 사망외인으로 인한 사망자수', '창고 및 운송관련 서비스업 업체수', '초등학생수', '총 사업체수', '총전입자수', '추락 사망자수', '특수의료장비수', '하천면적', '하천면적 비율', '하천연장', '학교수(고등학교)', '중학교수', '학교수(초등학교)', '해안선 길이', '행정구역 면적', '혼인귀화자수', '화재 발생건수', '화재 사망자수', '화재 피해액', '화재 피해자수', '화재구조실적', '화재사망자(환산)', '화재피해 경감액', 'fire', 'transport', 'disaster', 'crime', 'accident', 'suicide', 'infection', '화재', '교통', '자연재해', '범죄', '안전사고', '자살', '감염병', '성비', '천명당외국인수', '등록외국인수', '전체인구', '남', '녀', '외국인비율', '제조사업체수', '사업체수', '제조업비율', 'group1', 'group2', '음주교통사고발생비율'] but received: 제조업 업체수",
     "output_type": "error",
     "traceback": [
      "\u001b[1;31m---------------------------------------------------------------------------\u001b[0m",
      "\u001b[1;31mValueError\u001b[0m                                Traceback (most recent call last)",
      "\u001b[1;32m<ipython-input-22-43214eb80bc7>\u001b[0m in \u001b[0;36m<module>\u001b[1;34m()\u001b[0m\n\u001b[0;32m      2\u001b[0m \u001b[1;31m#1)두개의 변수와 중앙값을 기준으로 각 사분면이 분리된다.\u001b[0m\u001b[1;33m\u001b[0m\u001b[1;33m\u001b[0m\u001b[0m\n\u001b[0;32m      3\u001b[0m scatter(x=\"제조업 업체수\", y=\"제조업 종사자수\", color=\"transport\", df=sigungu_nxy,\n\u001b[1;32m----> 4\u001b[1;33m         medianline=True, hovername='지역', palette=['orange','green'], trendline='ols')\n\u001b[0m\u001b[0;32m      5\u001b[0m \u001b[1;31m#1)산점도로 회귀선 기준 타겟팅지역의 분포를 확인\u001b[0m\u001b[1;33m\u001b[0m\u001b[1;33m\u001b[0m\u001b[0m\n\u001b[0;32m      6\u001b[0m \u001b[1;31m# scatter(x=\"교통사고 발생건수\", y=\"음주교통사고 발생비율\", color=\"group2\", df=sigungu_nxy,\u001b[0m\u001b[1;33m\u001b[0m\u001b[1;33m\u001b[0m\u001b[0m\n",
      "\u001b[1;32m<ipython-input-11-cabf4e486776>\u001b[0m in \u001b[0;36mscatter\u001b[1;34m(x, y, color, df, hovername, text, medianline, palette, trendline)\u001b[0m\n\u001b[0;32m     15\u001b[0m     \u001b[1;32melse\u001b[0m\u001b[1;33m:\u001b[0m\u001b[1;33m\u001b[0m\u001b[0m\n\u001b[0;32m     16\u001b[0m         fig = px.scatter(df, x=x, y=y,trendline=trendline,\n\u001b[1;32m---> 17\u001b[1;33m                          hover_name=hovername, color=color, color_discrete_sequence=palette)\n\u001b[0m\u001b[0;32m     18\u001b[0m         \u001b[0mfig\u001b[0m\u001b[1;33m.\u001b[0m\u001b[0mupdate_traces\u001b[0m\u001b[1;33m(\u001b[0m\u001b[0mtextposition\u001b[0m\u001b[1;33m=\u001b[0m\u001b[1;34m'top center'\u001b[0m\u001b[1;33m)\u001b[0m\u001b[1;33m\u001b[0m\u001b[0m\n\u001b[0;32m     19\u001b[0m         \u001b[0mregline\u001b[0m \u001b[1;33m=\u001b[0m \u001b[0msm\u001b[0m\u001b[1;33m.\u001b[0m\u001b[0mOLS\u001b[0m\u001b[1;33m(\u001b[0m\u001b[0mdf\u001b[0m\u001b[1;33m[\u001b[0m\u001b[0my\u001b[0m\u001b[1;33m]\u001b[0m\u001b[1;33m,\u001b[0m\u001b[0msm\u001b[0m\u001b[1;33m.\u001b[0m\u001b[0madd_constant\u001b[0m\u001b[1;33m(\u001b[0m\u001b[0mdf\u001b[0m\u001b[1;33m[\u001b[0m\u001b[0mx\u001b[0m\u001b[1;33m]\u001b[0m\u001b[1;33m)\u001b[0m\u001b[1;33m)\u001b[0m\u001b[1;33m.\u001b[0m\u001b[0mfit\u001b[0m\u001b[1;33m(\u001b[0m\u001b[1;33m)\u001b[0m\u001b[1;33m.\u001b[0m\u001b[0mfittedvalues\u001b[0m\u001b[1;33m\u001b[0m\u001b[0m\n",
      "\u001b[1;32mC:\\Anaconda3\\lib\\site-packages\\plotly\\express\\_chart_types.py\u001b[0m in \u001b[0;36mscatter\u001b[1;34m(data_frame, x, y, color, symbol, size, hover_name, hover_data, custom_data, text, facet_row, facet_col, facet_col_wrap, error_x, error_x_minus, error_y, error_y_minus, animation_frame, animation_group, category_orders, labels, color_discrete_sequence, color_discrete_map, color_continuous_scale, range_color, color_continuous_midpoint, symbol_sequence, symbol_map, opacity, size_max, marginal_x, marginal_y, trendline, trendline_color_override, log_x, log_y, range_x, range_y, render_mode, title, template, width, height)\u001b[0m\n\u001b[0;32m     53\u001b[0m     \u001b[1;32min\u001b[0m \u001b[1;36m2\u001b[0m\u001b[0mD\u001b[0m \u001b[0mspace\u001b[0m\u001b[1;33m.\u001b[0m\u001b[1;33m\u001b[0m\u001b[0m\n\u001b[0;32m     54\u001b[0m     \"\"\"\n\u001b[1;32m---> 55\u001b[1;33m     \u001b[1;32mreturn\u001b[0m \u001b[0mmake_figure\u001b[0m\u001b[1;33m(\u001b[0m\u001b[0margs\u001b[0m\u001b[1;33m=\u001b[0m\u001b[0mlocals\u001b[0m\u001b[1;33m(\u001b[0m\u001b[1;33m)\u001b[0m\u001b[1;33m,\u001b[0m \u001b[0mconstructor\u001b[0m\u001b[1;33m=\u001b[0m\u001b[0mgo\u001b[0m\u001b[1;33m.\u001b[0m\u001b[0mScatter\u001b[0m\u001b[1;33m)\u001b[0m\u001b[1;33m\u001b[0m\u001b[0m\n\u001b[0m\u001b[0;32m     56\u001b[0m \u001b[1;33m\u001b[0m\u001b[0m\n\u001b[0;32m     57\u001b[0m \u001b[1;33m\u001b[0m\u001b[0m\n",
      "\u001b[1;32mC:\\Anaconda3\\lib\\site-packages\\plotly\\express\\_core.py\u001b[0m in \u001b[0;36mmake_figure\u001b[1;34m(args, constructor, trace_patch, layout_patch)\u001b[0m\n\u001b[0;32m   1093\u001b[0m \u001b[1;33m\u001b[0m\u001b[0m\n\u001b[0;32m   1094\u001b[0m     args, trace_specs, grouped_mappings, sizeref, show_colorbar = infer_config(\n\u001b[1;32m-> 1095\u001b[1;33m         \u001b[0margs\u001b[0m\u001b[1;33m,\u001b[0m \u001b[0mconstructor\u001b[0m\u001b[1;33m,\u001b[0m \u001b[0mtrace_patch\u001b[0m\u001b[1;33m\u001b[0m\u001b[0m\n\u001b[0m\u001b[0;32m   1096\u001b[0m     )\n\u001b[0;32m   1097\u001b[0m     \u001b[0mgrouper\u001b[0m \u001b[1;33m=\u001b[0m \u001b[1;33m[\u001b[0m\u001b[0mx\u001b[0m\u001b[1;33m.\u001b[0m\u001b[0mgrouper\u001b[0m \u001b[1;32mor\u001b[0m \u001b[0mone_group\u001b[0m \u001b[1;32mfor\u001b[0m \u001b[0mx\u001b[0m \u001b[1;32min\u001b[0m \u001b[0mgrouped_mappings\u001b[0m\u001b[1;33m]\u001b[0m \u001b[1;32mor\u001b[0m \u001b[1;33m[\u001b[0m\u001b[0mone_group\u001b[0m\u001b[1;33m]\u001b[0m\u001b[1;33m\u001b[0m\u001b[0m\n",
      "\u001b[1;32mC:\\Anaconda3\\lib\\site-packages\\plotly\\express\\_core.py\u001b[0m in \u001b[0;36minfer_config\u001b[1;34m(args, constructor, trace_patch)\u001b[0m\n\u001b[0;32m    969\u001b[0m             \u001b[0mall_attrables\u001b[0m \u001b[1;33m+=\u001b[0m \u001b[1;33m[\u001b[0m\u001b[0mgroup_attr\u001b[0m\u001b[1;33m]\u001b[0m\u001b[1;33m\u001b[0m\u001b[0m\n\u001b[0;32m    970\u001b[0m \u001b[1;33m\u001b[0m\u001b[0m\n\u001b[1;32m--> 971\u001b[1;33m     \u001b[0margs\u001b[0m \u001b[1;33m=\u001b[0m \u001b[0mbuild_dataframe\u001b[0m\u001b[1;33m(\u001b[0m\u001b[0margs\u001b[0m\u001b[1;33m,\u001b[0m \u001b[0mall_attrables\u001b[0m\u001b[1;33m,\u001b[0m \u001b[0marray_attrables\u001b[0m\u001b[1;33m)\u001b[0m\u001b[1;33m\u001b[0m\u001b[0m\n\u001b[0m\u001b[0;32m    972\u001b[0m \u001b[1;33m\u001b[0m\u001b[0m\n\u001b[0;32m    973\u001b[0m     \u001b[0mattrs\u001b[0m \u001b[1;33m=\u001b[0m \u001b[1;33m[\u001b[0m\u001b[0mk\u001b[0m \u001b[1;32mfor\u001b[0m \u001b[0mk\u001b[0m \u001b[1;32min\u001b[0m \u001b[0mattrables\u001b[0m \u001b[1;32mif\u001b[0m \u001b[0mk\u001b[0m \u001b[1;32min\u001b[0m \u001b[0margs\u001b[0m\u001b[1;33m]\u001b[0m\u001b[1;33m\u001b[0m\u001b[0m\n",
      "\u001b[1;32mC:\\Anaconda3\\lib\\site-packages\\plotly\\express\\_core.py\u001b[0m in \u001b[0;36mbuild_dataframe\u001b[1;34m(args, attrables, array_attrables)\u001b[0m\n\u001b[0;32m    891\u001b[0m                             \u001b[1;34m\"\\n To use the index, pass it in directly as `df.index`.\"\u001b[0m\u001b[1;33m\u001b[0m\u001b[0m\n\u001b[0;32m    892\u001b[0m                         )\n\u001b[1;32m--> 893\u001b[1;33m                     \u001b[1;32mraise\u001b[0m \u001b[0mValueError\u001b[0m\u001b[1;33m(\u001b[0m\u001b[0merr_msg\u001b[0m\u001b[1;33m)\u001b[0m\u001b[1;33m\u001b[0m\u001b[0m\n\u001b[0m\u001b[0;32m    894\u001b[0m                 \u001b[1;32mif\u001b[0m \u001b[0mlength\u001b[0m \u001b[1;32mand\u001b[0m \u001b[0mlen\u001b[0m\u001b[1;33m(\u001b[0m\u001b[0mdf_input\u001b[0m\u001b[1;33m[\u001b[0m\u001b[0margument\u001b[0m\u001b[1;33m]\u001b[0m\u001b[1;33m)\u001b[0m \u001b[1;33m!=\u001b[0m \u001b[0mlength\u001b[0m\u001b[1;33m:\u001b[0m\u001b[1;33m\u001b[0m\u001b[0m\n\u001b[0;32m    895\u001b[0m                     raise ValueError(\n",
      "\u001b[1;31mValueError\u001b[0m: Value of 'x' is not the name of a column in 'data_frame'. Expected one of ['년도', '시도', '시군구', '지역', '일인가구수', '5대범죄 발생건수', '가스사고발생건수', '가해(타살) 사망자수', '감염병 발생건수', '감염병 사망자수', '건강보험급여실적', '건설업 업체수', '건설업 종사자수', '건축용지 면적', '경찰관서수', '고령인구수', '공무원수(정원)', '공업지역 면적', '교통문화지수', '교통사고발생건수', '교통사고부상자수', '교통사고사망자수', '교통사고사망자수(고속도로)', '구거면적', '구거면적 비율', '구급발생건수', '구조구급 발생건수', '구조구급대원수', '구조발생건수', '급경사지 붕괴위험지구 수', '기초수급자수', '기초수급자수(65세이상)', '노인 교통사고 부상자수', '노인 교통사고 사망자수', '도로면적', '도로면적 비율', '도로연장', '도시지역 면적', '도시지역 면적 비율', '독거노인수', '무면허교통사고 발생건수', '반지하가구 수', '범죄발생건수(강간.강제추행)', '범죄발생건수(강도)', '범죄발생건수(도박)', '범죄발생건수(마약)', '범죄발생건수(방화)', '범죄발생건수(살인)', '범죄발생건수(약취.유인)', '범죄발생건수(절도)', '범죄발생건수(폭력)', '병상수', '보건업 및 사회복지서비스업 종사자수', '보행사상자수', '보행자전용·우선도로 면적', '보행자전용·우선도로 연장', '비닐하우스 면적', '빈집수', '산사태위험지역 면적', '상업지역 면적', '수계밀도', '순이동자수', '스트레스인지율', '시가화율', '시군구내 전입자수', '시군구외 전입자수', '시도간 전입자수', '시도내-시군구간 전입자수', '실업률', '야간인구수', '양호한 주관적 건강수준 인지율', '어린이 교통사고 부상자수', '어린이 교통사고 사망자수', '어린이 아토피', '어린이 천식', '외국인수', '우울감경험률', '운전시 안전벨트 착용률', '월간음주율', '유지면적', '유지면적 비율', '유치원생수', '음식점및주점업업체수', '음식점및주점업종사자수', '음주교통사고발생건수', '의료기관수(요양기관)', '의료보장 공.교 가입자수', '의료보장 근로자 사업장수', '의료보장사업장수', '의료보험료', '의료인력', '이혼건수', '익사자수', '인구밀도', '인플루엔자 예방접종률', '임야 면적', '자동차등록대수', '자살 사망자수', '자연재해 발생건수(10년평균)', '자연재해 사망자수', '자연재해 사망자수(10년평균)', '자연재해 피해액(10년평균)', '자연재해 피해자수(10년평균)', '자연재해위험개선지구 수', '장애인수', '재난약자수', '재정자립도', '재정자주도', '전기화재발생건수', '제방면적', '제방면적 비율', '제조업업체수', '제조업종사자수', '주간인구지수', '주거지역 면적', '주민등록인구', '주민등록인구(14세이하)', '주민등록인구(60세이상)', '주민등록인구여자', '주민등록인구(청소년)', '지역안전도(관리능력)', '지역안전도(등급)', '지역안전도(방재성능)', '지역안전도(위험환경)', '지역안전도', '질병이환 및 사망외인으로 인한 사망자수', '창고 및 운송관련 서비스업 업체수', '초등학생수', '총 사업체수', '총전입자수', '추락 사망자수', '특수의료장비수', '하천면적', '하천면적 비율', '하천연장', '학교수(고등학교)', '중학교수', '학교수(초등학교)', '해안선 길이', '행정구역 면적', '혼인귀화자수', '화재 발생건수', '화재 사망자수', '화재 피해액', '화재 피해자수', '화재구조실적', '화재사망자(환산)', '화재피해 경감액', 'fire', 'transport', 'disaster', 'crime', 'accident', 'suicide', 'infection', '화재', '교통', '자연재해', '범죄', '안전사고', '자살', '감염병', '성비', '천명당외국인수', '등록외국인수', '전체인구', '남', '녀', '외국인비율', '제조사업체수', '사업체수', '제조업비율', 'group1', 'group2', '음주교통사고발생비율'] but received: 제조업 업체수"
     ]
    }
   ],
   "source": [
    "### 1. 가설검증의 대상이 되는 집단을 그룹화\n",
    "#1)두개의 변수와 중앙값을 기준으로 각 사분면이 분리된다.\n",
    "scatter(x=\"제조업 업체수\", y=\"제조업 종사자수\", color=\"transport\", df=sigungu_nxy,\n",
    "        medianline=True, hovername='지역', palette=['orange','green'], trendline='ols')\n",
    "#1)산점도로 회귀선 기준 타겟팅지역의 분포를 확인\n",
    "# scatter(x=\"교통사고 발생건수\", y=\"음주교통사고 발생비율\", color=\"group2\", df=sigungu_nxy,\n",
    "#         medianline=1, palette='picnic', hovername='지역', trendline='ols')\n",
    "scatter(x=\"교통사고 발생건수\", y=\"음주교통사고 발생건수\", color=\"group2\", df=sigungu_nxy,\n",
    "        medianline=1, palette=['mediumorchid','darkcyan'],hovername='지역', trendline='ols')"
   ]
  },
  {
   "cell_type": "code",
   "execution_count": null,
   "metadata": {},
   "outputs": [],
   "source": [
    "4914/(2245+4914)"
   ]
  },
  {
   "cell_type": "code",
   "execution_count": 56,
   "metadata": {},
   "outputs": [
    {
     "data": {
      "text/plain": [
       "음주교통사고발생비율               1.000000\n",
       "독거노인수                    0.773474\n",
       "고령인구수                    0.729859\n",
       "재난약자수                    0.725344\n",
       "주민등록인구(60세이상)            0.719405\n",
       "장애인수                     0.710104\n",
       "중학교수                     0.683018\n",
       "경찰관서수                    0.673253\n",
       "공무원수(정원)                 0.663760\n",
       "기초수급자수(65세이상)            0.663001\n",
       "노인 교통사고 사망자수             0.659646\n",
       "감염병 사망자수                 0.657864\n",
       "질병이환 및 사망외인으로 인한 사망자수    0.655797\n",
       "건강보험급여실적                 0.652297\n",
       "일인가구수                    0.631732\n",
       "교통사고사망자수                 0.628827\n",
       "학교수(초등학교)                0.606483\n",
       "기초수급자수                   0.573017\n",
       "학교수(고등학교)                0.542116\n",
       "건설업 업체수                  0.536210\n",
       "빈집수                      0.534480\n",
       "추락 사망자수                  0.483413\n",
       "자연재해위험개선지구 수             0.471563\n",
       "구조구급대원수                  0.468498\n",
       "화재 발생건수                  0.450371\n",
       "임야 면적                    0.444690\n",
       "노인 교통사고 부상자수             0.420745\n",
       "감염병                      0.399138\n",
       "행정구역 면적                  0.389994\n",
       "익사자수                     0.365515\n",
       "Name: 음주교통사고발생비율, dtype: float64"
      ]
     },
     "execution_count": 56,
     "metadata": {},
     "output_type": "execute_result"
    }
   ],
   "source": []
  },
  {
   "cell_type": "code",
   "execution_count": 57,
   "metadata": {},
   "outputs": [
    {
     "data": {
      "text/plain": [
       "0.7697225539251523"
      ]
     },
     "execution_count": 57,
     "metadata": {},
     "output_type": "execute_result"
    }
   ],
   "source": [
    "sigungu_nxy.corr(method='pearson').loc['교통사고사망자수','독거노인수']"
   ]
  },
  {
   "cell_type": "code",
   "execution_count": 58,
   "metadata": {},
   "outputs": [
    {
     "data": {
      "text/plain": [
       "-0.21193205312370053"
      ]
     },
     "execution_count": 58,
     "metadata": {},
     "output_type": "execute_result"
    }
   ],
   "source": [
    "sigungu_nxy.corr(method='pearson').loc['성비','음주교통사고발생비율']"
   ]
  },
  {
   "cell_type": "code",
   "execution_count": 59,
   "metadata": {},
   "outputs": [
    {
     "data": {
      "text/plain": [
       "-0.1333435066919178"
      ]
     },
     "execution_count": 59,
     "metadata": {},
     "output_type": "execute_result"
    }
   ],
   "source": [
    "sigungu_nxy.corr(method='pearson').loc['외국인수','음주교통사고발생비율']"
   ]
  },
  {
   "cell_type": "code",
   "execution_count": 60,
   "metadata": {},
   "outputs": [
    {
     "data": {
      "text/plain": [
       "0.21878015844171747"
      ]
     },
     "execution_count": 60,
     "metadata": {},
     "output_type": "execute_result"
    }
   ],
   "source": [
    "##\n",
    "sigungu_nxy.corr(method='pearson').loc['성비','제조업업체수']"
   ]
  },
  {
   "cell_type": "code",
   "execution_count": 61,
   "metadata": {},
   "outputs": [
    {
     "data": {
      "text/plain": [
       "0.5525626417391054"
      ]
     },
     "execution_count": 61,
     "metadata": {},
     "output_type": "execute_result"
    }
   ],
   "source": [
    "##\n",
    "sigungu_nxy.corr(method='pearson').loc['외국인수','제조업업체수']"
   ]
  },
  {
   "cell_type": "code",
   "execution_count": 62,
   "metadata": {},
   "outputs": [
    {
     "data": {
      "text/plain": [
       "0.3890147687664074"
      ]
     },
     "execution_count": 62,
     "metadata": {},
     "output_type": "execute_result"
    }
   ],
   "source": [
    "sigungu_nxy.corr(method='pearson').loc['음식점및주점업종사자수','제조업업체수']"
   ]
  },
  {
   "cell_type": "code",
   "execution_count": 63,
   "metadata": {},
   "outputs": [
    {
     "data": {
      "text/plain": [
       "0.3134678753031711"
      ]
     },
     "execution_count": 63,
     "metadata": {},
     "output_type": "execute_result"
    }
   ],
   "source": [
    "sigungu_nxy.corr(method='pearson').loc['음식점및주점업업체수','제조업업체수']"
   ]
  },
  {
   "cell_type": "code",
   "execution_count": 64,
   "metadata": {},
   "outputs": [
    {
     "data": {
      "text/plain": [
       "0.10201427428056335"
      ]
     },
     "execution_count": 64,
     "metadata": {},
     "output_type": "execute_result"
    }
   ],
   "source": [
    "sigungu_nxy.corr(method='pearson').loc['음식점및주점업업체수','음주교통사고발생비율']"
   ]
  },
  {
   "cell_type": "code",
   "execution_count": 65,
   "metadata": {},
   "outputs": [
    {
     "data": {
      "text/plain": [
       "0.10201427428056335"
      ]
     },
     "execution_count": 65,
     "metadata": {},
     "output_type": "execute_result"
    }
   ],
   "source": [
    "sigungu_nxy.corr(method='pearson').loc['음식점및주점업업체수','음주교통사고발생비율']"
   ]
  },
  {
   "cell_type": "code",
   "execution_count": null,
   "metadata": {},
   "outputs": [],
   "source": []
  }
 ],
 "metadata": {
  "kernelspec": {
   "display_name": "Python 3",
   "language": "python",
   "name": "python3"
  },
  "language_info": {
   "codemirror_mode": {
    "name": "ipython",
    "version": 3
   },
   "file_extension": ".py",
   "mimetype": "text/x-python",
   "name": "python",
   "nbconvert_exporter": "python",
   "pygments_lexer": "ipython3",
   "version": "3.6.4"
  }
 },
 "nbformat": 4,
 "nbformat_minor": 2
}
