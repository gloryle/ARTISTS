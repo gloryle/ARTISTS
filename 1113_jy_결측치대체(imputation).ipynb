{
 "cells": [
  {
   "cell_type": "code",
   "execution_count": 9,
   "metadata": {
    "pycharm": {
     "is_executing": false
    }
   },
   "outputs": [],
   "source": [
    "from sklearn.ensemble import RandomForestClassifier\n",
    "import pandas as pd\n",
    "import matplotlib.pyplot as plt\n",
    "import missingno as msno\n",
    "import numpy  as np\n",
    "import seaborn as sns\n",
    "%matplotlib inline\n",
    "\n",
    "from sklearn.ensemble import RandomForestClassifier\n",
    "path = './data/'\n",
    "\n",
    "pd.options.display.max_rows = 150\n",
    "pd.options.display.max_columns = 350\n",
    "plt.rc('font',family='Malgun Gothic')\n",
    "plt.rcParams['axes.unicode_minus'] = False\n",
    "\n",
    "pd.options.display.max_rows = 999"
   ]
  },
  {
   "cell_type": "code",
   "execution_count": 10,
   "metadata": {
    "pycharm": {
     "is_executing": false
    }
   },
   "outputs": [],
   "source": [
    "sido = pd.read_csv(path+'시도별지역안전지표_2015.csv', encoding='cp949')\n",
    "sido_wide = pd.read_csv(path+'sido_wide.csv', encoding='cp949')"
   ]
  },
  {
   "cell_type": "code",
   "execution_count": 11,
   "metadata": {
    "pycharm": {
     "is_executing": false
    }
   },
   "outputs": [
    {
     "data": {
      "text/plain": "(132, 324)"
     },
     "metadata": {},
     "output_type": "execute_result",
     "execution_count": 11
    }
   ],
   "source": [
    "sido_wide.shape"
   ]
  },
  {
   "cell_type": "code",
   "execution_count": 12,
   "metadata": {
    "pycharm": {
     "is_executing": false
    }
   },
   "outputs": [
    {
     "data": {
      "text/plain": "(17, 331)"
     },
     "metadata": {},
     "output_type": "execute_result",
     "execution_count": 12
    }
   ],
   "source": [
    "sido.shape"
   ]
  },
  {
   "cell_type": "code",
   "execution_count": 13,
   "metadata": {
    "pycharm": {
     "is_executing": false
    }
   },
   "outputs": [],
   "source": [
    "def imputationcheck(sido):\n",
    "    df = pd.DataFrame(data = sido.notnull().sum(axis=0), columns={'data'} )\n",
    "    return df"
   ]
  },
  {
   "cell_type": "code",
   "execution_count": 14,
   "metadata": {
    "pycharm": {
     "is_executing": false
    }
   },
   "outputs": [],
   "source": [
    "def mean_score(columns,*r):\n",
    "    a = 0\n",
    "    b = len(r)\n",
    "    for reg in r:\n",
    "        a += (sido_wide.loc[sido_wide[\"지역\"]==reg,columns].values)\n",
    "    c = a/b\n",
    "    return float(c)"
   ]
  },
  {
   "cell_type": "code",
   "execution_count": 15,
   "metadata": {
    "pycharm": {
     "is_executing": false
    }
   },
   "outputs": [
    {
     "data": {
      "text/plain": "                            data\n년도                            17\n시도                            17\n지역                            17\n1인가구수                         17\n5대범죄 발생건수                     17\n가로등수                           0\n가스공급설비 면적                     17\n가스사고 발생건수                      0\n가스사고 부상자수                      0\n가스사고 사망자수                      0\n가스사고발생건수                      17\n가해(타살) 사망자수                   17\n감염병 발생건수                      17\n감염병 사망자수                      17\n강력범죄 발생건수                      0\n건강검진 2차검진율                     0\n건강보험급여실적                      17\n건강보험급여실적(약국)                   0\n건강보험급여실적(외래)                   0\n건강보험급여실적(입원)                   0\n건설업 업체수                       17\n건설업 종사자수                      17\n건축용지 면적                       17\n경찰공무원수                         0\n경찰관서수                         17\n고령인구수                         17\n공공문화체육시설수                      0\n공공질서 및 안전예산 비율                17\n공무원수(정원)                      17\n공업지역 면적                       17\n교통문화지수                        17\n교통사고 발생건수                     17\n교통사고 부상자수                     17\n교통사고 사망자수                     17\n교통사고사망자수(고속도로)                16\n교통안전점검 대상 시설 수                 0\n교통안전점검 실시 건수                   0\n교통안전지수                         0\n구거면적                          17\n구거면적 비율                       17\n구급발생건수                        16\n구조구급 발생건수                     17\n구조구급대원수                       17\n구조된 사람수                        0\n구조발생건수                        17\n급경사지 붕괴위험지구 수                  1\n기초수급자수                        17\n기초수급자수(65세이상)                 17\n노인 교통사고 부상자수                  17\n노인 교통사고 사망자수                  17\n놀이시설사고 발생건수                    3\n놀이시설사고 부상자수                    3\n놀이시설사고 사망자수                    3\n농기계사고 발생건수                     0\n농기계사고 부상자수                     0\n농기계사고 사망자수                     0\n다중이용업소수                       17\n대기배출시설 점검 위반율                 17\n대기오염도                         16\n대기오염물질 배출 사업장수                 0\n대기오염물질 배출량                     0\n도로면적                          17\n도로면적 비율                       17\n도로연장                          17\n도매 및 소매업 종사자수                  0\n도시지역 면적                       17\n도시지역 면적 비율                    17\n독거노인수                         17\n등산사고 발생건수                      0\n등산사고 부상자수                      0\n등산사고 사망자수                      0\n레저(생활체육)사고 발생건수                2\n레저(생활체육)사고 부상자수                2\n레저(생활체육)사고 사망자수                2\n무면허교통사고 발생건수                  17\n무허가건물수                         0\n반지하가구 수                        1\n방수시설 면적                       13\n방재지구 면적                       17\n방조설비 면적                        4\n방화성 산불건수                       6\n방화지구 면적                       17\n배수시설 면적                       13\n범죄발생건수(강간.강제추행)               17\n범죄발생건수(강도)                    17\n범죄발생건수(도박)                    17\n범죄발생건수(마약)                    17\n범죄발생건수(방화)                    17\n범죄발생건수(살인)                    17\n범죄발생건수(약취.유인)                 17\n범죄발생건수(절도)                    17\n범죄발생건수(폭력)                    17\n병상수                           17\n병원수                            0\n보건업 및 사회복지서비스업 종사자수           17\n보행사상자수                        17\n보행우선구역 지정면적                    0\n보행자전용·우선도로 면적                 17\n보행자전용·우선도로 연장                 17\n분뇨처리시설수                        0\n붕괴사고 발생건수                      0\n붕괴사고 부상자수                      0\n붕괴사고 사망자수                      0\n붕괴사고건수                         0\n비닐하우스 면적                       1\n빈집수                           17\n사방설비 개소                        5\n사방설비 면적                        5\n사회복지사수                         0\n산림 감시원수                        0\n산림면적                          17\n산림면적 비율                       17\n산불 감시소수                        0\n산불발생건수                        17\n산불피해면적                        16\n산사태 발생면적                       5\n산사태위험지역 면적                     1\n산업단지 규모                        0\n산업단지수                          0\n산업재해 사망만인율                     0\n산업재해 사망자수                      0\n산업재해 재해율                       0\n산업재해 재해자수                      0\n상수도 미급수 지역 주민수                 0\n상수도 보급률                        0\n상업지역 면적                       17\n성폭력 발생건수                      16\n소년범죄 발생건수                      0\n소년소녀가장수                        0\n소방공무원수                         0\n소음진동 배출시설수                     0\n수계밀도                           1\n수난(물놀이)사고 발생건수                 0\n수난(물놀이)사고 사망자수                 0\n수난(익사 등)사고 발생건수                0\n수난(익사 등)사고 부상자수                0\n수난(익사 등)사고 사망자수                0\n수영장수                           0\n수질오염물질 배출 사업장수                 0\n숙박 및 음식점업 종사자수                 0\n순이동자수                         17\n스트레스인지율                       17\n승강기사고 발생건수                     0\n승강기사고 부상자수                     0\n승강기사고 사망자수                     0\n시가화율                          17\n시군구내 전입자수                     17\n시군구외 전입자수                     17\n시도간 전입자수                      17\n시도내-시군구간 전입자수                 17\n시특법 관련 D.E등급 시설수(건축물)          0\n시특법 관련 D.E등급 시설수(그외시설물)        0\n식중독 발생건수                      17\n식중독 발생자수                      17\n식품제조가공업체 위반건수                 17\n실업률                           16\n아동안전지킴이집수                      0\n안전사고 사망자수                      0\n안전실천과제 캠페인 건수                  0\n안전실천과제 캠페인 참여인원                0\n야간산불건수                        14\n야간산불면적                        14\n야간인구수                         17\n양호한 주관적 건강수준 인지율              17\n어린이 교통사고 부상자수                 17\n어린이 교통사고 사망자수                 17\n어린이 식품안전보호구역수                 17\n어린이 아토피                       17\n어린이 천식                        17\n연간 낙상경험률                       0\n열공급설비 면적                      15\n오존경보 발생횟수                     10\n외국인수                          17\n우울감경험률                        17\n운전시 안전벨트 착용률                  17\n월간음주율                         17\n위험물 제조소수                      17\n위험물저장소수                        0\n위험물제조소수                        0\n위험물취급소수                        0\n유류저장 및 송유설비 면적                17\n유지면적                          17\n유지면적 비율                       17\n유치원생수                         17\n음식점 및 주점업 업체수                 17\n음식점 및 주점업 종사자수                17\n음주교통사고 발생건수                   17\n응급처치교육을 받은 주민 비율               0\n의료급여 1종세대수                     0\n의료급여 1종인구수                     0\n의료급여 2종세대수                     0\n의료급여 2종인구수                     0\n의료기관수(요양기관)                   17\n의료보장 공.교 가입자수                 17\n의료보장 공.교 사업장수                  0\n의료보장 근로자 가입자수                  0\n의료보장 근로자 사업장수                 17\n의료보장 사업장수                     17\n의료보장 적용인구                      0\n의료보험료                         17\n의료인력                          17\n의료인력수                          0\n의사수                            0\n의용소방대원수                        0\n이혼건수                          17\n익사자수                          17\n인구밀도                          17\n인플루엔자 예방접종률                   17\n일반주거지역 면적                     17\n임야 면적                         17\n자동차등록대수                       17\n자살 사망자수                       17\n자살예방 상담·교육 실시 건수               0\n자살예방 상담·교육 이수자수                0\n자살예방센터 근무자수                    0\n자살예방용 긴급전화수                    0\n자연재해 발생건수                     14\n자연재해 발생건수(10년평균)              17\n자연재해 사망자수                     17\n자연재해 사망자수(10년평균)              17\n자연재해 피해액                      14\n자연재해 피해액(10년평균)               17\n자연재해 피해자수                     14\n자연재해 피해자수(10년평균)              17\n자연재해위험개선사업 실시 면적               0\n자연재해위험개선지구 수                   1\n자연재해위험개선지구 지정 면적               0\n자원봉사자 등록률                     17\n자전거사고 발생건수                     0\n자전거사고 부상자수                     2\n자전거사고 사망자수                     2\n장애인수                          17\n재난 심리지원 전문요원수                  0\n재난심리지원센터수                     17\n재난안전 교육 실시건수                   0\n재난안전 교육 이수공무원수                 0\n재난안전네트워크 구축달성율                 0\n재난약자수                         17\n재산세액                           0\n재정자립도                         17\n재정자주도                         17\n저수지 저수용량                      10\n전기(감전)사고 발생건수                  0\n전기(감전)사고 부상자수                  0\n전기(감전)사고 사망자수                  0\n전기화재발생건수                      17\n전통시장 면적                        0\n전통시장수                          0\n제방면적                          17\n제방면적 비율                       17\n제조업 업체수                       17\n제조업 종사자수                      17\n주간인구지수                        16\n주거지역 면적                       17\n주민등록인구                        17\n주민등록인구(14세이하)                 17\n주민등록인구(60세이상)                 17\n주민등록인구(여자)                    17\n주민등록인구(청소년)                   17\n주요예방접종을 한 주민수                  0\n주점업 업체수                        0\n지방소득세액                         0\n지역별 부도업체수                     16\n지역안전공동체 회원수                    0\n지역안전공동체수                       0\n지역안전도(관리능력)                   17\n지역안전도(등급)                     17\n지역안전도(방재성능)                   17\n지역안전도(위험환경)                   17\n지역안전도(점수)                     17\n지역자율방재단 회원수                    0\n질병이환 및 사망외인으로 인한 사망자수         17\n창고 및 운송관련 서비스업 업체수            17\n초등학생수                         17\n총 사업 종사자수                      0\n총 사업체수                        17\n총 종사자수                         0\n총전입자수                         17\n추락 사망자수                       17\n추락사고 발생건수                      0\n추락사고 부상자수                      0\n추락사고 사망자수                      0\n특수의료장비수                       17\n특정관리대상 D등급 시설수                 0\n특정관리대상 E등급 시설수                 0\n특정관리대상 시설수                     0\n폐기물 매립시설수                      0\n폐기물 발생량                        0\n폐기물 소각시설수                      0\n폐기물 처리시설수                     17\n폐수배출시설 점검 위반율                 17\n폭발사고 발생건수                      0\n폭발사고 부상자수                      0\n폭발사고 사망자수                      0\n폭염사망자수                         0\n하수관거 보급률                       0\n하수관거 준설률                       0\n하수도 설치율                        0\n하수처리장 시설용량                     0\n하수폐기물처리 및 환경복원업 업체수            0\n하천면적                          17\n하천면적 비율                       17\n하천연장                          17\n학교수(고등학교)                     17\n학교수(중학교)                      17\n학교수(초등학교)                     17\n한파사망자수                         0\n해난사고 발생건수                      0\n해난사고 사망자수                      0\n해난사고 실종자수                      0\n해안선 길이                         1\n행정구역 면적                       17\n혼인귀화자수                        17\n화재 발생건수                       17\n화재 사망자수                       17\n화재 피해액                        17\n화재 피해자수                       17\n화재구조실적                        17\n화재사망자(환산)                     17\n화재예방교육을 받은 주민 비율               0\n화재피해 경감액                      17\n화학물질 및 화학제품 제조업 업체수(의약품제외)     0\n화학물질 배출량                       0\n황사 발생건수                       15\n화재                            17\n교통                            17\n자연재해                          17\n범죄                            17\n안전사고                          17\n자살                            17\n감염병                           17",
      "text/html": "<div>\n<style scoped>\n    .dataframe tbody tr th:only-of-type {\n        vertical-align: middle;\n    }\n\n    .dataframe tbody tr th {\n        vertical-align: top;\n    }\n\n    .dataframe thead th {\n        text-align: right;\n    }\n</style>\n<table border=\"1\" class=\"dataframe\">\n  <thead>\n    <tr style=\"text-align: right;\">\n      <th></th>\n      <th>data</th>\n    </tr>\n  </thead>\n  <tbody>\n    <tr>\n      <th>년도</th>\n      <td>17</td>\n    </tr>\n    <tr>\n      <th>시도</th>\n      <td>17</td>\n    </tr>\n    <tr>\n      <th>지역</th>\n      <td>17</td>\n    </tr>\n    <tr>\n      <th>1인가구수</th>\n      <td>17</td>\n    </tr>\n    <tr>\n      <th>5대범죄 발생건수</th>\n      <td>17</td>\n    </tr>\n    <tr>\n      <th>가로등수</th>\n      <td>0</td>\n    </tr>\n    <tr>\n      <th>가스공급설비 면적</th>\n      <td>17</td>\n    </tr>\n    <tr>\n      <th>가스사고 발생건수</th>\n      <td>0</td>\n    </tr>\n    <tr>\n      <th>가스사고 부상자수</th>\n      <td>0</td>\n    </tr>\n    <tr>\n      <th>가스사고 사망자수</th>\n      <td>0</td>\n    </tr>\n    <tr>\n      <th>가스사고발생건수</th>\n      <td>17</td>\n    </tr>\n    <tr>\n      <th>가해(타살) 사망자수</th>\n      <td>17</td>\n    </tr>\n    <tr>\n      <th>감염병 발생건수</th>\n      <td>17</td>\n    </tr>\n    <tr>\n      <th>감염병 사망자수</th>\n      <td>17</td>\n    </tr>\n    <tr>\n      <th>강력범죄 발생건수</th>\n      <td>0</td>\n    </tr>\n    <tr>\n      <th>건강검진 2차검진율</th>\n      <td>0</td>\n    </tr>\n    <tr>\n      <th>건강보험급여실적</th>\n      <td>17</td>\n    </tr>\n    <tr>\n      <th>건강보험급여실적(약국)</th>\n      <td>0</td>\n    </tr>\n    <tr>\n      <th>건강보험급여실적(외래)</th>\n      <td>0</td>\n    </tr>\n    <tr>\n      <th>건강보험급여실적(입원)</th>\n      <td>0</td>\n    </tr>\n    <tr>\n      <th>건설업 업체수</th>\n      <td>17</td>\n    </tr>\n    <tr>\n      <th>건설업 종사자수</th>\n      <td>17</td>\n    </tr>\n    <tr>\n      <th>건축용지 면적</th>\n      <td>17</td>\n    </tr>\n    <tr>\n      <th>경찰공무원수</th>\n      <td>0</td>\n    </tr>\n    <tr>\n      <th>경찰관서수</th>\n      <td>17</td>\n    </tr>\n    <tr>\n      <th>고령인구수</th>\n      <td>17</td>\n    </tr>\n    <tr>\n      <th>공공문화체육시설수</th>\n      <td>0</td>\n    </tr>\n    <tr>\n      <th>공공질서 및 안전예산 비율</th>\n      <td>17</td>\n    </tr>\n    <tr>\n      <th>공무원수(정원)</th>\n      <td>17</td>\n    </tr>\n    <tr>\n      <th>공업지역 면적</th>\n      <td>17</td>\n    </tr>\n    <tr>\n      <th>교통문화지수</th>\n      <td>17</td>\n    </tr>\n    <tr>\n      <th>교통사고 발생건수</th>\n      <td>17</td>\n    </tr>\n    <tr>\n      <th>교통사고 부상자수</th>\n      <td>17</td>\n    </tr>\n    <tr>\n      <th>교통사고 사망자수</th>\n      <td>17</td>\n    </tr>\n    <tr>\n      <th>교통사고사망자수(고속도로)</th>\n      <td>16</td>\n    </tr>\n    <tr>\n      <th>교통안전점검 대상 시설 수</th>\n      <td>0</td>\n    </tr>\n    <tr>\n      <th>교통안전점검 실시 건수</th>\n      <td>0</td>\n    </tr>\n    <tr>\n      <th>교통안전지수</th>\n      <td>0</td>\n    </tr>\n    <tr>\n      <th>구거면적</th>\n      <td>17</td>\n    </tr>\n    <tr>\n      <th>구거면적 비율</th>\n      <td>17</td>\n    </tr>\n    <tr>\n      <th>구급발생건수</th>\n      <td>16</td>\n    </tr>\n    <tr>\n      <th>구조구급 발생건수</th>\n      <td>17</td>\n    </tr>\n    <tr>\n      <th>구조구급대원수</th>\n      <td>17</td>\n    </tr>\n    <tr>\n      <th>구조된 사람수</th>\n      <td>0</td>\n    </tr>\n    <tr>\n      <th>구조발생건수</th>\n      <td>17</td>\n    </tr>\n    <tr>\n      <th>급경사지 붕괴위험지구 수</th>\n      <td>1</td>\n    </tr>\n    <tr>\n      <th>기초수급자수</th>\n      <td>17</td>\n    </tr>\n    <tr>\n      <th>기초수급자수(65세이상)</th>\n      <td>17</td>\n    </tr>\n    <tr>\n      <th>노인 교통사고 부상자수</th>\n      <td>17</td>\n    </tr>\n    <tr>\n      <th>노인 교통사고 사망자수</th>\n      <td>17</td>\n    </tr>\n    <tr>\n      <th>놀이시설사고 발생건수</th>\n      <td>3</td>\n    </tr>\n    <tr>\n      <th>놀이시설사고 부상자수</th>\n      <td>3</td>\n    </tr>\n    <tr>\n      <th>놀이시설사고 사망자수</th>\n      <td>3</td>\n    </tr>\n    <tr>\n      <th>농기계사고 발생건수</th>\n      <td>0</td>\n    </tr>\n    <tr>\n      <th>농기계사고 부상자수</th>\n      <td>0</td>\n    </tr>\n    <tr>\n      <th>농기계사고 사망자수</th>\n      <td>0</td>\n    </tr>\n    <tr>\n      <th>다중이용업소수</th>\n      <td>17</td>\n    </tr>\n    <tr>\n      <th>대기배출시설 점검 위반율</th>\n      <td>17</td>\n    </tr>\n    <tr>\n      <th>대기오염도</th>\n      <td>16</td>\n    </tr>\n    <tr>\n      <th>대기오염물질 배출 사업장수</th>\n      <td>0</td>\n    </tr>\n    <tr>\n      <th>대기오염물질 배출량</th>\n      <td>0</td>\n    </tr>\n    <tr>\n      <th>도로면적</th>\n      <td>17</td>\n    </tr>\n    <tr>\n      <th>도로면적 비율</th>\n      <td>17</td>\n    </tr>\n    <tr>\n      <th>도로연장</th>\n      <td>17</td>\n    </tr>\n    <tr>\n      <th>도매 및 소매업 종사자수</th>\n      <td>0</td>\n    </tr>\n    <tr>\n      <th>도시지역 면적</th>\n      <td>17</td>\n    </tr>\n    <tr>\n      <th>도시지역 면적 비율</th>\n      <td>17</td>\n    </tr>\n    <tr>\n      <th>독거노인수</th>\n      <td>17</td>\n    </tr>\n    <tr>\n      <th>등산사고 발생건수</th>\n      <td>0</td>\n    </tr>\n    <tr>\n      <th>등산사고 부상자수</th>\n      <td>0</td>\n    </tr>\n    <tr>\n      <th>등산사고 사망자수</th>\n      <td>0</td>\n    </tr>\n    <tr>\n      <th>레저(생활체육)사고 발생건수</th>\n      <td>2</td>\n    </tr>\n    <tr>\n      <th>레저(생활체육)사고 부상자수</th>\n      <td>2</td>\n    </tr>\n    <tr>\n      <th>레저(생활체육)사고 사망자수</th>\n      <td>2</td>\n    </tr>\n    <tr>\n      <th>무면허교통사고 발생건수</th>\n      <td>17</td>\n    </tr>\n    <tr>\n      <th>무허가건물수</th>\n      <td>0</td>\n    </tr>\n    <tr>\n      <th>반지하가구 수</th>\n      <td>1</td>\n    </tr>\n    <tr>\n      <th>방수시설 면적</th>\n      <td>13</td>\n    </tr>\n    <tr>\n      <th>방재지구 면적</th>\n      <td>17</td>\n    </tr>\n    <tr>\n      <th>방조설비 면적</th>\n      <td>4</td>\n    </tr>\n    <tr>\n      <th>방화성 산불건수</th>\n      <td>6</td>\n    </tr>\n    <tr>\n      <th>방화지구 면적</th>\n      <td>17</td>\n    </tr>\n    <tr>\n      <th>배수시설 면적</th>\n      <td>13</td>\n    </tr>\n    <tr>\n      <th>범죄발생건수(강간.강제추행)</th>\n      <td>17</td>\n    </tr>\n    <tr>\n      <th>범죄발생건수(강도)</th>\n      <td>17</td>\n    </tr>\n    <tr>\n      <th>범죄발생건수(도박)</th>\n      <td>17</td>\n    </tr>\n    <tr>\n      <th>범죄발생건수(마약)</th>\n      <td>17</td>\n    </tr>\n    <tr>\n      <th>범죄발생건수(방화)</th>\n      <td>17</td>\n    </tr>\n    <tr>\n      <th>범죄발생건수(살인)</th>\n      <td>17</td>\n    </tr>\n    <tr>\n      <th>범죄발생건수(약취.유인)</th>\n      <td>17</td>\n    </tr>\n    <tr>\n      <th>범죄발생건수(절도)</th>\n      <td>17</td>\n    </tr>\n    <tr>\n      <th>범죄발생건수(폭력)</th>\n      <td>17</td>\n    </tr>\n    <tr>\n      <th>병상수</th>\n      <td>17</td>\n    </tr>\n    <tr>\n      <th>병원수</th>\n      <td>0</td>\n    </tr>\n    <tr>\n      <th>보건업 및 사회복지서비스업 종사자수</th>\n      <td>17</td>\n    </tr>\n    <tr>\n      <th>보행사상자수</th>\n      <td>17</td>\n    </tr>\n    <tr>\n      <th>보행우선구역 지정면적</th>\n      <td>0</td>\n    </tr>\n    <tr>\n      <th>보행자전용·우선도로 면적</th>\n      <td>17</td>\n    </tr>\n    <tr>\n      <th>보행자전용·우선도로 연장</th>\n      <td>17</td>\n    </tr>\n    <tr>\n      <th>분뇨처리시설수</th>\n      <td>0</td>\n    </tr>\n    <tr>\n      <th>붕괴사고 발생건수</th>\n      <td>0</td>\n    </tr>\n    <tr>\n      <th>붕괴사고 부상자수</th>\n      <td>0</td>\n    </tr>\n    <tr>\n      <th>붕괴사고 사망자수</th>\n      <td>0</td>\n    </tr>\n    <tr>\n      <th>붕괴사고건수</th>\n      <td>0</td>\n    </tr>\n    <tr>\n      <th>비닐하우스 면적</th>\n      <td>1</td>\n    </tr>\n    <tr>\n      <th>빈집수</th>\n      <td>17</td>\n    </tr>\n    <tr>\n      <th>사방설비 개소</th>\n      <td>5</td>\n    </tr>\n    <tr>\n      <th>사방설비 면적</th>\n      <td>5</td>\n    </tr>\n    <tr>\n      <th>사회복지사수</th>\n      <td>0</td>\n    </tr>\n    <tr>\n      <th>산림 감시원수</th>\n      <td>0</td>\n    </tr>\n    <tr>\n      <th>산림면적</th>\n      <td>17</td>\n    </tr>\n    <tr>\n      <th>산림면적 비율</th>\n      <td>17</td>\n    </tr>\n    <tr>\n      <th>산불 감시소수</th>\n      <td>0</td>\n    </tr>\n    <tr>\n      <th>산불발생건수</th>\n      <td>17</td>\n    </tr>\n    <tr>\n      <th>산불피해면적</th>\n      <td>16</td>\n    </tr>\n    <tr>\n      <th>산사태 발생면적</th>\n      <td>5</td>\n    </tr>\n    <tr>\n      <th>산사태위험지역 면적</th>\n      <td>1</td>\n    </tr>\n    <tr>\n      <th>산업단지 규모</th>\n      <td>0</td>\n    </tr>\n    <tr>\n      <th>산업단지수</th>\n      <td>0</td>\n    </tr>\n    <tr>\n      <th>산업재해 사망만인율</th>\n      <td>0</td>\n    </tr>\n    <tr>\n      <th>산업재해 사망자수</th>\n      <td>0</td>\n    </tr>\n    <tr>\n      <th>산업재해 재해율</th>\n      <td>0</td>\n    </tr>\n    <tr>\n      <th>산업재해 재해자수</th>\n      <td>0</td>\n    </tr>\n    <tr>\n      <th>상수도 미급수 지역 주민수</th>\n      <td>0</td>\n    </tr>\n    <tr>\n      <th>상수도 보급률</th>\n      <td>0</td>\n    </tr>\n    <tr>\n      <th>상업지역 면적</th>\n      <td>17</td>\n    </tr>\n    <tr>\n      <th>성폭력 발생건수</th>\n      <td>16</td>\n    </tr>\n    <tr>\n      <th>소년범죄 발생건수</th>\n      <td>0</td>\n    </tr>\n    <tr>\n      <th>소년소녀가장수</th>\n      <td>0</td>\n    </tr>\n    <tr>\n      <th>소방공무원수</th>\n      <td>0</td>\n    </tr>\n    <tr>\n      <th>소음진동 배출시설수</th>\n      <td>0</td>\n    </tr>\n    <tr>\n      <th>수계밀도</th>\n      <td>1</td>\n    </tr>\n    <tr>\n      <th>수난(물놀이)사고 발생건수</th>\n      <td>0</td>\n    </tr>\n    <tr>\n      <th>수난(물놀이)사고 사망자수</th>\n      <td>0</td>\n    </tr>\n    <tr>\n      <th>수난(익사 등)사고 발생건수</th>\n      <td>0</td>\n    </tr>\n    <tr>\n      <th>수난(익사 등)사고 부상자수</th>\n      <td>0</td>\n    </tr>\n    <tr>\n      <th>수난(익사 등)사고 사망자수</th>\n      <td>0</td>\n    </tr>\n    <tr>\n      <th>수영장수</th>\n      <td>0</td>\n    </tr>\n    <tr>\n      <th>수질오염물질 배출 사업장수</th>\n      <td>0</td>\n    </tr>\n    <tr>\n      <th>숙박 및 음식점업 종사자수</th>\n      <td>0</td>\n    </tr>\n    <tr>\n      <th>순이동자수</th>\n      <td>17</td>\n    </tr>\n    <tr>\n      <th>스트레스인지율</th>\n      <td>17</td>\n    </tr>\n    <tr>\n      <th>승강기사고 발생건수</th>\n      <td>0</td>\n    </tr>\n    <tr>\n      <th>승강기사고 부상자수</th>\n      <td>0</td>\n    </tr>\n    <tr>\n      <th>승강기사고 사망자수</th>\n      <td>0</td>\n    </tr>\n    <tr>\n      <th>시가화율</th>\n      <td>17</td>\n    </tr>\n    <tr>\n      <th>시군구내 전입자수</th>\n      <td>17</td>\n    </tr>\n    <tr>\n      <th>시군구외 전입자수</th>\n      <td>17</td>\n    </tr>\n    <tr>\n      <th>시도간 전입자수</th>\n      <td>17</td>\n    </tr>\n    <tr>\n      <th>시도내-시군구간 전입자수</th>\n      <td>17</td>\n    </tr>\n    <tr>\n      <th>시특법 관련 D.E등급 시설수(건축물)</th>\n      <td>0</td>\n    </tr>\n    <tr>\n      <th>시특법 관련 D.E등급 시설수(그외시설물)</th>\n      <td>0</td>\n    </tr>\n    <tr>\n      <th>식중독 발생건수</th>\n      <td>17</td>\n    </tr>\n    <tr>\n      <th>식중독 발생자수</th>\n      <td>17</td>\n    </tr>\n    <tr>\n      <th>식품제조가공업체 위반건수</th>\n      <td>17</td>\n    </tr>\n    <tr>\n      <th>실업률</th>\n      <td>16</td>\n    </tr>\n    <tr>\n      <th>아동안전지킴이집수</th>\n      <td>0</td>\n    </tr>\n    <tr>\n      <th>안전사고 사망자수</th>\n      <td>0</td>\n    </tr>\n    <tr>\n      <th>안전실천과제 캠페인 건수</th>\n      <td>0</td>\n    </tr>\n    <tr>\n      <th>안전실천과제 캠페인 참여인원</th>\n      <td>0</td>\n    </tr>\n    <tr>\n      <th>야간산불건수</th>\n      <td>14</td>\n    </tr>\n    <tr>\n      <th>야간산불면적</th>\n      <td>14</td>\n    </tr>\n    <tr>\n      <th>야간인구수</th>\n      <td>17</td>\n    </tr>\n    <tr>\n      <th>양호한 주관적 건강수준 인지율</th>\n      <td>17</td>\n    </tr>\n    <tr>\n      <th>어린이 교통사고 부상자수</th>\n      <td>17</td>\n    </tr>\n    <tr>\n      <th>어린이 교통사고 사망자수</th>\n      <td>17</td>\n    </tr>\n    <tr>\n      <th>어린이 식품안전보호구역수</th>\n      <td>17</td>\n    </tr>\n    <tr>\n      <th>어린이 아토피</th>\n      <td>17</td>\n    </tr>\n    <tr>\n      <th>어린이 천식</th>\n      <td>17</td>\n    </tr>\n    <tr>\n      <th>연간 낙상경험률</th>\n      <td>0</td>\n    </tr>\n    <tr>\n      <th>열공급설비 면적</th>\n      <td>15</td>\n    </tr>\n    <tr>\n      <th>오존경보 발생횟수</th>\n      <td>10</td>\n    </tr>\n    <tr>\n      <th>외국인수</th>\n      <td>17</td>\n    </tr>\n    <tr>\n      <th>우울감경험률</th>\n      <td>17</td>\n    </tr>\n    <tr>\n      <th>운전시 안전벨트 착용률</th>\n      <td>17</td>\n    </tr>\n    <tr>\n      <th>월간음주율</th>\n      <td>17</td>\n    </tr>\n    <tr>\n      <th>위험물 제조소수</th>\n      <td>17</td>\n    </tr>\n    <tr>\n      <th>위험물저장소수</th>\n      <td>0</td>\n    </tr>\n    <tr>\n      <th>위험물제조소수</th>\n      <td>0</td>\n    </tr>\n    <tr>\n      <th>위험물취급소수</th>\n      <td>0</td>\n    </tr>\n    <tr>\n      <th>유류저장 및 송유설비 면적</th>\n      <td>17</td>\n    </tr>\n    <tr>\n      <th>유지면적</th>\n      <td>17</td>\n    </tr>\n    <tr>\n      <th>유지면적 비율</th>\n      <td>17</td>\n    </tr>\n    <tr>\n      <th>유치원생수</th>\n      <td>17</td>\n    </tr>\n    <tr>\n      <th>음식점 및 주점업 업체수</th>\n      <td>17</td>\n    </tr>\n    <tr>\n      <th>음식점 및 주점업 종사자수</th>\n      <td>17</td>\n    </tr>\n    <tr>\n      <th>음주교통사고 발생건수</th>\n      <td>17</td>\n    </tr>\n    <tr>\n      <th>응급처치교육을 받은 주민 비율</th>\n      <td>0</td>\n    </tr>\n    <tr>\n      <th>의료급여 1종세대수</th>\n      <td>0</td>\n    </tr>\n    <tr>\n      <th>의료급여 1종인구수</th>\n      <td>0</td>\n    </tr>\n    <tr>\n      <th>의료급여 2종세대수</th>\n      <td>0</td>\n    </tr>\n    <tr>\n      <th>의료급여 2종인구수</th>\n      <td>0</td>\n    </tr>\n    <tr>\n      <th>의료기관수(요양기관)</th>\n      <td>17</td>\n    </tr>\n    <tr>\n      <th>의료보장 공.교 가입자수</th>\n      <td>17</td>\n    </tr>\n    <tr>\n      <th>의료보장 공.교 사업장수</th>\n      <td>0</td>\n    </tr>\n    <tr>\n      <th>의료보장 근로자 가입자수</th>\n      <td>0</td>\n    </tr>\n    <tr>\n      <th>의료보장 근로자 사업장수</th>\n      <td>17</td>\n    </tr>\n    <tr>\n      <th>의료보장 사업장수</th>\n      <td>17</td>\n    </tr>\n    <tr>\n      <th>의료보장 적용인구</th>\n      <td>0</td>\n    </tr>\n    <tr>\n      <th>의료보험료</th>\n      <td>17</td>\n    </tr>\n    <tr>\n      <th>의료인력</th>\n      <td>17</td>\n    </tr>\n    <tr>\n      <th>의료인력수</th>\n      <td>0</td>\n    </tr>\n    <tr>\n      <th>의사수</th>\n      <td>0</td>\n    </tr>\n    <tr>\n      <th>의용소방대원수</th>\n      <td>0</td>\n    </tr>\n    <tr>\n      <th>이혼건수</th>\n      <td>17</td>\n    </tr>\n    <tr>\n      <th>익사자수</th>\n      <td>17</td>\n    </tr>\n    <tr>\n      <th>인구밀도</th>\n      <td>17</td>\n    </tr>\n    <tr>\n      <th>인플루엔자 예방접종률</th>\n      <td>17</td>\n    </tr>\n    <tr>\n      <th>일반주거지역 면적</th>\n      <td>17</td>\n    </tr>\n    <tr>\n      <th>임야 면적</th>\n      <td>17</td>\n    </tr>\n    <tr>\n      <th>자동차등록대수</th>\n      <td>17</td>\n    </tr>\n    <tr>\n      <th>자살 사망자수</th>\n      <td>17</td>\n    </tr>\n    <tr>\n      <th>자살예방 상담·교육 실시 건수</th>\n      <td>0</td>\n    </tr>\n    <tr>\n      <th>자살예방 상담·교육 이수자수</th>\n      <td>0</td>\n    </tr>\n    <tr>\n      <th>자살예방센터 근무자수</th>\n      <td>0</td>\n    </tr>\n    <tr>\n      <th>자살예방용 긴급전화수</th>\n      <td>0</td>\n    </tr>\n    <tr>\n      <th>자연재해 발생건수</th>\n      <td>14</td>\n    </tr>\n    <tr>\n      <th>자연재해 발생건수(10년평균)</th>\n      <td>17</td>\n    </tr>\n    <tr>\n      <th>자연재해 사망자수</th>\n      <td>17</td>\n    </tr>\n    <tr>\n      <th>자연재해 사망자수(10년평균)</th>\n      <td>17</td>\n    </tr>\n    <tr>\n      <th>자연재해 피해액</th>\n      <td>14</td>\n    </tr>\n    <tr>\n      <th>자연재해 피해액(10년평균)</th>\n      <td>17</td>\n    </tr>\n    <tr>\n      <th>자연재해 피해자수</th>\n      <td>14</td>\n    </tr>\n    <tr>\n      <th>자연재해 피해자수(10년평균)</th>\n      <td>17</td>\n    </tr>\n    <tr>\n      <th>자연재해위험개선사업 실시 면적</th>\n      <td>0</td>\n    </tr>\n    <tr>\n      <th>자연재해위험개선지구 수</th>\n      <td>1</td>\n    </tr>\n    <tr>\n      <th>자연재해위험개선지구 지정 면적</th>\n      <td>0</td>\n    </tr>\n    <tr>\n      <th>자원봉사자 등록률</th>\n      <td>17</td>\n    </tr>\n    <tr>\n      <th>자전거사고 발생건수</th>\n      <td>0</td>\n    </tr>\n    <tr>\n      <th>자전거사고 부상자수</th>\n      <td>2</td>\n    </tr>\n    <tr>\n      <th>자전거사고 사망자수</th>\n      <td>2</td>\n    </tr>\n    <tr>\n      <th>장애인수</th>\n      <td>17</td>\n    </tr>\n    <tr>\n      <th>재난 심리지원 전문요원수</th>\n      <td>0</td>\n    </tr>\n    <tr>\n      <th>재난심리지원센터수</th>\n      <td>17</td>\n    </tr>\n    <tr>\n      <th>재난안전 교육 실시건수</th>\n      <td>0</td>\n    </tr>\n    <tr>\n      <th>재난안전 교육 이수공무원수</th>\n      <td>0</td>\n    </tr>\n    <tr>\n      <th>재난안전네트워크 구축달성율</th>\n      <td>0</td>\n    </tr>\n    <tr>\n      <th>재난약자수</th>\n      <td>17</td>\n    </tr>\n    <tr>\n      <th>재산세액</th>\n      <td>0</td>\n    </tr>\n    <tr>\n      <th>재정자립도</th>\n      <td>17</td>\n    </tr>\n    <tr>\n      <th>재정자주도</th>\n      <td>17</td>\n    </tr>\n    <tr>\n      <th>저수지 저수용량</th>\n      <td>10</td>\n    </tr>\n    <tr>\n      <th>전기(감전)사고 발생건수</th>\n      <td>0</td>\n    </tr>\n    <tr>\n      <th>전기(감전)사고 부상자수</th>\n      <td>0</td>\n    </tr>\n    <tr>\n      <th>전기(감전)사고 사망자수</th>\n      <td>0</td>\n    </tr>\n    <tr>\n      <th>전기화재발생건수</th>\n      <td>17</td>\n    </tr>\n    <tr>\n      <th>전통시장 면적</th>\n      <td>0</td>\n    </tr>\n    <tr>\n      <th>전통시장수</th>\n      <td>0</td>\n    </tr>\n    <tr>\n      <th>제방면적</th>\n      <td>17</td>\n    </tr>\n    <tr>\n      <th>제방면적 비율</th>\n      <td>17</td>\n    </tr>\n    <tr>\n      <th>제조업 업체수</th>\n      <td>17</td>\n    </tr>\n    <tr>\n      <th>제조업 종사자수</th>\n      <td>17</td>\n    </tr>\n    <tr>\n      <th>주간인구지수</th>\n      <td>16</td>\n    </tr>\n    <tr>\n      <th>주거지역 면적</th>\n      <td>17</td>\n    </tr>\n    <tr>\n      <th>주민등록인구</th>\n      <td>17</td>\n    </tr>\n    <tr>\n      <th>주민등록인구(14세이하)</th>\n      <td>17</td>\n    </tr>\n    <tr>\n      <th>주민등록인구(60세이상)</th>\n      <td>17</td>\n    </tr>\n    <tr>\n      <th>주민등록인구(여자)</th>\n      <td>17</td>\n    </tr>\n    <tr>\n      <th>주민등록인구(청소년)</th>\n      <td>17</td>\n    </tr>\n    <tr>\n      <th>주요예방접종을 한 주민수</th>\n      <td>0</td>\n    </tr>\n    <tr>\n      <th>주점업 업체수</th>\n      <td>0</td>\n    </tr>\n    <tr>\n      <th>지방소득세액</th>\n      <td>0</td>\n    </tr>\n    <tr>\n      <th>지역별 부도업체수</th>\n      <td>16</td>\n    </tr>\n    <tr>\n      <th>지역안전공동체 회원수</th>\n      <td>0</td>\n    </tr>\n    <tr>\n      <th>지역안전공동체수</th>\n      <td>0</td>\n    </tr>\n    <tr>\n      <th>지역안전도(관리능력)</th>\n      <td>17</td>\n    </tr>\n    <tr>\n      <th>지역안전도(등급)</th>\n      <td>17</td>\n    </tr>\n    <tr>\n      <th>지역안전도(방재성능)</th>\n      <td>17</td>\n    </tr>\n    <tr>\n      <th>지역안전도(위험환경)</th>\n      <td>17</td>\n    </tr>\n    <tr>\n      <th>지역안전도(점수)</th>\n      <td>17</td>\n    </tr>\n    <tr>\n      <th>지역자율방재단 회원수</th>\n      <td>0</td>\n    </tr>\n    <tr>\n      <th>질병이환 및 사망외인으로 인한 사망자수</th>\n      <td>17</td>\n    </tr>\n    <tr>\n      <th>창고 및 운송관련 서비스업 업체수</th>\n      <td>17</td>\n    </tr>\n    <tr>\n      <th>초등학생수</th>\n      <td>17</td>\n    </tr>\n    <tr>\n      <th>총 사업 종사자수</th>\n      <td>0</td>\n    </tr>\n    <tr>\n      <th>총 사업체수</th>\n      <td>17</td>\n    </tr>\n    <tr>\n      <th>총 종사자수</th>\n      <td>0</td>\n    </tr>\n    <tr>\n      <th>총전입자수</th>\n      <td>17</td>\n    </tr>\n    <tr>\n      <th>추락 사망자수</th>\n      <td>17</td>\n    </tr>\n    <tr>\n      <th>추락사고 발생건수</th>\n      <td>0</td>\n    </tr>\n    <tr>\n      <th>추락사고 부상자수</th>\n      <td>0</td>\n    </tr>\n    <tr>\n      <th>추락사고 사망자수</th>\n      <td>0</td>\n    </tr>\n    <tr>\n      <th>특수의료장비수</th>\n      <td>17</td>\n    </tr>\n    <tr>\n      <th>특정관리대상 D등급 시설수</th>\n      <td>0</td>\n    </tr>\n    <tr>\n      <th>특정관리대상 E등급 시설수</th>\n      <td>0</td>\n    </tr>\n    <tr>\n      <th>특정관리대상 시설수</th>\n      <td>0</td>\n    </tr>\n    <tr>\n      <th>폐기물 매립시설수</th>\n      <td>0</td>\n    </tr>\n    <tr>\n      <th>폐기물 발생량</th>\n      <td>0</td>\n    </tr>\n    <tr>\n      <th>폐기물 소각시설수</th>\n      <td>0</td>\n    </tr>\n    <tr>\n      <th>폐기물 처리시설수</th>\n      <td>17</td>\n    </tr>\n    <tr>\n      <th>폐수배출시설 점검 위반율</th>\n      <td>17</td>\n    </tr>\n    <tr>\n      <th>폭발사고 발생건수</th>\n      <td>0</td>\n    </tr>\n    <tr>\n      <th>폭발사고 부상자수</th>\n      <td>0</td>\n    </tr>\n    <tr>\n      <th>폭발사고 사망자수</th>\n      <td>0</td>\n    </tr>\n    <tr>\n      <th>폭염사망자수</th>\n      <td>0</td>\n    </tr>\n    <tr>\n      <th>하수관거 보급률</th>\n      <td>0</td>\n    </tr>\n    <tr>\n      <th>하수관거 준설률</th>\n      <td>0</td>\n    </tr>\n    <tr>\n      <th>하수도 설치율</th>\n      <td>0</td>\n    </tr>\n    <tr>\n      <th>하수처리장 시설용량</th>\n      <td>0</td>\n    </tr>\n    <tr>\n      <th>하수폐기물처리 및 환경복원업 업체수</th>\n      <td>0</td>\n    </tr>\n    <tr>\n      <th>하천면적</th>\n      <td>17</td>\n    </tr>\n    <tr>\n      <th>하천면적 비율</th>\n      <td>17</td>\n    </tr>\n    <tr>\n      <th>하천연장</th>\n      <td>17</td>\n    </tr>\n    <tr>\n      <th>학교수(고등학교)</th>\n      <td>17</td>\n    </tr>\n    <tr>\n      <th>학교수(중학교)</th>\n      <td>17</td>\n    </tr>\n    <tr>\n      <th>학교수(초등학교)</th>\n      <td>17</td>\n    </tr>\n    <tr>\n      <th>한파사망자수</th>\n      <td>0</td>\n    </tr>\n    <tr>\n      <th>해난사고 발생건수</th>\n      <td>0</td>\n    </tr>\n    <tr>\n      <th>해난사고 사망자수</th>\n      <td>0</td>\n    </tr>\n    <tr>\n      <th>해난사고 실종자수</th>\n      <td>0</td>\n    </tr>\n    <tr>\n      <th>해안선 길이</th>\n      <td>1</td>\n    </tr>\n    <tr>\n      <th>행정구역 면적</th>\n      <td>17</td>\n    </tr>\n    <tr>\n      <th>혼인귀화자수</th>\n      <td>17</td>\n    </tr>\n    <tr>\n      <th>화재 발생건수</th>\n      <td>17</td>\n    </tr>\n    <tr>\n      <th>화재 사망자수</th>\n      <td>17</td>\n    </tr>\n    <tr>\n      <th>화재 피해액</th>\n      <td>17</td>\n    </tr>\n    <tr>\n      <th>화재 피해자수</th>\n      <td>17</td>\n    </tr>\n    <tr>\n      <th>화재구조실적</th>\n      <td>17</td>\n    </tr>\n    <tr>\n      <th>화재사망자(환산)</th>\n      <td>17</td>\n    </tr>\n    <tr>\n      <th>화재예방교육을 받은 주민 비율</th>\n      <td>0</td>\n    </tr>\n    <tr>\n      <th>화재피해 경감액</th>\n      <td>17</td>\n    </tr>\n    <tr>\n      <th>화학물질 및 화학제품 제조업 업체수(의약품제외)</th>\n      <td>0</td>\n    </tr>\n    <tr>\n      <th>화학물질 배출량</th>\n      <td>0</td>\n    </tr>\n    <tr>\n      <th>황사 발생건수</th>\n      <td>15</td>\n    </tr>\n    <tr>\n      <th>화재</th>\n      <td>17</td>\n    </tr>\n    <tr>\n      <th>교통</th>\n      <td>17</td>\n    </tr>\n    <tr>\n      <th>자연재해</th>\n      <td>17</td>\n    </tr>\n    <tr>\n      <th>범죄</th>\n      <td>17</td>\n    </tr>\n    <tr>\n      <th>안전사고</th>\n      <td>17</td>\n    </tr>\n    <tr>\n      <th>자살</th>\n      <td>17</td>\n    </tr>\n    <tr>\n      <th>감염병</th>\n      <td>17</td>\n    </tr>\n  </tbody>\n</table>\n</div>"
     },
     "metadata": {},
     "output_type": "execute_result",
     "execution_count": 15
    }
   ],
   "source": [
    "imputationcheck(sido)"
   ]
  },
  {
   "cell_type": "code",
   "execution_count": 16,
   "metadata": {
    "pycharm": {
     "is_executing": false
    }
   },
   "outputs": [
    {
     "data": {
      "text/plain": "(17, 202)"
     },
     "metadata": {},
     "output_type": "execute_result",
     "execution_count": 16
    }
   ],
   "source": [
    "#모두 비어있는 변수를 삭제\n",
    "sido.dropna(axis=1, how='all',inplace=True)\n",
    "sido.shape"
   ]
  },
  {
   "cell_type": "code",
   "execution_count": 17,
   "metadata": {
    "pycharm": {
     "is_executing": false
    }
   },
   "outputs": [
    {
     "data": {
      "text/plain": "(17, 173)"
     },
     "metadata": {},
     "output_type": "execute_result",
     "execution_count": 17
    }
   ],
   "source": [
    "#14개 이하로 차있는 열은 삭제\n",
    "lst = imputationcheck(sido).loc[imputationcheck(sido).data<=14].index.tolist()\n",
    "sido.drop(labels=lst, axis=1, inplace=True)\n",
    "sido.shape"
   ]
  },
  {
   "cell_type": "code",
   "execution_count": 18,
   "metadata": {
    "pycharm": {
     "is_executing": false
    }
   },
   "outputs": [
    {
     "data": {
      "text/plain": "                       data\n년도                       17\n시도                       17\n지역                       17\n1인가구수                    17\n5대범죄 발생건수                17\n가스공급설비 면적                17\n가스사고발생건수                 17\n가해(타살) 사망자수              17\n감염병 발생건수                 17\n감염병 사망자수                 17\n건강보험급여실적                 17\n건설업 업체수                  17\n건설업 종사자수                 17\n건축용지 면적                  17\n경찰관서수                    17\n고령인구수                    17\n공공질서 및 안전예산 비율           17\n공무원수(정원)                 17\n공업지역 면적                  17\n교통문화지수                   17\n교통사고 발생건수                17\n교통사고 부상자수                17\n교통사고 사망자수                17\n교통사고사망자수(고속도로)           16\n구거면적                     17\n구거면적 비율                  17\n구급발생건수                   16\n구조구급 발생건수                17\n구조구급대원수                  17\n구조발생건수                   17\n기초수급자수                   17\n기초수급자수(65세이상)            17\n노인 교통사고 부상자수             17\n노인 교통사고 사망자수             17\n다중이용업소수                  17\n대기배출시설 점검 위반율            17\n대기오염도                    16\n도로면적                     17\n도로면적 비율                  17\n도로연장                     17\n도시지역 면적                  17\n도시지역 면적 비율               17\n독거노인수                    17\n무면허교통사고 발생건수             17\n방재지구 면적                  17\n방화지구 면적                  17\n범죄발생건수(강간.강제추행)          17\n범죄발생건수(강도)               17\n범죄발생건수(도박)               17\n범죄발생건수(마약)               17\n범죄발생건수(방화)               17\n범죄발생건수(살인)               17\n범죄발생건수(약취.유인)            17\n범죄발생건수(절도)               17\n범죄발생건수(폭력)               17\n병상수                      17\n보건업 및 사회복지서비스업 종사자수      17\n보행사상자수                   17\n보행자전용·우선도로 면적            17\n보행자전용·우선도로 연장            17\n빈집수                      17\n산림면적                     17\n산림면적 비율                  17\n산불발생건수                   17\n산불피해면적                   16\n상업지역 면적                  17\n성폭력 발생건수                 16\n순이동자수                    17\n스트레스인지율                  17\n시가화율                     17\n시군구내 전입자수                17\n시군구외 전입자수                17\n시도간 전입자수                 17\n시도내-시군구간 전입자수            17\n식중독 발생건수                 17\n식중독 발생자수                 17\n식품제조가공업체 위반건수            17\n실업률                      16\n야간인구수                    17\n양호한 주관적 건강수준 인지율         17\n어린이 교통사고 부상자수            17\n어린이 교통사고 사망자수            17\n어린이 식품안전보호구역수            17\n어린이 아토피                  17\n어린이 천식                   17\n열공급설비 면적                 15\n외국인수                     17\n우울감경험률                   17\n운전시 안전벨트 착용률             17\n월간음주율                    17\n위험물 제조소수                 17\n유류저장 및 송유설비 면적           17\n유지면적                     17\n유지면적 비율                  17\n유치원생수                    17\n음식점 및 주점업 업체수            17\n음식점 및 주점업 종사자수           17\n음주교통사고 발생건수              17\n의료기관수(요양기관)              17\n의료보장 공.교 가입자수            17\n의료보장 근로자 사업장수            17\n의료보장 사업장수                17\n의료보험료                    17\n의료인력                     17\n이혼건수                     17\n익사자수                     17\n인구밀도                     17\n인플루엔자 예방접종률              17\n일반주거지역 면적                17\n임야 면적                    17\n자동차등록대수                  17\n자살 사망자수                  17\n자연재해 발생건수(10년평균)         17\n자연재해 사망자수                17\n자연재해 사망자수(10년평균)         17\n자연재해 피해액(10년평균)          17\n자연재해 피해자수(10년평균)         17\n자원봉사자 등록률                17\n장애인수                     17\n재난심리지원센터수                17\n재난약자수                    17\n재정자립도                    17\n재정자주도                    17\n전기화재발생건수                 17\n제방면적                     17\n제방면적 비율                  17\n제조업 업체수                  17\n제조업 종사자수                 17\n주간인구지수                   16\n주거지역 면적                  17\n주민등록인구                   17\n주민등록인구(14세이하)            17\n주민등록인구(60세이상)            17\n주민등록인구(여자)               17\n주민등록인구(청소년)              17\n지역별 부도업체수                16\n지역안전도(관리능력)              17\n지역안전도(등급)                17\n지역안전도(방재성능)              17\n지역안전도(위험환경)              17\n지역안전도(점수)                17\n질병이환 및 사망외인으로 인한 사망자수    17\n창고 및 운송관련 서비스업 업체수       17\n초등학생수                    17\n총 사업체수                   17\n총전입자수                    17\n추락 사망자수                  17\n특수의료장비수                  17\n폐기물 처리시설수                17\n폐수배출시설 점검 위반율            17\n하천면적                     17\n하천면적 비율                  17\n하천연장                     17\n학교수(고등학교)                17\n학교수(중학교)                 17\n학교수(초등학교)                17\n행정구역 면적                  17\n혼인귀화자수                   17\n화재 발생건수                  17\n화재 사망자수                  17\n화재 피해액                   17\n화재 피해자수                  17\n화재구조실적                   17\n화재사망자(환산)                17\n화재피해 경감액                 17\n황사 발생건수                  15\n화재                       17\n교통                       17\n자연재해                     17\n범죄                       17\n안전사고                     17\n자살                       17\n감염병                      17",
      "text/html": "<div>\n<style scoped>\n    .dataframe tbody tr th:only-of-type {\n        vertical-align: middle;\n    }\n\n    .dataframe tbody tr th {\n        vertical-align: top;\n    }\n\n    .dataframe thead th {\n        text-align: right;\n    }\n</style>\n<table border=\"1\" class=\"dataframe\">\n  <thead>\n    <tr style=\"text-align: right;\">\n      <th></th>\n      <th>data</th>\n    </tr>\n  </thead>\n  <tbody>\n    <tr>\n      <th>년도</th>\n      <td>17</td>\n    </tr>\n    <tr>\n      <th>시도</th>\n      <td>17</td>\n    </tr>\n    <tr>\n      <th>지역</th>\n      <td>17</td>\n    </tr>\n    <tr>\n      <th>1인가구수</th>\n      <td>17</td>\n    </tr>\n    <tr>\n      <th>5대범죄 발생건수</th>\n      <td>17</td>\n    </tr>\n    <tr>\n      <th>가스공급설비 면적</th>\n      <td>17</td>\n    </tr>\n    <tr>\n      <th>가스사고발생건수</th>\n      <td>17</td>\n    </tr>\n    <tr>\n      <th>가해(타살) 사망자수</th>\n      <td>17</td>\n    </tr>\n    <tr>\n      <th>감염병 발생건수</th>\n      <td>17</td>\n    </tr>\n    <tr>\n      <th>감염병 사망자수</th>\n      <td>17</td>\n    </tr>\n    <tr>\n      <th>건강보험급여실적</th>\n      <td>17</td>\n    </tr>\n    <tr>\n      <th>건설업 업체수</th>\n      <td>17</td>\n    </tr>\n    <tr>\n      <th>건설업 종사자수</th>\n      <td>17</td>\n    </tr>\n    <tr>\n      <th>건축용지 면적</th>\n      <td>17</td>\n    </tr>\n    <tr>\n      <th>경찰관서수</th>\n      <td>17</td>\n    </tr>\n    <tr>\n      <th>고령인구수</th>\n      <td>17</td>\n    </tr>\n    <tr>\n      <th>공공질서 및 안전예산 비율</th>\n      <td>17</td>\n    </tr>\n    <tr>\n      <th>공무원수(정원)</th>\n      <td>17</td>\n    </tr>\n    <tr>\n      <th>공업지역 면적</th>\n      <td>17</td>\n    </tr>\n    <tr>\n      <th>교통문화지수</th>\n      <td>17</td>\n    </tr>\n    <tr>\n      <th>교통사고 발생건수</th>\n      <td>17</td>\n    </tr>\n    <tr>\n      <th>교통사고 부상자수</th>\n      <td>17</td>\n    </tr>\n    <tr>\n      <th>교통사고 사망자수</th>\n      <td>17</td>\n    </tr>\n    <tr>\n      <th>교통사고사망자수(고속도로)</th>\n      <td>16</td>\n    </tr>\n    <tr>\n      <th>구거면적</th>\n      <td>17</td>\n    </tr>\n    <tr>\n      <th>구거면적 비율</th>\n      <td>17</td>\n    </tr>\n    <tr>\n      <th>구급발생건수</th>\n      <td>16</td>\n    </tr>\n    <tr>\n      <th>구조구급 발생건수</th>\n      <td>17</td>\n    </tr>\n    <tr>\n      <th>구조구급대원수</th>\n      <td>17</td>\n    </tr>\n    <tr>\n      <th>구조발생건수</th>\n      <td>17</td>\n    </tr>\n    <tr>\n      <th>기초수급자수</th>\n      <td>17</td>\n    </tr>\n    <tr>\n      <th>기초수급자수(65세이상)</th>\n      <td>17</td>\n    </tr>\n    <tr>\n      <th>노인 교통사고 부상자수</th>\n      <td>17</td>\n    </tr>\n    <tr>\n      <th>노인 교통사고 사망자수</th>\n      <td>17</td>\n    </tr>\n    <tr>\n      <th>다중이용업소수</th>\n      <td>17</td>\n    </tr>\n    <tr>\n      <th>대기배출시설 점검 위반율</th>\n      <td>17</td>\n    </tr>\n    <tr>\n      <th>대기오염도</th>\n      <td>16</td>\n    </tr>\n    <tr>\n      <th>도로면적</th>\n      <td>17</td>\n    </tr>\n    <tr>\n      <th>도로면적 비율</th>\n      <td>17</td>\n    </tr>\n    <tr>\n      <th>도로연장</th>\n      <td>17</td>\n    </tr>\n    <tr>\n      <th>도시지역 면적</th>\n      <td>17</td>\n    </tr>\n    <tr>\n      <th>도시지역 면적 비율</th>\n      <td>17</td>\n    </tr>\n    <tr>\n      <th>독거노인수</th>\n      <td>17</td>\n    </tr>\n    <tr>\n      <th>무면허교통사고 발생건수</th>\n      <td>17</td>\n    </tr>\n    <tr>\n      <th>방재지구 면적</th>\n      <td>17</td>\n    </tr>\n    <tr>\n      <th>방화지구 면적</th>\n      <td>17</td>\n    </tr>\n    <tr>\n      <th>범죄발생건수(강간.강제추행)</th>\n      <td>17</td>\n    </tr>\n    <tr>\n      <th>범죄발생건수(강도)</th>\n      <td>17</td>\n    </tr>\n    <tr>\n      <th>범죄발생건수(도박)</th>\n      <td>17</td>\n    </tr>\n    <tr>\n      <th>범죄발생건수(마약)</th>\n      <td>17</td>\n    </tr>\n    <tr>\n      <th>범죄발생건수(방화)</th>\n      <td>17</td>\n    </tr>\n    <tr>\n      <th>범죄발생건수(살인)</th>\n      <td>17</td>\n    </tr>\n    <tr>\n      <th>범죄발생건수(약취.유인)</th>\n      <td>17</td>\n    </tr>\n    <tr>\n      <th>범죄발생건수(절도)</th>\n      <td>17</td>\n    </tr>\n    <tr>\n      <th>범죄발생건수(폭력)</th>\n      <td>17</td>\n    </tr>\n    <tr>\n      <th>병상수</th>\n      <td>17</td>\n    </tr>\n    <tr>\n      <th>보건업 및 사회복지서비스업 종사자수</th>\n      <td>17</td>\n    </tr>\n    <tr>\n      <th>보행사상자수</th>\n      <td>17</td>\n    </tr>\n    <tr>\n      <th>보행자전용·우선도로 면적</th>\n      <td>17</td>\n    </tr>\n    <tr>\n      <th>보행자전용·우선도로 연장</th>\n      <td>17</td>\n    </tr>\n    <tr>\n      <th>빈집수</th>\n      <td>17</td>\n    </tr>\n    <tr>\n      <th>산림면적</th>\n      <td>17</td>\n    </tr>\n    <tr>\n      <th>산림면적 비율</th>\n      <td>17</td>\n    </tr>\n    <tr>\n      <th>산불발생건수</th>\n      <td>17</td>\n    </tr>\n    <tr>\n      <th>산불피해면적</th>\n      <td>16</td>\n    </tr>\n    <tr>\n      <th>상업지역 면적</th>\n      <td>17</td>\n    </tr>\n    <tr>\n      <th>성폭력 발생건수</th>\n      <td>16</td>\n    </tr>\n    <tr>\n      <th>순이동자수</th>\n      <td>17</td>\n    </tr>\n    <tr>\n      <th>스트레스인지율</th>\n      <td>17</td>\n    </tr>\n    <tr>\n      <th>시가화율</th>\n      <td>17</td>\n    </tr>\n    <tr>\n      <th>시군구내 전입자수</th>\n      <td>17</td>\n    </tr>\n    <tr>\n      <th>시군구외 전입자수</th>\n      <td>17</td>\n    </tr>\n    <tr>\n      <th>시도간 전입자수</th>\n      <td>17</td>\n    </tr>\n    <tr>\n      <th>시도내-시군구간 전입자수</th>\n      <td>17</td>\n    </tr>\n    <tr>\n      <th>식중독 발생건수</th>\n      <td>17</td>\n    </tr>\n    <tr>\n      <th>식중독 발생자수</th>\n      <td>17</td>\n    </tr>\n    <tr>\n      <th>식품제조가공업체 위반건수</th>\n      <td>17</td>\n    </tr>\n    <tr>\n      <th>실업률</th>\n      <td>16</td>\n    </tr>\n    <tr>\n      <th>야간인구수</th>\n      <td>17</td>\n    </tr>\n    <tr>\n      <th>양호한 주관적 건강수준 인지율</th>\n      <td>17</td>\n    </tr>\n    <tr>\n      <th>어린이 교통사고 부상자수</th>\n      <td>17</td>\n    </tr>\n    <tr>\n      <th>어린이 교통사고 사망자수</th>\n      <td>17</td>\n    </tr>\n    <tr>\n      <th>어린이 식품안전보호구역수</th>\n      <td>17</td>\n    </tr>\n    <tr>\n      <th>어린이 아토피</th>\n      <td>17</td>\n    </tr>\n    <tr>\n      <th>어린이 천식</th>\n      <td>17</td>\n    </tr>\n    <tr>\n      <th>열공급설비 면적</th>\n      <td>15</td>\n    </tr>\n    <tr>\n      <th>외국인수</th>\n      <td>17</td>\n    </tr>\n    <tr>\n      <th>우울감경험률</th>\n      <td>17</td>\n    </tr>\n    <tr>\n      <th>운전시 안전벨트 착용률</th>\n      <td>17</td>\n    </tr>\n    <tr>\n      <th>월간음주율</th>\n      <td>17</td>\n    </tr>\n    <tr>\n      <th>위험물 제조소수</th>\n      <td>17</td>\n    </tr>\n    <tr>\n      <th>유류저장 및 송유설비 면적</th>\n      <td>17</td>\n    </tr>\n    <tr>\n      <th>유지면적</th>\n      <td>17</td>\n    </tr>\n    <tr>\n      <th>유지면적 비율</th>\n      <td>17</td>\n    </tr>\n    <tr>\n      <th>유치원생수</th>\n      <td>17</td>\n    </tr>\n    <tr>\n      <th>음식점 및 주점업 업체수</th>\n      <td>17</td>\n    </tr>\n    <tr>\n      <th>음식점 및 주점업 종사자수</th>\n      <td>17</td>\n    </tr>\n    <tr>\n      <th>음주교통사고 발생건수</th>\n      <td>17</td>\n    </tr>\n    <tr>\n      <th>의료기관수(요양기관)</th>\n      <td>17</td>\n    </tr>\n    <tr>\n      <th>의료보장 공.교 가입자수</th>\n      <td>17</td>\n    </tr>\n    <tr>\n      <th>의료보장 근로자 사업장수</th>\n      <td>17</td>\n    </tr>\n    <tr>\n      <th>의료보장 사업장수</th>\n      <td>17</td>\n    </tr>\n    <tr>\n      <th>의료보험료</th>\n      <td>17</td>\n    </tr>\n    <tr>\n      <th>의료인력</th>\n      <td>17</td>\n    </tr>\n    <tr>\n      <th>이혼건수</th>\n      <td>17</td>\n    </tr>\n    <tr>\n      <th>익사자수</th>\n      <td>17</td>\n    </tr>\n    <tr>\n      <th>인구밀도</th>\n      <td>17</td>\n    </tr>\n    <tr>\n      <th>인플루엔자 예방접종률</th>\n      <td>17</td>\n    </tr>\n    <tr>\n      <th>일반주거지역 면적</th>\n      <td>17</td>\n    </tr>\n    <tr>\n      <th>임야 면적</th>\n      <td>17</td>\n    </tr>\n    <tr>\n      <th>자동차등록대수</th>\n      <td>17</td>\n    </tr>\n    <tr>\n      <th>자살 사망자수</th>\n      <td>17</td>\n    </tr>\n    <tr>\n      <th>자연재해 발생건수(10년평균)</th>\n      <td>17</td>\n    </tr>\n    <tr>\n      <th>자연재해 사망자수</th>\n      <td>17</td>\n    </tr>\n    <tr>\n      <th>자연재해 사망자수(10년평균)</th>\n      <td>17</td>\n    </tr>\n    <tr>\n      <th>자연재해 피해액(10년평균)</th>\n      <td>17</td>\n    </tr>\n    <tr>\n      <th>자연재해 피해자수(10년평균)</th>\n      <td>17</td>\n    </tr>\n    <tr>\n      <th>자원봉사자 등록률</th>\n      <td>17</td>\n    </tr>\n    <tr>\n      <th>장애인수</th>\n      <td>17</td>\n    </tr>\n    <tr>\n      <th>재난심리지원센터수</th>\n      <td>17</td>\n    </tr>\n    <tr>\n      <th>재난약자수</th>\n      <td>17</td>\n    </tr>\n    <tr>\n      <th>재정자립도</th>\n      <td>17</td>\n    </tr>\n    <tr>\n      <th>재정자주도</th>\n      <td>17</td>\n    </tr>\n    <tr>\n      <th>전기화재발생건수</th>\n      <td>17</td>\n    </tr>\n    <tr>\n      <th>제방면적</th>\n      <td>17</td>\n    </tr>\n    <tr>\n      <th>제방면적 비율</th>\n      <td>17</td>\n    </tr>\n    <tr>\n      <th>제조업 업체수</th>\n      <td>17</td>\n    </tr>\n    <tr>\n      <th>제조업 종사자수</th>\n      <td>17</td>\n    </tr>\n    <tr>\n      <th>주간인구지수</th>\n      <td>16</td>\n    </tr>\n    <tr>\n      <th>주거지역 면적</th>\n      <td>17</td>\n    </tr>\n    <tr>\n      <th>주민등록인구</th>\n      <td>17</td>\n    </tr>\n    <tr>\n      <th>주민등록인구(14세이하)</th>\n      <td>17</td>\n    </tr>\n    <tr>\n      <th>주민등록인구(60세이상)</th>\n      <td>17</td>\n    </tr>\n    <tr>\n      <th>주민등록인구(여자)</th>\n      <td>17</td>\n    </tr>\n    <tr>\n      <th>주민등록인구(청소년)</th>\n      <td>17</td>\n    </tr>\n    <tr>\n      <th>지역별 부도업체수</th>\n      <td>16</td>\n    </tr>\n    <tr>\n      <th>지역안전도(관리능력)</th>\n      <td>17</td>\n    </tr>\n    <tr>\n      <th>지역안전도(등급)</th>\n      <td>17</td>\n    </tr>\n    <tr>\n      <th>지역안전도(방재성능)</th>\n      <td>17</td>\n    </tr>\n    <tr>\n      <th>지역안전도(위험환경)</th>\n      <td>17</td>\n    </tr>\n    <tr>\n      <th>지역안전도(점수)</th>\n      <td>17</td>\n    </tr>\n    <tr>\n      <th>질병이환 및 사망외인으로 인한 사망자수</th>\n      <td>17</td>\n    </tr>\n    <tr>\n      <th>창고 및 운송관련 서비스업 업체수</th>\n      <td>17</td>\n    </tr>\n    <tr>\n      <th>초등학생수</th>\n      <td>17</td>\n    </tr>\n    <tr>\n      <th>총 사업체수</th>\n      <td>17</td>\n    </tr>\n    <tr>\n      <th>총전입자수</th>\n      <td>17</td>\n    </tr>\n    <tr>\n      <th>추락 사망자수</th>\n      <td>17</td>\n    </tr>\n    <tr>\n      <th>특수의료장비수</th>\n      <td>17</td>\n    </tr>\n    <tr>\n      <th>폐기물 처리시설수</th>\n      <td>17</td>\n    </tr>\n    <tr>\n      <th>폐수배출시설 점검 위반율</th>\n      <td>17</td>\n    </tr>\n    <tr>\n      <th>하천면적</th>\n      <td>17</td>\n    </tr>\n    <tr>\n      <th>하천면적 비율</th>\n      <td>17</td>\n    </tr>\n    <tr>\n      <th>하천연장</th>\n      <td>17</td>\n    </tr>\n    <tr>\n      <th>학교수(고등학교)</th>\n      <td>17</td>\n    </tr>\n    <tr>\n      <th>학교수(중학교)</th>\n      <td>17</td>\n    </tr>\n    <tr>\n      <th>학교수(초등학교)</th>\n      <td>17</td>\n    </tr>\n    <tr>\n      <th>행정구역 면적</th>\n      <td>17</td>\n    </tr>\n    <tr>\n      <th>혼인귀화자수</th>\n      <td>17</td>\n    </tr>\n    <tr>\n      <th>화재 발생건수</th>\n      <td>17</td>\n    </tr>\n    <tr>\n      <th>화재 사망자수</th>\n      <td>17</td>\n    </tr>\n    <tr>\n      <th>화재 피해액</th>\n      <td>17</td>\n    </tr>\n    <tr>\n      <th>화재 피해자수</th>\n      <td>17</td>\n    </tr>\n    <tr>\n      <th>화재구조실적</th>\n      <td>17</td>\n    </tr>\n    <tr>\n      <th>화재사망자(환산)</th>\n      <td>17</td>\n    </tr>\n    <tr>\n      <th>화재피해 경감액</th>\n      <td>17</td>\n    </tr>\n    <tr>\n      <th>황사 발생건수</th>\n      <td>15</td>\n    </tr>\n    <tr>\n      <th>화재</th>\n      <td>17</td>\n    </tr>\n    <tr>\n      <th>교통</th>\n      <td>17</td>\n    </tr>\n    <tr>\n      <th>자연재해</th>\n      <td>17</td>\n    </tr>\n    <tr>\n      <th>범죄</th>\n      <td>17</td>\n    </tr>\n    <tr>\n      <th>안전사고</th>\n      <td>17</td>\n    </tr>\n    <tr>\n      <th>자살</th>\n      <td>17</td>\n    </tr>\n    <tr>\n      <th>감염병</th>\n      <td>17</td>\n    </tr>\n  </tbody>\n</table>\n</div>"
     },
     "metadata": {},
     "output_type": "execute_result",
     "execution_count": 18
    }
   ],
   "source": [
    "imputationcheck(sido)"
   ]
  },
  {
   "cell_type": "code",
   "execution_count": 19,
   "metadata": {
    "pycharm": {
     "is_executing": false
    }
   },
   "outputs": [],
   "source": [
    "#15개 16개가 차있는 열들에 대해 imputation 진행"
   ]
  },
  {
   "cell_type": "code",
   "execution_count": 20,
   "metadata": {
    "pycharm": {
     "is_executing": false
    }
   },
   "outputs": [
    {
     "data": {
      "text/plain": "                data\n교통사고사망자수(고속도로)    16\n구급발생건수            16\n대기오염도             16\n산불피해면적            16\n성폭력 발생건수          16\n실업률               16\n열공급설비 면적          15\n주간인구지수            16\n지역별 부도업체수         16\n황사 발생건수           15",
      "text/html": "<div>\n<style scoped>\n    .dataframe tbody tr th:only-of-type {\n        vertical-align: middle;\n    }\n\n    .dataframe tbody tr th {\n        vertical-align: top;\n    }\n\n    .dataframe thead th {\n        text-align: right;\n    }\n</style>\n<table border=\"1\" class=\"dataframe\">\n  <thead>\n    <tr style=\"text-align: right;\">\n      <th></th>\n      <th>data</th>\n    </tr>\n  </thead>\n  <tbody>\n    <tr>\n      <th>교통사고사망자수(고속도로)</th>\n      <td>16</td>\n    </tr>\n    <tr>\n      <th>구급발생건수</th>\n      <td>16</td>\n    </tr>\n    <tr>\n      <th>대기오염도</th>\n      <td>16</td>\n    </tr>\n    <tr>\n      <th>산불피해면적</th>\n      <td>16</td>\n    </tr>\n    <tr>\n      <th>성폭력 발생건수</th>\n      <td>16</td>\n    </tr>\n    <tr>\n      <th>실업률</th>\n      <td>16</td>\n    </tr>\n    <tr>\n      <th>열공급설비 면적</th>\n      <td>15</td>\n    </tr>\n    <tr>\n      <th>주간인구지수</th>\n      <td>16</td>\n    </tr>\n    <tr>\n      <th>지역별 부도업체수</th>\n      <td>16</td>\n    </tr>\n    <tr>\n      <th>황사 발생건수</th>\n      <td>15</td>\n    </tr>\n  </tbody>\n</table>\n</div>"
     },
     "metadata": {},
     "output_type": "execute_result",
     "execution_count": 20
    }
   ],
   "source": [
    "imputationcheck(sido).loc[imputationcheck(sido).data<17]"
   ]
  },
  {
   "cell_type": "code",
   "execution_count": 21,
   "metadata": {
    "scrolled": false,
    "pycharm": {
     "is_executing": false
    }
   },
   "outputs": [
    {
     "data": {
      "text/plain": "         시도  교통사고사망자수(고속도로)\n0       강원도         0.03885\n1       경기도         0.05260\n2      경상남도         0.08059\n3      경상북도         0.15921\n4     광주광역시         0.00000\n5     대구광역시         0.04813\n6     대전광역시         0.01958\n7     부산광역시         0.00852\n8     서울특별시         0.00099\n9   세종특별자치시         0.00000\n10    울산광역시         0.05144\n11    인천광역시         0.02756\n12     전라남도         0.08920\n13     전라북도         0.16029\n14  제주특별자치도             NaN\n15     충청남도         0.09698\n16     충청북도         0.20267",
      "text/html": "<div>\n<style scoped>\n    .dataframe tbody tr th:only-of-type {\n        vertical-align: middle;\n    }\n\n    .dataframe tbody tr th {\n        vertical-align: top;\n    }\n\n    .dataframe thead th {\n        text-align: right;\n    }\n</style>\n<table border=\"1\" class=\"dataframe\">\n  <thead>\n    <tr style=\"text-align: right;\">\n      <th></th>\n      <th>시도</th>\n      <th>교통사고사망자수(고속도로)</th>\n    </tr>\n  </thead>\n  <tbody>\n    <tr>\n      <th>0</th>\n      <td>강원도</td>\n      <td>0.03885</td>\n    </tr>\n    <tr>\n      <th>1</th>\n      <td>경기도</td>\n      <td>0.05260</td>\n    </tr>\n    <tr>\n      <th>2</th>\n      <td>경상남도</td>\n      <td>0.08059</td>\n    </tr>\n    <tr>\n      <th>3</th>\n      <td>경상북도</td>\n      <td>0.15921</td>\n    </tr>\n    <tr>\n      <th>4</th>\n      <td>광주광역시</td>\n      <td>0.00000</td>\n    </tr>\n    <tr>\n      <th>5</th>\n      <td>대구광역시</td>\n      <td>0.04813</td>\n    </tr>\n    <tr>\n      <th>6</th>\n      <td>대전광역시</td>\n      <td>0.01958</td>\n    </tr>\n    <tr>\n      <th>7</th>\n      <td>부산광역시</td>\n      <td>0.00852</td>\n    </tr>\n    <tr>\n      <th>8</th>\n      <td>서울특별시</td>\n      <td>0.00099</td>\n    </tr>\n    <tr>\n      <th>9</th>\n      <td>세종특별자치시</td>\n      <td>0.00000</td>\n    </tr>\n    <tr>\n      <th>10</th>\n      <td>울산광역시</td>\n      <td>0.05144</td>\n    </tr>\n    <tr>\n      <th>11</th>\n      <td>인천광역시</td>\n      <td>0.02756</td>\n    </tr>\n    <tr>\n      <th>12</th>\n      <td>전라남도</td>\n      <td>0.08920</td>\n    </tr>\n    <tr>\n      <th>13</th>\n      <td>전라북도</td>\n      <td>0.16029</td>\n    </tr>\n    <tr>\n      <th>14</th>\n      <td>제주특별자치도</td>\n      <td>NaN</td>\n    </tr>\n    <tr>\n      <th>15</th>\n      <td>충청남도</td>\n      <td>0.09698</td>\n    </tr>\n    <tr>\n      <th>16</th>\n      <td>충청북도</td>\n      <td>0.20267</td>\n    </tr>\n  </tbody>\n</table>\n</div>"
     },
     "metadata": {},
     "output_type": "execute_result",
     "execution_count": 21
    }
   ],
   "source": [
    "#교통사고사망자수(고속도로) 제주도 -- 0으로 채운다\n",
    "sido[['시도','교통사고사망자수(고속도로)']]"
   ]
  },
  {
   "cell_type": "code",
   "execution_count": 22,
   "metadata": {
    "pycharm": {
     "is_executing": false
    }
   },
   "outputs": [],
   "source": [
    "sido['교통사고사망자수(고속도로)'].fillna(0,inplace=True)"
   ]
  },
  {
   "cell_type": "code",
   "execution_count": 23,
   "metadata": {
    "pycharm": {
     "is_executing": false
    }
   },
   "outputs": [
    {
     "data": {
      "text/plain": "         시도    구급발생건수\n0       강원도  41.57489\n1       경기도  29.90412\n2      경상남도  27.84264\n3      경상북도  36.25230\n4     광주광역시  21.88519\n5     대구광역시  20.86422\n6     대전광역시  25.86484\n7     부산광역시  21.44115\n8     서울특별시  25.51461\n9   세종특별자치시       NaN\n10    울산광역시  24.26317\n11    인천광역시  26.46930\n12     전라남도  34.50031\n13     전라북도  31.60999\n14  제주특별자치도  62.89660\n15     충청남도  39.18977\n16     충청북도  34.52965",
      "text/html": "<div>\n<style scoped>\n    .dataframe tbody tr th:only-of-type {\n        vertical-align: middle;\n    }\n\n    .dataframe tbody tr th {\n        vertical-align: top;\n    }\n\n    .dataframe thead th {\n        text-align: right;\n    }\n</style>\n<table border=\"1\" class=\"dataframe\">\n  <thead>\n    <tr style=\"text-align: right;\">\n      <th></th>\n      <th>시도</th>\n      <th>구급발생건수</th>\n    </tr>\n  </thead>\n  <tbody>\n    <tr>\n      <th>0</th>\n      <td>강원도</td>\n      <td>41.57489</td>\n    </tr>\n    <tr>\n      <th>1</th>\n      <td>경기도</td>\n      <td>29.90412</td>\n    </tr>\n    <tr>\n      <th>2</th>\n      <td>경상남도</td>\n      <td>27.84264</td>\n    </tr>\n    <tr>\n      <th>3</th>\n      <td>경상북도</td>\n      <td>36.25230</td>\n    </tr>\n    <tr>\n      <th>4</th>\n      <td>광주광역시</td>\n      <td>21.88519</td>\n    </tr>\n    <tr>\n      <th>5</th>\n      <td>대구광역시</td>\n      <td>20.86422</td>\n    </tr>\n    <tr>\n      <th>6</th>\n      <td>대전광역시</td>\n      <td>25.86484</td>\n    </tr>\n    <tr>\n      <th>7</th>\n      <td>부산광역시</td>\n      <td>21.44115</td>\n    </tr>\n    <tr>\n      <th>8</th>\n      <td>서울특별시</td>\n      <td>25.51461</td>\n    </tr>\n    <tr>\n      <th>9</th>\n      <td>세종특별자치시</td>\n      <td>NaN</td>\n    </tr>\n    <tr>\n      <th>10</th>\n      <td>울산광역시</td>\n      <td>24.26317</td>\n    </tr>\n    <tr>\n      <th>11</th>\n      <td>인천광역시</td>\n      <td>26.46930</td>\n    </tr>\n    <tr>\n      <th>12</th>\n      <td>전라남도</td>\n      <td>34.50031</td>\n    </tr>\n    <tr>\n      <th>13</th>\n      <td>전라북도</td>\n      <td>31.60999</td>\n    </tr>\n    <tr>\n      <th>14</th>\n      <td>제주특별자치도</td>\n      <td>62.89660</td>\n    </tr>\n    <tr>\n      <th>15</th>\n      <td>충청남도</td>\n      <td>39.18977</td>\n    </tr>\n    <tr>\n      <th>16</th>\n      <td>충청북도</td>\n      <td>34.52965</td>\n    </tr>\n  </tbody>\n</table>\n</div>"
     },
     "metadata": {},
     "output_type": "execute_result",
     "execution_count": 23
    }
   ],
   "source": [
    "#구급발생건수 -- 직전년도 것으로\n",
    "sido[['시도','구급발생건수']]"
   ]
  },
  {
   "cell_type": "code",
   "execution_count": 24,
   "metadata": {
    "pycharm": {
     "is_executing": false
    }
   },
   "outputs": [
    {
     "data": {
      "text/plain": "               지역    구급발생건수\n107  2014_세종특별자치시  17.10969",
      "text/html": "<div>\n<style scoped>\n    .dataframe tbody tr th:only-of-type {\n        vertical-align: middle;\n    }\n\n    .dataframe tbody tr th {\n        vertical-align: top;\n    }\n\n    .dataframe thead th {\n        text-align: right;\n    }\n</style>\n<table border=\"1\" class=\"dataframe\">\n  <thead>\n    <tr style=\"text-align: right;\">\n      <th></th>\n      <th>지역</th>\n      <th>구급발생건수</th>\n    </tr>\n  </thead>\n  <tbody>\n    <tr>\n      <th>107</th>\n      <td>2014_세종특별자치시</td>\n      <td>17.10969</td>\n    </tr>\n  </tbody>\n</table>\n</div>"
     },
     "metadata": {},
     "output_type": "execute_result",
     "execution_count": 24
    }
   ],
   "source": [
    "val = float(sido_wide.loc[sido_wide.지역=='2014_세종특별자치시',['구급발생건수']].values)\n",
    "sido_wide.loc[sido_wide.지역=='2014_세종특별자치시',['지역','구급발생건수']]"
   ]
  },
  {
   "cell_type": "code",
   "execution_count": 25,
   "metadata": {
    "pycharm": {
     "is_executing": false
    }
   },
   "outputs": [
    {
     "data": {
      "text/plain": "         시도    구급발생건수\n0       강원도  41.57489\n1       경기도  29.90412\n2      경상남도  27.84264\n3      경상북도  36.25230\n4     광주광역시  21.88519\n5     대구광역시  20.86422\n6     대전광역시  25.86484\n7     부산광역시  21.44115\n8     서울특별시  25.51461\n9   세종특별자치시  17.10969\n10    울산광역시  24.26317\n11    인천광역시  26.46930\n12     전라남도  34.50031\n13     전라북도  31.60999\n14  제주특별자치도  62.89660\n15     충청남도  39.18977\n16     충청북도  34.52965",
      "text/html": "<div>\n<style scoped>\n    .dataframe tbody tr th:only-of-type {\n        vertical-align: middle;\n    }\n\n    .dataframe tbody tr th {\n        vertical-align: top;\n    }\n\n    .dataframe thead th {\n        text-align: right;\n    }\n</style>\n<table border=\"1\" class=\"dataframe\">\n  <thead>\n    <tr style=\"text-align: right;\">\n      <th></th>\n      <th>시도</th>\n      <th>구급발생건수</th>\n    </tr>\n  </thead>\n  <tbody>\n    <tr>\n      <th>0</th>\n      <td>강원도</td>\n      <td>41.57489</td>\n    </tr>\n    <tr>\n      <th>1</th>\n      <td>경기도</td>\n      <td>29.90412</td>\n    </tr>\n    <tr>\n      <th>2</th>\n      <td>경상남도</td>\n      <td>27.84264</td>\n    </tr>\n    <tr>\n      <th>3</th>\n      <td>경상북도</td>\n      <td>36.25230</td>\n    </tr>\n    <tr>\n      <th>4</th>\n      <td>광주광역시</td>\n      <td>21.88519</td>\n    </tr>\n    <tr>\n      <th>5</th>\n      <td>대구광역시</td>\n      <td>20.86422</td>\n    </tr>\n    <tr>\n      <th>6</th>\n      <td>대전광역시</td>\n      <td>25.86484</td>\n    </tr>\n    <tr>\n      <th>7</th>\n      <td>부산광역시</td>\n      <td>21.44115</td>\n    </tr>\n    <tr>\n      <th>8</th>\n      <td>서울특별시</td>\n      <td>25.51461</td>\n    </tr>\n    <tr>\n      <th>9</th>\n      <td>세종특별자치시</td>\n      <td>17.10969</td>\n    </tr>\n    <tr>\n      <th>10</th>\n      <td>울산광역시</td>\n      <td>24.26317</td>\n    </tr>\n    <tr>\n      <th>11</th>\n      <td>인천광역시</td>\n      <td>26.46930</td>\n    </tr>\n    <tr>\n      <th>12</th>\n      <td>전라남도</td>\n      <td>34.50031</td>\n    </tr>\n    <tr>\n      <th>13</th>\n      <td>전라북도</td>\n      <td>31.60999</td>\n    </tr>\n    <tr>\n      <th>14</th>\n      <td>제주특별자치도</td>\n      <td>62.89660</td>\n    </tr>\n    <tr>\n      <th>15</th>\n      <td>충청남도</td>\n      <td>39.18977</td>\n    </tr>\n    <tr>\n      <th>16</th>\n      <td>충청북도</td>\n      <td>34.52965</td>\n    </tr>\n  </tbody>\n</table>\n</div>"
     },
     "metadata": {},
     "output_type": "execute_result",
     "execution_count": 25
    }
   ],
   "source": [
    "sido['구급발생건수'].fillna(val, inplace=True)\n",
    "sido[['시도','구급발생건수']]"
   ]
  },
  {
   "cell_type": "code",
   "execution_count": 26,
   "metadata": {
    "pycharm": {
     "is_executing": false
    }
   },
   "outputs": [
    {
     "data": {
      "text/plain": "         시도   대기오염도\n0       강원도  51.652\n1       경기도  54.659\n2      경상남도  48.554\n3      경상북도  49.652\n4     광주광역시  41.552\n5     대구광역시  45.454\n6     대전광역시  41.550\n7     부산광역시  48.456\n8     서울특별시  46.562\n9   세종특별자치시     NaN\n10    울산광역시  46.559\n11    인천광역시  49.661\n12     전라남도  38.553\n13     전라북도  51.549\n14  제주특별자치도  47.450\n15     충청남도  42.551\n16     충청북도  52.554",
      "text/html": "<div>\n<style scoped>\n    .dataframe tbody tr th:only-of-type {\n        vertical-align: middle;\n    }\n\n    .dataframe tbody tr th {\n        vertical-align: top;\n    }\n\n    .dataframe thead th {\n        text-align: right;\n    }\n</style>\n<table border=\"1\" class=\"dataframe\">\n  <thead>\n    <tr style=\"text-align: right;\">\n      <th></th>\n      <th>시도</th>\n      <th>대기오염도</th>\n    </tr>\n  </thead>\n  <tbody>\n    <tr>\n      <th>0</th>\n      <td>강원도</td>\n      <td>51.652</td>\n    </tr>\n    <tr>\n      <th>1</th>\n      <td>경기도</td>\n      <td>54.659</td>\n    </tr>\n    <tr>\n      <th>2</th>\n      <td>경상남도</td>\n      <td>48.554</td>\n    </tr>\n    <tr>\n      <th>3</th>\n      <td>경상북도</td>\n      <td>49.652</td>\n    </tr>\n    <tr>\n      <th>4</th>\n      <td>광주광역시</td>\n      <td>41.552</td>\n    </tr>\n    <tr>\n      <th>5</th>\n      <td>대구광역시</td>\n      <td>45.454</td>\n    </tr>\n    <tr>\n      <th>6</th>\n      <td>대전광역시</td>\n      <td>41.550</td>\n    </tr>\n    <tr>\n      <th>7</th>\n      <td>부산광역시</td>\n      <td>48.456</td>\n    </tr>\n    <tr>\n      <th>8</th>\n      <td>서울특별시</td>\n      <td>46.562</td>\n    </tr>\n    <tr>\n      <th>9</th>\n      <td>세종특별자치시</td>\n      <td>NaN</td>\n    </tr>\n    <tr>\n      <th>10</th>\n      <td>울산광역시</td>\n      <td>46.559</td>\n    </tr>\n    <tr>\n      <th>11</th>\n      <td>인천광역시</td>\n      <td>49.661</td>\n    </tr>\n    <tr>\n      <th>12</th>\n      <td>전라남도</td>\n      <td>38.553</td>\n    </tr>\n    <tr>\n      <th>13</th>\n      <td>전라북도</td>\n      <td>51.549</td>\n    </tr>\n    <tr>\n      <th>14</th>\n      <td>제주특별자치도</td>\n      <td>47.450</td>\n    </tr>\n    <tr>\n      <th>15</th>\n      <td>충청남도</td>\n      <td>42.551</td>\n    </tr>\n    <tr>\n      <th>16</th>\n      <td>충청북도</td>\n      <td>52.554</td>\n    </tr>\n  </tbody>\n</table>\n</div>"
     },
     "metadata": {},
     "output_type": "execute_result",
     "execution_count": 26
    }
   ],
   "source": [
    "#대기오염도 --인접지역(충남,충북,대전)의 평균:45\n",
    "sido[['시도','대기오염도']]"
   ]
  },
  {
   "cell_type": "code",
   "execution_count": 27,
   "metadata": {
    "pycharm": {
     "is_executing": false
    }
   },
   "outputs": [
    {
     "data": {
      "text/plain": "45.551666666666655"
     },
     "metadata": {},
     "output_type": "execute_result",
     "execution_count": 27
    }
   ],
   "source": [
    "val = mean_score('대기오염도','2015_충청남도','2015_충청북도','2015_대전광역시')\n",
    "val"
   ]
  },
  {
   "cell_type": "code",
   "execution_count": 28,
   "metadata": {
    "pycharm": {
     "is_executing": false
    }
   },
   "outputs": [
    {
     "data": {
      "text/plain": "         시도      대기오염도\n0       강원도  51.652000\n1       경기도  54.659000\n2      경상남도  48.554000\n3      경상북도  49.652000\n4     광주광역시  41.552000\n5     대구광역시  45.454000\n6     대전광역시  41.550000\n7     부산광역시  48.456000\n8     서울특별시  46.562000\n9   세종특별자치시  45.551667\n10    울산광역시  46.559000\n11    인천광역시  49.661000\n12     전라남도  38.553000\n13     전라북도  51.549000\n14  제주특별자치도  47.450000\n15     충청남도  42.551000\n16     충청북도  52.554000",
      "text/html": "<div>\n<style scoped>\n    .dataframe tbody tr th:only-of-type {\n        vertical-align: middle;\n    }\n\n    .dataframe tbody tr th {\n        vertical-align: top;\n    }\n\n    .dataframe thead th {\n        text-align: right;\n    }\n</style>\n<table border=\"1\" class=\"dataframe\">\n  <thead>\n    <tr style=\"text-align: right;\">\n      <th></th>\n      <th>시도</th>\n      <th>대기오염도</th>\n    </tr>\n  </thead>\n  <tbody>\n    <tr>\n      <th>0</th>\n      <td>강원도</td>\n      <td>51.652000</td>\n    </tr>\n    <tr>\n      <th>1</th>\n      <td>경기도</td>\n      <td>54.659000</td>\n    </tr>\n    <tr>\n      <th>2</th>\n      <td>경상남도</td>\n      <td>48.554000</td>\n    </tr>\n    <tr>\n      <th>3</th>\n      <td>경상북도</td>\n      <td>49.652000</td>\n    </tr>\n    <tr>\n      <th>4</th>\n      <td>광주광역시</td>\n      <td>41.552000</td>\n    </tr>\n    <tr>\n      <th>5</th>\n      <td>대구광역시</td>\n      <td>45.454000</td>\n    </tr>\n    <tr>\n      <th>6</th>\n      <td>대전광역시</td>\n      <td>41.550000</td>\n    </tr>\n    <tr>\n      <th>7</th>\n      <td>부산광역시</td>\n      <td>48.456000</td>\n    </tr>\n    <tr>\n      <th>8</th>\n      <td>서울특별시</td>\n      <td>46.562000</td>\n    </tr>\n    <tr>\n      <th>9</th>\n      <td>세종특별자치시</td>\n      <td>45.551667</td>\n    </tr>\n    <tr>\n      <th>10</th>\n      <td>울산광역시</td>\n      <td>46.559000</td>\n    </tr>\n    <tr>\n      <th>11</th>\n      <td>인천광역시</td>\n      <td>49.661000</td>\n    </tr>\n    <tr>\n      <th>12</th>\n      <td>전라남도</td>\n      <td>38.553000</td>\n    </tr>\n    <tr>\n      <th>13</th>\n      <td>전라북도</td>\n      <td>51.549000</td>\n    </tr>\n    <tr>\n      <th>14</th>\n      <td>제주특별자치도</td>\n      <td>47.450000</td>\n    </tr>\n    <tr>\n      <th>15</th>\n      <td>충청남도</td>\n      <td>42.551000</td>\n    </tr>\n    <tr>\n      <th>16</th>\n      <td>충청북도</td>\n      <td>52.554000</td>\n    </tr>\n  </tbody>\n</table>\n</div>"
     },
     "metadata": {},
     "output_type": "execute_result",
     "execution_count": 28
    }
   ],
   "source": [
    "sido['대기오염도'].fillna(val, inplace=True)\n",
    "sido[['시도','대기오염도']]"
   ]
  },
  {
   "cell_type": "code",
   "execution_count": 29,
   "metadata": {
    "pycharm": {
     "is_executing": false
    }
   },
   "outputs": [
    {
     "data": {
      "text/plain": "         시도  황사 발생건수\n0       강원도  0.00220\n1       경기도  0.00079\n2      경상남도  0.00285\n3      경상북도  0.00079\n4     광주광역시  0.01397\n5     대구광역시      NaN\n6     대전광역시  0.01113\n7     부산광역시  0.01039\n8     서울특별시  0.01652\n9   세종특별자치시      NaN\n10    울산광역시  0.00754\n11    인천광역시  0.01527\n12     전라남도  0.00333\n13     전라북도  0.00211\n14  제주특별자치도  0.01460\n15     충청남도  0.00292\n16     충청북도  0.00108",
      "text/html": "<div>\n<style scoped>\n    .dataframe tbody tr th:only-of-type {\n        vertical-align: middle;\n    }\n\n    .dataframe tbody tr th {\n        vertical-align: top;\n    }\n\n    .dataframe thead th {\n        text-align: right;\n    }\n</style>\n<table border=\"1\" class=\"dataframe\">\n  <thead>\n    <tr style=\"text-align: right;\">\n      <th></th>\n      <th>시도</th>\n      <th>황사 발생건수</th>\n    </tr>\n  </thead>\n  <tbody>\n    <tr>\n      <th>0</th>\n      <td>강원도</td>\n      <td>0.00220</td>\n    </tr>\n    <tr>\n      <th>1</th>\n      <td>경기도</td>\n      <td>0.00079</td>\n    </tr>\n    <tr>\n      <th>2</th>\n      <td>경상남도</td>\n      <td>0.00285</td>\n    </tr>\n    <tr>\n      <th>3</th>\n      <td>경상북도</td>\n      <td>0.00079</td>\n    </tr>\n    <tr>\n      <th>4</th>\n      <td>광주광역시</td>\n      <td>0.01397</td>\n    </tr>\n    <tr>\n      <th>5</th>\n      <td>대구광역시</td>\n      <td>NaN</td>\n    </tr>\n    <tr>\n      <th>6</th>\n      <td>대전광역시</td>\n      <td>0.01113</td>\n    </tr>\n    <tr>\n      <th>7</th>\n      <td>부산광역시</td>\n      <td>0.01039</td>\n    </tr>\n    <tr>\n      <th>8</th>\n      <td>서울특별시</td>\n      <td>0.01652</td>\n    </tr>\n    <tr>\n      <th>9</th>\n      <td>세종특별자치시</td>\n      <td>NaN</td>\n    </tr>\n    <tr>\n      <th>10</th>\n      <td>울산광역시</td>\n      <td>0.00754</td>\n    </tr>\n    <tr>\n      <th>11</th>\n      <td>인천광역시</td>\n      <td>0.01527</td>\n    </tr>\n    <tr>\n      <th>12</th>\n      <td>전라남도</td>\n      <td>0.00333</td>\n    </tr>\n    <tr>\n      <th>13</th>\n      <td>전라북도</td>\n      <td>0.00211</td>\n    </tr>\n    <tr>\n      <th>14</th>\n      <td>제주특별자치도</td>\n      <td>0.01460</td>\n    </tr>\n    <tr>\n      <th>15</th>\n      <td>충청남도</td>\n      <td>0.00292</td>\n    </tr>\n    <tr>\n      <th>16</th>\n      <td>충청북도</td>\n      <td>0.00108</td>\n    </tr>\n  </tbody>\n</table>\n</div>"
     },
     "metadata": {},
     "output_type": "execute_result",
     "execution_count": 29
    }
   ],
   "source": [
    "#황사 발생건수 --부산:인접지역(울산, 경북, 경남)평균\n",
    "#황사발생건수 --세종:인접지역(충남,충북,대전)의 평균:45\n",
    "sido[['시도','황사 발생건수']]"
   ]
  },
  {
   "cell_type": "code",
   "execution_count": 30,
   "metadata": {
    "pycharm": {
     "is_executing": false
    }
   },
   "outputs": [
    {
     "data": {
      "text/plain": "0.005043333333333333"
     },
     "metadata": {},
     "output_type": "execute_result",
     "execution_count": 30
    }
   ],
   "source": [
    "val1 = mean_score('황사 발생건수','2015_충청남도','2015_충청북도','2015_대전광역시')\n",
    "val1"
   ]
  },
  {
   "cell_type": "code",
   "execution_count": 31,
   "metadata": {
    "pycharm": {
     "is_executing": false
    }
   },
   "outputs": [
    {
     "data": {
      "text/plain": "0.005392500000000001"
     },
     "metadata": {},
     "output_type": "execute_result",
     "execution_count": 31
    }
   ],
   "source": [
    "val2 = mean_score('황사 발생건수','2015_경상남도','2015_경상북도','2015_울산광역시','2015_부산광역시')\n",
    "val2"
   ]
  },
  {
   "cell_type": "code",
   "execution_count": 32,
   "metadata": {
    "pycharm": {
     "is_executing": false
    }
   },
   "outputs": [
    {
     "data": {
      "text/plain": "0     0.002200\n1     0.000790\n2     0.002850\n3     0.000790\n4     0.013970\n5     0.005393\n6     0.011130\n7     0.010390\n8     0.016520\n9     0.005043\n10    0.007540\n11    0.015270\n12    0.003330\n13    0.002110\n14    0.014600\n15    0.002920\n16    0.001080\nName: 황사 발생건수, dtype: float64"
     },
     "metadata": {},
     "output_type": "execute_result",
     "execution_count": 32
    }
   ],
   "source": [
    "sido.loc[5,'황사 발생건수'] = val2\n",
    "sido.loc[9,'황사 발생건수'] = val1\n",
    "sido['황사 발생건수']\n",
    "#sido[['시도','황사 발생건수']]"
   ]
  },
  {
   "cell_type": "code",
   "execution_count": 33,
   "metadata": {
    "pycharm": {
     "is_executing": false
    }
   },
   "outputs": [
    {
     "data": {
      "text/plain": "         시도   산불피해면적\n0       강원도  0.00119\n1       경기도  0.00054\n2      경상남도  0.00061\n3      경상북도  0.00250\n4     광주광역시  0.00102\n5     대구광역시  0.00070\n6     대전광역시  0.00454\n7     부산광역시  0.00330\n8     서울특별시  0.00167\n9   세종특별자치시  0.01086\n10    울산광역시  0.00235\n11    인천광역시  0.00305\n12     전라남도  0.00212\n13     전라북도  0.00070\n14  제주특별자치도  0.00000\n15     충청남도  0.00072\n16     충청북도  0.00025",
      "text/html": "<div>\n<style scoped>\n    .dataframe tbody tr th:only-of-type {\n        vertical-align: middle;\n    }\n\n    .dataframe tbody tr th {\n        vertical-align: top;\n    }\n\n    .dataframe thead th {\n        text-align: right;\n    }\n</style>\n<table border=\"1\" class=\"dataframe\">\n  <thead>\n    <tr style=\"text-align: right;\">\n      <th></th>\n      <th>시도</th>\n      <th>산불피해면적</th>\n    </tr>\n  </thead>\n  <tbody>\n    <tr>\n      <th>0</th>\n      <td>강원도</td>\n      <td>0.00119</td>\n    </tr>\n    <tr>\n      <th>1</th>\n      <td>경기도</td>\n      <td>0.00054</td>\n    </tr>\n    <tr>\n      <th>2</th>\n      <td>경상남도</td>\n      <td>0.00061</td>\n    </tr>\n    <tr>\n      <th>3</th>\n      <td>경상북도</td>\n      <td>0.00250</td>\n    </tr>\n    <tr>\n      <th>4</th>\n      <td>광주광역시</td>\n      <td>0.00102</td>\n    </tr>\n    <tr>\n      <th>5</th>\n      <td>대구광역시</td>\n      <td>0.00070</td>\n    </tr>\n    <tr>\n      <th>6</th>\n      <td>대전광역시</td>\n      <td>0.00454</td>\n    </tr>\n    <tr>\n      <th>7</th>\n      <td>부산광역시</td>\n      <td>0.00330</td>\n    </tr>\n    <tr>\n      <th>8</th>\n      <td>서울특별시</td>\n      <td>0.00167</td>\n    </tr>\n    <tr>\n      <th>9</th>\n      <td>세종특별자치시</td>\n      <td>0.01086</td>\n    </tr>\n    <tr>\n      <th>10</th>\n      <td>울산광역시</td>\n      <td>0.00235</td>\n    </tr>\n    <tr>\n      <th>11</th>\n      <td>인천광역시</td>\n      <td>0.00305</td>\n    </tr>\n    <tr>\n      <th>12</th>\n      <td>전라남도</td>\n      <td>0.00212</td>\n    </tr>\n    <tr>\n      <th>13</th>\n      <td>전라북도</td>\n      <td>0.00070</td>\n    </tr>\n    <tr>\n      <th>14</th>\n      <td>제주특별자치도</td>\n      <td>0.00000</td>\n    </tr>\n    <tr>\n      <th>15</th>\n      <td>충청남도</td>\n      <td>0.00072</td>\n    </tr>\n    <tr>\n      <th>16</th>\n      <td>충청북도</td>\n      <td>0.00025</td>\n    </tr>\n  </tbody>\n</table>\n</div>"
     },
     "metadata": {},
     "output_type": "execute_result",
     "execution_count": 33
    }
   ],
   "source": [
    "#산불피해면적 --제주특별자치도 산불통계현황 (2018.12.31) - 0 \n",
    "sido['산불피해면적'].fillna(0, inplace=True)\n",
    "sido[['시도','산불피해면적']]"
   ]
  },
  {
   "cell_type": "code",
   "execution_count": 34,
   "metadata": {
    "pycharm": {
     "is_executing": false
    }
   },
   "outputs": [
    {
     "data": {
      "text/plain": "         시도  성폭력 발생건수\n0       강원도   4.48058\n1       경기도   4.88759\n2      경상남도   4.02954\n3      경상북도   3.91737\n4     광주광역시   6.93144\n5     대구광역시   6.28092\n6     대전광역시   5.43801\n7     부산광역시   6.58067\n8     서울특별시   8.43591\n9   세종특별자치시   3.91737\n10    울산광역시   4.68116\n11    인천광역시   5.71555\n12     전라남도   3.99836\n13     전라북도   4.78745\n14  제주특별자치도   6.09208\n15     충청남도   5.98369\n16     충청북도   4.11037",
      "text/html": "<div>\n<style scoped>\n    .dataframe tbody tr th:only-of-type {\n        vertical-align: middle;\n    }\n\n    .dataframe tbody tr th {\n        vertical-align: top;\n    }\n\n    .dataframe thead th {\n        text-align: right;\n    }\n</style>\n<table border=\"1\" class=\"dataframe\">\n  <thead>\n    <tr style=\"text-align: right;\">\n      <th></th>\n      <th>시도</th>\n      <th>성폭력 발생건수</th>\n    </tr>\n  </thead>\n  <tbody>\n    <tr>\n      <th>0</th>\n      <td>강원도</td>\n      <td>4.48058</td>\n    </tr>\n    <tr>\n      <th>1</th>\n      <td>경기도</td>\n      <td>4.88759</td>\n    </tr>\n    <tr>\n      <th>2</th>\n      <td>경상남도</td>\n      <td>4.02954</td>\n    </tr>\n    <tr>\n      <th>3</th>\n      <td>경상북도</td>\n      <td>3.91737</td>\n    </tr>\n    <tr>\n      <th>4</th>\n      <td>광주광역시</td>\n      <td>6.93144</td>\n    </tr>\n    <tr>\n      <th>5</th>\n      <td>대구광역시</td>\n      <td>6.28092</td>\n    </tr>\n    <tr>\n      <th>6</th>\n      <td>대전광역시</td>\n      <td>5.43801</td>\n    </tr>\n    <tr>\n      <th>7</th>\n      <td>부산광역시</td>\n      <td>6.58067</td>\n    </tr>\n    <tr>\n      <th>8</th>\n      <td>서울특별시</td>\n      <td>8.43591</td>\n    </tr>\n    <tr>\n      <th>9</th>\n      <td>세종특별자치시</td>\n      <td>3.91737</td>\n    </tr>\n    <tr>\n      <th>10</th>\n      <td>울산광역시</td>\n      <td>4.68116</td>\n    </tr>\n    <tr>\n      <th>11</th>\n      <td>인천광역시</td>\n      <td>5.71555</td>\n    </tr>\n    <tr>\n      <th>12</th>\n      <td>전라남도</td>\n      <td>3.99836</td>\n    </tr>\n    <tr>\n      <th>13</th>\n      <td>전라북도</td>\n      <td>4.78745</td>\n    </tr>\n    <tr>\n      <th>14</th>\n      <td>제주특별자치도</td>\n      <td>6.09208</td>\n    </tr>\n    <tr>\n      <th>15</th>\n      <td>충청남도</td>\n      <td>5.98369</td>\n    </tr>\n    <tr>\n      <th>16</th>\n      <td>충청북도</td>\n      <td>4.11037</td>\n    </tr>\n  </tbody>\n</table>\n</div>"
     },
     "metadata": {},
     "output_type": "execute_result",
     "execution_count": 34
    }
   ],
   "source": [
    "#성폭력발생건수 -범죄발생건수(강간.강제추행)가\n",
    "#통계값: 세종이 최소값, 그다음은 경북\n",
    "#최솟값 경북으로 채움\n",
    "sido[['시도','성폭력 발생건수']]\n",
    "val = sido['성폭력 발생건수'].min()\n",
    "sido['성폭력 발생건수'].fillna(val, inplace=True)\n",
    "sido[['시도','성폭력 발생건수']]"
   ]
  },
  {
   "cell_type": "code",
   "execution_count": 34,
   "metadata": {
    "pycharm": {
     "is_executing": false
    }
   },
   "outputs": [],
   "source": []
  },
  {
   "cell_type": "code",
   "execution_count": 35,
   "metadata": {
    "pycharm": {
     "is_executing": false
    }
   },
   "outputs": [
    {
     "data": {
      "text/plain": "         시도  실업률\n0       강원도  3.1\n1       경기도  3.4\n2      경상남도  2.5\n3      경상북도  2.9\n4     광주광역시  2.8\n5     대구광역시  3.9\n6     대전광역시  3.4\n7     부산광역시  3.8\n8     서울특별시  4.5\n9   세종특별자치시  3.2\n10    울산광역시  2.7\n11    인천광역시  4.7\n12     전라남도  2.9\n13     전라북도  2.5\n14  제주특별자치도  2.0\n15     충청남도  3.4\n16     충청북도  3.0",
      "text/html": "<div>\n<style scoped>\n    .dataframe tbody tr th:only-of-type {\n        vertical-align: middle;\n    }\n\n    .dataframe tbody tr th {\n        vertical-align: top;\n    }\n\n    .dataframe thead th {\n        text-align: right;\n    }\n</style>\n<table border=\"1\" class=\"dataframe\">\n  <thead>\n    <tr style=\"text-align: right;\">\n      <th></th>\n      <th>시도</th>\n      <th>실업률</th>\n    </tr>\n  </thead>\n  <tbody>\n    <tr>\n      <th>0</th>\n      <td>강원도</td>\n      <td>3.1</td>\n    </tr>\n    <tr>\n      <th>1</th>\n      <td>경기도</td>\n      <td>3.4</td>\n    </tr>\n    <tr>\n      <th>2</th>\n      <td>경상남도</td>\n      <td>2.5</td>\n    </tr>\n    <tr>\n      <th>3</th>\n      <td>경상북도</td>\n      <td>2.9</td>\n    </tr>\n    <tr>\n      <th>4</th>\n      <td>광주광역시</td>\n      <td>2.8</td>\n    </tr>\n    <tr>\n      <th>5</th>\n      <td>대구광역시</td>\n      <td>3.9</td>\n    </tr>\n    <tr>\n      <th>6</th>\n      <td>대전광역시</td>\n      <td>3.4</td>\n    </tr>\n    <tr>\n      <th>7</th>\n      <td>부산광역시</td>\n      <td>3.8</td>\n    </tr>\n    <tr>\n      <th>8</th>\n      <td>서울특별시</td>\n      <td>4.5</td>\n    </tr>\n    <tr>\n      <th>9</th>\n      <td>세종특별자치시</td>\n      <td>3.2</td>\n    </tr>\n    <tr>\n      <th>10</th>\n      <td>울산광역시</td>\n      <td>2.7</td>\n    </tr>\n    <tr>\n      <th>11</th>\n      <td>인천광역시</td>\n      <td>4.7</td>\n    </tr>\n    <tr>\n      <th>12</th>\n      <td>전라남도</td>\n      <td>2.9</td>\n    </tr>\n    <tr>\n      <th>13</th>\n      <td>전라북도</td>\n      <td>2.5</td>\n    </tr>\n    <tr>\n      <th>14</th>\n      <td>제주특별자치도</td>\n      <td>2.0</td>\n    </tr>\n    <tr>\n      <th>15</th>\n      <td>충청남도</td>\n      <td>3.4</td>\n    </tr>\n    <tr>\n      <th>16</th>\n      <td>충청북도</td>\n      <td>3.0</td>\n    </tr>\n  </tbody>\n</table>\n</div>"
     },
     "metadata": {},
     "output_type": "execute_result",
     "execution_count": 35
    }
   ],
   "source": [
    "#실업률 - \n",
    "#KOIS 행정구역 시도/연령별 실업률 1817년도에 충북충남과 유사, 대도시 대전은 제외.\n",
    "sido[['시도','실업률']]\n",
    "val = mean_score('실업률','2015_충청남도','2015_충청북도')\n",
    "sido['실업률'].fillna(val, inplace=True)\n",
    "sido[['시도','실업률']]"
   ]
  },
  {
   "cell_type": "code",
   "execution_count": 36,
   "metadata": {
    "pycharm": {
     "is_executing": false
    }
   },
   "outputs": [
    {
     "data": {
      "text/plain": "         시도  주간인구지수\n0       강원도   101.3\n1       경기도    92.7\n2      경상남도   101.0\n3      경상북도   104.8\n4     광주광역시    96.6\n5     대구광역시    95.4\n6     대전광역시    98.2\n7     부산광역시    98.4\n8     서울특별시   108.6\n9   세종특별자치시   105.4\n10    울산광역시   101.3\n11    인천광역시    95.3\n12     전라남도   102.9\n13     전라북도   100.3\n14  제주특별자치도   100.0\n15     충청남도   104.5\n16     충청북도   101.6",
      "text/html": "<div>\n<style scoped>\n    .dataframe tbody tr th:only-of-type {\n        vertical-align: middle;\n    }\n\n    .dataframe tbody tr th {\n        vertical-align: top;\n    }\n\n    .dataframe thead th {\n        text-align: right;\n    }\n</style>\n<table border=\"1\" class=\"dataframe\">\n  <thead>\n    <tr style=\"text-align: right;\">\n      <th></th>\n      <th>시도</th>\n      <th>주간인구지수</th>\n    </tr>\n  </thead>\n  <tbody>\n    <tr>\n      <th>0</th>\n      <td>강원도</td>\n      <td>101.3</td>\n    </tr>\n    <tr>\n      <th>1</th>\n      <td>경기도</td>\n      <td>92.7</td>\n    </tr>\n    <tr>\n      <th>2</th>\n      <td>경상남도</td>\n      <td>101.0</td>\n    </tr>\n    <tr>\n      <th>3</th>\n      <td>경상북도</td>\n      <td>104.8</td>\n    </tr>\n    <tr>\n      <th>4</th>\n      <td>광주광역시</td>\n      <td>96.6</td>\n    </tr>\n    <tr>\n      <th>5</th>\n      <td>대구광역시</td>\n      <td>95.4</td>\n    </tr>\n    <tr>\n      <th>6</th>\n      <td>대전광역시</td>\n      <td>98.2</td>\n    </tr>\n    <tr>\n      <th>7</th>\n      <td>부산광역시</td>\n      <td>98.4</td>\n    </tr>\n    <tr>\n      <th>8</th>\n      <td>서울특별시</td>\n      <td>108.6</td>\n    </tr>\n    <tr>\n      <th>9</th>\n      <td>세종특별자치시</td>\n      <td>105.4</td>\n    </tr>\n    <tr>\n      <th>10</th>\n      <td>울산광역시</td>\n      <td>101.3</td>\n    </tr>\n    <tr>\n      <th>11</th>\n      <td>인천광역시</td>\n      <td>95.3</td>\n    </tr>\n    <tr>\n      <th>12</th>\n      <td>전라남도</td>\n      <td>102.9</td>\n    </tr>\n    <tr>\n      <th>13</th>\n      <td>전라북도</td>\n      <td>100.3</td>\n    </tr>\n    <tr>\n      <th>14</th>\n      <td>제주특별자치도</td>\n      <td>100.0</td>\n    </tr>\n    <tr>\n      <th>15</th>\n      <td>충청남도</td>\n      <td>104.5</td>\n    </tr>\n    <tr>\n      <th>16</th>\n      <td>충청북도</td>\n      <td>101.6</td>\n    </tr>\n  </tbody>\n</table>\n</div>"
     },
     "metadata": {},
     "output_type": "execute_result",
     "execution_count": 36
    }
   ],
   "source": [
    "#주간인구지수 -- 통계값\n",
    "sido[['시도','주간인구지수']]\n",
    "sido['주간인구지수'].fillna(105.4, inplace=True)\n",
    "sido[['시도','주간인구지수']]\n",
    "#census 인구총조사(5년단위) #2017년보고서, 2015년조사한 세종시지수 = 105.4\n",
    "# sido.loc[9,'주간인구지수']"
   ]
  },
  {
   "cell_type": "code",
   "execution_count": 37,
   "metadata": {
    "pycharm": {
     "is_executing": false
    }
   },
   "outputs": [
    {
     "data": {
      "text/plain": "         시도  지역별 부도업체수\n0       강원도    0.09712\n1       경기도    0.13999\n2      경상남도    0.11939\n3      경상북도    0.08516\n4     광주광역시    0.17617\n5     대구광역시    0.23263\n6     대전광역시    0.11751\n7     부산광역시    0.17901\n8     서울특별시    0.29001\n9   세종특별자치시    0.05982\n10    울산광역시    0.09431\n11    인천광역시    0.11369\n12     전라남도    0.07871\n13     전라북도    0.20304\n14  제주특별자치도    0.23051\n15     충청남도    0.04364\n16     충청북도    0.07600",
      "text/html": "<div>\n<style scoped>\n    .dataframe tbody tr th:only-of-type {\n        vertical-align: middle;\n    }\n\n    .dataframe tbody tr th {\n        vertical-align: top;\n    }\n\n    .dataframe thead th {\n        text-align: right;\n    }\n</style>\n<table border=\"1\" class=\"dataframe\">\n  <thead>\n    <tr style=\"text-align: right;\">\n      <th></th>\n      <th>시도</th>\n      <th>지역별 부도업체수</th>\n    </tr>\n  </thead>\n  <tbody>\n    <tr>\n      <th>0</th>\n      <td>강원도</td>\n      <td>0.09712</td>\n    </tr>\n    <tr>\n      <th>1</th>\n      <td>경기도</td>\n      <td>0.13999</td>\n    </tr>\n    <tr>\n      <th>2</th>\n      <td>경상남도</td>\n      <td>0.11939</td>\n    </tr>\n    <tr>\n      <th>3</th>\n      <td>경상북도</td>\n      <td>0.08516</td>\n    </tr>\n    <tr>\n      <th>4</th>\n      <td>광주광역시</td>\n      <td>0.17617</td>\n    </tr>\n    <tr>\n      <th>5</th>\n      <td>대구광역시</td>\n      <td>0.23263</td>\n    </tr>\n    <tr>\n      <th>6</th>\n      <td>대전광역시</td>\n      <td>0.11751</td>\n    </tr>\n    <tr>\n      <th>7</th>\n      <td>부산광역시</td>\n      <td>0.17901</td>\n    </tr>\n    <tr>\n      <th>8</th>\n      <td>서울특별시</td>\n      <td>0.29001</td>\n    </tr>\n    <tr>\n      <th>9</th>\n      <td>세종특별자치시</td>\n      <td>0.05982</td>\n    </tr>\n    <tr>\n      <th>10</th>\n      <td>울산광역시</td>\n      <td>0.09431</td>\n    </tr>\n    <tr>\n      <th>11</th>\n      <td>인천광역시</td>\n      <td>0.11369</td>\n    </tr>\n    <tr>\n      <th>12</th>\n      <td>전라남도</td>\n      <td>0.07871</td>\n    </tr>\n    <tr>\n      <th>13</th>\n      <td>전라북도</td>\n      <td>0.20304</td>\n    </tr>\n    <tr>\n      <th>14</th>\n      <td>제주특별자치도</td>\n      <td>0.23051</td>\n    </tr>\n    <tr>\n      <th>15</th>\n      <td>충청남도</td>\n      <td>0.04364</td>\n    </tr>\n    <tr>\n      <th>16</th>\n      <td>충청북도</td>\n      <td>0.07600</td>\n    </tr>\n  </tbody>\n</table>\n</div>"
     },
     "metadata": {},
     "output_type": "execute_result",
     "execution_count": 37
    }
   ],
   "source": [
    "#지역별 부도업체수 -인접지역평균(2)\n",
    "sido[['시도','지역별 부도업체수']]\n",
    "val = mean_score('지역별 부도업체수','2015_충청남도','2015_충청북도')\n",
    "sido['지역별 부도업체수'].fillna(val, inplace=True)\n",
    "sido[['시도','지역별 부도업체수']]"
   ]
  },
  {
   "cell_type": "code",
   "execution_count": 38,
   "metadata": {
    "pycharm": {
     "is_executing": false
    }
   },
   "outputs": [
    {
     "data": {
      "text/plain": "         시도   열공급설비 면적\n0       강원도    2.19244\n1       경기도  114.22333\n2      경상남도    3.63201\n3      경상북도  114.22333\n4     광주광역시  130.79988\n5     대구광역시  182.07096\n6     대전광역시  188.74872\n7     부산광역시  103.09203\n8     서울특별시  348.95825\n9   세종특별자치시  517.60668\n10    울산광역시   13.13222\n11    인천광역시  114.33773\n12     전라남도    5.05474\n13     전라북도  150.17746\n14  제주특별자치도  114.22333\n15     충청남도   24.57692\n16     충청북도    8.92761",
      "text/html": "<div>\n<style scoped>\n    .dataframe tbody tr th:only-of-type {\n        vertical-align: middle;\n    }\n\n    .dataframe tbody tr th {\n        vertical-align: top;\n    }\n\n    .dataframe thead th {\n        text-align: right;\n    }\n</style>\n<table border=\"1\" class=\"dataframe\">\n  <thead>\n    <tr style=\"text-align: right;\">\n      <th></th>\n      <th>시도</th>\n      <th>열공급설비 면적</th>\n    </tr>\n  </thead>\n  <tbody>\n    <tr>\n      <th>0</th>\n      <td>강원도</td>\n      <td>2.19244</td>\n    </tr>\n    <tr>\n      <th>1</th>\n      <td>경기도</td>\n      <td>114.22333</td>\n    </tr>\n    <tr>\n      <th>2</th>\n      <td>경상남도</td>\n      <td>3.63201</td>\n    </tr>\n    <tr>\n      <th>3</th>\n      <td>경상북도</td>\n      <td>114.22333</td>\n    </tr>\n    <tr>\n      <th>4</th>\n      <td>광주광역시</td>\n      <td>130.79988</td>\n    </tr>\n    <tr>\n      <th>5</th>\n      <td>대구광역시</td>\n      <td>182.07096</td>\n    </tr>\n    <tr>\n      <th>6</th>\n      <td>대전광역시</td>\n      <td>188.74872</td>\n    </tr>\n    <tr>\n      <th>7</th>\n      <td>부산광역시</td>\n      <td>103.09203</td>\n    </tr>\n    <tr>\n      <th>8</th>\n      <td>서울특별시</td>\n      <td>348.95825</td>\n    </tr>\n    <tr>\n      <th>9</th>\n      <td>세종특별자치시</td>\n      <td>517.60668</td>\n    </tr>\n    <tr>\n      <th>10</th>\n      <td>울산광역시</td>\n      <td>13.13222</td>\n    </tr>\n    <tr>\n      <th>11</th>\n      <td>인천광역시</td>\n      <td>114.33773</td>\n    </tr>\n    <tr>\n      <th>12</th>\n      <td>전라남도</td>\n      <td>5.05474</td>\n    </tr>\n    <tr>\n      <th>13</th>\n      <td>전라북도</td>\n      <td>150.17746</td>\n    </tr>\n    <tr>\n      <th>14</th>\n      <td>제주특별자치도</td>\n      <td>114.22333</td>\n    </tr>\n    <tr>\n      <th>15</th>\n      <td>충청남도</td>\n      <td>24.57692</td>\n    </tr>\n    <tr>\n      <th>16</th>\n      <td>충청북도</td>\n      <td>8.92761</td>\n    </tr>\n  </tbody>\n</table>\n</div>"
     },
     "metadata": {},
     "output_type": "execute_result",
     "execution_count": 38
    }
   ],
   "source": [
    "#열공급설비 면적\n",
    "val = sido[['시도','열공급설비 면적']].median()\n",
    "val\n",
    "sido['열공급설비 면적'].fillna(114.22333, inplace=True)\n",
    "sido[['시도','열공급설비 면적']]"
   ]
  },
  {
   "cell_type": "code",
   "execution_count": 39,
   "metadata": {
    "pycharm": {
     "is_executing": false
    }
   },
   "outputs": [
    {
     "data": {
      "text/plain": "173"
     },
     "metadata": {},
     "output_type": "execute_result",
     "execution_count": 39
    }
   ],
   "source": [
    "len(imputationcheck(sido))"
   ]
  },
  {
   "cell_type": "code",
   "execution_count": 40,
   "metadata": {
    "pycharm": {
     "is_executing": false
    }
   },
   "outputs": [
    {
     "data": {
      "text/plain": "                       data\n년도                       17\n시도                       17\n지역                       17\n1인가구수                    17\n5대범죄 발생건수                17\n가스공급설비 면적                17\n가스사고발생건수                 17\n가해(타살) 사망자수              17\n감염병 발생건수                 17\n감염병 사망자수                 17\n건강보험급여실적                 17\n건설업 업체수                  17\n건설업 종사자수                 17\n건축용지 면적                  17\n경찰관서수                    17\n고령인구수                    17\n공공질서 및 안전예산 비율           17\n공무원수(정원)                 17\n공업지역 면적                  17\n교통문화지수                   17\n교통사고 발생건수                17\n교통사고 부상자수                17\n교통사고 사망자수                17\n교통사고사망자수(고속도로)           17\n구거면적                     17\n구거면적 비율                  17\n구급발생건수                   17\n구조구급 발생건수                17\n구조구급대원수                  17\n구조발생건수                   17\n기초수급자수                   17\n기초수급자수(65세이상)            17\n노인 교통사고 부상자수             17\n노인 교통사고 사망자수             17\n다중이용업소수                  17\n대기배출시설 점검 위반율            17\n대기오염도                    17\n도로면적                     17\n도로면적 비율                  17\n도로연장                     17\n도시지역 면적                  17\n도시지역 면적 비율               17\n독거노인수                    17\n무면허교통사고 발생건수             17\n방재지구 면적                  17\n방화지구 면적                  17\n범죄발생건수(강간.강제추행)          17\n범죄발생건수(강도)               17\n범죄발생건수(도박)               17\n범죄발생건수(마약)               17\n범죄발생건수(방화)               17\n범죄발생건수(살인)               17\n범죄발생건수(약취.유인)            17\n범죄발생건수(절도)               17\n범죄발생건수(폭력)               17\n병상수                      17\n보건업 및 사회복지서비스업 종사자수      17\n보행사상자수                   17\n보행자전용·우선도로 면적            17\n보행자전용·우선도로 연장            17\n빈집수                      17\n산림면적                     17\n산림면적 비율                  17\n산불발생건수                   17\n산불피해면적                   17\n상업지역 면적                  17\n성폭력 발생건수                 17\n순이동자수                    17\n스트레스인지율                  17\n시가화율                     17\n시군구내 전입자수                17\n시군구외 전입자수                17\n시도간 전입자수                 17\n시도내-시군구간 전입자수            17\n식중독 발생건수                 17\n식중독 발생자수                 17\n식품제조가공업체 위반건수            17\n실업률                      17\n야간인구수                    17\n양호한 주관적 건강수준 인지율         17\n어린이 교통사고 부상자수            17\n어린이 교통사고 사망자수            17\n어린이 식품안전보호구역수            17\n어린이 아토피                  17\n어린이 천식                   17\n열공급설비 면적                 17\n외국인수                     17\n우울감경험률                   17\n운전시 안전벨트 착용률             17\n월간음주율                    17\n위험물 제조소수                 17\n유류저장 및 송유설비 면적           17\n유지면적                     17\n유지면적 비율                  17\n유치원생수                    17\n음식점 및 주점업 업체수            17\n음식점 및 주점업 종사자수           17\n음주교통사고 발생건수              17\n의료기관수(요양기관)              17\n의료보장 공.교 가입자수            17\n의료보장 근로자 사업장수            17\n의료보장 사업장수                17\n의료보험료                    17\n의료인력                     17\n이혼건수                     17\n익사자수                     17\n인구밀도                     17\n인플루엔자 예방접종률              17\n일반주거지역 면적                17\n임야 면적                    17\n자동차등록대수                  17\n자살 사망자수                  17\n자연재해 발생건수(10년평균)         17\n자연재해 사망자수                17\n자연재해 사망자수(10년평균)         17\n자연재해 피해액(10년평균)          17\n자연재해 피해자수(10년평균)         17\n자원봉사자 등록률                17\n장애인수                     17\n재난심리지원센터수                17\n재난약자수                    17\n재정자립도                    17\n재정자주도                    17\n전기화재발생건수                 17\n제방면적                     17\n제방면적 비율                  17\n제조업 업체수                  17\n제조업 종사자수                 17\n주간인구지수                   17\n주거지역 면적                  17\n주민등록인구                   17\n주민등록인구(14세이하)            17\n주민등록인구(60세이상)            17\n주민등록인구(여자)               17\n주민등록인구(청소년)              17\n지역별 부도업체수                17\n지역안전도(관리능력)              17\n지역안전도(등급)                17\n지역안전도(방재성능)              17\n지역안전도(위험환경)              17\n지역안전도(점수)                17\n질병이환 및 사망외인으로 인한 사망자수    17\n창고 및 운송관련 서비스업 업체수       17\n초등학생수                    17\n총 사업체수                   17\n총전입자수                    17\n추락 사망자수                  17\n특수의료장비수                  17\n폐기물 처리시설수                17\n폐수배출시설 점검 위반율            17\n하천면적                     17\n하천면적 비율                  17\n하천연장                     17\n학교수(고등학교)                17\n학교수(중학교)                 17\n학교수(초등학교)                17\n행정구역 면적                  17\n혼인귀화자수                   17\n화재 발생건수                  17\n화재 사망자수                  17\n화재 피해액                   17\n화재 피해자수                  17\n화재구조실적                   17\n화재사망자(환산)                17\n화재피해 경감액                 17\n황사 발생건수                  17\n화재                       17\n교통                       17\n자연재해                     17\n범죄                       17\n안전사고                     17\n자살                       17\n감염병                      17",
      "text/html": "<div>\n<style scoped>\n    .dataframe tbody tr th:only-of-type {\n        vertical-align: middle;\n    }\n\n    .dataframe tbody tr th {\n        vertical-align: top;\n    }\n\n    .dataframe thead th {\n        text-align: right;\n    }\n</style>\n<table border=\"1\" class=\"dataframe\">\n  <thead>\n    <tr style=\"text-align: right;\">\n      <th></th>\n      <th>data</th>\n    </tr>\n  </thead>\n  <tbody>\n    <tr>\n      <th>년도</th>\n      <td>17</td>\n    </tr>\n    <tr>\n      <th>시도</th>\n      <td>17</td>\n    </tr>\n    <tr>\n      <th>지역</th>\n      <td>17</td>\n    </tr>\n    <tr>\n      <th>1인가구수</th>\n      <td>17</td>\n    </tr>\n    <tr>\n      <th>5대범죄 발생건수</th>\n      <td>17</td>\n    </tr>\n    <tr>\n      <th>가스공급설비 면적</th>\n      <td>17</td>\n    </tr>\n    <tr>\n      <th>가스사고발생건수</th>\n      <td>17</td>\n    </tr>\n    <tr>\n      <th>가해(타살) 사망자수</th>\n      <td>17</td>\n    </tr>\n    <tr>\n      <th>감염병 발생건수</th>\n      <td>17</td>\n    </tr>\n    <tr>\n      <th>감염병 사망자수</th>\n      <td>17</td>\n    </tr>\n    <tr>\n      <th>건강보험급여실적</th>\n      <td>17</td>\n    </tr>\n    <tr>\n      <th>건설업 업체수</th>\n      <td>17</td>\n    </tr>\n    <tr>\n      <th>건설업 종사자수</th>\n      <td>17</td>\n    </tr>\n    <tr>\n      <th>건축용지 면적</th>\n      <td>17</td>\n    </tr>\n    <tr>\n      <th>경찰관서수</th>\n      <td>17</td>\n    </tr>\n    <tr>\n      <th>고령인구수</th>\n      <td>17</td>\n    </tr>\n    <tr>\n      <th>공공질서 및 안전예산 비율</th>\n      <td>17</td>\n    </tr>\n    <tr>\n      <th>공무원수(정원)</th>\n      <td>17</td>\n    </tr>\n    <tr>\n      <th>공업지역 면적</th>\n      <td>17</td>\n    </tr>\n    <tr>\n      <th>교통문화지수</th>\n      <td>17</td>\n    </tr>\n    <tr>\n      <th>교통사고 발생건수</th>\n      <td>17</td>\n    </tr>\n    <tr>\n      <th>교통사고 부상자수</th>\n      <td>17</td>\n    </tr>\n    <tr>\n      <th>교통사고 사망자수</th>\n      <td>17</td>\n    </tr>\n    <tr>\n      <th>교통사고사망자수(고속도로)</th>\n      <td>17</td>\n    </tr>\n    <tr>\n      <th>구거면적</th>\n      <td>17</td>\n    </tr>\n    <tr>\n      <th>구거면적 비율</th>\n      <td>17</td>\n    </tr>\n    <tr>\n      <th>구급발생건수</th>\n      <td>17</td>\n    </tr>\n    <tr>\n      <th>구조구급 발생건수</th>\n      <td>17</td>\n    </tr>\n    <tr>\n      <th>구조구급대원수</th>\n      <td>17</td>\n    </tr>\n    <tr>\n      <th>구조발생건수</th>\n      <td>17</td>\n    </tr>\n    <tr>\n      <th>기초수급자수</th>\n      <td>17</td>\n    </tr>\n    <tr>\n      <th>기초수급자수(65세이상)</th>\n      <td>17</td>\n    </tr>\n    <tr>\n      <th>노인 교통사고 부상자수</th>\n      <td>17</td>\n    </tr>\n    <tr>\n      <th>노인 교통사고 사망자수</th>\n      <td>17</td>\n    </tr>\n    <tr>\n      <th>다중이용업소수</th>\n      <td>17</td>\n    </tr>\n    <tr>\n      <th>대기배출시설 점검 위반율</th>\n      <td>17</td>\n    </tr>\n    <tr>\n      <th>대기오염도</th>\n      <td>17</td>\n    </tr>\n    <tr>\n      <th>도로면적</th>\n      <td>17</td>\n    </tr>\n    <tr>\n      <th>도로면적 비율</th>\n      <td>17</td>\n    </tr>\n    <tr>\n      <th>도로연장</th>\n      <td>17</td>\n    </tr>\n    <tr>\n      <th>도시지역 면적</th>\n      <td>17</td>\n    </tr>\n    <tr>\n      <th>도시지역 면적 비율</th>\n      <td>17</td>\n    </tr>\n    <tr>\n      <th>독거노인수</th>\n      <td>17</td>\n    </tr>\n    <tr>\n      <th>무면허교통사고 발생건수</th>\n      <td>17</td>\n    </tr>\n    <tr>\n      <th>방재지구 면적</th>\n      <td>17</td>\n    </tr>\n    <tr>\n      <th>방화지구 면적</th>\n      <td>17</td>\n    </tr>\n    <tr>\n      <th>범죄발생건수(강간.강제추행)</th>\n      <td>17</td>\n    </tr>\n    <tr>\n      <th>범죄발생건수(강도)</th>\n      <td>17</td>\n    </tr>\n    <tr>\n      <th>범죄발생건수(도박)</th>\n      <td>17</td>\n    </tr>\n    <tr>\n      <th>범죄발생건수(마약)</th>\n      <td>17</td>\n    </tr>\n    <tr>\n      <th>범죄발생건수(방화)</th>\n      <td>17</td>\n    </tr>\n    <tr>\n      <th>범죄발생건수(살인)</th>\n      <td>17</td>\n    </tr>\n    <tr>\n      <th>범죄발생건수(약취.유인)</th>\n      <td>17</td>\n    </tr>\n    <tr>\n      <th>범죄발생건수(절도)</th>\n      <td>17</td>\n    </tr>\n    <tr>\n      <th>범죄발생건수(폭력)</th>\n      <td>17</td>\n    </tr>\n    <tr>\n      <th>병상수</th>\n      <td>17</td>\n    </tr>\n    <tr>\n      <th>보건업 및 사회복지서비스업 종사자수</th>\n      <td>17</td>\n    </tr>\n    <tr>\n      <th>보행사상자수</th>\n      <td>17</td>\n    </tr>\n    <tr>\n      <th>보행자전용·우선도로 면적</th>\n      <td>17</td>\n    </tr>\n    <tr>\n      <th>보행자전용·우선도로 연장</th>\n      <td>17</td>\n    </tr>\n    <tr>\n      <th>빈집수</th>\n      <td>17</td>\n    </tr>\n    <tr>\n      <th>산림면적</th>\n      <td>17</td>\n    </tr>\n    <tr>\n      <th>산림면적 비율</th>\n      <td>17</td>\n    </tr>\n    <tr>\n      <th>산불발생건수</th>\n      <td>17</td>\n    </tr>\n    <tr>\n      <th>산불피해면적</th>\n      <td>17</td>\n    </tr>\n    <tr>\n      <th>상업지역 면적</th>\n      <td>17</td>\n    </tr>\n    <tr>\n      <th>성폭력 발생건수</th>\n      <td>17</td>\n    </tr>\n    <tr>\n      <th>순이동자수</th>\n      <td>17</td>\n    </tr>\n    <tr>\n      <th>스트레스인지율</th>\n      <td>17</td>\n    </tr>\n    <tr>\n      <th>시가화율</th>\n      <td>17</td>\n    </tr>\n    <tr>\n      <th>시군구내 전입자수</th>\n      <td>17</td>\n    </tr>\n    <tr>\n      <th>시군구외 전입자수</th>\n      <td>17</td>\n    </tr>\n    <tr>\n      <th>시도간 전입자수</th>\n      <td>17</td>\n    </tr>\n    <tr>\n      <th>시도내-시군구간 전입자수</th>\n      <td>17</td>\n    </tr>\n    <tr>\n      <th>식중독 발생건수</th>\n      <td>17</td>\n    </tr>\n    <tr>\n      <th>식중독 발생자수</th>\n      <td>17</td>\n    </tr>\n    <tr>\n      <th>식품제조가공업체 위반건수</th>\n      <td>17</td>\n    </tr>\n    <tr>\n      <th>실업률</th>\n      <td>17</td>\n    </tr>\n    <tr>\n      <th>야간인구수</th>\n      <td>17</td>\n    </tr>\n    <tr>\n      <th>양호한 주관적 건강수준 인지율</th>\n      <td>17</td>\n    </tr>\n    <tr>\n      <th>어린이 교통사고 부상자수</th>\n      <td>17</td>\n    </tr>\n    <tr>\n      <th>어린이 교통사고 사망자수</th>\n      <td>17</td>\n    </tr>\n    <tr>\n      <th>어린이 식품안전보호구역수</th>\n      <td>17</td>\n    </tr>\n    <tr>\n      <th>어린이 아토피</th>\n      <td>17</td>\n    </tr>\n    <tr>\n      <th>어린이 천식</th>\n      <td>17</td>\n    </tr>\n    <tr>\n      <th>열공급설비 면적</th>\n      <td>17</td>\n    </tr>\n    <tr>\n      <th>외국인수</th>\n      <td>17</td>\n    </tr>\n    <tr>\n      <th>우울감경험률</th>\n      <td>17</td>\n    </tr>\n    <tr>\n      <th>운전시 안전벨트 착용률</th>\n      <td>17</td>\n    </tr>\n    <tr>\n      <th>월간음주율</th>\n      <td>17</td>\n    </tr>\n    <tr>\n      <th>위험물 제조소수</th>\n      <td>17</td>\n    </tr>\n    <tr>\n      <th>유류저장 및 송유설비 면적</th>\n      <td>17</td>\n    </tr>\n    <tr>\n      <th>유지면적</th>\n      <td>17</td>\n    </tr>\n    <tr>\n      <th>유지면적 비율</th>\n      <td>17</td>\n    </tr>\n    <tr>\n      <th>유치원생수</th>\n      <td>17</td>\n    </tr>\n    <tr>\n      <th>음식점 및 주점업 업체수</th>\n      <td>17</td>\n    </tr>\n    <tr>\n      <th>음식점 및 주점업 종사자수</th>\n      <td>17</td>\n    </tr>\n    <tr>\n      <th>음주교통사고 발생건수</th>\n      <td>17</td>\n    </tr>\n    <tr>\n      <th>의료기관수(요양기관)</th>\n      <td>17</td>\n    </tr>\n    <tr>\n      <th>의료보장 공.교 가입자수</th>\n      <td>17</td>\n    </tr>\n    <tr>\n      <th>의료보장 근로자 사업장수</th>\n      <td>17</td>\n    </tr>\n    <tr>\n      <th>의료보장 사업장수</th>\n      <td>17</td>\n    </tr>\n    <tr>\n      <th>의료보험료</th>\n      <td>17</td>\n    </tr>\n    <tr>\n      <th>의료인력</th>\n      <td>17</td>\n    </tr>\n    <tr>\n      <th>이혼건수</th>\n      <td>17</td>\n    </tr>\n    <tr>\n      <th>익사자수</th>\n      <td>17</td>\n    </tr>\n    <tr>\n      <th>인구밀도</th>\n      <td>17</td>\n    </tr>\n    <tr>\n      <th>인플루엔자 예방접종률</th>\n      <td>17</td>\n    </tr>\n    <tr>\n      <th>일반주거지역 면적</th>\n      <td>17</td>\n    </tr>\n    <tr>\n      <th>임야 면적</th>\n      <td>17</td>\n    </tr>\n    <tr>\n      <th>자동차등록대수</th>\n      <td>17</td>\n    </tr>\n    <tr>\n      <th>자살 사망자수</th>\n      <td>17</td>\n    </tr>\n    <tr>\n      <th>자연재해 발생건수(10년평균)</th>\n      <td>17</td>\n    </tr>\n    <tr>\n      <th>자연재해 사망자수</th>\n      <td>17</td>\n    </tr>\n    <tr>\n      <th>자연재해 사망자수(10년평균)</th>\n      <td>17</td>\n    </tr>\n    <tr>\n      <th>자연재해 피해액(10년평균)</th>\n      <td>17</td>\n    </tr>\n    <tr>\n      <th>자연재해 피해자수(10년평균)</th>\n      <td>17</td>\n    </tr>\n    <tr>\n      <th>자원봉사자 등록률</th>\n      <td>17</td>\n    </tr>\n    <tr>\n      <th>장애인수</th>\n      <td>17</td>\n    </tr>\n    <tr>\n      <th>재난심리지원센터수</th>\n      <td>17</td>\n    </tr>\n    <tr>\n      <th>재난약자수</th>\n      <td>17</td>\n    </tr>\n    <tr>\n      <th>재정자립도</th>\n      <td>17</td>\n    </tr>\n    <tr>\n      <th>재정자주도</th>\n      <td>17</td>\n    </tr>\n    <tr>\n      <th>전기화재발생건수</th>\n      <td>17</td>\n    </tr>\n    <tr>\n      <th>제방면적</th>\n      <td>17</td>\n    </tr>\n    <tr>\n      <th>제방면적 비율</th>\n      <td>17</td>\n    </tr>\n    <tr>\n      <th>제조업 업체수</th>\n      <td>17</td>\n    </tr>\n    <tr>\n      <th>제조업 종사자수</th>\n      <td>17</td>\n    </tr>\n    <tr>\n      <th>주간인구지수</th>\n      <td>17</td>\n    </tr>\n    <tr>\n      <th>주거지역 면적</th>\n      <td>17</td>\n    </tr>\n    <tr>\n      <th>주민등록인구</th>\n      <td>17</td>\n    </tr>\n    <tr>\n      <th>주민등록인구(14세이하)</th>\n      <td>17</td>\n    </tr>\n    <tr>\n      <th>주민등록인구(60세이상)</th>\n      <td>17</td>\n    </tr>\n    <tr>\n      <th>주민등록인구(여자)</th>\n      <td>17</td>\n    </tr>\n    <tr>\n      <th>주민등록인구(청소년)</th>\n      <td>17</td>\n    </tr>\n    <tr>\n      <th>지역별 부도업체수</th>\n      <td>17</td>\n    </tr>\n    <tr>\n      <th>지역안전도(관리능력)</th>\n      <td>17</td>\n    </tr>\n    <tr>\n      <th>지역안전도(등급)</th>\n      <td>17</td>\n    </tr>\n    <tr>\n      <th>지역안전도(방재성능)</th>\n      <td>17</td>\n    </tr>\n    <tr>\n      <th>지역안전도(위험환경)</th>\n      <td>17</td>\n    </tr>\n    <tr>\n      <th>지역안전도(점수)</th>\n      <td>17</td>\n    </tr>\n    <tr>\n      <th>질병이환 및 사망외인으로 인한 사망자수</th>\n      <td>17</td>\n    </tr>\n    <tr>\n      <th>창고 및 운송관련 서비스업 업체수</th>\n      <td>17</td>\n    </tr>\n    <tr>\n      <th>초등학생수</th>\n      <td>17</td>\n    </tr>\n    <tr>\n      <th>총 사업체수</th>\n      <td>17</td>\n    </tr>\n    <tr>\n      <th>총전입자수</th>\n      <td>17</td>\n    </tr>\n    <tr>\n      <th>추락 사망자수</th>\n      <td>17</td>\n    </tr>\n    <tr>\n      <th>특수의료장비수</th>\n      <td>17</td>\n    </tr>\n    <tr>\n      <th>폐기물 처리시설수</th>\n      <td>17</td>\n    </tr>\n    <tr>\n      <th>폐수배출시설 점검 위반율</th>\n      <td>17</td>\n    </tr>\n    <tr>\n      <th>하천면적</th>\n      <td>17</td>\n    </tr>\n    <tr>\n      <th>하천면적 비율</th>\n      <td>17</td>\n    </tr>\n    <tr>\n      <th>하천연장</th>\n      <td>17</td>\n    </tr>\n    <tr>\n      <th>학교수(고등학교)</th>\n      <td>17</td>\n    </tr>\n    <tr>\n      <th>학교수(중학교)</th>\n      <td>17</td>\n    </tr>\n    <tr>\n      <th>학교수(초등학교)</th>\n      <td>17</td>\n    </tr>\n    <tr>\n      <th>행정구역 면적</th>\n      <td>17</td>\n    </tr>\n    <tr>\n      <th>혼인귀화자수</th>\n      <td>17</td>\n    </tr>\n    <tr>\n      <th>화재 발생건수</th>\n      <td>17</td>\n    </tr>\n    <tr>\n      <th>화재 사망자수</th>\n      <td>17</td>\n    </tr>\n    <tr>\n      <th>화재 피해액</th>\n      <td>17</td>\n    </tr>\n    <tr>\n      <th>화재 피해자수</th>\n      <td>17</td>\n    </tr>\n    <tr>\n      <th>화재구조실적</th>\n      <td>17</td>\n    </tr>\n    <tr>\n      <th>화재사망자(환산)</th>\n      <td>17</td>\n    </tr>\n    <tr>\n      <th>화재피해 경감액</th>\n      <td>17</td>\n    </tr>\n    <tr>\n      <th>황사 발생건수</th>\n      <td>17</td>\n    </tr>\n    <tr>\n      <th>화재</th>\n      <td>17</td>\n    </tr>\n    <tr>\n      <th>교통</th>\n      <td>17</td>\n    </tr>\n    <tr>\n      <th>자연재해</th>\n      <td>17</td>\n    </tr>\n    <tr>\n      <th>범죄</th>\n      <td>17</td>\n    </tr>\n    <tr>\n      <th>안전사고</th>\n      <td>17</td>\n    </tr>\n    <tr>\n      <th>자살</th>\n      <td>17</td>\n    </tr>\n    <tr>\n      <th>감염병</th>\n      <td>17</td>\n    </tr>\n  </tbody>\n</table>\n</div>"
     },
     "metadata": {},
     "output_type": "execute_result",
     "execution_count": 40
    }
   ],
   "source": [
    "imputationcheck(sido)"
   ]
  },
  {
   "cell_type": "code",
   "execution_count": 41,
   "metadata": {
    "scrolled": true,
    "pycharm": {
     "is_executing": false
    }
   },
   "outputs": [
    {
     "data": {
      "text/plain": "<matplotlib.axes._subplots.AxesSubplot at 0x2942f348>"
     },
     "metadata": {},
     "output_type": "execute_result",
     "execution_count": 41
    },
    {
     "data": {
      "text/plain": "<Figure size 1800x720 with 2 Axes>",
      "image/png": "[encoded data removed]"
     },
     "metadata": {
      "needs_background": "light"
     },
     "output_type": "display_data"
    }
   ],
   "source": [
    "msno.matrix(sido)"
   ]
  },
  {
   "cell_type": "code",
   "execution_count": 42,
   "metadata": {
    "pycharm": {
     "is_executing": false,
     "name": "#%%\n"
    }
   },
   "outputs": [],
   "source": [
    "sido.to_csv(path + 'imp_시도별지역안전지표_2015.csv',encoding='cp949')\n"
   ]
  }
 ],
 "metadata": {
  "kernelspec": {
   "display_name": "Python 3",
   "language": "python",
   "name": "python3"
  },
  "language_info": {
   "codemirror_mode": {
    "name": "ipython",
    "version": 3
   },
   "file_extension": ".py",
   "mimetype": "text/x-python",
   "name": "python",
   "nbconvert_exporter": "python",
   "pygments_lexer": "ipython3",
   "version": "3.7.4"
  },
  "pycharm": {
   "stem_cell": {
    "cell_type": "raw",
    "source": [],
    "metadata": {
     "collapsed": false
    }
   }
  }
 },
 "nbformat": 4,
 "nbformat_minor": 2
}