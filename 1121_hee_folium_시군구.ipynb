{
 "cells": [
  {
   "cell_type": "markdown",
   "metadata": {},
   "source": [
    "# folium 시각화\n",
    "참고할 만한 링크\n",
    "\n",
    "- folium 공식 documentation(eng) : https://python-visualization.github.io/folium/\n",
    "- folium 패키지 살펴보기(kor) :  https://dailyheumsi.tistory.com/85\n",
    "- choropleth(eng) :    https://vverde.github.io/blob/interactivechoropleth.html"
   ]
  },
  {
   "cell_type": "markdown",
   "metadata": {},
   "source": [
    "### 패키지/모듈 임포트"
   ]
  },
  {
   "cell_type": "code",
   "execution_count": 1,
   "metadata": {},
   "outputs": [],
   "source": [
    "import pandas as pd\n",
    "import folium\n",
    "import branca.colormap as cm\n",
    "import json\n",
    "import matplotlib.pyplot as plt\n",
    "\n",
    "pd.options.display.max_rows = 150\n",
    "pd.options.display.max_columns = 350\n",
    "plt.rc('font',family='Malgun Gothic')\n",
    "plt.rcParams['axes.unicode_minus'] = False\n",
    "\n",
    "path1 = './data/'\n",
    "path2 = './map/' "
   ]
  },
  {
   "cell_type": "markdown",
   "metadata": {},
   "source": [
    "### 파일 임포트"
   ]
  },
  {
   "cell_type": "markdown",
   "metadata": {},
   "source": [
    "'map'이라는 하위 폴더 만들어 아래 링크에 있는 파일 4개 넣어두기\n",
    "\n",
    "http://bit.ly/2O83K2F\n",
    "- 행정구역코드.csv\n",
    "- sigungu.shp\n",
    "- sido.shp\n",
    "- east.png"
   ]
  },
  {
   "cell_type": "code",
   "execution_count": 2,
   "metadata": {},
   "outputs": [],
   "source": [
    "sido_data=pd.read_csv(path1+'imp_시도별지역안전지표_2015.csv', encoding='cp949')\n",
    "sigungu_data=pd.read_csv(path1+'imp_시군구별지역안전지표_2015.csv', encoding='cp949')\n",
    "\n",
    "#map폴더 내에 있어야 하는 파일\n",
    "code=pd.read_csv(path2+'행정구역코드.csv', encoding='cp949')\n",
    "sido_shp=json.load(open(path2+'sido.json', encoding='utf=8'))\n",
    "sigungu_shp=json.load(open(path2+'sigungu.json', encoding='utf=8'))"
   ]
  },
  {
   "cell_type": "markdown",
   "metadata": {},
   "source": [
    "### 기본 지도 생성해보기"
   ]
  },
  {
   "cell_type": "code",
   "execution_count": 3,
   "metadata": {
    "scrolled": true
   },
   "outputs": [
    {
     "data": {
      "text/html": [
       "<div style=\"width:100%;\"><div style=\"position:relative;width:100%;height:0;padding-bottom:60%;\"><iframe src=\"data:text/html;charset=utf-8;base64,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\" style=\"position:absolute;width:100%;height:100%;left:0;top:0;border:none !important;\" allowfullscreen webkitallowfullscreen mozallowfullscreen></iframe></div></div>"
      ],
      "text/plain": [
       "<folium.folium.Map at 0x1a507c50>"
      ]
     },
     "execution_count": 3,
     "metadata": {},
     "output_type": "execute_result"
    }
   ],
   "source": [
    "#기본지도생성\n",
    "m = folium.Map(location=[36, 127],tiles=None, min_zoom=4, zoom_start=6.2)\n",
    "\n",
    "#지도타일 추가\n",
    "folium.TileLayer('cartodbpositron',control=True, min_zoom=5, zoom_start=6.2).add_to(m)\n",
    "\n",
    "#동해 패치\n",
    "icon = folium.features.CustomIcon(path2+'east.png',icon_size=(120,90))\n",
    "folium.Marker(location=[40.2747,134.85077],icon=icon).add_to(m)\n",
    "\n",
    "m"
   ]
  },
  {
   "cell_type": "markdown",
   "metadata": {},
   "source": [
    "### choropleth_1개 열"
   ]
  },
  {
   "cell_type": "code",
   "execution_count": 5,
   "metadata": {
    "scrolled": true
   },
   "outputs": [],
   "source": [
    "#기본지도생성\n",
    "m = folium.Map(location=[36, 127],tiles=None, min_zoom=4, zoom_start=6.2)\n",
    "folium.TileLayer('cartodbpositron',control=True, min_zoom=5, zoom_start=6.2).add_to(m)\n",
    "icon = folium.features.CustomIcon(path2+'east.png',icon_size=(120,90))\n",
    "folium.Marker(location=[40.2747,134.85077],icon=icon).add_to(m)\n",
    "\n",
    "col='1인가구수' #''안에 확인하고 싶은 컬럼명 넣기\n",
    "\n",
    "#colorscale나누기, 지역안전지수 상대등급 구간 10:25:30:25:10으로 범위 나눔\n",
    "bins = list(sigungu_data[col].quantile([0, 0.1, 0.35, 0.65, 0.9, 1]))\n",
    "\n",
    "folium.Choropleth(\n",
    "    geo_data=sigungu_shp, #지역 폴리곤(시도(sido_shp),시군구(sigungu_shp))\n",
    "    name=col,\n",
    "    data=sigungu_data, #통계데이터(시도(sido_data),시군구(sigungu_data))\n",
    "    columns=['시군구',col], #시도/시군구\n",
    "    key_on='feature.properties.'+'SIG_KOR_NM', #시도(CTP_KOR_NM),시군구(SIG_KOR_NM)\n",
    "    line_weight=0.1,\n",
    "    fill_color='RdBu_r',#높은수치가 안전하면 RdBu, 낮은수치가 안전하면 RdBu_r, \n",
    "    fill_opacity=0.8,\n",
    "    nan_fill_opacity=0,\n",
    "    overlay=True,\n",
    "    bins=bins,\n",
    "    legend_name=col,\n",
    "    highlight=True,\n",
    "    reset=True\n",
    ").add_to(m)\n",
    "\n",
    "#tooltip만들기(마우스 올리면 위치에 따른 정보 보이는 것)\n",
    "style_function = lambda x: {'fillColor': '#ffffff', #말풍선색(흰색)\n",
    "                            'color':'#000000', #글자색(검정)\n",
    "                            'fillOpacity': 0.1, \n",
    "                            'weight': 0.1}\n",
    "\n",
    "ttip = folium.features.GeoJson(\n",
    "    sigungu_shp,\n",
    "    style_function=style_function, \n",
    "    control=False, \n",
    "    tooltip=folium.features.GeoJsonTooltip(\n",
    "        fields=['SIG_KOR_NM'], #시도(CTP_KOR_NM),시군구(SIG_KOR_NM)\n",
    "        aliases=['시군구명'] #시도(시도명),시군구(시군구명)\n",
    "    )\n",
    ")\n",
    "\n",
    "ttip.add_to(m)\n",
    "\n",
    "m.keep_in_front(ttip)\n",
    "\n",
    "folium.LayerControl(collapsed=True).add_to(m)\n",
    "\n",
    "m\n",
    "#지도가 안 보이면 아랫줄 주석 풀어 html로 저장해서 html문서 열어봐도 된다\n",
    "#m.save('choropleth.html')"
   ]
  },
  {
   "cell_type": "markdown",
   "metadata": {},
   "source": [
    "### choropleth_다수열"
   ]
  },
  {
   "cell_type": "code",
   "execution_count": 7,
   "metadata": {},
   "outputs": [],
   "source": [
    "#기본지도생성\n",
    "m = folium.Map(location=[36, 127],tiles=None, min_zoom=4, zoom_start=6.2)\n",
    "folium.TileLayer('cartodbpositron',control=True, overlay=True, min_zoom=5, zoom_start=6.2).add_to(m)\n",
    "icon = folium.features.CustomIcon(path2+'east.png',icon_size=(120,90))\n",
    "folium.Marker(location=[40.2747,134.85077],icon=icon).add_to(m)\n",
    "\n",
    "col_lst=['1인가구수', '실업률'] #''안에 확인하고 싶은 컬럼명들 넣기\n",
    "\n",
    "for col in col_lst:\n",
    "    bins = list(sigungu_data[col].quantile([0, 0.1, 0.35, 0.65, 0.9, 1]))\n",
    "\n",
    "    folium.Choropleth(\n",
    "        geo_data=sigungu_shp, #지역 폴리곤(시도(sido_shp),시군구(sigungu_shp))\n",
    "        name=col,\n",
    "        data=sigungu_data, #통계데이터(시도(sido_data),시군구(sigungu_data))\n",
    "        columns=['시군구',col], #시도/시군구\n",
    "        key_on='feature.properties.'+'SIG_KOR_NM', #시도(CTP_KOR_NM),시군구(SIG_KOR_NM)\n",
    "        line_weight=0.1,\n",
    "        fill_color='RdBu_r',#높은수치가 안전하면 RdBu, 낮은수치가 안전하면 RdBu_r, \n",
    "        fill_opacity=0.7,\n",
    "        nan_fill_opacity=0,\n",
    "        overlay=False,\n",
    "        bins=bins,\n",
    "        legend_name=col,\n",
    "        highlight=True,\n",
    "        reset=True\n",
    "    ).add_to(m)\n",
    "\n",
    "#tooltip만들기(마우스 올리면 위치에 따른 정보 보이는 것)\n",
    "style_function = lambda x: {'fillColor': '#ffffff', #말풍선색(흰색)\n",
    "                            'color':'#000000', #글자색(검정)\n",
    "                            'fillOpacity': 0.1, \n",
    "                            'weight': 0.1}\n",
    "\n",
    "ttip = folium.features.GeoJson(\n",
    "    sigungu_shp,\n",
    "    style_function=style_function,\n",
    "    control=False, \n",
    "    tooltip=folium.features.GeoJsonTooltip(\n",
    "        fields=['SIG_KOR_NM'], #시도(CTP_KOR_NM),시군구(SIG_KOR_NM)\n",
    "        aliases=['시군구명'] #시도(시도명),시군구(시군구명)\n",
    "    )\n",
    ")\n",
    "\n",
    "ttip.add_to(m)\n",
    "\n",
    "m.keep_in_front(ttip)\n",
    "\n",
    "folium.LayerControl(collapsed=False).add_to(m)\n",
    "\n",
    "\n",
    "#지도가 안 보이면 아랫줄 주석 풀어 html로 저장해서 html문서 열어봐도 된다\n",
    "#m.save('choropleth1.html')"
   ]
  }
 ],
 "metadata": {
  "kernelspec": {
   "display_name": "Python 3",
   "language": "python",
   "name": "python3"
  },
  "language_info": {
   "codemirror_mode": {
    "name": "ipython",
    "version": 3
   },
   "file_extension": ".py",
   "mimetype": "text/x-python",
   "name": "python",
   "nbconvert_exporter": "python",
   "pygments_lexer": "ipython3",
   "version": "3.6.4"
  }
 },
 "nbformat": 4,
 "nbformat_minor": 1
}
