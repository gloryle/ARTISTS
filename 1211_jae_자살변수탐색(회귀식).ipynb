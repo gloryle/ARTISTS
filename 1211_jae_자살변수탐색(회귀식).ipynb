{
 "cells": [
  {
   "cell_type": "code",
   "execution_count": 1,
   "metadata": {},
   "outputs": [],
   "source": [
    "import pandas as pd\n",
    "import matplotlib.pyplot as plt\n",
    "import missingno as msno\n",
    "import numpy  as np\n",
    "import seaborn as sns\n",
    "%matplotlib inline\n",
    "\n",
    "path = './data/'\n",
    "pd.options.display.max_rows = 150\n",
    "pd.options.display.max_columns = 350\n",
    "plt.rc('font',family='Malgun Gothic')\n",
    "plt.rcParams['axes.unicode_minus'] = False"
   ]
  },
  {
   "cell_type": "markdown",
   "metadata": {},
   "source": [
    "## 데이터로드"
   ]
  },
  {
   "cell_type": "code",
   "execution_count": 2,
   "metadata": {},
   "outputs": [],
   "source": [
    "sigungu = pd.read_csv(path+'sigungu_imp_10.csv', encoding='cp949')\n",
    "sigungu_3 = pd.read_csv(path+'시군구별지역안전지표_2015.csv', encoding='cp949')"
   ]
  },
  {
   "cell_type": "code",
   "execution_count": 3,
   "metadata": {},
   "outputs": [],
   "source": [
    "y_bin = sigungu.iloc[:,-7:]    #등급(binary)\n",
    "y_deci = sigungu_3.iloc[:,-7:] #등급(1-5)\n",
    "X = sigungu.iloc[:,4:-7]       #독립변수X\n",
    "name = sigungu.iloc[:,:4]      #이름"
   ]
  },
  {
   "cell_type": "code",
   "execution_count": 4,
   "metadata": {},
   "outputs": [],
   "source": [
    "y_bin.columns = ['fire','transport','disaster','crime','accident','suicide','infection']"
   ]
  },
  {
   "cell_type": "code",
   "execution_count": 5,
   "metadata": {
    "scrolled": false
   },
   "outputs": [
    {
     "data": {
      "text/plain": [
       "(226, 162)"
      ]
     },
     "execution_count": 5,
     "metadata": {},
     "output_type": "execute_result"
    }
   ],
   "source": [
    "sigungu_xy = pd.concat([X,y_bin], axis=1)\n",
    "sigungu_nxy = pd.concat([name, sigungu_xy,y_deci], axis=1)\n",
    "sigungu_nxy.shape"
   ]
  },
  {
   "cell_type": "code",
   "execution_count": 6,
   "metadata": {},
   "outputs": [
    {
     "data": {
      "text/html": [
       "<div>\n",
       "<style scoped>\n",
       "    .dataframe tbody tr th:only-of-type {\n",
       "        vertical-align: middle;\n",
       "    }\n",
       "\n",
       "    .dataframe tbody tr th {\n",
       "        vertical-align: top;\n",
       "    }\n",
       "\n",
       "    .dataframe thead th {\n",
       "        text-align: right;\n",
       "    }\n",
       "</style>\n",
       "<table border=\"1\" class=\"dataframe\">\n",
       "  <thead>\n",
       "    <tr style=\"text-align: right;\">\n",
       "      <th></th>\n",
       "      <th>시도</th>\n",
       "      <th>시군구</th>\n",
       "      <th>사회복지비율</th>\n",
       "      <th>Unnamed: 3</th>\n",
       "      <th>Unnamed: 4</th>\n",
       "    </tr>\n",
       "  </thead>\n",
       "  <tbody>\n",
       "    <tr>\n",
       "      <th>0</th>\n",
       "      <td>서울특별시</td>\n",
       "      <td>전국계</td>\n",
       "      <td>27.46</td>\n",
       "      <td>NaN</td>\n",
       "      <td>NaN</td>\n",
       "    </tr>\n",
       "    <tr>\n",
       "      <th>1</th>\n",
       "      <td>서울특별시</td>\n",
       "      <td>계</td>\n",
       "      <td>34.13</td>\n",
       "      <td>NaN</td>\n",
       "      <td>NaN</td>\n",
       "    </tr>\n",
       "    <tr>\n",
       "      <th>2</th>\n",
       "      <td>서울특별시</td>\n",
       "      <td>본청</td>\n",
       "      <td>33.57</td>\n",
       "      <td>NaN</td>\n",
       "      <td>NaN</td>\n",
       "    </tr>\n",
       "    <tr>\n",
       "      <th>3</th>\n",
       "      <td>서울특별시</td>\n",
       "      <td>구계</td>\n",
       "      <td>51.46</td>\n",
       "      <td>NaN</td>\n",
       "      <td>NaN</td>\n",
       "    </tr>\n",
       "    <tr>\n",
       "      <th>4</th>\n",
       "      <td>서울특별시</td>\n",
       "      <td>종로구</td>\n",
       "      <td>34.99</td>\n",
       "      <td>NaN</td>\n",
       "      <td>NaN</td>\n",
       "    </tr>\n",
       "    <tr>\n",
       "      <th>...</th>\n",
       "      <td>...</td>\n",
       "      <td>...</td>\n",
       "      <td>...</td>\n",
       "      <td>...</td>\n",
       "      <td>...</td>\n",
       "    </tr>\n",
       "    <tr>\n",
       "      <th>281</th>\n",
       "      <td>경상남도</td>\n",
       "      <td>함양군</td>\n",
       "      <td>20.18</td>\n",
       "      <td>NaN</td>\n",
       "      <td>NaN</td>\n",
       "    </tr>\n",
       "    <tr>\n",
       "      <th>282</th>\n",
       "      <td>경상남도</td>\n",
       "      <td>거창군</td>\n",
       "      <td>22.03</td>\n",
       "      <td>NaN</td>\n",
       "      <td>NaN</td>\n",
       "    </tr>\n",
       "    <tr>\n",
       "      <th>283</th>\n",
       "      <td>경상남도</td>\n",
       "      <td>합천군</td>\n",
       "      <td>19.44</td>\n",
       "      <td>NaN</td>\n",
       "      <td>NaN</td>\n",
       "    </tr>\n",
       "    <tr>\n",
       "      <th>284</th>\n",
       "      <td>NaN</td>\n",
       "      <td>NaN</td>\n",
       "      <td>NaN</td>\n",
       "      <td>NaN</td>\n",
       "      <td>NaN</td>\n",
       "    </tr>\n",
       "    <tr>\n",
       "      <th>285</th>\n",
       "      <td>NaN</td>\n",
       "      <td>NaN</td>\n",
       "      <td>NaN</td>\n",
       "      <td>NaN</td>\n",
       "      <td>NaN</td>\n",
       "    </tr>\n",
       "  </tbody>\n",
       "</table>\n",
       "<p>286 rows × 5 columns</p>\n",
       "</div>"
      ],
      "text/plain": [
       "        시도  시군구  사회복지비율  Unnamed: 3  Unnamed: 4\n",
       "0    서울특별시  전국계   27.46         NaN         NaN\n",
       "1    서울특별시    계   34.13         NaN         NaN\n",
       "2    서울특별시   본청   33.57         NaN         NaN\n",
       "3    서울특별시   구계   51.46         NaN         NaN\n",
       "4    서울특별시  종로구   34.99         NaN         NaN\n",
       "..     ...  ...     ...         ...         ...\n",
       "281   경상남도  함양군   20.18         NaN         NaN\n",
       "282   경상남도  거창군   22.03         NaN         NaN\n",
       "283   경상남도  합천군   19.44         NaN         NaN\n",
       "284    NaN  NaN     NaN         NaN         NaN\n",
       "285    NaN  NaN     NaN         NaN         NaN\n",
       "\n",
       "[286 rows x 5 columns]"
      ]
     },
     "execution_count": 6,
     "metadata": {},
     "output_type": "execute_result"
    }
   ],
   "source": [
    "bokgi = pd.read_csv(path+'15_복지예산_시군구.csv', encoding='cp949')\n",
    "bokgi"
   ]
  },
  {
   "cell_type": "markdown",
   "metadata": {},
   "source": [
    "###  2016년 사망자수, 사망률"
   ]
  },
  {
   "cell_type": "code",
   "execution_count": 7,
   "metadata": {},
   "outputs": [
    {
     "data": {
      "text/html": [
       "<div>\n",
       "<style scoped>\n",
       "    .dataframe tbody tr th:only-of-type {\n",
       "        vertical-align: middle;\n",
       "    }\n",
       "\n",
       "    .dataframe tbody tr th {\n",
       "        vertical-align: top;\n",
       "    }\n",
       "\n",
       "    .dataframe thead th {\n",
       "        text-align: right;\n",
       "    }\n",
       "</style>\n",
       "<table border=\"1\" class=\"dataframe\">\n",
       "  <thead>\n",
       "    <tr style=\"text-align: right;\">\n",
       "      <th></th>\n",
       "      <th>시도</th>\n",
       "      <th>시군구</th>\n",
       "      <th>자살수2016</th>\n",
       "      <th>자살률2016</th>\n",
       "    </tr>\n",
       "  </thead>\n",
       "  <tbody>\n",
       "    <tr>\n",
       "      <th>0</th>\n",
       "      <td>서울특별시</td>\n",
       "      <td>서울특별시</td>\n",
       "      <td>2261</td>\n",
       "      <td>23</td>\n",
       "    </tr>\n",
       "  </tbody>\n",
       "</table>\n",
       "</div>"
      ],
      "text/plain": [
       "      시도    시군구 자살수2016 자살률2016\n",
       "0  서울특별시  서울특별시    2261      23"
      ]
     },
     "execution_count": 7,
     "metadata": {},
     "output_type": "execute_result"
    }
   ],
   "source": [
    "deth = pd.read_csv(path+'2016년_사망자수_사망률.csv', encoding='cp949')\n",
    "deth.head(1)"
   ]
  },
  {
   "cell_type": "markdown",
   "metadata": {},
   "source": [
    "### 노인비율위한것(고령화지수)"
   ]
  },
  {
   "cell_type": "code",
   "execution_count": 8,
   "metadata": {
    "scrolled": false
   },
   "outputs": [
    {
     "data": {
      "text/html": [
       "<div>\n",
       "<style scoped>\n",
       "    .dataframe tbody tr th:only-of-type {\n",
       "        vertical-align: middle;\n",
       "    }\n",
       "\n",
       "    .dataframe tbody tr th {\n",
       "        vertical-align: top;\n",
       "    }\n",
       "\n",
       "    .dataframe thead th {\n",
       "        text-align: right;\n",
       "    }\n",
       "</style>\n",
       "<table border=\"1\" class=\"dataframe\">\n",
       "  <thead>\n",
       "    <tr style=\"text-align: right;\">\n",
       "      <th></th>\n",
       "      <th>Unnamed: 0</th>\n",
       "      <th>시</th>\n",
       "      <th>시군구</th>\n",
       "      <th>연령</th>\n",
       "      <th>총인구</th>\n",
       "      <th>시도</th>\n",
       "    </tr>\n",
       "  </thead>\n",
       "  <tbody>\n",
       "    <tr>\n",
       "      <th>0</th>\n",
       "      <td>1</td>\n",
       "      <td>서울특별시</td>\n",
       "      <td>서울특별시</td>\n",
       "      <td>0~4세</td>\n",
       "      <td>391765</td>\n",
       "      <td>서울특별시</td>\n",
       "    </tr>\n",
       "    <tr>\n",
       "      <th>1</th>\n",
       "      <td>2</td>\n",
       "      <td>서울특별시</td>\n",
       "      <td>서울특별시</td>\n",
       "      <td>5~9세</td>\n",
       "      <td>373253</td>\n",
       "      <td>서울특별시</td>\n",
       "    </tr>\n",
       "    <tr>\n",
       "      <th>2</th>\n",
       "      <td>3</td>\n",
       "      <td>서울특별시</td>\n",
       "      <td>서울특별시</td>\n",
       "      <td>10~14세</td>\n",
       "      <td>404973</td>\n",
       "      <td>서울특별시</td>\n",
       "    </tr>\n",
       "    <tr>\n",
       "      <th>3</th>\n",
       "      <td>4</td>\n",
       "      <td>서울특별시</td>\n",
       "      <td>서울특별시</td>\n",
       "      <td>65세이상</td>\n",
       "      <td>1221006</td>\n",
       "      <td>서울특별시</td>\n",
       "    </tr>\n",
       "    <tr>\n",
       "      <th>4</th>\n",
       "      <td>5</td>\n",
       "      <td>서울특별시</td>\n",
       "      <td>종로구</td>\n",
       "      <td>0~4세</td>\n",
       "      <td>4485</td>\n",
       "      <td>서울특별시</td>\n",
       "    </tr>\n",
       "  </tbody>\n",
       "</table>\n",
       "</div>"
      ],
      "text/plain": [
       "   Unnamed: 0      시    시군구      연령      총인구     시도\n",
       "0           1  서울특별시  서울특별시    0~4세   391765  서울특별시\n",
       "1           2  서울특별시  서울특별시    5~9세   373253  서울특별시\n",
       "2           3  서울특별시  서울특별시  10~14세   404973  서울특별시\n",
       "3           4  서울특별시  서울특별시   65세이상  1221006  서울특별시\n",
       "4           5  서울특별시    종로구    0~4세     4485  서울특별시"
      ]
     },
     "execution_count": 8,
     "metadata": {},
     "output_type": "execute_result"
    }
   ],
   "source": [
    "go_jisu = pd.read_csv(path+'노인비율위한것.csv', encoding='cp949')\n",
    "go_jisu.head()"
   ]
  },
  {
   "cell_type": "code",
   "execution_count": 9,
   "metadata": {
    "scrolled": true
   },
   "outputs": [
    {
     "data": {
      "text/html": [
       "<div>\n",
       "<style scoped>\n",
       "    .dataframe tbody tr th:only-of-type {\n",
       "        vertical-align: middle;\n",
       "    }\n",
       "\n",
       "    .dataframe tbody tr th {\n",
       "        vertical-align: top;\n",
       "    }\n",
       "\n",
       "    .dataframe thead th {\n",
       "        text-align: right;\n",
       "    }\n",
       "</style>\n",
       "<table border=\"1\" class=\"dataframe\">\n",
       "  <thead>\n",
       "    <tr style=\"text-align: right;\">\n",
       "      <th></th>\n",
       "      <th>연령</th>\n",
       "      <th>0~4세</th>\n",
       "      <th>10~14세</th>\n",
       "      <th>5~9세</th>\n",
       "      <th>65세이상</th>\n",
       "    </tr>\n",
       "    <tr>\n",
       "      <th>시도</th>\n",
       "      <th>시군구</th>\n",
       "      <th></th>\n",
       "      <th></th>\n",
       "      <th></th>\n",
       "      <th></th>\n",
       "    </tr>\n",
       "  </thead>\n",
       "  <tbody>\n",
       "    <tr>\n",
       "      <th>강원도</th>\n",
       "      <th>강릉시</th>\n",
       "      <td>7362</td>\n",
       "      <td>10229</td>\n",
       "      <td>8368</td>\n",
       "      <td>36202</td>\n",
       "    </tr>\n",
       "  </tbody>\n",
       "</table>\n",
       "</div>"
      ],
      "text/plain": [
       "연령       0~4세  10~14세  5~9세  65세이상\n",
       "시도  시군구                           \n",
       "강원도 강릉시  7362   10229  8368  36202"
      ]
     },
     "execution_count": 9,
     "metadata": {},
     "output_type": "execute_result"
    }
   ],
   "source": [
    "old_jisu=go_jisu.pivot_table(values='총인구', index=['시도','시군구'], columns='연령')\n",
    "old_jisu.head(1)"
   ]
  },
  {
   "cell_type": "code",
   "execution_count": 10,
   "metadata": {},
   "outputs": [],
   "source": [
    "old_jisu['0~14세'] = old_jisu['0~4세']+old_jisu['10~14세']\n",
    "old_jisu['고령화지수'] =old_jisu['65세이상']/old_jisu['0~14세']*100"
   ]
  },
  {
   "cell_type": "code",
   "execution_count": 11,
   "metadata": {
    "scrolled": false
   },
   "outputs": [
    {
     "data": {
      "text/html": [
       "<div>\n",
       "<style scoped>\n",
       "    .dataframe tbody tr th:only-of-type {\n",
       "        vertical-align: middle;\n",
       "    }\n",
       "\n",
       "    .dataframe tbody tr th {\n",
       "        vertical-align: top;\n",
       "    }\n",
       "\n",
       "    .dataframe thead th {\n",
       "        text-align: right;\n",
       "    }\n",
       "</style>\n",
       "<table border=\"1\" class=\"dataframe\">\n",
       "  <thead>\n",
       "    <tr style=\"text-align: right;\">\n",
       "      <th>연령</th>\n",
       "      <th>시도</th>\n",
       "      <th>시군구</th>\n",
       "      <th>0~4세</th>\n",
       "      <th>10~14세</th>\n",
       "      <th>5~9세</th>\n",
       "      <th>65세이상</th>\n",
       "      <th>0~14세</th>\n",
       "      <th>고령화지수</th>\n",
       "    </tr>\n",
       "  </thead>\n",
       "  <tbody>\n",
       "    <tr>\n",
       "      <th>0</th>\n",
       "      <td>강원도</td>\n",
       "      <td>강릉시</td>\n",
       "      <td>7362</td>\n",
       "      <td>10229</td>\n",
       "      <td>8368</td>\n",
       "      <td>36202</td>\n",
       "      <td>17591</td>\n",
       "      <td>205.798420</td>\n",
       "    </tr>\n",
       "    <tr>\n",
       "      <th>1</th>\n",
       "      <td>강원도</td>\n",
       "      <td>강원도</td>\n",
       "      <td>58045</td>\n",
       "      <td>72393</td>\n",
       "      <td>63331</td>\n",
       "      <td>254803</td>\n",
       "      <td>130438</td>\n",
       "      <td>195.344148</td>\n",
       "    </tr>\n",
       "    <tr>\n",
       "      <th>2</th>\n",
       "      <td>강원도</td>\n",
       "      <td>고성군</td>\n",
       "      <td>735</td>\n",
       "      <td>940</td>\n",
       "      <td>721</td>\n",
       "      <td>6641</td>\n",
       "      <td>1675</td>\n",
       "      <td>396.477612</td>\n",
       "    </tr>\n",
       "    <tr>\n",
       "      <th>3</th>\n",
       "      <td>강원도</td>\n",
       "      <td>동해시</td>\n",
       "      <td>3827</td>\n",
       "      <td>4794</td>\n",
       "      <td>4246</td>\n",
       "      <td>14575</td>\n",
       "      <td>8621</td>\n",
       "      <td>169.063914</td>\n",
       "    </tr>\n",
       "    <tr>\n",
       "      <th>4</th>\n",
       "      <td>강원도</td>\n",
       "      <td>삼척시</td>\n",
       "      <td>2251</td>\n",
       "      <td>2724</td>\n",
       "      <td>2412</td>\n",
       "      <td>14019</td>\n",
       "      <td>4975</td>\n",
       "      <td>281.788945</td>\n",
       "    </tr>\n",
       "    <tr>\n",
       "      <th>...</th>\n",
       "      <td>...</td>\n",
       "      <td>...</td>\n",
       "      <td>...</td>\n",
       "      <td>...</td>\n",
       "      <td>...</td>\n",
       "      <td>...</td>\n",
       "      <td>...</td>\n",
       "      <td>...</td>\n",
       "    </tr>\n",
       "    <tr>\n",
       "      <th>273</th>\n",
       "      <td>충청북도</td>\n",
       "      <td>청원구</td>\n",
       "      <td>11252</td>\n",
       "      <td>9092</td>\n",
       "      <td>10115</td>\n",
       "      <td>19359</td>\n",
       "      <td>20344</td>\n",
       "      <td>95.158278</td>\n",
       "    </tr>\n",
       "    <tr>\n",
       "      <th>274</th>\n",
       "      <td>충청북도</td>\n",
       "      <td>청주시</td>\n",
       "      <td>42386</td>\n",
       "      <td>44123</td>\n",
       "      <td>41810</td>\n",
       "      <td>87881</td>\n",
       "      <td>86509</td>\n",
       "      <td>101.585962</td>\n",
       "    </tr>\n",
       "    <tr>\n",
       "      <th>275</th>\n",
       "      <td>충청북도</td>\n",
       "      <td>충주시</td>\n",
       "      <td>7735</td>\n",
       "      <td>9879</td>\n",
       "      <td>8534</td>\n",
       "      <td>33507</td>\n",
       "      <td>17614</td>\n",
       "      <td>190.229363</td>\n",
       "    </tr>\n",
       "    <tr>\n",
       "      <th>276</th>\n",
       "      <td>충청북도</td>\n",
       "      <td>충청북도</td>\n",
       "      <td>69659</td>\n",
       "      <td>76851</td>\n",
       "      <td>70899</td>\n",
       "      <td>230533</td>\n",
       "      <td>146510</td>\n",
       "      <td>157.349669</td>\n",
       "    </tr>\n",
       "    <tr>\n",
       "      <th>277</th>\n",
       "      <td>충청북도</td>\n",
       "      <td>흥덕구</td>\n",
       "      <td>13176</td>\n",
       "      <td>13525</td>\n",
       "      <td>12896</td>\n",
       "      <td>22623</td>\n",
       "      <td>26701</td>\n",
       "      <td>84.727164</td>\n",
       "    </tr>\n",
       "  </tbody>\n",
       "</table>\n",
       "<p>278 rows × 8 columns</p>\n",
       "</div>"
      ],
      "text/plain": [
       "연령     시도   시군구   0~4세  10~14세   5~9세   65세이상   0~14세       고령화지수\n",
       "0     강원도   강릉시   7362   10229   8368   36202   17591  205.798420\n",
       "1     강원도   강원도  58045   72393  63331  254803  130438  195.344148\n",
       "2     강원도   고성군    735     940    721    6641    1675  396.477612\n",
       "3     강원도   동해시   3827    4794   4246   14575    8621  169.063914\n",
       "4     강원도   삼척시   2251    2724   2412   14019    4975  281.788945\n",
       "..    ...   ...    ...     ...    ...     ...     ...         ...\n",
       "273  충청북도   청원구  11252    9092  10115   19359   20344   95.158278\n",
       "274  충청북도   청주시  42386   44123  41810   87881   86509  101.585962\n",
       "275  충청북도   충주시   7735    9879   8534   33507   17614  190.229363\n",
       "276  충청북도  충청북도  69659   76851  70899  230533  146510  157.349669\n",
       "277  충청북도   흥덕구  13176   13525  12896   22623   26701   84.727164\n",
       "\n",
       "[278 rows x 8 columns]"
      ]
     },
     "execution_count": 11,
     "metadata": {},
     "output_type": "execute_result"
    }
   ],
   "source": [
    "# old_jisu.index = old_jisu.index.set_names(['시도','시군구'])\n",
    "old_jisu = old_jisu.reset_index(level=['시도','시군구'],col_level=1)\n",
    "old_jisu"
   ]
  },
  {
   "cell_type": "code",
   "execution_count": 12,
   "metadata": {
    "scrolled": false
   },
   "outputs": [
    {
     "data": {
      "text/html": [
       "<div>\n",
       "<style scoped>\n",
       "    .dataframe tbody tr th:only-of-type {\n",
       "        vertical-align: middle;\n",
       "    }\n",
       "\n",
       "    .dataframe tbody tr th {\n",
       "        vertical-align: top;\n",
       "    }\n",
       "\n",
       "    .dataframe thead th {\n",
       "        text-align: right;\n",
       "    }\n",
       "</style>\n",
       "<table border=\"1\" class=\"dataframe\">\n",
       "  <thead>\n",
       "    <tr style=\"text-align: right;\">\n",
       "      <th>연령</th>\n",
       "      <th>시도</th>\n",
       "      <th>시군구</th>\n",
       "      <th>고령화지수</th>\n",
       "    </tr>\n",
       "  </thead>\n",
       "  <tbody>\n",
       "    <tr>\n",
       "      <th>0</th>\n",
       "      <td>강원도</td>\n",
       "      <td>강릉시</td>\n",
       "      <td>205.798420</td>\n",
       "    </tr>\n",
       "    <tr>\n",
       "      <th>1</th>\n",
       "      <td>강원도</td>\n",
       "      <td>강원도</td>\n",
       "      <td>195.344148</td>\n",
       "    </tr>\n",
       "    <tr>\n",
       "      <th>2</th>\n",
       "      <td>강원도</td>\n",
       "      <td>고성군</td>\n",
       "      <td>396.477612</td>\n",
       "    </tr>\n",
       "    <tr>\n",
       "      <th>3</th>\n",
       "      <td>강원도</td>\n",
       "      <td>동해시</td>\n",
       "      <td>169.063914</td>\n",
       "    </tr>\n",
       "    <tr>\n",
       "      <th>4</th>\n",
       "      <td>강원도</td>\n",
       "      <td>삼척시</td>\n",
       "      <td>281.788945</td>\n",
       "    </tr>\n",
       "    <tr>\n",
       "      <th>...</th>\n",
       "      <td>...</td>\n",
       "      <td>...</td>\n",
       "      <td>...</td>\n",
       "    </tr>\n",
       "    <tr>\n",
       "      <th>273</th>\n",
       "      <td>충청북도</td>\n",
       "      <td>청원구</td>\n",
       "      <td>95.158278</td>\n",
       "    </tr>\n",
       "    <tr>\n",
       "      <th>274</th>\n",
       "      <td>충청북도</td>\n",
       "      <td>청주시</td>\n",
       "      <td>101.585962</td>\n",
       "    </tr>\n",
       "    <tr>\n",
       "      <th>275</th>\n",
       "      <td>충청북도</td>\n",
       "      <td>충주시</td>\n",
       "      <td>190.229363</td>\n",
       "    </tr>\n",
       "    <tr>\n",
       "      <th>276</th>\n",
       "      <td>충청북도</td>\n",
       "      <td>충청북도</td>\n",
       "      <td>157.349669</td>\n",
       "    </tr>\n",
       "    <tr>\n",
       "      <th>277</th>\n",
       "      <td>충청북도</td>\n",
       "      <td>흥덕구</td>\n",
       "      <td>84.727164</td>\n",
       "    </tr>\n",
       "  </tbody>\n",
       "</table>\n",
       "<p>278 rows × 3 columns</p>\n",
       "</div>"
      ],
      "text/plain": [
       "연령     시도   시군구       고령화지수\n",
       "0     강원도   강릉시  205.798420\n",
       "1     강원도   강원도  195.344148\n",
       "2     강원도   고성군  396.477612\n",
       "3     강원도   동해시  169.063914\n",
       "4     강원도   삼척시  281.788945\n",
       "..    ...   ...         ...\n",
       "273  충청북도   청원구   95.158278\n",
       "274  충청북도   청주시  101.585962\n",
       "275  충청북도   충주시  190.229363\n",
       "276  충청북도  충청북도  157.349669\n",
       "277  충청북도   흥덕구   84.727164\n",
       "\n",
       "[278 rows x 3 columns]"
      ]
     },
     "execution_count": 12,
     "metadata": {},
     "output_type": "execute_result"
    }
   ],
   "source": [
    "old_jisu.loc[:,['시도','시군구','고령화지수']]"
   ]
  },
  {
   "cell_type": "markdown",
   "metadata": {},
   "source": [
    "### 노인비율위한 데이터(60세이상/전체인구)"
   ]
  },
  {
   "cell_type": "code",
   "execution_count": 13,
   "metadata": {},
   "outputs": [
    {
     "data": {
      "text/html": [
       "<div>\n",
       "<style scoped>\n",
       "    .dataframe tbody tr th:only-of-type {\n",
       "        vertical-align: middle;\n",
       "    }\n",
       "\n",
       "    .dataframe tbody tr th {\n",
       "        vertical-align: top;\n",
       "    }\n",
       "\n",
       "    .dataframe thead th {\n",
       "        text-align: right;\n",
       "    }\n",
       "</style>\n",
       "<table border=\"1\" class=\"dataframe\">\n",
       "  <thead>\n",
       "    <tr style=\"text-align: right;\">\n",
       "      <th></th>\n",
       "      <th>시군구</th>\n",
       "      <th>시도</th>\n",
       "      <th>계</th>\n",
       "      <th>60세</th>\n",
       "      <th>65세</th>\n",
       "      <th>70세</th>\n",
       "      <th>75세</th>\n",
       "      <th>80세</th>\n",
       "      <th>85세</th>\n",
       "      <th>90세</th>\n",
       "      <th>95세</th>\n",
       "      <th>100세</th>\n",
       "    </tr>\n",
       "  </thead>\n",
       "  <tbody>\n",
       "    <tr>\n",
       "      <th>0</th>\n",
       "      <td>서울특별시</td>\n",
       "      <td>서울특별시</td>\n",
       "      <td>10022181</td>\n",
       "      <td>585240</td>\n",
       "      <td>452512</td>\n",
       "      <td>347368</td>\n",
       "      <td>234999</td>\n",
       "      <td>130345</td>\n",
       "      <td>62456</td>\n",
       "      <td>23212</td>\n",
       "      <td>6507</td>\n",
       "      <td>5037</td>\n",
       "    </tr>\n",
       "  </tbody>\n",
       "</table>\n",
       "</div>"
      ],
      "text/plain": [
       "     시군구     시도         계     60세     65세     70세     75세     80세    85세  \\\n",
       "0  서울특별시  서울특별시  10022181  585240  452512  347368  234999  130345  62456   \n",
       "\n",
       "     90세   95세  100세  \n",
       "0  23212  6507  5037  "
      ]
     },
     "execution_count": 13,
     "metadata": {},
     "output_type": "execute_result"
    }
   ],
   "source": [
    "old_ratio = pd.read_csv(path+'2015년 노인비율위한 데이터.csv', encoding='cp949')\n",
    "old_ratio.head(1)"
   ]
  },
  {
   "cell_type": "code",
   "execution_count": 14,
   "metadata": {},
   "outputs": [],
   "source": [
    "old_ratio['노인비율'] = ((old_ratio['60세']+old_ratio['65세']+old_ratio['70세']+old_ratio['75세']+\\\n",
    "                     old_ratio['80세']+old_ratio['85세']+old_ratio['90세']+old_ratio['95세']+old_ratio['100세'])/old_ratio['계'])*100"
   ]
  },
  {
   "cell_type": "code",
   "execution_count": 15,
   "metadata": {
    "scrolled": true
   },
   "outputs": [
    {
     "data": {
      "text/html": [
       "<div>\n",
       "<style scoped>\n",
       "    .dataframe tbody tr th:only-of-type {\n",
       "        vertical-align: middle;\n",
       "    }\n",
       "\n",
       "    .dataframe tbody tr th {\n",
       "        vertical-align: top;\n",
       "    }\n",
       "\n",
       "    .dataframe thead th {\n",
       "        text-align: right;\n",
       "    }\n",
       "</style>\n",
       "<table border=\"1\" class=\"dataframe\">\n",
       "  <thead>\n",
       "    <tr style=\"text-align: right;\">\n",
       "      <th></th>\n",
       "      <th>시군구</th>\n",
       "      <th>시도</th>\n",
       "      <th>계</th>\n",
       "      <th>60세</th>\n",
       "      <th>65세</th>\n",
       "      <th>70세</th>\n",
       "      <th>75세</th>\n",
       "      <th>80세</th>\n",
       "      <th>85세</th>\n",
       "      <th>90세</th>\n",
       "      <th>95세</th>\n",
       "      <th>100세</th>\n",
       "      <th>노인비율</th>\n",
       "    </tr>\n",
       "  </thead>\n",
       "  <tbody>\n",
       "    <tr>\n",
       "      <th>0</th>\n",
       "      <td>서울특별시</td>\n",
       "      <td>서울특별시</td>\n",
       "      <td>10022181</td>\n",
       "      <td>585240</td>\n",
       "      <td>452512</td>\n",
       "      <td>347368</td>\n",
       "      <td>234999</td>\n",
       "      <td>130345</td>\n",
       "      <td>62456</td>\n",
       "      <td>23212</td>\n",
       "      <td>6507</td>\n",
       "      <td>5037</td>\n",
       "      <td>18.435867</td>\n",
       "    </tr>\n",
       "  </tbody>\n",
       "</table>\n",
       "</div>"
      ],
      "text/plain": [
       "     시군구     시도         계     60세     65세     70세     75세     80세    85세  \\\n",
       "0  서울특별시  서울특별시  10022181  585240  452512  347368  234999  130345  62456   \n",
       "\n",
       "     90세   95세  100세       노인비율  \n",
       "0  23212  6507  5037  18.435867  "
      ]
     },
     "execution_count": 15,
     "metadata": {},
     "output_type": "execute_result"
    }
   ],
   "source": [
    "old_ratio.head(1)"
   ]
  },
  {
   "cell_type": "markdown",
   "metadata": {},
   "source": [
    "## 지표추가"
   ]
  },
  {
   "cell_type": "code",
   "execution_count": 16,
   "metadata": {},
   "outputs": [],
   "source": [
    "#의료시설_접근가능_시설수\n",
    "hop_acc = pd.read_csv(path+'의료시설_접근가능_시설수_수정(15,30).csv', encoding='cp949')\n",
    "hop_acc.rename(columns={'행정구역별(1)': '시도','행정구역별(2)':'시군구'}, inplace=True)\n",
    "hop_acc.shape\n",
    "hop_acc['공공의료'] = hop_acc['공공의료시설(15분)']+hop_acc['공공의료시설(30분)']+hop_acc['종합병원(15분)']+hop_acc['종합병원(30분)']"
   ]
  },
  {
   "cell_type": "code",
   "execution_count": 17,
   "metadata": {},
   "outputs": [
    {
     "data": {
      "text/html": [
       "<div>\n",
       "<style scoped>\n",
       "    .dataframe tbody tr th:only-of-type {\n",
       "        vertical-align: middle;\n",
       "    }\n",
       "\n",
       "    .dataframe tbody tr th {\n",
       "        vertical-align: top;\n",
       "    }\n",
       "\n",
       "    .dataframe thead th {\n",
       "        text-align: right;\n",
       "    }\n",
       "</style>\n",
       "<table border=\"1\" class=\"dataframe\">\n",
       "  <thead>\n",
       "    <tr style=\"text-align: right;\">\n",
       "      <th></th>\n",
       "      <th>시도</th>\n",
       "      <th>시군구</th>\n",
       "      <th>시간대별(1)</th>\n",
       "      <th>공공의료시설(15분)</th>\n",
       "      <th>공공의료시설(30분)</th>\n",
       "      <th>병_의원(15분)</th>\n",
       "      <th>병_의원(30분)</th>\n",
       "      <th>종합병원(15분)</th>\n",
       "      <th>종합병원(30분)</th>\n",
       "      <th>공공의료</th>\n",
       "    </tr>\n",
       "  </thead>\n",
       "  <tbody>\n",
       "    <tr>\n",
       "      <th>0</th>\n",
       "      <td>전국</td>\n",
       "      <td>소계</td>\n",
       "      <td>일평균(06-20시)</td>\n",
       "      <td>0.45</td>\n",
       "      <td>3.08</td>\n",
       "      <td>10.0</td>\n",
       "      <td>10.0</td>\n",
       "      <td>0.59</td>\n",
       "      <td>4.16</td>\n",
       "      <td>8.28</td>\n",
       "    </tr>\n",
       "  </tbody>\n",
       "</table>\n",
       "</div>"
      ],
      "text/plain": [
       "   시도 시군구      시간대별(1)  공공의료시설(15분)  공공의료시설(30분)  병_의원(15분)  병_의원(30분)  \\\n",
       "0  전국  소계  일평균(06-20시)         0.45         3.08       10.0       10.0   \n",
       "\n",
       "   종합병원(15분)  종합병원(30분)  공공의료  \n",
       "0       0.59       4.16  8.28  "
      ]
     },
     "execution_count": 17,
     "metadata": {},
     "output_type": "execute_result"
    }
   ],
   "source": [
    "hop_acc.head(1)"
   ]
  },
  {
   "cell_type": "markdown",
   "metadata": {},
   "source": [
    "### 의료시설_유형별_평균접근시간 처리"
   ]
  },
  {
   "cell_type": "code",
   "execution_count": 18,
   "metadata": {
    "scrolled": false
   },
   "outputs": [
    {
     "data": {
      "text/html": [
       "<div>\n",
       "<style scoped>\n",
       "    .dataframe tbody tr th:only-of-type {\n",
       "        vertical-align: middle;\n",
       "    }\n",
       "\n",
       "    .dataframe tbody tr th {\n",
       "        vertical-align: top;\n",
       "    }\n",
       "\n",
       "    .dataframe thead th {\n",
       "        text-align: right;\n",
       "    }\n",
       "</style>\n",
       "<table border=\"1\" class=\"dataframe\">\n",
       "  <thead>\n",
       "    <tr style=\"text-align: right;\">\n",
       "      <th></th>\n",
       "      <th>시도</th>\n",
       "      <th>시군구</th>\n",
       "      <th>시간</th>\n",
       "      <th>공공의료</th>\n",
       "      <th>종합병원</th>\n",
       "    </tr>\n",
       "  </thead>\n",
       "  <tbody>\n",
       "    <tr>\n",
       "      <th>0</th>\n",
       "      <td>전국</td>\n",
       "      <td>소계</td>\n",
       "      <td>저녁첨두(18-20시)</td>\n",
       "      <td>18.85</td>\n",
       "      <td>27.84</td>\n",
       "    </tr>\n",
       "  </tbody>\n",
       "</table>\n",
       "</div>"
      ],
      "text/plain": [
       "   시도 시군구            시간   공공의료   종합병원\n",
       "0  전국  소계  저녁첨두(18-20시)  18.85  27.84"
      ]
     },
     "execution_count": 18,
     "metadata": {},
     "output_type": "execute_result"
    }
   ],
   "source": [
    "#의료시설_유형별_평균접근시간.csv\n",
    "hop_time = pd.read_csv(path+'의료시설_유형별_평균접근시간.csv', encoding='cp949')\n",
    "hop_time\n",
    "hop_time.rename(columns={'행정구역별(1)': '시도','행정구역별(2)':'시군구','시간대별(1)':'시간','공공의료시설':'공공의료'},inplace=True)\n",
    "hop_time.head(1)"
   ]
  },
  {
   "cell_type": "code",
   "execution_count": 19,
   "metadata": {
    "scrolled": true
   },
   "outputs": [
    {
     "name": "stderr",
     "output_type": "stream",
     "text": [
      "C:\\Users\\COM\\Anaconda3\\lib\\site-packages\\ipykernel_launcher.py:3: SettingWithCopyWarning: \n",
      "A value is trying to be set on a copy of a slice from a DataFrame.\n",
      "Try using .loc[row_indexer,col_indexer] = value instead\n",
      "\n",
      "See the caveats in the documentation: http://pandas.pydata.org/pandas-docs/stable/user_guide/indexing.html#returning-a-view-versus-a-copy\n",
      "  This is separate from the ipykernel package so we can avoid doing imports until\n"
     ]
    },
    {
     "data": {
      "text/html": [
       "<div>\n",
       "<style scoped>\n",
       "    .dataframe tbody tr th:only-of-type {\n",
       "        vertical-align: middle;\n",
       "    }\n",
       "\n",
       "    .dataframe tbody tr th {\n",
       "        vertical-align: top;\n",
       "    }\n",
       "\n",
       "    .dataframe thead th {\n",
       "        text-align: right;\n",
       "    }\n",
       "</style>\n",
       "<table border=\"1\" class=\"dataframe\">\n",
       "  <thead>\n",
       "    <tr style=\"text-align: right;\">\n",
       "      <th></th>\n",
       "      <th>시도</th>\n",
       "      <th>시군구</th>\n",
       "      <th>시간</th>\n",
       "      <th>공공의료</th>\n",
       "      <th>종합병원</th>\n",
       "      <th>일접근평균시간_병원</th>\n",
       "    </tr>\n",
       "  </thead>\n",
       "  <tbody>\n",
       "    <tr>\n",
       "      <th>1</th>\n",
       "      <td>서울특별시</td>\n",
       "      <td>소계</td>\n",
       "      <td>일평균(06-20시)</td>\n",
       "      <td>16.46</td>\n",
       "      <td>14.69</td>\n",
       "      <td>15.575</td>\n",
       "    </tr>\n",
       "  </tbody>\n",
       "</table>\n",
       "</div>"
      ],
      "text/plain": [
       "      시도 시군구           시간   공공의료   종합병원  일접근평균시간_병원\n",
       "1  서울특별시  소계  일평균(06-20시)  16.46  14.69      15.575"
      ]
     },
     "execution_count": 19,
     "metadata": {},
     "output_type": "execute_result"
    }
   ],
   "source": [
    "#의료시설_유형별_접근시간 시간대 구분 --  저녁, 일평균\n",
    "hop_d_time = hop_time.loc[hop_time['시간']=='일평균(06-20시)',:]\n",
    "hop_d_time['일접근평균시간_병원'] = (hop_d_time['공공의료']+hop_d_time['종합병원'])/2\n",
    "hop_d_time.head(1)"
   ]
  },
  {
   "cell_type": "markdown",
   "metadata": {},
   "source": [
    "### 광역교통시설_유형별 데이터 처리"
   ]
  },
  {
   "cell_type": "code",
   "execution_count": 20,
   "metadata": {
    "scrolled": true
   },
   "outputs": [
    {
     "data": {
      "text/html": [
       "<div>\n",
       "<style scoped>\n",
       "    .dataframe tbody tr th:only-of-type {\n",
       "        vertical-align: middle;\n",
       "    }\n",
       "\n",
       "    .dataframe tbody tr th {\n",
       "        vertical-align: top;\n",
       "    }\n",
       "\n",
       "    .dataframe thead th {\n",
       "        text-align: right;\n",
       "    }\n",
       "</style>\n",
       "<table border=\"1\" class=\"dataframe\">\n",
       "  <thead>\n",
       "    <tr style=\"text-align: right;\">\n",
       "      <th></th>\n",
       "      <th>시도</th>\n",
       "      <th>시군구</th>\n",
       "      <th>시간대</th>\n",
       "      <th>버스터미널</th>\n",
       "      <th>철도역</th>\n",
       "    </tr>\n",
       "  </thead>\n",
       "  <tbody>\n",
       "    <tr>\n",
       "      <th>0</th>\n",
       "      <td>서울특별시</td>\n",
       "      <td>소계</td>\n",
       "      <td>일평균(06-20시)</td>\n",
       "      <td>30.63</td>\n",
       "      <td>24.32</td>\n",
       "    </tr>\n",
       "  </tbody>\n",
       "</table>\n",
       "</div>"
      ],
      "text/plain": [
       "      시도 시군구          시간대  버스터미널    철도역\n",
       "0  서울특별시  소계  일평균(06-20시)  30.63  24.32"
      ]
     },
     "execution_count": 20,
     "metadata": {},
     "output_type": "execute_result"
    }
   ],
   "source": [
    "wide_acc = pd.read_csv(path+'광역교통시설_유형별_평균접근시간.csv', encoding='cp949')\n",
    "wide_acc.head(1)"
   ]
  },
  {
   "cell_type": "markdown",
   "metadata": {},
   "source": [
    "#### 광역교통시설_버스,철도_평균"
   ]
  },
  {
   "cell_type": "code",
   "execution_count": 21,
   "metadata": {
    "scrolled": true
   },
   "outputs": [
    {
     "name": "stderr",
     "output_type": "stream",
     "text": [
      "C:\\Users\\COM\\Anaconda3\\lib\\site-packages\\ipykernel_launcher.py:2: SettingWithCopyWarning: \n",
      "A value is trying to be set on a copy of a slice from a DataFrame.\n",
      "Try using .loc[row_indexer,col_indexer] = value instead\n",
      "\n",
      "See the caveats in the documentation: http://pandas.pydata.org/pandas-docs/stable/user_guide/indexing.html#returning-a-view-versus-a-copy\n",
      "  \n"
     ]
    },
    {
     "data": {
      "text/html": [
       "<div>\n",
       "<style scoped>\n",
       "    .dataframe tbody tr th:only-of-type {\n",
       "        vertical-align: middle;\n",
       "    }\n",
       "\n",
       "    .dataframe tbody tr th {\n",
       "        vertical-align: top;\n",
       "    }\n",
       "\n",
       "    .dataframe thead th {\n",
       "        text-align: right;\n",
       "    }\n",
       "</style>\n",
       "<table border=\"1\" class=\"dataframe\">\n",
       "  <thead>\n",
       "    <tr style=\"text-align: right;\">\n",
       "      <th></th>\n",
       "      <th>시도</th>\n",
       "      <th>시군구</th>\n",
       "      <th>시간대</th>\n",
       "      <th>버스터미널</th>\n",
       "      <th>철도역</th>\n",
       "      <th>일접근평균시간_광역</th>\n",
       "    </tr>\n",
       "  </thead>\n",
       "  <tbody>\n",
       "    <tr>\n",
       "      <th>1</th>\n",
       "      <td>서울특별시</td>\n",
       "      <td>소계</td>\n",
       "      <td>저녁첨두(18-20시)</td>\n",
       "      <td>30.51</td>\n",
       "      <td>24.04</td>\n",
       "      <td>27.275</td>\n",
       "    </tr>\n",
       "  </tbody>\n",
       "</table>\n",
       "</div>"
      ],
      "text/plain": [
       "      시도 시군구           시간대  버스터미널    철도역  일접근평균시간_광역\n",
       "1  서울특별시  소계  저녁첨두(18-20시)  30.51  24.04      27.275"
      ]
     },
     "execution_count": 21,
     "metadata": {},
     "output_type": "execute_result"
    }
   ],
   "source": [
    "wide_d_acc = wide_acc.loc[(hop_time['시간']=='일평균(06-20시)'),:]\n",
    "wide_d_acc['일접근평균시간_광역'] = (wide_d_acc['버스터미널']+wide_d_acc['철도역'])/2\n",
    "wide_d_acc.head(1)"
   ]
  },
  {
   "cell_type": "code",
   "execution_count": 22,
   "metadata": {
    "scrolled": true
   },
   "outputs": [
    {
     "name": "stderr",
     "output_type": "stream",
     "text": [
      "C:\\Users\\COM\\Anaconda3\\lib\\site-packages\\ipykernel_launcher.py:2: SettingWithCopyWarning: \n",
      "A value is trying to be set on a copy of a slice from a DataFrame.\n",
      "Try using .loc[row_indexer,col_indexer] = value instead\n",
      "\n",
      "See the caveats in the documentation: http://pandas.pydata.org/pandas-docs/stable/user_guide/indexing.html#returning-a-view-versus-a-copy\n",
      "  \n"
     ]
    },
    {
     "data": {
      "text/html": [
       "<div>\n",
       "<style scoped>\n",
       "    .dataframe tbody tr th:only-of-type {\n",
       "        vertical-align: middle;\n",
       "    }\n",
       "\n",
       "    .dataframe tbody tr th {\n",
       "        vertical-align: top;\n",
       "    }\n",
       "\n",
       "    .dataframe thead th {\n",
       "        text-align: right;\n",
       "    }\n",
       "</style>\n",
       "<table border=\"1\" class=\"dataframe\">\n",
       "  <thead>\n",
       "    <tr style=\"text-align: right;\">\n",
       "      <th></th>\n",
       "      <th>시도</th>\n",
       "      <th>시군구</th>\n",
       "      <th>시간대</th>\n",
       "      <th>버스터미널</th>\n",
       "      <th>철도역</th>\n",
       "      <th>야간접근평균시간</th>\n",
       "    </tr>\n",
       "  </thead>\n",
       "  <tbody>\n",
       "    <tr>\n",
       "      <th>0</th>\n",
       "      <td>서울특별시</td>\n",
       "      <td>소계</td>\n",
       "      <td>일평균(06-20시)</td>\n",
       "      <td>30.63</td>\n",
       "      <td>24.32</td>\n",
       "      <td>27.475</td>\n",
       "    </tr>\n",
       "  </tbody>\n",
       "</table>\n",
       "</div>"
      ],
      "text/plain": [
       "      시도 시군구          시간대  버스터미널    철도역  야간접근평균시간\n",
       "0  서울특별시  소계  일평균(06-20시)  30.63  24.32    27.475"
      ]
     },
     "execution_count": 22,
     "metadata": {},
     "output_type": "execute_result"
    }
   ],
   "source": [
    "wide_n_acc = wide_acc.loc[~(hop_time['시간']=='일평균(06-20시)'),:]\n",
    "wide_n_acc['야간접근평균시간'] = (wide_n_acc['버스터미널']+wide_n_acc['철도역'])/2\n",
    "wide_n_acc.head(1)"
   ]
  },
  {
   "cell_type": "markdown",
   "metadata": {},
   "source": [
    "### 판매시설(대형마트)_접근시간 처리"
   ]
  },
  {
   "cell_type": "code",
   "execution_count": 23,
   "metadata": {},
   "outputs": [
    {
     "data": {
      "text/html": [
       "<div>\n",
       "<style scoped>\n",
       "    .dataframe tbody tr th:only-of-type {\n",
       "        vertical-align: middle;\n",
       "    }\n",
       "\n",
       "    .dataframe tbody tr th {\n",
       "        vertical-align: top;\n",
       "    }\n",
       "\n",
       "    .dataframe thead th {\n",
       "        text-align: right;\n",
       "    }\n",
       "</style>\n",
       "<table border=\"1\" class=\"dataframe\">\n",
       "  <thead>\n",
       "    <tr style=\"text-align: right;\">\n",
       "      <th></th>\n",
       "      <th>시도</th>\n",
       "      <th>시군구</th>\n",
       "      <th>시간</th>\n",
       "      <th>대중교통/도보</th>\n",
       "    </tr>\n",
       "  </thead>\n",
       "  <tbody>\n",
       "    <tr>\n",
       "      <th>0</th>\n",
       "      <td>서울특별시</td>\n",
       "      <td>소계</td>\n",
       "      <td>일평균(06-20시)</td>\n",
       "      <td>12.05</td>\n",
       "    </tr>\n",
       "  </tbody>\n",
       "</table>\n",
       "</div>"
      ],
      "text/plain": [
       "      시도 시군구           시간  대중교통/도보\n",
       "0  서울특별시  소계  일평균(06-20시)    12.05"
      ]
     },
     "execution_count": 23,
     "metadata": {},
     "output_type": "execute_result"
    }
   ],
   "source": [
    "store_acc = pd.read_csv(path+'판매시설_유형별_평균접근시간.csv', encoding='cp949')\n",
    "store_acc.head(1)"
   ]
  },
  {
   "cell_type": "code",
   "execution_count": 24,
   "metadata": {},
   "outputs": [
    {
     "data": {
      "text/html": [
       "<div>\n",
       "<style scoped>\n",
       "    .dataframe tbody tr th:only-of-type {\n",
       "        vertical-align: middle;\n",
       "    }\n",
       "\n",
       "    .dataframe tbody tr th {\n",
       "        vertical-align: top;\n",
       "    }\n",
       "\n",
       "    .dataframe thead th {\n",
       "        text-align: right;\n",
       "    }\n",
       "</style>\n",
       "<table border=\"1\" class=\"dataframe\">\n",
       "  <thead>\n",
       "    <tr style=\"text-align: right;\">\n",
       "      <th></th>\n",
       "      <th>시도</th>\n",
       "      <th>시군구</th>\n",
       "      <th>시간</th>\n",
       "      <th>대중교통/도보</th>\n",
       "    </tr>\n",
       "  </thead>\n",
       "  <tbody>\n",
       "    <tr>\n",
       "      <th>0</th>\n",
       "      <td>서울특별시</td>\n",
       "      <td>소계</td>\n",
       "      <td>일평균(06-20시)</td>\n",
       "      <td>12.05</td>\n",
       "    </tr>\n",
       "  </tbody>\n",
       "</table>\n",
       "</div>"
      ],
      "text/plain": [
       "      시도 시군구           시간  대중교통/도보\n",
       "0  서울특별시  소계  일평균(06-20시)    12.05"
      ]
     },
     "execution_count": 24,
     "metadata": {},
     "output_type": "execute_result"
    }
   ],
   "source": [
    "store_d_acc = store_acc.loc[(store_acc['시간']=='일평균(06-20시)'),:]\n",
    "store_n_acc = store_acc.loc[~(store_acc['시간']=='일평균(06-20시)'),:]\n",
    "store_d_acc.head(1)"
   ]
  },
  {
   "cell_type": "markdown",
   "metadata": {},
   "source": [
    "### 원본 데이터에서 쓸 열들만 정리"
   ]
  },
  {
   "cell_type": "code",
   "execution_count": 25,
   "metadata": {
    "scrolled": true
   },
   "outputs": [
    {
     "data": {
      "text/plain": [
       "(226, 31)"
      ]
     },
     "execution_count": 25,
     "metadata": {},
     "output_type": "execute_result"
    }
   ],
   "source": [
    "##원본 데이터에서 쓸 열들만 정리\n",
    "sigungu_1 = sigungu_nxy.loc[:,['시도','시군구','지역','1인가구수','건강보험급여실적',\n",
    "                               '기초수급자수','범죄발생건수(살인)','주민등록인구(14세이하)',\n",
    "                               '자살 사망자수','주민등록인구','주민등록인구(60세이상)',\n",
    "                               '독거노인수','반지하가구 수','우울감경험률','suicide',\n",
    "                               '자살','재정자주도','재정자립도','고령인구수',\n",
    "                              '의료보험료','범죄발생건수(폭력)','기초수급자수(65세이상)',\n",
    "                              '감염병 사망자수','시군구내 전입자수','장애인수',\n",
    "                              '질병이환 및 사망외인으로 인한 사망자수','초등학생수',\n",
    "                               '구급발생건수','독거노인수','순이동자수','시가화율']]\n",
    "sigungu_1.shape"
   ]
  },
  {
   "cell_type": "markdown",
   "metadata": {},
   "source": [
    "### 풀 데이터셋 만들기"
   ]
  },
  {
   "cell_type": "code",
   "execution_count": 26,
   "metadata": {
    "scrolled": true
   },
   "outputs": [
    {
     "data": {
      "text/html": [
       "<div>\n",
       "<style scoped>\n",
       "    .dataframe tbody tr th:only-of-type {\n",
       "        vertical-align: middle;\n",
       "    }\n",
       "\n",
       "    .dataframe tbody tr th {\n",
       "        vertical-align: top;\n",
       "    }\n",
       "\n",
       "    .dataframe thead th {\n",
       "        text-align: right;\n",
       "    }\n",
       "</style>\n",
       "<table border=\"1\" class=\"dataframe\">\n",
       "  <thead>\n",
       "    <tr style=\"text-align: right;\">\n",
       "      <th></th>\n",
       "      <th>시도</th>\n",
       "      <th>시군구</th>\n",
       "      <th>지역</th>\n",
       "      <th>1인가구수</th>\n",
       "      <th>건강보험급여실적</th>\n",
       "      <th>기초수급자수</th>\n",
       "      <th>범죄발생건수(살인)</th>\n",
       "      <th>주민등록인구(14세이하)</th>\n",
       "      <th>자살 사망자수</th>\n",
       "      <th>주민등록인구</th>\n",
       "      <th>주민등록인구(60세이상)</th>\n",
       "      <th>독거노인수</th>\n",
       "      <th>반지하가구 수</th>\n",
       "      <th>우울감경험률</th>\n",
       "      <th>suicide</th>\n",
       "      <th>자살</th>\n",
       "      <th>재정자주도</th>\n",
       "      <th>재정자립도</th>\n",
       "      <th>고령인구수</th>\n",
       "      <th>의료보험료</th>\n",
       "      <th>범죄발생건수(폭력)</th>\n",
       "      <th>기초수급자수(65세이상)</th>\n",
       "      <th>감염병 사망자수</th>\n",
       "      <th>시군구내 전입자수</th>\n",
       "      <th>장애인수</th>\n",
       "      <th>질병이환 및 사망외인으로 인한 사망자수</th>\n",
       "      <th>초등학생수</th>\n",
       "      <th>구급발생건수</th>\n",
       "      <th>독거노인수</th>\n",
       "      <th>순이동자수</th>\n",
       "      <th>시가화율</th>\n",
       "      <th>일접근평균시간_병원</th>\n",
       "      <th>대중교통/도보</th>\n",
       "      <th>일접근평균시간_광역</th>\n",
       "      <th>공공의료</th>\n",
       "    </tr>\n",
       "  </thead>\n",
       "  <tbody>\n",
       "    <tr>\n",
       "      <th>0</th>\n",
       "      <td>강원도</td>\n",
       "      <td>강릉시</td>\n",
       "      <td>2015_강원도_강릉시</td>\n",
       "      <td>1161.45445</td>\n",
       "      <td>1559476.199</td>\n",
       "      <td>314.30862</td>\n",
       "      <td>0.13901</td>\n",
       "      <td>1283.55429</td>\n",
       "      <td>3.66068</td>\n",
       "      <td>215807.0</td>\n",
       "      <td>2266.60859</td>\n",
       "      <td>404.29643</td>\n",
       "      <td>22.52012</td>\n",
       "      <td>4.7</td>\n",
       "      <td>1</td>\n",
       "      <td>4</td>\n",
       "      <td>64.61</td>\n",
       "      <td>17.39</td>\n",
       "      <td>1668.57424</td>\n",
       "      <td>6229719.75</td>\n",
       "      <td>68.02374</td>\n",
       "      <td>108.15219</td>\n",
       "      <td>2.03886</td>\n",
       "      <td>773.56156</td>\n",
       "      <td>605.49472</td>\n",
       "      <td>7.08967</td>\n",
       "      <td>522.87461</td>\n",
       "      <td>32.34371</td>\n",
       "      <td>404.29643</td>\n",
       "      <td>-37.53354</td>\n",
       "      <td>2.25</td>\n",
       "      <td>26.71</td>\n",
       "      <td>29.96</td>\n",
       "      <td>31.135</td>\n",
       "      <td>3.46</td>\n",
       "    </tr>\n",
       "  </tbody>\n",
       "</table>\n",
       "</div>"
      ],
      "text/plain": [
       "    시도  시군구            지역       1인가구수     건강보험급여실적     기초수급자수  범죄발생건수(살인)  \\\n",
       "0  강원도  강릉시  2015_강원도_강릉시  1161.45445  1559476.199  314.30862     0.13901   \n",
       "\n",
       "   주민등록인구(14세이하)  자살 사망자수    주민등록인구  주민등록인구(60세이상)      독거노인수   반지하가구 수  \\\n",
       "0     1283.55429  3.66068  215807.0     2266.60859  404.29643  22.52012   \n",
       "\n",
       "   우울감경험률  suicide  자살  재정자주도  재정자립도       고령인구수       의료보험료  범죄발생건수(폭력)  \\\n",
       "0     4.7        1   4  64.61  17.39  1668.57424  6229719.75    68.02374   \n",
       "\n",
       "   기초수급자수(65세이상)  감염병 사망자수  시군구내 전입자수       장애인수  질병이환 및 사망외인으로 인한 사망자수  \\\n",
       "0      108.15219   2.03886  773.56156  605.49472                7.08967   \n",
       "\n",
       "       초등학생수    구급발생건수      독거노인수     순이동자수  시가화율  일접근평균시간_병원  대중교통/도보  \\\n",
       "0  522.87461  32.34371  404.29643 -37.53354  2.25       26.71    29.96   \n",
       "\n",
       "   일접근평균시간_광역  공공의료  \n",
       "0      31.135  3.46  "
      ]
     },
     "execution_count": 26,
     "metadata": {},
     "output_type": "execute_result"
    }
   ],
   "source": [
    "sigungu_ht=sigungu_1.merge(hop_d_time.loc[:,['시도','시군구','일접근평균시간_병원']] , on=['시도','시군구']).merge(store_d_acc.loc[:,['시도','시군구','대중교통/도보']], on=['시도','시군구'])\\\n",
    ".merge(wide_d_acc.loc[:,['시도','시군구','일접근평균시간_광역']], on=['시도','시군구']).merge(hop_acc.loc[:,['시도','시군구','공공의료']], on=['시도','시군구'])\n",
    "sigungu_ht.head(1)"
   ]
  },
  {
   "cell_type": "markdown",
   "metadata": {},
   "source": [
    "#### 고령화지수 매개변수 넣기"
   ]
  },
  {
   "cell_type": "code",
   "execution_count": 27,
   "metadata": {},
   "outputs": [
    {
     "data": {
      "text/plain": [
       "(226, 36)"
      ]
     },
     "execution_count": 27,
     "metadata": {},
     "output_type": "execute_result"
    }
   ],
   "source": [
    "sigungu_ht = sigungu_ht.merge(old_jisu.loc[:,['시도','시군구','고령화지수']], on=['시도','시군구'])\n",
    "sigungu_ht.shape"
   ]
  },
  {
   "cell_type": "markdown",
   "metadata": {},
   "source": [
    "#### 노인비율 매개변수 넣기"
   ]
  },
  {
   "cell_type": "code",
   "execution_count": 28,
   "metadata": {},
   "outputs": [
    {
     "data": {
      "text/plain": [
       "(226, 37)"
      ]
     },
     "execution_count": 28,
     "metadata": {},
     "output_type": "execute_result"
    }
   ],
   "source": [
    "sigungu_ht = sigungu_ht.merge(old_ratio.loc[:,['시도','시군구','노인비율']], on=['시도','시군구'])\n",
    "sigungu_ht.shape"
   ]
  },
  {
   "cell_type": "code",
   "execution_count": 29,
   "metadata": {},
   "outputs": [],
   "source": [
    "sigungu_ht['평균접근시간'] = (sigungu_ht['일접근평균시간_병원']+sigungu_ht['대중교통/도보']+sigungu_ht['일접근평균시간_광역'])/3"
   ]
  },
  {
   "cell_type": "markdown",
   "metadata": {},
   "source": [
    "#### 2016년 사망,사망률 넣기"
   ]
  },
  {
   "cell_type": "code",
   "execution_count": 30,
   "metadata": {
    "scrolled": true
   },
   "outputs": [
    {
     "data": {
      "text/plain": [
       "(226, 40)"
      ]
     },
     "execution_count": 30,
     "metadata": {},
     "output_type": "execute_result"
    }
   ],
   "source": [
    "sigungu_ht =sigungu_ht.merge(deth, on=['시도','시군구'])\n",
    "sigungu_ht.shape"
   ]
  },
  {
   "cell_type": "code",
   "execution_count": 31,
   "metadata": {},
   "outputs": [
    {
     "data": {
      "text/html": [
       "<div>\n",
       "<style scoped>\n",
       "    .dataframe tbody tr th:only-of-type {\n",
       "        vertical-align: middle;\n",
       "    }\n",
       "\n",
       "    .dataframe tbody tr th {\n",
       "        vertical-align: top;\n",
       "    }\n",
       "\n",
       "    .dataframe thead th {\n",
       "        text-align: right;\n",
       "    }\n",
       "</style>\n",
       "<table border=\"1\" class=\"dataframe\">\n",
       "  <thead>\n",
       "    <tr style=\"text-align: right;\">\n",
       "      <th></th>\n",
       "      <th>시도</th>\n",
       "      <th>시군구</th>\n",
       "      <th>사회복지비율</th>\n",
       "    </tr>\n",
       "  </thead>\n",
       "  <tbody>\n",
       "    <tr>\n",
       "      <th>0</th>\n",
       "      <td>서울특별시</td>\n",
       "      <td>전국계</td>\n",
       "      <td>27.46</td>\n",
       "    </tr>\n",
       "    <tr>\n",
       "      <th>1</th>\n",
       "      <td>서울특별시</td>\n",
       "      <td>계</td>\n",
       "      <td>34.13</td>\n",
       "    </tr>\n",
       "    <tr>\n",
       "      <th>2</th>\n",
       "      <td>서울특별시</td>\n",
       "      <td>본청</td>\n",
       "      <td>33.57</td>\n",
       "    </tr>\n",
       "    <tr>\n",
       "      <th>3</th>\n",
       "      <td>서울특별시</td>\n",
       "      <td>구계</td>\n",
       "      <td>51.46</td>\n",
       "    </tr>\n",
       "    <tr>\n",
       "      <th>4</th>\n",
       "      <td>서울특별시</td>\n",
       "      <td>종로구</td>\n",
       "      <td>34.99</td>\n",
       "    </tr>\n",
       "    <tr>\n",
       "      <th>...</th>\n",
       "      <td>...</td>\n",
       "      <td>...</td>\n",
       "      <td>...</td>\n",
       "    </tr>\n",
       "    <tr>\n",
       "      <th>281</th>\n",
       "      <td>경상남도</td>\n",
       "      <td>함양군</td>\n",
       "      <td>20.18</td>\n",
       "    </tr>\n",
       "    <tr>\n",
       "      <th>282</th>\n",
       "      <td>경상남도</td>\n",
       "      <td>거창군</td>\n",
       "      <td>22.03</td>\n",
       "    </tr>\n",
       "    <tr>\n",
       "      <th>283</th>\n",
       "      <td>경상남도</td>\n",
       "      <td>합천군</td>\n",
       "      <td>19.44</td>\n",
       "    </tr>\n",
       "    <tr>\n",
       "      <th>284</th>\n",
       "      <td>NaN</td>\n",
       "      <td>NaN</td>\n",
       "      <td>NaN</td>\n",
       "    </tr>\n",
       "    <tr>\n",
       "      <th>285</th>\n",
       "      <td>NaN</td>\n",
       "      <td>NaN</td>\n",
       "      <td>NaN</td>\n",
       "    </tr>\n",
       "  </tbody>\n",
       "</table>\n",
       "<p>286 rows × 3 columns</p>\n",
       "</div>"
      ],
      "text/plain": [
       "        시도  시군구  사회복지비율\n",
       "0    서울특별시  전국계   27.46\n",
       "1    서울특별시    계   34.13\n",
       "2    서울특별시   본청   33.57\n",
       "3    서울특별시   구계   51.46\n",
       "4    서울특별시  종로구   34.99\n",
       "..     ...  ...     ...\n",
       "281   경상남도  함양군   20.18\n",
       "282   경상남도  거창군   22.03\n",
       "283   경상남도  합천군   19.44\n",
       "284    NaN  NaN     NaN\n",
       "285    NaN  NaN     NaN\n",
       "\n",
       "[286 rows x 3 columns]"
      ]
     },
     "execution_count": 31,
     "metadata": {},
     "output_type": "execute_result"
    }
   ],
   "source": [
    "bokgi.iloc[:,:-2]"
   ]
  },
  {
   "cell_type": "code",
   "execution_count": 32,
   "metadata": {},
   "outputs": [],
   "source": [
    "sigungu_ht = sigungu_ht.merge(bokgi.iloc[:,:-2], on=['시도','시군구'])"
   ]
  },
  {
   "cell_type": "code",
   "execution_count": 33,
   "metadata": {
    "scrolled": false
   },
   "outputs": [
    {
     "data": {
      "text/html": [
       "<div>\n",
       "<style scoped>\n",
       "    .dataframe tbody tr th:only-of-type {\n",
       "        vertical-align: middle;\n",
       "    }\n",
       "\n",
       "    .dataframe tbody tr th {\n",
       "        vertical-align: top;\n",
       "    }\n",
       "\n",
       "    .dataframe thead th {\n",
       "        text-align: right;\n",
       "    }\n",
       "</style>\n",
       "<table border=\"1\" class=\"dataframe\">\n",
       "  <thead>\n",
       "    <tr style=\"text-align: right;\">\n",
       "      <th></th>\n",
       "      <th>시도</th>\n",
       "      <th>시군구</th>\n",
       "      <th>지역</th>\n",
       "      <th>1인가구수</th>\n",
       "      <th>건강보험급여실적</th>\n",
       "      <th>기초수급자수</th>\n",
       "      <th>범죄발생건수(살인)</th>\n",
       "      <th>주민등록인구(14세이하)</th>\n",
       "      <th>자살 사망자수</th>\n",
       "      <th>주민등록인구</th>\n",
       "      <th>주민등록인구(60세이상)</th>\n",
       "      <th>독거노인수</th>\n",
       "      <th>반지하가구 수</th>\n",
       "      <th>우울감경험률</th>\n",
       "      <th>suicide</th>\n",
       "      <th>자살</th>\n",
       "      <th>재정자주도</th>\n",
       "      <th>재정자립도</th>\n",
       "      <th>고령인구수</th>\n",
       "      <th>의료보험료</th>\n",
       "      <th>범죄발생건수(폭력)</th>\n",
       "      <th>기초수급자수(65세이상)</th>\n",
       "      <th>감염병 사망자수</th>\n",
       "      <th>시군구내 전입자수</th>\n",
       "      <th>장애인수</th>\n",
       "      <th>질병이환 및 사망외인으로 인한 사망자수</th>\n",
       "      <th>초등학생수</th>\n",
       "      <th>구급발생건수</th>\n",
       "      <th>독거노인수</th>\n",
       "      <th>순이동자수</th>\n",
       "      <th>시가화율</th>\n",
       "      <th>일접근평균시간_병원</th>\n",
       "      <th>대중교통/도보</th>\n",
       "      <th>일접근평균시간_광역</th>\n",
       "      <th>공공의료</th>\n",
       "      <th>고령화지수</th>\n",
       "      <th>노인비율</th>\n",
       "      <th>평균접근시간</th>\n",
       "      <th>자살수2016</th>\n",
       "      <th>자살률2016</th>\n",
       "      <th>사회복지비율</th>\n",
       "    </tr>\n",
       "  </thead>\n",
       "  <tbody>\n",
       "    <tr>\n",
       "      <th>0</th>\n",
       "      <td>강원도</td>\n",
       "      <td>강릉시</td>\n",
       "      <td>2015_강원도_강릉시</td>\n",
       "      <td>1161.45445</td>\n",
       "      <td>1559476.199</td>\n",
       "      <td>314.30862</td>\n",
       "      <td>0.13901</td>\n",
       "      <td>1283.55429</td>\n",
       "      <td>3.66068</td>\n",
       "      <td>215807.0</td>\n",
       "      <td>2266.60859</td>\n",
       "      <td>404.29643</td>\n",
       "      <td>22.52012</td>\n",
       "      <td>4.7</td>\n",
       "      <td>1</td>\n",
       "      <td>4</td>\n",
       "      <td>64.61</td>\n",
       "      <td>17.39</td>\n",
       "      <td>1668.57424</td>\n",
       "      <td>6229719.75</td>\n",
       "      <td>68.02374</td>\n",
       "      <td>108.15219</td>\n",
       "      <td>2.03886</td>\n",
       "      <td>773.56156</td>\n",
       "      <td>605.49472</td>\n",
       "      <td>7.08967</td>\n",
       "      <td>522.87461</td>\n",
       "      <td>32.34371</td>\n",
       "      <td>404.29643</td>\n",
       "      <td>-37.53354</td>\n",
       "      <td>2.25</td>\n",
       "      <td>26.71</td>\n",
       "      <td>29.96</td>\n",
       "      <td>31.135</td>\n",
       "      <td>3.46</td>\n",
       "      <td>205.79842</td>\n",
       "      <td>23.836689</td>\n",
       "      <td>29.268333</td>\n",
       "      <td>73</td>\n",
       "      <td>34.4</td>\n",
       "      <td>31.57</td>\n",
       "    </tr>\n",
       "  </tbody>\n",
       "</table>\n",
       "</div>"
      ],
      "text/plain": [
       "    시도  시군구            지역       1인가구수     건강보험급여실적     기초수급자수  범죄발생건수(살인)  \\\n",
       "0  강원도  강릉시  2015_강원도_강릉시  1161.45445  1559476.199  314.30862     0.13901   \n",
       "\n",
       "   주민등록인구(14세이하)  자살 사망자수    주민등록인구  주민등록인구(60세이상)      독거노인수   반지하가구 수  \\\n",
       "0     1283.55429  3.66068  215807.0     2266.60859  404.29643  22.52012   \n",
       "\n",
       "   우울감경험률  suicide  자살  재정자주도  재정자립도       고령인구수       의료보험료  범죄발생건수(폭력)  \\\n",
       "0     4.7        1   4  64.61  17.39  1668.57424  6229719.75    68.02374   \n",
       "\n",
       "   기초수급자수(65세이상)  감염병 사망자수  시군구내 전입자수       장애인수  질병이환 및 사망외인으로 인한 사망자수  \\\n",
       "0      108.15219   2.03886  773.56156  605.49472                7.08967   \n",
       "\n",
       "       초등학생수    구급발생건수      독거노인수     순이동자수  시가화율  일접근평균시간_병원  대중교통/도보  \\\n",
       "0  522.87461  32.34371  404.29643 -37.53354  2.25       26.71    29.96   \n",
       "\n",
       "   일접근평균시간_광역  공공의료      고령화지수       노인비율     평균접근시간 자살수2016 자살률2016  사회복지비율  \n",
       "0      31.135  3.46  205.79842  23.836689  29.268333      73    34.4   31.57  "
      ]
     },
     "execution_count": 33,
     "metadata": {},
     "output_type": "execute_result"
    }
   ],
   "source": [
    "sigungu_ht.head(1)"
   ]
  },
  {
   "cell_type": "markdown",
   "metadata": {},
   "source": [
    "### 회귀식 만들어서 주요 변수 탐색"
   ]
  },
  {
   "cell_type": "code",
   "execution_count": 35,
   "metadata": {
    "scrolled": false
   },
   "outputs": [
    {
     "data": {
      "text/html": [
       "<table class=\"simpletable\">\n",
       "<caption>OLS Regression Results</caption>\n",
       "<tr>\n",
       "  <th>Dep. Variable:</th>           <td>자살</td>        <th>  R-squared:         </th> <td>   0.817</td>\n",
       "</tr>\n",
       "<tr>\n",
       "  <th>Model:</th>                   <td>OLS</td>       <th>  Adj. R-squared:    </th> <td>   0.807</td>\n",
       "</tr>\n",
       "<tr>\n",
       "  <th>Method:</th>             <td>Least Squares</td>  <th>  F-statistic:       </th> <td>   86.36</td>\n",
       "</tr>\n",
       "<tr>\n",
       "  <th>Date:</th>             <td>Wed, 11 Dec 2019</td> <th>  Prob (F-statistic):</th> <td>3.55e-72</td>\n",
       "</tr>\n",
       "<tr>\n",
       "  <th>Time:</th>                 <td>15:36:42</td>     <th>  Log-Likelihood:    </th> <td> -157.61</td>\n",
       "</tr>\n",
       "<tr>\n",
       "  <th>No. Observations:</th>      <td>   225</td>      <th>  AIC:               </th> <td>   339.2</td>\n",
       "</tr>\n",
       "<tr>\n",
       "  <th>Df Residuals:</th>          <td>   213</td>      <th>  BIC:               </th> <td>   380.2</td>\n",
       "</tr>\n",
       "<tr>\n",
       "  <th>Df Model:</th>              <td>    11</td>      <th>                     </th>     <td> </td>   \n",
       "</tr>\n",
       "<tr>\n",
       "  <th>Covariance Type:</th>      <td>nonrobust</td>    <th>                     </th>     <td> </td>   \n",
       "</tr>\n",
       "</table>\n",
       "<table class=\"simpletable\">\n",
       "<tr>\n",
       "       <td></td>          <th>coef</th>     <th>std err</th>      <th>t</th>      <th>P>|t|</th>  <th>[0.025</th>    <th>0.975]</th>  \n",
       "</tr>\n",
       "<tr>\n",
       "  <th>Intercept</th>   <td>    0.4882</td> <td>    0.631</td> <td>    0.774</td> <td> 0.440</td> <td>   -0.755</td> <td>    1.732</td>\n",
       "</tr>\n",
       "<tr>\n",
       "  <th>일인가구수</th>       <td>    0.0006</td> <td>    0.000</td> <td>    2.965</td> <td> 0.003</td> <td>    0.000</td> <td>    0.001</td>\n",
       "</tr>\n",
       "<tr>\n",
       "  <th>기초수급자수</th>      <td>    0.0022</td> <td>    0.000</td> <td>    5.210</td> <td> 0.000</td> <td>    0.001</td> <td>    0.003</td>\n",
       "</tr>\n",
       "<tr>\n",
       "  <th>자살사망자수</th>      <td>    0.8093</td> <td>    0.040</td> <td>   20.143</td> <td> 0.000</td> <td>    0.730</td> <td>    0.889</td>\n",
       "</tr>\n",
       "<tr>\n",
       "  <th>십사세이하주민등록인구</th> <td>   -0.0011</td> <td>    0.000</td> <td>   -4.767</td> <td> 0.000</td> <td>   -0.001</td> <td>   -0.001</td>\n",
       "</tr>\n",
       "<tr>\n",
       "  <th>의료보험료</th>       <td>-1.318e-07</td> <td> 3.35e-08</td> <td>   -3.933</td> <td> 0.000</td> <td>-1.98e-07</td> <td>-6.57e-08</td>\n",
       "</tr>\n",
       "<tr>\n",
       "  <th>시군구내전입자수</th>    <td>    0.0014</td> <td>    0.000</td> <td>    5.991</td> <td> 0.000</td> <td>    0.001</td> <td>    0.002</td>\n",
       "</tr>\n",
       "<tr>\n",
       "  <th>주민등록인구</th>      <td>-1.063e-06</td> <td> 2.68e-07</td> <td>   -3.960</td> <td> 0.000</td> <td>-1.59e-06</td> <td>-5.34e-07</td>\n",
       "</tr>\n",
       "<tr>\n",
       "  <th>평균접근시간</th>      <td>   -0.0102</td> <td>    0.003</td> <td>   -3.348</td> <td> 0.001</td> <td>   -0.016</td> <td>   -0.004</td>\n",
       "</tr>\n",
       "<tr>\n",
       "  <th>반지하가구수</th>      <td> 7.301e-05</td> <td>    0.000</td> <td>    0.171</td> <td> 0.865</td> <td>   -0.001</td> <td>    0.001</td>\n",
       "</tr>\n",
       "<tr>\n",
       "  <th>재정자립도</th>       <td>    0.0299</td> <td>    0.006</td> <td>    5.054</td> <td> 0.000</td> <td>    0.018</td> <td>    0.041</td>\n",
       "</tr>\n",
       "<tr>\n",
       "  <th>사회복지비율</th>      <td>    0.0125</td> <td>    0.005</td> <td>    2.623</td> <td> 0.009</td> <td>    0.003</td> <td>    0.022</td>\n",
       "</tr>\n",
       "</table>\n",
       "<table class=\"simpletable\">\n",
       "<tr>\n",
       "  <th>Omnibus:</th>       <td> 3.200</td> <th>  Durbin-Watson:     </th> <td>   1.826</td>\n",
       "</tr>\n",
       "<tr>\n",
       "  <th>Prob(Omnibus):</th> <td> 0.202</td> <th>  Jarque-Bera (JB):  </th> <td>   3.018</td>\n",
       "</tr>\n",
       "<tr>\n",
       "  <th>Skew:</th>          <td> 0.172</td> <th>  Prob(JB):          </th> <td>   0.221</td>\n",
       "</tr>\n",
       "<tr>\n",
       "  <th>Kurtosis:</th>      <td> 3.452</td> <th>  Cond. No.          </th> <td>1.35e+08</td>\n",
       "</tr>\n",
       "</table><br/><br/>Warnings:<br/>[1] Standard Errors assume that the covariance matrix of the errors is correctly specified.<br/>[2] The condition number is large, 1.35e+08. This might indicate that there are<br/>strong multicollinearity or other numerical problems."
      ],
      "text/plain": [
       "<class 'statsmodels.iolib.summary.Summary'>\n",
       "\"\"\"\n",
       "                            OLS Regression Results                            \n",
       "==============================================================================\n",
       "Dep. Variable:                     자살   R-squared:                       0.817\n",
       "Model:                            OLS   Adj. R-squared:                  0.807\n",
       "Method:                 Least Squares   F-statistic:                     86.36\n",
       "Date:                Wed, 11 Dec 2019   Prob (F-statistic):           3.55e-72\n",
       "Time:                        15:36:42   Log-Likelihood:                -157.61\n",
       "No. Observations:                 225   AIC:                             339.2\n",
       "Df Residuals:                     213   BIC:                             380.2\n",
       "Df Model:                          11                                         \n",
       "Covariance Type:            nonrobust                                         \n",
       "===============================================================================\n",
       "                  coef    std err          t      P>|t|      [0.025      0.975]\n",
       "-------------------------------------------------------------------------------\n",
       "Intercept       0.4882      0.631      0.774      0.440      -0.755       1.732\n",
       "일인가구수           0.0006      0.000      2.965      0.003       0.000       0.001\n",
       "기초수급자수          0.0022      0.000      5.210      0.000       0.001       0.003\n",
       "자살사망자수          0.8093      0.040     20.143      0.000       0.730       0.889\n",
       "십사세이하주민등록인구    -0.0011      0.000     -4.767      0.000      -0.001      -0.001\n",
       "의료보험료       -1.318e-07   3.35e-08     -3.933      0.000   -1.98e-07   -6.57e-08\n",
       "시군구내전입자수        0.0014      0.000      5.991      0.000       0.001       0.002\n",
       "주민등록인구      -1.063e-06   2.68e-07     -3.960      0.000   -1.59e-06   -5.34e-07\n",
       "평균접근시간         -0.0102      0.003     -3.348      0.001      -0.016      -0.004\n",
       "반지하가구수       7.301e-05      0.000      0.171      0.865      -0.001       0.001\n",
       "재정자립도           0.0299      0.006      5.054      0.000       0.018       0.041\n",
       "사회복지비율          0.0125      0.005      2.623      0.009       0.003       0.022\n",
       "==============================================================================\n",
       "Omnibus:                        3.200   Durbin-Watson:                   1.826\n",
       "Prob(Omnibus):                  0.202   Jarque-Bera (JB):                3.018\n",
       "Skew:                           0.172   Prob(JB):                        0.221\n",
       "Kurtosis:                       3.452   Cond. No.                     1.35e+08\n",
       "==============================================================================\n",
       "\n",
       "Warnings:\n",
       "[1] Standard Errors assume that the covariance matrix of the errors is correctly specified.\n",
       "[2] The condition number is large, 1.35e+08. This might indicate that there are\n",
       "strong multicollinearity or other numerical problems.\n",
       "\"\"\""
      ]
     },
     "execution_count": 35,
     "metadata": {},
     "output_type": "execute_result"
    }
   ],
   "source": [
    "import statsmodels.api as sm\n",
    "sigungu_ht1 = sigungu_ht\n",
    "sigungu_ht1.rename(columns={'반지하가구 수':'반지하가구수',\n",
    "                            '1인가구수':'일인가구수',\n",
    "                            '범죄발생건수(살인)':'살인범죄건수',\n",
    "                            '자살 사망자수':'자살사망자수',\n",
    "                            '주민등록인구(14세이하)':'십사세이하주민등록인구',\n",
    "                            '주민등록인구(60세이상)':'육십세이상주민등록인구',\n",
    "                            '기초수급자수(65세이상)':'육십오세이상기초수급자수',\n",
    "                            '범죄발생건수(폭력)':'폭력범죄발생건수',\n",
    "                            '감염병 사망자수':'감염병사망자수',\n",
    "                            '시군구내 전입자수':'시군구내전입자수',\n",
    "                            '질병이환 및 사망외인으로 인한 사망자수':'질병이환및사망자외인으로인한사망자수',\n",
    "                            '반지하가구 수':'반지하가구수'\n",
    "                                }, inplace=True)\n",
    "reg = sm.OLS.from_formula(\"자살 ~ 일인가구수+\\\n",
    "                          기초수급자수+\\\n",
    "                          자살사망자수+십사세이하주민등록인구+\\\n",
    "                          의료보험료+\\\n",
    "                          시군구내전입자수+주민등록인구+\\\n",
    "                          평균접근시간+\\\n",
    "                          반지하가구수+재정자립도+사회복지비율\\\n",
    "                          \", sigungu_ht1).fit()\n",
    "reg.summary()\n"
   ]
  },
  {
   "cell_type": "code",
   "execution_count": null,
   "metadata": {},
   "outputs": [],
   "source": []
  }
 ],
 "metadata": {
  "kernelspec": {
   "display_name": "Python 3",
   "language": "python",
   "name": "python3"
  },
  "language_info": {
   "codemirror_mode": {
    "name": "ipython",
    "version": 3
   },
   "file_extension": ".py",
   "mimetype": "text/x-python",
   "name": "python",
   "nbconvert_exporter": "python",
   "pygments_lexer": "ipython3",
   "version": "3.6.4"
  }
 },
 "nbformat": 4,
 "nbformat_minor": 2
}
