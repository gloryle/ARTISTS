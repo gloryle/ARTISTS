{
 "cells": [
  {
   "cell_type": "markdown",
   "metadata": {},
   "source": [
    "<pre>\n",
    "롱포맷에서 와이드포맷으로 변경된 파일[sigungu_wide.csv]가 생성됨\n",
    "\n",
    "EDA 및 머신러닝을 위해 와이드포맷으로 변경\n",
    "각 행에서 유일한 key값을 가지도록 '지역'열 추가\n",
    "</pre>"
   ]
  },
  {
   "cell_type": "markdown",
   "metadata": {},
   "source": [
    "## [시도] : 와이드 포맷"
   ]
  },
  {
   "cell_type": "code",
   "execution_count": 2,
   "metadata": {},
   "outputs": [],
   "source": [
    "path = './data/'\n",
    "import pandas as pd"
   ]
  },
  {
   "cell_type": "code",
   "execution_count": 3,
   "metadata": {},
   "outputs": [
    {
     "data": {
      "text/html": [
       "<div>\n",
       "<style scoped>\n",
       "    .dataframe tbody tr th:only-of-type {\n",
       "        vertical-align: middle;\n",
       "    }\n",
       "\n",
       "    .dataframe tbody tr th {\n",
       "        vertical-align: top;\n",
       "    }\n",
       "\n",
       "    .dataframe thead th {\n",
       "        text-align: right;\n",
       "    }\n",
       "</style>\n",
       "<table border=\"1\" class=\"dataframe\">\n",
       "  <thead>\n",
       "    <tr style=\"text-align: right;\">\n",
       "      <th></th>\n",
       "      <th>년도</th>\n",
       "      <th>시도</th>\n",
       "      <th>시군구</th>\n",
       "      <th>안전지표명</th>\n",
       "      <th>안전지표값</th>\n",
       "    </tr>\n",
       "  </thead>\n",
       "  <tbody>\n",
       "    <tr>\n",
       "      <td>0</td>\n",
       "      <td>2008</td>\n",
       "      <td>서울특별시</td>\n",
       "      <td>NaN</td>\n",
       "      <td>자연재해 발생건수</td>\n",
       "      <td>0.00330</td>\n",
       "    </tr>\n",
       "    <tr>\n",
       "      <td>1</td>\n",
       "      <td>2008</td>\n",
       "      <td>부산광역시</td>\n",
       "      <td>NaN</td>\n",
       "      <td>자연재해 발생건수</td>\n",
       "      <td>0.00131</td>\n",
       "    </tr>\n",
       "    <tr>\n",
       "      <td>2</td>\n",
       "      <td>2008</td>\n",
       "      <td>대구광역시</td>\n",
       "      <td>NaN</td>\n",
       "      <td>자연재해 발생건수</td>\n",
       "      <td>0.00226</td>\n",
       "    </tr>\n",
       "    <tr>\n",
       "      <td>3</td>\n",
       "      <td>2008</td>\n",
       "      <td>인천광역시</td>\n",
       "      <td>NaN</td>\n",
       "      <td>자연재해 발생건수</td>\n",
       "      <td>0.00298</td>\n",
       "    </tr>\n",
       "    <tr>\n",
       "      <td>4</td>\n",
       "      <td>2008</td>\n",
       "      <td>광주광역시</td>\n",
       "      <td>NaN</td>\n",
       "      <td>자연재해 발생건수</td>\n",
       "      <td>0.00997</td>\n",
       "    </tr>\n",
       "  </tbody>\n",
       "</table>\n",
       "</div>"
      ],
      "text/plain": [
       "     년도     시도  시군구      안전지표명    안전지표값\n",
       "0  2008  서울특별시  NaN  자연재해 발생건수  0.00330\n",
       "1  2008  부산광역시  NaN  자연재해 발생건수  0.00131\n",
       "2  2008  대구광역시  NaN  자연재해 발생건수  0.00226\n",
       "3  2008  인천광역시  NaN  자연재해 발생건수  0.00298\n",
       "4  2008  광주광역시  NaN  자연재해 발생건수  0.00997"
      ]
     },
     "execution_count": 3,
     "metadata": {},
     "output_type": "execute_result"
    }
   ],
   "source": [
    "sido = pd.read_csv(path + 'sido.csv', encoding='cp949', engine='python')\n",
    "sido.head()"
   ]
  },
  {
   "cell_type": "code",
   "execution_count": 4,
   "metadata": {},
   "outputs": [],
   "source": [
    "sido['지역'] = sido.년도.astype(str) +'_'+ sido.시도.astype(str)"
   ]
  },
  {
   "cell_type": "code",
   "execution_count": 5,
   "metadata": {
    "scrolled": false
   },
   "outputs": [],
   "source": [
    "#sigungu_wideformat\n",
    "sido_wide = sido.pivot_table(values='안전지표값',index=['년도','시도','지역'],columns='안전지표명')\n",
    "sido_wide.reset_index(level=['년도','시도','지역'],col_level=0,inplace=True)\n",
    "sido_wide.to_csv(path+'sido_wide.csv',encoding='cp949',index=False)"
   ]
  },
  {
   "cell_type": "code",
   "execution_count": 6,
   "metadata": {},
   "outputs": [
    {
     "data": {
      "text/plain": [
       "(132, 324)"
      ]
     },
     "execution_count": 6,
     "metadata": {},
     "output_type": "execute_result"
    }
   ],
   "source": [
    "sido_wide.shape"
   ]
  },
  {
   "cell_type": "code",
   "execution_count": 7,
   "metadata": {},
   "outputs": [
    {
     "data": {
      "text/html": [
       "<div>\n",
       "<style scoped>\n",
       "    .dataframe tbody tr th:only-of-type {\n",
       "        vertical-align: middle;\n",
       "    }\n",
       "\n",
       "    .dataframe tbody tr th {\n",
       "        vertical-align: top;\n",
       "    }\n",
       "\n",
       "    .dataframe thead th {\n",
       "        text-align: right;\n",
       "    }\n",
       "</style>\n",
       "<table border=\"1\" class=\"dataframe\">\n",
       "  <thead>\n",
       "    <tr style=\"text-align: right;\">\n",
       "      <th>안전지표명</th>\n",
       "      <th>년도</th>\n",
       "      <th>시도</th>\n",
       "      <th>지역</th>\n",
       "      <th>1인가구수</th>\n",
       "      <th>5대범죄 발생건수</th>\n",
       "      <th>가로등수</th>\n",
       "      <th>가스공급설비 면적</th>\n",
       "      <th>가스사고 발생건수</th>\n",
       "      <th>가스사고 부상자수</th>\n",
       "      <th>가스사고 사망자수</th>\n",
       "      <th>...</th>\n",
       "      <th>화재 사망자수</th>\n",
       "      <th>화재 피해액</th>\n",
       "      <th>화재 피해자수</th>\n",
       "      <th>화재구조실적</th>\n",
       "      <th>화재사망자(환산)</th>\n",
       "      <th>화재예방교육을 받은 주민 비율</th>\n",
       "      <th>화재피해 경감액</th>\n",
       "      <th>화학물질 및 화학제품 제조업 업체수(의약품제외)</th>\n",
       "      <th>화학물질 배출량</th>\n",
       "      <th>황사 발생건수</th>\n",
       "    </tr>\n",
       "  </thead>\n",
       "  <tbody>\n",
       "    <tr>\n",
       "      <td>0</td>\n",
       "      <td>2008</td>\n",
       "      <td>강원도</td>\n",
       "      <td>2008_강원도</td>\n",
       "      <td>NaN</td>\n",
       "      <td>NaN</td>\n",
       "      <td>337.70313</td>\n",
       "      <td>4.83781</td>\n",
       "      <td>NaN</td>\n",
       "      <td>NaN</td>\n",
       "      <td>NaN</td>\n",
       "      <td>...</td>\n",
       "      <td>0.13965</td>\n",
       "      <td>74581.15608</td>\n",
       "      <td>0.69158</td>\n",
       "      <td>3.82363</td>\n",
       "      <td>0.26359</td>\n",
       "      <td>134.03</td>\n",
       "      <td>4.111740e+05</td>\n",
       "      <td>0.71818</td>\n",
       "      <td>47.20130</td>\n",
       "      <td>0.00096</td>\n",
       "    </tr>\n",
       "    <tr>\n",
       "      <td>1</td>\n",
       "      <td>2008</td>\n",
       "      <td>경기도</td>\n",
       "      <td>2008_경기도</td>\n",
       "      <td>NaN</td>\n",
       "      <td>NaN</td>\n",
       "      <td>243.18014</td>\n",
       "      <td>26.34827</td>\n",
       "      <td>NaN</td>\n",
       "      <td>NaN</td>\n",
       "      <td>NaN</td>\n",
       "      <td>...</td>\n",
       "      <td>0.06933</td>\n",
       "      <td>63612.79018</td>\n",
       "      <td>0.52043</td>\n",
       "      <td>1.61981</td>\n",
       "      <td>0.14299</td>\n",
       "      <td>13.51</td>\n",
       "      <td>1.176675e+06</td>\n",
       "      <td>2.19787</td>\n",
       "      <td>785.64750</td>\n",
       "      <td>0.00148</td>\n",
       "    </tr>\n",
       "    <tr>\n",
       "      <td>2</td>\n",
       "      <td>2008</td>\n",
       "      <td>경상남도</td>\n",
       "      <td>2008_경상남도</td>\n",
       "      <td>NaN</td>\n",
       "      <td>NaN</td>\n",
       "      <td>367.58438</td>\n",
       "      <td>12.35899</td>\n",
       "      <td>NaN</td>\n",
       "      <td>NaN</td>\n",
       "      <td>NaN</td>\n",
       "      <td>...</td>\n",
       "      <td>0.13450</td>\n",
       "      <td>90510.52361</td>\n",
       "      <td>0.59432</td>\n",
       "      <td>6.26534</td>\n",
       "      <td>0.23507</td>\n",
       "      <td>24.58</td>\n",
       "      <td>3.436649e+06</td>\n",
       "      <td>1.74854</td>\n",
       "      <td>836.85569</td>\n",
       "      <td>0.00048</td>\n",
       "    </tr>\n",
       "  </tbody>\n",
       "</table>\n",
       "<p>3 rows × 324 columns</p>\n",
       "</div>"
      ],
      "text/plain": [
       "안전지표명    년도    시도         지역  1인가구수  5대범죄 발생건수       가로등수  가스공급설비 면적  \\\n",
       "0      2008   강원도   2008_강원도    NaN        NaN  337.70313    4.83781   \n",
       "1      2008   경기도   2008_경기도    NaN        NaN  243.18014   26.34827   \n",
       "2      2008  경상남도  2008_경상남도    NaN        NaN  367.58438   12.35899   \n",
       "\n",
       "안전지표명  가스사고 발생건수  가스사고 부상자수  가스사고 사망자수  ...  화재 사망자수       화재 피해액  화재 피해자수  \\\n",
       "0            NaN        NaN        NaN  ...  0.13965  74581.15608  0.69158   \n",
       "1            NaN        NaN        NaN  ...  0.06933  63612.79018  0.52043   \n",
       "2            NaN        NaN        NaN  ...  0.13450  90510.52361  0.59432   \n",
       "\n",
       "안전지표명   화재구조실적  화재사망자(환산)  화재예방교육을 받은 주민 비율      화재피해 경감액  \\\n",
       "0      3.82363    0.26359            134.03  4.111740e+05   \n",
       "1      1.61981    0.14299             13.51  1.176675e+06   \n",
       "2      6.26534    0.23507             24.58  3.436649e+06   \n",
       "\n",
       "안전지표명  화학물질 및 화학제품 제조업 업체수(의약품제외)   화학물질 배출량  황사 발생건수  \n",
       "0                         0.71818   47.20130  0.00096  \n",
       "1                         2.19787  785.64750  0.00148  \n",
       "2                         1.74854  836.85569  0.00048  \n",
       "\n",
       "[3 rows x 324 columns]"
      ]
     },
     "execution_count": 7,
     "metadata": {},
     "output_type": "execute_result"
    }
   ],
   "source": [
    "sido_wide.head(3)"
   ]
  },
  {
   "cell_type": "markdown",
   "metadata": {},
   "source": [
    "## [시군구] : 와이드 포맷"
   ]
  },
  {
   "cell_type": "code",
   "execution_count": 8,
   "metadata": {},
   "outputs": [],
   "source": [
    "path = './data/'\n",
    "import pandas as pd"
   ]
  },
  {
   "cell_type": "code",
   "execution_count": 28,
   "metadata": {},
   "outputs": [
    {
     "data": {
      "text/html": [
       "<div>\n",
       "<style scoped>\n",
       "    .dataframe tbody tr th:only-of-type {\n",
       "        vertical-align: middle;\n",
       "    }\n",
       "\n",
       "    .dataframe tbody tr th {\n",
       "        vertical-align: top;\n",
       "    }\n",
       "\n",
       "    .dataframe thead th {\n",
       "        text-align: right;\n",
       "    }\n",
       "</style>\n",
       "<table border=\"1\" class=\"dataframe\">\n",
       "  <thead>\n",
       "    <tr style=\"text-align: right;\">\n",
       "      <th></th>\n",
       "      <th>년도</th>\n",
       "      <th>시도</th>\n",
       "      <th>시군구</th>\n",
       "      <th>안전지표명</th>\n",
       "      <th>안전지표값</th>\n",
       "    </tr>\n",
       "  </thead>\n",
       "  <tbody>\n",
       "    <tr>\n",
       "      <td>0</td>\n",
       "      <td>2008</td>\n",
       "      <td>서울특별시</td>\n",
       "      <td>종로구</td>\n",
       "      <td>자연재해 발생건수</td>\n",
       "      <td>0.0</td>\n",
       "    </tr>\n",
       "    <tr>\n",
       "      <td>1</td>\n",
       "      <td>2008</td>\n",
       "      <td>서울특별시</td>\n",
       "      <td>중구</td>\n",
       "      <td>자연재해 발생건수</td>\n",
       "      <td>0.0</td>\n",
       "    </tr>\n",
       "    <tr>\n",
       "      <td>2</td>\n",
       "      <td>2008</td>\n",
       "      <td>서울특별시</td>\n",
       "      <td>용산구</td>\n",
       "      <td>자연재해 발생건수</td>\n",
       "      <td>0.0</td>\n",
       "    </tr>\n",
       "    <tr>\n",
       "      <td>3</td>\n",
       "      <td>2008</td>\n",
       "      <td>서울특별시</td>\n",
       "      <td>성동구</td>\n",
       "      <td>자연재해 발생건수</td>\n",
       "      <td>0.0</td>\n",
       "    </tr>\n",
       "    <tr>\n",
       "      <td>4</td>\n",
       "      <td>2008</td>\n",
       "      <td>서울특별시</td>\n",
       "      <td>광진구</td>\n",
       "      <td>자연재해 발생건수</td>\n",
       "      <td>0.0</td>\n",
       "    </tr>\n",
       "  </tbody>\n",
       "</table>\n",
       "</div>"
      ],
      "text/plain": [
       "     년도     시도  시군구      안전지표명  안전지표값\n",
       "0  2008  서울특별시  종로구  자연재해 발생건수    0.0\n",
       "1  2008  서울특별시   중구  자연재해 발생건수    0.0\n",
       "2  2008  서울특별시  용산구  자연재해 발생건수    0.0\n",
       "3  2008  서울특별시  성동구  자연재해 발생건수    0.0\n",
       "4  2008  서울특별시  광진구  자연재해 발생건수    0.0"
      ]
     },
     "execution_count": 28,
     "metadata": {},
     "output_type": "execute_result"
    }
   ],
   "source": [
    "sigungu = pd.read_csv(path + 'sigungu.csv', encoding='cp949', engine='python')\n",
    "sigungu.head()"
   ]
  },
  {
   "cell_type": "code",
   "execution_count": 37,
   "metadata": {},
   "outputs": [
    {
     "data": {
      "text/plain": [
       "230"
      ]
     },
     "execution_count": 37,
     "metadata": {},
     "output_type": "execute_result"
    }
   ],
   "source": [
    "a = sigungu.groupby(['시도','시군구']).sum().reset_index()\n",
    "a['지역'] = a.시도.astype(str) +'_'+ a.시군구.astype(str)\n",
    "a\n",
    "len(set(a.지역))"
   ]
  },
  {
   "cell_type": "code",
   "execution_count": 10,
   "metadata": {},
   "outputs": [],
   "source": [
    "sigungu['지역'] = sigungu.년도.astype(str) +'_'+ sigungu.시도.astype(str) +'_'+ sigungu.시군구.astype(str) "
   ]
  },
  {
   "cell_type": "code",
   "execution_count": 11,
   "metadata": {},
   "outputs": [],
   "source": [
    "#sigungu_wideformat\n",
    "sigungu_wide= sigungu.pivot_table(values='안전지표값',index=['년도','시도','시군구','지역'],columns='안전지표명')\n",
    "sigungu_wide.reset_index(level=['년도','시도','시군구','지역'],col_level=0,inplace=True)\n",
    "sigungu_wide.to_csv(path+'sigungu_wide.csv',encoding='cp949',index=False)"
   ]
  },
  {
   "cell_type": "code",
   "execution_count": 12,
   "metadata": {},
   "outputs": [
    {
     "data": {
      "text/html": [
       "<div>\n",
       "<style scoped>\n",
       "    .dataframe tbody tr th:only-of-type {\n",
       "        vertical-align: middle;\n",
       "    }\n",
       "\n",
       "    .dataframe tbody tr th {\n",
       "        vertical-align: top;\n",
       "    }\n",
       "\n",
       "    .dataframe thead th {\n",
       "        text-align: right;\n",
       "    }\n",
       "</style>\n",
       "<table border=\"1\" class=\"dataframe\">\n",
       "  <thead>\n",
       "    <tr style=\"text-align: right;\">\n",
       "      <th>안전지표명</th>\n",
       "      <th>년도</th>\n",
       "      <th>시도</th>\n",
       "      <th>시군구</th>\n",
       "      <th>지역</th>\n",
       "      <th>1인가구수</th>\n",
       "      <th>5대범죄 발생건수</th>\n",
       "      <th>가로등수</th>\n",
       "      <th>가스공급설비 면적</th>\n",
       "      <th>가스사고 발생건수</th>\n",
       "      <th>가스사고 부상자수</th>\n",
       "      <th>...</th>\n",
       "      <th>화재 발생건수</th>\n",
       "      <th>화재 사망자수</th>\n",
       "      <th>화재 피해액</th>\n",
       "      <th>화재 피해자수</th>\n",
       "      <th>화재구조실적</th>\n",
       "      <th>화재사망자(환산)</th>\n",
       "      <th>화재예방교육을 받은 주민 비율</th>\n",
       "      <th>화재피해 경감액</th>\n",
       "      <th>화학물질 및 화학제품 제조업 업체수(의약품제외)</th>\n",
       "      <th>황사 발생건수</th>\n",
       "    </tr>\n",
       "  </thead>\n",
       "  <tbody>\n",
       "    <tr>\n",
       "      <td>0</td>\n",
       "      <td>2008</td>\n",
       "      <td>강원도</td>\n",
       "      <td>강릉시</td>\n",
       "      <td>2008_강원도_강릉시</td>\n",
       "      <td>NaN</td>\n",
       "      <td>NaN</td>\n",
       "      <td>193.98233</td>\n",
       "      <td>NaN</td>\n",
       "      <td>NaN</td>\n",
       "      <td>NaN</td>\n",
       "      <td>...</td>\n",
       "      <td>14.46817</td>\n",
       "      <td>0.04535</td>\n",
       "      <td>41031.23129</td>\n",
       "      <td>0.40819</td>\n",
       "      <td>4.12728</td>\n",
       "      <td>0.15511</td>\n",
       "      <td>99.88</td>\n",
       "      <td>120718.1020</td>\n",
       "      <td>0.18142</td>\n",
       "      <td>0.01154</td>\n",
       "    </tr>\n",
       "    <tr>\n",
       "      <td>1</td>\n",
       "      <td>2008</td>\n",
       "      <td>강원도</td>\n",
       "      <td>고성군</td>\n",
       "      <td>2008_강원도_고성군</td>\n",
       "      <td>NaN</td>\n",
       "      <td>NaN</td>\n",
       "      <td>78.00415</td>\n",
       "      <td>NaN</td>\n",
       "      <td>NaN</td>\n",
       "      <td>NaN</td>\n",
       "      <td>...</td>\n",
       "      <td>24.02659</td>\n",
       "      <td>0.00000</td>\n",
       "      <td>93319.29039</td>\n",
       "      <td>0.65826</td>\n",
       "      <td>1.97479</td>\n",
       "      <td>0.18227</td>\n",
       "      <td>NaN</td>\n",
       "      <td>256935.7865</td>\n",
       "      <td>NaN</td>\n",
       "      <td>NaN</td>\n",
       "    </tr>\n",
       "    <tr>\n",
       "      <td>2</td>\n",
       "      <td>2008</td>\n",
       "      <td>강원도</td>\n",
       "      <td>동해시</td>\n",
       "      <td>2008_강원도_동해시</td>\n",
       "      <td>NaN</td>\n",
       "      <td>NaN</td>\n",
       "      <td>424.40922</td>\n",
       "      <td>NaN</td>\n",
       "      <td>NaN</td>\n",
       "      <td>NaN</td>\n",
       "      <td>...</td>\n",
       "      <td>12.41568</td>\n",
       "      <td>0.10346</td>\n",
       "      <td>24486.09444</td>\n",
       "      <td>0.51732</td>\n",
       "      <td>4.24202</td>\n",
       "      <td>0.19765</td>\n",
       "      <td>442.98</td>\n",
       "      <td>349764.8264</td>\n",
       "      <td>0.31039</td>\n",
       "      <td>0.05553</td>\n",
       "    </tr>\n",
       "  </tbody>\n",
       "</table>\n",
       "<p>3 rows × 304 columns</p>\n",
       "</div>"
      ],
      "text/plain": [
       "안전지표명    년도   시도  시군구            지역  1인가구수  5대범죄 발생건수       가로등수  가스공급설비 면적  \\\n",
       "0      2008  강원도  강릉시  2008_강원도_강릉시    NaN        NaN  193.98233        NaN   \n",
       "1      2008  강원도  고성군  2008_강원도_고성군    NaN        NaN   78.00415        NaN   \n",
       "2      2008  강원도  동해시  2008_강원도_동해시    NaN        NaN  424.40922        NaN   \n",
       "\n",
       "안전지표명  가스사고 발생건수  가스사고 부상자수  ...   화재 발생건수  화재 사망자수       화재 피해액  화재 피해자수  \\\n",
       "0            NaN        NaN  ...  14.46817  0.04535  41031.23129  0.40819   \n",
       "1            NaN        NaN  ...  24.02659  0.00000  93319.29039  0.65826   \n",
       "2            NaN        NaN  ...  12.41568  0.10346  24486.09444  0.51732   \n",
       "\n",
       "안전지표명   화재구조실적  화재사망자(환산)  화재예방교육을 받은 주민 비율     화재피해 경감액  \\\n",
       "0      4.12728    0.15511             99.88  120718.1020   \n",
       "1      1.97479    0.18227               NaN  256935.7865   \n",
       "2      4.24202    0.19765            442.98  349764.8264   \n",
       "\n",
       "안전지표명  화학물질 및 화학제품 제조업 업체수(의약품제외)  황사 발생건수  \n",
       "0                         0.18142  0.01154  \n",
       "1                             NaN      NaN  \n",
       "2                         0.31039  0.05553  \n",
       "\n",
       "[3 rows x 304 columns]"
      ]
     },
     "execution_count": 12,
     "metadata": {},
     "output_type": "execute_result"
    }
   ],
   "source": [
    "sigungu_wide.head(3)"
   ]
  },
  {
   "cell_type": "code",
   "execution_count": 14,
   "metadata": {},
   "outputs": [
    {
     "name": "stdout",
     "output_type": "stream",
     "text": [
      "(1838, 304)\n"
     ]
    },
    {
     "data": {
      "text/plain": [
       "<matplotlib.axes._subplots.AxesSubplot at 0x1d260a20>"
      ]
     },
     "execution_count": 14,
     "metadata": {},
     "output_type": "execute_result"
    }
   ],
   "source": [
    "import missingno as msno\n",
    "print(sigungu_wide.shape)\n",
    "msno.matrix(sigungu_wide)"
   ]
  },
  {
   "cell_type": "code",
   "execution_count": 15,
   "metadata": {},
   "outputs": [
    {
     "data": {
      "text/plain": [
       "<matplotlib.axes._subplots.AxesSubplot at 0x1d6a8400>"
      ]
     },
     "execution_count": 15,
     "metadata": {},
     "output_type": "execute_result"
    },
    {
     "data": {
      "image/png": "[encoded data removed]",
      "text/plain": [
       "<Figure size 1800x720 with 2 Axes>"
      ]
     },
     "metadata": {},
     "output_type": "display_data"
    }
   ],
   "source": [
    "msno.matrix(sigungu_wide)"
   ]
  },
  {
   "cell_type": "code",
   "execution_count": null,
   "metadata": {},
   "outputs": [],
   "source": []
  }
 ],
 "metadata": {
  "kernelspec": {
   "display_name": "Python 3",
   "language": "python",
   "name": "python3"
  },
  "language_info": {
   "codemirror_mode": {
    "name": "ipython",
    "version": 3
   },
   "file_extension": ".py",
   "mimetype": "text/x-python",
   "name": "python",
   "nbconvert_exporter": "python",
   "pygments_lexer": "ipython3",
   "version": "3.6.4"
  }
 },
 "nbformat": 4,
 "nbformat_minor": 2
}
