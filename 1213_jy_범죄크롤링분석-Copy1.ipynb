{
 "cells": [
  {
   "cell_type": "code",
   "execution_count": 59,
   "metadata": {},
   "outputs": [],
   "source": [
    "import pandas as pd"
   ]
  },
  {
   "cell_type": "markdown",
   "metadata": {},
   "source": [
    "# 크롤링데이터 로드"
   ]
  },
  {
   "cell_type": "code",
   "execution_count": 60,
   "metadata": {},
   "outputs": [
    {
     "data": {
      "text/plain": [
       "(77630, 20)"
      ]
     },
     "execution_count": 60,
     "metadata": {},
     "output_type": "execute_result"
    }
   ],
   "source": [
    "범죄웹크롤링 = 'C:/Users/COM/Desktop/범죄웹크롤링/'\n",
    "keywords = ['범죄','이혼','가정폭력','우범']\n",
    "범죄1=pd.read_csv(범죄웹크롤링+'범죄_15-1.csv', encoding='cp949')\n",
    "범죄2=pd.read_csv(범죄웹크롤링+'범죄_15-2.csv', encoding='cp949')\n",
    "범죄3=pd.read_csv(범죄웹크롤링+'범죄_15-3.csv', encoding='cp949')\n",
    "범죄4=pd.read_csv(범죄웹크롤링+'범죄_15-4.csv', encoding='cp949')\n",
    "범죄5=pd.read_csv(범죄웹크롤링+'범죄_15-5.csv', encoding='cp949')\n",
    "# 범죄뉴스 = pd.concat([df1,df2,df3,df4,df5])\n",
    "범죄2015 = pd.concat([범죄1,범죄2,범죄3,범죄4,범죄5])\n",
    "범죄2015.reset_index(inplace=True)\n",
    "범죄2015.shape"
   ]
  },
  {
   "cell_type": "code",
   "execution_count": 61,
   "metadata": {},
   "outputs": [
    {
     "data": {
      "text/plain": [
       "(77270, 20)"
      ]
     },
     "execution_count": 61,
     "metadata": {},
     "output_type": "execute_result"
    }
   ],
   "source": [
    "범죄1=pd.read_csv(범죄웹크롤링+'범죄_16-1.csv', encoding='cp949')\n",
    "범죄2=pd.read_csv(범죄웹크롤링+'범죄_16-2.csv', encoding='cp949')\n",
    "범죄3=pd.read_csv(범죄웹크롤링+'범죄_16-3.csv', encoding='cp949')\n",
    "범죄4=pd.read_csv(범죄웹크롤링+'범죄_16-4.csv', encoding='cp949')\n",
    "# 범죄뉴스 = pd.concat([df1,df2,df3,df4,df5])\n",
    "범죄2016 = pd.concat([범죄1,범죄2,범죄3,범죄4])\n",
    "범죄2016.reset_index(inplace=True)\n",
    "범죄2016.shape"
   ]
  },
  {
   "cell_type": "code",
   "execution_count": 62,
   "metadata": {},
   "outputs": [
    {
     "data": {
      "text/plain": [
       "(77145, 20)"
      ]
     },
     "execution_count": 62,
     "metadata": {},
     "output_type": "execute_result"
    }
   ],
   "source": [
    "범죄1=pd.read_csv(범죄웹크롤링+'범죄_17-1.csv', encoding='cp949')\n",
    "범죄2=pd.read_csv(범죄웹크롤링+'범죄_17-2.csv', encoding='cp949')\n",
    "범죄3=pd.read_csv(범죄웹크롤링+'범죄_17-3.csv', encoding='cp949')\n",
    "범죄4=pd.read_csv(범죄웹크롤링+'범죄_17-4.csv', encoding='cp949')\n",
    "# 범죄뉴스 = pd.concat([df1,df2,df3,df4,df5])\n",
    "범죄2017 = pd.concat([범죄1,범죄2,범죄3,범죄4])\n",
    "범죄2017.reset_index(inplace=True)\n",
    "범죄2017.shape"
   ]
  },
  {
   "cell_type": "code",
   "execution_count": 63,
   "metadata": {},
   "outputs": [
    {
     "data": {
      "text/plain": [
       "(10551, 20)"
      ]
     },
     "execution_count": 63,
     "metadata": {},
     "output_type": "execute_result"
    }
   ],
   "source": [
    "# 범죄1=pd.read_csv(범죄웹크롤링+'범죄_18-1.csv', encoding='cp949')\n",
    "# 범죄2=pd.read_csv(범죄웹크롤링+'범죄_18-2.csv', encoding='cp949')\n",
    "# 범죄3=pd.read_csv(범죄웹크롤링+'범죄_18-3.csv', encoding='cp949')\n",
    "범죄2018=pd.read_csv(범죄웹크롤링+'범죄_18-4.csv', encoding='cp949')\n",
    "# 범죄뉴스 = pd.concat([df1,df2,df3,df4,df5])\n",
    "# 범죄2018 = pd.concat([범죄1,범죄2,범죄3,범죄4])\n",
    "범죄2018.reset_index(inplace=True)\n",
    "범죄2018.shape"
   ]
  },
  {
   "cell_type": "code",
   "execution_count": 64,
   "metadata": {},
   "outputs": [
    {
     "data": {
      "text/plain": [
       "(72397, 20)"
      ]
     },
     "execution_count": 64,
     "metadata": {},
     "output_type": "execute_result"
    }
   ],
   "source": [
    "범죄1=pd.read_csv(범죄웹크롤링+'범죄_12-1.csv', encoding='cp949')\n",
    "범죄2=pd.read_csv(범죄웹크롤링+'범죄_12-2.csv', encoding='cp949')\n",
    "범죄3=pd.read_csv(범죄웹크롤링+'범죄_12-3.csv', encoding='cp949')\n",
    "범죄4=pd.read_csv(범죄웹크롤링+'범죄_12-4.csv', encoding='cp949')\n",
    "# 범죄뉴스 = pd.concat([df1,df2,df3,df4,df5])\n",
    "범죄2012 = pd.concat([범죄1,범죄2,범죄3,범죄4])\n",
    "범죄2012.reset_index(inplace=True)\n",
    "범죄2012.shape"
   ]
  },
  {
   "cell_type": "code",
   "execution_count": 65,
   "metadata": {},
   "outputs": [
    {
     "data": {
      "text/plain": [
       "(72277, 20)"
      ]
     },
     "execution_count": 65,
     "metadata": {},
     "output_type": "execute_result"
    }
   ],
   "source": [
    "범죄1=pd.read_csv(범죄웹크롤링+'범죄_13-1.csv', encoding='cp949')\n",
    "범죄2=pd.read_csv(범죄웹크롤링+'범죄_13-2.csv', encoding='cp949')\n",
    "범죄3=pd.read_csv(범죄웹크롤링+'범죄_13-3.csv', encoding='cp949')\n",
    "범죄4=pd.read_csv(범죄웹크롤링+'범죄_13-4.csv', encoding='cp949')\n",
    "# 범죄뉴스 = pd.concat([df1,df2,df3,df4,df5])\n",
    "범죄2013 = pd.concat([범죄1,범죄2,범죄3,범죄4])\n",
    "범죄2013.reset_index(inplace=True)\n",
    "범죄2013.shape"
   ]
  },
  {
   "cell_type": "code",
   "execution_count": 66,
   "metadata": {},
   "outputs": [
    {
     "data": {
      "text/plain": [
       "(94315, 20)"
      ]
     },
     "execution_count": 66,
     "metadata": {},
     "output_type": "execute_result"
    }
   ],
   "source": [
    "범죄1=pd.read_csv(범죄웹크롤링+'범죄_14-1.csv', encoding='cp949')\n",
    "범죄2=pd.read_csv(범죄웹크롤링+'범죄_14-2.csv', encoding='cp949')\n",
    "범죄3=pd.read_csv(범죄웹크롤링+'범죄_14-3.csv', encoding='cp949')\n",
    "범죄4=pd.read_csv(범죄웹크롤링+'범죄_14-4.csv', encoding='cp949')\n",
    "범죄5=pd.read_csv(범죄웹크롤링+'범죄_14-5.csv', encoding='cp949')\n",
    "# 범죄뉴스 = pd.concat([df1,df2,df3,df4,df5])\n",
    "범죄2014 = pd.concat([범죄1,범죄2,범죄3,범죄4,범죄5])\n",
    "범죄2014.reset_index(inplace=True)\n",
    "범죄2014.shape"
   ]
  },
  {
   "cell_type": "code",
   "execution_count": 67,
   "metadata": {},
   "outputs": [
    {
     "data": {
      "text/plain": [
       "(481585, 21)"
      ]
     },
     "execution_count": 67,
     "metadata": {},
     "output_type": "execute_result"
    }
   ],
   "source": [
    "범죄뉴스 = pd.concat([범죄2012,범죄2013,범죄2014,범죄2015,범죄2016,범죄2017,범죄2018])\n",
    "범죄뉴스.reset_index(inplace=True)\n",
    "범죄뉴스.shape"
   ]
  },
  {
   "cell_type": "code",
   "execution_count": 68,
   "metadata": {},
   "outputs": [
    {
     "data": {
      "text/plain": [
       "(126514, 20)"
      ]
     },
     "execution_count": 68,
     "metadata": {},
     "output_type": "execute_result"
    }
   ],
   "source": [
    "이혼1=pd.read_csv(범죄웹크롤링+'이혼_2015-1.csv', encoding='cp949')\n",
    "이혼2=pd.read_csv(범죄웹크롤링+'이혼_2015-2.csv', encoding='cp949')\n",
    "df0=pd.read_csv(범죄웹크롤링+'이혼_2012.csv', encoding='cp949')\n",
    "df1=pd.read_csv(범죄웹크롤링+'이혼_2013.csv', encoding='cp949')\n",
    "df2=pd.read_csv(범죄웹크롤링+'이혼_2014-1.csv', encoding='cp949')\n",
    "df3=pd.read_csv(범죄웹크롤링+'이혼_2014-2.csv', encoding='cp949')\n",
    "df4=pd.read_csv(범죄웹크롤링+'이혼_2016.csv', encoding='cp949')\n",
    "df5=pd.read_csv(범죄웹크롤링+'이혼_2017.csv', encoding='cp949')\n",
    "df6=pd.read_csv(범죄웹크롤링+'이혼_2018.csv', encoding='cp949')\n",
    "\n",
    "이혼뉴스 = pd.concat([이혼1,이혼2,df0,df1,df2,df3,df4,df5,df6])\n",
    "이혼뉴스.reset_index(inplace=True)\n",
    "이혼뉴스.shape"
   ]
  },
  {
   "cell_type": "code",
   "execution_count": 69,
   "metadata": {},
   "outputs": [
    {
     "data": {
      "text/plain": [
       "(20000, 19)"
      ]
     },
     "execution_count": 69,
     "metadata": {},
     "output_type": "execute_result"
    }
   ],
   "source": [
    "가정폭력뉴스=pd.read_csv(범죄웹크롤링+'가정폭력.csv', encoding='cp949')\n",
    "가정폭력뉴스=pd.read_csv(범죄웹크롤링+'가정폭력_1218.csv', encoding='cp949')\n",
    "가정폭력뉴스.shape"
   ]
  },
  {
   "cell_type": "code",
   "execution_count": 70,
   "metadata": {},
   "outputs": [
    {
     "data": {
      "text/plain": [
       "(1283, 19)"
      ]
     },
     "execution_count": 70,
     "metadata": {},
     "output_type": "execute_result"
    }
   ],
   "source": [
    "우범뉴스=pd.read_csv(범죄웹크롤링+'우범.csv', encoding='cp949')\n",
    "우범뉴스.shape"
   ]
  },
  {
   "cell_type": "code",
   "execution_count": 71,
   "metadata": {},
   "outputs": [
    {
     "data": {
      "text/plain": [
       "(6978, 19)"
      ]
     },
     "execution_count": 71,
     "metadata": {},
     "output_type": "execute_result"
    }
   ],
   "source": [
    "학교폭력뉴스=pd.read_csv(범죄웹크롤링+'학교폭력.csv', encoding='cp949')\n",
    "학교폭력뉴스.shape"
   ]
  },
  {
   "cell_type": "markdown",
   "metadata": {},
   "source": [
    "# 함수"
   ]
  },
  {
   "cell_type": "markdown",
   "metadata": {},
   "source": [
    "### 함수1: 주어진df에대해 분류의 집합을 구하는 함수"
   ]
  },
  {
   "cell_type": "code",
   "execution_count": 72,
   "metadata": {},
   "outputs": [],
   "source": [
    "def 사건사고분류(df):\n",
    "    사건사고분류리스트=[]\n",
    "    for i in range(3):\n",
    "        row = '사건/사고 분류'+f'{i+1}'\n",
    "        사건사고분류리스트 = 사건사고분류리스트+list(set(df[row].dropna().values))\n",
    "    for i in range(len(사건사고분류리스트)):\n",
    "        사건사고분류리스트[i] = 사건사고분류리스트[i].strip()\n",
    "    사건사고분류 = set(사건사고분류리스트)\n",
    "    return 사건사고분류\n",
    "\n",
    "def 통합분류(df):\n",
    "    통합분류리스트=[]\n",
    "    for i in range(3):\n",
    "        row = '통합 분류'+f'{i+1}'\n",
    "        통합분류리스트 = 통합분류리스트+list(set(df[row].dropna().values))\n",
    "    for i in range(len(통합분류리스트)):\n",
    "        통합분류리스트[i] = 통합분류리스트[i].strip()\n",
    "    통합분류 = set(통합분류리스트)\n",
    "    return 통합분류"
   ]
  },
  {
   "cell_type": "markdown",
   "metadata": {},
   "source": [
    "### 함수2:\n",
    "<pre>\n",
    "#wordfrequencygraph\n",
    "시리즈를 넣으면 빈도분석그래프를 그리는 함수\n",
    "#keywordseries2list\n",
    "시리즈(한elem이 한기사내의 단어string)-->리스트(한단어가 한elem) 즉, token\n",
    "</pre>\n",
    "*키워드열 혹은 특성분석열로 그릴 수 있다."
   ]
  },
  {
   "cell_type": "code",
   "execution_count": 73,
   "metadata": {},
   "outputs": [],
   "source": [
    "import pandas as pd\n",
    "import nltk\n",
    "from konlpy.tag import Komoran\n",
    "from wordcloud import WordCloud\n",
    "from wordcloud import STOPWORDS\n",
    "import matplotlib.pyplot as plt\n",
    "%matplotlib inline\n",
    "komoran = Komoran()\n",
    "plt.rc('font',family='Malgun Gothic')\n",
    "plt.rcParams['axes.unicode_minus'] = False"
   ]
  },
  {
   "cell_type": "code",
   "execution_count": 74,
   "metadata": {},
   "outputs": [],
   "source": [
    "def remove_values_from_list(objectlist,removelist):\n",
    "    for val in removelist:\n",
    "        objectlist.remove(val)\n",
    "    return objectlist"
   ]
  },
  {
   "cell_type": "code",
   "execution_count": 75,
   "metadata": {},
   "outputs": [],
   "source": [
    "def keywordseries2list(series):\n",
    "    kwlst = list(series)\n",
    "    wordlist=[]\n",
    "    for i in range(len(kwlst)):\n",
    "        wordlist += str(kwlst[i]).split(\",\")\n",
    "    print(f'token: wordlist with {len(wordlist)}words')\n",
    "    return wordlist\n",
    "    #'float' object has no attribute 'split' : 숫자만 들어있는게 있나봐\n",
    "def wordfrequencygraph(seriesorlist, stopwordlist=[],repworddict={}): #{바뀌게 될 문자열:바꿀 문자열}\n",
    "    if type(seriesorlist)==list:\n",
    "        print('make list to token')\n",
    "        print(f'token: wordlist with {len(seriesorlist)}words')\n",
    "        tokens = seriesorlist\n",
    "    if type(seriesorlist)==pd.core.series.Series:\n",
    "        print('make series to token')\n",
    "        tokens = keywordseries2list(seriesorlist)\n",
    "        \n",
    "        \n",
    "#         #트랜잭션 만들기 (기사단위)\n",
    "#     tran_org= []\n",
    "#     for i in range(len(seriesorlist)):\n",
    "#         tran_org.append(str(seriesorlist[i]).split(','))\n",
    "#     #stop_word 지정 \n",
    "#     stop_lst=set(stopwordlist)\n",
    "#     #동의어 대체과정 {바뀌게 될 문자열:바꿀 문자열}\n",
    "#     rep_words = repworddict\n",
    "#     tran_filtered = []\n",
    "#     for i, tran in enumerate(tran_org):\n",
    "#         tran_filtered.append([])\n",
    "#         for w in tran:\n",
    "#             if (w not in stop_lst) and (w not in rep_words.keys()):\n",
    "#                 tran_filtered[i].append(w)\n",
    "#             elif w in rep_words.keys():\n",
    "#                 tran_filtered[i].append(rep_words[w])\n",
    "#     from itertools import chain\n",
    "#     tokens = list(chain.from_iterable(tran_filtered)) #2차원 리스트 1차원으로 풀어준다\n",
    "    vocab = nltk.Text(tokens)\n",
    "    plt.figure(figsize=(16,4))\n",
    "    plt.title('빈도분석')\n",
    "    vocab.plot(50)\n",
    "    plt.show()\n",
    "    return vocab"
   ]
  },
  {
   "cell_type": "markdown",
   "metadata": {},
   "source": [
    "### 함수3 :\n",
    "<pre>\n",
    "#필터링키워드를 넣으면 해당뉴스를 반환하는 함수\n",
    "범죄뉴스(전체데이터프레임)과 필터링할분류(미성년범죄), 필터링시작점(8)을 넣으면 해당뉴스를 반환하는 함수\n",
    "#df=범죄뉴스, filt='사건/사고 분류'or'통합 분류', k=8, keyword ='미성년범죄'\n",
    "</pre>"
   ]
  },
  {
   "cell_type": "code",
   "execution_count": 76,
   "metadata": {},
   "outputs": [],
   "source": [
    "def classifyfilter(df,filt,m,n,keyword,state):\n",
    "    # 특정 사건사고분류를 제외한 인덱스를 가져온다.\n",
    "    indexlist=[]\n",
    "    for j in range(3):\n",
    "        row = filt+f'{j+1}'\n",
    "        print(row)\n",
    "        for i in range(len(df)):\n",
    "            for word in keyword:\n",
    "                if str(df[row][i])[m:n] == word:\n",
    "                    #print(str(범죄뉴스['사건/사고 분류1'][i])[8:])\n",
    "                    indexlist.append(i)\n",
    "    print(f'{len(df)-len(indexlist)} news passed filter')\n",
    "    #전체데이터프레임에서 조건에 해당하는 뉴스행만 뽑는다.\n",
    "    return df.loc[df.index.isin(indexlist)==state]"
   ]
  },
  {
   "cell_type": "code",
   "execution_count": 77,
   "metadata": {},
   "outputs": [
    {
     "data": {
      "text/plain": [
       "[2, 3, 4, 5]"
      ]
     },
     "execution_count": 77,
     "metadata": {},
     "output_type": "execute_result"
    }
   ],
   "source": [
    "test = [1,2,3,4,5]\n",
    "test.remove(1)\n",
    "test"
   ]
  },
  {
   "cell_type": "markdown",
   "metadata": {},
   "source": [
    "### 함수4: 제목들의 명사리스트를 만드는 함수\n",
    "<pre>\n",
    "#분할된 시리즈.tolist()를 반복적으로 읽어 통합된리스트(한word가 한elem)로 만드는 함수\n",
    "#리스트를 반복해서 건네고 마지막 titlelist를 만든다.\n",
    "</pre>"
   ]
  },
  {
   "cell_type": "code",
   "execution_count": 78,
   "metadata": {},
   "outputs": [],
   "source": [
    "import re\n",
    "#여러개의 읽은 파일들에서  나중에 제목의 명사만 통합할 리스트.\n",
    "titlenouns=[]\n",
    "def titlelist2titlenouns(lst):\n",
    "    for i,elem in enumerate(lst):\n",
    "        elem = re.sub('[^0-9a-zA-Zㄱ-힗]', ' ', str(elem))\n",
    "    #리스트의 한elem단위로 토크나이징\n",
    "    transaction = []\n",
    "    for n in lst:\n",
    "        transelem = komoran.nouns(str(n))\n",
    "        transaction.append(transelem)\n",
    "    #한글자제거\n",
    "    fin_lst=[]\n",
    "    for n in transaction:\n",
    "        two_lst = []\n",
    "        for i in n:\n",
    "            if len(i)<=1:\n",
    "                pass\n",
    "            else:\n",
    "                two_lst.append(i)\n",
    "        fin_lst.append(two_lst)\n",
    "    #명사리스트로\n",
    "    for i in fin_lst:\n",
    "        for n in i:\n",
    "            titlenouns.append(n)\n",
    "    print(f'titlenouns with {len(titlenouns)} words')\n",
    "    return titlenouns"
   ]
  },
  {
   "cell_type": "code",
   "execution_count": 79,
   "metadata": {},
   "outputs": [],
   "source": [
    "#확장: 트랜잭션만드는함수들\n",
    "def list2transaction(lst): #제목리스트를 바꿈\n",
    "    for i,elem in enumerate(lst):\n",
    "        elem = re.sub('[^0-9a-zA-Zㄱ-힗]', ' ', str(elem))\n",
    "    #리스트의 한elem단위로 토크나이징\n",
    "    transaction = []\n",
    "    for n in lst:\n",
    "        transelem = komoran.nouns(str(n))\n",
    "        transaction.append(transelem)\n",
    "    #한글자제거\n",
    "    fin_lst=[]\n",
    "    for n in transaction:\n",
    "        two_lst = []\n",
    "        for i in n:\n",
    "            if len(i)<=1:\n",
    "                pass\n",
    "            else:\n",
    "                two_lst.append(i)\n",
    "        fin_lst.append(two_lst)\n",
    "    return fin_lst\n",
    "def series2transaction(series): #키워드, 특성추출을 바꿈\n",
    "    lst = list(series)\n",
    "    transaction=[]\n",
    "    for i in range(len(lst)):\n",
    "        transaction.append(list(str(lst[i]).split(\",\")))\n",
    "    print(f'token: wordlist with {len(transaction)}words')\n",
    "    return transaction"
   ]
  },
  {
   "cell_type": "markdown",
   "metadata": {},
   "source": [
    "## plotly 빈도그래프함수"
   ]
  },
  {
   "cell_type": "code",
   "execution_count": 54,
   "metadata": {},
   "outputs": [],
   "source": [
    "#vocab이 가지는 상위단어들과 그 갯수를 보여줍니다. droplist를 정하세요\n",
    "def plotlist(vocab):\n",
    "    #lst:리스트안에 튜플단위로 단어와 카운트가 들어있음 [('범죄', 15434), ('혐의', 12183)]\n",
    "    lst = sorted(vocab.vocab().items(),\n",
    "           key=lambda x: x[1], reverse=True)[:150] #숫자 바꾸어 상위 키워드 개수 조절\n",
    "    #df는 voca가 index인 데이터프레임.  drop인덱스를 통해 쉽게 단어를 제거할 수 있다.\n",
    "    vocalst=[]\n",
    "    countslst=[]\n",
    "    for n in range(len(lst)):\n",
    "        vocalst.append(lst[n][0])\n",
    "        countslst.append(lst[n][1])\n",
    "    df = pd.DataFrame({'voca':vocalst,'count':countslst})\n",
    "    df = df.set_index('voca')\n",
    "    return df, lst"
   ]
  },
  {
   "cell_type": "code",
   "execution_count": 57,
   "metadata": {},
   "outputs": [],
   "source": [
    "#지정한 단어들을 제외하고 플랏을 그려줍니다.\n",
    "import plotly.graph_objects as go\n",
    "import numpy as np\n",
    "def dropnplot(df, mainlist):\n",
    "    #df2:특정 단어를 제외하고 데이터프레임으로 만들어짐.\n",
    "    df2 = df.drop(~mainlist).reset_index()\n",
    "    #19개까지 그래프를 그려줌\n",
    "    df3 = df2.iloc[:19]\n",
    "    fig = go.Figure(data=go.Scatter(x=df3['voca'].tolist(), y=df3['count'].tolist()))\n",
    "    #marker=dict(color='darkcyan')\n",
    "    fig.update_layout(autosize=False,width=1000,height=400)\n",
    "    fig.show()\n",
    "    return df2.voca.tolist()"
   ]
  },
  {
   "cell_type": "code",
   "execution_count": 58,
   "metadata": {},
   "outputs": [],
   "source": [
    "def freqplot(df3):\n",
    "    fig = go.Figure(data=go.Scatter(x=df3['voca'].tolist(), y=df3['count'].tolist()))\n",
    "    #marker=dict(color='darkcyan')\n",
    "    fig.update_layout(autosize=False,width=1000,height=400)\n",
    "    fig.show()"
   ]
  },
  {
   "cell_type": "code",
   "execution_count": null,
   "metadata": {},
   "outputs": [],
   "source": [
    "이혼droplist=['이혼','결혼','남편','아내','부부','사랑','사람','자신','생각','여성','사이',\n",
    "         '방송','모습','사실','경찰','시작','A씨','배우','미국','사진',\n",
    "         '공개','사건','이야기','마음','영화','출연','아버지','드라마',\n",
    "         '상황','지원','정도','서울','이날','생활','한국','부인','조사',\n",
    "         '남성','운세','대통령','결국','대표','가구','주장',\n",
    "         '보도','과거','프로그램','변호사','MBN','인터뷰','설명','대상','결과','증가',\n",
    "         '혼인','확인','활동','상태','관심','인정','소식','결정','얘기',\n",
    "         '감독','정부','1년','김씨','입장','MBC','아빠','연기','건강','경제',\n",
    "         '영국','혐의','엄마','여자','남자','진행','행복','회장','상담','어머니']"
   ]
  },
  {
   "cell_type": "markdown",
   "metadata": {},
   "source": [
    "# filtered"
   ]
  },
  {
   "cell_type": "code",
   "execution_count": null,
   "metadata": {},
   "outputs": [],
   "source": [
    "# [필터링 제목]:미성년범죄"
   ]
  },
  {
   "cell_type": "code",
   "execution_count": 80,
   "metadata": {},
   "outputs": [
    {
     "data": {
      "text/plain": [
       "(126514, 20)"
      ]
     },
     "execution_count": 80,
     "metadata": {},
     "output_type": "execute_result"
    }
   ],
   "source": [
    "이혼뉴스.shape"
   ]
  },
  {
   "cell_type": "code",
   "execution_count": 81,
   "metadata": {},
   "outputs": [
    {
     "data": {
      "text/plain": [
       "32088"
      ]
     },
     "execution_count": 81,
     "metadata": {},
     "output_type": "execute_result"
    }
   ],
   "source": [
    "len(이혼뉴스.loc[이혼뉴스['통합 분류1']=='문화>방송_연예'])"
   ]
  },
  {
   "cell_type": "code",
   "execution_count": 97,
   "metadata": {},
   "outputs": [
    {
     "name": "stdout",
     "output_type": "stream",
     "text": [
      "사건/사고 분류1\n",
      "사건/사고 분류2\n",
      "사건/사고 분류3\n",
      "126402 news passed filter\n"
     ]
    }
   ],
   "source": [
    "# 전체뉴스_필터단어 = classifyfilter(이혼뉴스,'통합 분류',0,2,['문화'], state=0)\n",
    "전체뉴스_필터단어 = classifyfilter(이혼뉴스,'사건/사고 분류',8,11,['미성년'], state=1)\n",
    "# #[제목명사]\n",
    "# titlenouns=[]\n",
    "# titlenouns = titlelist2titlenouns(전체뉴스_필터단어.제목.tolist())\n",
    "# wordfrequencygraph(titlenouns)\n",
    "# # [내용 특성추출]\n",
    "# wordfrequencygraph(전체뉴스_필터단어.특성추출)"
   ]
  },
  {
   "cell_type": "code",
   "execution_count": 105,
   "metadata": {},
   "outputs": [
    {
     "data": {
      "text/plain": [
       "(20000, 19)"
      ]
     },
     "execution_count": 105,
     "metadata": {},
     "output_type": "execute_result"
    }
   ],
   "source": [
    "가정폭력뉴스.shape"
   ]
  },
  {
   "cell_type": "code",
   "execution_count": 106,
   "metadata": {
    "scrolled": false
   },
   "outputs": [
    {
     "name": "stdout",
     "output_type": "stream",
     "text": [
      "make series to token\n",
      "token: wordlist with 3173096words\n"
     ]
    },
    {
     "data": {
      "image/png": "[encoded data removed]",
      "text/plain": [
       "<Figure size 1152x288 with 1 Axes>"
      ]
     },
     "metadata": {
      "needs_background": "light"
     },
     "output_type": "display_data"
    }
   ],
   "source": [
    "# titlenouns=[]\n",
    "# titlenouns = titlelist2titlenouns(가정폭력뉴스.제목.tolist())\n",
    "# vocabs1 = wordfrequencygraph(titlenouns)\n",
    "vocabs = wordfrequencygraph(가정폭력뉴스.키워드)"
   ]
  },
  {
   "cell_type": "code",
   "execution_count": 95,
   "metadata": {},
   "outputs": [],
   "source": [
    "# plotdf,lst = plotlist(vocabs)\n",
    "# 빈분 = 'C:/Users/COM/Desktop/빈도분석그래프/'\n",
    "# plotdf.to_csv(빈분+'가정폭력뉴스2.csv',encoding='cp949') #####\n",
    "# # plotdf"
   ]
  },
  {
   "cell_type": "code",
   "execution_count": 115,
   "metadata": {},
   "outputs": [
    {
     "data": {
      "application/vnd.plotly.v1+json": {
       "config": {
        "plotlyServerURL": "https://plot.ly"
       },
       "data": [
        {
         "type": "scatter",
         "x": [
          "소송",
          "혐의",
          "사건",
          "자녀",
          "가정",
          "아들",
          "부모",
          "아이",
          "가구",
          "사회",
          "법원",
          "혼인",
          "재산",
          "판결",
          "합의",
          "아이들",
          "폭행",
          "요구",
          "살해"
         ],
         "y": [
          33719,
          31823,
          27338,
          26469,
          25297,
          23896,
          23718,
          22487,
          22333,
          21718,
          20086,
          19387,
          16399,
          14864,
          14250,
          13950,
          13626,
          13242,
          12050
         ]
        }
       ],
       "layout": {
        "autosize": false,
        "height": 400,
        "template": {
         "data": {
          "bar": [
           {
            "error_x": {
             "color": "#2a3f5f"
            },
            "error_y": {
             "color": "#2a3f5f"
            },
            "marker": {
             "line": {
              "color": "#E5ECF6",
              "width": 0.5
             }
            },
            "type": "bar"
           }
          ],
          "barpolar": [
           {
            "marker": {
             "line": {
              "color": "#E5ECF6",
              "width": 0.5
             }
            },
            "type": "barpolar"
           }
          ],
          "carpet": [
           {
            "aaxis": {
             "endlinecolor": "#2a3f5f",
             "gridcolor": "white",
             "linecolor": "white",
             "minorgridcolor": "white",
             "startlinecolor": "#2a3f5f"
            },
            "baxis": {
             "endlinecolor": "#2a3f5f",
             "gridcolor": "white",
             "linecolor": "white",
             "minorgridcolor": "white",
             "startlinecolor": "#2a3f5f"
            },
            "type": "carpet"
           }
          ],
          "choropleth": [
           {
            "colorbar": {
             "outlinewidth": 0,
             "ticks": ""
            },
            "type": "choropleth"
           }
          ],
          "contour": [
           {
            "colorbar": {
             "outlinewidth": 0,
             "ticks": ""
            },
            "colorscale": [
             [
              0,
              "#0d0887"
             ],
             [
              0.1111111111111111,
              "#46039f"
             ],
             [
              0.2222222222222222,
              "#7201a8"
             ],
             [
              0.3333333333333333,
              "#9c179e"
             ],
             [
              0.4444444444444444,
              "#bd3786"
             ],
             [
              0.5555555555555556,
              "#d8576b"
             ],
             [
              0.6666666666666666,
              "#ed7953"
             ],
             [
              0.7777777777777778,
              "#fb9f3a"
             ],
             [
              0.8888888888888888,
              "#fdca26"
             ],
             [
              1,
              "#f0f921"
             ]
            ],
            "type": "contour"
           }
          ],
          "contourcarpet": [
           {
            "colorbar": {
             "outlinewidth": 0,
             "ticks": ""
            },
            "type": "contourcarpet"
           }
          ],
          "heatmap": [
           {
            "colorbar": {
             "outlinewidth": 0,
             "ticks": ""
            },
            "colorscale": [
             [
              0,
              "#0d0887"
             ],
             [
              0.1111111111111111,
              "#46039f"
             ],
             [
              0.2222222222222222,
              "#7201a8"
             ],
             [
              0.3333333333333333,
              "#9c179e"
             ],
             [
              0.4444444444444444,
              "#bd3786"
             ],
             [
              0.5555555555555556,
              "#d8576b"
             ],
             [
              0.6666666666666666,
              "#ed7953"
             ],
             [
              0.7777777777777778,
              "#fb9f3a"
             ],
             [
              0.8888888888888888,
              "#fdca26"
             ],
             [
              1,
              "#f0f921"
             ]
            ],
            "type": "heatmap"
           }
          ],
          "heatmapgl": [
           {
            "colorbar": {
             "outlinewidth": 0,
             "ticks": ""
            },
            "colorscale": [
             [
              0,
              "#0d0887"
             ],
             [
              0.1111111111111111,
              "#46039f"
             ],
             [
              0.2222222222222222,
              "#7201a8"
             ],
             [
              0.3333333333333333,
              "#9c179e"
             ],
             [
              0.4444444444444444,
              "#bd3786"
             ],
             [
              0.5555555555555556,
              "#d8576b"
             ],
             [
              0.6666666666666666,
              "#ed7953"
             ],
             [
              0.7777777777777778,
              "#fb9f3a"
             ],
             [
              0.8888888888888888,
              "#fdca26"
             ],
             [
              1,
              "#f0f921"
             ]
            ],
            "type": "heatmapgl"
           }
          ],
          "histogram": [
           {
            "marker": {
             "colorbar": {
              "outlinewidth": 0,
              "ticks": ""
             }
            },
            "type": "histogram"
           }
          ],
          "histogram2d": [
           {
            "colorbar": {
             "outlinewidth": 0,
             "ticks": ""
            },
            "colorscale": [
             [
              0,
              "#0d0887"
             ],
             [
              0.1111111111111111,
              "#46039f"
             ],
             [
              0.2222222222222222,
              "#7201a8"
             ],
             [
              0.3333333333333333,
              "#9c179e"
             ],
             [
              0.4444444444444444,
              "#bd3786"
             ],
             [
              0.5555555555555556,
              "#d8576b"
             ],
             [
              0.6666666666666666,
              "#ed7953"
             ],
             [
              0.7777777777777778,
              "#fb9f3a"
             ],
             [
              0.8888888888888888,
              "#fdca26"
             ],
             [
              1,
              "#f0f921"
             ]
            ],
            "type": "histogram2d"
           }
          ],
          "histogram2dcontour": [
           {
            "colorbar": {
             "outlinewidth": 0,
             "ticks": ""
            },
            "colorscale": [
             [
              0,
              "#0d0887"
             ],
             [
              0.1111111111111111,
              "#46039f"
             ],
             [
              0.2222222222222222,
              "#7201a8"
             ],
             [
              0.3333333333333333,
              "#9c179e"
             ],
             [
              0.4444444444444444,
              "#bd3786"
             ],
             [
              0.5555555555555556,
              "#d8576b"
             ],
             [
              0.6666666666666666,
              "#ed7953"
             ],
             [
              0.7777777777777778,
              "#fb9f3a"
             ],
             [
              0.8888888888888888,
              "#fdca26"
             ],
             [
              1,
              "#f0f921"
             ]
            ],
            "type": "histogram2dcontour"
           }
          ],
          "mesh3d": [
           {
            "colorbar": {
             "outlinewidth": 0,
             "ticks": ""
            },
            "type": "mesh3d"
           }
          ],
          "parcoords": [
           {
            "line": {
             "colorbar": {
              "outlinewidth": 0,
              "ticks": ""
             }
            },
            "type": "parcoords"
           }
          ],
          "pie": [
           {
            "automargin": true,
            "type": "pie"
           }
          ],
          "scatter": [
           {
            "marker": {
             "colorbar": {
              "outlinewidth": 0,
              "ticks": ""
             }
            },
            "type": "scatter"
           }
          ],
          "scatter3d": [
           {
            "line": {
             "colorbar": {
              "outlinewidth": 0,
              "ticks": ""
             }
            },
            "marker": {
             "colorbar": {
              "outlinewidth": 0,
              "ticks": ""
             }
            },
            "type": "scatter3d"
           }
          ],
          "scattercarpet": [
           {
            "marker": {
             "colorbar": {
              "outlinewidth": 0,
              "ticks": ""
             }
            },
            "type": "scattercarpet"
           }
          ],
          "scattergeo": [
           {
            "marker": {
             "colorbar": {
              "outlinewidth": 0,
              "ticks": ""
             }
            },
            "type": "scattergeo"
           }
          ],
          "scattergl": [
           {
            "marker": {
             "colorbar": {
              "outlinewidth": 0,
              "ticks": ""
             }
            },
            "type": "scattergl"
           }
          ],
          "scattermapbox": [
           {
            "marker": {
             "colorbar": {
              "outlinewidth": 0,
              "ticks": ""
             }
            },
            "type": "scattermapbox"
           }
          ],
          "scatterpolar": [
           {
            "marker": {
             "colorbar": {
              "outlinewidth": 0,
              "ticks": ""
             }
            },
            "type": "scatterpolar"
           }
          ],
          "scatterpolargl": [
           {
            "marker": {
             "colorbar": {
              "outlinewidth": 0,
              "ticks": ""
             }
            },
            "type": "scatterpolargl"
           }
          ],
          "scatterternary": [
           {
            "marker": {
             "colorbar": {
              "outlinewidth": 0,
              "ticks": ""
             }
            },
            "type": "scatterternary"
           }
          ],
          "surface": [
           {
            "colorbar": {
             "outlinewidth": 0,
             "ticks": ""
            },
            "colorscale": [
             [
              0,
              "#0d0887"
             ],
             [
              0.1111111111111111,
              "#46039f"
             ],
             [
              0.2222222222222222,
              "#7201a8"
             ],
             [
              0.3333333333333333,
              "#9c179e"
             ],
             [
              0.4444444444444444,
              "#bd3786"
             ],
             [
              0.5555555555555556,
              "#d8576b"
             ],
             [
              0.6666666666666666,
              "#ed7953"
             ],
             [
              0.7777777777777778,
              "#fb9f3a"
             ],
             [
              0.8888888888888888,
              "#fdca26"
             ],
             [
              1,
              "#f0f921"
             ]
            ],
            "type": "surface"
           }
          ],
          "table": [
           {
            "cells": {
             "fill": {
              "color": "#EBF0F8"
             },
             "line": {
              "color": "white"
             }
            },
            "header": {
             "fill": {
              "color": "#C8D4E3"
             },
             "line": {
              "color": "white"
             }
            },
            "type": "table"
           }
          ]
         },
         "layout": {
          "annotationdefaults": {
           "arrowcolor": "#2a3f5f",
           "arrowhead": 0,
           "arrowwidth": 1
          },
          "coloraxis": {
           "colorbar": {
            "outlinewidth": 0,
            "ticks": ""
           }
          },
          "colorscale": {
           "diverging": [
            [
             0,
             "#8e0152"
            ],
            [
             0.1,
             "#c51b7d"
            ],
            [
             0.2,
             "#de77ae"
            ],
            [
             0.3,
             "#f1b6da"
            ],
            [
             0.4,
             "#fde0ef"
            ],
            [
             0.5,
             "#f7f7f7"
            ],
            [
             0.6,
             "#e6f5d0"
            ],
            [
             0.7,
             "#b8e186"
            ],
            [
             0.8,
             "#7fbc41"
            ],
            [
             0.9,
             "#4d9221"
            ],
            [
             1,
             "#276419"
            ]
           ],
           "sequential": [
            [
             0,
             "#0d0887"
            ],
            [
             0.1111111111111111,
             "#46039f"
            ],
            [
             0.2222222222222222,
             "#7201a8"
            ],
            [
             0.3333333333333333,
             "#9c179e"
            ],
            [
             0.4444444444444444,
             "#bd3786"
            ],
            [
             0.5555555555555556,
             "#d8576b"
            ],
            [
             0.6666666666666666,
             "#ed7953"
            ],
            [
             0.7777777777777778,
             "#fb9f3a"
            ],
            [
             0.8888888888888888,
             "#fdca26"
            ],
            [
             1,
             "#f0f921"
            ]
           ],
           "sequentialminus": [
            [
             0,
             "#0d0887"
            ],
            [
             0.1111111111111111,
             "#46039f"
            ],
            [
             0.2222222222222222,
             "#7201a8"
            ],
            [
             0.3333333333333333,
             "#9c179e"
            ],
            [
             0.4444444444444444,
             "#bd3786"
            ],
            [
             0.5555555555555556,
             "#d8576b"
            ],
            [
             0.6666666666666666,
             "#ed7953"
            ],
            [
             0.7777777777777778,
             "#fb9f3a"
            ],
            [
             0.8888888888888888,
             "#fdca26"
            ],
            [
             1,
             "#f0f921"
            ]
           ]
          },
          "colorway": [
           "#636efa",
           "#EF553B",
           "#00cc96",
           "#ab63fa",
           "#FFA15A",
           "#19d3f3",
           "#FF6692",
           "#B6E880",
           "#FF97FF",
           "#FECB52"
          ],
          "font": {
           "color": "#2a3f5f"
          },
          "geo": {
           "bgcolor": "white",
           "lakecolor": "white",
           "landcolor": "#E5ECF6",
           "showlakes": true,
           "showland": true,
           "subunitcolor": "white"
          },
          "hoverlabel": {
           "align": "left"
          },
          "hovermode": "closest",
          "mapbox": {
           "style": "light"
          },
          "paper_bgcolor": "white",
          "plot_bgcolor": "#E5ECF6",
          "polar": {
           "angularaxis": {
            "gridcolor": "white",
            "linecolor": "white",
            "ticks": ""
           },
           "bgcolor": "#E5ECF6",
           "radialaxis": {
            "gridcolor": "white",
            "linecolor": "white",
            "ticks": ""
           }
          },
          "scene": {
           "xaxis": {
            "backgroundcolor": "#E5ECF6",
            "gridcolor": "white",
            "gridwidth": 2,
            "linecolor": "white",
            "showbackground": true,
            "ticks": "",
            "zerolinecolor": "white"
           },
           "yaxis": {
            "backgroundcolor": "#E5ECF6",
            "gridcolor": "white",
            "gridwidth": 2,
            "linecolor": "white",
            "showbackground": true,
            "ticks": "",
            "zerolinecolor": "white"
           },
           "zaxis": {
            "backgroundcolor": "#E5ECF6",
            "gridcolor": "white",
            "gridwidth": 2,
            "linecolor": "white",
            "showbackground": true,
            "ticks": "",
            "zerolinecolor": "white"
           }
          },
          "shapedefaults": {
           "line": {
            "color": "#2a3f5f"
           }
          },
          "ternary": {
           "aaxis": {
            "gridcolor": "white",
            "linecolor": "white",
            "ticks": ""
           },
           "baxis": {
            "gridcolor": "white",
            "linecolor": "white",
            "ticks": ""
           },
           "bgcolor": "#E5ECF6",
           "caxis": {
            "gridcolor": "white",
            "linecolor": "white",
            "ticks": ""
           }
          },
          "title": {
           "x": 0.05
          },
          "xaxis": {
           "automargin": true,
           "gridcolor": "white",
           "linecolor": "white",
           "ticks": "",
           "title": {
            "standoff": 15
           },
           "zerolinecolor": "white",
           "zerolinewidth": 2
          },
          "yaxis": {
           "automargin": true,
           "gridcolor": "white",
           "linecolor": "white",
           "ticks": "",
           "title": {
            "standoff": 15
           },
           "zerolinecolor": "white",
           "zerolinewidth": 2
          }
         }
        },
        "width": 1000
       }
      },
      "text/html": [
       "<div>\n",
       "        \n",
       "        \n",
       "            <div id=\"35fdadd8-646c-4b84-b9df-9ac7fcfce855\" class=\"plotly-graph-div\" style=\"height:400px; width:1000px;\"></div>\n",
       "            <script type=\"text/javascript\">\n",
       "                require([\"plotly\"], function(Plotly) {\n",
       "                    window.PLOTLYENV=window.PLOTLYENV || {};\n",
       "                    \n",
       "                if (document.getElementById(\"35fdadd8-646c-4b84-b9df-9ac7fcfce855\")) {\n",
       "                    Plotly.newPlot(\n",
       "                        '35fdadd8-646c-4b84-b9df-9ac7fcfce855',\n",
       "                        [{\"type\": \"scatter\", \"x\": [\"\\uc18c\\uc1a1\", \"\\ud610\\uc758\", \"\\uc0ac\\uac74\", \"\\uc790\\ub140\", \"\\uac00\\uc815\", \"\\uc544\\ub4e4\", \"\\ubd80\\ubaa8\", \"\\uc544\\uc774\", \"\\uac00\\uad6c\", \"\\uc0ac\\ud68c\", \"\\ubc95\\uc6d0\", \"\\ud63c\\uc778\", \"\\uc7ac\\uc0b0\", \"\\ud310\\uacb0\", \"\\ud569\\uc758\", \"\\uc544\\uc774\\ub4e4\", \"\\ud3ed\\ud589\", \"\\uc694\\uad6c\", \"\\uc0b4\\ud574\"], \"y\": [33719, 31823, 27338, 26469, 25297, 23896, 23718, 22487, 22333, 21718, 20086, 19387, 16399, 14864, 14250, 13950, 13626, 13242, 12050]}],\n",
       "                        {\"autosize\": false, \"height\": 400, \"template\": {\"data\": {\"bar\": [{\"error_x\": {\"color\": \"#2a3f5f\"}, \"error_y\": {\"color\": \"#2a3f5f\"}, \"marker\": {\"line\": {\"color\": \"#E5ECF6\", \"width\": 0.5}}, \"type\": \"bar\"}], \"barpolar\": [{\"marker\": {\"line\": {\"color\": \"#E5ECF6\", \"width\": 0.5}}, \"type\": \"barpolar\"}], \"carpet\": [{\"aaxis\": {\"endlinecolor\": \"#2a3f5f\", \"gridcolor\": \"white\", \"linecolor\": \"white\", \"minorgridcolor\": \"white\", \"startlinecolor\": \"#2a3f5f\"}, \"baxis\": {\"endlinecolor\": \"#2a3f5f\", \"gridcolor\": \"white\", \"linecolor\": \"white\", \"minorgridcolor\": \"white\", \"startlinecolor\": \"#2a3f5f\"}, \"type\": \"carpet\"}], \"choropleth\": [{\"colorbar\": {\"outlinewidth\": 0, \"ticks\": \"\"}, \"type\": \"choropleth\"}], \"contour\": [{\"colorbar\": {\"outlinewidth\": 0, \"ticks\": \"\"}, \"colorscale\": [[0.0, \"#0d0887\"], [0.1111111111111111, \"#46039f\"], [0.2222222222222222, \"#7201a8\"], [0.3333333333333333, \"#9c179e\"], [0.4444444444444444, \"#bd3786\"], [0.5555555555555556, \"#d8576b\"], [0.6666666666666666, \"#ed7953\"], [0.7777777777777778, \"#fb9f3a\"], [0.8888888888888888, \"#fdca26\"], [1.0, \"#f0f921\"]], \"type\": \"contour\"}], \"contourcarpet\": [{\"colorbar\": {\"outlinewidth\": 0, \"ticks\": \"\"}, \"type\": \"contourcarpet\"}], \"heatmap\": [{\"colorbar\": {\"outlinewidth\": 0, \"ticks\": \"\"}, \"colorscale\": [[0.0, \"#0d0887\"], [0.1111111111111111, \"#46039f\"], [0.2222222222222222, \"#7201a8\"], [0.3333333333333333, \"#9c179e\"], [0.4444444444444444, \"#bd3786\"], [0.5555555555555556, \"#d8576b\"], [0.6666666666666666, \"#ed7953\"], [0.7777777777777778, \"#fb9f3a\"], [0.8888888888888888, \"#fdca26\"], [1.0, \"#f0f921\"]], \"type\": \"heatmap\"}], \"heatmapgl\": [{\"colorbar\": {\"outlinewidth\": 0, \"ticks\": \"\"}, \"colorscale\": [[0.0, \"#0d0887\"], [0.1111111111111111, \"#46039f\"], [0.2222222222222222, \"#7201a8\"], [0.3333333333333333, \"#9c179e\"], [0.4444444444444444, \"#bd3786\"], [0.5555555555555556, \"#d8576b\"], [0.6666666666666666, \"#ed7953\"], [0.7777777777777778, \"#fb9f3a\"], [0.8888888888888888, \"#fdca26\"], [1.0, \"#f0f921\"]], \"type\": \"heatmapgl\"}], \"histogram\": [{\"marker\": {\"colorbar\": {\"outlinewidth\": 0, \"ticks\": \"\"}}, \"type\": \"histogram\"}], \"histogram2d\": [{\"colorbar\": {\"outlinewidth\": 0, \"ticks\": \"\"}, \"colorscale\": [[0.0, \"#0d0887\"], [0.1111111111111111, \"#46039f\"], [0.2222222222222222, \"#7201a8\"], [0.3333333333333333, \"#9c179e\"], [0.4444444444444444, \"#bd3786\"], [0.5555555555555556, \"#d8576b\"], [0.6666666666666666, \"#ed7953\"], [0.7777777777777778, \"#fb9f3a\"], [0.8888888888888888, \"#fdca26\"], [1.0, \"#f0f921\"]], \"type\": \"histogram2d\"}], \"histogram2dcontour\": [{\"colorbar\": {\"outlinewidth\": 0, \"ticks\": \"\"}, \"colorscale\": [[0.0, \"#0d0887\"], [0.1111111111111111, \"#46039f\"], [0.2222222222222222, \"#7201a8\"], [0.3333333333333333, \"#9c179e\"], [0.4444444444444444, \"#bd3786\"], [0.5555555555555556, \"#d8576b\"], [0.6666666666666666, \"#ed7953\"], [0.7777777777777778, \"#fb9f3a\"], [0.8888888888888888, \"#fdca26\"], [1.0, \"#f0f921\"]], \"type\": \"histogram2dcontour\"}], \"mesh3d\": [{\"colorbar\": {\"outlinewidth\": 0, \"ticks\": \"\"}, \"type\": \"mesh3d\"}], \"parcoords\": [{\"line\": {\"colorbar\": {\"outlinewidth\": 0, \"ticks\": \"\"}}, \"type\": \"parcoords\"}], \"pie\": [{\"automargin\": true, \"type\": \"pie\"}], \"scatter\": [{\"marker\": {\"colorbar\": {\"outlinewidth\": 0, \"ticks\": \"\"}}, \"type\": \"scatter\"}], \"scatter3d\": [{\"line\": {\"colorbar\": {\"outlinewidth\": 0, \"ticks\": \"\"}}, \"marker\": {\"colorbar\": {\"outlinewidth\": 0, \"ticks\": \"\"}}, \"type\": \"scatter3d\"}], \"scattercarpet\": [{\"marker\": {\"colorbar\": {\"outlinewidth\": 0, \"ticks\": \"\"}}, \"type\": \"scattercarpet\"}], \"scattergeo\": [{\"marker\": {\"colorbar\": {\"outlinewidth\": 0, \"ticks\": \"\"}}, \"type\": \"scattergeo\"}], \"scattergl\": [{\"marker\": {\"colorbar\": {\"outlinewidth\": 0, \"ticks\": \"\"}}, \"type\": \"scattergl\"}], \"scattermapbox\": [{\"marker\": {\"colorbar\": {\"outlinewidth\": 0, \"ticks\": \"\"}}, \"type\": \"scattermapbox\"}], \"scatterpolar\": [{\"marker\": {\"colorbar\": {\"outlinewidth\": 0, \"ticks\": \"\"}}, \"type\": \"scatterpolar\"}], \"scatterpolargl\": [{\"marker\": {\"colorbar\": {\"outlinewidth\": 0, \"ticks\": \"\"}}, \"type\": \"scatterpolargl\"}], \"scatterternary\": [{\"marker\": {\"colorbar\": {\"outlinewidth\": 0, \"ticks\": \"\"}}, \"type\": \"scatterternary\"}], \"surface\": [{\"colorbar\": {\"outlinewidth\": 0, \"ticks\": \"\"}, \"colorscale\": [[0.0, \"#0d0887\"], [0.1111111111111111, \"#46039f\"], [0.2222222222222222, \"#7201a8\"], [0.3333333333333333, \"#9c179e\"], [0.4444444444444444, \"#bd3786\"], [0.5555555555555556, \"#d8576b\"], [0.6666666666666666, \"#ed7953\"], [0.7777777777777778, \"#fb9f3a\"], [0.8888888888888888, \"#fdca26\"], [1.0, \"#f0f921\"]], \"type\": \"surface\"}], \"table\": [{\"cells\": {\"fill\": {\"color\": \"#EBF0F8\"}, \"line\": {\"color\": \"white\"}}, \"header\": {\"fill\": {\"color\": \"#C8D4E3\"}, \"line\": {\"color\": \"white\"}}, \"type\": \"table\"}]}, \"layout\": {\"annotationdefaults\": {\"arrowcolor\": \"#2a3f5f\", \"arrowhead\": 0, \"arrowwidth\": 1}, \"coloraxis\": {\"colorbar\": {\"outlinewidth\": 0, \"ticks\": \"\"}}, \"colorscale\": {\"diverging\": [[0, \"#8e0152\"], [0.1, \"#c51b7d\"], [0.2, \"#de77ae\"], [0.3, \"#f1b6da\"], [0.4, \"#fde0ef\"], [0.5, \"#f7f7f7\"], [0.6, \"#e6f5d0\"], [0.7, \"#b8e186\"], [0.8, \"#7fbc41\"], [0.9, \"#4d9221\"], [1, \"#276419\"]], \"sequential\": [[0.0, \"#0d0887\"], [0.1111111111111111, \"#46039f\"], [0.2222222222222222, \"#7201a8\"], [0.3333333333333333, \"#9c179e\"], [0.4444444444444444, \"#bd3786\"], [0.5555555555555556, \"#d8576b\"], [0.6666666666666666, \"#ed7953\"], [0.7777777777777778, \"#fb9f3a\"], [0.8888888888888888, \"#fdca26\"], [1.0, \"#f0f921\"]], \"sequentialminus\": [[0.0, \"#0d0887\"], [0.1111111111111111, \"#46039f\"], [0.2222222222222222, \"#7201a8\"], [0.3333333333333333, \"#9c179e\"], [0.4444444444444444, \"#bd3786\"], [0.5555555555555556, \"#d8576b\"], [0.6666666666666666, \"#ed7953\"], [0.7777777777777778, \"#fb9f3a\"], [0.8888888888888888, \"#fdca26\"], [1.0, \"#f0f921\"]]}, \"colorway\": [\"#636efa\", \"#EF553B\", \"#00cc96\", \"#ab63fa\", \"#FFA15A\", \"#19d3f3\", \"#FF6692\", \"#B6E880\", \"#FF97FF\", \"#FECB52\"], \"font\": {\"color\": \"#2a3f5f\"}, \"geo\": {\"bgcolor\": \"white\", \"lakecolor\": \"white\", \"landcolor\": \"#E5ECF6\", \"showlakes\": true, \"showland\": true, \"subunitcolor\": \"white\"}, \"hoverlabel\": {\"align\": \"left\"}, \"hovermode\": \"closest\", \"mapbox\": {\"style\": \"light\"}, \"paper_bgcolor\": \"white\", \"plot_bgcolor\": \"#E5ECF6\", \"polar\": {\"angularaxis\": {\"gridcolor\": \"white\", \"linecolor\": \"white\", \"ticks\": \"\"}, \"bgcolor\": \"#E5ECF6\", \"radialaxis\": {\"gridcolor\": \"white\", \"linecolor\": \"white\", \"ticks\": \"\"}}, \"scene\": {\"xaxis\": {\"backgroundcolor\": \"#E5ECF6\", \"gridcolor\": \"white\", \"gridwidth\": 2, \"linecolor\": \"white\", \"showbackground\": true, \"ticks\": \"\", \"zerolinecolor\": \"white\"}, \"yaxis\": {\"backgroundcolor\": \"#E5ECF6\", \"gridcolor\": \"white\", \"gridwidth\": 2, \"linecolor\": \"white\", \"showbackground\": true, \"ticks\": \"\", \"zerolinecolor\": \"white\"}, \"zaxis\": {\"backgroundcolor\": \"#E5ECF6\", \"gridcolor\": \"white\", \"gridwidth\": 2, \"linecolor\": \"white\", \"showbackground\": true, \"ticks\": \"\", \"zerolinecolor\": \"white\"}}, \"shapedefaults\": {\"line\": {\"color\": \"#2a3f5f\"}}, \"ternary\": {\"aaxis\": {\"gridcolor\": \"white\", \"linecolor\": \"white\", \"ticks\": \"\"}, \"baxis\": {\"gridcolor\": \"white\", \"linecolor\": \"white\", \"ticks\": \"\"}, \"bgcolor\": \"#E5ECF6\", \"caxis\": {\"gridcolor\": \"white\", \"linecolor\": \"white\", \"ticks\": \"\"}}, \"title\": {\"x\": 0.05}, \"xaxis\": {\"automargin\": true, \"gridcolor\": \"white\", \"linecolor\": \"white\", \"ticks\": \"\", \"title\": {\"standoff\": 15}, \"zerolinecolor\": \"white\", \"zerolinewidth\": 2}, \"yaxis\": {\"automargin\": true, \"gridcolor\": \"white\", \"linecolor\": \"white\", \"ticks\": \"\", \"title\": {\"standoff\": 15}, \"zerolinecolor\": \"white\", \"zerolinewidth\": 2}}}, \"width\": 1000},\n",
       "                        {\"responsive\": true}\n",
       "                    ).then(function(){\n",
       "                            \n",
       "var gd = document.getElementById('35fdadd8-646c-4b84-b9df-9ac7fcfce855');\n",
       "var x = new MutationObserver(function (mutations, observer) {{\n",
       "        var display = window.getComputedStyle(gd).display;\n",
       "        if (!display || display === 'none') {{\n",
       "            console.log([gd, 'removed!']);\n",
       "            Plotly.purge(gd);\n",
       "            observer.disconnect();\n",
       "        }}\n",
       "}});\n",
       "\n",
       "// Listen for the removal of the full notebook cells\n",
       "var notebookContainer = gd.closest('#notebook-container');\n",
       "if (notebookContainer) {{\n",
       "    x.observe(notebookContainer, {childList: true});\n",
       "}}\n",
       "\n",
       "// Listen for the clearing of the current output cell\n",
       "var outputEl = gd.closest('.output');\n",
       "if (outputEl) {{\n",
       "    x.observe(outputEl, {childList: true});\n",
       "}}\n",
       "\n",
       "                        })\n",
       "                };\n",
       "                });\n",
       "            </script>\n",
       "        </div>"
      ]
     },
     "metadata": {},
     "output_type": "display_data"
    }
   ],
   "source": [
    "select = pd.read_csv(빈분+'이혼-문화제외.csv',encoding='cp949')\n",
    "select.fillna(0)\n",
    "freqplot(select.loc[select.line==1])"
   ]
  },
  {
   "cell_type": "code",
   "execution_count": 116,
   "metadata": {
    "scrolled": false
   },
   "outputs": [],
   "source": [
    "#이혼, 연예제외\n",
    "# refinelist = dropnplot(plotdf, mainlist)"
   ]
  },
  {
   "cell_type": "code",
   "execution_count": 119,
   "metadata": {},
   "outputs": [
    {
     "data": {
      "text/plain": [
       "(-0.5, 1599.5, 1599.5, -0.5)"
      ]
     },
     "execution_count": 119,
     "metadata": {},
     "output_type": "execute_result"
    },
    {
     "data": {
      "image/png": "[encoded data removed]",
      "text/plain": [
       "<Figure size 576x576 with 1 Axes>"
      ]
     },
     "metadata": {
      "needs_background": "light"
     },
     "output_type": "display_data"
    }
   ],
   "source": [
    "#클라우드 그릴애들만 넣기\n",
    "text_noun = ' '.join(select.loc[select.cloud==1].voca)\n",
    "wordc = WordCloud(background_color='white',font_path='C:/Windows/Fonts/NanumSquareR.ttf', \n",
    "                  relative_scaling=0.5,\n",
    "                  width=1600, height=1600)\n",
    "wordc.generate(text_noun)\n",
    "plt.figure(figsize=(8,8))\n",
    "plt.imshow(wordc, interpolation = 'bilinear')\n",
    "plt.axis('off')"
   ]
  },
  {
   "cell_type": "markdown",
   "metadata": {},
   "source": [
    "# 연관분석"
   ]
  },
  {
   "cell_type": "code",
   "execution_count": 41,
   "metadata": {},
   "outputs": [
    {
     "name": "stdout",
     "output_type": "stream",
     "text": [
      "token: wordlist with 112words\n"
     ]
    }
   ],
   "source": [
    "#연관분석도 키워드열이 더 잘나옴\n",
    "# transaction_title = list2transaction(이혼뉴스.제목.tolist())\n",
    "# transaction_feature = series2transaction(이혼뉴스.특성추출)\n",
    "transaction_keyword = series2transaction(전체뉴스_필터단어.키워드)\n",
    "빈분 = 'C:/Users/COM/Desktop/빈도분석그래프/'"
   ]
  },
  {
   "cell_type": "code",
   "execution_count": 42,
   "metadata": {},
   "outputs": [],
   "source": [
    "from apyori import apriori\n",
    "rules = apriori(transaction_keyword, min_support=0.1, min_confidence=0.1)\n",
    "results= list(rules)"
   ]
  },
  {
   "cell_type": "code",
   "execution_count": 43,
   "metadata": {},
   "outputs": [],
   "source": [
    "result_df = pd.DataFrame(None, columns=['lhs','rhs','support','confidence','lift'])\n",
    "index=0\n",
    "for result in results:\n",
    "    support = result[1]\n",
    "    ordered_statistic = result[2]\n",
    "    for item in ordered_statistic:\n",
    "        lhs = ' '.join(x.strip() for x in item[0])\n",
    "        rhs = ' '.join(x.strip() for x in item[1])\n",
    "        confidence = item[2]\n",
    "        lift = item[3]\n",
    "        result_df.loc[index] = [lhs, rhs, support, confidence, lift]\n",
    "        index +=1\n",
    "result_df\n",
    "pd.DataFrame(result_df).to_csv(빈분+'이혼-연예제외-연관분석.csv',encoding='cp949',index=False)"
   ]
  },
  {
   "cell_type": "markdown",
   "metadata": {},
   "source": [
    "# 분류확인"
   ]
  },
  {
   "cell_type": "code",
   "execution_count": 38,
   "metadata": {
    "scrolled": false
   },
   "outputs": [
    {
     "data": {
      "text/plain": [
       "{'범죄>기업범죄>거래제한',\n",
       " '범죄>기업범죄>계약위반',\n",
       " '범죄>기업범죄>내부자거래',\n",
       " '범죄>기업범죄>반독점범죄',\n",
       " '범죄>기업범죄>횡령',\n",
       " '범죄>범죄일반>마약',\n",
       " '범죄>범죄일반>방화',\n",
       " '범죄>범죄일반>사기',\n",
       " '범죄>범죄일반>살인',\n",
       " '범죄>범죄일반>유괴/납치',\n",
       " '범죄>범죄일반>절도',\n",
       " '범죄>범죄일반>폭행',\n",
       " '범죄>성범죄>성매매',\n",
       " '범죄>성범죄>성추행',\n",
       " '범죄>성범죄>성폭행',\n",
       " '범죄>성범죄>성희롱',\n",
       " '범죄>성범죄>음란물',\n",
       " '범죄>정치>뇌물수수',\n",
       " '사고>교통사고>노상사고',\n",
       " '사고>교통사고>우주사고',\n",
       " '사고>교통사고>철도사고',\n",
       " '사고>교통사고>항공사고',\n",
       " '사고>교통사고>해상사고',\n",
       " '사고>산업사고>붕괴',\n",
       " '사고>산업사고>원자력사고',\n",
       " '사고>산업사고>폭발',\n",
       " '사고>산업사고>화재',\n",
       " '사회>사회갈등>대량학살',\n",
       " '사회>사회갈등>반란_혁명_폭동',\n",
       " '사회>사회갈등>시위',\n",
       " '사회>사회갈등>전쟁',\n",
       " '사회>사회갈등>테러행위',\n",
       " '사회>사회문제>노예',\n",
       " '사회>사회문제>미성년범죄',\n",
       " '사회>사회문제>자살',\n",
       " '사회>사회문제>중독',\n",
       " '사회>사회문제>학대',\n",
       " '재해>자연재해>가뭄',\n",
       " '재해>자연재해>눈사태_산사태',\n",
       " '재해>자연재해>지진',\n",
       " '재해>자연재해>태풍',\n",
       " '재해>자연재해>폭염',\n",
       " '재해>자연재해>해일',\n",
       " '재해>자연재해>홍수',\n",
       " '재해>자연재해>화산폭발'}"
      ]
     },
     "execution_count": 38,
     "metadata": {},
     "output_type": "execute_result"
    }
   ],
   "source": [
    "사건사고분류(이혼뉴스)\n",
    "# 3:7 범죄일반 성범죄>사회갈등 사회문제"
   ]
  },
  {
   "cell_type": "code",
   "execution_count": 39,
   "metadata": {
    "scrolled": false
   },
   "outputs": [
    {
     "data": {
      "text/plain": [
       "{'IT_과학>IT_과학일반',\n",
       " 'IT_과학>과학',\n",
       " 'IT_과학>모바일',\n",
       " 'IT_과학>보안',\n",
       " 'IT_과학>인터넷_SNS',\n",
       " 'IT_과학>콘텐츠',\n",
       " '경제>경제일반',\n",
       " '경제>국제경제',\n",
       " '경제>금융_재테크',\n",
       " '경제>무역',\n",
       " '경제>반도체',\n",
       " '경제>부동산',\n",
       " '경제>산업_기업',\n",
       " '경제>서비스_쇼핑',\n",
       " '경제>외환',\n",
       " '경제>유통',\n",
       " '경제>자동차',\n",
       " '경제>자원',\n",
       " '경제>증권_증시',\n",
       " '경제>취업_창업',\n",
       " '국제>국제일반',\n",
       " '국제>러시아',\n",
       " '국제>미국_북미',\n",
       " '국제>아시아',\n",
       " '국제>유럽_EU',\n",
       " '국제>일본',\n",
       " '국제>중국',\n",
       " '국제>중남미',\n",
       " '국제>중동_아프리카',\n",
       " '문화>문화일반',\n",
       " '문화>미술_건축',\n",
       " '문화>방송_연예',\n",
       " '문화>생활',\n",
       " '문화>영화',\n",
       " '문화>요리_여행',\n",
       " '문화>음악',\n",
       " '문화>전시_공연',\n",
       " '문화>종교',\n",
       " '문화>출판',\n",
       " '문화>학술_문화재',\n",
       " '미분류',\n",
       " '사회>교육_시험',\n",
       " '사회>날씨',\n",
       " '사회>노동_복지',\n",
       " '사회>미디어',\n",
       " '사회>사건_사고',\n",
       " '사회>사회일반',\n",
       " '사회>여성',\n",
       " '사회>의료_건강',\n",
       " '사회>장애인',\n",
       " '사회>환경',\n",
       " '스포츠>골프',\n",
       " '스포츠>농구_배구',\n",
       " '스포츠>스포츠일반',\n",
       " '스포츠>야구',\n",
       " '스포츠>야구>메이저리그',\n",
       " '스포츠>야구>일본프로야구',\n",
       " '스포츠>야구>한국프로야구',\n",
       " '스포츠>올림픽_아시안게임',\n",
       " '스포츠>월드컵',\n",
       " '스포츠>축구',\n",
       " '스포츠>축구>국가대표팀',\n",
       " '스포츠>축구>한국프로축구',\n",
       " '스포츠>축구>해외축구',\n",
       " '정치>국회_정당',\n",
       " '정치>북한',\n",
       " '정치>선거',\n",
       " '정치>외교',\n",
       " '정치>정치일반',\n",
       " '정치>청와대',\n",
       " '정치>행정_자치',\n",
       " '지역>강원',\n",
       " '지역>경기',\n",
       " '지역>경남',\n",
       " '지역>경북',\n",
       " '지역>광주',\n",
       " '지역>대구',\n",
       " '지역>대전',\n",
       " '지역>부산',\n",
       " '지역>울산',\n",
       " '지역>전남',\n",
       " '지역>전북',\n",
       " '지역>제주',\n",
       " '지역>지역일반',\n",
       " '지역>충남',\n",
       " '지역>충북'}"
      ]
     },
     "execution_count": 39,
     "metadata": {},
     "output_type": "execute_result"
    }
   ],
   "source": [
    "통합분류(이혼뉴스)"
   ]
  },
  {
   "cell_type": "code",
   "execution_count": 51,
   "metadata": {},
   "outputs": [
    {
     "ename": "AttributeError",
     "evalue": "'str' object has no attribute 'contains'",
     "output_type": "error",
     "traceback": [
      "\u001b[1;31m---------------------------------------------------------------------------\u001b[0m",
      "\u001b[1;31mAttributeError\u001b[0m                            Traceback (most recent call last)",
      "\u001b[1;32m<ipython-input-51-8d366273c1bd>\u001b[0m in \u001b[0;36m<module>\u001b[1;34m()\u001b[0m\n\u001b[0;32m      1\u001b[0m \u001b[1;32mfor\u001b[0m \u001b[0mstr\u001b[0m \u001b[1;32min\u001b[0m \u001b[0m전체뉴스_필터단어\u001b[0m\u001b[1;33m.\u001b[0m\u001b[0m키워드\u001b[0m\u001b[1;33m:\u001b[0m\u001b[1;33m\u001b[0m\u001b[0m\n\u001b[1;32m----> 2\u001b[1;33m     \u001b[0mstr\u001b[0m\u001b[1;33m.\u001b[0m\u001b[0mcontains\u001b[0m\u001b[1;33m(\u001b[0m\u001b[1;34m'가족'\u001b[0m\u001b[1;33m)\u001b[0m\u001b[1;33m\u001b[0m\u001b[0m\n\u001b[0m",
      "\u001b[1;31mAttributeError\u001b[0m: 'str' object has no attribute 'contains'"
     ]
    }
   ],
   "source": [
    "for str in 전체뉴스_필터단어.키워드:\n",
    "    str.contains('가족')"
   ]
  },
  {
   "cell_type": "code",
   "execution_count": null,
   "metadata": {},
   "outputs": [],
   "source": []
  }
 ],
 "metadata": {
  "kernelspec": {
   "display_name": "Python 3",
   "language": "python",
   "name": "python3"
  },
  "language_info": {
   "codemirror_mode": {
    "name": "ipython",
    "version": 3
   },
   "file_extension": ".py",
   "mimetype": "text/x-python",
   "name": "python",
   "nbconvert_exporter": "python",
   "pygments_lexer": "ipython3",
   "version": "3.6.4"
  }
 },
 "nbformat": 4,
 "nbformat_minor": 2
}
