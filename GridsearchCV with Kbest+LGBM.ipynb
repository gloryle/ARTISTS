{
 "cells": [
  {
   "cell_type": "code",
   "execution_count": 14,
   "metadata": {},
   "outputs": [],
   "source": [
    "#최적의 변수를 찾기 위한 KBest 함수 불러오기\n",
    "from sklearn.feature_selection import SelectKBest\n",
    "model_kbest = SelectKBest()\n",
    "\n",
    "#기본 LGBM모델 생성\n",
    "from lightgbm import LGBMClassifier\n",
    "model_lgmb= LGBMClassifier(n_estimators=100,random_state = 42)\n",
    "\n",
    "#파이프라인 구축\n",
    "from sklearn.pipeline import Pipeline\n",
    "pipe = Pipeline([(\"kbest\", model_kbest),('lgbm',model_lgmb)]) "
   ]
  },
  {
   "cell_type": "code",
   "execution_count": 15,
   "metadata": {},
   "outputs": [],
   "source": [
    "#파라미터 생성\n",
    "params = {\"kbest__k\":[50],\n",
    "          \"lgbm__max_depth\": [15,20,25],\n",
    "         \"lgbm__learning_rate\": [0.05],\n",
    "         \"lgbm__num_leaves\": [15,20,25],\n",
    "         \"lgbm__n_estimators\": [300,400,500],\n",
    "         \"lgbm__random_state\": [42]}"
   ]
  },
  {
   "cell_type": "code",
   "execution_count": 16,
   "metadata": {},
   "outputs": [],
   "source": [
    "#최적의 파라미터 탐색\n",
    "from sklearn.model_selection import GridSearchCV\n",
    "grid_search = GridSearchCV(pipe, param_grid = params,\n",
    "                          cv=5, n_jobs=-1, verbose=10)"
   ]
  },
  {
   "cell_type": "code",
   "execution_count": null,
   "metadata": {},
   "outputs": [],
   "source": []
  }
 ],
 "metadata": {
  "kernelspec": {
   "display_name": "Python 3",
   "language": "python",
   "name": "python3"
  },
  "language_info": {
   "codemirror_mode": {
    "name": "ipython",
    "version": 3
   },
   "file_extension": ".py",
   "mimetype": "text/x-python",
   "name": "python",
   "nbconvert_exporter": "python",
   "pygments_lexer": "ipython3",
   "version": "3.6.4"
  }
 },
 "nbformat": 4,
 "nbformat_minor": 2
}
