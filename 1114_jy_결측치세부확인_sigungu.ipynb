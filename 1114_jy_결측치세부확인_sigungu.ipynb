{
 "cells": [
  {
   "cell_type": "code",
   "execution_count": 1,
   "metadata": {},
   "outputs": [],
   "source": [
    "import pandas as pd\n",
    "import seaborn as sns\n",
    "path = './data/'\n",
    "import matplotlib.pyplot as plt\n",
    "%matplotlib inline\n",
    "plt.rc('font',family='Malgun Gothic')\n",
    "plt.rcParams['axes.unicode_minus'] = False\n",
    "pd.options.display.max_columns = 350\n",
    "pd.options.display.max_rows = 999"
   ]
  },
  {
   "cell_type": "code",
   "execution_count": 2,
   "metadata": {},
   "outputs": [],
   "source": [
    "sigungu = pd.read_csv(path+'시군구별지역안전지표_2015.csv', encoding='cp949')\n",
    "sigungu_y= sigungu.iloc[:,-7:]\n",
    "sigungu_x= sigungu.iloc[:,4:-7]\n",
    "sigungu_name = sigungu.iloc[:,:4]"
   ]
  },
  {
   "cell_type": "code",
   "execution_count": 3,
   "metadata": {},
   "outputs": [],
   "source": [
    "sigungu_w = pd.read_csv(path+'sigungu_wide.csv', encoding='cp949')"
   ]
  },
  {
   "cell_type": "code",
   "execution_count": 4,
   "metadata": {},
   "outputs": [],
   "source": [
    "column = ''\n",
    "def find_nan(column=column, sigungu_w=sigungu_w):\n",
    "    df = sigungu_w.loc[(sigungu_w.년도==2015),['년도','시도','시군구','지역',column]]\n",
    "    return df\n",
    "def find_trend(sigungu, column=column, sigungu_w=sigungu_w):\n",
    "    df2 = sigungu_w.loc[sigungu_w.시군구==sigungu,['년도','시도','시군구','지역',column]]\n",
    "    return df2\n",
    "# def find_trend_sido(sigungu, column=column, sigungu_w=sigungu_w):\n",
    "#     df2 = sigungu_w.loc[sigungu_w.==sido,['년도','시도','시군구','지역',column]]\n",
    "#     return df2\n",
    "def draw_graph(column=column):\n",
    "    fig,ax = plt.subplots(ncols=2,figsize=(8,2))\n",
    "    sns.distplot(find_nan(column)[column].dropna(), ax=ax[0])\n",
    "    sns.boxplot(x=find_nan(column)[column], data=find_nan(column), ax=ax[1])\n",
    "def draw_graph_trend(sigungu, column=column):\n",
    "    fig,ax = plt.subplots(ncols=2,figsize=(8,2))\n",
    "    sns.distplot(find_trend(sigungu,column)[column].dropna(), ax=ax[0])\n",
    "    sns.boxplot(x=find_trend(sigungu,column)[column], data=find_trend(sigungu,column), ax=ax[1])"
   ]
  },
  {
   "cell_type": "code",
   "execution_count": 5,
   "metadata": {},
   "outputs": [],
   "source": [
    "def mean_score(columns,*r):\n",
    "    a = 0\n",
    "    b = len(r)\n",
    "    for reg in r:\n",
    "        a += (sido_wide.loc[sido_wide[\"지역\"]==reg,columns].values)\n",
    "    c = a/b\n",
    "    return float(c)"
   ]
  },
  {
   "cell_type": "code",
   "execution_count": 6,
   "metadata": {},
   "outputs": [],
   "source": [
    "# 함수로 안 짰을 때 예시\n",
    "# column='교통사고사망자수(고속도로)'\n",
    "# sigungu_w.loc[(sigungu_w.년도==2015),['년도','시도','지역','교통사고사망자수(고속도로)']]\n",
    "# sigungu_w.loc[sigungu_w.시도=='제주특별자치도',['년도','시도','지역','교통사고사망자수(고속도로)']]"
   ]
  },
  {
   "cell_type": "code",
   "execution_count": 7,
   "metadata": {},
   "outputs": [
    {
     "data": {
      "text/html": [
       "<div>\n",
       "<style scoped>\n",
       "    .dataframe tbody tr th:only-of-type {\n",
       "        vertical-align: middle;\n",
       "    }\n",
       "\n",
       "    .dataframe tbody tr th {\n",
       "        vertical-align: top;\n",
       "    }\n",
       "\n",
       "    .dataframe thead th {\n",
       "        text-align: right;\n",
       "    }\n",
       "</style>\n",
       "<table border=\"1\" class=\"dataframe\">\n",
       "  <thead>\n",
       "    <tr style=\"text-align: right;\">\n",
       "      <th></th>\n",
       "      <th>년도</th>\n",
       "      <th>시도</th>\n",
       "      <th>시군구</th>\n",
       "      <th>지역</th>\n",
       "      <th>교통문화지수</th>\n",
       "    </tr>\n",
       "  </thead>\n",
       "  <tbody>\n",
       "    <tr>\n",
       "      <td>69</td>\n",
       "      <td>2008</td>\n",
       "      <td>경상북도</td>\n",
       "      <td>고령군</td>\n",
       "      <td>2008_경상북도_고령군</td>\n",
       "      <td>NaN</td>\n",
       "    </tr>\n",
       "    <tr>\n",
       "      <td>299</td>\n",
       "      <td>2009</td>\n",
       "      <td>경상북도</td>\n",
       "      <td>고령군</td>\n",
       "      <td>2009_경상북도_고령군</td>\n",
       "      <td>68.21</td>\n",
       "    </tr>\n",
       "    <tr>\n",
       "      <td>529</td>\n",
       "      <td>2010</td>\n",
       "      <td>경상북도</td>\n",
       "      <td>고령군</td>\n",
       "      <td>2010_경상북도_고령군</td>\n",
       "      <td>65.64</td>\n",
       "    </tr>\n",
       "    <tr>\n",
       "      <td>759</td>\n",
       "      <td>2011</td>\n",
       "      <td>경상북도</td>\n",
       "      <td>고령군</td>\n",
       "      <td>2011_경상북도_고령군</td>\n",
       "      <td>67.25</td>\n",
       "    </tr>\n",
       "    <tr>\n",
       "      <td>989</td>\n",
       "      <td>2012</td>\n",
       "      <td>경상북도</td>\n",
       "      <td>고령군</td>\n",
       "      <td>2012_경상북도_고령군</td>\n",
       "      <td>54.27</td>\n",
       "    </tr>\n",
       "    <tr>\n",
       "      <td>1219</td>\n",
       "      <td>2013</td>\n",
       "      <td>경상북도</td>\n",
       "      <td>고령군</td>\n",
       "      <td>2013_경상북도_고령군</td>\n",
       "      <td>63.98</td>\n",
       "    </tr>\n",
       "    <tr>\n",
       "      <td>1449</td>\n",
       "      <td>2014</td>\n",
       "      <td>경상북도</td>\n",
       "      <td>고령군</td>\n",
       "      <td>2014_경상북도_고령군</td>\n",
       "      <td>51.66</td>\n",
       "    </tr>\n",
       "    <tr>\n",
       "      <td>1679</td>\n",
       "      <td>2015</td>\n",
       "      <td>경상북도</td>\n",
       "      <td>고령군</td>\n",
       "      <td>2015_경상북도_고령군</td>\n",
       "      <td>NaN</td>\n",
       "    </tr>\n",
       "  </tbody>\n",
       "</table>\n",
       "</div>"
      ],
      "text/plain": [
       "        년도    시도  시군구             지역  교통문화지수\n",
       "69    2008  경상북도  고령군  2008_경상북도_고령군     NaN\n",
       "299   2009  경상북도  고령군  2009_경상북도_고령군   68.21\n",
       "529   2010  경상북도  고령군  2010_경상북도_고령군   65.64\n",
       "759   2011  경상북도  고령군  2011_경상북도_고령군   67.25\n",
       "989   2012  경상북도  고령군  2012_경상북도_고령군   54.27\n",
       "1219  2013  경상북도  고령군  2013_경상북도_고령군   63.98\n",
       "1449  2014  경상북도  고령군  2014_경상북도_고령군   51.66\n",
       "1679  2015  경상북도  고령군  2015_경상북도_고령군     NaN"
      ]
     },
     "execution_count": 7,
     "metadata": {},
     "output_type": "execute_result"
    }
   ],
   "source": [
    "#교통문화지수\n",
    "column= '교통문화지수'\n",
    "find_nan(column).loc[find_nan(column).교통문화지수.isnull()==True]\n",
    "find_trend('고령군',column)"
   ]
  },
  {
   "cell_type": "code",
   "execution_count": null,
   "metadata": {},
   "outputs": [],
   "source": []
  },
  {
   "cell_type": "code",
   "execution_count": null,
   "metadata": {},
   "outputs": [],
   "source": []
  },
  {
   "cell_type": "code",
   "execution_count": null,
   "metadata": {},
   "outputs": [],
   "source": []
  }
 ],
 "metadata": {
  "kernelspec": {
   "display_name": "Python 3",
   "language": "python",
   "name": "python3"
  },
  "language_info": {
   "codemirror_mode": {
    "name": "ipython",
    "version": 3
   },
   "file_extension": ".py",
   "mimetype": "text/x-python",
   "name": "python",
   "nbconvert_exporter": "python",
   "pygments_lexer": "ipython3",
   "version": "3.6.4"
  }
 },
 "nbformat": 4,
 "nbformat_minor": 2
}
